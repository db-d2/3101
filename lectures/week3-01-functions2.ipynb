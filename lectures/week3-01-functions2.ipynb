{
 "cells": [
  {
   "cell_type": "markdown",
   "metadata": {},
   "source": [
    "# More about functions"
   ]
  },
  {
   "cell_type": "markdown",
   "metadata": {},
   "source": [
    "# Function overloading\n",
    "- Python does not have 'overloaded' functions, like C++/Java\n",
    "- in those languages, can do\n",
    "\n",
    "void foo(float f) {  // do float thing }\n",
    "\n",
    "void foo(string s) ( // do string thing }\n",
    "\n",
    "- no argument types in Python, can't tell the two foo's apart, so no overloading in Python\n",
    "- but, can do something similiar with run time typing"
   ]
  },
  {
   "cell_type": "code",
   "execution_count": 1,
   "metadata": {},
   "outputs": [],
   "source": [
    "def foo(arg): \n",
    "    if isinstance(arg, (int, float)): \n",
    "        print(f'do int or float operation on {arg}')\n",
    "    elif isinstance(arg, str):\n",
    "        print(f'do string operation on {arg}')\n",
    "    else:\n",
    "        raise ValueError(f\"Arg {arg} was not a number or string.\")"
   ]
  },
  {
   "cell_type": "code",
   "execution_count": 2,
   "metadata": {},
   "outputs": [
    {
     "name": "stdout",
     "output_type": "stream",
     "text": [
      "do int or float operation on 34.4\n",
      "do int or float operation on 234\n",
      "do string operation on foobar\n"
     ]
    },
    {
     "ename": "ValueError",
     "evalue": "Arg [3, 4] was not a number or string.",
     "output_type": "error",
     "traceback": [
      "\u001b[0;31m---------------------------------------------------------------------------\u001b[0m",
      "\u001b[0;31mValueError\u001b[0m                                Traceback (most recent call last)",
      "\u001b[0;32m<ipython-input-2-354a53254337>\u001b[0m in \u001b[0;36m<module>\u001b[0;34m\u001b[0m\n\u001b[1;32m      2\u001b[0m \u001b[0mfoo\u001b[0m\u001b[0;34m(\u001b[0m\u001b[0;36m234\u001b[0m\u001b[0;34m)\u001b[0m\u001b[0;34m\u001b[0m\u001b[0;34m\u001b[0m\u001b[0m\n\u001b[1;32m      3\u001b[0m \u001b[0mfoo\u001b[0m\u001b[0;34m(\u001b[0m\u001b[0;34m'foobar'\u001b[0m\u001b[0;34m)\u001b[0m\u001b[0;34m\u001b[0m\u001b[0;34m\u001b[0m\u001b[0m\n\u001b[0;32m----> 4\u001b[0;31m \u001b[0mfoo\u001b[0m\u001b[0;34m(\u001b[0m\u001b[0;34m[\u001b[0m\u001b[0;36m3\u001b[0m\u001b[0;34m,\u001b[0m\u001b[0;36m4\u001b[0m\u001b[0;34m]\u001b[0m\u001b[0;34m)\u001b[0m\u001b[0;34m\u001b[0m\u001b[0;34m\u001b[0m\u001b[0m\n\u001b[0m",
      "\u001b[0;32m<ipython-input-1-920b6a66a1f3>\u001b[0m in \u001b[0;36mfoo\u001b[0;34m(arg)\u001b[0m\n\u001b[1;32m      5\u001b[0m         \u001b[0mprint\u001b[0m\u001b[0;34m(\u001b[0m\u001b[0;34mf'do string operation on {arg}'\u001b[0m\u001b[0;34m)\u001b[0m\u001b[0;34m\u001b[0m\u001b[0;34m\u001b[0m\u001b[0m\n\u001b[1;32m      6\u001b[0m     \u001b[0;32melse\u001b[0m\u001b[0;34m:\u001b[0m\u001b[0;34m\u001b[0m\u001b[0;34m\u001b[0m\u001b[0m\n\u001b[0;32m----> 7\u001b[0;31m         \u001b[0;32mraise\u001b[0m \u001b[0mValueError\u001b[0m\u001b[0;34m(\u001b[0m\u001b[0;34mf\"Arg {arg} was not a number or string.\"\u001b[0m\u001b[0;34m)\u001b[0m\u001b[0;34m\u001b[0m\u001b[0;34m\u001b[0m\u001b[0m\n\u001b[0m",
      "\u001b[0;31mValueError\u001b[0m: Arg [3, 4] was not a number or string."
     ]
    }
   ],
   "source": [
    "foo(34.4)\n",
    "foo(234)\n",
    "foo('foobar')\n",
    "foo([3,4])"
   ]
  },
  {
   "cell_type": "markdown",
   "metadata": {},
   "source": [
    "# Function definitions can specify complex argument processing\n",
    "- A pattern matching scheme - many possibilities\n",
    "- Downside - makes function calls more expensive\n",
    "- Two arg types\n",
    "    - positional - must always be supplied\n",
    "    - keyword - can be omitted, with default values can be specified\n",
    "- Args can be matched or collected"
   ]
  },
  {
   "cell_type": "code",
   "execution_count": 3,
   "metadata": {},
   "outputs": [
    {
     "data": {
      "text/plain": [
       "(1, 2, 3)"
      ]
     },
     "execution_count": 3,
     "metadata": {},
     "output_type": "execute_result"
    }
   ],
   "source": [
    "# three required positional(0,1,2) args\n",
    "\n",
    "def a3(a,b,c):\n",
    "    return (a,b,c)\n",
    "\n",
    "a3(1,2,3)"
   ]
  },
  {
   "cell_type": "code",
   "execution_count": 4,
   "metadata": {},
   "outputs": [
    {
     "ename": "TypeError",
     "evalue": "a3() missing 1 required positional argument: 'c'",
     "output_type": "error",
     "traceback": [
      "\u001b[0;31m---------------------------------------------------------------------------\u001b[0m",
      "\u001b[0;31mTypeError\u001b[0m                                 Traceback (most recent call last)",
      "\u001b[0;32m<ipython-input-4-edab1c5e123f>\u001b[0m in \u001b[0;36m<module>\u001b[0;34m\u001b[0m\n\u001b[1;32m      2\u001b[0m \u001b[0;31m# all three must be matched\u001b[0m\u001b[0;34m\u001b[0m\u001b[0;34m\u001b[0m\u001b[0;34m\u001b[0m\u001b[0m\n\u001b[1;32m      3\u001b[0m \u001b[0;34m\u001b[0m\u001b[0m\n\u001b[0;32m----> 4\u001b[0;31m \u001b[0ma3\u001b[0m\u001b[0;34m(\u001b[0m\u001b[0;36m1\u001b[0m\u001b[0;34m,\u001b[0m\u001b[0;36m2\u001b[0m\u001b[0;34m)\u001b[0m\u001b[0;34m\u001b[0m\u001b[0;34m\u001b[0m\u001b[0m\n\u001b[0m",
      "\u001b[0;31mTypeError\u001b[0m: a3() missing 1 required positional argument: 'c'"
     ]
    }
   ],
   "source": [
    "# only two args is an error\n",
    "# all three must be matched\n",
    "\n",
    "a3(1,2)"
   ]
  },
  {
   "cell_type": "code",
   "execution_count": 5,
   "metadata": {},
   "outputs": [
    {
     "data": {
      "text/plain": [
       "((1, 2, 3), (1, 3, 2), (2, 8, 5))"
      ]
     },
     "execution_count": 5,
     "metadata": {},
     "output_type": "execute_result"
    }
   ],
   "source": [
    "# by using 'keyword args' (a=2), \n",
    "# can supply the args in arbitrary order\n",
    "\n",
    "a3(1,2,3), a3(1, c=2, b=3), a3(c=5, a=2, b=8)"
   ]
  },
  {
   "cell_type": "code",
   "execution_count": 6,
   "metadata": {},
   "outputs": [
    {
     "data": {
      "text/plain": [
       "([2, 3, 4], [2, 3, 22], [2, 3, 22], [2, 3, 9])"
      ]
     },
     "execution_count": 6,
     "metadata": {},
     "output_type": "execute_result"
    }
   ],
   "source": [
    "# if an arg is not supplied, a default value can be specified \n",
    "\n",
    "def a3(a, b, c=22):\n",
    "    return([a,b,c])\n",
    "\n",
    "a3(2,3,4), a3(2,3), a3(b=3,a=2), a3(b=3,c=9,a=2)"
   ]
  },
  {
   "cell_type": "code",
   "execution_count": 7,
   "metadata": {},
   "outputs": [
    {
     "ename": "TypeError",
     "evalue": "a3() missing 1 required positional argument: 'b'",
     "output_type": "error",
     "traceback": [
      "\u001b[0;31m---------------------------------------------------------------------------\u001b[0m",
      "\u001b[0;31mTypeError\u001b[0m                                 Traceback (most recent call last)",
      "\u001b[0;32m<ipython-input-7-bcae041b5730>\u001b[0m in \u001b[0;36m<module>\u001b[0;34m\u001b[0m\n\u001b[1;32m      1\u001b[0m \u001b[0;31m# b is positional, so must get a value\u001b[0m\u001b[0;34m\u001b[0m\u001b[0;34m\u001b[0m\u001b[0;34m\u001b[0m\u001b[0m\n\u001b[1;32m      2\u001b[0m \u001b[0;34m\u001b[0m\u001b[0m\n\u001b[0;32m----> 3\u001b[0;31m \u001b[0ma3\u001b[0m\u001b[0;34m(\u001b[0m\u001b[0mc\u001b[0m\u001b[0;34m=\u001b[0m\u001b[0;36m5\u001b[0m\u001b[0;34m,\u001b[0m \u001b[0ma\u001b[0m\u001b[0;34m=\u001b[0m\u001b[0;36m3\u001b[0m\u001b[0;34m)\u001b[0m\u001b[0;34m\u001b[0m\u001b[0;34m\u001b[0m\u001b[0m\n\u001b[0m",
      "\u001b[0;31mTypeError\u001b[0m: a3() missing 1 required positional argument: 'b'"
     ]
    }
   ],
   "source": [
    "# b is positional, so must get a value\n",
    "\n",
    "a3(c=5, a=3)"
   ]
  },
  {
   "cell_type": "code",
   "execution_count": 8,
   "metadata": {},
   "outputs": [
    {
     "data": {
      "text/plain": [
       "[1, 2, 3, (4, 5, 6), {'foo': 5, 'bar': 9}]"
      ]
     },
     "execution_count": 8,
     "metadata": {},
     "output_type": "execute_result"
    }
   ],
   "source": [
    "# can pick up any number of 'unclaimed' \n",
    "# positional and keyword args\n",
    "# pos is a tuple\n",
    "# kws is a dictionary\n",
    "# all positional args must come before \n",
    "# any keyword args\n",
    "\n",
    "def pk(a, b, c=5, *pos, **kws):\n",
    "    return([a, b, c, pos, kws])\n",
    "\n",
    "pk(1,2,3,4,5,6, foo=5, bar=9)"
   ]
  },
  {
   "cell_type": "markdown",
   "metadata": {},
   "source": [
    "# For clarity, can force args to be specified with keywords\n",
    "- args following a '*' must be keywords\n",
    "- some function have a large number of args, and typically only a few of them are specified in a given call"
   ]
  },
  {
   "cell_type": "code",
   "execution_count": 9,
   "metadata": {},
   "outputs": [
    {
     "ename": "TypeError",
     "evalue": "foo() takes 1 positional argument but 3 were given",
     "output_type": "error",
     "traceback": [
      "\u001b[0;31m---------------------------------------------------------------------------\u001b[0m",
      "\u001b[0;31mTypeError\u001b[0m                                 Traceback (most recent call last)",
      "\u001b[0;32m<ipython-input-9-86ffdc94ad6b>\u001b[0m in \u001b[0;36m<module>\u001b[0;34m\u001b[0m\n\u001b[1;32m      2\u001b[0m     \u001b[0;32mreturn\u001b[0m \u001b[0;36m2\u001b[0m\u001b[0;34m*\u001b[0m\u001b[0ma\u001b[0m \u001b[0;34m+\u001b[0m \u001b[0;36m3\u001b[0m\u001b[0;34m*\u001b[0m\u001b[0mb\u001b[0m \u001b[0;34m+\u001b[0m \u001b[0;36m4\u001b[0m \u001b[0;34m*\u001b[0m \u001b[0mc\u001b[0m\u001b[0;34m\u001b[0m\u001b[0;34m\u001b[0m\u001b[0m\n\u001b[1;32m      3\u001b[0m \u001b[0;34m\u001b[0m\u001b[0m\n\u001b[0;32m----> 4\u001b[0;31m \u001b[0mfoo\u001b[0m\u001b[0;34m(\u001b[0m\u001b[0;36m3\u001b[0m\u001b[0;34m,\u001b[0m\u001b[0;36m5\u001b[0m\u001b[0;34m,\u001b[0m \u001b[0;36m6\u001b[0m\u001b[0;34m)\u001b[0m\u001b[0;34m\u001b[0m\u001b[0;34m\u001b[0m\u001b[0m\n\u001b[0m",
      "\u001b[0;31mTypeError\u001b[0m: foo() takes 1 positional argument but 3 were given"
     ]
    }
   ],
   "source": [
    "def foo(a,*, b, c):\n",
    "    return 2*a + 3*b + 4 * c\n",
    "\n",
    "foo(3,5, 6)"
   ]
  },
  {
   "cell_type": "code",
   "execution_count": 10,
   "metadata": {},
   "outputs": [
    {
     "data": {
      "text/plain": [
       "848"
      ]
     },
     "execution_count": 10,
     "metadata": {},
     "output_type": "execute_result"
    }
   ],
   "source": [
    "foo(5, c=34, b=234)"
   ]
  },
  {
   "cell_type": "markdown",
   "metadata": {},
   "source": [
    "# Example: print function has keyword args\n",
    "- can see keywords with shift-tab"
   ]
  },
  {
   "cell_type": "code",
   "execution_count": 11,
   "metadata": {},
   "outputs": [
    {
     "name": "stdout",
     "output_type": "stream",
     "text": [
      "1 2 3 4\n"
     ]
    }
   ],
   "source": [
    "print(1,2,3,4)"
   ]
  },
  {
   "cell_type": "code",
   "execution_count": 12,
   "metadata": {},
   "outputs": [
    {
     "name": "stdout",
     "output_type": "stream",
     "text": [
      "1--2--3--4\n"
     ]
    }
   ],
   "source": [
    "print(1,2,3,4, sep='--')"
   ]
  },
  {
   "cell_type": "code",
   "execution_count": 13,
   "metadata": {},
   "outputs": [
    {
     "name": "stdout",
     "output_type": "stream",
     "text": [
      "1||2||3||4\n",
      "EOF\n"
     ]
    }
   ],
   "source": [
    "# finish print with EOF\n",
    "\n",
    "print(1,2,3,4,end='\\nEOF\\n', sep='||')"
   ]
  },
  {
   "cell_type": "markdown",
   "metadata": {},
   "source": [
    "# Example: discriminate on number of args\n",
    "- in C++/Java\n",
    "\n",
    "void foo(float f) { // do one arg thing }\n",
    "\n",
    "void foo(float f, float f2) ( // do two arg thing }\n"
   ]
  },
  {
   "cell_type": "code",
   "execution_count": 14,
   "metadata": {},
   "outputs": [],
   "source": [
    "def onetwo(*pos):\n",
    "    ln = len(pos)\n",
    "    if ln == 1:\n",
    "        a = pos[0]\n",
    "        print(f'do one arg operation with {a}')\n",
    "    elif ln == 2:\n",
    "        [a,b] = pos\n",
    "        print(f'do two arg operation with {a} and {b}')\n",
    "    else:\n",
    "        print(f'bad number of args: {ln}')\n"
   ]
  },
  {
   "cell_type": "code",
   "execution_count": 15,
   "metadata": {},
   "outputs": [
    {
     "name": "stdout",
     "output_type": "stream",
     "text": [
      "do one arg operation with 1\n"
     ]
    }
   ],
   "source": [
    "onetwo(1)"
   ]
  },
  {
   "cell_type": "code",
   "execution_count": 16,
   "metadata": {},
   "outputs": [
    {
     "name": "stdout",
     "output_type": "stream",
     "text": [
      "do two arg operation with 1 and 2\n"
     ]
    }
   ],
   "source": [
    "onetwo(1,2)"
   ]
  },
  {
   "cell_type": "code",
   "execution_count": 17,
   "metadata": {},
   "outputs": [
    {
     "name": "stdout",
     "output_type": "stream",
     "text": [
      "bad number of args: 4\n"
     ]
    }
   ],
   "source": [
    "onetwo(1,2,3,4)"
   ]
  },
  {
   "cell_type": "markdown",
   "metadata": {},
   "source": [
    "# Function caller can manipulate how arguments are passed"
   ]
  },
  {
   "cell_type": "code",
   "execution_count": 18,
   "metadata": {},
   "outputs": [
    {
     "data": {
      "text/plain": [
       "[1, 2, 3]"
      ]
     },
     "execution_count": 18,
     "metadata": {},
     "output_type": "execute_result"
    }
   ],
   "source": [
    "# use each element of lst as an arg to foo\n",
    "# tedious\n",
    "\n",
    "def foo(a,b,c):\n",
    "    return([a,b,c])\n",
    "\n",
    "lst = [1,2,3]\n",
    "\n",
    "foo(lst[0],lst[1],lst[2])\n"
   ]
  },
  {
   "cell_type": "code",
   "execution_count": 19,
   "metadata": {},
   "outputs": [
    {
     "data": {
      "text/plain": [
       "[1, 2, 3]"
      ]
     },
     "execution_count": 19,
     "metadata": {},
     "output_type": "execute_result"
    }
   ],
   "source": [
    "# '*' 'spreads' a list or tuple over the positional args\n",
    "# much nicer than above\n",
    "\n",
    "foo(*lst)"
   ]
  },
  {
   "cell_type": "code",
   "execution_count": 20,
   "metadata": {},
   "outputs": [
    {
     "data": {
      "text/plain": [
       "[34, 64, 8998]"
      ]
     },
     "execution_count": 20,
     "metadata": {},
     "output_type": "execute_result"
    }
   ],
   "source": [
    "# can \"spread\" a dictionary with '**'\n",
    "\n",
    "d = {'a':34, 'b':64, 'c':8998}\n",
    "foo(**d)"
   ]
  },
  {
   "cell_type": "code",
   "execution_count": 21,
   "metadata": {},
   "outputs": [
    {
     "data": {
      "text/plain": [
       "(0, (1, 2, 3, 4), 'compsci', {'butler': 'library', 'low': 'steps'})"
      ]
     },
     "execution_count": 21,
     "metadata": {},
     "output_type": "execute_result"
    }
   ],
   "source": [
    "# can spread in positional and keywords together\n",
    "# '*pos' gets the positional args\n",
    "# '**kw' get the keyword args in a dictionary\n",
    "\n",
    "def bar(a, *pos, mudd=34, **kw):\n",
    "    return(a, pos, mudd, kw)\n",
    "\n",
    "d = {'mudd':'compsci', 'butler':'library', 'low':'steps'}\n",
    "bar(*range(5), **d)"
   ]
  },
  {
   "cell_type": "markdown",
   "metadata": {},
   "source": [
    "# Top level builtin functions\n",
    "- [doc for all the builtins](https://docs.python.org/3.5/library/functions.html)"
   ]
  },
  {
   "cell_type": "markdown",
   "metadata": {},
   "source": [
    "# All builtins\n",
    "- functions\n",
    "- classes\n",
    "- a few other random things\n",
    "- do NOT redefine any of them"
   ]
  },
  {
   "cell_type": "code",
   "execution_count": 22,
   "metadata": {},
   "outputs": [
    {
     "data": {
      "text/plain": [
       "['ArithmeticError',\n",
       " 'AssertionError',\n",
       " 'AttributeError',\n",
       " 'BaseException',\n",
       " 'BlockingIOError',\n",
       " 'BrokenPipeError',\n",
       " 'BufferError',\n",
       " 'BytesWarning',\n",
       " 'ChildProcessError',\n",
       " 'ConnectionAbortedError',\n",
       " 'ConnectionError',\n",
       " 'ConnectionRefusedError',\n",
       " 'ConnectionResetError',\n",
       " 'DeprecationWarning',\n",
       " 'EOFError',\n",
       " 'Ellipsis',\n",
       " 'EnvironmentError',\n",
       " 'Exception',\n",
       " 'False',\n",
       " 'FileExistsError',\n",
       " 'FileNotFoundError',\n",
       " 'FloatingPointError',\n",
       " 'FutureWarning',\n",
       " 'GeneratorExit',\n",
       " 'IOError',\n",
       " 'ImportError',\n",
       " 'ImportWarning',\n",
       " 'IndentationError',\n",
       " 'IndexError',\n",
       " 'InterruptedError',\n",
       " 'IsADirectoryError',\n",
       " 'KeyError',\n",
       " 'KeyboardInterrupt',\n",
       " 'LookupError',\n",
       " 'MemoryError',\n",
       " 'ModuleNotFoundError',\n",
       " 'NameError',\n",
       " 'None',\n",
       " 'NotADirectoryError',\n",
       " 'NotImplemented',\n",
       " 'NotImplementedError',\n",
       " 'OSError',\n",
       " 'OverflowError',\n",
       " 'PendingDeprecationWarning',\n",
       " 'PermissionError',\n",
       " 'ProcessLookupError',\n",
       " 'RecursionError',\n",
       " 'ReferenceError',\n",
       " 'ResourceWarning',\n",
       " 'RuntimeError',\n",
       " 'RuntimeWarning',\n",
       " 'StopAsyncIteration',\n",
       " 'StopIteration',\n",
       " 'SyntaxError',\n",
       " 'SyntaxWarning',\n",
       " 'SystemError',\n",
       " 'SystemExit',\n",
       " 'TabError',\n",
       " 'TimeoutError',\n",
       " 'True',\n",
       " 'TypeError',\n",
       " 'UnboundLocalError',\n",
       " 'UnicodeDecodeError',\n",
       " 'UnicodeEncodeError',\n",
       " 'UnicodeError',\n",
       " 'UnicodeTranslateError',\n",
       " 'UnicodeWarning',\n",
       " 'UserWarning',\n",
       " 'ValueError',\n",
       " 'Warning',\n",
       " 'ZeroDivisionError',\n",
       " '__IPYTHON__',\n",
       " '__build_class__',\n",
       " '__debug__',\n",
       " '__doc__',\n",
       " '__import__',\n",
       " '__loader__',\n",
       " '__name__',\n",
       " '__package__',\n",
       " '__spec__',\n",
       " 'abs',\n",
       " 'all',\n",
       " 'any',\n",
       " 'ascii',\n",
       " 'bin',\n",
       " 'bool',\n",
       " 'breakpoint',\n",
       " 'bytearray',\n",
       " 'bytes',\n",
       " 'callable',\n",
       " 'chr',\n",
       " 'classmethod',\n",
       " 'compile',\n",
       " 'complex',\n",
       " 'copyright',\n",
       " 'credits',\n",
       " 'delattr',\n",
       " 'dict',\n",
       " 'dir',\n",
       " 'display',\n",
       " 'divmod',\n",
       " 'enumerate',\n",
       " 'eval',\n",
       " 'exec',\n",
       " 'filter',\n",
       " 'float',\n",
       " 'format',\n",
       " 'frozenset',\n",
       " 'get_ipython',\n",
       " 'getattr',\n",
       " 'globals',\n",
       " 'hasattr',\n",
       " 'hash',\n",
       " 'help',\n",
       " 'hex',\n",
       " 'id',\n",
       " 'input',\n",
       " 'int',\n",
       " 'isinstance',\n",
       " 'issubclass',\n",
       " 'iter',\n",
       " 'len',\n",
       " 'license',\n",
       " 'list',\n",
       " 'locals',\n",
       " 'map',\n",
       " 'max',\n",
       " 'memoryview',\n",
       " 'min',\n",
       " 'next',\n",
       " 'object',\n",
       " 'oct',\n",
       " 'open',\n",
       " 'ord',\n",
       " 'pow',\n",
       " 'print',\n",
       " 'property',\n",
       " 'range',\n",
       " 'repr',\n",
       " 'reversed',\n",
       " 'round',\n",
       " 'set',\n",
       " 'setattr',\n",
       " 'slice',\n",
       " 'sorted',\n",
       " 'staticmethod',\n",
       " 'str',\n",
       " 'sum',\n",
       " 'super',\n",
       " 'tuple',\n",
       " 'type',\n",
       " 'vars',\n",
       " 'zip']"
      ]
     },
     "execution_count": 22,
     "metadata": {},
     "output_type": "execute_result"
    }
   ],
   "source": [
    "import builtins\n",
    "\n",
    "[f for f in dir(builtins) ]"
   ]
  },
  {
   "cell_type": "markdown",
   "metadata": {},
   "source": [
    "# operator module\n",
    "- consists of functions that implement Python operators\n",
    "- useful for functional programming\n",
    "- [doc](https://docs.python.org/3/library/operator.html#mapping-operators-to-functions)"
   ]
  },
  {
   "cell_type": "code",
   "execution_count": 22,
   "metadata": {},
   "outputs": [
    {
     "data": {
      "text/plain": [
       "[5, 1, 'foobar', [1, 2, 3, 4, 5, 6]]"
      ]
     },
     "execution_count": 22,
     "metadata": {},
     "output_type": "execute_result"
    }
   ],
   "source": [
    "# functions for:\n",
    "# + (numeric)\n",
    "# % (mod)\n",
    "# + (string)\n",
    "# + (list)\n",
    "\n",
    "import operator\n",
    "\n",
    "[operator.add(2,3), operator.mod(5,2), \\\n",
    " operator.concat('foo', 'bar'), operator.concat([1,2,3],[4,5,6])]"
   ]
  },
  {
   "cell_type": "markdown",
   "metadata": {},
   "source": [
    "# Function objects can have attributes!!\n",
    "- may seem odd, but can be useful"
   ]
  },
  {
   "cell_type": "code",
   "execution_count": 23,
   "metadata": {},
   "outputs": [
    {
     "data": {
      "text/plain": [
       "[34, 8]"
      ]
     },
     "execution_count": 23,
     "metadata": {},
     "output_type": "execute_result"
    }
   ],
   "source": [
    "def foo(n):\n",
    "    return n+3\n",
    "\n",
    "foo.zap = 34\n",
    "[foo.zap, foo(5)]"
   ]
  },
  {
   "cell_type": "markdown",
   "metadata": {},
   "source": [
    "# lambda expression\n",
    "- a 'lambda' expression creates a function object\n",
    "- the lambda's body is a single expression, so it can not be as complex as a def's body\n",
    "- mainly intended for simple things - not as powerful as def\n",
    "- a lambda expression can be used as a function arg, returned as a function value, and assigned to variables\n",
    "- form is: lambda args : expression-to-evaluate-and-return\n",
    "- the way a lambda prints will be explained soon\n",
    "- type name is 'function'"
   ]
  },
  {
   "cell_type": "code",
   "execution_count": 24,
   "metadata": {},
   "outputs": [
    {
     "data": {
      "text/plain": [
       "(20, <function __main__.foo.<locals>.<lambda>(x)>, function)"
      ]
     },
     "execution_count": 24,
     "metadata": {},
     "output_type": "execute_result"
    }
   ],
   "source": [
    "def foo():\n",
    "    return lambda x : x + 5\n",
    "\n",
    "b = foo()\n",
    "b(15), b, type(b)"
   ]
  },
  {
   "cell_type": "code",
   "execution_count": 25,
   "metadata": {},
   "outputs": [
    {
     "data": {
      "text/plain": [
       "((7, ()), (7, (7, 8, 6, 8)))"
      ]
     },
     "execution_count": 25,
     "metadata": {},
     "output_type": "execute_result"
    }
   ],
   "source": [
    "f = lambda x, y=3, *lst : (x + y, lst)\n",
    "\n",
    "f(2,5), f(2,5,7,8,6,8)"
   ]
  },
  {
   "cell_type": "code",
   "execution_count": 26,
   "metadata": {},
   "outputs": [
    {
     "data": {
      "text/plain": [
       "[[-1.3958673168982938, -0.07489239101144698, -0.3554577952610993],\n",
       " [-2.517157778055554, -1.0552928966969801, 1.2726309406811764],\n",
       " [0.39217270296533413, 0.22357636256779945, -0.21019756913505566],\n",
       " [-0.39217287851883986, -0.523499973123997, 0.05839982380053644],\n",
       " [0.35305353672326456, 0.6167155859044176, -0.8384563032434745],\n",
       " [0.06957949226710983, 0.7917514443984558, 0.1483026565217517],\n",
       " [-0.009915375176065992, -2.0660994738330567, 0.4262586746033783],\n",
       " [-0.7554738515809739, 0.389384417488719, -0.7721189419330676],\n",
       " [-1.8648290477292162, 0.5717372674457556, 0.2837365460163644],\n",
       " [0.6873916441344423, -0.48442578727560703, -0.7804464595252397],\n",
       " [1.7168598027501571, -0.12410460554102333, -1.3123740404965263],\n",
       " [1.5574675764365495, -2.0907021530455974, 0.7761244215187375],\n",
       " [-2.6894825567815457, 0.3659892705394175, 0.9476095760569522],\n",
       " [0.19183803326095922, 1.6534324752447591, -0.16609490176424435],\n",
       " [0.6194801387671175, -1.065126130930364, -0.8211422374627836],\n",
       " [1.4055324746479991, -0.09003892266364232, -0.6456033723748481],\n",
       " [-1.3472057733625287, 0.13718564985934317, -0.12455507294827851],\n",
       " [-1.1177052265406067, 0.13119815918398317, -1.2413746977775577],\n",
       " [-1.649732527255553, 0.6898414596863105, 2.5932398026054013],\n",
       " [-0.3034884143068812, -0.27569845435346185, -0.3644579103632861]]"
      ]
     },
     "execution_count": 26,
     "metadata": {},
     "output_type": "execute_result"
    }
   ],
   "source": [
    "# often used with sort\n",
    "\n",
    "import random\n",
    "import numpy as np\n",
    "\n",
    "r = [ [random.normalvariate(0,1) \n",
    "       for k in range(3)] \n",
    "     for j in range(20)]\n",
    "r"
   ]
  },
  {
   "cell_type": "code",
   "execution_count": 27,
   "metadata": {},
   "outputs": [
    {
     "data": {
      "text/plain": [
       "[[1.5574675764365495, -2.0907021530455974, 0.7761244215187375],\n",
       " [-0.009915375176065992, -2.0660994738330567, 0.4262586746033783],\n",
       " [0.6194801387671175, -1.065126130930364, -0.8211422374627836],\n",
       " [-2.517157778055554, -1.0552928966969801, 1.2726309406811764],\n",
       " [-0.39217287851883986, -0.523499973123997, 0.05839982380053644],\n",
       " [0.6873916441344423, -0.48442578727560703, -0.7804464595252397],\n",
       " [-0.3034884143068812, -0.27569845435346185, -0.3644579103632861],\n",
       " [1.7168598027501571, -0.12410460554102333, -1.3123740404965263],\n",
       " [1.4055324746479991, -0.09003892266364232, -0.6456033723748481],\n",
       " [-1.3958673168982938, -0.07489239101144698, -0.3554577952610993],\n",
       " [-1.1177052265406067, 0.13119815918398317, -1.2413746977775577],\n",
       " [-1.3472057733625287, 0.13718564985934317, -0.12455507294827851],\n",
       " [0.39217270296533413, 0.22357636256779945, -0.21019756913505566],\n",
       " [-2.6894825567815457, 0.3659892705394175, 0.9476095760569522],\n",
       " [-0.7554738515809739, 0.389384417488719, -0.7721189419330676],\n",
       " [-1.8648290477292162, 0.5717372674457556, 0.2837365460163644],\n",
       " [0.35305353672326456, 0.6167155859044176, -0.8384563032434745],\n",
       " [-1.649732527255553, 0.6898414596863105, 2.5932398026054013],\n",
       " [0.06957949226710983, 0.7917514443984558, 0.1483026565217517],\n",
       " [0.19183803326095922, 1.6534324752447591, -0.16609490176424435]]"
      ]
     },
     "execution_count": 27,
     "metadata": {},
     "output_type": "execute_result"
    }
   ],
   "source": [
    "# sort on index 1\n",
    "\n",
    "r.sort(key=lambda p : p[1])\n",
    "r"
   ]
  },
  {
   "cell_type": "markdown",
   "metadata": {},
   "source": [
    "# Horrible!! What is going on??"
   ]
  },
  {
   "cell_type": "code",
   "execution_count": 28,
   "metadata": {},
   "outputs": [],
   "source": [
    "def foo(x=[]):\n",
    "    x.append(1)\n",
    "    return(x)"
   ]
  },
  {
   "cell_type": "code",
   "execution_count": 29,
   "metadata": {},
   "outputs": [
    {
     "data": {
      "text/plain": [
       "[2, 3, 1]"
      ]
     },
     "execution_count": 29,
     "metadata": {},
     "output_type": "execute_result"
    }
   ],
   "source": [
    "foo([2,3])"
   ]
  },
  {
   "cell_type": "code",
   "execution_count": 30,
   "metadata": {},
   "outputs": [
    {
     "data": {
      "text/plain": [
       "[1]"
      ]
     },
     "execution_count": 30,
     "metadata": {},
     "output_type": "execute_result"
    }
   ],
   "source": [
    "foo([])"
   ]
  },
  {
   "cell_type": "code",
   "execution_count": 31,
   "metadata": {},
   "outputs": [
    {
     "data": {
      "text/plain": [
       "[1]"
      ]
     },
     "execution_count": 31,
     "metadata": {},
     "output_type": "execute_result"
    }
   ],
   "source": [
    "foo()"
   ]
  },
  {
   "cell_type": "code",
   "execution_count": 32,
   "metadata": {},
   "outputs": [
    {
     "data": {
      "text/plain": [
       "[1, 1]"
      ]
     },
     "execution_count": 32,
     "metadata": {},
     "output_type": "execute_result"
    }
   ],
   "source": [
    "foo()"
   ]
  },
  {
   "cell_type": "code",
   "execution_count": 33,
   "metadata": {},
   "outputs": [
    {
     "data": {
      "text/plain": [
       "[1, 1, 1]"
      ]
     },
     "execution_count": 33,
     "metadata": {},
     "output_type": "execute_result"
    }
   ],
   "source": [
    "foo()"
   ]
  },
  {
   "cell_type": "code",
   "execution_count": 34,
   "metadata": {},
   "outputs": [
    {
     "data": {
      "text/plain": [
       "[1, 1, 1, 1]"
      ]
     },
     "execution_count": 34,
     "metadata": {},
     "output_type": "execute_result"
    }
   ],
   "source": [
    "foo()"
   ]
  },
  {
   "cell_type": "code",
   "execution_count": 35,
   "metadata": {},
   "outputs": [
    {
     "data": {
      "text/plain": [
       "[1]"
      ]
     },
     "execution_count": 35,
     "metadata": {},
     "output_type": "execute_result"
    }
   ],
   "source": [
    "# the x=[] happens at function definition time, \n",
    "# not at invocation time\n",
    "# so a redefinition will 'reset' \n",
    "\n",
    "def foo(x=list()):\n",
    "    x.append(1)\n",
    "    return(x)\n",
    "\n",
    "foo()"
   ]
  },
  {
   "cell_type": "code",
   "execution_count": 36,
   "metadata": {},
   "outputs": [
    {
     "data": {
      "text/plain": [
       "[1, 1]"
      ]
     },
     "execution_count": 36,
     "metadata": {},
     "output_type": "execute_result"
    }
   ],
   "source": [
    "foo()"
   ]
  },
  {
   "cell_type": "code",
   "execution_count": 37,
   "metadata": {},
   "outputs": [
    {
     "data": {
      "text/plain": [
       "[1, 1, 1]"
      ]
     },
     "execution_count": 37,
     "metadata": {},
     "output_type": "execute_result"
    }
   ],
   "source": [
    "foo()"
   ]
  },
  {
   "cell_type": "markdown",
   "metadata": {
    "collapsed": true
   },
   "source": [
    "# a way to get reasonable behavior"
   ]
  },
  {
   "cell_type": "code",
   "execution_count": 39,
   "metadata": {},
   "outputs": [],
   "source": [
    "def foo(x=None):\n",
    "    if x == None:\n",
    "        x = []\n",
    "    x.append(1)\n",
    "    return(x)"
   ]
  },
  {
   "cell_type": "code",
   "execution_count": 40,
   "metadata": {},
   "outputs": [
    {
     "data": {
      "text/plain": [
       "[1]"
      ]
     },
     "execution_count": 40,
     "metadata": {},
     "output_type": "execute_result"
    }
   ],
   "source": [
    "foo()"
   ]
  },
  {
   "cell_type": "code",
   "execution_count": 41,
   "metadata": {},
   "outputs": [
    {
     "data": {
      "text/plain": [
       "[1]"
      ]
     },
     "execution_count": 41,
     "metadata": {},
     "output_type": "execute_result"
    }
   ],
   "source": [
    "foo()"
   ]
  },
  {
   "cell_type": "code",
   "execution_count": 42,
   "metadata": {},
   "outputs": [
    {
     "data": {
      "text/plain": [
       "[1]"
      ]
     },
     "execution_count": 42,
     "metadata": {},
     "output_type": "execute_result"
    }
   ],
   "source": [
    "foo()"
   ]
  },
  {
   "cell_type": "markdown",
   "metadata": {},
   "source": [
    "# closures\n",
    "- somewhat advanced topic, but you may run into it\n",
    "- a function or lambda can 'capture' surrounding state\n"
   ]
  },
  {
   "cell_type": "code",
   "execution_count": 43,
   "metadata": {},
   "outputs": [
    {
     "name": "stdout",
     "output_type": "stream",
     "text": [
      "15\n",
      "19\n"
     ]
    }
   ],
   "source": [
    "def outer(n):\n",
    "    # nested def\n",
    "    def inner(z):\n",
    "        # inner will 'capture' the value of n\n",
    "        return(z+n+1)\n",
    "    return inner\n",
    "\n",
    "inner4 = outer(4)\n",
    "print(inner4(10))\n",
    "\n",
    "inner8 = outer(8)\n",
    "print(inner8(10))"
   ]
  },
  {
   "cell_type": "code",
   "execution_count": 44,
   "metadata": {},
   "outputs": [
    {
     "data": {
      "text/plain": [
       "[<function __main__.<lambda>.<locals>.<lambda>(x)>,\n",
       " <function __main__.<lambda>.<locals>.<lambda>(x)>,\n",
       " <function __main__.<lambda>.<locals>.<lambda>(x)>,\n",
       " <function __main__.<lambda>.<locals>.<lambda>(x)>,\n",
       " <function __main__.<lambda>.<locals>.<lambda>(x)>]"
      ]
     },
     "execution_count": 44,
     "metadata": {},
     "output_type": "execute_result"
    }
   ],
   "source": [
    "# inner lambda will 'capture' value of 'j'\n",
    "# value of closure is inner lambda object\n",
    "\n",
    "closure = lambda j: lambda x : x + j\n",
    "closures = [closure(m) for m in range(5)]\n",
    "closures"
   ]
  },
  {
   "cell_type": "code",
   "execution_count": 45,
   "metadata": {},
   "outputs": [
    {
     "data": {
      "text/plain": [
       "[33, 34, 35, 36, 37]"
      ]
     },
     "execution_count": 45,
     "metadata": {},
     "output_type": "execute_result"
    }
   ],
   "source": [
    "[c(33) for c in closures]"
   ]
  },
  {
   "cell_type": "code",
   "execution_count": null,
   "metadata": {},
   "outputs": [],
   "source": []
  }
 ],
 "metadata": {
  "anaconda-cloud": {},
  "kernelspec": {
   "display_name": "Python 3",
   "language": "python",
   "name": "python3"
  },
  "language_info": {
   "codemirror_mode": {
    "name": "ipython",
    "version": 3
   },
   "file_extension": ".py",
   "mimetype": "text/x-python",
   "name": "python",
   "nbconvert_exporter": "python",
   "pygments_lexer": "ipython3",
   "version": "3.7.4"
  }
 },
 "nbformat": 4,
 "nbformat_minor": 1
}
