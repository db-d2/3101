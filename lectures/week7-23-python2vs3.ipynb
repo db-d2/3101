{
 "cells": [
  {
   "cell_type": "markdown",
   "metadata": {},
   "source": [
    "\n",
    "# Python 2.7 vs 3.X\n",
    "- support for 2.7 ended in Jan 2020!!\n",
    "- If you find this issue fascinating, there's no shortage of lengthly things to read \n",
    "  - [Python 3 Q&A](http://ncoghlan-devs-python-notes.readthedocs.org/en/latest/python3/questions_and_answers.html)\n",
    "  - [Porting to 3.X](https://wiki.python.org/moin/PortingPythonToPy3k)\n",
    "  - [unicode issues](http://nedbatchelder.com/text/unipain.html)\n",
    "  - [Python 2 or 3](https://wiki.python.org/moin/Python2orPython3)\n",
    "  - OpenStack, the largest open source python project, is [porting to 3.X](https://wiki.openstack.org/wiki/Python3)\n",
    "- [py3readiness.org](http://py3readiness.org) shows what popular packages have been ported to 3.X\n",
    "- unicode was added as an afterthought to 2.7\n",
    "    - source of many bugs and inconsistencies\n",
    "    - developers felt unicode had to be fully embraced if Python was to thrive in non-English cultures\n",
    "- \"as long as we're making incompatible changes, may as well fix some other stuff while we're at it\"\n",
    "- in 2.7:\n",
    "    - print is a statement, not a function\n",
    "    - many calls, like 'range', are memory inefficient, and were designed before the iteration protocol\n",
    "- there was great resistance to 3.X for several years, but seems like tide has turned\n",
    "- new projects should use 3.X\n",
    "\n",
    "    \n",
    "# Tools\n",
    "- [six](http://pythonhosted.org/six/) - lets you write code that will run in 2.7 or 3.X\n",
    "- [2to3](https://docs.python.org/dev/library/2to3.html) - attempts to convert 2.7 code to 3.X code\n",
    "    - with -w arg, will update file in place\n",
    "    - among other things, will convert 2.7 'print statements' into 3.X 'print functions'\n",
    "- [3to2](https://wiki.python.org/moin/3to2) - attempts to convert 3.X code to 2.7\n",
    "- [Python Modernize](https://github.com/mitsuhiko/python-modernize) - attempts to convert 2.7 code to code that will run in both 2.7 and 3.X\n",
    "- [Python-Future](http://python-future.org/index.html) - another package that supports code that runs in 2.7 and 3.X\n"
   ]
  },
  {
   "cell_type": "code",
   "execution_count": null,
   "metadata": {},
   "outputs": [],
   "source": []
  }
 ],
 "metadata": {
  "anaconda-cloud": {},
  "kernelspec": {
   "display_name": "Python 3",
   "language": "python",
   "name": "python3"
  },
  "language_info": {
   "codemirror_mode": {
    "name": "ipython",
    "version": 3
   },
   "file_extension": ".py",
   "mimetype": "text/x-python",
   "name": "python",
   "nbconvert_exporter": "python",
   "pygments_lexer": "ipython3",
   "version": "3.7.4"
  }
 },
 "nbformat": 4,
 "nbformat_minor": 1
}
