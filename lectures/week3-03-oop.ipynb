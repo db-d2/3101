{
 "cells": [
  {
   "cell_type": "markdown",
   "metadata": {},
   "source": [
    "# Object oriented design\n",
    "- encapsulation\n",
    "    - define an external interface to the class\n",
    "        - gas, diesel, electric cars\n",
    "    - do not expose the inner workings of the class\n",
    "    - enforce modularity\n",
    "- polymorphism\n",
    "    - define how operators and methods act on a class\n",
    "        - what '+' does is defined by the class definition\n",
    "- inheritance\n",
    "    - designing classes that are based on existing classes\n",
    "    - often an existing class 'almost' does what you want, so you 'reuse' that functionality by inheriting from it\n",
    "\n",
    "\n",
    "# OOP is a natural fit for many applications\n",
    " - window systems and GUI's\n",
    " - file and network operations\n",
    " - operating systems\n",
    " - modeling a 'slice' of reality\n",
    " - simulation"
   ]
  },
  {
   "cell_type": "markdown",
   "metadata": {},
   "source": [
    "# Object Oriented Programming\n",
    "\n",
    "# class\n",
    "- 'class' is an executable statement(not a declaration), that creates a class object, and makes a variable refer to it\n",
    "- class names are usually capitialized\n",
    "- a class is a blueprint or design that specifies how to create objects of the class\n",
    "- most, but not all, classes are 'instantiated' as objects\n",
    "- a class defines a new type\n",
    "- there are two kinds of 'attributes'\n",
    "    - 'class attributes' are defined on the class itself. all objects have access to class attributes, but class attributes are independent of object instantiations. sometimes called 'class variables' or 'statics'\n",
    "    - 'object attributes' are 'local' to each instantiated object. object attributes are often called 'object or instance variables'\n",
    "    - an attribute can hold any type of Python object, including function objects\n",
    "- an attribute referencing a function object is often called a 'method'. they are defined by using 'def' inside the class block\n",
    "- methods can access and modify class and object attributes\n",
    "- a static class method is defined by def\n",
    "\n",
    "```\n",
    "class foo:\n",
    "   def bar(x,y):\n",
    "       # xysum is a 'class variable'\n",
    "       foo.xysum = x + y\n",
    "\n",
    "```\n",
    "\n",
    "- an object method is also defined with def, but 'self' must ALWAYS be the first arg to an object method\n",
    "\n",
    "    - if you forget the 'self' arg, nothing will work correctly - common mistake\n",
    "    - 'self' is how the method knows what object to access and modify\n",
    "    - within an object method, object attributes of the object, must be accessed thru the self variable\n",
    "\n",
    "\n",
    "- the class statement below says foo inherits from the zap class\n",
    "\n",
    "```\n",
    "class foo(zap):\n",
    "    def bar(self, x, y):\n",
    "        # instance variable created on self\n",
    "        # by assignment\n",
    "        self.sumxy = x + y\n",
    "```\n",
    "\n",
    "- the class statement below...\n",
    "\n",
    "```\n",
    "class foo:\n",
    "    def bar(self, x, y):\n",
    "        # instance variable created on self\n",
    "        # by assignment\n",
    "        self.sumxy = x + y\n",
    "```\n",
    "\n",
    "- is equivalent to \n",
    "\n",
    "```\n",
    "class foo(object:\n",
    "    def bar(self, x, y):\n",
    "        # instance variable created on self\n",
    "        # by assignment\n",
    "        self.sumxy = x + y\n",
    "```\n",
    "\n",
    "- classes inherit from the system 'object', if no parent is specified\n",
    "\n",
    "- the name of the class is the type, and is also a 'constructor' function that instantiates an object based on the class definition\n",
    "\n",
    "\n",
    "\n",
    "- the ```__init__```  method is called when the class is instantiated, with the args supplied to the constructor. this is an opportunity to setup your object\n",
    "\n",
    "- 'dunder methods', a method with ```__``` in the name usually have special meaning to Python\n",
    "\n"
   ]
  },
  {
   "cell_type": "code",
   "execution_count": null,
   "metadata": {},
   "outputs": [],
   "source": []
  },
  {
   "cell_type": "markdown",
   "metadata": {},
   "source": [
    "# Example - class C\n",
    "- 'state information' that is managed by class  'C'\n",
    "    - 'cvar' is a 'class attribute'. there is only one cvar, and all class and object methods can reference it\n",
    "    - 'ovar' is an 'object attribute'. each instance of C has its own 'ovar'\n",
    "- 'incrCvar' is a 'class method'. it is not associated with any particular object\n",
    "- 'readCV', 'setCV', 'readOV', 'setOV', and 'noEffect' are 'object methods' defined on 'C'\n",
    "    - the first argument to a object method must always be 'self', which refers to the instance itself (like 'this' in Java)\n"
   ]
  },
  {
   "cell_type": "code",
   "execution_count": 24,
   "metadata": {},
   "outputs": [],
   "source": [
    "# note the ':' and indenting - starts the class statement block\n",
    "\n",
    "class Car:\n",
    "    '''class that illustrates \n",
    "    class and object attributes'''\n",
    "    # create and set class attribute\n",
    "    \n",
    "    cserial = 0\n",
    "        \n",
    "    # class attribute methods - no self arg\n",
    "    # does not need a Car object to reference\n",
    "        \n",
    "    def incrSerial():\n",
    "        Car.cserial += 1\n",
    "        return Car.cserial\n",
    "        \n",
    "    # all methods below are 'instance methods'\n",
    "    # first arg is always 'self'\n",
    "    \n",
    "    def __repr__(self):\n",
    "        # controls how object prints\n",
    "        return f'Car({self.gas}, {self.serial})' \n",
    "    \n",
    "    def __str__(self):\n",
    "        return f'Car<gas={self.gas} serial={self.serial}>'\n",
    "    \n",
    "    # called with create function args\n",
    "    # objects gets 'setup' here\n",
    "    def __init__(self, gas, serial=None):\n",
    "        # create instance variable 'gas'\n",
    "        # by assignment\n",
    "        # note LHS refers to an instance variable\n",
    "        # named 'gas'. RHS refers to the argument\n",
    "        # named 'gas'. \n",
    "        self.gas = gas\n",
    "        # serial number for this car\n",
    "        # if serial not supplied, make a new one\n",
    "        self.serial = serial if serial else Car.incrSerial()\n",
    "        self.odometer = 0\n",
    "        \n",
    "    # can call other methods inside a method\n",
    "    def incrOdometer(self, miles):\n",
    "        self.odometer += miles\n",
    "        # this is how you call another method\n",
    "        # inside a method\n",
    "        noEffect(self, 34,55)\n",
    "        return self.odometer\n",
    "    \n",
    "    # this method has no effect on the object!\n",
    "    def noEffect(self, c, i):\n",
    "        # because C. and self. are not used\n",
    "        # below just defines two variables 'ca' and 'oa,\n",
    "        # local to method 'noEffect'\n",
    "        # they will be forgotten when noEffect exits\n",
    "        clocal = c\n",
    "        ilocal = i\n"
   ]
  },
  {
   "cell_type": "markdown",
   "metadata": {},
   "source": [
    "# String representation of objects\n",
    "- controlled by ```__repr__ and __str__``` methods, which must return a string\n",
    "    - repr - should be very accurate. ideally, evaluating the string \n",
    "    will recreate the object\n",
    "    - str - human friendly string - informative but perhaps not complete\n",
    "- if ```__str__``` method is not defined, ```__repr__``` will be used\n",
    "- top level functions 'repr' and 'str' are 'syntactic sugar' for the 'dunder'(double underscore) methods\n",
    "- for our purposes, we will mostly just define 'repr', not terribly carefully, and let 'str' default to 'repr'"
   ]
  },
  {
   "cell_type": "code",
   "execution_count": 25,
   "metadata": {},
   "outputs": [
    {
     "data": {
      "text/plain": [
       "('Car(5, 1)', 'Car<gas=5 serial=1>')"
      ]
     },
     "execution_count": 25,
     "metadata": {},
     "output_type": "execute_result"
    }
   ],
   "source": [
    "c = Car(5)\n",
    "\n",
    "c.__repr__(), c.__str__()"
   ]
  },
  {
   "cell_type": "code",
   "execution_count": 26,
   "metadata": {},
   "outputs": [
    {
     "data": {
      "text/plain": [
       "('Car(5, 1)', 'Car<gas=5 serial=1>')"
      ]
     },
     "execution_count": 26,
     "metadata": {},
     "output_type": "execute_result"
    }
   ],
   "source": [
    "repr(c), str(c)"
   ]
  },
  {
   "cell_type": "markdown",
   "metadata": {},
   "source": [
    "# notebook prints the 'repr' string, but the 'print' function uses 'str' string"
   ]
  },
  {
   "cell_type": "code",
   "execution_count": 31,
   "metadata": {},
   "outputs": [
    {
     "data": {
      "text/plain": [
       "Car(5, 5)"
      ]
     },
     "execution_count": 31,
     "metadata": {},
     "output_type": "execute_result"
    }
   ],
   "source": [
    "Car(5)"
   ]
  },
  {
   "cell_type": "code",
   "execution_count": 32,
   "metadata": {},
   "outputs": [
    {
     "name": "stdout",
     "output_type": "stream",
     "text": [
      "Car<gas=5 serial=6>\n"
     ]
    }
   ],
   "source": [
    "print(Car(5))"
   ]
  },
  {
   "cell_type": "markdown",
   "metadata": {},
   "source": [
    "# often can use 'eval' to recreate object from repr string"
   ]
  },
  {
   "cell_type": "code",
   "execution_count": 29,
   "metadata": {},
   "outputs": [
    {
     "data": {
      "text/plain": [
       "('Car(5, 4)', Car(5, 4))"
      ]
     },
     "execution_count": 29,
     "metadata": {},
     "output_type": "execute_result"
    }
   ],
   "source": [
    "r = repr(Car(5))\n",
    "\n",
    "r, eval(r)"
   ]
  },
  {
   "cell_type": "code",
   "execution_count": 33,
   "metadata": {},
   "outputs": [
    {
     "data": {
      "text/plain": [
       "('<built-in function sorted>', '<built-in function sorted>')"
      ]
     },
     "execution_count": 33,
     "metadata": {},
     "output_type": "execute_result"
    }
   ],
   "source": [
    "# functions objects have __repr()__ methods defined\n",
    "\n",
    "repr(sorted), str(sorted)"
   ]
  },
  {
   "cell_type": "code",
   "execution_count": null,
   "metadata": {},
   "outputs": [],
   "source": [
    "# can call class method even if no objects have\n",
    "# been instantiated\n",
    "\n",
    "Car.incrSerial()"
   ]
  },
  {
   "cell_type": "code",
   "execution_count": null,
   "metadata": {},
   "outputs": [],
   "source": [
    "# same value is seen by everybody\n",
    "\n",
    "Car.cserial"
   ]
  },
  {
   "cell_type": "code",
   "execution_count": null,
   "metadata": {},
   "outputs": [],
   "source": [
    "# make two cars\n",
    "\n",
    "c1,c2 = Car(3), Car(5)\n",
    "c1,c2"
   ]
  },
  {
   "cell_type": "code",
   "execution_count": null,
   "metadata": {},
   "outputs": [],
   "source": [
    "# instance variables are different\n",
    "\n",
    "c1.gas, c2.gas, c1.serial, c2.serial"
   ]
  },
  {
   "cell_type": "markdown",
   "metadata": {},
   "source": [
    "# How classes and objects are implemented\n",
    "- two more types of namespaces are added\n",
    "    - One namespace holds the class data\n",
    "    - each instance has a namespace to hold its attributes\n",
    "    - the ```__dict__``` method lets you examine the namespaces\n",
    "    "
   ]
  },
  {
   "cell_type": "code",
   "execution_count": null,
   "metadata": {},
   "outputs": [],
   "source": [
    "# note 'cserial' and method name keys\n",
    "# methods live on the class, because are not specific to objects\n",
    "\n",
    "Car.__dict__"
   ]
  },
  {
   "cell_type": "code",
   "execution_count": null,
   "metadata": {},
   "outputs": [],
   "source": [
    "# object namespace holds attributes specific to objects\n",
    "\n",
    "c1.__dict__, c2.__dict__"
   ]
  }
 ],
 "metadata": {
  "anaconda-cloud": {},
  "kernelspec": {
   "display_name": "Python 3",
   "language": "python",
   "name": "python3"
  },
  "language_info": {
   "codemirror_mode": {
    "name": "ipython",
    "version": 3
   },
   "file_extension": ".py",
   "mimetype": "text/x-python",
   "name": "python",
   "nbconvert_exporter": "python",
   "pygments_lexer": "ipython3",
   "version": "3.7.4"
  }
 },
 "nbformat": 4,
 "nbformat_minor": 1
}
