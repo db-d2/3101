{
 "cells": [
  {
   "cell_type": "markdown",
   "metadata": {},
   "source": [
    "# Object Relational Mappers\n",
    "- maps objects into a relational database\n",
    "- somewhat complex but very useful\n",
    "    - not easy to do yourself\n",
    "- best known one for Python is [SQLAlchemy](http://www.sqlalchemy.org)\n",
    "    - [ORM tutorial](https://docs.sqlalchemy.org/en/13/orm/tutorial.html)\n",
    "    - somewhat similar to [Hibernate](https://hibernate.org) for Java\n",
    "- flask has support for SQLAlchemy\n"
   ]
  },
  {
   "cell_type": "code",
   "execution_count": 1,
   "metadata": {},
   "outputs": [],
   "source": [
    "from sqlalchemy import create_engine\n",
    "\n",
    "# set echo=True for debug info\n",
    "engine = create_engine('sqlite:///:memory:', echo=False)\n",
    "\n",
    "from sqlalchemy.ext.declarative import declarative_base\n",
    "Base = declarative_base()\n",
    "from sqlalchemy import Column, Integer, String, Float\n",
    "\n",
    "from sqlalchemy.orm import sessionmaker\n",
    "Session = sessionmaker(bind=engine)\n",
    "\n",
    "session = Session()"
   ]
  },
  {
   "cell_type": "code",
   "execution_count": 2,
   "metadata": {},
   "outputs": [],
   "source": [
    "class Student(Base):\n",
    "    __tablename__ = 'student'\n",
    "    id = Column(Integer, primary_key=True)\n",
    "    first = Column(String)\n",
    "    last = Column(String)\n",
    "    uni = Column(String)\n",
    "\n",
    "    def __repr__(self):\n",
    "        s = f'<Student(first={self.first}, last={self.last}, uni={self.uni})>'\n",
    "        return s\n"
   ]
  },
  {
   "cell_type": "code",
   "execution_count": 3,
   "metadata": {},
   "outputs": [],
   "source": [
    "class Grade(Base):\n",
    "    __tablename__ = 'grade'\n",
    "    id = Column(Integer, primary_key=True)\n",
    "    uni = Column(String)\n",
    "    course = Column(String)\n",
    "    grade = Column(Float)\n",
    "\n",
    "    def __repr__(self):\n",
    "        s = f'<Grade(uni={self.uni}, course={self.course}, grade={self.grade})>'\n",
    "        return s\n"
   ]
  },
  {
   "cell_type": "code",
   "execution_count": 4,
   "metadata": {},
   "outputs": [],
   "source": [
    "Base.metadata.create_all(engine)\n",
    "session.commit()"
   ]
  },
  {
   "cell_type": "code",
   "execution_count": 5,
   "metadata": {},
   "outputs": [
    {
     "data": {
      "text/plain": [
       "'/var/folders/ct/ftxzjrdd1r5g__vddj6q335h0000gn/T/tmp8bor2b1r'"
      ]
     },
     "execution_count": 5,
     "metadata": {},
     "output_type": "execute_result"
    }
   ],
   "source": [
    "# spath set in database notebook\n",
    "\n",
    "%store -r\n",
    "spath"
   ]
  },
  {
   "cell_type": "code",
   "execution_count": 6,
   "metadata": {},
   "outputs": [],
   "source": [
    "# make a db connection and get a cursor\n",
    "\n",
    "import sqlite3 \n",
    "\n",
    "# must be the same path as in databases notebook\n",
    "\n",
    "con = sqlite3.connect(spath)\n",
    "cur = con.cursor()\n"
   ]
  },
  {
   "cell_type": "code",
   "execution_count": 7,
   "metadata": {},
   "outputs": [],
   "source": [
    "res = None\n",
    "\n",
    "with sqlite3.connect(path) as con:\n",
    "    cur = con.cursor()\n",
    "    res = list(cur.execute(\"select first,last,uni from student\"))\n",
    "    \n",
    "for f,l,u in res:\n",
    "    session.add(Student(first=f, last=l, uni=u))"
   ]
  },
  {
   "cell_type": "code",
   "execution_count": 8,
   "metadata": {},
   "outputs": [],
   "source": [
    "res = None\n",
    "\n",
    "with sqlite3.connect(spath) as con:\n",
    "    cur = con.cursor()\n",
    "    res = list(cur.execute(\"select uni, course, grade from grade\"))\n",
    "    \n",
    "for u, c, g in res:\n",
    "    session.add(Grade(uni=u, course=c, grade=g))"
   ]
  },
  {
   "cell_type": "code",
   "execution_count": 9,
   "metadata": {},
   "outputs": [
    {
     "data": {
      "text/plain": [
       "IdentitySet([<Student(first=Maye, last=Quent, uni=mq6173)>, <Student(first=Jana, last=Genny, uni=jg6501)>, <Student(first=Beck, last=Audre, uni=ba3658)>, <Student(first=Andi, last=Katya, uni=ak5529)>, <Student(first=Roth, last=Kirby, uni=rk1433)>, <Student(first=Rory, last=Glory, uni=rg1828)>, <Student(first=Rene, last=Cissy, uni=rc3042)>, <Student(first=Etti, last=Codie, uni=ec4937)>, <Student(first=Dino, last=Suzzy, uni=ds6773)>, <Student(first=Lela, last=Peter, uni=lp9668)>, <Grade(uni=mq6173, course=COMSW 7938, grade=86.04829391231357)>, <Grade(uni=jg6501, course=COMSW 7938, grade=74.01024513974369)>, <Grade(uni=ba3658, course=COMSW 3390, grade=88.15901362780362)>, <Grade(uni=ak5529, course=COMSW 3496, grade=76.75044751220422)>, <Grade(uni=rk1433, course=COMSW 3598, grade=74.16036257877713)>, <Grade(uni=rg1828, course=COMSW 7938, grade=73.17984986490653)>, <Grade(uni=rc3042, course=COMSW 7938, grade=72.05289482403647)>, <Grade(uni=ec4937, course=COMSW 7938, grade=97.44794034395666)>, <Grade(uni=ds6773, course=COMSW 4228, grade=75.21544909795469)>, <Grade(uni=lp9668, course=COMSW 3390, grade=96.53538398782479)>])"
      ]
     },
     "execution_count": 9,
     "metadata": {},
     "output_type": "execute_result"
    }
   ],
   "source": [
    "session.new"
   ]
  },
  {
   "cell_type": "code",
   "execution_count": 10,
   "metadata": {},
   "outputs": [],
   "source": [
    "session.commit()"
   ]
  },
  {
   "cell_type": "code",
   "execution_count": 11,
   "metadata": {},
   "outputs": [
    {
     "data": {
      "text/plain": [
       "IdentitySet([])"
      ]
     },
     "execution_count": 11,
     "metadata": {},
     "output_type": "execute_result"
    }
   ],
   "source": [
    "session.new"
   ]
  },
  {
   "cell_type": "code",
   "execution_count": 12,
   "metadata": {},
   "outputs": [
    {
     "data": {
      "text/plain": [
       "<Student(first=Maye, last=Quent, uni=mq6173)>"
      ]
     },
     "execution_count": 12,
     "metadata": {},
     "output_type": "execute_result"
    }
   ],
   "source": [
    "fstudent = session.query(Student).first()\n",
    "fstudent"
   ]
  },
  {
   "cell_type": "code",
   "execution_count": 13,
   "metadata": {},
   "outputs": [],
   "source": [
    "# 'dirty' objects, ones that have been modifed\n",
    "# are persisted \n",
    "\n",
    "fstudent.uni = 'zzzz'\n",
    "session.commit()"
   ]
  },
  {
   "cell_type": "code",
   "execution_count": 14,
   "metadata": {},
   "outputs": [
    {
     "data": {
      "text/plain": [
       "<Student(first=Maye, last=Quent, uni=zzzz)>"
      ]
     },
     "execution_count": 14,
     "metadata": {},
     "output_type": "execute_result"
    }
   ],
   "source": [
    "session.query(Student).first()"
   ]
  },
  {
   "cell_type": "code",
   "execution_count": 15,
   "metadata": {},
   "outputs": [
    {
     "data": {
      "text/plain": [
       "[<Grade(uni=ec4937, course=COMSW 7938, grade=97.44794034395666)>,\n",
       " <Grade(uni=lp9668, course=COMSW 3390, grade=96.53538398782479)>]"
      ]
     },
     "execution_count": 15,
     "metadata": {},
     "output_type": "execute_result"
    }
   ],
   "source": [
    "# get grades better than 90\n",
    "\n",
    "session.query(Grade).filter(Grade.grade > 90).all()"
   ]
  },
  {
   "cell_type": "code",
   "execution_count": 16,
   "metadata": {},
   "outputs": [
    {
     "data": {
      "text/plain": [
       "[(<Grade(uni=ec4937, course=COMSW 7938, grade=97.44794034395666)>,\n",
       "  <Student(first=Etti, last=Codie, uni=ec4937)>),\n",
       " (<Grade(uni=lp9668, course=COMSW 3390, grade=96.53538398782479)>,\n",
       "  <Student(first=Lela, last=Peter, uni=lp9668)>)]"
      ]
     },
     "execution_count": 16,
     "metadata": {},
     "output_type": "execute_result"
    }
   ],
   "source": [
    "# join grade>90 rows with Student table\n",
    "\n",
    "session.query(Grade, Student).filter(Grade.grade > 90).filter(Grade.uni == Student.uni).all()\n"
   ]
  }
 ],
 "metadata": {
  "kernelspec": {
   "display_name": "Python 3",
   "language": "python",
   "name": "python3"
  },
  "language_info": {
   "codemirror_mode": {
    "name": "ipython",
    "version": 3
   },
   "file_extension": ".py",
   "mimetype": "text/x-python",
   "name": "python",
   "nbconvert_exporter": "python",
   "pygments_lexer": "ipython3",
   "version": "3.7.4"
  }
 },
 "nbformat": 4,
 "nbformat_minor": 2
}
