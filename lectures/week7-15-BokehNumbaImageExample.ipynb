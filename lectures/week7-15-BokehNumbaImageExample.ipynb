{
 "cells": [
  {
   "cell_type": "markdown",
   "metadata": {},
   "source": [
    "# Interactive Image Processing with Numba and Bokeh\n",
    "\n",
    "This demo shows off how interactive image processing can be done in the notebook, using [Numba](http://numba.pydata.org) for numerics, [Bokeh](http://bokeh.pydata.org) for plotting, and Ipython interactors for widgets. The demo runs entirely inside the Ipython notebook, with no Bokeh server required.\n",
    "\n",
    "Numba must be installed in order to run this demo. To run, click on, `Cell->Run All` in the top menu, then scroll down to individual examples and play around with their controls. "
   ]
  },
  {
   "cell_type": "code",
   "execution_count": null,
   "metadata": {},
   "outputs": [],
   "source": [
    "from __future__ import print_function, division\n",
    "\n",
    "from timeit import default_timer as timer\n",
    "\n",
    "from bokeh.plotting import figure, show, output_notebook\n",
    "from bokeh.models import GlyphRenderer, LinearColorMapper\n",
    "from bokeh.io import push_notebook\n",
    "from numba import jit, njit\n",
    "\n",
    "from ipywidgets import interact\n",
    "import numpy as np\n",
    "import scipy.misc"
   ]
  },
  {
   "cell_type": "code",
   "execution_count": null,
   "metadata": {},
   "outputs": [],
   "source": [
    "output_notebook()"
   ]
  },
  {
   "cell_type": "markdown",
   "metadata": {},
   "source": [
    "## Gaussian Blur\n",
    "\n",
    "This first section demonstrates performing a simple Gaussian blur on an image. It presents the image, as well as a slider that controls how much blur is applied. Numba is used to compile the python blur kernel, which is invoked when the user modifies the slider. \n",
    "\n",
    "*Note:* This simple example does not handle the edge case, so the edge of the image will remain unblurred as the slider is increased. "
   ]
  },
  {
   "cell_type": "code",
   "execution_count": null,
   "metadata": {},
   "outputs": [],
   "source": [
    "# smaller image\n",
    "img_blur = (scipy.misc.ascent()[::-1,:]/255.0)[:250, :250].copy(order='C')"
   ]
  },
  {
   "cell_type": "code",
   "execution_count": null,
   "metadata": {},
   "outputs": [],
   "source": [
    "palette = ['#%02x%02x%02x' %(i,i,i) for i in range(256)]\n",
    "width, height = img_blur.shape\n",
    "p_blur = figure(x_range=(0, width), y_range=(0, height))\n",
    "r_blur = p_blur.image(image=[img_blur], x=[0], y=[0], dw=[width], dh=[height], palette=palette, name='blur')"
   ]
  },
  {
   "cell_type": "code",
   "execution_count": null,
   "metadata": {},
   "outputs": [],
   "source": [
    "@njit\n",
    "def blur(outimg, img, amt):\n",
    "    iw, ih = img.shape\n",
    "    for i in range(amt, iw-amt):\n",
    "        for j in range(amt, ih-amt):\n",
    "            px = 0.\n",
    "            for w in range(-amt//2, amt//2):\n",
    "                for h in range(-amt//2, amt//2):\n",
    "                    px += img[i+w, j+h]\n",
    "            outimg[i, j]= px/(amt*amt)"
   ]
  },
  {
   "cell_type": "code",
   "execution_count": null,
   "metadata": {},
   "outputs": [],
   "source": [
    "def update(i=0):\n",
    "    level = 2*i + 1\n",
    "    \n",
    "    out = img_blur.copy()\n",
    "    \n",
    "    ts = timer()\n",
    "    blur(out, img_blur, level)\n",
    "    te = timer()\n",
    "    print('blur takes:', te - ts)\n",
    "    \n",
    "    renderer = p_blur.select(dict(name=\"blur\", type=GlyphRenderer))\n",
    "    r_blur.data_source.data['image'] = [out]\n",
    "    push_notebook(handle=t_blur)"
   ]
  },
  {
   "cell_type": "code",
   "execution_count": null,
   "metadata": {},
   "outputs": [],
   "source": [
    "t_blur = show(p_blur, notebook_handle=True)"
   ]
  },
  {
   "cell_type": "code",
   "execution_count": null,
   "metadata": {},
   "outputs": [],
   "source": [
    "# to kill this, do Kernel/restart\n",
    "\n",
    "interact(update, i=(0, 10))"
   ]
  }
 ],
 "metadata": {
  "anaconda-cloud": {},
  "kernelspec": {
   "display_name": "Python 3",
   "language": "python",
   "name": "python3"
  },
  "language_info": {
   "codemirror_mode": {
    "name": "ipython",
    "version": 3
   },
   "file_extension": ".py",
   "mimetype": "text/x-python",
   "name": "python",
   "nbconvert_exporter": "python",
   "pygments_lexer": "ipython3",
   "version": "3.7.3"
  }
 },
 "nbformat": 4,
 "nbformat_minor": 1
}
