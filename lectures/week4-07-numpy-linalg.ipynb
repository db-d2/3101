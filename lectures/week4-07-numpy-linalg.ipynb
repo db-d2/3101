{
 "cells": [
  {
   "cell_type": "markdown",
   "metadata": {},
   "source": [
    "# linear algebra in [np.linalg](https://docs.scipy.org/doc/numpy/reference/routines.linalg.html)\n",
    "- many functions available\n",
    "    - matrix inverse\n",
    "    - equation solving\n",
    "    - eigenvalues and eigenvectors"
   ]
  },
  {
   "cell_type": "code",
   "execution_count": null,
   "metadata": {},
   "outputs": [],
   "source": [
    "import numpy as np\n",
    "\n",
    "a = np.array([[ 2,  4,  6],\n",
    "        [ 4,  2,  6],\n",
    "        [10, -4, 18]])\n",
    "a"
   ]
  },
  {
   "cell_type": "code",
   "execution_count": null,
   "metadata": {},
   "outputs": [],
   "source": [
    "ainv = np.linalg.inv(a)\n",
    "ainv"
   ]
  },
  {
   "cell_type": "code",
   "execution_count": null,
   "metadata": {},
   "outputs": [],
   "source": [
    "#  '*' is element by element mult\n",
    "\n",
    "a * ainv"
   ]
  },
  {
   "cell_type": "code",
   "execution_count": null,
   "metadata": {},
   "outputs": [],
   "source": [
    "# '@' is matrix mult\n",
    "\n",
    "iden = ainv @ a\n",
    "iden"
   ]
  },
  {
   "cell_type": "code",
   "execution_count": null,
   "metadata": {},
   "outputs": [],
   "source": [
    "# want to clean up floating point noise\n",
    "# could write loops...\n",
    "\n",
    "import math\n",
    "\n",
    "iden = ainv @ a\n",
    "\n",
    "for row in range(iden.shape[0]):\n",
    "    for col in range(iden.shape[1]):\n",
    "        if np.abs(iden[row,col]) < .00001:\n",
    "           iden[row, col]  = 0.0\n",
    "iden"
   ]
  },
  {
   "cell_type": "code",
   "execution_count": null,
   "metadata": {},
   "outputs": [],
   "source": [
    "# ...'where' is vector version of ternary if\n",
    "# np.where(predicate, trueval, falseval)\n",
    "# note broadcasting of .0001 \n",
    "\n",
    "iden = ainv @ a\n",
    "\n",
    "np.where(np.abs(iden) < .0001, 0.0, iden)\n"
   ]
  },
  {
   "cell_type": "code",
   "execution_count": null,
   "metadata": {},
   "outputs": [],
   "source": [
    "# eigen values/vectors\n",
    "\n",
    "np.linalg.eig(a)\n"
   ]
  }
 ],
 "metadata": {
  "kernelspec": {
   "display_name": "Python 3",
   "language": "python",
   "name": "python3"
  },
  "language_info": {
   "codemirror_mode": {
    "name": "ipython",
    "version": 3
   },
   "file_extension": ".py",
   "mimetype": "text/x-python",
   "name": "python",
   "nbconvert_exporter": "python",
   "pygments_lexer": "ipython3",
   "version": "3.7.4"
  }
 },
 "nbformat": 4,
 "nbformat_minor": 2
}
