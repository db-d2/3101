{
 "cells": [
  {
   "cell_type": "markdown",
   "metadata": {},
   "source": [
    "# Wordseye\n",
    "- Wordseye system runs on AWS machines\n",
    "    - uses lots of python internally\n",
    "- Wordseye can be controlled by a simple http protocol\n",
    "- use 'requests' networking module to manage the http\n",
    "- [home page](http://wordseye.com)\n",
    "- [gallery](http://www.wordseye.com/gallery?csort=pp&csize=small&ctype=s&src=all)"
   ]
  },
  {
   "cell_type": "code",
   "execution_count": null,
   "metadata": {},
   "outputs": [],
   "source": [
    "import requests\n",
    "from IPython.display import Image\n",
    "from pathlib import Path\n",
    "\n",
    "def login():\n",
    "    # read login and password from a two line file\n",
    "    with open(Path('~/welogin.txt').expanduser()) as fd:\n",
    "        u,p = fd.read().split()\n",
    "\n",
    "    # put POST data in a dict\n",
    "    d = dict()    \n",
    "    d['username']= u\n",
    "    d['password']= p\n",
    "    d['apt'] = 't'\n",
    "    url = 'https://www.wordseye.com/login'    \n",
    "    # has to be a http POST request, not a GET\n",
    "    r = requests.post(url, data=d)\n",
    "    \n",
    "    # permission cookie comes back in the headers - pull it out\n",
    "    return r.cookies['wordseye']"
   ]
  },
  {
   "cell_type": "code",
   "execution_count": null,
   "metadata": {},
   "outputs": [],
   "source": [
    "cookie = login()\n",
    "cookie"
   ]
  },
  {
   "cell_type": "code",
   "execution_count": null,
   "metadata": {},
   "outputs": [],
   "source": [
    "def invoke(text):\n",
    "    url = 'http://www.wordseye.com/workspace'\n",
    "    cookies = dict()\n",
    "    cookies['wordseye'] = cookie\n",
    "    params = dict()\n",
    "    params['new'] = 't'\n",
    "    requests.get(url, params=params, cookies=cookies)\n",
    "\n",
    "    params = dict()\n",
    "    params['api'] = 't'\n",
    "    params['depict'] = 't'\n",
    "    params['ptext'] = text\n",
    "    params['provide_sample_scenes'] = 'f'\n",
    "    get = requests.get(url, params=params, \\\n",
    "                       cookies=cookies)\n",
    "    return get"
   ]
  },
  {
   "cell_type": "code",
   "execution_count": null,
   "metadata": {},
   "outputs": [],
   "source": [
    "# get back a pile of JSON from Wordseye server\n",
    "# JSON is very similiar to Python dicts\n",
    "# note binary strings\n",
    "\n",
    "get = invoke('tiger and dog')\n",
    "list(get)"
   ]
  },
  {
   "cell_type": "code",
   "execution_count": null,
   "metadata": {},
   "outputs": [],
   "source": [
    "# parse JSON into a dict\n",
    "\n",
    "get.json()"
   ]
  },
  {
   "cell_type": "code",
   "execution_count": null,
   "metadata": {},
   "outputs": [],
   "source": [
    "# pull url out, but junk at end\n",
    "\n",
    "def dd(text):\n",
    "    get = invoke(text)\n",
    "    pic = get.json()['url']\n",
    "    return pic\n",
    "\n",
    "dd('tiger and dog')"
   ]
  },
  {
   "cell_type": "code",
   "execution_count": null,
   "metadata": {},
   "outputs": [],
   "source": [
    "# this should do it\n",
    "\n",
    "def dd2(text):\n",
    "    get = invoke(text)\n",
    "    pic = get.json()['url']\n",
    "    pic2 = pic.split('?')\n",
    "    # finally got something to display\n",
    "    return Image(pic2[0])"
   ]
  },
  {
   "cell_type": "code",
   "execution_count": null,
   "metadata": {},
   "outputs": [],
   "source": [
    "dd2('tiger and dog')"
   ]
  },
  {
   "cell_type": "code",
   "execution_count": null,
   "metadata": {},
   "outputs": [],
   "source": [
    "dd2('orange sphere on matisse cube')"
   ]
  }
 ],
 "metadata": {
  "anaconda-cloud": {},
  "kernelspec": {
   "display_name": "Python 3",
   "language": "python",
   "name": "python3"
  },
  "language_info": {
   "codemirror_mode": {
    "name": "ipython",
    "version": 3
   },
   "file_extension": ".py",
   "mimetype": "text/x-python",
   "name": "python",
   "nbconvert_exporter": "python",
   "pygments_lexer": "ipython3",
   "version": "3.7.4"
  }
 },
 "nbformat": 4,
 "nbformat_minor": 1
}
