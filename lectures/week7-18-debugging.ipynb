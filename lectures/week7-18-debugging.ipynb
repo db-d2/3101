{
 "cells": [
  {
   "cell_type": "markdown",
   "metadata": {},
   "source": [
    "# Debugging\n",
    "\n",
    "- the tried and true - stick print statements in your code"
   ]
  },
  {
   "cell_type": "code",
   "execution_count": null,
   "metadata": {},
   "outputs": [],
   "source": [
    "def fact(arg):\n",
    "    print('arg', arg)\n",
    "    ret = 1 if arg == 0 else arg * fact(arg-1)\n",
    "    print('ret', ret)\n",
    "    return(ret)\n",
    "\n",
    "fact(3)"
   ]
  },
  {
   "cell_type": "markdown",
   "metadata": {},
   "source": [
    "# assert statement\n",
    "- 1st arg is an expression\n",
    "- 2nd arg is error message\n",
    "- if the expression is false, an AssertionError is raised\n",
    "- if optimization is turned on (-O on command line) asserts are ignored"
   ]
  },
  {
   "cell_type": "code",
   "execution_count": null,
   "metadata": {},
   "outputs": [],
   "source": [
    "def a(n):\n",
    "    assert n == 4, 'did not get 4!!'"
   ]
  },
  {
   "cell_type": "code",
   "execution_count": null,
   "metadata": {},
   "outputs": [],
   "source": [
    "a(4)"
   ]
  },
  {
   "cell_type": "code",
   "execution_count": null,
   "metadata": {},
   "outputs": [],
   "source": [
    "a(6)"
   ]
  },
  {
   "cell_type": "markdown",
   "metadata": {},
   "source": [
    "# pdb - Python debugger\n",
    "- easiest to run in spyder, but also works in notebooks and command line\n",
    "- there are two ways to start it\n",
    "- use debug-code.py"
   ]
  },
  {
   "cell_type": "code",
   "execution_count": null,
   "metadata": {},
   "outputs": [],
   "source": [
    "import pdb\n",
    "\n",
    "def foo(n):\n",
    "    a = 2 * n\n",
    "    b = a * 3.14\n",
    "    if a < b:\n",
    "        print('b', b)\n",
    "    else:\n",
    "        print('a', a)\n",
    "    x = a + b\n",
    "    return x\n",
    "        \n",
    "# run it under debugger from the start\n",
    "\n",
    "pdb.runeval('foo(3)')"
   ]
  },
  {
   "cell_type": "code",
   "execution_count": null,
   "metadata": {},
   "outputs": [],
   "source": [
    "def bar(n):\n",
    "    a = 2 * n\n",
    "    b = a * 3.14\n",
    "    # start debugger when execution reaches this point\n",
    "    pdb.set_trace()\n",
    "    if a < b:\n",
    "        print('b', b)\n",
    "    else:\n",
    "        print('a', a)\n",
    "    x = a + b\n",
    "    return x\n",
    "\n",
    "bar(3)"
   ]
  },
  {
   "cell_type": "markdown",
   "metadata": {},
   "source": [
    "# IDE's\n",
    "- [spyder](https://www.spyder-ide.org) is included in Anaconda\n",
    "    - very reasonable, straightforward\n",
    "    \n",
    "- [pycharm](https://www.jetbrains.com/pycharm/features/)\n",
    "    - high end system\n",
    "    - not totally free"
   ]
  }
 ],
 "metadata": {
  "anaconda-cloud": {},
  "kernelspec": {
   "display_name": "Python 3",
   "language": "python",
   "name": "python3"
  },
  "language_info": {
   "codemirror_mode": {
    "name": "ipython",
    "version": 3
   },
   "file_extension": ".py",
   "mimetype": "text/x-python",
   "name": "python",
   "nbconvert_exporter": "python",
   "pygments_lexer": "ipython3",
   "version": "3.7.4"
  }
 },
 "nbformat": 4,
 "nbformat_minor": 1
}
