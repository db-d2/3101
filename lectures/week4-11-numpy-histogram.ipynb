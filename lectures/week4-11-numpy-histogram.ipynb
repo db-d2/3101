{
 "cells": [
  {
   "cell_type": "markdown",
   "metadata": {},
   "source": [
    "# Gaussian histogram with numpy\n",
    "- count the number of samples that fall into each bin, and graph the counts\n",
    "- no explicit loops!\n"
   ]
  },
  {
   "cell_type": "code",
   "execution_count": 1,
   "metadata": {},
   "outputs": [],
   "source": [
    "# setup\n",
    "\n",
    "import numpy as np\n",
    "import random\n",
    "import matplotlib.pyplot as plt\n",
    "\n",
    "# make plots render in the notebook, \n",
    "# instead of in an external window,\n",
    "# which tends to be annoying\n",
    "%matplotlib inline"
   ]
  },
  {
   "cell_type": "markdown",
   "metadata": {},
   "source": [
    "# [np.random.normal](https://docs.scipy.org/doc/numpy/reference/generated/numpy.random.normal.html?highlight=random%20normal#numpy.random.normal)"
   ]
  },
  {
   "cell_type": "code",
   "execution_count": 2,
   "metadata": {},
   "outputs": [
    {
     "data": {
      "text/plain": [
       "(array([-1.25096872, -0.62963182,  0.00777228, ...,  1.43768831,\n",
       "         0.4307927 , -0.06768811]), 100000)"
      ]
     },
     "execution_count": 2,
     "metadata": {},
     "output_type": "execute_result"
    }
   ],
   "source": [
    "# get some randoms\n",
    "\n",
    "a=np.random.normal(size=100_000)\n",
    "a,len(a)"
   ]
  },
  {
   "cell_type": "markdown",
   "metadata": {},
   "source": [
    "# [np.absolute](https://docs.scipy.org/doc/numpy/reference/generated/numpy.absolute.html?highlight=numpy%20abs)"
   ]
  },
  {
   "cell_type": "code",
   "execution_count": 3,
   "metadata": {},
   "outputs": [
    {
     "data": {
      "text/plain": [
       "(array([-1.25096872, -0.62963182,  0.00777228, ...,  1.43768831,\n",
       "         0.4307927 , -0.06768811]), 99712)"
      ]
     },
     "execution_count": 3,
     "metadata": {},
     "output_type": "execute_result"
    }
   ],
   "source": [
    "# throw away big values\n",
    "# use booleans\n",
    "\n",
    "a2 = a[np.absolute(a) < 3]\n",
    "a2, len(a2)"
   ]
  },
  {
   "cell_type": "code",
   "execution_count": 4,
   "metadata": {},
   "outputs": [
    {
     "data": {
      "text/plain": [
       "(array([-6.25484358, -3.1481591 ,  0.03886141, ...,  7.18844153,\n",
       "         2.15396348, -0.33844056]), 99712)"
      ]
     },
     "execution_count": 4,
     "metadata": {},
     "output_type": "execute_result"
    }
   ],
   "source": [
    "# make bins .2 wide\n",
    "\n",
    "bucket = .2\n",
    "# vector/scalar division\n",
    "a2 /= bucket\n",
    "a2, len(a2)"
   ]
  },
  {
   "cell_type": "markdown",
   "metadata": {},
   "source": [
    "# [np.trunc](https://docs.scipy.org/doc/numpy/reference/generated/numpy.trunc.html?highlight=trunc#numpy.trunc)\n",
    "- discards fractional part"
   ]
  },
  {
   "cell_type": "code",
   "execution_count": 6,
   "metadata": {},
   "outputs": [
    {
     "data": {
      "text/plain": [
       "array([-4.,  3.])"
      ]
     },
     "execution_count": 6,
     "metadata": {},
     "output_type": "execute_result"
    }
   ],
   "source": [
    "np.trunc([-4.345, 3.45])"
   ]
  },
  {
   "cell_type": "code",
   "execution_count": 7,
   "metadata": {},
   "outputs": [
    {
     "data": {
      "text/plain": [
       "(array([-6., -3.,  0., ...,  7.,  2., -0.]), 14.0, -14.0)"
      ]
     },
     "execution_count": 7,
     "metadata": {},
     "output_type": "execute_result"
    }
   ],
   "source": [
    "b = np.trunc(a2)\n",
    "b, np.max(b), np.min(b)"
   ]
  },
  {
   "cell_type": "markdown",
   "metadata": {},
   "source": [
    "# [np.unique](https://docs.scipy.org/doc/numpy/reference/generated/numpy.unique.html)\n",
    "- yields unique values and how many times they appear\n",
    "- easy way to write rlencode"
   ]
  },
  {
   "cell_type": "code",
   "execution_count": 9,
   "metadata": {},
   "outputs": [
    {
     "data": {
      "text/plain": [
       "(29,\n",
       " 29,\n",
       " array([-14., -13., -12., -11., -10.,  -9.,  -8.,  -7.,  -6.,  -5.,  -4.,\n",
       "         -3.,  -2.,  -1.,  -0.,   1.,   2.,   3.,   4.,   5.,   6.,   7.,\n",
       "          8.,   9.,  10.,  11.,  12.,  13.,  14.]),\n",
       " array([  128,   203,   356,   601,   898,  1356,  1814,  2623,  3413,\n",
       "         4424,  5255,  6208,  6914,  7576, 15920,  7627,  7111,  6191,\n",
       "         5357,  4339,  3396,  2634,  1889,  1381,   886,   528,   379,\n",
       "          199,   106]))"
      ]
     },
     "execution_count": 9,
     "metadata": {},
     "output_type": "execute_result"
    }
   ],
   "source": [
    "x,val = np.unique(b, return_counts=True)\n",
    "len(x), len(val), x,val"
   ]
  },
  {
   "cell_type": "markdown",
   "metadata": {},
   "source": [
    "# [plt.bar](https://matplotlib.org/api/_as_gen/matplotlib.pyplot.bar.html)"
   ]
  },
  {
   "cell_type": "code",
   "execution_count": 10,
   "metadata": {},
   "outputs": [
    {
     "data": {
      "text/plain": [
       "<BarContainer object of 29 artists>"
      ]
     },
     "execution_count": 10,
     "metadata": {},
     "output_type": "execute_result"
    },
    {
     "data": {
      "image/png": "[encoded data removed]",
      "text/plain": [
       "<Figure size 432x288 with 1 Axes>"
      ]
     },
     "metadata": {
      "needs_background": "light"
     },
     "output_type": "display_data"
    }
   ],
   "source": [
    "plt.bar(x, val)"
   ]
  },
  {
   "cell_type": "markdown",
   "metadata": {},
   "source": [
    "# [np.linspace](https://docs.scipy.org/doc/numpy/reference/generated/numpy.linspace.html?highlight=linspace#numpy.linspace)\n",
    "- generates a mesh\n",
    "- useful for evaluating vector functions"
   ]
  },
  {
   "cell_type": "code",
   "execution_count": 31,
   "metadata": {},
   "outputs": [
    {
     "data": {
      "text/plain": [
       "(array([0.        , 0.17453293, 0.34906585, 0.52359878, 0.6981317 ,\n",
       "        0.87266463, 1.04719755, 1.22173048, 1.3962634 , 1.57079633]),\n",
       " array([0.        , 0.17364818, 0.34202014, 0.5       , 0.64278761,\n",
       "        0.76604444, 0.8660254 , 0.93969262, 0.98480775, 1.        ]))"
      ]
     },
     "execution_count": 31,
     "metadata": {},
     "output_type": "execute_result"
    }
   ],
   "source": [
    "# np.sin is a vector function\n",
    "\n",
    "x = np.linspace(0, np.pi/2, 10)\n",
    "y = np.sin(x)\n",
    "x,y"
   ]
  },
  {
   "cell_type": "code",
   "execution_count": 45,
   "metadata": {},
   "outputs": [],
   "source": [
    "def plotf(func, low, high):\n",
    "    # func is function to plot\n",
    "    # make a set of x vals\n",
    "    x = np.linspace(low, high, 50)\n",
    "    # vector eval the func on the x vals \n",
    "    # no loop!\n",
    "    y = func(x)\n",
    "    plt.plot(x, y, 'r', linewidth=10)\n",
    "    plt.grid(True)"
   ]
  },
  {
   "cell_type": "code",
   "execution_count": 46,
   "metadata": {},
   "outputs": [
    {
     "data": {
      "image/png": "[encoded data removed]",
      "text/plain": [
       "<Figure size 432x288 with 1 Axes>"
      ]
     },
     "metadata": {
      "needs_background": "light"
     },
     "output_type": "display_data"
    }
   ],
   "source": [
    "# test\n",
    "\n",
    "plotf(np.sin, 0, np.pi*2)"
   ]
  },
  {
   "cell_type": "code",
   "execution_count": 47,
   "metadata": {},
   "outputs": [
    {
     "data": {
      "image/png": "[encoded data removed]",
      "text/plain": [
       "<Figure size 432x288 with 1 Axes>"
      ]
     },
     "metadata": {
      "needs_background": "light"
     },
     "output_type": "display_data"
    }
   ],
   "source": [
    "plotf(np.trunc, -3, 3)"
   ]
  },
  {
   "cell_type": "code",
   "execution_count": 48,
   "metadata": {},
   "outputs": [
    {
     "data": {
      "text/plain": [
       "(0.0, -0.0)"
      ]
     },
     "execution_count": 48,
     "metadata": {},
     "output_type": "execute_result"
    }
   ],
   "source": [
    "# trunc does wrong thing for -1<x<0\n",
    "\n",
    "np.trunc(.343), np.trunc(-.342)"
   ]
  },
  {
   "cell_type": "markdown",
   "metadata": {},
   "source": [
    "# use [np.floor](https://docs.scipy.org/doc/numpy/reference/generated/numpy.floor.html?highlight=floor#numpy.floor) instead of np.trunc"
   ]
  },
  {
   "cell_type": "code",
   "execution_count": 49,
   "metadata": {},
   "outputs": [
    {
     "data": {
      "text/plain": [
       "(0.0, -1.0)"
      ]
     },
     "execution_count": 49,
     "metadata": {},
     "output_type": "execute_result"
    }
   ],
   "source": [
    "np.floor(.343), np.floor(-.342)"
   ]
  },
  {
   "cell_type": "code",
   "execution_count": 50,
   "metadata": {},
   "outputs": [
    {
     "data": {
      "image/png": "[encoded data removed]",
      "text/plain": [
       "<Figure size 432x288 with 1 Axes>"
      ]
     },
     "metadata": {
      "needs_background": "light"
     },
     "output_type": "display_data"
    }
   ],
   "source": [
    "plotf(np.floor,-3,3)"
   ]
  },
  {
   "cell_type": "code",
   "execution_count": 51,
   "metadata": {},
   "outputs": [
    {
     "data": {
      "text/plain": [
       "<BarContainer object of 30 artists>"
      ]
     },
     "execution_count": 51,
     "metadata": {},
     "output_type": "execute_result"
    },
    {
     "data": {
      "image/png": "[encoded data removed]",
      "text/plain": [
       "<Figure size 432x288 with 1 Axes>"
      ]
     },
     "metadata": {
      "needs_background": "light"
     },
     "output_type": "display_data"
    }
   ],
   "source": [
    "a=np.random.normal(size=100_000)\n",
    "a2 = a[np.abs(a) < 3]\n",
    "a2 /= bucket\n",
    "a3 = np.floor(a2)\n",
    "x,val = np.unique(a3, return_counts=True)\n",
    "plt.bar(x , val)"
   ]
  },
  {
   "cell_type": "code",
   "execution_count": 54,
   "metadata": {},
   "outputs": [
    {
     "data": {
      "text/plain": [
       "<BarContainer object of 30 artists>"
      ]
     },
     "execution_count": 54,
     "metadata": {},
     "output_type": "execute_result"
    },
    {
     "data": {
      "image/png": "[encoded data removed]",
      "text/plain": [
       "<Figure size 432x288 with 1 Axes>"
      ]
     },
     "metadata": {
      "needs_background": "light"
     },
     "output_type": "display_data"
    }
   ],
   "source": [
    "# another little bug - label x axis correctly\n",
    "# why does look change??\n",
    "\n",
    "plt.bar(x * bucket, val)"
   ]
  },
  {
   "cell_type": "code",
   "execution_count": 55,
   "metadata": {},
   "outputs": [
    {
     "data": {
      "text/plain": [
       "<BarContainer object of 30 artists>"
      ]
     },
     "execution_count": 55,
     "metadata": {},
     "output_type": "execute_result"
    },
    {
     "data": {
      "image/png": "[encoded data removed]",
      "text/plain": [
       "<Figure size 432x288 with 1 Axes>"
      ]
     },
     "metadata": {
      "needs_background": "light"
     },
     "output_type": "display_data"
    }
   ],
   "source": [
    "# fix bar width\n",
    "\n",
    "plt.bar(x * bucket, val, width=.15)"
   ]
  }
 ],
 "metadata": {
  "kernelspec": {
   "display_name": "Python 3",
   "language": "python",
   "name": "python3"
  },
  "language_info": {
   "codemirror_mode": {
    "name": "ipython",
    "version": 3
   },
   "file_extension": ".py",
   "mimetype": "text/x-python",
   "name": "python",
   "nbconvert_exporter": "python",
   "pygments_lexer": "ipython3",
   "version": "3.7.4"
  }
 },
 "nbformat": 4,
 "nbformat_minor": 2
}
