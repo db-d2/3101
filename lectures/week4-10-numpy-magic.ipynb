{
 "cells": [
  {
   "cell_type": "markdown",
   "metadata": {},
   "source": [
    "# Example - Magic Squares\n",
    "- a magic square is a 2D square array where all the rows, columns, and both diagonals sum to the same number\n",
    "- write function 'magic' \n",
    "    - if arg is not a 2D square numpy array, raise appropriate errors\n",
    "    - if arg is not a magic square, return false\n",
    "    - if arg is a magic square, return the sum\n",
    "    - don't use any explicit loops\n",
    "- illustrate various kinds of advanced indexing"
   ]
  },
  {
   "cell_type": "code",
   "execution_count": null,
   "metadata": {},
   "outputs": [],
   "source": [
    "import numpy as np\n",
    "\n",
    "def magic(a):\n",
    "    # check we have a legitimate arg\n",
    "    if not isinstance(a, np.ndarray):\n",
    "        raise ValueError('not an array')\n",
    "    shape = a.shape\n",
    "    if not 2 == len(shape):\n",
    "        raise ValueError('not a 2D array')\n",
    "    if not shape[0]==shape[1]:\n",
    "        raise ValueError('not square')\n",
    "\n",
    "    # ok, we have a 2D square numpy array\n",
    "    side = shape[0]\n",
    "    \n",
    "    #  1D array, len = side, of column sums\n",
    "    colsums = a.sum(axis=0)\n",
    "    # every sum has to be equal to this one\n",
    "    msum = colsums[0]\n",
    "    \n",
    "    # make 1D, len = side, BOOLEAN array\n",
    "    # contents of array will be \n",
    "    # sum == colsum[0], sum == colsum[1]...\n",
    "    colbools = msum == colsums\n",
    "    # ok only if each bool is True\n",
    "    if not colbools.all():\n",
    "        return False\n",
    "    \n",
    "    # check row sums\n",
    "    rowsums = a.sum(axis=1)\n",
    "    rowbools = msum == rowsums\n",
    "    if not rowbools.all():\n",
    "        return False\n",
    "    \n",
    "    # True on major diagonal, other elements False\n",
    "    boolmajor = np.identity(side, dtype=bool)\n",
    "    # use boolean addressing to pull the \n",
    "    # elements of 'a' corresponding to True\n",
    "    # into a 1D array\n",
    "    majordiag = a[boolmajor]\n",
    "    if msum != majordiag.sum():\n",
    "        return False\n",
    "\n",
    "    # check minor diagonal\n",
    "    boolminor = np.rot90(boolmajor)\n",
    "    minordiag = a[boolminor]\n",
    "    if msum != minordiag.sum():\n",
    "        return False\n",
    "\n",
    "    # everything worked!\n",
    "    return msum\n",
    "    "
   ]
  },
  {
   "cell_type": "code",
   "execution_count": null,
   "metadata": {},
   "outputs": [],
   "source": [
    "# check data type\n",
    "\n",
    "magic([2,3,4])"
   ]
  },
  {
   "cell_type": "code",
   "execution_count": null,
   "metadata": {},
   "outputs": [],
   "source": [
    "# check for 2D\n",
    "\n",
    "magic(np.array([4,5]))"
   ]
  },
  {
   "cell_type": "code",
   "execution_count": null,
   "metadata": {},
   "outputs": [],
   "source": [
    "# not magic\n",
    "\n",
    "m = np.array([[3, 11,  6],\n",
    "             [ 9,  7,  5],\n",
    "             [ 8,  3, 10]])\n",
    "\n",
    "magic(m)"
   ]
  },
  {
   "cell_type": "code",
   "execution_count": null,
   "metadata": {},
   "outputs": [],
   "source": [
    "# fix it\n",
    "\n",
    "m[0,0] = 4\n",
    "m"
   ]
  },
  {
   "cell_type": "code",
   "execution_count": null,
   "metadata": {},
   "outputs": [],
   "source": [
    "magic(m)"
   ]
  }
 ],
 "metadata": {
  "kernelspec": {
   "display_name": "Python 3",
   "language": "python",
   "name": "python3"
  },
  "language_info": {
   "codemirror_mode": {
    "name": "ipython",
    "version": 3
   },
   "file_extension": ".py",
   "mimetype": "text/x-python",
   "name": "python",
   "nbconvert_exporter": "python",
   "pygments_lexer": "ipython3",
   "version": "3.7.4"
  }
 },
 "nbformat": 4,
 "nbformat_minor": 2
}
