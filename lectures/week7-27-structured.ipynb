{
 "cells": [
  {
   "cell_type": "markdown",
   "metadata": {},
   "source": [
    "# Structured Language Tools\n",
    "- tools to read and write structured languages\n"
   ]
  },
  {
   "cell_type": "markdown",
   "metadata": {},
   "source": [
    "# JSON\n",
    "- JSON format very similar to python lists and dicts\n",
    "- JSON used extensively in many internet protcols\n",
    "- replacement for XML\n",
    "- [doc](https://docs.python.org/3.6/library/json.html)"
   ]
  },
  {
   "cell_type": "code",
   "execution_count": null,
   "metadata": {},
   "outputs": [],
   "source": [
    "# convert python to JSON string\n",
    "\n",
    "import json\n",
    "\n",
    "data = ['foo', {'bar': ('baz', None, 1.0, 2)}]\n",
    "js = json.dumps(data)\n",
    "js"
   ]
  },
  {
   "cell_type": "code",
   "execution_count": null,
   "metadata": {},
   "outputs": [],
   "source": [
    "# can do 'pretty printing'\n",
    "\n",
    "print(json.dumps(data, sort_keys=True, indent=4))"
   ]
  },
  {
   "cell_type": "code",
   "execution_count": null,
   "metadata": {},
   "outputs": [],
   "source": [
    "# convert JSON back to Python\n",
    "\n",
    "json.loads(js)"
   ]
  },
  {
   "cell_type": "markdown",
   "metadata": {},
   "source": [
    "# yaml\n",
    "- superset of JSON\n",
    "- [doc](https://pyyaml.org/wiki/PyYAMLDocumentation)"
   ]
  },
  {
   "cell_type": "code",
   "execution_count": null,
   "metadata": {},
   "outputs": [],
   "source": [
    "import yaml\n",
    "\n",
    "s = yaml.dump([2,3,[5,6],{44:55, 66:77}])\n",
    "\n",
    "print(s)"
   ]
  },
  {
   "cell_type": "code",
   "execution_count": null,
   "metadata": {},
   "outputs": [],
   "source": [
    "yaml.load(s, Loader=yaml.Loader)"
   ]
  },
  {
   "cell_type": "markdown",
   "metadata": {},
   "source": [
    "# XML parser\n",
    "- [doc](https://docs.python.org/3.6/library/xml.etree.elementtree.html)"
   ]
  },
  {
   "cell_type": "code",
   "execution_count": null,
   "metadata": {},
   "outputs": [],
   "source": [
    "xml= '''<?xml version=\"1.0\"?>\n",
    "<data>\n",
    "    <country name=\"Liechtenstein\">\n",
    "        <rank>1</rank>\n",
    "        <year>2008</year>\n",
    "        <gdppc>141100</gdppc>\n",
    "        <neighbor name=\"Austria\" direction=\"E\"/>\n",
    "        <neighbor name=\"Switzerland\" direction=\"W\"/>\n",
    "    </country>\n",
    "    <country name=\"Singapore\">\n",
    "        <rank>4</rank>\n",
    "        <year>2011</year>\n",
    "        <gdppc>59900</gdppc>\n",
    "        <neighbor name=\"Malaysia\" direction=\"N\"/>\n",
    "    </country>\n",
    "    <country name=\"Panama\">\n",
    "        <rank>68</rank>\n",
    "        <year>2011</year>\n",
    "        <gdppc>13600</gdppc>\n",
    "        <neighbor name=\"Costa Rica\" direction=\"W\"/>\n",
    "        <neighbor name=\"Colombia\" direction=\"E\"/>\n",
    "    </country>\n",
    "</data>\n",
    "\n",
    "'''"
   ]
  },
  {
   "cell_type": "code",
   "execution_count": null,
   "metadata": {},
   "outputs": [],
   "source": [
    "import xml.etree.ElementTree as ET\n",
    "\n",
    "root = ET.fromstring(xml)"
   ]
  },
  {
   "cell_type": "code",
   "execution_count": null,
   "metadata": {},
   "outputs": [],
   "source": [
    "# top level tag\n",
    "\n",
    "root.tag"
   ]
  },
  {
   "cell_type": "code",
   "execution_count": null,
   "metadata": {},
   "outputs": [],
   "source": [
    "# 3 tags below the root\n",
    "\n",
    "for c in root:\n",
    "    print(c, c.items(), c.find('rank').text)"
   ]
  },
  {
   "cell_type": "code",
   "execution_count": null,
   "metadata": {},
   "outputs": [],
   "source": [
    "[a,b,c] = list(root)"
   ]
  },
  {
   "cell_type": "code",
   "execution_count": null,
   "metadata": {},
   "outputs": [],
   "source": [
    "[a.items(), b.items(), c.items()]"
   ]
  },
  {
   "cell_type": "code",
   "execution_count": null,
   "metadata": {},
   "outputs": [],
   "source": [
    "# can search xml parse tree\n",
    "\n",
    "[a.find('year').text, b.find('neighbor'), c.find('rank').text]"
   ]
  },
  {
   "cell_type": "markdown",
   "metadata": {},
   "source": [
    "# HTML parser\n",
    "- interesting technique\n",
    "    - define methods for tags you care about\n",
    "    - methods are called when tags are encountered\n",
    "- [doc](https://docs.python.org/3.6/library/html.parser.html)"
   ]
  },
  {
   "cell_type": "code",
   "execution_count": null,
   "metadata": {},
   "outputs": [],
   "source": [
    "from html.parser import HTMLParser\n",
    "\n",
    "class MyHTMLParser(HTMLParser):\n",
    "    def handle_starttag(self, tag, attrs):\n",
    "        print(\"Encountered a start tag:\", tag)\n",
    "    def handle_endtag(self, tag):\n",
    "        print(\"Encountered an end tag :\", tag)\n",
    "    def handle_data(self, data):\n",
    "        print(\"Encountered some data  :\", data)\n",
    "\n",
    "parser = MyHTMLParser()\n",
    "parser.feed('<html><head><title>Test</title></head>'\n",
    "            '<body><h1>Parse me!</h1></body></html>')"
   ]
  }
 ],
 "metadata": {
  "anaconda-cloud": {},
  "kernelspec": {
   "display_name": "Python 3",
   "language": "python",
   "name": "python3"
  },
  "language_info": {
   "codemirror_mode": {
    "name": "ipython",
    "version": 3
   },
   "file_extension": ".py",
   "mimetype": "text/x-python",
   "name": "python",
   "nbconvert_exporter": "python",
   "pygments_lexer": "ipython3",
   "version": "3.7.4"
  }
 },
 "nbformat": 4,
 "nbformat_minor": 1
}
