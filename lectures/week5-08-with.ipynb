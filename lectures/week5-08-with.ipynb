{
 "cells": [
  {
   "cell_type": "markdown",
   "metadata": {},
   "source": [
    "# 'with' statement\n",
    "- very common pattern in software is to aquire some kind of resource or context,\n",
    "use it for awhile, then return it or undo it. \n",
    "- common examples are file and network descriptors\n",
    "    - very important to use descriptors correctly\n",
    "    - running out of descriptors can crash a server"
   ]
  },
  {
   "cell_type": "code",
   "execution_count": 1,
   "metadata": {},
   "outputs": [],
   "source": [
    "# tedious to write all this out\n",
    "\n",
    "import tempfile\n",
    "\n",
    "tmp = tempfile.NamedTemporaryFile().name\n",
    "\n",
    "fd = open(tmp, 'w')\n",
    "# do things that might fail somehow\n",
    "try:\n",
    "    fd.write('foo')\n",
    "finally: \n",
    "    # error or not, want to close the file descriptor\n",
    "    # finally clause guarantees close will happen\n",
    "    fd.close()"
   ]
  },
  {
   "cell_type": "code",
   "execution_count": 2,
   "metadata": {},
   "outputs": [],
   "source": [
    "# instead, use 'with'\n",
    "# less work, more consise\n",
    "\n",
    "with open(tmp, 'w') as fd:\n",
    "    fd.write('foo')\n"
   ]
  },
  {
   "cell_type": "markdown",
   "metadata": {},
   "source": [
    "# Example - dominate module\n",
    "- surpising and elegant implementation of a HTML builder using 'with' context protocol\n",
    "- must install it:\n",
    "    - pip install dominate\n",
    "- [doc](https://github.com/Knio/dominate)"
   ]
  },
  {
   "cell_type": "code",
   "execution_count": 3,
   "metadata": {},
   "outputs": [
    {
     "ename": "ModuleNotFoundError",
     "evalue": "No module named 'dominate'",
     "output_type": "error",
     "traceback": [
      "\u001b[0;31m---------------------------------------------------------------------------\u001b[0m",
      "\u001b[0;31mModuleNotFoundError\u001b[0m                       Traceback (most recent call last)",
      "\u001b[0;32m<ipython-input-3-d4c1d15ee8ce>\u001b[0m in \u001b[0;36m<module>\u001b[0;34m\u001b[0m\n\u001b[1;32m      1\u001b[0m \u001b[0;31m# will use this in an example soon\u001b[0m\u001b[0;34m\u001b[0m\u001b[0;34m\u001b[0m\u001b[0;34m\u001b[0m\u001b[0m\n\u001b[1;32m      2\u001b[0m \u001b[0;34m\u001b[0m\u001b[0m\n\u001b[0;32m----> 3\u001b[0;31m \u001b[0;32mimport\u001b[0m \u001b[0mdominate\u001b[0m\u001b[0;34m\u001b[0m\u001b[0;34m\u001b[0m\u001b[0m\n\u001b[0m\u001b[1;32m      4\u001b[0m \u001b[0;32mfrom\u001b[0m \u001b[0mdominate\u001b[0m\u001b[0;34m.\u001b[0m\u001b[0mtags\u001b[0m \u001b[0;32mimport\u001b[0m \u001b[0;34m*\u001b[0m\u001b[0;34m\u001b[0m\u001b[0;34m\u001b[0m\u001b[0m\n\u001b[1;32m      5\u001b[0m \u001b[0;34m\u001b[0m\u001b[0m\n",
      "\u001b[0;31mModuleNotFoundError\u001b[0m: No module named 'dominate'"
     ]
    }
   ],
   "source": [
    "# will use this in an example soon\n",
    "\n",
    "import dominate\n",
    "from dominate.tags import *\n",
    "\n",
    "doc = dominate.document(title='HTML via with')\n",
    "\n",
    "with doc.head:\n",
    "    link(rel='stylesheet', href='style.css')\n",
    "    script(type='text/javascript', src='script.js')\n",
    "\n",
    "with doc.body:\n",
    "    with div(id='header').add(ol()):\n",
    "        for j in range(3):\n",
    "            for t in ['mp3', 'pdf']:\n",
    "                li(a(f'{j}.{t}', href=f'data/{j}.{t}'))\n",
    "\n",
    "\n",
    "print(doc)"
   ]
  },
  {
   "cell_type": "code",
   "execution_count": 4,
   "metadata": {},
   "outputs": [
    {
     "ename": "NameError",
     "evalue": "name 'div' is not defined",
     "output_type": "error",
     "traceback": [
      "\u001b[0;31m---------------------------------------------------------------------------\u001b[0m",
      "\u001b[0;31mNameError\u001b[0m                                 Traceback (most recent call last)",
      "\u001b[0;32m<ipython-input-4-5c0a7d5b7f74>\u001b[0m in \u001b[0;36m<module>\u001b[0;34m\u001b[0m\n\u001b[1;32m      1\u001b[0m \u001b[0;31m# dominate can also use decorators...\u001b[0m\u001b[0;34m\u001b[0m\u001b[0;34m\u001b[0m\u001b[0;34m\u001b[0m\u001b[0m\n\u001b[1;32m      2\u001b[0m \u001b[0;34m\u001b[0m\u001b[0m\n\u001b[0;32m----> 3\u001b[0;31m \u001b[0;34m@\u001b[0m\u001b[0mdiv\u001b[0m\u001b[0;34m\u001b[0m\u001b[0;34m\u001b[0m\u001b[0m\n\u001b[0m\u001b[1;32m      4\u001b[0m \u001b[0;32mdef\u001b[0m \u001b[0mgreeting\u001b[0m\u001b[0;34m(\u001b[0m\u001b[0mname\u001b[0m\u001b[0;34m)\u001b[0m\u001b[0;34m:\u001b[0m\u001b[0;34m\u001b[0m\u001b[0;34m\u001b[0m\u001b[0m\n\u001b[1;32m      5\u001b[0m     \u001b[0mp\u001b[0m\u001b[0;34m(\u001b[0m\u001b[0;34m'Hello %s'\u001b[0m \u001b[0;34m%\u001b[0m \u001b[0mname\u001b[0m\u001b[0;34m)\u001b[0m\u001b[0;34m\u001b[0m\u001b[0;34m\u001b[0m\u001b[0m\n",
      "\u001b[0;31mNameError\u001b[0m: name 'div' is not defined"
     ]
    }
   ],
   "source": [
    "# dominate can also use decorators...\n",
    "\n",
    "@div\n",
    "def greeting(name):\n",
    "    p('Hello %s' % name)\n",
    "print(greeting('Bob'))"
   ]
  },
  {
   "cell_type": "markdown",
   "metadata": {},
   "source": [
    "# 'with' implements 'context manager' protocol\n",
    "- like iteration protocol, a general protocol implemented by many classes\n",
    "- ```__enter__``` method - called at start of with block\n",
    "    - allocate resources\n",
    "- do work with resources\n",
    "- ```__exit__``` method - called at end of with block, or when error raised\n",
    "    - release resources"
   ]
  },
  {
   "cell_type": "code",
   "execution_count": 5,
   "metadata": {},
   "outputs": [],
   "source": [
    "class File():\n",
    "\n",
    "    def __init__(self, filename, mode):\n",
    "        self.filename = filename\n",
    "        self.mode = mode\n",
    "\n",
    "    def __enter__(self):\n",
    "        print('enter')\n",
    "        self.open_file = open(self.filename, self.mode)\n",
    "        # as variable bound to this\n",
    "        return self.open_file\n",
    "\n",
    "    def __exit__(self, *args):\n",
    "        print('exit')\n",
    "        self.open_file.close()"
   ]
  },
  {
   "cell_type": "code",
   "execution_count": 6,
   "metadata": {},
   "outputs": [
    {
     "name": "stdout",
     "output_type": "stream",
     "text": [
      "enter\n",
      "here\n",
      "there\n",
      "exit\n"
     ]
    }
   ],
   "source": [
    "import tempfile\n",
    "        \n",
    "with File('/tmp/foo.txt', 'w') as fd:\n",
    "    print('here')\n",
    "    fd.write('foo')\n",
    "    print('there')"
   ]
  },
  {
   "cell_type": "code",
   "execution_count": 7,
   "metadata": {},
   "outputs": [
    {
     "name": "stdout",
     "output_type": "stream",
     "text": [
      "enter\n",
      "exit\n"
     ]
    }
   ],
   "source": [
    "# 'with' use above roughly equivalent to:\n",
    "\n",
    "f = File(tmp, 'w')\n",
    "fd = f.__enter__()\n",
    "try:\n",
    "    fd.write('foo')\n",
    "finally:\n",
    "    # always executed, closes the file descriptor\n",
    "    f.__exit__()\n"
   ]
  },
  {
   "cell_type": "markdown",
   "metadata": {},
   "source": [
    "#  use decorators\n",
    "and generators to implement a context manager\n",
    "- [doc](https://docs.python.org/3/library/contextlib.html)"
   ]
  },
  {
   "cell_type": "markdown",
   "metadata": {},
   "source": [
    "# Make a context manager for the current working directory"
   ]
  },
  {
   "cell_type": "code",
   "execution_count": 8,
   "metadata": {},
   "outputs": [],
   "source": [
    "from contextlib import contextmanager\n",
    "import os\n",
    "\n",
    "@contextmanager\n",
    "def withChdir(newdir):\n",
    "    savedir = os.getcwd()\n",
    "    os.chdir(newdir)\n",
    "    try:\n",
    "        yield\n",
    "    finally:\n",
    "        os.chdir(savedir)"
   ]
  },
  {
   "cell_type": "code",
   "execution_count": 9,
   "metadata": {},
   "outputs": [
    {
     "name": "stdout",
     "output_type": "stream",
     "text": [
      "/Users/dbenson30/Desktop/python/lectures\n",
      "/\n",
      "/Users/dbenson30/Desktop/python/lectures\n"
     ]
    }
   ],
   "source": [
    "# current working dir\n",
    "print(os.getcwd())\n",
    "\n",
    "# change it inside with context\n",
    "with withChdir('/'):\n",
    "    print( os.getcwd())\n",
    "        \n",
    "# dir before with is restored\n",
    "print(os.getcwd()) "
   ]
  },
  {
   "cell_type": "code",
   "execution_count": null,
   "metadata": {},
   "outputs": [],
   "source": []
  }
 ],
 "metadata": {
  "anaconda-cloud": {},
  "kernelspec": {
   "display_name": "Python 3",
   "language": "python",
   "name": "python3"
  },
  "language_info": {
   "codemirror_mode": {
    "name": "ipython",
    "version": 3
   },
   "file_extension": ".py",
   "mimetype": "text/x-python",
   "name": "python",
   "nbconvert_exporter": "python",
   "pygments_lexer": "ipython3",
   "version": "3.7.4"
  }
 },
 "nbformat": 4,
 "nbformat_minor": 1
}
