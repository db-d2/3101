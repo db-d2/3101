{
 "cells": [
  {
   "cell_type": "markdown",
   "metadata": {},
   "source": [
    "# Python GUI systems\n",
    "- issues to consider\n",
    "    - platform indepenence, or exploit native capabilities?\n",
    "    - browser based?\n",
    "        - write custom HTML(notebook renumber program), or use a framework?\n",
    "        - available over network?\n",
    "- [many choices](https://github.com/vinta/awesome-python#gui-development)!\n",
    "- [more still](https://wiki.python.org/moin/GuiProgramming)!"
   ]
  },
  {
   "cell_type": "markdown",
   "metadata": {},
   "source": [
    "# TkInter \n",
    "- historically the most popular GUI package for Python,\n",
    "but now browser based GUIs like Bokeh are perhaps preferred\n",
    "- TK was the GUI package for a language called TCL\n",
    "- fairly easy to learn and use\n",
    "- included in Python\n",
    "- has a somewhat dated look and feel\n",
    "- [doc for TK in general](https://tkdocs.com)\n",
    "- [doc for TK Python](https://wiki.python.org/moin/TkInter)\n",
    "- [TK tutorial](https://tkdocs.com/tutorial/index.html)\n",
    "\n"
   ]
  },
  {
   "cell_type": "code",
   "execution_count": 1,
   "metadata": {},
   "outputs": [],
   "source": [
    "from tkinter import *"
   ]
  },
  {
   "cell_type": "code",
   "execution_count": 2,
   "metadata": {},
   "outputs": [],
   "source": [
    "# Simple example - just one label widget\n",
    "# have to search to find the window\n",
    "# runs in an infinite loop - you have \n",
    "# to close the TK window to stop it, \n",
    "# or kill the kernel\n",
    "\n",
    "root = Tk()\n",
    "\n",
    "# stick a label in it\n",
    "w = Label(root, text=\"Hello, world!\")\n",
    "\n",
    "# do geometry calculations\n",
    "w.pack()\n",
    "\n",
    "# run event dispatch loop\n",
    "root.mainloop()"
   ]
  },
  {
   "cell_type": "code",
   "execution_count": null,
   "metadata": {},
   "outputs": [],
   "source": [
    "# define an 'app' with button handlers\n",
    "\n",
    "class App:\n",
    "\n",
    "    def __init__(self, master):\n",
    "        self.chkval = IntVar()\n",
    "        \n",
    "        frame = Frame(master)\n",
    "        frame.pack()\n",
    "\n",
    "        # frame.quit should terminate the gui\n",
    "        self.button = Button(\n",
    "            frame, text=\"QUIT\", fg=\"red\", \\\n",
    "            command=frame.quit)\n",
    "        self.button.pack(side=LEFT)\n",
    "\n",
    "        self.hi_there = Button(frame, \\\n",
    "                    text=\"Hello\", command=self.say_hi)\n",
    "        self.hi_there.pack(side=LEFT)\n",
    "        self.chk = Checkbutton(frame, \\\n",
    "                    text=\"Yes/No\", command=self.check, \\\n",
    "                               variable=self.chkval)\n",
    "        self.chk.pack(side=LEFT)\n",
    "\n",
    "    def say_hi(self):\n",
    "        print(\"hi there, everyone!\")\n",
    "        \n",
    "    def check(self):\n",
    "        print(\"yes/no %d\" % self.chkval.get())\n",
    "\n",
    "root = Tk()\n",
    "\n",
    "app = App(root)\n",
    "\n",
    "root.mainloop()\n",
    "root.destroy() "
   ]
  },
  {
   "cell_type": "code",
   "execution_count": null,
   "metadata": {},
   "outputs": [],
   "source": []
  }
 ],
 "metadata": {
  "anaconda-cloud": {},
  "kernelspec": {
   "display_name": "Python 3",
   "language": "python",
   "name": "python3"
  },
  "language_info": {
   "codemirror_mode": {
    "name": "ipython",
    "version": 3
   },
   "file_extension": ".py",
   "mimetype": "text/x-python",
   "name": "python",
   "nbconvert_exporter": "python",
   "pygments_lexer": "ipython3",
   "version": "3.7.3"
  }
 },
 "nbformat": 4,
 "nbformat_minor": 1
}
