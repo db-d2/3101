{
 "cells": [
  {
   "cell_type": "markdown",
   "metadata": {},
   "source": [
    "# unittest\n",
    "- automated testing\n",
    "- Python version of Java's Junit\n",
    "- lots of features, but all pretty straightforward\n",
    "- must run it from command line\n",
    "- lots test packages around, but unittest the most popular\n",
    "- run isPrime.py\n",
    "- [doc](https://docs.python.org/3.5/library/unittest.html)"
   ]
  },
  {
   "cell_type": "code",
   "execution_count": null,
   "metadata": {},
   "outputs": [],
   "source": [
    "import unittest\n",
    "\n",
    "def isPrime(n):\n",
    "    if n < 2:\n",
    "        return False\n",
    "    \n",
    "    if n == 2:\n",
    "        return True\n",
    "    \n",
    "    # bug to find\n",
    "    if n == 66:\n",
    "        return True\n",
    "    \n",
    "    # bug to find\n",
    "    if n == 31:\n",
    "        return False\n",
    "    \n",
    "    if n % 2 == 0:\n",
    "        return False\n",
    "    \n",
    "    for p in range(3, n, 2):\n",
    "        if n % p == 0:\n",
    "            return False\n",
    "    return True"
   ]
  },
  {
   "cell_type": "markdown",
   "metadata": {},
   "source": [
    "# test discovery\n",
    "- methods with a name that starts with \"test\" are considered to be tests and automatically run\n",
    "- all tests will be run\n",
    "- a test gives up after first error"
   ]
  },
  {
   "cell_type": "code",
   "execution_count": null,
   "metadata": {},
   "outputs": [],
   "source": [
    "primes = {2, 3, 5, 7, 11, 13, 17, 19, 23, \n",
    "          29, 31, 37, 41, 43, 47, 53, 59, \n",
    "          61, 67, 71, 73, 79, 83, 89, 97}\n",
    "\n",
    "class TestPrime(unittest.TestCase):\n",
    "    \n",
    "    def test_small(self):\n",
    "        for j in range(3):\n",
    "            if j in primes:\n",
    "                self.assertTrue(isPrime(j))\n",
    "            else:\n",
    "                self.assertFalse(isPrime(j))\n",
    "                \n",
    "    def test_evens(self):\n",
    "        for n in range(4,101,2):\n",
    "            self.assertFalse(isPrime(n), \n",
    "                             '{} is not prime'.format(n))\n",
    "    def test_odds(self):\n",
    "        for n in range(3,100,2):\n",
    "            if n in primes:\n",
    "                self.assertTrue(isPrime(n),\n",
    "                                '{} is prime'.format(n))\n",
    "            else:\n",
    "                self.assertFalse(isPrime(n),\n",
    "                                 '{} is not prime'.format(n))\n",
    "\n",
    "\n",
    "# runs the tests\n",
    "# but won't work in notebook - \n",
    "# must run from command line\n",
    "\n",
    "if __name__ == '__main__':\n",
    "    # executed if file invoked from command line\n",
    "    unittest.main()"
   ]
  }
 ],
 "metadata": {
  "anaconda-cloud": {},
  "kernelspec": {
   "display_name": "Python 3",
   "language": "python",
   "name": "python3"
  },
  "language_info": {
   "codemirror_mode": {
    "name": "ipython",
    "version": 3
   },
   "file_extension": ".py",
   "mimetype": "text/x-python",
   "name": "python",
   "nbconvert_exporter": "python",
   "pygments_lexer": "ipython3",
   "version": "3.7.4"
  }
 },
 "nbformat": 4,
 "nbformat_minor": 2
}
