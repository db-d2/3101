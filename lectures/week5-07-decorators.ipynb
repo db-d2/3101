{
 "cells": [
  {
   "cell_type": "markdown",
   "metadata": {},
   "source": [
    "# Decorators\n",
    "- Functions, classes, and methods can be 'decorated'\n",
    "- Decorators can be complex - will only show how to decorate functions\n",
    "- Similar to 'annotations and aspect' programming in java\n",
    "- Good for 'cross cutting' concerns, like security, metering, billing. \n",
    "- Surprising what can be done with decorators"
   ]
  },
  {
   "cell_type": "markdown",
   "metadata": {},
   "source": [
    "# Callables\n",
    "- a 'callable' is something that can be 'called' - applied to arguments\n",
    "    - functions and lambdas are callables\n",
    "    - objects can also be callables, by defining the ```__call__``` method"
   ]
  },
  {
   "cell_type": "code",
   "execution_count": 1,
   "metadata": {
    "scrolled": true
   },
   "outputs": [
    {
     "data": {
      "text/plain": [
       "(0.479425538604203, 0.479425538604203)"
      ]
     },
     "execution_count": 1,
     "metadata": {},
     "output_type": "execute_result"
    }
   ],
   "source": [
    "import math\n",
    "import time\n",
    "\n",
    "class Co:\n",
    "    \n",
    "    # args applied to object will call this method\n",
    "    def __call__(self, x):\n",
    "        return(math.sin(x))\n",
    "\n",
    "# make a Co object\n",
    "c = Co()\n",
    "\n",
    "# can call object like a function\n",
    "math.sin(.5), c(.5)\n",
    "    "
   ]
  },
  {
   "cell_type": "code",
   "execution_count": 2,
   "metadata": {
    "scrolled": true
   },
   "outputs": [
    {
     "data": {
      "text/plain": [
       "[(5, False),\n",
       " ('asdf', False),\n",
       " (<function math.sin(x, /)>, True),\n",
       " (<object at 0x10d72a790>, False),\n",
       " (<__main__.Co at 0x10dfdd6d0>, True)]"
      ]
     },
     "execution_count": 2,
     "metadata": {},
     "output_type": "execute_result"
    }
   ],
   "source": [
    "# predicate \n",
    "\n",
    "[(obj, callable(obj)) for obj in [5, \"asdf\", math.sin, object(), c]]"
   ]
  },
  {
   "cell_type": "markdown",
   "metadata": {},
   "source": [
    "# to decorate a function, define a callable class"
   ]
  },
  {
   "cell_type": "code",
   "execution_count": 3,
   "metadata": {
    "scrolled": true
   },
   "outputs": [],
   "source": [
    "class timefunc:\n",
    "    def __init__(self, func):\n",
    "        self.func = func\n",
    "    \n",
    "    def __call__(self, *pos, **kw):\n",
    "        start = time.time()\n",
    "        # call the \"original function\"\n",
    "        # hang on to return value\n",
    "        val = self.func(*pos, **kw)\n",
    "        \n",
    "        # compute and print runtime\n",
    "        interval = time.time() - start\n",
    "        #print('execution took {}'.format(interval))\n",
    "        print(f'execution took {interval}')\n",
    "        \n",
    "        # return the function value\n",
    "        return val\n",
    " "
   ]
  },
  {
   "cell_type": "code",
   "execution_count": 4,
   "metadata": {
    "scrolled": true
   },
   "outputs": [],
   "source": [
    "# decorators always start with '@'\n",
    "@timefunc\n",
    "\n",
    "def run(n, faster=None):\n",
    "    s = n/2 if faster else n\n",
    "    time.sleep(s)\n",
    "    return n * n"
   ]
  },
  {
   "cell_type": "markdown",
   "metadata": {},
   "source": [
    "# what  happened in cell above?\n",
    "- a function object was created, specified by the def run statement\n",
    "- an instance of timefunc was created, and the function object was passed to the init method\n",
    "- note use of ```*pos and **kw``` to pass thru any possible set of function args\n",
    "- the name 'run' was set to the instance of timefunc(a callable)"
   ]
  },
  {
   "cell_type": "code",
   "execution_count": 5,
   "metadata": {
    "scrolled": true
   },
   "outputs": [
    {
     "data": {
      "text/plain": [
       "(<__main__.timefunc at 0x10e050c50>, True)"
      ]
     },
     "execution_count": 5,
     "metadata": {},
     "output_type": "execute_result"
    }
   ],
   "source": [
    "# run is instance of timefunc\n",
    "\n",
    "run, callable(run)"
   ]
  },
  {
   "cell_type": "code",
   "execution_count": 6,
   "metadata": {
    "scrolled": true
   },
   "outputs": [
    {
     "name": "stdout",
     "output_type": "stream",
     "text": [
      "execution took 1.003420114517212\n"
     ]
    },
    {
     "data": {
      "text/plain": [
       "1"
      ]
     },
     "execution_count": 6,
     "metadata": {},
     "output_type": "execute_result"
    }
   ],
   "source": [
    "# invokes call method of timefunc object\n",
    "\n",
    "run(1)"
   ]
  },
  {
   "cell_type": "code",
   "execution_count": 7,
   "metadata": {
    "scrolled": true
   },
   "outputs": [
    {
     "name": "stdout",
     "output_type": "stream",
     "text": [
      "execution took 2.005188226699829\n"
     ]
    },
    {
     "data": {
      "text/plain": [
       "16"
      ]
     },
     "execution_count": 7,
     "metadata": {},
     "output_type": "execute_result"
    }
   ],
   "source": [
    "# args passed thru correctly\n",
    "\n",
    "run(4, faster=True)"
   ]
  },
  {
   "cell_type": "markdown",
   "metadata": {},
   "source": [
    "# more complex example - tracing function execution"
   ]
  },
  {
   "cell_type": "code",
   "execution_count": 8,
   "metadata": {
    "scrolled": true
   },
   "outputs": [
    {
     "name": "stdout",
     "output_type": "stream",
     "text": [
      "inside fact(4)\n",
      "inside fact(3)\n",
      "inside fact(2)\n",
      "inside fact(1)\n",
      "inside fact(0)\n"
     ]
    },
    {
     "data": {
      "text/plain": [
       "24"
      ]
     },
     "execution_count": 8,
     "metadata": {},
     "output_type": "execute_result"
    }
   ],
   "source": [
    "# good old recursive factorial, \n",
    "# with a print debug statement added\n",
    "\n",
    "def fact(n):\n",
    "    print('inside fact({})'.format(n))\n",
    "    if n == 0:\n",
    "        return(1)\n",
    "    else:\n",
    "        return(n * fact(n-1))\n",
    "\n",
    "fact(4)\n"
   ]
  },
  {
   "cell_type": "code",
   "execution_count": 9,
   "metadata": {
    "scrolled": true
   },
   "outputs": [],
   "source": [
    "class traceindent:\n",
    "    def __init__(self, func):\n",
    "        # func is the original function\n",
    "        # defined below @traceident line\n",
    "        self.func = func\n",
    "        self.level = 0\n",
    "\n",
    "    # when func is called - this method\n",
    "    # is called, not the original func\n",
    "    # grab all args with *pos and **kw\n",
    "    def __call__(self, *pos, **kw):\n",
    "        # level count \n",
    "        self.level += 1\n",
    "        indent = ['|'] * self.level\n",
    "        indent = ''.join(indent)\n",
    "        if len(pos) == 1:\n",
    "            printpos = '({})'.format(pos[0])\n",
    "        print(f'{indent}Entering({self.level}) {self.func.__name__}{printpos}')\n",
    "        # call the traced function\n",
    "        val = self.func(*pos, **kw)\n",
    "        print(f'{indent}Exiting({self.level}) {self.func.__name__}{printpos}=>{val}')              \n",
    "        self.level -= 1\n",
    "        return(val)\n"
   ]
  },
  {
   "cell_type": "code",
   "execution_count": 10,
   "metadata": {
    "scrolled": true
   },
   "outputs": [],
   "source": [
    "# removed the print statement from fact\n",
    "# 'decorate' the fact function with a traceindent\n",
    "\n",
    "@traceindent\n",
    "def fact(n):\n",
    "    if n == 0:\n",
    "        return(1)\n",
    "    else:\n",
    "        return(n * fact(n-1))"
   ]
  },
  {
   "cell_type": "code",
   "execution_count": 11,
   "metadata": {
    "scrolled": true
   },
   "outputs": [
    {
     "name": "stdout",
     "output_type": "stream",
     "text": [
      "|Entering(1) fact(2)\n",
      "||Entering(2) fact(1)\n",
      "|||Entering(3) fact(0)\n",
      "|||Exiting(3) fact(0)=>1\n",
      "||Exiting(2) fact(1)=>1\n",
      "|Exiting(1) fact(2)=>2\n"
     ]
    },
    {
     "data": {
      "text/plain": [
       "2"
      ]
     },
     "execution_count": 11,
     "metadata": {},
     "output_type": "execute_result"
    }
   ],
   "source": [
    "fact(2)"
   ]
  },
  {
   "cell_type": "code",
   "execution_count": 12,
   "metadata": {
    "scrolled": true
   },
   "outputs": [
    {
     "name": "stdout",
     "output_type": "stream",
     "text": [
      "|Entering(1) fact(4)\n",
      "||Entering(2) fact(3)\n",
      "|||Entering(3) fact(2)\n",
      "||||Entering(4) fact(1)\n",
      "|||||Entering(5) fact(0)\n",
      "|||||Exiting(5) fact(0)=>1\n",
      "||||Exiting(4) fact(1)=>1\n",
      "|||Exiting(3) fact(2)=>2\n",
      "||Exiting(2) fact(3)=>6\n",
      "|Exiting(1) fact(4)=>24\n"
     ]
    },
    {
     "data": {
      "text/plain": [
       "24"
      ]
     },
     "execution_count": 12,
     "metadata": {},
     "output_type": "execute_result"
    }
   ],
   "source": [
    "fact(4)"
   ]
  },
  {
   "cell_type": "code",
   "execution_count": 13,
   "metadata": {
    "scrolled": true
   },
   "outputs": [],
   "source": [
    "# easy to use on another function\n",
    "\n",
    "@traceindent\n",
    "def rcount(x):\n",
    "    if isinstance(x, list):\n",
    "        # x is a list, get the length\n",
    "        xlen = len(x)\n",
    "        if xlen == 0:\n",
    "            return 0\n",
    "        if xlen == 1:\n",
    "            return(rcount(x[0]))\n",
    "        else:\n",
    "            # use an index access and a slice\n",
    "            # to subdivide list into head and tail\n",
    "            return rcount(x[0]) + rcount(x[1:])\n",
    "\n",
    "    # x is not a list, so just counts as 1\n",
    "    return(1)"
   ]
  },
  {
   "cell_type": "code",
   "execution_count": 14,
   "metadata": {
    "scrolled": true
   },
   "outputs": [
    {
     "name": "stdout",
     "output_type": "stream",
     "text": [
      "|Entering(1) rcount([1, 2, [3, 4, [5, 6, 7], 8], 9])\n",
      "||Entering(2) rcount(1)\n",
      "||Exiting(2) rcount(1)=>1\n",
      "||Entering(2) rcount([2, [3, 4, [5, 6, 7], 8], 9])\n",
      "|||Entering(3) rcount(2)\n",
      "|||Exiting(3) rcount(2)=>1\n",
      "|||Entering(3) rcount([[3, 4, [5, 6, 7], 8], 9])\n",
      "||||Entering(4) rcount([3, 4, [5, 6, 7], 8])\n",
      "|||||Entering(5) rcount(3)\n",
      "|||||Exiting(5) rcount(3)=>1\n",
      "|||||Entering(5) rcount([4, [5, 6, 7], 8])\n",
      "||||||Entering(6) rcount(4)\n",
      "||||||Exiting(6) rcount(4)=>1\n",
      "||||||Entering(6) rcount([[5, 6, 7], 8])\n",
      "|||||||Entering(7) rcount([5, 6, 7])\n",
      "||||||||Entering(8) rcount(5)\n",
      "||||||||Exiting(8) rcount(5)=>1\n",
      "||||||||Entering(8) rcount([6, 7])\n",
      "|||||||||Entering(9) rcount(6)\n",
      "|||||||||Exiting(9) rcount(6)=>1\n",
      "|||||||||Entering(9) rcount([7])\n",
      "||||||||||Entering(10) rcount(7)\n",
      "||||||||||Exiting(10) rcount(7)=>1\n",
      "|||||||||Exiting(9) rcount([7])=>1\n",
      "||||||||Exiting(8) rcount([6, 7])=>2\n",
      "|||||||Exiting(7) rcount([5, 6, 7])=>3\n",
      "|||||||Entering(7) rcount([8])\n",
      "||||||||Entering(8) rcount(8)\n",
      "||||||||Exiting(8) rcount(8)=>1\n",
      "|||||||Exiting(7) rcount([8])=>1\n",
      "||||||Exiting(6) rcount([[5, 6, 7], 8])=>4\n",
      "|||||Exiting(5) rcount([4, [5, 6, 7], 8])=>5\n",
      "||||Exiting(4) rcount([3, 4, [5, 6, 7], 8])=>6\n",
      "||||Entering(4) rcount([9])\n",
      "|||||Entering(5) rcount(9)\n",
      "|||||Exiting(5) rcount(9)=>1\n",
      "||||Exiting(4) rcount([9])=>1\n",
      "|||Exiting(3) rcount([[3, 4, [5, 6, 7], 8], 9])=>7\n",
      "||Exiting(2) rcount([2, [3, 4, [5, 6, 7], 8], 9])=>8\n",
      "|Exiting(1) rcount([1, 2, [3, 4, [5, 6, 7], 8], 9])=>9\n"
     ]
    },
    {
     "data": {
      "text/plain": [
       "9"
      ]
     },
     "execution_count": 14,
     "metadata": {},
     "output_type": "execute_result"
    }
   ],
   "source": [
    "rcount([1,2,[3,4,[5,6,7],8],9])"
   ]
  },
  {
   "cell_type": "markdown",
   "metadata": {},
   "source": [
    "# functools module\n",
    "- has some decorators\n",
    "- [doc](https://docs.python.org/3.5/library/functools.html)\n"
   ]
  },
  {
   "cell_type": "code",
   "execution_count": 15,
   "metadata": {
    "scrolled": true
   },
   "outputs": [],
   "source": [
    "# here only need to define \n",
    "# __eq__ and __lt__\n",
    "# the decorator defines __le__, __ge__, __le__ \n",
    "\n",
    "from functools import total_ordering\n",
    "\n",
    "@total_ordering\n",
    "class Student:\n",
    "    def __init__(self, first, last):\n",
    "        self.first = first\n",
    "        self.last = last\n",
    "        self.pair = (last, first)\n",
    "    def __eq__(self, other):\n",
    "        # instead of checking first and last names \n",
    "        # separately, make tuples \n",
    "        # and check those once\n",
    "        s = (self.last.lower(), self.first.lower())\n",
    "        o = (other.last.lower(), other.first.lower())\n",
    "        return s == o\n",
    "    def __lt__(self, other):\n",
    "        s = (self.last.lower(), self.first.lower())\n",
    "        o = (other.last.lower(), other.first.lower())        \n",
    "        return s < o"
   ]
  },
  {
   "cell_type": "code",
   "execution_count": 16,
   "metadata": {
    "scrolled": true
   },
   "outputs": [],
   "source": [
    "# here only need to define \n",
    "# __eq__ and __lt__\n",
    "# the decorator defines __le__, __ge__, __le__ \n",
    "\n",
    "from functools import total_ordering\n",
    "\n",
    "@total_ordering\n",
    "class Student:\n",
    "    def __init__(self, first, last):\n",
    "        self.first = first\n",
    "        self.last = last\n",
    "        # for comparison convenience\n",
    "        self.pair = (last, first)\n",
    "        \n",
    "    def __eq__(self, other):\n",
    "        return self.pair == other.pair\n",
    "    \n",
    "    def __lt__(self, other):\n",
    "        return self.pair < other.pair"
   ]
  },
  {
   "cell_type": "code",
   "execution_count": 17,
   "metadata": {
    "scrolled": true
   },
   "outputs": [
    {
     "data": {
      "text/plain": [
       "[False, True, False, True, False]"
      ]
     },
     "execution_count": 17,
     "metadata": {},
     "output_type": "execute_result"
    }
   ],
   "source": [
    "s1 = Student('jack', 'stead')\n",
    "s2 = Student('larry', 'stead')\n",
    "\n",
    "# only the first two operators \n",
    "# were explicitly defined above\n",
    "[s1 == s2, s1 < s2, s1 > s2, s1 <= s2, s1 >= s2]"
   ]
  },
  {
   "cell_type": "markdown",
   "metadata": {},
   "source": [
    "# dynamic programming/memoization\n",
    "- avoid redoing computations by cacheing results"
   ]
  },
  {
   "cell_type": "code",
   "execution_count": 18,
   "metadata": {
    "scrolled": true
   },
   "outputs": [
    {
     "name": "stdout",
     "output_type": "stream",
     "text": [
      "in fib 7\n",
      "in fib 6\n",
      "in fib 5\n",
      "in fib 4\n",
      "in fib 3\n",
      "in fib 2\n",
      "in fib 1\n",
      "in fib 0\n",
      "in fib 1\n",
      "in fib 2\n",
      "in fib 1\n",
      "in fib 0\n",
      "in fib 3\n",
      "in fib 2\n",
      "in fib 1\n",
      "in fib 0\n",
      "in fib 1\n",
      "in fib 4\n",
      "in fib 3\n",
      "in fib 2\n",
      "in fib 1\n",
      "in fib 0\n",
      "in fib 1\n",
      "in fib 2\n",
      "in fib 1\n",
      "in fib 0\n",
      "in fib 5\n",
      "in fib 4\n",
      "in fib 3\n",
      "in fib 2\n",
      "in fib 1\n",
      "in fib 0\n",
      "in fib 1\n",
      "in fib 2\n",
      "in fib 1\n",
      "in fib 0\n",
      "in fib 3\n",
      "in fib 2\n",
      "in fib 1\n",
      "in fib 0\n",
      "in fib 1\n"
     ]
    },
    {
     "data": {
      "text/plain": [
       "13"
      ]
     },
     "execution_count": 18,
     "metadata": {},
     "output_type": "execute_result"
    }
   ],
   "source": [
    "# f[n] = f[n-1] + f[n-2]\n",
    "# doubly recursive\n",
    "# many redundant calls...\n",
    "\n",
    "def fibonacci(n):\n",
    "   \"Return the nth fibonacci number.\"\n",
    "   print('in fib', n)\n",
    "   if n in (0,1):\n",
    "      return n\n",
    "   return fibonacci(n-1) + fibonacci(n-2)\n",
    "\n",
    "fibonacci(7)"
   ]
  },
  {
   "cell_type": "code",
   "execution_count": 18,
   "metadata": {
    "scrolled": true
   },
   "outputs": [],
   "source": [
    "import collections\n",
    "import functools\n",
    "\n",
    "class memoized(object):\n",
    "   '''Decorator. Caches a function's return \n",
    "   value each time it is called.\n",
    "   If called later with the same arguments, \n",
    "   the cached value is returned\n",
    "   (not reevaluated).\n",
    "   '''\n",
    "   def __init__(self, func):\n",
    "      self.func = func\n",
    "      self.cache = {}\n",
    "        \n",
    "   def __call__(self, *args):\n",
    "      if args in self.cache:\n",
    "         # found previous computation in cache\n",
    "         return self.cache[args]\n",
    "      else:\n",
    "         # add this computation to cache\n",
    "         value = self.func(*args)\n",
    "         self.cache[args] = value\n",
    "         return value\n",
    "    \n",
    "   def __repr__(self):\n",
    "      '''Return the function's docstring.'''\n",
    "      return self.func.__doc__\n",
    "\n",
    "@memoized\n",
    "def fibonaccim(n):\n",
    "   \"Return the nth fibonacci number.\"\n",
    "   print('in fib', n)\n",
    "   if n in (0, 1):\n",
    "      return n\n",
    "   return fibonaccim(n-1) + fibonaccim(n-2)"
   ]
  },
  {
   "cell_type": "code",
   "execution_count": 19,
   "metadata": {
    "scrolled": true
   },
   "outputs": [
    {
     "name": "stdout",
     "output_type": "stream",
     "text": [
      "in fib 8\n",
      "in fib 7\n",
      "in fib 6\n",
      "in fib 5\n",
      "in fib 4\n",
      "in fib 3\n",
      "in fib 2\n",
      "in fib 1\n",
      "in fib 0\n"
     ]
    },
    {
     "data": {
      "text/plain": [
       "21"
      ]
     },
     "execution_count": 19,
     "metadata": {},
     "output_type": "execute_result"
    }
   ],
   "source": [
    "# now no redundant calls\n",
    "\n",
    "fibonaccim(8)"
   ]
  },
  {
   "cell_type": "code",
   "execution_count": 21,
   "metadata": {
    "scrolled": true
   },
   "outputs": [],
   "source": [
    "# functools has a better memo decorator\n",
    "\n",
    "import functools\n",
    "\n",
    "# maxsize=an int will limit the size of the cache\n",
    "\n",
    "@functools.lru_cache(maxsize=None)\n",
    "def fiblru(n):\n",
    "   \"Return the nth fibonacci number.\"\n",
    "   print('in fib', n)\n",
    "   if n in (0, 1):\n",
    "      return n\n",
    "   return fiblru(n-1) + fiblru(n-2)\n"
   ]
  },
  {
   "cell_type": "code",
   "execution_count": 22,
   "metadata": {
    "scrolled": true
   },
   "outputs": [
    {
     "name": "stdout",
     "output_type": "stream",
     "text": [
      "in fib 8\n",
      "in fib 7\n",
      "in fib 6\n",
      "in fib 5\n",
      "in fib 4\n",
      "in fib 3\n",
      "in fib 2\n",
      "in fib 1\n",
      "in fib 0\n"
     ]
    },
    {
     "data": {
      "text/plain": [
       "21"
      ]
     },
     "execution_count": 22,
     "metadata": {},
     "output_type": "execute_result"
    }
   ],
   "source": [
    "fiblru(8)"
   ]
  },
  {
   "cell_type": "code",
   "execution_count": 23,
   "metadata": {
    "scrolled": true
   },
   "outputs": [
    {
     "data": {
      "text/plain": [
       "CacheInfo(hits=6, misses=9, maxsize=None, currsize=9)"
      ]
     },
     "execution_count": 23,
     "metadata": {},
     "output_type": "execute_result"
    }
   ],
   "source": [
    "# info about the cache\n",
    "\n",
    "fiblru.cache_info()"
   ]
  },
  {
   "cell_type": "code",
   "execution_count": 24,
   "metadata": {
    "scrolled": true
   },
   "outputs": [],
   "source": [
    "# can clear the cache\n",
    "\n",
    "fiblru.cache_clear()"
   ]
  },
  {
   "cell_type": "code",
   "execution_count": 25,
   "metadata": {
    "scrolled": true
   },
   "outputs": [
    {
     "data": {
      "text/plain": [
       "CacheInfo(hits=0, misses=0, maxsize=None, currsize=0)"
      ]
     },
     "execution_count": 25,
     "metadata": {},
     "output_type": "execute_result"
    }
   ],
   "source": [
    "fiblru.cache_info()"
   ]
  },
  {
   "cell_type": "code",
   "execution_count": 26,
   "metadata": {
    "scrolled": true
   },
   "outputs": [
    {
     "ename": "TypeError",
     "evalue": "unhashable type: 'list'",
     "output_type": "error",
     "traceback": [
      "\u001b[0;31m---------------------------------------------------------------------------\u001b[0m",
      "\u001b[0;31mTypeError\u001b[0m                                 Traceback (most recent call last)",
      "\u001b[0;32m<ipython-input-26-c6ee22339f8f>\u001b[0m in \u001b[0;36m<module>\u001b[0;34m\u001b[0m\n\u001b[1;32m      5\u001b[0m     \u001b[0;32mreturn\u001b[0m \u001b[0mlen\u001b[0m\u001b[0;34m(\u001b[0m\u001b[0mlst\u001b[0m\u001b[0;34m)\u001b[0m\u001b[0;34m\u001b[0m\u001b[0;34m\u001b[0m\u001b[0m\n\u001b[1;32m      6\u001b[0m \u001b[0;34m\u001b[0m\u001b[0m\n\u001b[0;32m----> 7\u001b[0;31m \u001b[0mcnt\u001b[0m\u001b[0;34m(\u001b[0m\u001b[0;34m[\u001b[0m\u001b[0;36m3\u001b[0m\u001b[0;34m,\u001b[0m\u001b[0;36m3\u001b[0m\u001b[0;34m,\u001b[0m\u001b[0;36m4\u001b[0m\u001b[0;34m]\u001b[0m\u001b[0;34m)\u001b[0m\u001b[0;34m\u001b[0m\u001b[0;34m\u001b[0m\u001b[0m\n\u001b[0m",
      "\u001b[0;31mTypeError\u001b[0m: unhashable type: 'list'"
     ]
    }
   ],
   "source": [
    "# oops - can't use a list as a dict key!\n",
    "\n",
    "@functools.lru_cache(maxsize=None)\n",
    "def cnt(lst):\n",
    "    return len(lst)\n",
    "\n",
    "cnt([3,3,4])"
   ]
  },
  {
   "cell_type": "markdown",
   "metadata": {},
   "source": [
    "# [Standard Library of Decorators](https://wiki.python.org/moin/PythonDecoratorLibrary)\n",
    "- some useful things"
   ]
  }
 ],
 "metadata": {
  "anaconda-cloud": {},
  "kernelspec": {
   "display_name": "Python 3",
   "language": "python",
   "name": "python3"
  },
  "language_info": {
   "codemirror_mode": {
    "name": "ipython",
    "version": 3
   },
   "file_extension": ".py",
   "mimetype": "text/x-python",
   "name": "python",
   "nbconvert_exporter": "python",
   "pygments_lexer": "ipython3",
   "version": "3.7.4"
  }
 },
 "nbformat": 4,
 "nbformat_minor": 1
}
