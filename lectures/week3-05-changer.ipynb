{
 "cells": [
  {
   "cell_type": "markdown",
   "metadata": {},
   "source": [
    "# Example: Changer\n",
    "- rewrite previous change function example with objects\n",
    "- [enum](https://docs.python.org/3/library/enum.html) is the right way to define int constants"
   ]
  },
  {
   "cell_type": "code",
   "execution_count": null,
   "metadata": {},
   "outputs": [],
   "source": [
    "from enum import Enum\n",
    "\n",
    "class Coin(Enum):\n",
    "    quarter = 25\n",
    "    dime = 10\n",
    "    nickel = 5\n",
    "    penny = 1\n",
    "    "
   ]
  },
  {
   "cell_type": "code",
   "execution_count": null,
   "metadata": {},
   "outputs": [],
   "source": [
    "repr(Coin.quarter), str(Coin.quarter), type(Coin)"
   ]
  },
  {
   "cell_type": "code",
   "execution_count": null,
   "metadata": {},
   "outputs": [],
   "source": [
    "# lookups \n",
    "\n",
    "Coin['nickel'], Coin(10), Coin.quarter"
   ]
  },
  {
   "cell_type": "code",
   "execution_count": null,
   "metadata": {},
   "outputs": [],
   "source": [
    "# definition order is preserved\n",
    "    \n",
    "for c in Coin:\n",
    "    print(c, c.name, c.value)"
   ]
  },
  {
   "cell_type": "code",
   "execution_count": null,
   "metadata": {},
   "outputs": [],
   "source": [
    "# can't change values\n",
    "\n",
    "Coin.quarter.value = 23"
   ]
  },
  {
   "cell_type": "code",
   "execution_count": null,
   "metadata": {},
   "outputs": [],
   "source": [
    "# enums are singletons\n",
    "\n",
    "q = Coin.quarter\n",
    "d = Coin.dime\n",
    "d2 = Coin.dime\n",
    "\n",
    "q == d, d is d2"
   ]
  },
  {
   "cell_type": "markdown",
   "metadata": {},
   "source": [
    "# new Changer\n",
    "- no global variables\n",
    "- uses enums"
   ]
  },
  {
   "cell_type": "code",
   "execution_count": null,
   "metadata": {},
   "outputs": [],
   "source": [
    "class Changer:\n",
    "    def noChange():\n",
    "        # class method\n",
    "        d = {}\n",
    "        for coin in Coin:\n",
    "            # want all the keys with 0 values\n",
    "            d[coin] = 0\n",
    "        return d\n",
    "    \n",
    "    def __init__(self, inventory):\n",
    "        self.inventory = Changer.noChange()\n",
    "        # put in whatever inventory was specified,\n",
    "        # might not be all coin types\n",
    "        for k,v in inventory.items():\n",
    "            self.inventory[k] = v\n",
    "\n",
    "    def change(self, price):\n",
    "        owe = 100 - price\n",
    "        ans = Changer.noChange()\n",
    "        for coin in Coin:\n",
    "            cnt = owe // coin.value\n",
    "            # can't return coins we don't have\n",
    "            cntr = min(cnt, self.inventory[coin])\n",
    "            ans[coin] = cntr\n",
    "            self.inventory[coin] -= cntr\n",
    "            owe -= cntr * coin.value\n",
    "            if owe == 0:\n",
    "                break\n",
    "\n",
    "        # coins returned, amount still owed, if any\n",
    "        return (ans, owe)\n",
    "    \n"
   ]
  },
  {
   "cell_type": "code",
   "execution_count": null,
   "metadata": {},
   "outputs": [],
   "source": [
    "# class method - no objects instantiated yet\n",
    "\n",
    "Changer.noChange()"
   ]
  },
  {
   "cell_type": "code",
   "execution_count": null,
   "metadata": {},
   "outputs": [],
   "source": [
    "c1 = Changer({Coin.quarter:2,\n",
    "              Coin.dime:3,\n",
    "              Coin.nickel:10,\n",
    "             Coin.penny:1})\n",
    "\n",
    "c2 = Changer({Coin.quarter:2,\n",
    "              Coin.dime:3,\n",
    "              Coin.nickel:5,\n",
    "             Coin.penny:10})"
   ]
  },
  {
   "cell_type": "code",
   "execution_count": null,
   "metadata": {},
   "outputs": [],
   "source": [
    "c1.change(74)"
   ]
  },
  {
   "cell_type": "code",
   "execution_count": null,
   "metadata": {},
   "outputs": [],
   "source": [
    "c1.change(74)"
   ]
  },
  {
   "cell_type": "code",
   "execution_count": null,
   "metadata": {},
   "outputs": [],
   "source": [
    "c2.change(74)"
   ]
  },
  {
   "cell_type": "code",
   "execution_count": null,
   "metadata": {},
   "outputs": [],
   "source": [
    "# default repr method not so useful\n",
    "\n",
    "c1"
   ]
  },
  {
   "cell_type": "code",
   "execution_count": null,
   "metadata": {},
   "outputs": [],
   "source": [
    "# add __repr__ method to modify how Changer prints\n",
    "\n",
    "class Changer:\n",
    "    def noChange():\n",
    "        # class method\n",
    "        d = {}\n",
    "        for coin in Coin:\n",
    "            # want all the keys with 0 values\n",
    "            d[coin] = 0\n",
    "        return d\n",
    "    \n",
    "    def __init__(self, inventory):\n",
    "        self.inventory = Changer.noChange()\n",
    "        # put in whatever inventory was specified,\n",
    "        # might not be all coin types\n",
    "        for k,v in inventory.items():\n",
    "            self.inventory[k] = v\n",
    "            \n",
    "    def __repr__(self):\n",
    "        res = []\n",
    "        for coin in Coin:\n",
    "            res.append('{}={}'\n",
    "                .format(coin.name, self.inventory[coin]))\n",
    "        return 'Changer<' + ','.join(res) + '>'\n",
    "\n",
    "    def change(self, price):\n",
    "        owe = 100 - price\n",
    "        ans = Changer.noChange()\n",
    "        for coin in Coin:\n",
    "            cnt = owe // coin.value\n",
    "            # can't return coins we don't have\n",
    "            cntr = min(cnt, self.inventory[coin])\n",
    "            ans[coin] = cntr\n",
    "            self.inventory[coin] -= cntr\n",
    "            owe -= cntr * coin.value\n",
    "            if owe == 0:\n",
    "                break\n",
    "\n",
    "        # return amount still owed, if any\n",
    "        # coins returned\n",
    "        return (owe, ans)"
   ]
  },
  {
   "cell_type": "code",
   "execution_count": null,
   "metadata": {},
   "outputs": [],
   "source": [
    "# now easy to see remaining inventory \n",
    "\n",
    "c1 = Changer({Coin.quarter:2,\n",
    "              Coin.dime:3,\n",
    "              Coin.nickel:10,\n",
    "             Coin.penny:1})\n",
    "\n",
    "c2 = Changer({Coin.quarter:2,\n",
    "              Coin.dime:3,\n",
    "              Coin.nickel:5,\n",
    "             Coin.penny:10})\n",
    "\n",
    "c1,c2"
   ]
  }
 ],
 "metadata": {
  "kernelspec": {
   "display_name": "Python 3",
   "language": "python",
   "name": "python3"
  },
  "language_info": {
   "codemirror_mode": {
    "name": "ipython",
    "version": 3
   },
   "file_extension": ".py",
   "mimetype": "text/x-python",
   "name": "python",
   "nbconvert_exporter": "python",
   "pygments_lexer": "ipython3",
   "version": "3.7.4"
  }
 },
 "nbformat": 4,
 "nbformat_minor": 2
}
