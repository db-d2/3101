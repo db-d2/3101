{
 "cells": [
  {
   "cell_type": "markdown",
   "metadata": {},
   "source": [
    "# pickle - persist arbitrary collections of in memory Python data structures to a file\n",
    "- pickle uses 'binary' streams\n",
    "- very handy for \"small to medium\" data structures\n",
    "- probably not the best approach for huge data structures\n",
    "- easy to use\n",
    "- no way to query or modify\n",
    "- note ```__eq__``` method\n",
    "- [doc](https://docs.python.org/3/library/pickle.html) "
   ]
  },
  {
   "cell_type": "code",
   "execution_count": 1,
   "metadata": {},
   "outputs": [],
   "source": [
    "class SVGBase:\n",
    "    \"this class is not intended to be instantiated\"\n",
    "\n",
    "    def __repr__(self):\n",
    "        return self.svg()\n",
    "\n",
    "# each class should have a 'draw' method\n",
    "# that knows how to render a graphical object\n"
   ]
  },
  {
   "cell_type": "code",
   "execution_count": 2,
   "metadata": {},
   "outputs": [],
   "source": [
    "class Circle(SVGBase):\n",
    "    def __init__(self, cx, cy, r):\n",
    "        self.cx = cx\n",
    "        self.cy = cy\n",
    "        self.r = r\n",
    "        \n",
    "    def __eq__(self, right):\n",
    "        return isinstance(right, Circle) \\\n",
    "            and self.cx == right.cx and self.cy == right.cy and self.r == right.r\n",
    "\n",
    "    def svg(self):\n",
    "        c = f'<circle  cx=\"{self.cx}\" cy=\"{self.cy}\" r=\"{self.r}\" ' \n",
    "        s ='style=\"fill:Wheat; stroke:SteelBlue; stroke-width:5;\"/>'\n",
    "        return c + s"
   ]
  },
  {
   "cell_type": "code",
   "execution_count": 3,
   "metadata": {},
   "outputs": [],
   "source": [
    "class Rect(SVGBase):\n",
    "    def __init__(self, x, y, width, height):\n",
    "        self.x = x\n",
    "        self.y = y\n",
    "        self.width = width\n",
    "        self.height = height\n",
    "        \n",
    "    def __eq__(self, right):\n",
    "        return isinstance(right, Rect) \\\n",
    "                and self.x == right.x and self.y == right.y \\\n",
    "                and self.width == self.width and self.height == right.height\n",
    "        \n",
    "    def svg(self):\n",
    "        r = f'<rect x=\"{self.x}\" y=\"{self.y}\" width=\"{self.width}\" height=\"{self.height}\" '\n",
    "        s = ' style=\"stroke:Navy; stroke-width:4; fill:LightSkyBlue;\"/>'\n",
    "        return r + s"
   ]
  },
  {
   "cell_type": "code",
   "execution_count": 4,
   "metadata": {},
   "outputs": [],
   "source": [
    "class Line(SVGBase):\n",
    "    def __init__(self, x1, y1, x2, y2):\n",
    "        self.x1 = x1\n",
    "        self.y1 = y1\n",
    "        self.x2 = x2\n",
    "        self.y2 = y2\n",
    "    \n",
    "    def __eq__(self, right):\n",
    "        return isinstance(right, Line) \\\n",
    "            and self.x1 == right.x1 and self.y1 == right.y1 \\\n",
    "            and self.x2 == right.x2  and self.y2 == right.y2\n",
    "       \n",
    "    def svg(self):\n",
    "        l = f'<line x1=\"{self.x1}\" y1=\"{self.y1}\" x2=\"{self.x2}\" y2=\"{self.y2}\" '\n",
    "        s = ' style=\"stroke:SlateBlue; stroke-width:4\"/>'\n",
    "        return l + s\n",
    "        "
   ]
  },
  {
   "cell_type": "code",
   "execution_count": 5,
   "metadata": {},
   "outputs": [],
   "source": [
    "import pickle\n",
    "\n",
    "class Diagram:\n",
    "    def __init__(self, objs):\n",
    "        self.objs = objs\n",
    "    \n",
    "    def __eq__(self, right):\n",
    "        return isinstance(right, Diagram) \\\n",
    "                and self.objs == right.objs\n",
    "    \n",
    "    def svg(self):\n",
    "        s = '''<svg width=\"400\" height=\"400\">'''\n",
    "        for obj in self.objs:\n",
    "            s += obj.svg()\n",
    "        s += '</svg>'\n",
    "        return s\n",
    "    \n",
    "    def _repr_svg_(self):\n",
    "        '''the presence of this method tells\n",
    "        notebook to render SVG!!'''\n",
    "        return self.svg()\n",
    "    \n",
    "    def dump(self, path):\n",
    "        # save the Editor and everything it reaches\n",
    "        # 'bw' - 'binary write'\n",
    "        with open(path, 'bw') as fd:\n",
    "            pickle.dump(self, fd)\n",
    "            \n",
    "    def load(path):\n",
    "        \"class method\"\n",
    "        # 'br' - binary read\n",
    "        with open(path, 'br') as f:\n",
    "            return pickle.load(f)"
   ]
  },
  {
   "cell_type": "code",
   "execution_count": 6,
   "metadata": {},
   "outputs": [
    {
     "data": {
      "text/plain": [
       "<circle  cx=\"200\" cy=\"200\" r=\"44\" style=\"fill:Wheat; stroke:SteelBlue; stroke-width:5;\"/>"
      ]
     },
     "execution_count": 6,
     "metadata": {},
     "output_type": "execute_result"
    }
   ],
   "source": [
    "Circle(200, 200,44)"
   ]
  },
  {
   "cell_type": "code",
   "execution_count": 7,
   "metadata": {},
   "outputs": [
    {
     "data": {
      "text/plain": [
       "'<svg width=\"400\" height=\"400\"><circle  cx=\"200\" cy=\"200\" r=\"44\" style=\"fill:Wheat; stroke:SteelBlue; stroke-width:5;\"/><circle  cx=\"130\" cy=\"120\" r=\"60\" style=\"fill:Wheat; stroke:SteelBlue; stroke-width:5;\"/><rect x=\"250\" y=\"100\" width=\"40\" height=\"80\"  style=\"stroke:Navy; stroke-width:4; fill:LightSkyBlue;\"/><line x1=\"0\" y1=\"0\" x2=\"400\" y2=\"400\"  style=\"stroke:SlateBlue; stroke-width:4\"/></svg>'"
      ]
     },
     "execution_count": 7,
     "metadata": {},
     "output_type": "execute_result"
    }
   ],
   "source": [
    "c=Circle(200, 200,44)\n",
    "c2 = Circle(130,120, 60)\n",
    "r = Rect(250, 100, 40,80)\n",
    "l = Line(0,0, 400,400)\n",
    "\n",
    "objs = [c,c2, r, l]\n",
    "d = Diagram(objs)\n",
    "d.svg()\n"
   ]
  },
  {
   "cell_type": "code",
   "execution_count": 8,
   "metadata": {},
   "outputs": [
    {
     "data": {
      "image/svg+xml": [
       "<svg width=\"400\" height=\"400\"><circle  cx=\"200\" cy=\"200\" r=\"44\" style=\"fill:Wheat; stroke:SteelBlue; stroke-width:5;\"/><circle  cx=\"130\" cy=\"120\" r=\"60\" style=\"fill:Wheat; stroke:SteelBlue; stroke-width:5;\"/><rect x=\"250\" y=\"100\" width=\"40\" height=\"80\"  style=\"stroke:Navy; stroke-width:4; fill:LightSkyBlue;\"/><line x1=\"0\" y1=\"0\" x2=\"400\" y2=\"400\"  style=\"stroke:SlateBlue; stroke-width:4\"/></svg>"
      ],
      "text/plain": [
       "<__main__.Diagram at 0x10cb9c1d0>"
      ]
     },
     "execution_count": 8,
     "metadata": {},
     "output_type": "execute_result"
    }
   ],
   "source": [
    "d"
   ]
  },
  {
   "cell_type": "code",
   "execution_count": 9,
   "metadata": {},
   "outputs": [],
   "source": [
    "import tempfile\n",
    "from pathlib import Path\n",
    "\n",
    "# does not create the file, just makes a pathname\n",
    "path = Path(tempfile.NamedTemporaryFile().name)\n",
    "\n",
    "d.dump(path)"
   ]
  },
  {
   "cell_type": "code",
   "execution_count": 10,
   "metadata": {},
   "outputs": [
    {
     "data": {
      "image/svg+xml": [
       "<svg width=\"400\" height=\"400\"><circle  cx=\"200\" cy=\"200\" r=\"44\" style=\"fill:Wheat; stroke:SteelBlue; stroke-width:5;\"/><circle  cx=\"130\" cy=\"120\" r=\"60\" style=\"fill:Wheat; stroke:SteelBlue; stroke-width:5;\"/><rect x=\"250\" y=\"100\" width=\"40\" height=\"80\"  style=\"stroke:Navy; stroke-width:4; fill:LightSkyBlue;\"/><line x1=\"0\" y1=\"0\" x2=\"400\" y2=\"400\"  style=\"stroke:SlateBlue; stroke-width:4\"/></svg>"
      ],
      "text/plain": [
       "<__main__.Diagram at 0x10cb91550>"
      ]
     },
     "execution_count": 10,
     "metadata": {},
     "output_type": "execute_result"
    }
   ],
   "source": [
    "# read dumped file, and \n",
    "# reconstruct the saved data structures\n",
    "\n",
    "# if your pickle dump includes custom classes \n",
    "# or functions, they must be defined \n",
    "# before you do a pickle load.\n",
    "# 'br' - binary read\n",
    "\n",
    "dd = Diagram.load(path)\n",
    "dd"
   ]
  },
  {
   "cell_type": "code",
   "execution_count": 11,
   "metadata": {},
   "outputs": [
    {
     "data": {
      "text/plain": [
       "False"
      ]
     },
     "execution_count": 11,
     "metadata": {},
     "output_type": "execute_result"
    }
   ],
   "source": [
    "d is dd"
   ]
  },
  {
   "cell_type": "code",
   "execution_count": 12,
   "metadata": {},
   "outputs": [
    {
     "data": {
      "text/plain": [
       "True"
      ]
     },
     "execution_count": 12,
     "metadata": {},
     "output_type": "execute_result"
    }
   ],
   "source": [
    "d == dd"
   ]
  },
  {
   "cell_type": "code",
   "execution_count": null,
   "metadata": {},
   "outputs": [],
   "source": []
  }
 ],
 "metadata": {
  "anaconda-cloud": {},
  "kernelspec": {
   "display_name": "Python 3",
   "language": "python",
   "name": "python3"
  },
  "language_info": {
   "codemirror_mode": {
    "name": "ipython",
    "version": 3
   },
   "file_extension": ".py",
   "mimetype": "text/x-python",
   "name": "python",
   "nbconvert_exporter": "python",
   "pygments_lexer": "ipython3",
   "version": "3.7.4"
  }
 },
 "nbformat": 4,
 "nbformat_minor": 1
}
