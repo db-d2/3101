{
 "cells": [
  {
   "cell_type": "markdown",
   "metadata": {},
   "source": [
    "# [tensorflow](https://www.tensorflow.org)\n",
    "- mostly used for ML, but can do other things\n",
    "- [Python API](https://www.tensorflow.org/api_docs/python/tf)\n",
    "- exploits parallelism opportunities\n",
    "- similar to numpy in some ways\n",
    "- can exploit clusters and GPU's\n",
    "- mostly used for ML, but can do other things\n",
    "- to install, do: pip install tensorflow\n"
   ]
  },
  {
   "cell_type": "code",
   "execution_count": null,
   "metadata": {},
   "outputs": [],
   "source": [
    "import tensorflow as tf"
   ]
  },
  {
   "cell_type": "code",
   "execution_count": null,
   "metadata": {},
   "outputs": [],
   "source": [
    "@tf.function\n",
    "def foo(n):\n",
    "    s = 0\n",
    "    for j in tf.range(n+1):\n",
    "        s += j**2\n",
    "    s2 = 0\n",
    "    for j in tf.range(n+1):\n",
    "        s2 +=j ** 3\n",
    "    \n",
    "    return (s,s2)\n",
    "    "
   ]
  },
  {
   "cell_type": "code",
   "execution_count": null,
   "metadata": {},
   "outputs": [],
   "source": [
    "print(tf.autograph.to_code(foo.python_function))"
   ]
  },
  {
   "cell_type": "markdown",
   "metadata": {},
   "source": [
    "# tensorboard\n",
    "- can visualize various things related to tensor flow\n",
    "- [doc](https://www.tensorflow.org/guide/graph_viz)\n",
    "- start server this way:\n",
    "\n",
    "tensorboard --logdir dir-that-has-tensorflow-logs\n",
    "\n",
    "- then go [here](http://localhost:6006)"
   ]
  }
 ],
 "metadata": {
  "kernelspec": {
   "display_name": "Python 3",
   "language": "python",
   "name": "python3"
  },
  "language_info": {
   "codemirror_mode": {
    "name": "ipython",
    "version": 3
   },
   "file_extension": ".py",
   "mimetype": "text/x-python",
   "name": "python",
   "nbconvert_exporter": "python",
   "pygments_lexer": "ipython3",
   "version": "3.7.4"
  }
 },
 "nbformat": 4,
 "nbformat_minor": 2
}
