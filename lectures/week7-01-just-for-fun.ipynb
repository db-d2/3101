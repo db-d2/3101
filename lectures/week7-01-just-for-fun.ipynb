{
 "cells": [
  {
   "cell_type": "markdown",
   "metadata": {},
   "source": [
    "# week 1\n",
    "- which integers are singletons? can you figure out how to use Python to find them?\n",
    "-  hint - they are all in the interval (-1000,1000)\n",
    "- don't spend more than 5 minutes on this!"
   ]
  },
  {
   "cell_type": "code",
   "execution_count": null,
   "metadata": {},
   "outputs": [],
   "source": [
    "\n",
    "\n",
    "sings = []\n",
    "\n",
    "for j in range(-1000,1000):\n",
    "    s = str(j)\n",
    "    i1 = int(s)\n",
    "    i2 = int(s)\n",
    "    if i1 is i2:\n",
    "        sings.append(i1)\n",
    "        \n",
    "print(sings)"
   ]
  },
  {
   "cell_type": "code",
   "execution_count": null,
   "metadata": {},
   "outputs": [],
   "source": [
    "# shorter\n",
    "\n",
    "sings = [j for j in range(-1000,1000) if int(str(j)) is int(str(j))]\n",
    "        \n",
    "print(sings)"
   ]
  },
  {
   "cell_type": "code",
   "execution_count": null,
   "metadata": {},
   "outputs": [],
   "source": [
    "# slicker\n",
    "\n",
    "print([j for j in range(-1000,1000) if j is j + 0])"
   ]
  },
  {
   "cell_type": "code",
   "execution_count": null,
   "metadata": {},
   "outputs": [],
   "source": [
    "\n",
    "\n",
    "# same trick with mult\n",
    "print([j for j in range(-1000,1000) if j is j * 1])"
   ]
  },
  {
   "cell_type": "markdown",
   "metadata": {},
   "source": [
    "# week 2\n",
    "- interesting recursion problem...\n",
    "\n",
    "# define function change(amount, count)\n",
    "- given coins of 1,5,10,25 value, can you choose count number of coins that add up to amount?\n",
    "- duplicate coin values are allowed\n",
    "- note that when there is a solution, not all coin types are necessarily used. so, in general, you have to try 4 different ways to subdivide the problem each time...\n",
    "- return an empty list if no solution is possible"
   ]
  },
  {
   "cell_type": "code",
   "execution_count": null,
   "metadata": {},
   "outputs": [],
   "source": [
    "# hide\n",
    "\n",
    "def change(amount, count):\n",
    "    coins = [1,5,10,25]\n",
    "    # base case - may fail\n",
    "    if count == 1:\n",
    "        if amount in coins:\n",
    "            return [amount]\n",
    "        else: \n",
    "            return []\n",
    "    # subdivide \n",
    "    for coin in coins:\n",
    "        rtn = change(amount-coin, count-1)\n",
    "        if rtn:\n",
    "            # combine\n",
    "            rtn.append(coin)\n",
    "            return rtn\n",
    "    return []"
   ]
  },
  {
   "cell_type": "code",
   "execution_count": null,
   "metadata": {},
   "outputs": [],
   "source": [
    "# 3 coins\n",
    "\n",
    "for j in range(20):\n",
    "    print(j, change(j, 3))\n",
    "    \n",
    "    "
   ]
  },
  {
   "cell_type": "code",
   "execution_count": null,
   "metadata": {},
   "outputs": [],
   "source": [
    "# 5 coins\n",
    "\n",
    "for j in range(20):\n",
    "    print(j, change(j, 5))"
   ]
  },
  {
   "cell_type": "markdown",
   "metadata": {},
   "source": [
    "# week 3\n",
    "\n",
    "# analyze function huh\n",
    "- This is NOT graded - don't spend more than 5 minutes on it\n",
    "- huh's arg takes ints greater than 1\n",
    "- what does huh compute?\n",
    "- how does the computation work?\n",
    "- is huh pythonic?\n",
    "- math module [doc](https://docs.python.org/3/library/math.html)"
   ]
  },
  {
   "cell_type": "code",
   "execution_count": null,
   "metadata": {},
   "outputs": [],
   "source": [
    "import math\n",
    "\n",
    "math.fabs(4.3), math.fabs(-3.4)"
   ]
  },
  {
   "cell_type": "code",
   "execution_count": null,
   "metadata": {},
   "outputs": [],
   "source": [
    "math.ceil(2.3), math.ceil(0.0)"
   ]
  },
  {
   "cell_type": "code",
   "execution_count": null,
   "metadata": {},
   "outputs": [],
   "source": [
    "def huh(n):\n",
    "    answer = True\n",
    "    count = 2\n",
    "    while count < n:\n",
    "        answer = [False,True][math.ceil\n",
    "                              (math.fabs(math.sin(n%count)))]\n",
    "        count = [count + 1, n][~answer]\n",
    "    return answer"
   ]
  },
  {
   "cell_type": "code",
   "execution_count": null,
   "metadata": {},
   "outputs": [],
   "source": [
    "# play with huh - sive it some ints\n",
    "\n",
    "[j for j in range(1,50) if huh(j)]"
   ]
  },
  {
   "cell_type": "code",
   "execution_count": null,
   "metadata": {},
   "outputs": [],
   "source": [
    "[j for j in range(51,100,2) if huh(j)]"
   ]
  },
  {
   "cell_type": "code",
   "execution_count": null,
   "metadata": {},
   "outputs": [],
   "source": [
    "import numpy as np\n",
    "import matplotlib.pyplot as plt\n",
    "%matplotlib inline\n",
    "x = np.linspace(-20, 20,  200)\n",
    "y = np.sin(x)\n",
    "plt.plot(x, y)\n"
   ]
  },
  {
   "cell_type": "code",
   "execution_count": null,
   "metadata": {},
   "outputs": [],
   "source": [
    "# more reasonable version\n",
    "\n",
    "def prime(n):\n",
    "    if n == 2:\n",
    "        return True\n",
    "    if n % 2 == 0:\n",
    "        # reject evens\n",
    "        return False\n",
    "    # check odds\n",
    "    for j in range(3, math.ceil(math.sqrt(n)), 2):\n",
    "        if n % j == 0:\n",
    "            return False\n",
    "    return True"
   ]
  },
  {
   "cell_type": "code",
   "execution_count": null,
   "metadata": {},
   "outputs": [],
   "source": [
    "print([j for j in range(3,100,2) if prime(j)])"
   ]
  },
  {
   "cell_type": "markdown",
   "metadata": {},
   "source": [
    "# week 4\n",
    "- Computing in the Real World - [The Iowa Caucuses](https://www.nytimes.com/2020/02/09/us/politics/iowa-democratic-caucuses.html?action=click&module=Top%20Stories&pgtype=Homepage)\n"
   ]
  },
  {
   "cell_type": "markdown",
   "metadata": {},
   "source": [
    "# An Old Puzzle \n",
    "- this is NOT graded\n",
    "- don't spend more than a few minutes on it\n",
    "\n",
    "```\n",
    "   send\n",
    "   more\n",
    "+ -----\n",
    "  money\n",
    "```\n",
    "\n",
    "- each letter represents a different digit\n",
    "- m,s != 0\n",
    "- m = 1\n",
    "- using brute force, find letter-digit mapping that adds up correctly \n",
    "- the problem is conceptually simple, but you may find the details tricky\n"
   ]
  },
  {
   "cell_type": "code",
   "execution_count": null,
   "metadata": {},
   "outputs": [],
   "source": [
    "str.rjust('abc', 10, '0')"
   ]
  },
  {
   "cell_type": "code",
   "execution_count": null,
   "metadata": {},
   "outputs": [],
   "source": [
    "def wordToInt(lettervals, word):\n",
    "    return int(''.join([lettervals[c] for c in word]))\n",
    "\n",
    "wordToInt({'a':'1','b':'2','c':'3'}, 'abc')"
   ]
  },
  {
   "cell_type": "code",
   "execution_count": null,
   "metadata": {},
   "outputs": [],
   "source": [
    "def findsolution():\n",
    "    letters = set('sendmoremoney')\n",
    "    # already know m = 1\n",
    "    letters.remove('m')\n",
    "    ll = len(letters)\n",
    "    print(f'{ll} maps to find for {letters}')\n",
    "    # char->digit map\n",
    "    d = {'m':'1'}\n",
    "    # digits already seen\n",
    "    seen = set()\n",
    "    for j in range(10**ll):  \n",
    "        seen.clear()\n",
    "        # m = 1\n",
    "        seen.add('1')\n",
    "        skip = False\n",
    "        digits = str.rjust(str(j), ll, '0')\n",
    "        for digit, letter in zip(digits, letters):\n",
    "            if digit in seen:\n",
    "                # no duplicate letter->digit maps\n",
    "                skip = True\n",
    "                break\n",
    "            seen.add(digit)\n",
    "            d[letter] = digit\n",
    "        if skip or d['s'] == 0:\n",
    "            # don't bother testing, alrady know it is bad\n",
    "            continue\n",
    "        send, more, money = [wordToInt(d, word) for word in ['send', 'more', 'money' ]]\n",
    "        if money == send + more:\n",
    "            print(j)\n",
    "            print(d)\n",
    "            print(send, more, money)\n"
   ]
  },
  {
   "cell_type": "code",
   "execution_count": null,
   "metadata": {},
   "outputs": [],
   "source": [
    "findsolution()\n",
    "            \n",
    "        \n",
    "# send more money"
   ]
  },
  {
   "cell_type": "markdown",
   "metadata": {},
   "source": [
    "# week 6 \n",
    "- look at the ```__mul__``` method on polylist(completely different from the one you have to write for polydict)\n",
    "- how does it work?"
   ]
  },
  {
   "cell_type": "markdown",
   "metadata": {},
   "source": [
    "# multiply numbers by summing 'partial products'\n",
    "\n",
    "```\n",
    "145*32 = 2*145 + 30*145\n",
    "= 4640\n",
    "```"
   ]
  },
  {
   "cell_type": "markdown",
   "metadata": {},
   "source": [
    "# same technique for polynomials\n",
    "```\n",
    "(x**2 + 1) (x**3 + 2*x**2)\n",
    "# make partial products\n",
    "= (x**3 + 2*x**2) + (x**3 + 2*x**2) * x**2 \n",
    "# sum them\n",
    "= 2*x**2 + x**3 + 2*x**4 + x**5\n",
    "```"
   ]
  },
  {
   "cell_type": "markdown",
   "metadata": {},
   "source": [
    "# sum by reduce\n",
    "- very useful in certain situations\n",
    "- can be used with any 2 arg function\n",
    "- permits parallelism "
   ]
  },
  {
   "cell_type": "code",
   "execution_count": null,
   "metadata": {},
   "outputs": [],
   "source": [
    "# the usual way we think about summing up a list \n",
    "# iterate and acculumate\n",
    "\n",
    "lst = [1, 2, 4, 5 , 2, 3, 6 ,9]\n",
    "\n",
    "tot = 0\n",
    "for e in lst:\n",
    "    tot += e\n",
    "tot"
   ]
  },
  {
   "cell_type": "markdown",
   "metadata": {},
   "source": [
    "summation proceeds by pairs\n",
    "\n",
    "```\n",
    "1  2  4  5  2  3  6  9 \n",
    "  3     9    5     15\n",
    "     12         20\n",
    "           32\n",
    "```"
   ]
  },
  {
   "cell_type": "code",
   "execution_count": null,
   "metadata": {},
   "outputs": [],
   "source": [
    "from functools import reduce\n",
    "import operator\n",
    "\n",
    "reduce( operator.add, lst), reduce(operator.mul, lst),1 * 2 * 4 * 5 * 2 * 3 * 6 * 9 "
   ]
  },
  {
   "cell_type": "code",
   "execution_count": null,
   "metadata": {},
   "outputs": [],
   "source": [
    "# multiply two polylists\n",
    "\n",
    "   def __mul__(self, p2):\n",
    "        sums = []\n",
    "        for e1,c1 in enumerate(self.coe):\n",
    "            prod = [c1 * c2 for c2 in p2.coe]\n",
    "            for rpt in range(e1):\n",
    "                prod.insert(0, 0)\n",
    "            sums.append(polylist(prod))\n",
    "        return(functools.reduce(polylist.__add__, sums))\n",
    "\n",
    "    "
   ]
  },
  {
   "cell_type": "code",
   "execution_count": null,
   "metadata": {},
   "outputs": [],
   "source": [
    "# can view __add__ method as two arg function\n",
    "\n",
    "    def __add__(self, p2):\n",
    "        # like shortlong\n",
    "        p1len = len(self.coe)\n",
    "        p2len = len(p2.coe)\n",
    "        pad = p2len - p1len\n",
    "        c1 = self.coe\n",
    "        c2 = p2.coe\n",
    "        \n",
    "        if pad < 0:\n",
    "            c1, c2 = c2, c1\n",
    "            pad = -pad\n",
    "    \n",
    "        c1 = c1[:]\n",
    "        \n",
    "        # like dotpad\n",
    "        c1.extend([0]*pad)\n",
    "    \n",
    "        # zeros on the right?\n",
    "        return(polylist([t1+t2 for t1,t2 in zip(c1,c2)]))\n",
    "\n"
   ]
  }
 ],
 "metadata": {
  "kernelspec": {
   "display_name": "Python 3",
   "language": "python",
   "name": "python3"
  },
  "language_info": {
   "codemirror_mode": {
    "name": "ipython",
    "version": 3
   },
   "file_extension": ".py",
   "mimetype": "text/x-python",
   "name": "python",
   "nbconvert_exporter": "python",
   "pygments_lexer": "ipython3",
   "version": "3.7.4"
  }
 },
 "nbformat": 4,
 "nbformat_minor": 2
}
