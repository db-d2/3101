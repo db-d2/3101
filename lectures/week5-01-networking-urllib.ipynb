{
 "cells": [
  {
   "cell_type": "markdown",
   "metadata": {},
   "source": [
    "# Python standard library\n",
    "- huge collection of routines included with Python\n",
    "- many interfaces to operating system functionality\n",
    "    - networking IO\n",
    "    - file IO\n",
    "- data persistence\n",
    "- common file formats like JSON, XML, HTML\n",
    "- development tools\n",
    "- [doc](https://docs.python.org/3/library/index.html)"
   ]
  },
  {
   "cell_type": "markdown",
   "metadata": {},
   "source": [
    "# Networking\n",
    "- sockets\n",
    "    - 'socket' module has low level networking\n",
    "    - unpleasant to use - you will probably never need it\n",
    "    - [doc](https://docs.python.org/3/library/socket.html)\n",
    "      \n",
    "- HTTP\n",
    "    - most network traffic runs over HTTP\n",
    "    - 'urllib' will retrieve HTTP content, as a 'bytes' object\n",
    "    - 'urllib.urlopen' will return an object that can:\n",
    "        - can iterate over the lines\n",
    "        - grab entire page as one string\n",
    "        - read one character at a time\n",
    "    - [doc](https://docs.python.org/3.7/library/urllib.request.html#module-urllib.request)"
   ]
  },
  {
   "cell_type": "code",
   "execution_count": 1,
   "metadata": {},
   "outputs": [
    {
     "data": {
      "text/plain": [
       "<http.client.HTTPResponse at 0x104315e10>"
      ]
     },
     "execution_count": 1,
     "metadata": {},
     "output_type": "execute_result"
    }
   ],
   "source": [
    "import urllib\n",
    "\n",
    "cu = 'http://columbia.edu'\n",
    "\n",
    "# returns object that represents the network connection\n",
    "cur = urllib.request.urlopen(cu)\n",
    "cur"
   ]
  },
  {
   "cell_type": "code",
   "execution_count": 2,
   "metadata": {},
   "outputs": [
    {
     "data": {
      "text/plain": [
       "[('Date', 'Tue, 03 Mar 2020 19:37:45 GMT'),\n",
       " ('Server', 'Apache'),\n",
       " ('Cache-Control', 'max-age=300, public'),\n",
       " ('Content-language', 'en'),\n",
       " ('X-XSS-Protection', '1; mode=block'),\n",
       " ('X-Frame-Options', 'SAMEORIGIN'),\n",
       " ('X-Content-Type-Options', 'nosniff'),\n",
       " ('Expires', 'Sun, 19 Nov 1978 05:00:00 GMT'),\n",
       " ('Last-Modified', 'Tue, 03 Mar 2020 19:37:45 GMT'),\n",
       " ('ETag', '\"1583264265\"'),\n",
       " ('Content-Type', 'text/html; charset=UTF-8'),\n",
       " ('Age', '136'),\n",
       " ('X-Varnish-Cache', 'HIT (134)'),\n",
       " ('Accept-Ranges', 'bytes'),\n",
       " ('Content-Length', '122245'),\n",
       " ('Connection', 'close')]"
      ]
     },
     "execution_count": 2,
     "metadata": {},
     "output_type": "execute_result"
    }
   ],
   "source": [
    "# headers from the server\n",
    "\n",
    "cur.headers.items()"
   ]
  },
  {
   "cell_type": "code",
   "execution_count": 3,
   "metadata": {},
   "outputs": [
    {
     "data": {
      "text/plain": [
       "'Apache'"
      ]
     },
     "execution_count": 3,
     "metadata": {},
     "output_type": "execute_result"
    }
   ],
   "source": [
    "# headers is a dictionary\n",
    "\n",
    "cur.headers['Server']"
   ]
  },
  {
   "cell_type": "code",
   "execution_count": 4,
   "metadata": {},
   "outputs": [
    {
     "data": {
      "text/plain": [
       "True"
      ]
     },
     "execution_count": 4,
     "metadata": {},
     "output_type": "execute_result"
    }
   ],
   "source": [
    "# the network connection is an iterable and iterator\n",
    "# can only iterator over it once, then it is exhausted\n",
    "\n",
    "cur is iter(cur)"
   ]
  },
  {
   "cell_type": "code",
   "execution_count": 5,
   "metadata": {},
   "outputs": [
    {
     "data": {
      "text/plain": [
       "(b'<!DOCTYPE html>\\n',\n",
       " b'<html  lang=\"en\" dir=\"ltr\" prefix=\"content: http://purl.org/rss/1.0/modules/content/  dc: http://purl.org/dc/terms/  foaf: http://xmlns.com/foaf/0.1/  og: http://ogp.me/ns#  rdfs: http://www.w3.org/2000/01/rdf-schema#  schema: http://schema.org/  sioc: http://rdfs.org/sioc/ns#  sioct: http://rdfs.org/sioc/types#  skos: http://www.w3.org/2004/02/skos/core#  xsd: http://www.w3.org/2001/XMLSchema# \" class=\"wf-loading\" data-ng-app=\"app\">\\n')"
      ]
     },
     "execution_count": 5,
     "metadata": {},
     "output_type": "execute_result"
    }
   ],
   "source": [
    "# usual iteration protocol reads one line at a time\n",
    "# note the lines comming back are byte arrays(b'), \n",
    "# not strings.\n",
    "\n",
    "next(cur), next(cur)"
   ]
  },
  {
   "cell_type": "code",
   "execution_count": 6,
   "metadata": {},
   "outputs": [
    {
     "data": {
      "text/plain": [
       "[b'  <head>\\n',\n",
       " b'    <meta charset=\"utf-8\" />\\n',\n",
       " b'<script>(function(i,s,o,g,r,a,m){i[\"GoogleAnalyticsObject\"]=r;i[r]=i[r]||function(){(i[r].q=i[r].q||[]).push(arguments)},i[r].l=1*new Date();a=s.createElement(o),m=s.getElementsByTagName(o)[0];a.async=1;a.src=g;m.parentNode.insertBefore(a,m)})(window,document,\"script\",\"https://www.google-analytics.com/analytics.js\",\"ga\");ga(\"create\", \"UA-18290390-1\", {\"cookieDomain\":\"auto\"});ga(\"set\", \"anonymizeIp\", true);ga(\"send\", \"pageview\");</script>\\n',\n",
       " b'<meta name=\"title\" content=\"Homepage | Columbia University in the City of New York\" />\\n',\n",
       " b'<link rel=\"shortlink\" href=\"https://www.columbia.edu/content/\" />\\n',\n",
       " b'<link rel=\"canonical\" href=\"https://www.columbia.edu/content/\" />\\n',\n",
       " b'<meta name=\"Generator\" content=\"Drupal 8 (https://www.drupal.org)\" />\\n']"
      ]
     },
     "execution_count": 6,
     "metadata": {},
     "output_type": "execute_result"
    }
   ],
   "source": [
    "# grab the rest of the lines with 'list'\n",
    "# note 'charset=utf-8'\n",
    "\n",
    "lines = list(cur)\n",
    "lines[:7]"
   ]
  },
  {
   "cell_type": "code",
   "execution_count": 7,
   "metadata": {},
   "outputs": [
    {
     "name": "stdout",
     "output_type": "stream",
     "text": [
      "0 b'<!DOCTYPE html>\\n'\n",
      "1 b'<html  lang=\"en\" dir=\"ltr\" prefix=\"content: http://purl.org/rss/1.0/modules/content/  dc: http://purl.org/dc/terms/  foaf: http://xmlns.com/foaf/0.1/  og: http://ogp.me/ns#  rdfs: http://www.w3.org/2000/01/rdf-schema#  schema: http://schema.org/  sioc: http://rdfs.org/sioc/ns#  sioct: http://rdfs.org/sioc/types#  skos: http://www.w3.org/2004/02/skos/core#  xsd: http://www.w3.org/2001/XMLSchema# \" class=\"wf-loading\" data-ng-app=\"app\">\\n'\n",
      "2 b'  <head>\\n'\n",
      "3 b'    <meta charset=\"utf-8\" />\\n'\n",
      "4 b'<script>(function(i,s,o,g,r,a,m){i[\"GoogleAnalyticsObject\"]=r;i[r]=i[r]||function(){(i[r].q=i[r].q||[]).push(arguments)},i[r].l=1*new Date();a=s.createElement(o),m=s.getElementsByTagName(o)[0];a.async=1;a.src=g;m.parentNode.insertBefore(a,m)})(window,document,\"script\",\"https://www.google-analytics.com/analytics.js\",\"ga\");ga(\"create\", \"UA-18290390-1\", {\"cookieDomain\":\"auto\"});ga(\"set\", \"anonymizeIp\", true);ga(\"send\", \"pageview\");</script>\\n'\n",
      "5 b'<meta name=\"title\" content=\"Homepage | Columbia University in the City of New York\" />\\n'\n",
      "6 b'<link rel=\"shortlink\" href=\"https://www.columbia.edu/content/\" />\\n'\n",
      "7 b'<link rel=\"canonical\" href=\"https://www.columbia.edu/content/\" />\\n'\n",
      "8 b'<meta name=\"Generator\" content=\"Drupal 8 (https://www.drupal.org)\" />\\n'\n",
      "9 b'<meta name=\"MobileOptimized\" content=\"width\" />\\n'\n",
      "10 b'<meta name=\"HandheldFriendly\" content=\"true\" />\\n'\n",
      "11 b'<meta name=\"viewport\" content=\"width=device-width, initial-scale=1.0, viewport-fit=cover\" />\\n'\n",
      "12 b'<link rel=\"shortcut icon\" href=\"/content/themes/custom/columbia/favicon-crown.png\" type=\"image/png\" />\\n'\n",
      "13 b'<link rel=\"revision\" href=\"https://www.columbia.edu/content/homepage\" />\\n'\n",
      "14 b'\\n'\n",
      "15 b'\\n'\n",
      "16 b'    <meta http-equiv=\"X-UA-Compatible\" content=\"IE=edge\">\\n'\n",
      "17 b'\\n'\n",
      "18 b'    <title>Columbia University in the City of New York</title>\\n'\n",
      "19 b'\\n'\n",
      "20 b'    <script src=\"https://use.typekit.net/rke7urc.js\"></script>\\n'\n"
     ]
    }
   ],
   "source": [
    "# or read lines with a for loop\n",
    "\n",
    "\n",
    "cur = urllib.request.urlopen(cu)\n",
    "\n",
    "for j, line in enumerate(cur):\n",
    "    # line is a 'bytes' object, not a 'str' object\n",
    "    print(j, line)\n",
    "    if j == 20:\n",
    "        break\n"
   ]
  },
  {
   "cell_type": "markdown",
   "metadata": {},
   "source": [
    "# A simple web server"
   ]
  },
  {
   "cell_type": "code",
   "execution_count": null,
   "metadata": {},
   "outputs": [
    {
     "name": "stdout",
     "output_type": "stream",
     "text": [
      "serving at port 8002\n"
     ]
    },
    {
     "name": "stderr",
     "output_type": "stream",
     "text": [
      "127.0.0.1 - - [03/Mar/2020 14:47:29] \"GET / HTTP/1.1\" 200 -\n",
      "127.0.0.1 - - [03/Mar/2020 14:47:30] code 404, message File not found\n",
      "127.0.0.1 - - [03/Mar/2020 14:47:30] \"GET /favicon.ico HTTP/1.1\" 404 -\n"
     ]
    }
   ],
   "source": [
    "# will serve files in the current directory\n",
    "# at localhost:port\n",
    "\n",
    "import http.server\n",
    "import socketserver\n",
    "\n",
    "port = 8002\n",
    "\n",
    "# url = http://localhost:8002\n",
    "\n",
    "Handler = http.server.SimpleHTTPRequestHandler\n",
    "\n",
    "httpd = socketserver.TCPServer((\"\", port), Handler)\n",
    "\n",
    "print(\"serving at port\", port)\n",
    "httpd.serve_forever()"
   ]
  },
  {
   "cell_type": "markdown",
   "metadata": {},
   "source": [
    "# Hit it \n",
    "[simple](http://localhost:8002)"
   ]
  },
  {
   "cell_type": "markdown",
   "metadata": {},
   "source": [
    "# 'Real' python web servers\n",
    "- two main ones are Django and Flask\n",
    "- Django [doc](https://www.djangoproject.com)\n",
    "- Flask [doc](http://flask.pocoo.org)"
   ]
  }
 ],
 "metadata": {
  "anaconda-cloud": {},
  "kernelspec": {
   "display_name": "Python 3",
   "language": "python",
   "name": "python3"
  },
  "language_info": {
   "codemirror_mode": {
    "name": "ipython",
    "version": 3
   },
   "file_extension": ".py",
   "mimetype": "text/x-python",
   "name": "python",
   "nbconvert_exporter": "python",
   "pygments_lexer": "ipython3",
   "version": "3.7.4"
  }
 },
 "nbformat": 4,
 "nbformat_minor": 1
}
