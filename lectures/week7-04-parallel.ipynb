{
 "cells": [
  {
   "cell_type": "markdown",
   "metadata": {},
   "source": [
    "# Parallel Processing in Python\n",
    "- simple threading system\n",
    "- threads run under one process and share memory\n",
    "- has some concurrent data structures, like queues, locks, semaphores\n",
    "- roughly similar to Java concurrency facilities\n",
    "- [doc](https://docs.python.org/3.5/library/threading.html#module-threading)\n",
    "- generators are a way to do \"manually scheduled threads\""
   ]
  },
  {
   "cell_type": "code",
   "execution_count": 1,
   "metadata": {},
   "outputs": [
    {
     "name": "stdout",
     "output_type": "stream",
     "text": [
      "count is 0\n",
      "count is 1\n",
      "count is 2\n",
      "count is 3\n",
      "count is 4\n"
     ]
    }
   ],
   "source": [
    "import time\n",
    "import threading\n",
    "\n",
    "def counter(n):\n",
    "    for j in range(n):\n",
    "        print('count is', j)\n",
    "        time.sleep(1)\n",
    "\n",
    "t = threading.Thread(target=counter, args=[5])\n",
    "t.start()"
   ]
  },
  {
   "cell_type": "markdown",
   "metadata": {},
   "source": [
    "# concurrent programming\n",
    "- REALLY REALLY hard\n",
    "- simple example of a [race condition](https://en.wikipedia.org/wiki/Race_condition)"
   ]
  },
  {
   "cell_type": "markdown",
   "metadata": {},
   "source": [
    "# Global Interpreter Lock(GIL)\n",
    "- CPython solves the concurrency problem by NOT being concurrent!\n",
    "- The GIL can only be aquired by ONE thread at a time\n",
    "- No matter how many threads you have, only ONE core will be used\n",
    "- Really bad for CPU bound tasks\n",
    "- GIL is released during I/O, so not so bad for I/O bound tasks\n",
    "- for CPU bound tasks, use can separate processes, instead of threads\n",
    "- however, processes are more \"heavyweight\" than threads, and do not share memory\n",
    "- can move CPU bound tasks into to C - ctypes releases the GIL on a C function call\n",
    "- Java and C++ do not have this problem\n",
    "- Java has excellent concurrency facilities"
   ]
  },
  {
   "cell_type": "markdown",
   "metadata": {},
   "source": [
    "# multiprocessing module\n",
    "- run multiple Python processes\n",
    "- avoids the GIL, but more expensive\n",
    "- [doc](https://docs.python.org/3.5/library/multiprocessing.html)"
   ]
  },
  {
   "cell_type": "code",
   "execution_count": 2,
   "metadata": {},
   "outputs": [
    {
     "name": "stdout",
     "output_type": "stream",
     "text": [
      "[1, 4, 9]\n"
     ]
    }
   ],
   "source": [
    "from multiprocessing import Pool\n",
    "\n",
    "def square(x):\n",
    "    return x*x\n",
    "\n",
    "# make a pool of 5 pythons\n",
    "# each square call will run in a separate Python executable\n",
    "\n",
    "p = Pool(5)\n",
    "print(p.map(square, [1, 2, 3]))"
   ]
  },
  {
   "cell_type": "code",
   "execution_count": 3,
   "metadata": {},
   "outputs": [],
   "source": [
    "p.close()"
   ]
  },
  {
   "cell_type": "code",
   "execution_count": null,
   "metadata": {},
   "outputs": [],
   "source": []
  }
 ],
 "metadata": {
  "anaconda-cloud": {},
  "kernelspec": {
   "display_name": "Python 3",
   "language": "python",
   "name": "python3"
  },
  "language_info": {
   "codemirror_mode": {
    "name": "ipython",
    "version": 3
   },
   "file_extension": ".py",
   "mimetype": "text/x-python",
   "name": "python",
   "nbconvert_exporter": "python",
   "pygments_lexer": "ipython3",
   "version": "3.7.4"
  }
 },
 "nbformat": 4,
 "nbformat_minor": 1
}
