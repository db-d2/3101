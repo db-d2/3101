{
 "cells": [
  {
   "cell_type": "markdown",
   "metadata": {},
   "source": [
    "# 'is' and '==' operators"
   ]
  },
  {
   "cell_type": "markdown",
   "metadata": {},
   "source": [
    "# 'a is b'\n",
    "- returns true if a and b refer to the SAME object in the heap\n",
    "- behavior can not be changed by defining methods"
   ]
  },
  {
   "cell_type": "code",
   "execution_count": null,
   "metadata": {},
   "outputs": [],
   "source": [
    "# a's reference is copied to b, \n",
    "# so a and b refer to the same object\n",
    "\n",
    "a = [1,2,3]\n",
    "b = a\n",
    "a is b"
   ]
  },
  {
   "cell_type": "code",
   "execution_count": null,
   "metadata": {},
   "outputs": [],
   "source": [
    "# objects of different types can't be the same object\n",
    "\n",
    "a = [1,2,3]\n",
    "b = 5\n",
    "a is b, type(a), type(b)"
   ]
  },
  {
   "cell_type": "code",
   "execution_count": null,
   "metadata": {},
   "outputs": [],
   "source": [
    "a = [1,2,3]\n",
    "b = [1,2,3]\n",
    "\n",
    "# now there are TWO different list [1,2,3] objects in the heap\n",
    "\n",
    "a is b"
   ]
  },
  {
   "cell_type": "code",
   "execution_count": null,
   "metadata": {},
   "outputs": [],
   "source": [
    "# 'is' works by comparing the locations in \n",
    "# memory of the two operands\n",
    "# you can see the address with the 'id' function\n",
    "# a is b <==> id(a) == id(b)\n",
    "\n",
    "id(a), id(b)"
   ]
  },
  {
   "cell_type": "markdown",
   "metadata": {},
   "source": [
    "# 'a == b'\n",
    "- returns true if a 'eq' b\n",
    "- determined by calling the 'dunder'  ```__eq__``` method on a with b as arg\n",
    "- 'a == b' is syntactic sugar for ```a.__eq__(b)```\n"
   ]
  },
  {
   "cell_type": "code",
   "execution_count": null,
   "metadata": {},
   "outputs": [],
   "source": [
    "# a and b have 'same structure' but \n",
    "# are different objects in the heap\n",
    "\n",
    "a = [1, 2, [3, 12345]]\n",
    "b = [1, 2, [3, 12345]]\n",
    "\n",
    "a is b"
   ]
  },
  {
   "cell_type": "code",
   "execution_count": null,
   "metadata": {},
   "outputs": [],
   "source": [
    "# roughly how value of 'a == b' is computed\n",
    "\n",
    "'''\n",
    "a == b\n",
    "runs a's list __eq__ method with arg of b object\n",
    "\n",
    "a & b are both the same type, 'list'\n",
    "they have the same length, and\n",
    "\n",
    "now compare the two lists recursively.  \n",
    "\n",
    " \n",
    "a[0] == b[0] because 1 == 1\n",
    "a[1] == b[1] because 2 == 2\n",
    "a[2] == b[2] because [3, 12345] == [3, 12345],\n",
    "    because 3 == 3 and 12345 == 12345\n",
    "'''\n",
    "\n",
    "a == b"
   ]
  },
  {
   "cell_type": "code",
   "execution_count": null,
   "metadata": {},
   "outputs": [],
   "source": [
    "class numclass:\n",
    "    \"somewhat similar to what 'int' does \"\n",
    "    def __init__(self, n):\n",
    "        self.n = n\n",
    "        \n",
    "    def __eq__(self, x):\n",
    "        # normally 'eq' will start with a type check\n",
    "        # if arg is not the same type as self, give up\n",
    "        return isinstance(x, numclass) and self.n == x.n\n"
   ]
  },
  {
   "cell_type": "code",
   "execution_count": null,
   "metadata": {},
   "outputs": [],
   "source": [
    "a = numclass(3)\n",
    "b = numclass(3)\n",
    "a is b"
   ]
  },
  {
   "cell_type": "code",
   "execution_count": null,
   "metadata": {},
   "outputs": [],
   "source": [
    "# not the same type\n",
    "\n",
    "a == 3"
   ]
  },
  {
   "cell_type": "code",
   "execution_count": null,
   "metadata": {},
   "outputs": [],
   "source": [
    "# a & b both 'represent' 3\n",
    "\n",
    "a == b"
   ]
  },
  {
   "cell_type": "code",
   "execution_count": null,
   "metadata": {},
   "outputs": [],
   "source": [
    "# inherit from 'list'\n",
    "# only overriding the '__eq__' method\n",
    "# weird '__eq__' method only checks the\n",
    "# first two elements of the lists\n",
    "\n",
    "class list2(list):\n",
    "    def __eq__(self, x):\n",
    "        if not isinstance(x, list):\n",
    "            return False\n",
    "        lens = len(self)\n",
    "        lenx = len(x)\n",
    "        # only check first two elements at most\n",
    "        check = min(2, lens, lenx)\n",
    "        return self[:check] == x[:check]"
   ]
  },
  {
   "cell_type": "code",
   "execution_count": null,
   "metadata": {},
   "outputs": [],
   "source": [
    "    \n",
    "a = list2('zap')\n",
    "b = list2('zat')\n",
    "c = list2('zta')\n",
    "\n",
    "a, b, c, a == b, a == c, a == 5"
   ]
  },
  {
   "cell_type": "markdown",
   "metadata": {},
   "source": [
    "# interning objects\n",
    "- if a new object is desired that would be == to an existing one, reuse the existing one instead of making a new one\n",
    "- sometimes done for efficiency\n",
    "- sometimes to make singletons"
   ]
  },
  {
   "cell_type": "code",
   "execution_count": null,
   "metadata": {},
   "outputs": [],
   "source": [
    "# small integers are interned, large ones are not\n",
    "a = 1\n",
    "b = 1\n",
    "c = 123456\n",
    "d = 123456\n",
    "\n",
    "a is b, c is d"
   ]
  },
  {
   "cell_type": "code",
   "execution_count": null,
   "metadata": {},
   "outputs": [],
   "source": [
    "# there are TWO different list [1,2,3] objects in the heap,\n",
    "# but the interned ints are the same\n",
    "\n",
    "a = [1,2,3]\n",
    "b = [1,2,3]\n",
    "\n",
    "a is b, a==b, a[0] is b[0], a[1] is b[1], a[2] is b[2]"
   ]
  },
  {
   "cell_type": "code",
   "execution_count": null,
   "metadata": {},
   "outputs": [],
   "source": [
    "# reference counts for some interned small ints\n",
    "\n",
    "import sys\n",
    "\n",
    "[[j, sys.getrefcount(j)] for j in range(-4,4)]"
   ]
  },
  {
   "cell_type": "code",
   "execution_count": null,
   "metadata": {},
   "outputs": [],
   "source": [
    "# strings are always interned\n",
    "\n",
    "a = \"foobarzap\"\n",
    "b = \"foobarzap\"\n",
    "c = 'foo' + 'bar' + 'zap'\n",
    "d = a[:]\n",
    "\n",
    "a is b, a is c, a is d"
   ]
  },
  {
   "cell_type": "markdown",
   "metadata": {},
   "source": [
    "# make interned version of foo\n",
    "- use static 'factory' method do make instances, instead of calling constructor\n",
    "- 'factory pattern' is extremely common in OOP\n",
    "- use class variable to hold existing instances"
   ]
  },
  {
   "cell_type": "code",
   "execution_count": null,
   "metadata": {},
   "outputs": [],
   "source": [
    "class foo:\n",
    "    # class var\n",
    "    existing = dict()\n",
    "       \n",
    "    def factory(n):\n",
    "        ''' \n",
    "        static/class method\n",
    "        no 'self' argument\n",
    "        '''\n",
    "        if n in foo.existing:\n",
    "            # use previously built foo\n",
    "            return foo.existing[n]\n",
    "        # nothing in stock - make a new foo\n",
    "        f = foo(n)\n",
    "        # save it for next time\n",
    "        foo.existing[n] = f\n",
    "        return f\n",
    "    \n",
    "    def __init__(self, n):\n",
    "        '''saves init arg'''\n",
    "        self.n = n\n",
    "    \n",
    "    def __eq__(self, x):\n",
    "        ''' self == x'''\n",
    "        # short circuit - if isinstance fails, == clause will not run\n",
    "        return isinstance(x, foo) and self.n == x.n\n"
   ]
  },
  {
   "cell_type": "code",
   "execution_count": null,
   "metadata": {},
   "outputs": [],
   "source": [
    "f3 = foo.factory(3)\n",
    "f4 = foo.factory(4)\n",
    "f33 = foo.factory(3)\n",
    "f3 is f4, f3 == f4, f3 is f33, f3 == f33"
   ]
  },
  {
   "cell_type": "markdown",
   "metadata": {},
   "source": [
    "# shallow vs deep copy\n",
    "- a shallow copy only copies the \"top level\" object. \n",
    "- A collection object, like a list, set, or dict is copied, but the elements of the collection are NOT copied\n",
    "- A deep copy copies ALL the objects, except for singletons\n",
    "- let's see it with the [Python Tutor](http://pythontutor.com/visualize.html#mode=edit)"
   ]
  },
  {
   "cell_type": "markdown",
   "metadata": {},
   "source": [
    "```\n",
    "# the dict is copied, but 5,6,'foo',bar' are not\n",
    "d = dict()\n",
    "d['foo'] = 5\n",
    "d['bar'] = 8\n",
    "x = [[1,2], d]\n",
    "x2 = x[:]\n",
    "import copy\n",
    "x3 = copy.deepcopy(x)\n",
    "\n",
    "```"
   ]
  },
  {
   "cell_type": "markdown",
   "metadata": {},
   "source": [
    "# step by step"
   ]
  },
  {
   "cell_type": "code",
   "execution_count": null,
   "metadata": {},
   "outputs": [],
   "source": [
    "d = dict()\n",
    "d['foo'] = 5\n",
    "d['bar'] = 8\n",
    "\n",
    "x = [[1,2], d]\n",
    "x"
   ]
  },
  {
   "cell_type": "markdown",
   "metadata": {},
   "source": [
    "- a list 'slice' always copies the list"
   ]
  },
  {
   "cell_type": "code",
   "execution_count": null,
   "metadata": {},
   "outputs": [],
   "source": [
    "x2 = x[:]\n",
    "x2, x is x2, x == x2"
   ]
  },
  {
   "cell_type": "markdown",
   "metadata": {},
   "source": [
    "- x and x2 are different lists, but look at the list elements - the sublist and dict are the same objects\n",
    "- this is a 'shallow', or 'top level' copy. "
   ]
  },
  {
   "cell_type": "code",
   "execution_count": null,
   "metadata": {},
   "outputs": [],
   "source": [
    "x is x2, x[0] is x2[0], x[1] is x2[1]"
   ]
  },
  {
   "cell_type": "markdown",
   "metadata": {},
   "source": [
    "# 'deep' copy\n",
    "- a deep copy copies ALL the original objects(except singletons)\n",
    "- [doc](https://docs.python.org/3.5/library/copy.html)"
   ]
  },
  {
   "cell_type": "markdown",
   "metadata": {},
   "source": [
    "import copy\n",
    "x3 = copy.deepcopy(x)"
   ]
  },
  {
   "cell_type": "code",
   "execution_count": null,
   "metadata": {},
   "outputs": [],
   "source": [
    "import copy\n",
    "\n",
    "x3 = copy.deepcopy(x)"
   ]
  },
  {
   "cell_type": "code",
   "execution_count": null,
   "metadata": {},
   "outputs": [],
   "source": [
    "[x3, x is x3, x == x3]"
   ]
  },
  {
   "cell_type": "markdown",
   "metadata": {},
   "source": [
    "- now the sublist and dict in x3 are different - a 'deep copy'"
   ]
  },
  {
   "cell_type": "code",
   "execution_count": null,
   "metadata": {},
   "outputs": [],
   "source": [
    "[x is x3, x[0] is x3[0], x[1] is x3[1]]"
   ]
  }
 ],
 "metadata": {
  "anaconda-cloud": {},
  "kernelspec": {
   "display_name": "Python 3",
   "language": "python",
   "name": "python3"
  },
  "language_info": {
   "codemirror_mode": {
    "name": "ipython",
    "version": 3
   },
   "file_extension": ".py",
   "mimetype": "text/x-python",
   "name": "python",
   "nbconvert_exporter": "python",
   "pygments_lexer": "ipython3",
   "version": "3.7.4"
  }
 },
 "nbformat": 4,
 "nbformat_minor": 1
}
