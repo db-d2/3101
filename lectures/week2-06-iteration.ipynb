{
 "cells": [
  {
   "cell_type": "markdown",
   "metadata": {},
   "source": [
    "# for\n",
    "- basic way to iterate\n",
    "- iterates over the elements of an \"iterable\", like range, list, tuple, string\n",
    "    - later we will learn about the \"iteration protocol\"\n",
    "- note \":\" and indentation for loop body\n",
    "- for supports usual 'break' and 'continue' statements\n",
    "    - they only affect the innermost loop\n",
    "    - break and continue only valid inside a loop\n",
    "- the max number of iterations is known when the loop begins"
   ]
  },
  {
   "cell_type": "code",
   "execution_count": 2,
   "metadata": {},
   "outputs": [
    {
     "name": "stdout",
     "output_type": "stream",
     "text": [
      "3\n",
      "13\n",
      "6\n",
      "16\n",
      "7\n",
      "17\n",
      "2\n",
      "12\n",
      "loop done\n"
     ]
    }
   ],
   "source": [
    "for x in [3,6,7,2]:\n",
    "    # loop body of the for \n",
    "    print(x)\n",
    "    print(x+10)\n",
    "print('loop done')"
   ]
  },
  {
   "cell_type": "code",
   "execution_count": 3,
   "metadata": {},
   "outputs": [
    {
     "name": "stdout",
     "output_type": "stream",
     "text": [
      "0 10\n",
      "0 11\n",
      "1 10\n",
      "1 11\n",
      "3 10\n",
      "3 11\n",
      "loop done\n"
     ]
    }
   ],
   "source": [
    "# continue example\n",
    "\n",
    "for x in range(4):\n",
    "    if x == 2:\n",
    "        # rest of loop body will be skipped\n",
    "        continue\n",
    "    for y in range(10,12):\n",
    "        print(x,y)\n",
    "print('loop done')"
   ]
  },
  {
   "cell_type": "code",
   "execution_count": 4,
   "metadata": {},
   "outputs": [
    {
     "name": "stdout",
     "output_type": "stream",
     "text": [
      "0 10\n",
      "0 11\n",
      "1 10\n",
      "1 11\n",
      "3 10\n",
      "3 11\n",
      "loop done\n"
     ]
    }
   ],
   "source": [
    "# break example\n",
    "\n",
    "for x in range(4):\n",
    "    if x == 2:\n",
    "        # rest of x loop body will be skipped\n",
    "        continue\n",
    "    for y in range(10,15):\n",
    "        if y == 12:\n",
    "            # this will terminate the inner y loop,\n",
    "            # but the outer x loop will continue\n",
    "            break\n",
    "        print(x,y)\n",
    "print('loop done')"
   ]
  },
  {
   "cell_type": "markdown",
   "metadata": {},
   "source": [
    "# breaking out of nested loops\n",
    "- later we will see better ways to do this using:\n",
    "    - the error system\n",
    "    - itertools module"
   ]
  },
  {
   "cell_type": "code",
   "execution_count": 5,
   "metadata": {},
   "outputs": [
    {
     "name": "stdout",
     "output_type": "stream",
     "text": [
      "x 0\n",
      "y 0\n",
      "y 1\n",
      "y 2\n",
      "loop done\n"
     ]
    }
   ],
   "source": [
    "# can use a boolean var,\n",
    "# but can get a little complicated\n",
    "\n",
    "terminateLoop = False\n",
    "\n",
    "for x in range(4):\n",
    "    if terminateLoop:\n",
    "        # exit x loop\n",
    "        break\n",
    "    print('x', x)\n",
    "        \n",
    "    for y in range(4):\n",
    "        if y == 3:\n",
    "            terminateLoop = True\n",
    "            # exit y loop\n",
    "            break\n",
    "        print('y', y)\n",
    "print('loop done')    "
   ]
  },
  {
   "cell_type": "code",
   "execution_count": 6,
   "metadata": {},
   "outputs": [
    {
     "name": "stdout",
     "output_type": "stream",
     "text": [
      "x 0\n",
      "y 0\n",
      "y 1\n",
      "y 2\n",
      "y 3\n"
     ]
    },
    {
     "data": {
      "text/plain": [
       "3"
      ]
     },
     "execution_count": 6,
     "metadata": {},
     "output_type": "execute_result"
    }
   ],
   "source": [
    "# sometimes you can use return\n",
    "\n",
    "def foo(n):\n",
    "    for x in range(4):\n",
    "        print('x',x)\n",
    "        for y in range(4):\n",
    "            print('y', y)\n",
    "            if y == 3:\n",
    "                return y\n",
    "foo(4)\n"
   ]
  },
  {
   "cell_type": "markdown",
   "metadata": {},
   "source": [
    "# 'for' helper functions\n",
    "- concise and simple\n",
    "    - 'range'\n",
    "    - 'enumerate'\n",
    "    - 'zip'\n",
    "- used constantly"
   ]
  },
  {
   "cell_type": "code",
   "execution_count": 7,
   "metadata": {},
   "outputs": [
    {
     "name": "stdout",
     "output_type": "stream",
     "text": [
      "physics\n",
      "architecture\n",
      "business\n"
     ]
    }
   ],
   "source": [
    "# if you are iterating over an arbitrary iterable,\n",
    "# as opposed to a integer range, there is no element index\n",
    "# 'enumerate' adds an index \n",
    "\n",
    "x = ('physics', 'architecture', 'business')\n",
    "\n",
    "for e in x:\n",
    "    print(e)"
   ]
  },
  {
   "cell_type": "code",
   "execution_count": 8,
   "metadata": {},
   "outputs": [
    {
     "data": {
      "text/plain": [
       "<enumerate at 0x1056584b0>"
      ]
     },
     "execution_count": 8,
     "metadata": {},
     "output_type": "execute_result"
    }
   ],
   "source": [
    "# enumerate is an iterable\n",
    "\n",
    "enumerate(x)"
   ]
  },
  {
   "cell_type": "code",
   "execution_count": 9,
   "metadata": {},
   "outputs": [
    {
     "data": {
      "text/plain": [
       "[(0, 'physics'), (1, 'architecture'), (2, 'business')]"
      ]
     },
     "execution_count": 9,
     "metadata": {},
     "output_type": "execute_result"
    }
   ],
   "source": [
    "# enumerate is a iterable\n",
    "# use list to force evaluation\n",
    "# get a length 3 list where each element is a length 2 tuple\n",
    "\n",
    "list(enumerate(x))"
   ]
  },
  {
   "cell_type": "code",
   "execution_count": 10,
   "metadata": {},
   "outputs": [
    {
     "name": "stdout",
     "output_type": "stream",
     "text": [
      "(0, 'physics')\n",
      "(1, 'architecture')\n",
      "(2, 'business')\n"
     ]
    }
   ],
   "source": [
    "# for will deal with enumerate \n",
    "# emumerate elements are length 2 tuples\n",
    "\n",
    "for e in enumerate(x):\n",
    "    print(e)"
   ]
  },
  {
   "cell_type": "code",
   "execution_count": 11,
   "metadata": {},
   "outputs": [
    {
     "name": "stdout",
     "output_type": "stream",
     "text": [
      "0 physics\n",
      "1 architecture\n",
      "2 business\n"
     ]
    }
   ],
   "source": [
    "# can destructure/unpack the length 2 tuples\n",
    "# from enumerate\n",
    "\n",
    "for j, subject in enumerate(x):\n",
    "    print(j, subject)"
   ]
  },
  {
   "cell_type": "code",
   "execution_count": 12,
   "metadata": {},
   "outputs": [
    {
     "data": {
      "text/plain": [
       "('physics', 'architecture', 'business')"
      ]
     },
     "execution_count": 12,
     "metadata": {},
     "output_type": "execute_result"
    }
   ],
   "source": [
    "x"
   ]
  },
  {
   "cell_type": "code",
   "execution_count": 13,
   "metadata": {},
   "outputs": [
    {
     "data": {
      "text/plain": [
       "[('f', 'physics', 'science/engineering'),\n",
       " ('o', 'architecture', 'avery'),\n",
       " ('u', 'business', 'watson')]"
      ]
     },
     "execution_count": 13,
     "metadata": {},
     "output_type": "execute_result"
    }
   ],
   "source": [
    "# sometimes you want to iterate thru two or \n",
    "# more lists simultaneously\n",
    "# 'zip' - threads any number of lists together. \n",
    "# 'zip' is an iterable\n",
    "# note that 'zip' stops when the shortest list is exhausted\n",
    "\n",
    "s = 'four'\n",
    "y = ['science/engineering', 'avery', 'watson', 'none']\n",
    "\n",
    "# give zip a string, list, tuple\n",
    "list(zip(s, x, y))"
   ]
  },
  {
   "cell_type": "code",
   "execution_count": null,
   "metadata": {},
   "outputs": [],
   "source": [
    "# nested destructuring\n",
    "\n",
    "for index, (c, building, purpose) in enumerate(zip(s, x, y)):\n",
    "    print(index, c, building, purpose)"
   ]
  },
  {
   "cell_type": "markdown",
   "metadata": {},
   "source": [
    "# Are enumerate and zip horribly inefficient? \n",
    "- tuples can't be modified, so they make a new tuple each time around the loop???"
   ]
  },
  {
   "cell_type": "markdown",
   "metadata": {},
   "source": [
    "# while\n",
    "+ used for more complex loops that\n",
    "depend on arbitrary conditions for loop termination\n",
    "- number of iterations might not be known when loop starts\n",
    "- while continues looping as long as predicate(follows while) is True\n",
    "- 'break' and 'continue' work in while loops\n"
   ]
  },
  {
   "cell_type": "code",
   "execution_count": null,
   "metadata": {},
   "outputs": [],
   "source": [
    "# n < 7 is loop predicate\n",
    "\n",
    "n = 0\n",
    "while n < 7:\n",
    "    print(n)\n",
    "    n += 1"
   ]
  },
  {
   "cell_type": "code",
   "execution_count": null,
   "metadata": {},
   "outputs": [],
   "source": [
    "n = 0\n",
    "while n < 7:\n",
    "    n += 1\n",
    "    if n == 2:\n",
    "        continue\n",
    "    print(n)\n",
    "    if n > 4:\n",
    "        break"
   ]
  },
  {
   "cell_type": "markdown",
   "metadata": {},
   "source": [
    "# Implement 'russian multiplication' (for integers)\n",
    "- we perform multiplication by reducing b, and increasing a, until b = 1 \n",
    "- given a * b, rm proceeds by looking at b\n",
    "- if b is even, let a = 2*a, and b = b//2\n",
    "- if b is odd, let a = 2*a, b = b//2, and increment an accumulator variable acc by a\n",
    "- final product will be a + acc"
   ]
  },
  {
   "cell_type": "code",
   "execution_count": null,
   "metadata": {},
   "outputs": [],
   "source": [
    "def rmult(a, b):\n",
    "    acc = 0\n",
    "    while b > 1:\n",
    "        if b % 2 != 0:\n",
    "            # b is odd\n",
    "            acc += a\n",
    "        a *= 2\n",
    "        b //= 2\n",
    "    return a + acc"
   ]
  },
  {
   "cell_type": "code",
   "execution_count": null,
   "metadata": {},
   "outputs": [],
   "source": [
    "rmult( 2342134, 433434)"
   ]
  },
  {
   "cell_type": "code",
   "execution_count": null,
   "metadata": {},
   "outputs": [],
   "source": [
    "2342134 * 433434"
   ]
  },
  {
   "cell_type": "code",
   "execution_count": null,
   "metadata": {},
   "outputs": [],
   "source": [
    "# sometimes it is convenient to \n",
    "# terminate the loop somewhere inside\n",
    "# the loop body, using break\n",
    "# loop predicate is True\n",
    "\n",
    "import random\n",
    "\n",
    "while True:\n",
    "    r = random.randint(10,15)\n",
    "    print(r)\n",
    "    if r == 13:\n",
    "        break"
   ]
  },
  {
   "cell_type": "code",
   "execution_count": null,
   "metadata": {},
   "outputs": [],
   "source": [
    "# if inside a function, can exit loop \n",
    "# with return\n",
    "\n",
    "def r13():\n",
    "    cnt = 0\n",
    "    while True:\n",
    "        cnt += 1\n",
    "        r = random.randint(10,15)\n",
    "        print(r)\n",
    "        if r == 13:\n",
    "            return cnt\n",
    "  "
   ]
  },
  {
   "cell_type": "code",
   "execution_count": null,
   "metadata": {},
   "outputs": [],
   "source": [
    "r13()"
   ]
  },
  {
   "cell_type": "markdown",
   "metadata": {},
   "source": [
    "# Collatz conjecture \n",
    "- proposed in 1937 \n",
    "- conjecture claims the sequence always reaches 1, for any positive n\n",
    "- zillions of inputs have been tested \n",
    "- but, nobody has been able to prove it always works\n"
   ]
  },
  {
   "cell_type": "code",
   "execution_count": null,
   "metadata": {},
   "outputs": [],
   "source": [
    "def collatz(n):\n",
    "    seq = [n]\n",
    "    # keep looping until we get 1\n",
    "    while n != 1:\n",
    "        if n % 2 == 0:\n",
    "            n = n//2\n",
    "        else:\n",
    "            n = 3*n + 1\n",
    "        seq.append(n)\n",
    "    return seq\n"
   ]
  },
  {
   "cell_type": "code",
   "execution_count": null,
   "metadata": {},
   "outputs": [],
   "source": [
    "collatz(6)"
   ]
  },
  {
   "cell_type": "code",
   "execution_count": null,
   "metadata": {},
   "outputs": [],
   "source": [
    "collatz(19)"
   ]
  },
  {
   "cell_type": "code",
   "execution_count": null,
   "metadata": {},
   "outputs": [],
   "source": [
    "print(collatz(27))"
   ]
  },
  {
   "cell_type": "markdown",
   "metadata": {},
   "source": [
    "# Infinite loops\n",
    "- use while with True predicate to keep looping forever\n",
    "- web servers, for example, loop forever\n",
    "- can use break or return to exit loop\n",
    "\n",
    "\n",
    "```\n",
    "while True:\n",
    "    loopbody\n",
    "```"
   ]
  },
  {
   "cell_type": "code",
   "execution_count": null,
   "metadata": {},
   "outputs": [],
   "source": []
  }
 ],
 "metadata": {
  "anaconda-cloud": {},
  "kernelspec": {
   "display_name": "Python 3",
   "language": "python",
   "name": "python3"
  },
  "language_info": {
   "codemirror_mode": {
    "name": "ipython",
    "version": 3
   },
   "file_extension": ".py",
   "mimetype": "text/x-python",
   "name": "python",
   "nbconvert_exporter": "python",
   "pygments_lexer": "ipython3",
   "version": "3.7.4"
  }
 },
 "nbformat": 4,
 "nbformat_minor": 1
}
