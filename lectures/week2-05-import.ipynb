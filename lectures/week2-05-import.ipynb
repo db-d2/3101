{
 "cells": [
  {
   "cell_type": "markdown",
   "metadata": {},
   "source": [
    "# import\n",
    "- a module is a set of one or more files of python code\n",
    "- 'importing' a module loads that code into Python and makes that functionality available to your program\n",
    "- the 'standard libraries modules' are packaged with python distributions, so they are always available\n",
    "- additional modules may be included in a distribution - anaconda includes hundreds\n",
    "- other 3rd party modules must be downloaded and installed\n",
    "    - the 'pip' command is often used for this purpose\n",
    "    - 'pip install module'\n",
    "- modules are similar to the Java package system\n",
    "- import is an executable statement, not a declaration\n",
    "- several types of imports\n"
   ]
  },
  {
   "cell_type": "markdown",
   "metadata": {},
   "source": [
    "- 'choice' is a function in the 'random' module\n",
    "but choice is not available, \n",
    "because the random module isn't loaded"
   ]
  },
  {
   "cell_type": "code",
   "execution_count": null,
   "metadata": {},
   "outputs": [],
   "source": [
    "random.choice"
   ]
  },
  {
   "cell_type": "markdown",
   "metadata": {},
   "source": [
    "- this makes names in random available, but the names\n",
    "must prefixed with 'random.'"
   ]
  },
  {
   "cell_type": "code",
   "execution_count": null,
   "metadata": {},
   "outputs": [],
   "source": [
    "import random\n",
    "random.choice, random.shuffle, random.sample"
   ]
  },
  {
   "cell_type": "markdown",
   "metadata": {},
   "source": [
    "- choice still not defined without qualification"
   ]
  },
  {
   "cell_type": "code",
   "execution_count": null,
   "metadata": {},
   "outputs": [],
   "source": [
    "choice"
   ]
  },
  {
   "cell_type": "markdown",
   "metadata": {},
   "source": [
    "- this makes names in random available \n",
    "using a shorter'nickname'. popular\n",
    "packages often have 'standard' nicknames\n",
    "that everybody uses\n",
    "\n"
   ]
  },
  {
   "cell_type": "code",
   "execution_count": null,
   "metadata": {},
   "outputs": [],
   "source": [
    "import random as ran\n",
    "\n",
    "ran.choice, ran.sample, ran.shuffle"
   ]
  },
  {
   "cell_type": "markdown",
   "metadata": {},
   "source": [
    "# from \n",
    "- imports names to top level"
   ]
  },
  {
   "cell_type": "code",
   "execution_count": null,
   "metadata": {},
   "outputs": [],
   "source": [
    "# now don't need to say 'random.choice', just 'choice'\n",
    "\n",
    "from random import choice\n",
    "choice"
   ]
  },
  {
   "cell_type": "code",
   "execution_count": null,
   "metadata": {},
   "outputs": [],
   "source": [
    "# another function name in random, still not defined\n",
    "# at top level\n",
    "\n",
    "shuffle"
   ]
  },
  {
   "cell_type": "markdown",
   "metadata": {},
   "source": [
    "# from module import *\n",
    "- puts all the names in random at top level\n",
    "- can be very convenient for playing around, but is considered bad form for programs that will be distributed\n",
    "    - danger of redefining Python functions\n",
    "    - hard to tell what package a name is coming from"
   ]
  },
  {
   "cell_type": "code",
   "execution_count": null,
   "metadata": {},
   "outputs": [],
   "source": [
    "from random import *\n",
    "shuffle, choice, sample"
   ]
  },
  {
   "cell_type": "markdown",
   "metadata": {},
   "source": [
    "# Directories that are searched for requested modules\n",
    "- sys.path is a 'magic' variable that you can modify"
   ]
  },
  {
   "cell_type": "code",
   "execution_count": null,
   "metadata": {},
   "outputs": [],
   "source": [
    "import lasdasdfasdf"
   ]
  },
  {
   "cell_type": "code",
   "execution_count": null,
   "metadata": {},
   "outputs": [],
   "source": [
    "import sys\n",
    "\n",
    "sys.path"
   ]
  }
 ],
 "metadata": {
  "kernelspec": {
   "display_name": "Python 3",
   "language": "python",
   "name": "python3"
  },
  "language_info": {
   "codemirror_mode": {
    "name": "ipython",
    "version": 3
   },
   "file_extension": ".py",
   "mimetype": "text/x-python",
   "name": "python",
   "nbconvert_exporter": "python",
   "pygments_lexer": "ipython3",
   "version": "3.7.4"
  }
 },
 "nbformat": 4,
 "nbformat_minor": 2
}
