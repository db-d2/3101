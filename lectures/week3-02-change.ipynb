{
 "cells": [
  {
   "cell_type": "markdown",
   "metadata": {},
   "source": [
    "# Example: Change of a dollar\n",
    "- an item whose price is a dollar or less is purchased with a dollar bill\n",
    "- compute the change that should returned - quarters, dimes, nicke, pennies, given what change is on hand. \n",
    "- return the minium number of coins\n",
    "- how should the coins on hand be represented?\n",
    "- how should the coins being returned be represented?\n",
    "\n",
    "\n",
    "    \n",
    "    \n",
    "    \n"
   ]
  },
  {
   "cell_type": "code",
   "execution_count": 1,
   "metadata": {},
   "outputs": [],
   "source": [
    "def change(priceOfItem):\n",
    "    pass\n",
    "    # figure out what change to give the customer\n",
    "    # decrement the amount of change left\n",
    "\n",
    "\n",
    "\n",
    "\n",
    "\n",
    "\n",
    "\n",
    "\n",
    "\n",
    "\n",
    "\n",
    "\n",
    "\n",
    "\n",
    "\n",
    "\n"
   ]
  },
  {
   "cell_type": "markdown",
   "metadata": {},
   "source": [
    "- I use two global variables\n",
    "    - coins variable\n",
    "        - defines the representation of change (# of quarters, dimes, nickels, pennies)\n",
    "        - code depends on largest first order\n",
    "        - coins is a tuple, since the value of each coin type never changes\n",
    "    - coinInventory are the coins 'in stock'. note coinInventory is NOT declared global in the function, so the value of coinInventory cannot be changed, but the list refered to by coinInventory is changed by the function"
   ]
  },
  {
   "cell_type": "code",
   "execution_count": 2,
   "metadata": {},
   "outputs": [],
   "source": [
    "# order is quarters, dimes, nickels, pennies\n",
    "coins = (25, 10, 5, 1)\n",
    "coinInventory = [2, 3, 10, 7]\n",
    "\n",
    "def change(price):\n",
    "    owe = 100 - price\n",
    "    ans = [0]*len(coins)\n",
    "    for j in range(len(coins)):\n",
    "        cval = coins[j]\n",
    "        cnt = owe // cval \n",
    "        cnt = min(cnt, coinInventory[j])\n",
    "        ans[j] = cnt\n",
    "        coinInventory[j] -= cnt\n",
    "        owe -= cnt * cval\n",
    "        if owe == 0:\n",
    "            break\n",
    "    # (coins returned , amount still owed)\n",
    "    # \n",
    "    return (ans, owe)\n"
   ]
  },
  {
   "cell_type": "code",
   "execution_count": 3,
   "metadata": {},
   "outputs": [],
   "source": [
    "# order is quarters, dimes, nickels, pennies\n",
    "# coins is a tuple because coin values never change\n",
    "\n",
    "coins = (25, 10, 5, 1)\n",
    "\n",
    "# inventory is a list, because as we return change, \n",
    "# we will hold less coins\n",
    "\n",
    "coinInventory = [2, 3, 10, 7]\n",
    "\n",
    "def change(price):\n",
    "    owe = 100 - price\n",
    "    # like matlab zeros\n",
    "    ans = [0]*len(coins)\n",
    "    for j, coin in enumerate(coins):\n",
    "        cnt = owe // coin\n",
    "        cnt = min(cnt, coinInventory[j])\n",
    "        ans[j] = cnt\n",
    "        coinInventory[j] -= cnt\n",
    "        owe -= cnt * coin\n",
    "        if owe == 0:\n",
    "            break\n",
    "    # return amount still owed, if any\n",
    "    # coins returned\n",
    "    return (ans, owe)\n"
   ]
  },
  {
   "cell_type": "code",
   "execution_count": 4,
   "metadata": {},
   "outputs": [],
   "source": [
    "coinInventory = [2, 3, 10, 7]"
   ]
  },
  {
   "cell_type": "code",
   "execution_count": 5,
   "metadata": {},
   "outputs": [
    {
     "data": {
      "text/plain": [
       "(([1, 0, 0, 1], 0), [1, 3, 10, 6])"
      ]
     },
     "execution_count": 5,
     "metadata": {},
     "output_type": "execute_result"
    }
   ],
   "source": [
    "change(74), coinInventory"
   ]
  },
  {
   "cell_type": "code",
   "execution_count": 6,
   "metadata": {},
   "outputs": [
    {
     "data": {
      "text/plain": [
       "(([1, 0, 0, 1], 0), [0, 3, 10, 5])"
      ]
     },
     "execution_count": 6,
     "metadata": {},
     "output_type": "execute_result"
    }
   ],
   "source": [
    "change(74), coinInventory"
   ]
  },
  {
   "cell_type": "code",
   "execution_count": 7,
   "metadata": {},
   "outputs": [
    {
     "data": {
      "text/plain": [
       "(([0, 2, 1, 1], 0), [0, 1, 9, 4])"
      ]
     },
     "execution_count": 7,
     "metadata": {},
     "output_type": "execute_result"
    }
   ],
   "source": [
    "change(74), coinInventory"
   ]
  },
  {
   "cell_type": "code",
   "execution_count": 8,
   "metadata": {},
   "outputs": [
    {
     "data": {
      "text/plain": [
       "(([0, 1, 3, 1], 0), [0, 0, 6, 3])"
      ]
     },
     "execution_count": 8,
     "metadata": {},
     "output_type": "execute_result"
    }
   ],
   "source": [
    "change(74), coinInventory"
   ]
  },
  {
   "cell_type": "code",
   "execution_count": 9,
   "metadata": {},
   "outputs": [
    {
     "data": {
      "text/plain": [
       "(([0, 0, 5, 1], 0), [0, 0, 1, 2])"
      ]
     },
     "execution_count": 9,
     "metadata": {},
     "output_type": "execute_result"
    }
   ],
   "source": [
    "change(74), coinInventory"
   ]
  },
  {
   "cell_type": "markdown",
   "metadata": {},
   "source": [
    "# 'change' is UNPYTHONIC\n",
    "- what's wrong?"
   ]
  },
  {
   "cell_type": "code",
   "execution_count": null,
   "metadata": {},
   "outputs": [],
   "source": []
  }
 ],
 "metadata": {
  "anaconda-cloud": {},
  "kernelspec": {
   "display_name": "Python 3",
   "language": "python",
   "name": "python3"
  },
  "language_info": {
   "codemirror_mode": {
    "name": "ipython",
    "version": 3
   },
   "file_extension": ".py",
   "mimetype": "text/x-python",
   "name": "python",
   "nbconvert_exporter": "python",
   "pygments_lexer": "ipython3",
   "version": "3.7.4"
  }
 },
 "nbformat": 4,
 "nbformat_minor": 1
}
