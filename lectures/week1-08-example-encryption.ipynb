{
 "cells": [
  {
   "cell_type": "markdown",
   "metadata": {},
   "source": [
    "# Hints\n",
    "- function definition is described in the week1-07-classes notebook"
   ]
  },
  {
   "cell_type": "code",
   "execution_count": null,
   "metadata": {},
   "outputs": [],
   "source": [
    "# has stuff we will use \n",
    "\n",
    "import random\n",
    "import string"
   ]
  },
  {
   "cell_type": "code",
   "execution_count": null,
   "metadata": {},
   "outputs": [],
   "source": [
    "# a useful method on string is isdigit\n",
    "\n",
    "s = 'a3'\n",
    "\n",
    "[s[0].isdigit(), s[1].isdigit()]"
   ]
  },
  {
   "cell_type": "code",
   "execution_count": null,
   "metadata": {},
   "outputs": [],
   "source": [
    "# random.choice randomly picks one element from a sequence\n",
    "\n",
    "random.choice(\"larry\")"
   ]
  },
  {
   "cell_type": "code",
   "execution_count": null,
   "metadata": {},
   "outputs": [],
   "source": [
    "# random.choices randomly picks k elements from a sequence\n",
    "\n",
    "random.choices(range(20), k=6)"
   ]
  },
  {
   "cell_type": "code",
   "execution_count": null,
   "metadata": {},
   "outputs": [],
   "source": [
    "# iterate over elements\n",
    "\n",
    "for c in 'foo':\n",
    "    print(c)"
   ]
  },
  {
   "cell_type": "code",
   "execution_count": null,
   "metadata": {},
   "outputs": [],
   "source": [
    "# but sometimes you need the index of each element as you iterate\n",
    "# could do this:\n",
    "\n",
    "pos = 0 \n",
    "for c in 'foo':\n",
    "    print(pos, c)\n",
    "    pos += 1\n"
   ]
  },
  {
   "cell_type": "code",
   "execution_count": null,
   "metadata": {},
   "outputs": [],
   "source": [
    "# but a MUCH nicer way is to use enumerate\n",
    "\n",
    "for pos,c in enumerate('foo'):\n",
    "    print(pos, c)"
   ]
  },
  {
   "cell_type": "markdown",
   "metadata": {},
   "source": [
    "# define random string generator\n",
    "- return n character string \n",
    "- string module - has useful constants\n",
    "- [string doc page](https://docs.python.org/3/library/string.html)"
   ]
  },
  {
   "cell_type": "code",
   "execution_count": null,
   "metadata": {},
   "outputs": [],
   "source": [
    "string.ascii_letters"
   ]
  },
  {
   "cell_type": "code",
   "execution_count": null,
   "metadata": {},
   "outputs": [],
   "source": [
    "string.punctuation"
   ]
  },
  {
   "cell_type": "code",
   "execution_count": null,
   "metadata": {},
   "outputs": [],
   "source": [
    "def randomString(n):\n",
    "    # don't want any digits in the string\n",
    "    chars = string.ascii_letters + string.punctuation\n",
    "    return ''.join(random.choices(chars, k=n))"
   ]
  },
  {
   "cell_type": "code",
   "execution_count": null,
   "metadata": {},
   "outputs": [],
   "source": [
    "for j in range(4):\n",
    "    print(randomString(30))"
   ]
  },
  {
   "cell_type": "markdown",
   "metadata": {},
   "source": [
    "# define encrypt and decrypt functions\n",
    "- encrypt - super duper encryption technique \n",
    "    - takes a list of words and encrypts them \n",
    "    - each word is prefixed by a single digit character count\n",
    "    - the digits/words are surrounded by random strings\n",
    "- decrypt by searching for single digits \n"
   ]
  },
  {
   "cell_type": "code",
   "execution_count": null,
   "metadata": {},
   "outputs": [],
   "source": [
    "def encrypt(s):\n",
    "    words = s.split()\n",
    "    rlen = random.choice(range(5,15))\n",
    "    # put random string in front of each word\n",
    "    lenwords = [randomString(rlen) + str(len(w)) + w for w in words]\n",
    "    # end with random string\n",
    "    lenwords.append(randomString(rlen))\n",
    "    return ''.join(lenwords)"
   ]
  },
  {
   "cell_type": "code",
   "execution_count": null,
   "metadata": {},
   "outputs": [],
   "source": [
    "msg = 'Python is really great!'\n",
    "enc = encrypt(msg)\n",
    "enc"
   ]
  },
  {
   "cell_type": "code",
   "execution_count": null,
   "metadata": {},
   "outputs": [],
   "source": [
    "# index into s to get chars\n",
    "\n",
    "def decrypt(s):\n",
    "    words = []\n",
    "    for j in range(len(s)):\n",
    "        if s[j].isdigit():\n",
    "            wordlen = int(s[j])\n",
    "            wordstart = j+1\n",
    "            words.append(s[wordstart:wordstart+wordlen])\n",
    "    return ' '.join(words)\n",
    "\n",
    "decrypt(enc)\n"
   ]
  },
  {
   "cell_type": "code",
   "execution_count": null,
   "metadata": {},
   "outputs": [],
   "source": [
    "# ...range(len(s)) above - too complicated\n",
    "# iterate directly on the chars\n",
    "# but is this better??\n",
    "\n",
    "def decrypt2(s):\n",
    "    words = []\n",
    "    pos = 0\n",
    "    for c in s:\n",
    "        if c.isdigit():\n",
    "            wordlen = int(c)\n",
    "            wordstart = pos+1\n",
    "            words.append(s[wordstart:wordstart+wordlen])\n",
    "        pos += 1\n",
    "    return ' '.join(words)\n",
    "\n",
    "decrypt(enc)\n"
   ]
  },
  {
   "cell_type": "code",
   "execution_count": null,
   "metadata": {},
   "outputs": [],
   "source": [
    "# don't want to track the pos myself\n",
    "# use enumerate!!\n",
    "\n",
    "def decrypt3(s):\n",
    "    words = []\n",
    "    for pos,c in enumerate(s):\n",
    "        if c.isdigit():\n",
    "            wordlen = int(c)\n",
    "            wordstart = pos + 1\n",
    "            words.append(s[wordstart:wordstart+wordlen])\n",
    "    return ' '.join(words)"
   ]
  },
  {
   "cell_type": "code",
   "execution_count": null,
   "metadata": {},
   "outputs": [],
   "source": [
    "decrypt3(enc)"
   ]
  },
  {
   "cell_type": "code",
   "execution_count": null,
   "metadata": {},
   "outputs": [],
   "source": [
    "# shrink down to one liner with list comprehension!\n",
    "# Pythonic?\n",
    "\n",
    "def decrypt4(s):\n",
    "    # uses 'list comprehension filter', instead of 'if statement'\n",
    "    return ' '.join([s[pos+1:pos+1+int(s[pos])] for pos, c in enumerate(s) if c.isdigit()])"
   ]
  },
  {
   "cell_type": "code",
   "execution_count": null,
   "metadata": {},
   "outputs": [],
   "source": [
    "decrypt4(enc)"
   ]
  },
  {
   "cell_type": "code",
   "execution_count": null,
   "metadata": {},
   "outputs": [],
   "source": [
    "# use regular expressions\n",
    "\n",
    "import re"
   ]
  },
  {
   "cell_type": "code",
   "execution_count": null,
   "metadata": {},
   "outputs": [],
   "source": [
    "# one liner\n",
    "# Pythonic?\n",
    "\n",
    "' '.join([s[:int(len)] for len, s in zip(re.findall('[0-9]', enc), re.split('[0-9]', enc)[1:])])"
   ]
  },
  {
   "cell_type": "code",
   "execution_count": null,
   "metadata": {},
   "outputs": [],
   "source": [
    "re.findall('[0-9]', enc)"
   ]
  },
  {
   "cell_type": "code",
   "execution_count": null,
   "metadata": {},
   "outputs": [],
   "source": [
    "re.split('[0-9]', enc)"
   ]
  }
 ],
 "metadata": {
  "anaconda-cloud": {},
  "kernelspec": {
   "display_name": "Python 3",
   "language": "python",
   "name": "python3"
  },
  "language_info": {
   "codemirror_mode": {
    "name": "ipython",
    "version": 3
   },
   "file_extension": ".py",
   "mimetype": "text/x-python",
   "name": "python",
   "nbconvert_exporter": "python",
   "pygments_lexer": "ipython3",
   "version": "3.7.4"
  }
 },
 "nbformat": 4,
 "nbformat_minor": 1
}
