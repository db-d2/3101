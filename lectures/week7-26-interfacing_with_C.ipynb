{
 "cells": [
  {
   "cell_type": "markdown",
   "metadata": {},
   "source": [
    "# Interfacing Python and C/C++\n",
    "- [doc](https://docs.python.org/3.5/extending/)"
   ]
  },
  {
   "cell_type": "markdown",
   "metadata": {},
   "source": [
    "# calling C/C++ from Python\n",
    "- also known as FFI, Foreign Function Interface\n",
    "- works fine, but mistakes in C can corrupt the Python environment, causing\n",
    "mysteries and crashes\n",
    "- will show examples of calling 'libc' functions, which 'everything' uses\n",
    "- to call your own C code, build a shared library and load it"
   ]
  },
  {
   "cell_type": "code",
   "execution_count": null,
   "metadata": {},
   "outputs": [],
   "source": [
    "import ctypes"
   ]
  },
  {
   "cell_type": "code",
   "execution_count": 2,
   "metadata": {},
   "outputs": [
    {
     "data": {
      "text/plain": [
       "<CDLL 'libc.dylib', handle 1075d8608 at 0x107df1390>"
      ]
     },
     "execution_count": 2,
     "metadata": {},
     "output_type": "execute_result"
    }
   ],
   "source": [
    "# Load the standard C library - full of routines all programs use\n",
    "# On linux, this call would be \n",
    "# libc = cdll.LoadLibrary(\"libc.so\")\n",
    "# call below works on a mac\n",
    "# windows?\n",
    "\n",
    "lc = ctypes.cdll.LoadLibrary(\"libc.dylib\")\n",
    "lc"
   ]
  },
  {
   "cell_type": "code",
   "execution_count": 3,
   "metadata": {},
   "outputs": [
    {
     "data": {
      "text/plain": [
       "[<_FuncPtr object at 0x107eaca70>,\n",
       " <_FuncPtr object at 0x107eacb38>,\n",
       " <_FuncPtr object at 0x107eacc00>,\n",
       " <_FuncPtr object at 0x107eaccc8>,\n",
       " <_FuncPtr object at 0x107eacd90>]"
      ]
     },
     "execution_count": 3,
     "metadata": {},
     "output_type": "execute_result"
    }
   ],
   "source": [
    "# now have access to everything in the library,\n",
    "# but takes some effort to call things correctly\n",
    "\n",
    "[lc.strcmp, lc.printf, lc.malloc, lc.sin, lc.time]"
   ]
  },
  {
   "cell_type": "code",
   "execution_count": 4,
   "metadata": {},
   "outputs": [
    {
     "data": {
      "text/plain": [
       "1571269540"
      ]
     },
     "execution_count": 4,
     "metadata": {},
     "output_type": "execute_result"
    }
   ],
   "source": [
    "# None means no args\n",
    "# seconds since 1970\n",
    "\n",
    "lc.time(None)"
   ]
  },
  {
   "cell_type": "markdown",
   "metadata": {},
   "source": [
    "# Call sin in libc\n",
    "- sin takes and returns doubles\n",
    "```\n",
    "NAME\n",
    "     sin -- sine function\n",
    "\n",
    "SYNOPSIS\n",
    "     #include <math.h>\n",
    "\n",
    "     double\n",
    "     sin(double x);\n",
    "\n",
    "     long double\n",
    "     sinl(long double x);\n",
    "\n",
    "     float\n",
    "     sinf(float x);\n",
    "```"
   ]
  },
  {
   "cell_type": "code",
   "execution_count": 5,
   "metadata": {},
   "outputs": [
    {
     "data": {
      "text/plain": [
       "0.479425538604203"
      ]
     },
     "execution_count": 5,
     "metadata": {},
     "output_type": "execute_result"
    }
   ],
   "source": [
    "# ultimately calls libc sin routine\n",
    "\n",
    "import math\n",
    "math.sin(.5)"
   ]
  },
  {
   "cell_type": "code",
   "execution_count": 6,
   "metadata": {},
   "outputs": [
    {
     "data": {
      "text/plain": [
       "<_FuncPtr object at 0x107eaccc8>"
      ]
     },
     "execution_count": 6,
     "metadata": {},
     "output_type": "execute_result"
    }
   ],
   "source": [
    "# get libc.sin function pointer\n",
    "\n",
    "s = lc.sin\n",
    "s"
   ]
  },
  {
   "cell_type": "code",
   "execution_count": 7,
   "metadata": {},
   "outputs": [
    {
     "ename": "ArgumentError",
     "evalue": "argument 1: <class 'TypeError'>: Don't know how to convert parameter 1",
     "output_type": "error",
     "traceback": [
      "\u001b[0;31m----------------------------------------------------------------------\u001b[0m",
      "\u001b[0;31mArgumentError\u001b[0m                        Traceback (most recent call last)",
      "\u001b[0;32m<ipython-input-7-7e7592462509>\u001b[0m in \u001b[0;36m<module>\u001b[0;34m\u001b[0m\n\u001b[1;32m      1\u001b[0m \u001b[0;31m# this won't work\u001b[0m\u001b[0;34m\u001b[0m\u001b[0;34m\u001b[0m\u001b[0;34m\u001b[0m\u001b[0m\n\u001b[1;32m      2\u001b[0m \u001b[0;34m\u001b[0m\u001b[0m\n\u001b[0;32m----> 3\u001b[0;31m \u001b[0ms\u001b[0m\u001b[0;34m(\u001b[0m\u001b[0;36m.5\u001b[0m\u001b[0;34m)\u001b[0m\u001b[0;34m\u001b[0m\u001b[0;34m\u001b[0m\u001b[0m\n\u001b[0m",
      "\u001b[0;31mArgumentError\u001b[0m: argument 1: <class 'TypeError'>: Don't know how to convert parameter 1"
     ]
    }
   ],
   "source": [
    "# this won't work\n",
    "\n",
    "s(.5)"
   ]
  },
  {
   "cell_type": "code",
   "execution_count": 8,
   "metadata": {},
   "outputs": [
    {
     "data": {
      "text/plain": [
       "1022"
      ]
     },
     "execution_count": 8,
     "metadata": {},
     "output_type": "execute_result"
    }
   ],
   "source": [
    "# have to convert Python 'float' into C 'double',\n",
    "# but it still won't work...get garbage result\n",
    "\n",
    "s(ctypes.c_double(.5))"
   ]
  },
  {
   "cell_type": "code",
   "execution_count": 9,
   "metadata": {},
   "outputs": [
    {
     "data": {
      "text/plain": [
       "0.479425538604203"
      ]
     },
     "execution_count": 9,
     "metadata": {},
     "output_type": "execute_result"
    }
   ],
   "source": [
    "# ...have to specify how to convert C return double \n",
    "# type back into Python float, by adding an\n",
    "# attribute to the function object\n",
    "\n",
    "s.restype = ctypes.c_double\n",
    "s(ctypes.c_double(.5))"
   ]
  },
  {
   "cell_type": "code",
   "execution_count": 10,
   "metadata": {},
   "outputs": [
    {
     "data": {
      "text/plain": [
       "0.0"
      ]
     },
     "execution_count": 10,
     "metadata": {},
     "output_type": "execute_result"
    }
   ],
   "source": [
    "# looks like same routine is being called\n",
    "\n",
    "s(ctypes.c_double(.5)) - math.sin(.5)"
   ]
  },
  {
   "cell_type": "markdown",
   "metadata": {},
   "source": [
    "# C can call back into Python\n",
    "- run C's qsort, with a Python sort predicate"
   ]
  },
  {
   "cell_type": "code",
   "execution_count": null,
   "metadata": {},
   "outputs": [],
   "source": [
    "# this makes an integer C array class\n",
    "\n",
    "IntArray5 = ctypes.c_int * 5\n",
    "\n",
    "# make array object\n",
    "ia = IntArray5(5, 1, 7, 33, 99)\n",
    "qsort = lc.qsort\n",
    "qsort.restype = None\n",
    "\n",
    "# write the comparsion function in Python\n",
    "\n",
    "def qsortCmp(a, b):\n",
    "    print(\"qsortCmp\", a[0], b[0] )\n",
    "    return a[0] - b[0]\n",
    "\n",
    "# declaration for comparison function\n",
    "CMPFUNC = ctypes.CFUNCTYPE(ctypes.c_int, ctypes.POINTER(ctypes.c_int), ctypes.POINTER(ctypes.c_int))\n",
    "\n",
    "qsort(ia, len(ia), ctypes.sizeof(ctypes.c_int), CMPFUNC(qsortCmp)) "
   ]
  },
  {
   "cell_type": "code",
   "execution_count": null,
   "metadata": {},
   "outputs": [],
   "source": [
    "# list has been sorted by libc.qsort\n",
    "\n",
    "list(ia)"
   ]
  },
  {
   "cell_type": "markdown",
   "metadata": {},
   "source": [
    "# struct - lays out fields like C 'struct' would\n",
    "- hardware interfaces often need precise byte layouts, aligned on certain boundaries\n",
    "- does padding like a C struct would\n",
    "- might use this to talk to an arduino or a robot\n",
    "- [doc](https://docs.python.org/3.5/library/struct.html)"
   ]
  },
  {
   "cell_type": "code",
   "execution_count": null,
   "metadata": {},
   "outputs": [],
   "source": [
    "from struct import *"
   ]
  },
  {
   "cell_type": "code",
   "execution_count": null,
   "metadata": {},
   "outputs": [],
   "source": [
    "# 2 ints and a byte - why is len(p) \n",
    "# 12 bytes instead of 9?\n",
    "# f is a format spec - \n",
    "# what types of things are going in the struct?\n",
    "\n",
    "f = 'ici'\n",
    "p = pack(f, 2,b'X', 3)\n",
    "[p, len(p), unpack(f, p)]"
   ]
  },
  {
   "cell_type": "code",
   "execution_count": null,
   "metadata": {},
   "outputs": [],
   "source": [
    "f = 'ihi'\n",
    "p = pack(f, 4, 5, 6)\n",
    "[p, len(p), unpack(f, p)]"
   ]
  },
  {
   "cell_type": "code",
   "execution_count": null,
   "metadata": {},
   "outputs": [],
   "source": [
    "list(map(type, unpack(f, p)))"
   ]
  },
  {
   "cell_type": "markdown",
   "metadata": {
    "collapsed": true
   },
   "source": [
    "# Embedding Python In a C/C++ application\n",
    "- can be incredibly useful\n",
    "- not too hard, but not trivial \n",
    "- mostly consists of converting C and Python data types back and forth\n",
    "- [doc](https://docs.python.org/3.5/extending/index.html)"
   ]
  },
  {
   "cell_type": "markdown",
   "metadata": {},
   "source": [
    "# Example - Blender\n",
    "- Blender is an open source animation system\n",
    "- Pasting and running running the code below modifies the position of one vertex in the default cube\n",
    "- Pretty much every operation in the GUI is available in the Python API\n",
    "    - you can see the function in the tool tips\n",
    "- allows programs to build 3D objects and automate animations \n",
    "- zoom with cntl-two-fingers\n",
    "\n",
    "```\n",
    "import bpy\n",
    "bpy.data.objects[\"Cube\"].data.vertices[0].co.x += 1.0\n",
    "```"
   ]
  }
 ],
 "metadata": {
  "anaconda-cloud": {},
  "kernelspec": {
   "display_name": "Python 3",
   "language": "python",
   "name": "python3"
  },
  "language_info": {
   "codemirror_mode": {
    "name": "ipython",
    "version": 3
   },
   "file_extension": ".py",
   "mimetype": "text/x-python",
   "name": "python",
   "nbconvert_exporter": "python",
   "pygments_lexer": "ipython3",
   "version": "3.7.3"
  }
 },
 "nbformat": 4,
 "nbformat_minor": 1
}
