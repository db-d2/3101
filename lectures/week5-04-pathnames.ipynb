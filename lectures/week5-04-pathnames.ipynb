{
 "cells": [
  {
   "cell_type": "markdown",
   "metadata": {},
   "source": [
    "# Pathname manipulation\n",
    "- There are two approaches\n",
    "    - path objects - newer and preferred technique\n",
    "    - string manipulation - gets confused on windows"
   ]
  },
  {
   "cell_type": "code",
   "execution_count": 1,
   "metadata": {},
   "outputs": [],
   "source": [
    "from pathlib import Path\n",
    "import os\n",
    "import sys"
   ]
  },
  {
   "cell_type": "markdown",
   "metadata": {},
   "source": [
    "# Using path objects\n",
    "- [doc](https://docs.python.org/3/library/pathlib.html)"
   ]
  },
  {
   "cell_type": "code",
   "execution_count": 2,
   "metadata": {},
   "outputs": [
    {
     "data": {
      "text/plain": [
       "(PosixPath('~/foo/bar/zap.txt'),\n",
       " PosixPath('/Users/dbenson30/foo/bar/zap.txt'),\n",
       " '/Users/dbenson30/foo/bar/zap.txt')"
      ]
     },
     "execution_count": 2,
     "metadata": {},
     "output_type": "execute_result"
    }
   ],
   "source": [
    "# Most pathname functions will NOT expand '~'\n",
    "# use expanduser\n",
    "\n",
    "p = Path('~/foo/bar/zap.txt')\n",
    "p2 = p.expanduser()\n",
    "p,p2, str(p2)"
   ]
  },
  {
   "cell_type": "code",
   "execution_count": 3,
   "metadata": {},
   "outputs": [
    {
     "data": {
      "text/plain": [
       "('/', 'Users', 'dbenson30', 'foo', 'bar', 'zap.txt')"
      ]
     },
     "execution_count": 3,
     "metadata": {},
     "output_type": "execute_result"
    }
   ],
   "source": [
    "# get pieces of paths\n",
    "\n",
    "p2.parts"
   ]
  },
  {
   "cell_type": "code",
   "execution_count": 4,
   "metadata": {},
   "outputs": [
    {
     "name": "stdout",
     "output_type": "stream",
     "text": [
      "/Users/dbenson30/foo/bar\n",
      "/Users/dbenson30/foo\n",
      "/Users/dbenson30\n",
      "/Users\n",
      "/\n"
     ]
    }
   ],
   "source": [
    "# get parents\n",
    "\n",
    "for p in p2.parents:\n",
    "    print(p)\n"
   ]
  },
  {
   "cell_type": "code",
   "execution_count": 5,
   "metadata": {},
   "outputs": [
    {
     "data": {
      "text/plain": [
       "(PosixPath('/Users/dbenson30/foo'), PosixPath('/Users'))"
      ]
     },
     "execution_count": 5,
     "metadata": {},
     "output_type": "execute_result"
    }
   ],
   "source": [
    "p2.parents[1], p2.parents[3]"
   ]
  },
  {
   "cell_type": "code",
   "execution_count": 6,
   "metadata": {},
   "outputs": [
    {
     "data": {
      "text/plain": [
       "'/Users/dbenson30/foo/bar/zap.txt'"
      ]
     },
     "execution_count": 6,
     "metadata": {},
     "output_type": "execute_result"
    }
   ],
   "source": [
    "# convert to a string\n",
    "\n",
    "str(p2)"
   ]
  },
  {
   "cell_type": "code",
   "execution_count": 7,
   "metadata": {},
   "outputs": [
    {
     "data": {
      "text/plain": [
       "PosixPath('/Users/lstead/foo/bar/zap.txt')"
      ]
     },
     "execution_count": 7,
     "metadata": {},
     "output_type": "execute_result"
    }
   ],
   "source": [
    "# join paths together\n",
    "\n",
    "p = Path()\n",
    "\n",
    "p.joinpath('/Users', 'lstead', 'foo/', 'bar', 'zap.txt')"
   ]
  },
  {
   "cell_type": "code",
   "execution_count": 8,
   "metadata": {},
   "outputs": [
    {
     "data": {
      "text/plain": [
       "PosixPath('/Users/lstead/foo/bar/zap.txt')"
      ]
     },
     "execution_count": 8,
     "metadata": {},
     "output_type": "execute_result"
    }
   ],
   "source": [
    "# or use slash operator\n",
    "\n",
    "p = Path() / '/Users' / 'lstead' / 'foo/' / 'bar' / 'zap.txt'\n",
    "p"
   ]
  },
  {
   "cell_type": "markdown",
   "metadata": {},
   "source": [
    "# Using strings\n",
    "- [doc](https://docs.python.org/3.7/library/os.path.html)"
   ]
  },
  {
   "cell_type": "code",
   "execution_count": 9,
   "metadata": {},
   "outputs": [
    {
     "data": {
      "text/plain": [
       "'/Users/dbenson30/foo/bar/zap.txt'"
      ]
     },
     "execution_count": 9,
     "metadata": {},
     "output_type": "execute_result"
    }
   ],
   "source": [
    "eu = os.path.expanduser('~/foo/bar/zap.txt')\n",
    "eu"
   ]
  },
  {
   "cell_type": "code",
   "execution_count": 10,
   "metadata": {},
   "outputs": [
    {
     "data": {
      "text/plain": [
       "(('/Users/dbenson30/foo/bar', 'zap.txt'),\n",
       " ('/Users/dbenson30/foo/bar/zap', '.txt'))"
      ]
     },
     "execution_count": 10,
     "metadata": {},
     "output_type": "execute_result"
    }
   ],
   "source": [
    "# get pieces of paths\n",
    "\n",
    "os.path.split(eu), os.path.splitext(eu)"
   ]
  },
  {
   "cell_type": "code",
   "execution_count": 11,
   "metadata": {},
   "outputs": [
    {
     "data": {
      "text/plain": [
       "'/Users/lstead/foo/bar/zap.txt'"
      ]
     },
     "execution_count": 11,
     "metadata": {},
     "output_type": "execute_result"
    }
   ],
   "source": [
    "# put paths together\n",
    "\n",
    "os.path.join('/Users', 'lstead', 'foo/', 'bar', 'zap.txt')"
   ]
  },
  {
   "cell_type": "code",
   "execution_count": 12,
   "metadata": {},
   "outputs": [
    {
     "data": {
      "text/plain": [
       "'/foo/bar/zap.txt'"
      ]
     },
     "execution_count": 12,
     "metadata": {},
     "output_type": "execute_result"
    }
   ],
   "source": [
    "# leading /  on foo eliminates components on the left\n",
    "\n",
    "os.path.join('/Users', 'lstead', '/foo', 'bar', 'zap.txt')"
   ]
  },
  {
   "cell_type": "markdown",
   "metadata": {},
   "source": [
    "# windows vs mac vs linux\n",
    "- mac and linux are pretty much the same"
   ]
  },
  {
   "cell_type": "code",
   "execution_count": 13,
   "metadata": {},
   "outputs": [
    {
     "data": {
      "text/plain": [
       "'darwin'"
      ]
     },
     "execution_count": 13,
     "metadata": {},
     "output_type": "execute_result"
    }
   ],
   "source": [
    "# see which OS is running \n",
    "# mac = 'darwin'\n",
    "# windows = 'win...'\n",
    "\n",
    "sys.platform"
   ]
  },
  {
   "cell_type": "code",
   "execution_count": 14,
   "metadata": {},
   "outputs": [
    {
     "data": {
      "text/plain": [
       "'/'"
      ]
     },
     "execution_count": 14,
     "metadata": {},
     "output_type": "execute_result"
    }
   ],
   "source": [
    "# string that separates components of a pathname\n",
    "\n",
    "os.sep"
   ]
  },
  {
   "cell_type": "code",
   "execution_count": 15,
   "metadata": {},
   "outputs": [
    {
     "data": {
      "text/plain": [
       "'\\n'"
      ]
     },
     "execution_count": 15,
     "metadata": {},
     "output_type": "execute_result"
    }
   ],
   "source": [
    "# character(s) that constitue a 'new line'\n",
    "# \\r is 'carriage return'\n",
    "# mac/linux - '\\n'\n",
    "# windows - '\\r\\n'\n",
    "\n",
    "os.linesep"
   ]
  },
  {
   "cell_type": "code",
   "execution_count": null,
   "metadata": {},
   "outputs": [],
   "source": []
  }
 ],
 "metadata": {
  "anaconda-cloud": {},
  "kernelspec": {
   "display_name": "Python 3",
   "language": "python",
   "name": "python3"
  },
  "language_info": {
   "codemirror_mode": {
    "name": "ipython",
    "version": 3
   },
   "file_extension": ".py",
   "mimetype": "text/x-python",
   "name": "python",
   "nbconvert_exporter": "python",
   "pygments_lexer": "ipython3",
   "version": "3.7.4"
  }
 },
 "nbformat": 4,
 "nbformat_minor": 1
}
