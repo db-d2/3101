{
 "cells": [
  {
   "cell_type": "markdown",
   "metadata": {},
   "source": [
    "# Vector/array arithmetic\n",
    "- eliminating explict loops yields:\n",
    "    - more consise code\n",
    "    - substantial efficiency gains"
   ]
  },
  {
   "cell_type": "code",
   "execution_count": null,
   "metadata": {},
   "outputs": [],
   "source": [
    "import numpy as np\n",
    "\n",
    "a = np.arange(1,10).reshape(3,3)\n",
    "a"
   ]
  },
  {
   "cell_type": "code",
   "execution_count": null,
   "metadata": {},
   "outputs": [],
   "source": [
    "b = np.ones((3,3), dtype=int)\n",
    "b"
   ]
  },
  {
   "cell_type": "code",
   "execution_count": null,
   "metadata": {},
   "outputs": [],
   "source": [
    "# add two arrays explicitly\n",
    "\n",
    "res = np.zeros((3,3), dtype=int)\n",
    "\n",
    "for row in range(3):\n",
    "    for col in range(3):\n",
    "        res[row, col] = a[row, col] + b[row, col]\n",
    "res"
   ]
  },
  {
   "cell_type": "code",
   "execution_count": null,
   "metadata": {},
   "outputs": [],
   "source": [
    "# quite a bit nicer! \n",
    "# numpy implicit loops are much faster \n",
    "# than explicit python loops\n",
    "# also less code, easier to read\n",
    "# makes a new result array\n",
    "\n",
    "a + b"
   ]
  },
  {
   "cell_type": "code",
   "execution_count": null,
   "metadata": {},
   "outputs": [],
   "source": [
    "# can send result to existing array\n",
    "\n",
    "np.add(a,b, out= res)\n",
    "res"
   ]
  },
  {
   "cell_type": "markdown",
   "metadata": {},
   "source": [
    "# broadcasting\n",
    "- arrays of different shapes and scalars can sometimes be combined in a binary operation\n",
    "- usually straightforward, but can get complex\n",
    "- rather than discuss broadcasting rules, will show two examples\n",
    "- most important case is array op scalar"
   ]
  },
  {
   "cell_type": "markdown",
   "metadata": {},
   "source": [
    "# want to add a scalar to an array"
   ]
  },
  {
   "cell_type": "code",
   "execution_count": null,
   "metadata": {},
   "outputs": [],
   "source": [
    "# want to add 10 to each element\n",
    "\n",
    "a"
   ]
  },
  {
   "cell_type": "code",
   "execution_count": null,
   "metadata": {},
   "outputs": [],
   "source": [
    "# could do \n",
    "\n",
    "res = np.zeros((3,3), dtype=int)\n",
    "\n",
    "for row in range(3):\n",
    "    for col in range(3):\n",
    "        res[row, col] = a[row, col] + 10\n",
    "res"
   ]
  },
  {
   "cell_type": "code",
   "execution_count": null,
   "metadata": {},
   "outputs": [],
   "source": [
    "# or could do \n",
    "\n",
    "a10 = np.full((3,3), 10)\n",
    "a10"
   ]
  },
  {
   "cell_type": "code",
   "execution_count": null,
   "metadata": {},
   "outputs": [],
   "source": [
    "a + a10"
   ]
  },
  {
   "cell_type": "code",
   "execution_count": null,
   "metadata": {},
   "outputs": [],
   "source": [
    "# this is easier to read, faster\n",
    "\n",
    "# equivalent to doing 'a + a10', but a 3x3 array of 10's \n",
    "# is never actually created. the '10' is 'broadcasted'\n",
    "# also known as an vector-scalar op.\n",
    "# used very frequently\n",
    "\n",
    "a+10"
   ]
  },
  {
   "cell_type": "markdown",
   "metadata": {},
   "source": [
    "# more complex broadcasting"
   ]
  },
  {
   "cell_type": "code",
   "execution_count": null,
   "metadata": {},
   "outputs": [],
   "source": [
    "c = np.array([5,6,7])\n",
    "c"
   ]
  },
  {
   "cell_type": "code",
   "execution_count": null,
   "metadata": {},
   "outputs": [],
   "source": [
    "a"
   ]
  },
  {
   "cell_type": "code",
   "execution_count": null,
   "metadata": {},
   "outputs": [],
   "source": [
    "# c's one row is broadcast \n",
    "\n",
    "a+c"
   ]
  },
  {
   "cell_type": "code",
   "execution_count": null,
   "metadata": {},
   "outputs": [],
   "source": [
    "# same as below, but the broadcast never creates a 'c3'\n",
    "\n",
    "c3 = np.vstack([c,c,c])\n",
    "a + c3"
   ]
  },
  {
   "cell_type": "markdown",
   "metadata": {},
   "source": [
    "# vector functions"
   ]
  },
  {
   "cell_type": "code",
   "execution_count": null,
   "metadata": {},
   "outputs": [],
   "source": [
    "# using sin from numpy module, NOT math module\n",
    "# np.sin acts on each element of a numpy array, \n",
    "# and returns a new numpy array of the same shape\n",
    "\n",
    "print(a)\n",
    "print(np.sin(a))"
   ]
  },
  {
   "cell_type": "markdown",
   "metadata": {},
   "source": [
    "# dot product timing\n",
    "- in python\n",
    "- by numpy"
   ]
  },
  {
   "cell_type": "code",
   "execution_count": null,
   "metadata": {},
   "outputs": [],
   "source": [
    "# a millilon floats in a list\n",
    "\n",
    "meg = 1_000_000\n",
    "\n",
    "d1 = [1.]* meg\n",
    "\n",
    "# and an array\n",
    "d2 = np.linspace(0,1000, meg)\n",
    "\n",
    "len(d1),len(d2)"
   ]
  },
  {
   "cell_type": "code",
   "execution_count": null,
   "metadata": {},
   "outputs": [],
   "source": [
    "%%timeit\n",
    "\n",
    "# python\n",
    "\n",
    "dot = 0.0\n",
    "for d in d1:\n",
    "    dot += d*d\n"
   ]
  },
  {
   "cell_type": "code",
   "execution_count": null,
   "metadata": {},
   "outputs": [],
   "source": [
    "%%timeit\n",
    "\n",
    "# numpy\n",
    "d2.dot(d2)"
   ]
  }
 ],
 "metadata": {
  "kernelspec": {
   "display_name": "Python 3",
   "language": "python",
   "name": "python3"
  },
  "language_info": {
   "codemirror_mode": {
    "name": "ipython",
    "version": 3
   },
   "file_extension": ".py",
   "mimetype": "text/x-python",
   "name": "python",
   "nbconvert_exporter": "python",
   "pygments_lexer": "ipython3",
   "version": "3.7.4"
  }
 },
 "nbformat": 4,
 "nbformat_minor": 2
}
