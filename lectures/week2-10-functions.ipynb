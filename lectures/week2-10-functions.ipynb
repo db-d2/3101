{
 "cells": [
  {
   "cell_type": "markdown",
   "metadata": {},
   "source": [
    "# Functions\n",
    "- functions are objects, just like ints, strings, lists, etc\n",
    "- function objects can be assigned to variables, held in lists,\n",
    "passed as arguments, etc\n",
    "- function objects have a special capability - arguments can be \n",
    "applied to functions, the associated code executed, and a value may be returned"
   ]
  },
  {
   "cell_type": "markdown",
   "metadata": {},
   "source": [
    "# def\n",
    "+ used to define functions\n",
    "- is an executable statement, not a declaration\n",
    "- can appear anywhere, even inside another function definition\n",
    "- 'def name...' creates a 'function object', and makes 'name' refer to it\n",
    "- objects are passed as arguments\n",
    "- variables in function body are 'local' to the function. they\n",
    "disappear when the function terminates\n",
    "- like 'if', def defines a statement block, so there must be a \n",
    "':' at the end of the def line, and all the statements in the \n",
    "function body must be indented\n"
   ]
  },
  {
   "cell_type": "code",
   "execution_count": null,
   "metadata": {},
   "outputs": [],
   "source": [
    "# both prints are indented, forming a statement block\n",
    "\n",
    "def foo(n):\n",
    "    print(n)\n",
    "    print(n*n)\n",
    "  \n",
    "\n",
    "# var 'foo' now holds a reference to the \n",
    "# function object defined \n",
    "# by the def\n",
    "\n",
    "foo"
   ]
  },
  {
   "cell_type": "code",
   "execution_count": null,
   "metadata": {},
   "outputs": [],
   "source": [
    "# apply arguments and execute the \n",
    "# function object refered to by foo\n",
    "# foo prints but no value is returned\n",
    "\n",
    "foo(8)"
   ]
  },
  {
   "cell_type": "code",
   "execution_count": null,
   "metadata": {},
   "outputs": [],
   "source": [
    "# make savefoo refer to the foo function\n",
    "\n",
    "savefoo = foo\n",
    "\n",
    "# make var 'foo' refer to a new function object\n",
    "\n",
    "def foo(n):\n",
    "    print(n/2)\n",
    "    print(2*n)\n",
    "\n",
    "foo(8)"
   ]
  },
  {
   "cell_type": "code",
   "execution_count": null,
   "metadata": {},
   "outputs": [],
   "source": [
    "# savefoo has the original foo\n",
    "\n",
    "savefoo(8)"
   ]
  },
  {
   "cell_type": "code",
   "execution_count": null,
   "metadata": {},
   "outputs": [],
   "source": [
    "# restore foo\n",
    "\n",
    "foo = savefoo\n",
    "\n",
    "foo(8)"
   ]
  },
  {
   "cell_type": "markdown",
   "metadata": {},
   "source": [
    "# Danger!\n",
    "- Python will NOT prevent you from smashing the definition of system functions\n",
    "- Don't use 'sum' or 'list' as variables - they are system functions"
   ]
  },
  {
   "cell_type": "code",
   "execution_count": null,
   "metadata": {},
   "outputs": [],
   "source": [
    "# expected behavior\n",
    "\n",
    "list(range(5))"
   ]
  },
  {
   "cell_type": "code",
   "execution_count": null,
   "metadata": {},
   "outputs": [],
   "source": [
    "# save the normal definition of 'list'\n",
    "\n",
    "save = list\n",
    "\n",
    "# change the value of 'list' to something bogus\n",
    "\n",
    "list = [1,2,3]\n",
    "\n",
    "# the error message is pretty confusing if you\n",
    "# don't know what's going on\n",
    "\n",
    "list(range(5))\n"
   ]
  },
  {
   "cell_type": "code",
   "execution_count": null,
   "metadata": {},
   "outputs": [],
   "source": [
    "# save still refers to the 'system' function object\n",
    "\n",
    "save(range(5))"
   ]
  },
  {
   "cell_type": "code",
   "execution_count": null,
   "metadata": {},
   "outputs": [],
   "source": [
    "# let's fix it - reinstall the correct value of 'list'\n",
    "\n",
    "# could do\n",
    "\n",
    "# list = save\n",
    "\n",
    "# in a notebook, could also fix things by restarting Python\n",
    "# on menubar, do Kernel/Restart - but then you lose all your objects\n",
    "\n",
    "# oddly, del will restore the normal definition of list\n",
    "\n",
    "del list \n",
    "\n",
    "list(range(5))"
   ]
  },
  {
   "cell_type": "markdown",
   "metadata": {},
   "source": [
    "# How can a function communicate results to the external world?\n",
    "- return a value\n",
    "- modify mutable args\n",
    "- use 'global' statement\n",
    "- do I/O(more later)\n",
    "    - print objects\n",
    "    - write a file\n",
    "    - write to the network"
   ]
  },
  {
   "cell_type": "markdown",
   "metadata": {},
   "source": [
    "# return statement\n",
    "- functions return 'None' by default, which doesn't get printed by notebooks\n"
   ]
  },
  {
   "cell_type": "code",
   "execution_count": null,
   "metadata": {},
   "outputs": [],
   "source": [
    "def foo():\n",
    "    x = 3 - 6\n",
    "    x\n",
    "    \n",
    "foo()\n"
   ]
  },
  {
   "cell_type": "code",
   "execution_count": null,
   "metadata": {},
   "outputs": [],
   "source": [
    "# return with no value returns None\n",
    "\n",
    "def foo():\n",
    "    print('here')\n",
    "    # exit foo, no return val, so still returns 'None'\n",
    "    return \n",
    "    print('there')\n",
    "\n",
    "foo()"
   ]
  },
  {
   "cell_type": "code",
   "execution_count": null,
   "metadata": {},
   "outputs": [],
   "source": [
    "def foo():\n",
    "    print('here')\n",
    "    # exit, return 234\n",
    "    return 234\n",
    "    print('there')\n",
    "    \n",
    "foo()"
   ]
  },
  {
   "cell_type": "code",
   "execution_count": null,
   "metadata": {},
   "outputs": [],
   "source": [
    "# falling off the end of a function \n",
    "# with no return statement...\n",
    "\n",
    "def foo():\n",
    "    print('here')\n",
    "    \n",
    "foo()"
   ]
  },
  {
   "cell_type": "code",
   "execution_count": null,
   "metadata": {},
   "outputs": [],
   "source": [
    "# ...is equivalent to this\n",
    "# remember that None isn't printed\n",
    "\n",
    "def foo():\n",
    "    print('here')\n",
    "    return None\n",
    "\n",
    "foo()"
   ]
  },
  {
   "cell_type": "markdown",
   "metadata": {},
   "source": [
    "# Modify mutable args\n",
    "- a function may modify mutable arguments\n",
    "- such a function may or may not return anything\n"
   ]
  },
  {
   "cell_type": "code",
   "execution_count": null,
   "metadata": {},
   "outputs": [],
   "source": [
    "def delthing(l, thing):\n",
    "    if thing in l:\n",
    "        l.remove(thing)\n",
    "\n",
    "l = [34,34,'foo',435]\n",
    "\n",
    "delthing(l, 'foo4')\n"
   ]
  },
  {
   "cell_type": "code",
   "execution_count": null,
   "metadata": {},
   "outputs": [],
   "source": [
    "# no change\n",
    "\n",
    "l"
   ]
  },
  {
   "cell_type": "code",
   "execution_count": null,
   "metadata": {},
   "outputs": [],
   "source": [
    "delthing(l, 'foo')"
   ]
  },
  {
   "cell_type": "code",
   "execution_count": null,
   "metadata": {},
   "outputs": [],
   "source": [
    "# l changed\n",
    "\n",
    "l"
   ]
  },
  {
   "cell_type": "markdown",
   "metadata": {},
   "source": [
    "# global statement\n",
    "- connects the listed variables in local and global namespaces"
   ]
  },
  {
   "cell_type": "code",
   "execution_count": null,
   "metadata": {},
   "outputs": [],
   "source": [
    "def foo(n):\n",
    "    global zap, mop\n",
    "    zap = mop - n\n",
    "\n",
    "mop = 10\n",
    "foo(3)\n",
    "zap"
   ]
  },
  {
   "cell_type": "markdown",
   "metadata": {},
   "source": [
    "# Arguments are not typed"
   ]
  },
  {
   "cell_type": "code",
   "execution_count": null,
   "metadata": {},
   "outputs": [],
   "source": [
    "# since arg variables are not typed, \n",
    "# foo can take any type of args that work with '*'\n",
    "\n",
    "def foo(a, b):\n",
    "    return(a*b)\n"
   ]
  },
  {
   "cell_type": "code",
   "execution_count": null,
   "metadata": {},
   "outputs": [],
   "source": [
    "foo(2,5)"
   ]
  },
  {
   "cell_type": "code",
   "execution_count": null,
   "metadata": {},
   "outputs": [],
   "source": [
    "foo('bar', 4)"
   ]
  },
  {
   "cell_type": "code",
   "execution_count": null,
   "metadata": {},
   "outputs": [],
   "source": [
    "foo(3+5j, 10)"
   ]
  },
  {
   "cell_type": "markdown",
   "metadata": {},
   "source": [
    "# Python supports recursive functions"
   ]
  },
  {
   "cell_type": "code",
   "execution_count": null,
   "metadata": {},
   "outputs": [],
   "source": [
    "def factorial(n):\n",
    "    print('args', locals())\n",
    "    if n == 1:\n",
    "        # termination case\n",
    "        return(1)\n",
    "    else:\n",
    "        # solve a simpler problem\n",
    "        simple = factorial(n-1)\n",
    "        res = n * simple\n",
    "        print('after recursion', locals())\n",
    "        return res\n",
    "\n",
    "factorial(4)"
   ]
  },
  {
   "cell_type": "markdown",
   "metadata": {},
   "source": [
    "# rcount\n",
    "- recursively count elements in a nested list(a tree)\n",
    "- a very common and useful pattern for recursing thru a nested list is to split the list into the first element(the head), and the rest of the list(the tail), then recurse on each piece\n"
   ]
  },
  {
   "cell_type": "code",
   "execution_count": null,
   "metadata": {},
   "outputs": [],
   "source": [
    "def rcount(x):\n",
    "    print(x)\n",
    "    if isinstance(x, list):\n",
    "        # x is a list, get the length\n",
    "        xlen = len(x)\n",
    "        if xlen == 0:\n",
    "            return 0\n",
    "        if xlen == 1:\n",
    "            return(rcount(x[0]))\n",
    "        else:\n",
    "            # use an index access and a slice\n",
    "            # to subdivide list into head and tail\n",
    "            return rcount(x[0]) + rcount(x[1:])\n",
    "\n",
    "    # lst is not a list, so just counts as 1\n",
    "    return(1)\n"
   ]
  },
  {
   "cell_type": "code",
   "execution_count": null,
   "metadata": {},
   "outputs": [],
   "source": [
    "rcount(4.56), rcount([3,'asdf', 4.56]), rcount([1,2,[3,4,[5,6,7],8],9])"
   ]
  },
  {
   "cell_type": "markdown",
   "metadata": {},
   "source": [
    "# Can we make rcount a tad more pythonic?"
   ]
  },
  {
   "cell_type": "code",
   "execution_count": null,
   "metadata": {},
   "outputs": [],
   "source": [
    "\n",
    "\n",
    "\n",
    "\n",
    "\n",
    "def rcount(x):\n",
    "    if isinstance(x, list):\n",
    "        # x is a list, get the length\n",
    "        xlen = len(x)\n",
    "        if xlen == 0:\n",
    "            return 0\n",
    "        # use an index access and a slice\n",
    "        # to subdivide list into head and tail\n",
    "        return rcount(x[0]) + rcount(x[1:])\n",
    "\n",
    "    # x is not a list, so just counts as 1\n",
    "    return(1)\n",
    "\n",
    "\n",
    "\n",
    "\n"
   ]
  },
  {
   "cell_type": "markdown",
   "metadata": {},
   "source": [
    "# and again?"
   ]
  },
  {
   "cell_type": "code",
   "execution_count": null,
   "metadata": {},
   "outputs": [],
   "source": [
    "\n",
    "\n",
    "\n",
    "\n",
    "\n",
    "def rcount(x):\n",
    "    if isinstance(x, list):\n",
    "        if x == []:\n",
    "            return 0\n",
    "        head, *tail = x\n",
    "        return rcount(head) + rcount(tail)\n",
    "\n",
    "    # x is not a list, so just counts as 1\n",
    "    return(1)\n"
   ]
  },
  {
   "cell_type": "markdown",
   "metadata": {},
   "source": [
    "# Functions are objects\n",
    "- like everything else in python, functions are just objects\n",
    "- they have the special property that a function can be 'applied to arguments'\n",
    "- functions can be\n",
    "    - assigned to variables\n",
    "    - passed to functions as arguments\n",
    "    - returned from functions as values\n",
    "    - held in collections"
   ]
  },
  {
   "cell_type": "code",
   "execution_count": null,
   "metadata": {},
   "outputs": [],
   "source": [
    "# 'foo' refers to same function object as 'sum'\n",
    "\n",
    "foo = sum\n",
    "print(foo)\n",
    "print(sum)\n",
    "foo([4,6]), sum([4,6])"
   ]
  },
  {
   "cell_type": "code",
   "execution_count": null,
   "metadata": {},
   "outputs": [],
   "source": [
    "# takes a function as 2nd arg\n",
    "\n",
    "def outer2(n, inner):\n",
    "    return inner(n)\n",
    "\n",
    "outer2([4,6], sum)"
   ]
  },
  {
   "cell_type": "code",
   "execution_count": null,
   "metadata": {},
   "outputs": [],
   "source": [
    "# stick some functions in a list and run each of them\n",
    "\n",
    "def f1(n):\n",
    "    return n + 1\n",
    "\n",
    "def f2(n):\n",
    "    return n + 2\n",
    "\n",
    "def f3(n):\n",
    "    return n + 3\n",
    "\n",
    "flist = [f1,f2,f3]\n",
    "flist"
   ]
  },
  {
   "cell_type": "code",
   "execution_count": null,
   "metadata": {},
   "outputs": [],
   "source": [
    "# run the list of functions\n",
    "\n",
    "[f(10) for f in flist]"
   ]
  },
  {
   "cell_type": "markdown",
   "metadata": {},
   "source": [
    "# Supply a docstring(and comments) to increase readibility\n",
    "- a docstring is a comment placed as the first statement in the function definition\n",
    "- can use triple quotes(''') for multiline docstrings\n",
    "- many tools(like spyder) will display the docstring automatically, sometimes only the first line for brevity\n",
    "- in Jupyter notebooks, type function name, then hit shift-tab \n",
    "- docstring is available as a function attribute"
   ]
  },
  {
   "cell_type": "code",
   "execution_count": null,
   "metadata": {},
   "outputs": [],
   "source": [
    "def superfunc():\n",
    "    '''It slices it dices!\n",
    "    shakes and bakes!\n",
    "    '''\n",
    "    # regular comment\n",
    "    return 0"
   ]
  },
  {
   "cell_type": "code",
   "execution_count": null,
   "metadata": {},
   "outputs": [],
   "source": [
    "superfunc.__doc__"
   ]
  },
  {
   "cell_type": "code",
   "execution_count": null,
   "metadata": {},
   "outputs": [],
   "source": [
    "superfunc()"
   ]
  }
 ],
 "metadata": {
  "anaconda-cloud": {},
  "kernelspec": {
   "display_name": "Python 3",
   "language": "python",
   "name": "python3"
  },
  "language_info": {
   "codemirror_mode": {
    "name": "ipython",
    "version": 3
   },
   "file_extension": ".py",
   "mimetype": "text/x-python",
   "name": "python",
   "nbconvert_exporter": "python",
   "pygments_lexer": "ipython3",
   "version": "3.7.4"
  }
 },
 "nbformat": 4,
 "nbformat_minor": 1
}
