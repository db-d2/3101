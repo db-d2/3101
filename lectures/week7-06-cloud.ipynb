{
 "cells": [
  {
   "cell_type": "markdown",
   "metadata": {},
   "source": [
    "# cloud computing\n",
    "- Amazon Web Services has a comprehensive python interface, 'boto3' for controlling its cloud system\n",
    "- [boto3 docs](http://boto3.readthedocs.io/en/latest/reference/services/)\n",
    "- you need an AWS account to run this notebook"
   ]
  },
  {
   "cell_type": "markdown",
   "metadata": {},
   "source": [
    "# Connect to AWS and get status"
   ]
  },
  {
   "cell_type": "code",
   "execution_count": null,
   "metadata": {
    "collapsed": true
   },
   "outputs": [],
   "source": [
    "from boto3 import *\n",
    "\n",
    "ec2c = client('ec2')"
   ]
  },
  {
   "cell_type": "code",
   "execution_count": null,
   "metadata": {},
   "outputs": [],
   "source": [
    "# check status - nothing running now\n",
    "\n",
    "ins = ec2c.describe_instances(\\\n",
    "    Filters=[{'Name': 'instance-state-name',\\\n",
    "              'Values': ['running']}])\n",
    "ins\n"
   ]
  },
  {
   "cell_type": "markdown",
   "metadata": {},
   "source": [
    "# make an instance using EC2 control panel "
   ]
  },
  {
   "cell_type": "markdown",
   "metadata": {},
   "source": [
    "# connect with ssh\n",
    "\n",
    "ssh -i lsteadaws.pem  ec2-user@public_ip_addr"
   ]
  },
  {
   "cell_type": "code",
   "execution_count": null,
   "metadata": {},
   "outputs": [],
   "source": [
    "# check status again\n",
    "\n",
    "ins = ec2c.describe_instances(\\\n",
    "        Filters=[{'Name': 'instance-state-name', \\\n",
    "                  'Values': ['running']}])\n",
    "ins"
   ]
  },
  {
   "cell_type": "markdown",
   "metadata": {},
   "source": [
    "# use Python to bring up two new instances\n",
    "- [create_instances](http://boto3.readthedocs.io/en/latest/reference/services/ec2.html#EC2.ServiceResource.create_instances) takes a pile of keyword args!"
   ]
  },
  {
   "cell_type": "code",
   "execution_count": null,
   "metadata": {},
   "outputs": [],
   "source": [
    "# the linux image we will boot\n",
    "\n",
    "ami = 'ami-97785bed'\n",
    "\n",
    "ec2r=resource('ec2')\n",
    "\n",
    "# boot up two machines\n",
    "\n",
    "i2 = ec2r.create_instances(ImageId=ami, \n",
    "                    MinCount=2, MaxCount=2,\n",
    "                    InstanceType='t2.micro')\n",
    "i2"
   ]
  },
  {
   "cell_type": "code",
   "execution_count": null,
   "metadata": {},
   "outputs": [],
   "source": [
    "ia,ib = i2\n",
    "ia"
   ]
  },
  {
   "cell_type": "code",
   "execution_count": 5,
   "metadata": {},
   "outputs": [
    {
     "data": {
      "text/plain": [
       "{'Reservations': [{'Groups': [],\n",
       "   'Instances': [{'AmiLaunchIndex': 0,\n",
       "     'Architecture': 'x86_64',\n",
       "     'BlockDeviceMappings': [{'DeviceName': '/dev/xvda',\n",
       "       'Ebs': {'AttachTime': datetime.datetime(2018, 3, 1, 17, 52, 40, tzinfo=tzutc()),\n",
       "        'DeleteOnTermination': True,\n",
       "        'Status': 'attached',\n",
       "        'VolumeId': 'vol-0b99a98a381835347'}}],\n",
       "     'ClientToken': '',\n",
       "     'EbsOptimized': False,\n",
       "     'EnaSupport': True,\n",
       "     'Hypervisor': 'xen',\n",
       "     'ImageId': 'ami-97785bed',\n",
       "     'InstanceId': 'i-06c6becfcc88026aa',\n",
       "     'InstanceType': 't2.micro',\n",
       "     'LaunchTime': datetime.datetime(2018, 3, 1, 17, 52, 39, tzinfo=tzutc()),\n",
       "     'Monitoring': {'State': 'disabled'},\n",
       "     'NetworkInterfaces': [{'Association': {'IpOwnerId': 'amazon',\n",
       "        'PublicDnsName': 'ec2-35-171-188-90.compute-1.amazonaws.com',\n",
       "        'PublicIp': '35.171.188.90'},\n",
       "       'Attachment': {'AttachTime': datetime.datetime(2018, 3, 1, 17, 52, 39, tzinfo=tzutc()),\n",
       "        'AttachmentId': 'eni-attach-07883301',\n",
       "        'DeleteOnTermination': True,\n",
       "        'DeviceIndex': 0,\n",
       "        'Status': 'attached'},\n",
       "       'Description': '',\n",
       "       'Groups': [{'GroupId': 'sg-70a64106', 'GroupName': 'default'}],\n",
       "       'Ipv6Addresses': [],\n",
       "       'MacAddress': '0e:cb:e1:59:f9:36',\n",
       "       'NetworkInterfaceId': 'eni-6c4741b2',\n",
       "       'OwnerId': '092088698912',\n",
       "       'PrivateDnsName': 'ip-172-31-42-66.ec2.internal',\n",
       "       'PrivateIpAddress': '172.31.42.66',\n",
       "       'PrivateIpAddresses': [{'Association': {'IpOwnerId': 'amazon',\n",
       "          'PublicDnsName': 'ec2-35-171-188-90.compute-1.amazonaws.com',\n",
       "          'PublicIp': '35.171.188.90'},\n",
       "         'Primary': True,\n",
       "         'PrivateDnsName': 'ip-172-31-42-66.ec2.internal',\n",
       "         'PrivateIpAddress': '172.31.42.66'}],\n",
       "       'SourceDestCheck': True,\n",
       "       'Status': 'in-use',\n",
       "       'SubnetId': 'subnet-892c7ed4',\n",
       "       'VpcId': 'vpc-e675a99d'}],\n",
       "     'Placement': {'AvailabilityZone': 'us-east-1a',\n",
       "      'GroupName': '',\n",
       "      'Tenancy': 'default'},\n",
       "     'PrivateDnsName': 'ip-172-31-42-66.ec2.internal',\n",
       "     'PrivateIpAddress': '172.31.42.66',\n",
       "     'ProductCodes': [],\n",
       "     'PublicDnsName': 'ec2-35-171-188-90.compute-1.amazonaws.com',\n",
       "     'PublicIpAddress': '35.171.188.90',\n",
       "     'RootDeviceName': '/dev/xvda',\n",
       "     'RootDeviceType': 'ebs',\n",
       "     'SecurityGroups': [{'GroupId': 'sg-70a64106', 'GroupName': 'default'}],\n",
       "     'SourceDestCheck': True,\n",
       "     'State': {'Code': 16, 'Name': 'running'},\n",
       "     'StateTransitionReason': '',\n",
       "     'SubnetId': 'subnet-892c7ed4',\n",
       "     'VirtualizationType': 'hvm',\n",
       "     'VpcId': 'vpc-e675a99d'}],\n",
       "   'OwnerId': '092088698912',\n",
       "   'ReservationId': 'r-0103b3521fab191e2'}],\n",
       " 'ResponseMetadata': {'HTTPHeaders': {'content-type': 'text/xml;charset=UTF-8',\n",
       "   'date': 'Thu, 01 Mar 2018 17:52:57 GMT',\n",
       "   'server': 'AmazonEC2',\n",
       "   'transfer-encoding': 'chunked',\n",
       "   'vary': 'Accept-Encoding'},\n",
       "  'HTTPStatusCode': 200,\n",
       "  'RequestId': '73f615bc-34a1-4e07-a2c1-f8428aa1e123',\n",
       "  'RetryAttempts': 0}}"
      ]
     },
     "execution_count": 5,
     "metadata": {},
     "output_type": "execute_result"
    }
   ],
   "source": [
    "di = ec2c.describe_instances(\n",
    "     Filters=[{'Name': 'instance-state-name', \\\n",
    "               'Values': ['running']}])\n",
    "\n",
    "di"
   ]
  },
  {
   "cell_type": "code",
   "execution_count": 6,
   "metadata": {},
   "outputs": [
    {
     "data": {
      "text/plain": [
       "['__class__',\n",
       " '__delattr__',\n",
       " '__dict__',\n",
       " '__dir__',\n",
       " '__doc__',\n",
       " '__eq__',\n",
       " '__format__',\n",
       " '__ge__',\n",
       " '__getattribute__',\n",
       " '__gt__',\n",
       " '__hash__',\n",
       " '__init__',\n",
       " '__init_subclass__',\n",
       " '__le__',\n",
       " '__lt__',\n",
       " '__module__',\n",
       " '__ne__',\n",
       " '__new__',\n",
       " '__reduce__',\n",
       " '__reduce_ex__',\n",
       " '__repr__',\n",
       " '__setattr__',\n",
       " '__sizeof__',\n",
       " '__str__',\n",
       " '__subclasshook__',\n",
       " '__weakref__',\n",
       " '_id',\n",
       " 'ami_launch_index',\n",
       " 'architecture',\n",
       " 'attach_classic_link_vpc',\n",
       " 'attach_volume',\n",
       " 'block_device_mappings',\n",
       " 'classic_address',\n",
       " 'client_token',\n",
       " 'console_output',\n",
       " 'create_image',\n",
       " 'create_tags',\n",
       " 'delete_tags',\n",
       " 'describe_attribute',\n",
       " 'detach_classic_link_vpc',\n",
       " 'detach_volume',\n",
       " 'ebs_optimized',\n",
       " 'elastic_gpu_associations',\n",
       " 'ena_support',\n",
       " 'get_available_subresources',\n",
       " 'hypervisor',\n",
       " 'iam_instance_profile',\n",
       " 'id',\n",
       " 'image',\n",
       " 'image_id',\n",
       " 'instance_id',\n",
       " 'instance_lifecycle',\n",
       " 'instance_type',\n",
       " 'kernel_id',\n",
       " 'key_name',\n",
       " 'key_pair',\n",
       " 'launch_time',\n",
       " 'load',\n",
       " 'meta',\n",
       " 'modify_attribute',\n",
       " 'monitor',\n",
       " 'monitoring',\n",
       " 'network_interfaces',\n",
       " 'network_interfaces_attribute',\n",
       " 'password_data',\n",
       " 'placement',\n",
       " 'placement_group',\n",
       " 'platform',\n",
       " 'private_dns_name',\n",
       " 'private_ip_address',\n",
       " 'product_codes',\n",
       " 'public_dns_name',\n",
       " 'public_ip_address',\n",
       " 'ramdisk_id',\n",
       " 'reboot',\n",
       " 'reload',\n",
       " 'report_status',\n",
       " 'reset_attribute',\n",
       " 'reset_kernel',\n",
       " 'reset_ramdisk',\n",
       " 'reset_source_dest_check',\n",
       " 'root_device_name',\n",
       " 'root_device_type',\n",
       " 'security_groups',\n",
       " 'source_dest_check',\n",
       " 'spot_instance_request_id',\n",
       " 'sriov_net_support',\n",
       " 'start',\n",
       " 'state',\n",
       " 'state_reason',\n",
       " 'state_transition_reason',\n",
       " 'stop',\n",
       " 'subnet',\n",
       " 'subnet_id',\n",
       " 'tags',\n",
       " 'terminate',\n",
       " 'unmonitor',\n",
       " 'virtualization_type',\n",
       " 'volumes',\n",
       " 'vpc',\n",
       " 'vpc_addresses',\n",
       " 'vpc_id',\n",
       " 'wait_until_exists',\n",
       " 'wait_until_running',\n",
       " 'wait_until_stopped',\n",
       " 'wait_until_terminated']"
      ]
     },
     "execution_count": 6,
     "metadata": {},
     "output_type": "execute_result"
    }
   ],
   "source": [
    "dir(ia)"
   ]
  },
  {
   "cell_type": "code",
   "execution_count": 7,
   "metadata": {
    "collapsed": true
   },
   "outputs": [],
   "source": [
    "# kill the machines\n",
    "\n",
    "for i in i2:\n",
    "    i.terminate()\n"
   ]
  },
  {
   "cell_type": "markdown",
   "metadata": {},
   "source": [
    "[interesting article about how Netflix uses Python on AWS](http://techblog.netflix.com/2013/03/python-at-netflix.html)"
   ]
  },
  {
   "cell_type": "markdown",
   "metadata": {},
   "source": [
    "# Google Compute Engine\n",
    "- has python interface\n",
    "- [docs](https://cloud.google.com/compute/docs/tutorials/python-guide)"
   ]
  },
  {
   "cell_type": "markdown",
   "metadata": {},
   "source": [
    "# Microsoft Azure\n",
    "- has python interface\n",
    "- [docs](https://azure-sdk-for-python.readthedocs.io/en/latest/)"
   ]
  },
  {
   "cell_type": "markdown",
   "metadata": {},
   "source": [
    "# libcloud\n",
    "- avoid lockin to proprietary apis\n",
    "- [doc](http://libcloud.apache.org)\n",
    "- [many clouds supported](https://libcloud.readthedocs.io/en/stable/supported_providers.html)"
   ]
  },
  {
   "cell_type": "markdown",
   "metadata": {},
   "source": [
    "# OpenStack - run your own cloud\n",
    "- [OpenStack](http://www.openstack.org) is a huge open source software suite that manages cloud computing clusters\n",
    "- primarily written in Python\n",
    "    - largest known open source Python project\n",
    "    - almost two million lines of code\n",
    "- controllable by Python [API docs](https://docs.openstack.org/queens/language-bindings.html)\n",
    "- In use by many research and business groups"
   ]
  }
 ],
 "metadata": {
  "anaconda-cloud": {},
  "kernelspec": {
   "display_name": "Python 3",
   "language": "python",
   "name": "python3"
  },
  "language_info": {
   "codemirror_mode": {
    "name": "ipython",
    "version": 3
   },
   "file_extension": ".py",
   "mimetype": "text/x-python",
   "name": "python",
   "nbconvert_exporter": "python",
   "pygments_lexer": "ipython3",
   "version": "3.7.4"
  }
 },
 "nbformat": 4,
 "nbformat_minor": 1
}
