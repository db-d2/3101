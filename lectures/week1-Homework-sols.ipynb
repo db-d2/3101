{
 "cells": [
  {
   "cell_type": "markdown",
   "metadata": {},
   "source": [
    "# Homework 1\n",
    "- This homework is a \"warm up\" - it is NOT graded, but you must submit it\n",
    "- The goals are:\n",
    "    - get anaconda installed and jupyter running \n",
    "    - get comfortable interacting with the notebook\n",
    "    - try writing some simple functions\n",
    "- The jupyter notebook file you upload to Courseworks2 must be named 'YourUNI.ipynb' - just rename this notebook using 'File/Rename', and add cells with your work in them\n",
    "\n",
    "- If you having trouble getting setup, ask for help on piazza"
   ]
  },
  {
   "cell_type": "markdown",
   "metadata": {},
   "source": [
    "# Tasks\n",
    "- be sure to evaluate the cell below this one to confirm your installation completed correctly\n",
    "- learn how to navigate cells, enter python expressions, and evaluate them\n",
    "- Look at the problems below\n",
    "    - Try doing some or all of them in the notebook\n",
    "    - If you can't do them, do not worry. Just give them some thought"
   ]
  },
  {
   "cell_type": "code",
   "execution_count": null,
   "metadata": {},
   "outputs": [],
   "source": [
    "# a line that starts with '#' is a comment, and ignored by python\n",
    "\n",
    "# the output of this cell should start with \"3.7\"\n",
    "\n",
    "import sys\n",
    "\n",
    "sys.version"
   ]
  },
  {
   "cell_type": "markdown",
   "metadata": {},
   "source": [
    "# Survey (double click the question to insert your answer)"
   ]
  },
  {
   "cell_type": "markdown",
   "metadata": {},
   "source": [
    "- What is your current field of study?\n"
   ]
  },
  {
   "cell_type": "markdown",
   "metadata": {},
   "source": [
    "- What programming language(s) do you know?"
   ]
  },
  {
   "cell_type": "markdown",
   "metadata": {},
   "source": [
    "- Any idea what you might use Python for?\n",
    "\n",
    "\n",
    "\n"
   ]
  },
  {
   "cell_type": "markdown",
   "metadata": {},
   "source": [
    "# Hints"
   ]
  },
  {
   "cell_type": "code",
   "execution_count": 1,
   "metadata": {},
   "outputs": [
    {
     "data": {
      "text/plain": [
       "(2.0, 3.141592653589793, 1.0, 0.7071067811865476)"
      ]
     },
     "execution_count": 1,
     "metadata": {},
     "output_type": "execute_result"
    }
   ],
   "source": [
    "# math module has trig functions, value of pi \n",
    "# be sure to evalutate this cell, so math module\n",
    "# is imported\n",
    "\n",
    "import math\n",
    "\n",
    "math.sqrt(4), math.pi, math.sin(math.pi/2), math.cos(math.pi/4)"
   ]
  },
  {
   "cell_type": "code",
   "execution_count": null,
   "metadata": {},
   "outputs": [],
   "source": [
    "# function definition\n",
    "\n",
    "def foo(a, b, c):\n",
    "    return a+b-c\n",
    "\n",
    "foo(10,2,3)"
   ]
  },
  {
   "cell_type": "code",
   "execution_count": null,
   "metadata": {},
   "outputs": [],
   "source": [
    "# abs value function\n",
    "\n",
    "abs(4), abs(-4)"
   ]
  },
  {
   "cell_type": "code",
   "execution_count": null,
   "metadata": {},
   "outputs": [],
   "source": [
    "# represent a two dimensional point as a list [x,y]\n",
    "\n",
    "pt = [3,4]"
   ]
  },
  {
   "cell_type": "code",
   "execution_count": null,
   "metadata": {},
   "outputs": [],
   "source": [
    "# to get the x,y out of a list point, could do...\n",
    "\n",
    "xcord = pt[0]\n",
    "ycord = pt[1]\n",
    "\n",
    "xcord, ycord"
   ]
  },
  {
   "cell_type": "code",
   "execution_count": null,
   "metadata": {},
   "outputs": [],
   "source": [
    "# ...but much nicer is \"destructuring\"\n",
    "# also known as \"multiple value assignment\"\n",
    "\n",
    "xcord, ycord = pt\n",
    "\n",
    "xcord, ycord"
   ]
  },
  {
   "cell_type": "code",
   "execution_count": null,
   "metadata": {},
   "outputs": [],
   "source": [
    "# can also destructure in a loop\n",
    "\n",
    "for x,y in [[1,2], [3,4]]:\n",
    "    print(x,y)"
   ]
  },
  {
   "cell_type": "code",
   "execution_count": null,
   "metadata": {},
   "outputs": [],
   "source": [
    "# if statement - True/False predicate followed by \n",
    "# then and else clauses\n",
    "\n",
    "if 3 == 6:\n",
    "    print('here')\n",
    "else:\n",
    "    print('there')"
   ]
  },
  {
   "cell_type": "code",
   "execution_count": null,
   "metadata": {},
   "outputs": [],
   "source": [
    "if 3 < 6:\n",
    "    print('here')\n",
    "else:\n",
    "    print('there')"
   ]
  },
  {
   "cell_type": "code",
   "execution_count": null,
   "metadata": {},
   "outputs": [],
   "source": [
    "# way to check for an empty list\n",
    "\n",
    "lst = [3,5]\n",
    "\n",
    "lst == [] "
   ]
  },
  {
   "cell_type": "code",
   "execution_count": null,
   "metadata": {},
   "outputs": [],
   "source": [
    "lst.pop()\n",
    "lst.pop()\n",
    "\n",
    "lst == []"
   ]
  },
  {
   "cell_type": "code",
   "execution_count": null,
   "metadata": {},
   "outputs": [],
   "source": [
    "# return exits a function immediately\n",
    "\n",
    "def foo():\n",
    "    print('hi')\n",
    "    return 34\n",
    "    print('there')\n",
    "    return 99\n",
    "\n",
    "foo()"
   ]
  },
  {
   "cell_type": "markdown",
   "metadata": {},
   "source": [
    "# Problems"
   ]
  },
  {
   "cell_type": "markdown",
   "metadata": {},
   "source": [
    "# define function circlePoints(n)\n",
    "- represent a 2D point as a list - [x,y]\n",
    "- origin is [0,0]\n",
    "- generates a list of n evenly spaced points on a circle of radius=1 centered at the origin\n",
    "- points can be viewed as the vertexes of a regular n side polygon(n-gon)\n",
    "- note that due to floating point round off errors, zero is often represented by very small numbers, like 1e-16\n",
    "- insert a python cell below this one, and place the definition of circlePoints in the cell"
   ]
  },
  {
   "cell_type": "code",
   "execution_count": null,
   "metadata": {},
   "outputs": [],
   "source": [
    "# hide\n",
    "\n",
    "def circlePoints(n):\n",
    "    ans = []\n",
    "    for j in range(n):\n",
    "        ang = j * 2 * math.pi / n\n",
    "        ans.append([math.cos(ang), math.sin(ang)])\n",
    "    return ans"
   ]
  },
  {
   "cell_type": "code",
   "execution_count": null,
   "metadata": {},
   "outputs": [],
   "source": [
    "# pts are really [[1,0],[0,1],[-1,0],[0,-1]]\n",
    "\n",
    "circlePoints(4)"
   ]
  },
  {
   "cell_type": "code",
   "execution_count": null,
   "metadata": {},
   "outputs": [],
   "source": [
    "# define 'chop' function to change tiny floats to 0.0\n",
    "\n",
    "def chop(x):\n",
    "    if abs(x) < 1e-14:\n",
    "        return 0.0\n",
    "    else:\n",
    "        return x\n",
    "\n",
    "chop(1.2246467991473532e-16), chop(3.4)"
   ]
  },
  {
   "cell_type": "code",
   "execution_count": null,
   "metadata": {},
   "outputs": [],
   "source": [
    "circlePoints(6)"
   ]
  },
  {
   "cell_type": "code",
   "execution_count": null,
   "metadata": {},
   "outputs": [],
   "source": [
    "# clean up output \n",
    "\n",
    "[[chop(x), chop(y)] for x,y in circlePoints(4)]"
   ]
  },
  {
   "cell_type": "markdown",
   "metadata": {},
   "source": [
    "# define function euclid(pt1, pt2)\n",
    "- computes the straight line distance between two points\n"
   ]
  },
  {
   "cell_type": "code",
   "execution_count": null,
   "metadata": {},
   "outputs": [],
   "source": [
    "# hide\n",
    "\n",
    "def euclid(pt1, pt2):\n",
    "    # use destructuring \n",
    "    x1,y1 = pt1\n",
    "    x2,y2 = pt2\n",
    "    return math.sqrt((x1-x2)**2 + (y1-y2)**2)"
   ]
  },
  {
   "cell_type": "markdown",
   "metadata": {},
   "source": [
    "# define function manhattan(pt1, pt2)\n",
    "- computes the 'manhattan' distance between two points\n",
    "- can only move horizontally or vertically "
   ]
  },
  {
   "cell_type": "code",
   "execution_count": null,
   "metadata": {},
   "outputs": [],
   "source": [
    "# hide\n",
    "\n",
    "def manhattan(pt1, pt2):\n",
    "    x1,y1 = pt1\n",
    "    x2,y2 = pt2\n",
    "    return abs(x1-x2)+abs(y1-y2)"
   ]
  },
  {
   "cell_type": "code",
   "execution_count": null,
   "metadata": {},
   "outputs": [],
   "source": [
    "pt1 = [0,0]\n",
    "pt2 = [3,4]\n",
    "\n",
    "euclid(pt1, pt2)"
   ]
  },
  {
   "cell_type": "code",
   "execution_count": null,
   "metadata": {},
   "outputs": [],
   "source": [
    "manhattan(pt1, pt2)"
   ]
  },
  {
   "cell_type": "markdown",
   "metadata": {},
   "source": [
    "# define function perimeter\n",
    "- computes the perimeter length of an n-gon\n",
    "- use euclid"
   ]
  },
  {
   "cell_type": "code",
   "execution_count": null,
   "metadata": {},
   "outputs": [],
   "source": [
    "# hide\n",
    "\n",
    "def perimeter(n):\n",
    "    cp = circlePoints(n)\n",
    "    # add the first point at the end \n",
    "    # so for loop will work\n",
    "    cp.append(cp[0])\n",
    "    total = 0\n",
    "    for j in range(n):\n",
    "        total += euclid(cp[j], cp[j+1])\n",
    "    return total"
   ]
  },
  {
   "cell_type": "markdown",
   "metadata": {},
   "source": [
    "# define function area \n",
    "- computes the area of n-gon\n",
    "    - can compute area by dividing n-gon into triangles\n",
    "    - can find the area of each triangle by getting the base and height\n",
    "- use euclid"
   ]
  },
  {
   "cell_type": "code",
   "execution_count": null,
   "metadata": {},
   "outputs": [],
   "source": [
    "def area(n):\n",
    "    # break up n-gon into triangles around the center\n",
    "    # find base and height of triganle, area = base*height/2\n",
    "    cp = circlePoints(n)\n",
    "    cp.append(cp[0])\n",
    "    area = 0\n",
    "    for j in range(n):\n",
    "        x1,y1 = cp[j]\n",
    "        x2,y2 = cp[j+1]\n",
    "        xc = (x1+x2)/2\n",
    "        yc = (y1+y2)/2\n",
    "        height = euclid([xc,yc], [0,0])\n",
    "        base = euclid(cp[j], cp[j+1])\n",
    "        area += height * base/2\n",
    "    return area"
   ]
  },
  {
   "cell_type": "code",
   "execution_count": null,
   "metadata": {},
   "outputs": [],
   "source": [
    "# hide\n",
    "\n",
    "def area2(n):\n",
    "    # break up n-gon into triangles around the center\n",
    "    # find base and height of triganle, area = base*height/2\n",
    "    cp = circlePoints(n)\n",
    "    x1,y1 = cp[0]\n",
    "    x2,y2 = cp[1]\n",
    "    xc = (x1+x2)/2\n",
    "    yc = (y1+y2)/2\n",
    "    height = euclid([xc,yc], [0,0])\n",
    "    base = euclid(cp[0], cp[1])\n",
    "    return n * height * base/2"
   ]
  },
  {
   "cell_type": "code",
   "execution_count": null,
   "metadata": {},
   "outputs": [],
   "source": [
    "perimeter(3), area(3)"
   ]
  },
  {
   "cell_type": "markdown",
   "metadata": {},
   "source": [
    "# Approximate the area and circumference of a circle with n-gons\n",
    "- as n increases, the n-gon becomes more like a circle\n",
    "- show that as n increases, area and perimeter values approach circle values"
   ]
  },
  {
   "cell_type": "code",
   "execution_count": null,
   "metadata": {},
   "outputs": [],
   "source": [
    "# area of unit circle\n",
    "\n",
    "math.pi"
   ]
  },
  {
   "cell_type": "code",
   "execution_count": null,
   "metadata": {},
   "outputs": [],
   "source": [
    "def testArea():\n",
    "    # see how we do for various n-gons\n",
    "    for n in [3,4,5,8,14,20,30,50,100,1000,1000000]:\n",
    "        print(n, area(n))\n",
    "\n",
    "testArea()"
   ]
  },
  {
   "cell_type": "code",
   "execution_count": null,
   "metadata": {},
   "outputs": [],
   "source": [
    "# perimeter of unit circle\n",
    "\n",
    "2*math.pi"
   ]
  },
  {
   "cell_type": "code",
   "execution_count": null,
   "metadata": {
    "scrolled": true
   },
   "outputs": [],
   "source": [
    "def testPerimeter():\n",
    "    for n in [3,4,5,8,14,20,30,50,100,1000,1000000]:\n",
    "        print(n, perimeter(n))\n",
    "\n",
    "testPerimeter()"
   ]
  },
  {
   "cell_type": "markdown",
   "metadata": {},
   "source": [
    "# define function inList(data, find)\n",
    "- both args are lists\n",
    "- look for each element of find in data\n",
    "- accumulate a list of True(found)/False(not found)"
   ]
  },
  {
   "cell_type": "code",
   "execution_count": null,
   "metadata": {},
   "outputs": [],
   "source": [
    "# hide\n",
    "\n",
    "def inList(data, find):\n",
    "    finds = []\n",
    "    for f in find:\n",
    "        found = False\n",
    "        for d in data:\n",
    "            if d == f:\n",
    "                found = True\n",
    "        finds.append(found)\n",
    "    return finds"
   ]
  },
  {
   "cell_type": "code",
   "execution_count": null,
   "metadata": {},
   "outputs": [],
   "source": [
    "# hide\n",
    "\n",
    "def inList(data, find):\n",
    "    finds = []\n",
    "    for f in find:\n",
    "        finds.append(f in data)\n",
    "    return finds"
   ]
  },
  {
   "cell_type": "markdown",
   "metadata": {},
   "source": [
    "..."
   ]
  },
  {
   "cell_type": "code",
   "execution_count": null,
   "metadata": {},
   "outputs": [],
   "source": [
    "# hide\n",
    "\n",
    "def inList(data, find):\n",
    "    return [f in data for f in find]"
   ]
  },
  {
   "cell_type": "code",
   "execution_count": null,
   "metadata": {},
   "outputs": [],
   "source": [
    "inList([1,2,4,8,2.3], [2,33,1])"
   ]
  },
  {
   "cell_type": "code",
   "execution_count": null,
   "metadata": {},
   "outputs": [],
   "source": [
    "inList(list(range(5)),[1,1,3,7,1])"
   ]
  },
  {
   "cell_type": "markdown",
   "metadata": {},
   "source": [
    "# Designing recursion\n",
    "- there are three questions you must answer when you design a recursive procedure\n",
    "    - what is the easy to solve base case that terminates the recursion?\n",
    "    - how is the problem broken up into subproblems?\n",
    "    - how are the subproblem solutions combined?"
   ]
  },
  {
   "cell_type": "markdown",
   "metadata": {},
   "source": [
    "# define function rsum(lst)\n",
    "- use recursion(no 'for loop' allowed) to sum a list of ints\n"
   ]
  },
  {
   "cell_type": "code",
   "execution_count": null,
   "metadata": {},
   "outputs": [],
   "source": [
    "# hide\n",
    "\n",
    "def rsum(lst): \n",
    "    if lst == []:\n",
    "        return 0\n",
    "    return lst[0] + rsum(lst[1:])"
   ]
  },
  {
   "cell_type": "code",
   "execution_count": null,
   "metadata": {},
   "outputs": [],
   "source": [
    "rsum([1,3,6,7])"
   ]
  },
  {
   "cell_type": "code",
   "execution_count": null,
   "metadata": {},
   "outputs": [],
   "source": [
    "rsum(list(range(2,8)))"
   ]
  },
  {
   "cell_type": "markdown",
   "metadata": {},
   "source": [
    "# Just for fun...\n",
    "- which integers are singletons? can you figure out how to use Python to find them?\n",
    "-  hint - they are all in the interval (-1000,1000)\n",
    "- don't spend more than 5 minutes on this!"
   ]
  },
  {
   "cell_type": "code",
   "execution_count": null,
   "metadata": {},
   "outputs": [],
   "source": [
    "# hide\n",
    "\n",
    "# how does this work?\n",
    "\n",
    "sings = []\n",
    "\n",
    "for j in range(-1000,1000):\n",
    "    s = str(j)\n",
    "    i1 = int(s)\n",
    "    i2 = int(s)\n",
    "    if i1 is i2:\n",
    "        sings.append(i1)\n",
    "        \n",
    "print(sings)\n",
    "\n",
    "# could this be done with a list comprehension?"
   ]
  },
  {
   "cell_type": "markdown",
   "metadata": {},
   "source": [
    ".\n",
    ".\n",
    ".\n",
    ".\n",
    ".\n",
    ".\n",
    ".\n",
    ".\n",
    ".\n",
    ".\n",
    "\n",
    "  \n",
    "   \n",
    "    \n",
    "     \n",
    "      \n",
    "       \n",
    "       "
   ]
  },
  {
   "cell_type": "code",
   "execution_count": null,
   "metadata": {},
   "outputs": [],
   "source": [
    "# yes! \n",
    "# but is it Pythonic?\n",
    "\n",
    "sings = [j for j in range(-1000,1000) if int(str(j)) is int(str(j))]\n",
    "        \n",
    "print(sings)"
   ]
  },
  {
   "cell_type": "markdown",
   "metadata": {},
   "source": [
    ".........\n"
   ]
  },
  {
   "cell_type": "code",
   "execution_count": null,
   "metadata": {},
   "outputs": [],
   "source": [
    "# hide\n",
    "\n",
    "# slicker!\n",
    "# Pythonic? \n",
    "# is it fool proof?\n",
    "\n",
    "print([j for j in range(-1000,1000) if j is j + 0])"
   ]
  },
  {
   "cell_type": "code",
   "execution_count": null,
   "metadata": {},
   "outputs": [],
   "source": [
    "# hide\n",
    "\n",
    "# same trick with mult\n",
    "print([j for j in range(-1000,1000) if j is j * 1])"
   ]
  }
 ],
 "metadata": {
  "anaconda-cloud": {},
  "kernelspec": {
   "display_name": "Python 3",
   "language": "python",
   "name": "python3"
  },
  "language_info": {
   "codemirror_mode": {
    "name": "ipython",
    "version": 3
   },
   "file_extension": ".py",
   "mimetype": "text/x-python",
   "name": "python",
   "nbconvert_exporter": "python",
   "pygments_lexer": "ipython3",
   "version": "3.7.4"
  }
 },
 "nbformat": 4,
 "nbformat_minor": 1
}
