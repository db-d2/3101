{
 "cells": [
  {
   "cell_type": "markdown",
   "metadata": {},
   "source": [
    "# Logging \n",
    "- Often two types of logging are performed\n",
    "  - during development, may want very verbose logging to help debug system\n",
    "  - during production, only want to log \"important\" events, like web hits, major failures, services performed, accounting data\n",
    "- inserting and removing print statement is tedious and unsystematic\n",
    "- want one system to handle both needs\n",
    "- use logging package \n",
    "    - can globally control how much is logged\n",
    "    - can send logger output to files and streams\n",
    "    - Python logging package similiar to Java log4j\n",
    "- [doc](https://docs.python.org/3/library/logging.html)"
   ]
  },
  {
   "cell_type": "code",
   "execution_count": null,
   "metadata": {},
   "outputs": [],
   "source": [
    "import logging\n",
    "import sys\n",
    "\n",
    "logging.basicConfig(level=logging.DEBUG)\n",
    "log = logging.getLogger(\"testlog\")\n"
   ]
  },
  {
   "cell_type": "code",
   "execution_count": null,
   "metadata": {},
   "outputs": [],
   "source": [
    "def testlog():\n",
    "    log.critical('critical')\n",
    "    log.error('error')\n",
    "    log.warning('warning')\n",
    "    log.info('info')\n",
    "    log.debug('debug')\n",
    "    "
   ]
  },
  {
   "cell_type": "code",
   "execution_count": null,
   "metadata": {},
   "outputs": [],
   "source": [
    "testlog()"
   ]
  },
  {
   "cell_type": "code",
   "execution_count": null,
   "metadata": {},
   "outputs": [],
   "source": [
    "# only critical events will be logged\n",
    "\n",
    "log.setLevel(logging.CRITICAL)\n",
    "print(log.getEffectiveLevel())\n",
    "testlog()"
   ]
  },
  {
   "cell_type": "code",
   "execution_count": null,
   "metadata": {},
   "outputs": [],
   "source": [
    "# error events and everything above \n",
    "\n",
    "log.setLevel(logging.ERROR)\n",
    "testlog()"
   ]
  },
  {
   "cell_type": "code",
   "execution_count": null,
   "metadata": {},
   "outputs": [],
   "source": [
    "# warning events and everything above \n",
    "\n",
    "log.setLevel(logging.WARN)\n",
    "testlog()"
   ]
  },
  {
   "cell_type": "code",
   "execution_count": null,
   "metadata": {},
   "outputs": [],
   "source": [
    "# from info\n",
    "\n",
    "log.setLevel(logging.INFO)\n",
    "testlog()"
   ]
  },
  {
   "cell_type": "code",
   "execution_count": null,
   "metadata": {},
   "outputs": [],
   "source": [
    "# everything \n",
    "\n",
    "log.setLevel(logging.DEBUG)\n",
    "testlog()"
   ]
  },
  {
   "cell_type": "code",
   "execution_count": null,
   "metadata": {},
   "outputs": [],
   "source": [
    "# easy way to print stack trace\n",
    "\n",
    "try:\n",
    "    1/0\n",
    "except:\n",
    "    log.exception()"
   ]
  },
  {
   "cell_type": "code",
   "execution_count": null,
   "metadata": {},
   "outputs": [],
   "source": [
    "# a logger can get alot of stack info\n",
    "\n",
    "def foo():\n",
    "    bar()\n",
    "\n",
    "def bar():\n",
    "    for line in log.findCaller(stack_info=True):\n",
    "        print(line)\n",
    "\n",
    "foo()"
   ]
  }
 ],
 "metadata": {
  "anaconda-cloud": {},
  "kernelspec": {
   "display_name": "Python 3",
   "language": "python",
   "name": "python3"
  },
  "language_info": {
   "codemirror_mode": {
    "name": "ipython",
    "version": 3
   },
   "file_extension": ".py",
   "mimetype": "text/x-python",
   "name": "python",
   "nbconvert_exporter": "python",
   "pygments_lexer": "ipython3",
   "version": "3.7.4"
  }
 },
 "nbformat": 4,
 "nbformat_minor": 1
}
