{
 "cells": [
  {
   "cell_type": "markdown",
   "metadata": {},
   "source": [
    "# storing/loading numpy arrays to/from files\n",
    "- lots of ways to do this\n",
    "- there are also binary formats\n",
    "- [savetxt doc](https://docs.scipy.org/doc/numpy/reference/generated/numpy.savetxt.html)\n",
    "- [genfromtxt doc](https://docs.scipy.org/doc/numpy/reference/generated/numpy.genfromtxt.html)"
   ]
  },
  {
   "cell_type": "code",
   "execution_count": null,
   "metadata": {},
   "outputs": [],
   "source": [
    "import tempfile \n",
    "import numpy as np\n",
    "\n",
    "path = tempfile.NamedTemporaryFile().name\n",
    "path\n"
   ]
  },
  {
   "cell_type": "code",
   "execution_count": null,
   "metadata": {},
   "outputs": [],
   "source": [
    "a5 = np.random.randint(0, 9, size=(3,3))\n",
    "a5, a5.dtype"
   ]
  },
  {
   "cell_type": "code",
   "execution_count": null,
   "metadata": {},
   "outputs": [],
   "source": [
    "# save ints in CSV format\n",
    "\n",
    "np.savetxt(path, a5, fmt='%i', delimiter=',')"
   ]
  },
  {
   "cell_type": "code",
   "execution_count": null,
   "metadata": {},
   "outputs": [],
   "source": [
    "# could read it in like this\n",
    "\n",
    "with open(path) as f:\n",
    "    rows = []\n",
    "    for line in f:\n",
    "        # get list of strings\n",
    "        row = line.split(',')\n",
    "        print(row)\n",
    "        # convert strings into ints\n",
    "        rows.append( [int(e) for e in row])\n",
    "    print(rows)\n",
    "    ra = np.array(rows)\n",
    "\n",
    "ra"
   ]
  },
  {
   "cell_type": "code",
   "execution_count": null,
   "metadata": {},
   "outputs": [],
   "source": [
    "# this is much better - why?\n",
    "\n",
    "np.genfromtxt(path, delimiter=',', dtype='int64')"
   ]
  },
  {
   "cell_type": "code",
   "execution_count": null,
   "metadata": {},
   "outputs": [],
   "source": [
    "# note: int will ignore leading and trailing newline\n",
    "\n",
    "int('\\n324'), int('324\\n')"
   ]
  }
 ],
 "metadata": {
  "kernelspec": {
   "display_name": "Python 3",
   "language": "python",
   "name": "python3"
  },
  "language_info": {
   "codemirror_mode": {
    "name": "ipython",
    "version": 3
   },
   "file_extension": ".py",
   "mimetype": "text/x-python",
   "name": "python",
   "nbconvert_exporter": "python",
   "pygments_lexer": "ipython3",
   "version": "3.7.4"
  }
 },
 "nbformat": 4,
 "nbformat_minor": 2
}
