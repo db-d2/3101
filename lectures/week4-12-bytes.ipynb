{
 "cells": [
  {
   "cell_type": "markdown",
   "metadata": {},
   "source": [
    "# bytes\n",
    "- a bit has two possible values - on/off True/False 1/0, etc\n",
    "- a 'byte' consists of 8 bits\n",
    "- on most computers, memory and files hold a sequence of bytes\n",
    "- networks transmit and receive bytes, or \"byte streams\"\n",
    "- a byte stream may represent many different things\n",
    "    - jpeg image\n",
    "    - mp3 audio\n",
    "    - mp4 video\n",
    "    - Ascii text \n",
    "- file extensions like '.jpg', '.mp3' specify how to interpret\n",
    "a byte stream\n",
    "    "
   ]
  },
  {
   "cell_type": "markdown",
   "metadata": {},
   "source": [
    "# Character encoding scheme\n",
    "- is a mapping between integers and characters\n",
    "    - Ascii\n",
    "    - Unicode"
   ]
  },
  {
   "cell_type": "markdown",
   "metadata": {},
   "source": [
    "# Ascii \n",
    "- each character represented by seven bits in a eight bit byte. eighth bit is not used \n",
    "    - there are 128 Ascii characters\n",
    "        - first 32 are 'non-printing control characters'(NL, CR, TAB, ESC...)\n",
    "        - rest are 'printing characters' like 'a', 'Z', '!'\n",
    "- to see ascii encoding(like table below) on mac or linux, in a shell window do:\n",
    "  - man ascii "
   ]
  },
  {
   "cell_type": "markdown",
   "metadata": {},
   "source": [
    "# Ascii character encoding in decimal"
   ]
  },
  {
   "cell_type": "markdown",
   "metadata": {},
   "source": [
    "```\n",
    "  0 nul   1 soh   2 stx   3 etx   4 eot   5 enq   6 ack   7 bel \n",
    "  8 bs    9 ht   10 nl   11 vt   12 np   13 cr   14 so   15 si  \n",
    " 16 dle  17 dc1  18 dc2  19 dc3  20 dc4  21 nak  22 syn  23 etb \n",
    " 24 can  25 em   26 sub  27 esc  28 fs   29 gs   30 rs   31 us  \n",
    " 32 sp   33 !    34 \"    35 #    36 $    37 %    38 &    39 '   \n",
    " 40 (    41 )    42 *    43 +    44 ,    45 -    46 .    47 /   \n",
    " 48 0    49 1    50 2    51 3    52 4    53 5    54 6    55 7   \n",
    " 56 8    57 9    58 :    59 ;    60 <    61 =    62 >    63 ?   \n",
    " 64 @    65 A    66 B    67 C    68 D    69 E    70 F    71 G   \n",
    " 72 H    73 I    74 J    75 K    76 L    77 M    78 N    79 O   \n",
    " 80 P    81 Q    82 R    83 S    84 T    85 U    86 V    87 W   \n",
    " 88 X    89 Y    90 Z    91 [    92 \\    93 ]    94 ^    95 _   \n",
    " 96 `    97 a    98 b    99 c   100 d   101 e   102 f   103 g   \n",
    "104 h   105 i   106 j   107 k   108 l   109 m   110 n   111 o   \n",
    "112 p   113 q   114 r   115 s   116 t   117 u   118 v   119 w   \n",
    "120 x   121 y   122 z   123 {   124 |   125 }   126 ~   127 del \n",
    "```"
   ]
  },
  {
   "cell_type": "markdown",
   "metadata": {},
   "source": [
    "# Python 'bytes' data type\n",
    "- type 'bytes' stores a sequence of 8 bit bytes\n",
    "- uses Ascii to input and display 'bytes' objects\n",
    "- bytes are immutable, like strings\n",
    "- [doc](https://docs.python.org/3.7/library/stdtypes.html#binaryseq)\n",
    "- numpy can also store 8 bit bytes, but Python uses 'bytes' for certain system functions, like networking"
   ]
  },
  {
   "cell_type": "code",
   "execution_count": 1,
   "metadata": {},
   "outputs": [
    {
     "data": {
      "text/plain": [
       "(b'foobar', 6, 98, 114, bytes, int)"
      ]
     },
     "execution_count": 1,
     "metadata": {},
     "output_type": "execute_result"
    }
   ],
   "source": [
    "# input like a string but \n",
    "# leading 'b' means bytes\n",
    "\n",
    "b = b'foobar'\n",
    "\n",
    "b, len(b), b[3], b[-1], type(b), type(b[0])"
   ]
  },
  {
   "cell_type": "code",
   "execution_count": 2,
   "metadata": {},
   "outputs": [
    {
     "data": {
      "text/plain": [
       "([102, 111, 111, 98, 97, 114], 98, 114)"
      ]
     },
     "execution_count": 2,
     "metadata": {},
     "output_type": "execute_result"
    }
   ],
   "source": [
    "# bytes objects holds 8 bit(one byte) unsigned ints, NOT characters\n",
    "\n",
    "list(b), b[3], b[-1]"
   ]
  },
  {
   "cell_type": "code",
   "execution_count": 3,
   "metadata": {},
   "outputs": [
    {
     "ename": "TypeError",
     "evalue": "'bytes' object does not support item assignment",
     "output_type": "error",
     "traceback": [
      "\u001b[0;31m---------------------------------------------------------------------------\u001b[0m",
      "\u001b[0;31mTypeError\u001b[0m                                 Traceback (most recent call last)",
      "\u001b[0;32m<ipython-input-3-71ee3efc853b>\u001b[0m in \u001b[0;36m<module>\u001b[0;34m\u001b[0m\n\u001b[1;32m      1\u001b[0m \u001b[0;31m# like 'str', a 'bytes' object is not mutable\u001b[0m\u001b[0;34m\u001b[0m\u001b[0;34m\u001b[0m\u001b[0;34m\u001b[0m\u001b[0m\n\u001b[1;32m      2\u001b[0m \u001b[0;34m\u001b[0m\u001b[0m\n\u001b[0;32m----> 3\u001b[0;31m \u001b[0mb\u001b[0m\u001b[0;34m[\u001b[0m\u001b[0;36m3\u001b[0m\u001b[0;34m]\u001b[0m \u001b[0;34m=\u001b[0m \u001b[0;36m33\u001b[0m\u001b[0;34m\u001b[0m\u001b[0;34m\u001b[0m\u001b[0m\n\u001b[0m",
      "\u001b[0;31mTypeError\u001b[0m: 'bytes' object does not support item assignment"
     ]
    }
   ],
   "source": [
    "# like 'str', a 'bytes' object is not mutable\n",
    "\n",
    "b[3] = 33"
   ]
  },
  {
   "cell_type": "code",
   "execution_count": 4,
   "metadata": {},
   "outputs": [
    {
     "data": {
      "text/plain": [
       "(b'ABCDEFGHIJKL', b'ABM')"
      ]
     },
     "execution_count": 4,
     "metadata": {},
     "output_type": "execute_result"
    }
   ],
   "source": [
    "# other constructors\n",
    "\n",
    "bytes(range(65, 77)), bytes([65, 66,77])"
   ]
  },
  {
   "cell_type": "markdown",
   "metadata": {},
   "source": [
    "# hex numbers\n",
    "- hex(hexadecimal) are base 16 numbers\n",
    "- a hex digit represents 4 bits\n",
    "- 2 hex digits represent 8 bits, 1 byte"
   ]
  },
  {
   "cell_type": "code",
   "execution_count": 5,
   "metadata": {},
   "outputs": [
    {
     "data": {
      "text/plain": [
       "[[0, '0x0'],\n",
       " [1, '0x1'],\n",
       " [2, '0x2'],\n",
       " [3, '0x3'],\n",
       " [4, '0x4'],\n",
       " [5, '0x5'],\n",
       " [6, '0x6'],\n",
       " [7, '0x7'],\n",
       " [8, '0x8'],\n",
       " [9, '0x9'],\n",
       " [10, '0xa'],\n",
       " [11, '0xb'],\n",
       " [12, '0xc'],\n",
       " [13, '0xd'],\n",
       " [14, '0xe'],\n",
       " [15, '0xf']]"
      ]
     },
     "execution_count": 5,
     "metadata": {},
     "output_type": "execute_result"
    }
   ],
   "source": [
    "[ [j, hex(j)] for j in range( 16)]"
   ]
  },
  {
   "cell_type": "markdown",
   "metadata": {},
   "source": [
    "# Ascii character encoding in hex\n",
    "```\n",
    "x00 nul x01 soh x02 stx x03 etx x04 eot x05 enq x06 ack x07 bel \n",
    "x08 bs  x09 ht  x0a nl  x0b vt  x0c np  x0d cr  x0e so  x0f si  \n",
    "x10 dle x11 dc1 x12 dc2 x13 dc3 x14 dc4 x15 nak x16 syn x17 etb \n",
    "x18 can x19 em  x1a sub x1b esc x1c fs  x1d gs  x1e rs  x1f us  \n",
    "x20 sp  x21 !   x22 \"   x23 #   x24 $   x25 %   x26 &   x27 '   \n",
    "x28 (   x29 )   x2a *   x2b +   x2c ,   x2d -   x2e .   x2f /   \n",
    "x30 0   x31 1   x32 2   x33 3   x34 4   x35 5   x36 6   x37 7   \n",
    "x38 8   x39 9   x3a :   x3b ;   x3c <   x3d =   x3e >   x3f ?   \n",
    "x40 @   x41 A   x42 B   x43 C   x44 D   x45 E   x46 F   x47 G   \n",
    "x48 H   x49 I   x4a J   x4b K   x4c L   x4d M   x4e N   x4f O   \n",
    "x50 P   x51 Q   x52 R   x53 S   x54 T   x55 U   x56 V   x57 W   \n",
    "x58 X   x59 Y   x5a Z   x5b [   x5c \\   x5d ]   x5e ^   x5f _   \n",
    "x60 `   x61 a   x62 b   x63 c   x64 d   x65 e   x66 f   x67 g   \n",
    "x68 h   x69 i   x6a j   x6b k   x6c l   x6d m   x6e n   x6f o   \n",
    "x70 p   x71 q   x72 r   x73 s   x74 t   x75 u   x76 v   x77 w   \n",
    "x78 x   x79 y   x7a z   x7b {   x7c |   x7d }   x7e ~   x7f del \n",
    "```"
   ]
  },
  {
   "cell_type": "code",
   "execution_count": 6,
   "metadata": {},
   "outputs": [
    {
     "data": {
      "text/plain": [
       "b'Hex'"
      ]
     },
     "execution_count": 6,
     "metadata": {},
     "output_type": "execute_result"
    }
   ],
   "source": [
    "# can enter hex with \\x escape\n",
    "\n",
    "b'\\x48\\x65\\x78'"
   ]
  },
  {
   "cell_type": "code",
   "execution_count": 7,
   "metadata": {},
   "outputs": [
    {
     "data": {
      "text/plain": [
       "(78, 78, 90, 90)"
      ]
     },
     "execution_count": 7,
     "metadata": {},
     "output_type": "execute_result"
    }
   ],
   "source": [
    "# int will take hex strings\n",
    "\n",
    "4*16+14, int('4e', 16), 5*16+10, int('5a', 16)"
   ]
  },
  {
   "cell_type": "code",
   "execution_count": 8,
   "metadata": {},
   "outputs": [
    {
     "data": {
      "text/plain": [
       "['capitalize',\n",
       " 'center',\n",
       " 'count',\n",
       " 'decode',\n",
       " 'endswith',\n",
       " 'expandtabs',\n",
       " 'find',\n",
       " 'fromhex',\n",
       " 'hex',\n",
       " 'index',\n",
       " 'isalnum',\n",
       " 'isalpha',\n",
       " 'isascii',\n",
       " 'isdigit',\n",
       " 'islower',\n",
       " 'isspace',\n",
       " 'istitle',\n",
       " 'isupper',\n",
       " 'join',\n",
       " 'ljust',\n",
       " 'lower',\n",
       " 'lstrip',\n",
       " 'maketrans',\n",
       " 'partition',\n",
       " 'replace',\n",
       " 'rfind',\n",
       " 'rindex',\n",
       " 'rjust',\n",
       " 'rpartition',\n",
       " 'rsplit',\n",
       " 'rstrip',\n",
       " 'split',\n",
       " 'splitlines',\n",
       " 'startswith',\n",
       " 'strip',\n",
       " 'swapcase',\n",
       " 'title',\n",
       " 'translate',\n",
       " 'upper',\n",
       " 'zfill']"
      ]
     },
     "execution_count": 8,
     "metadata": {},
     "output_type": "execute_result"
    }
   ],
   "source": [
    "# 'bytes' have similar functionality \n",
    "# to the 'str' type we have been using\n",
    "\n",
    "[a for a in dir(bytes) if not a.startswith('__')]"
   ]
  },
  {
   "cell_type": "markdown",
   "metadata": {},
   "source": [
    "# Python data type 'bytearray'\n",
    "- mutable version of 'bytes'\n",
    "- [doc](https://docs.python.org/3.7/library/stdtypes.html#binaryseq)\n"
   ]
  },
  {
   "cell_type": "code",
   "execution_count": 9,
   "metadata": {},
   "outputs": [
    {
     "ename": "ValueError",
     "evalue": "byte must be in range(0, 256)",
     "output_type": "error",
     "traceback": [
      "\u001b[0;31m---------------------------------------------------------------------------\u001b[0m",
      "\u001b[0;31mValueError\u001b[0m                                Traceback (most recent call last)",
      "\u001b[0;32m<ipython-input-9-45d43102a97d>\u001b[0m in \u001b[0;36m<module>\u001b[0;34m\u001b[0m\n\u001b[1;32m      2\u001b[0m \u001b[0;31m# but this won't work, 256 is too big\u001b[0m\u001b[0;34m\u001b[0m\u001b[0;34m\u001b[0m\u001b[0;34m\u001b[0m\u001b[0m\n\u001b[1;32m      3\u001b[0m \u001b[0;34m\u001b[0m\u001b[0m\n\u001b[0;32m----> 4\u001b[0;31m \u001b[0mbytearray\u001b[0m\u001b[0;34m(\u001b[0m\u001b[0;34m[\u001b[0m\u001b[0mj\u001b[0m \u001b[0;32mfor\u001b[0m \u001b[0mj\u001b[0m \u001b[0;32min\u001b[0m \u001b[0mrange\u001b[0m\u001b[0;34m(\u001b[0m\u001b[0;36m257\u001b[0m\u001b[0;34m)\u001b[0m\u001b[0;34m]\u001b[0m\u001b[0;34m)\u001b[0m\u001b[0;34m\u001b[0m\u001b[0;34m\u001b[0m\u001b[0m\n\u001b[0m",
      "\u001b[0;31mValueError\u001b[0m: byte must be in range(0, 256)"
     ]
    }
   ],
   "source": [
    "# can give it a list of ints,\n",
    "# but this won't work, 256 is too big\n",
    "\n",
    "bytearray([j for j in range(257)])"
   ]
  },
  {
   "cell_type": "code",
   "execution_count": 10,
   "metadata": {},
   "outputs": [
    {
     "data": {
      "text/plain": [
       "(bytearray(b'foobar'), 6, 114, bytearray, int)"
      ]
     },
     "execution_count": 10,
     "metadata": {},
     "output_type": "execute_result"
    }
   ],
   "source": [
    "ba = bytearray(b)\n",
    "ba, len(ba), ba[-1], type(ba), type(ba[0])"
   ]
  },
  {
   "cell_type": "code",
   "execution_count": 11,
   "metadata": {},
   "outputs": [
    {
     "data": {
      "text/plain": [
       "bytearray(b'abcdefghijklmnopqrstuvwxyz')"
      ]
     },
     "execution_count": 11,
     "metadata": {},
     "output_type": "execute_result"
    }
   ],
   "source": [
    "# mutable\n",
    "\n",
    "ba = bytearray()\n",
    "for j in range(ord('a'), ord('z')+1):\n",
    "    ba.append(j)\n",
    "ba\n"
   ]
  },
  {
   "cell_type": "code",
   "execution_count": 12,
   "metadata": {},
   "outputs": [
    {
     "data": {
      "text/plain": [
       "bytearray(b'Fbcdefghijklmnopqrstuvwxyz')"
      ]
     },
     "execution_count": 12,
     "metadata": {},
     "output_type": "execute_result"
    }
   ],
   "source": [
    "# mutable\n",
    "\n",
    "ba[0] = ord('F')\n",
    "ba"
   ]
  },
  {
   "cell_type": "code",
   "execution_count": 13,
   "metadata": {},
   "outputs": [
    {
     "data": {
      "text/plain": [
       "[70, int]"
      ]
     },
     "execution_count": 13,
     "metadata": {},
     "output_type": "execute_result"
    }
   ],
   "source": [
    "# like bytes, stores ints, NOT characters\n",
    "\n",
    "[ba[0], type(ba[0])]"
   ]
  },
  {
   "cell_type": "code",
   "execution_count": 14,
   "metadata": {},
   "outputs": [
    {
     "data": {
      "text/plain": [
       "['append',\n",
       " 'capitalize',\n",
       " 'center',\n",
       " 'clear',\n",
       " 'copy',\n",
       " 'count',\n",
       " 'decode',\n",
       " 'endswith',\n",
       " 'expandtabs',\n",
       " 'extend',\n",
       " 'find',\n",
       " 'fromhex',\n",
       " 'hex',\n",
       " 'index',\n",
       " 'insert',\n",
       " 'isalnum',\n",
       " 'isalpha',\n",
       " 'isascii',\n",
       " 'isdigit',\n",
       " 'islower',\n",
       " 'isspace',\n",
       " 'istitle',\n",
       " 'isupper',\n",
       " 'join',\n",
       " 'ljust',\n",
       " 'lower',\n",
       " 'lstrip',\n",
       " 'maketrans',\n",
       " 'partition',\n",
       " 'pop',\n",
       " 'remove',\n",
       " 'replace',\n",
       " 'reverse',\n",
       " 'rfind',\n",
       " 'rindex',\n",
       " 'rjust',\n",
       " 'rpartition',\n",
       " 'rsplit',\n",
       " 'rstrip',\n",
       " 'split',\n",
       " 'splitlines',\n",
       " 'startswith',\n",
       " 'strip',\n",
       " 'swapcase',\n",
       " 'title',\n",
       " 'translate',\n",
       " 'upper',\n",
       " 'zfill']"
      ]
     },
     "execution_count": 14,
     "metadata": {},
     "output_type": "execute_result"
    }
   ],
   "source": [
    "# usual methods\n",
    "\n",
    "[a for a in dir(bytearray) if not a.startswith('__')]"
   ]
  },
  {
   "cell_type": "code",
   "execution_count": null,
   "metadata": {},
   "outputs": [],
   "source": []
  }
 ],
 "metadata": {
  "anaconda-cloud": {},
  "kernelspec": {
   "display_name": "Python 3",
   "language": "python",
   "name": "python3"
  },
  "language_info": {
   "codemirror_mode": {
    "name": "ipython",
    "version": 3
   },
   "file_extension": ".py",
   "mimetype": "text/x-python",
   "name": "python",
   "nbconvert_exporter": "python",
   "pygments_lexer": "ipython3",
   "version": "3.7.4"
  }
 },
 "nbformat": 4,
 "nbformat_minor": 1
}
