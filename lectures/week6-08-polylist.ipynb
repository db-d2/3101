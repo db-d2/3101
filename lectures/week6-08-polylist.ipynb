{
 "cells": [
  {
   "cell_type": "markdown",
   "metadata": {},
   "source": [
    "# Design a class that represents a polynomial in X as a list of coefficients\n",
    "- ```5 + 2*X + 3*X**2 + 4*X**4 => [5, 2, 3, 0, 4]```\n",
    "- ```9 + 3**X^2 => [9, 0, 3]```\n",
    "\n",
    "# Note __add__ and __mul__ dunder methods\n",
    "- there is a dunder method for every operator\n",
    "- '+' and '*' are just syntactic sugar for __add__ and __mul__\n",
    "- obj1 + obj2 => obj1.__add__(obj2)\n",
    "- obj1 * obj2 => obj1.__mul__(obj2)"
   ]
  },
  {
   "cell_type": "code",
   "execution_count": 1,
   "metadata": {},
   "outputs": [],
   "source": [
    "import functools\n",
    "\n",
    "class polylist: \n",
    "    ''' list poly representation'''\n",
    "    def __init__(self, coe):\n",
    "        # list of coefficients\n",
    "        self.coe = coe\n",
    "    \n",
    "    # mutable - can't be a dict key\n",
    "    __hash__ = None    \n",
    "\n",
    "    # print in math style - difficult to do correctly\n",
    "    def termString(self, c , e):\n",
    "        ''' print a term'''\n",
    "        cs = str(c)\n",
    "        if c > 0:\n",
    "            cs = '+ ' + cs\n",
    "        if (e == 0):\n",
    "            return(cs)\n",
    "        if (e == 1):\n",
    "            return(f'{cs}*X')\n",
    "        return(f'{cs}*X**{e}')\n",
    "        \n",
    "    def __str__(self):\n",
    "        terms = [self.termString(c,e) \n",
    "            for e,c in enumerate(self.coe) \n",
    "            if c != 0]\n",
    "        s = (' '.join(terms))\n",
    "        # get rid of leading + \n",
    "        return(s)\n",
    "        \n",
    "    def __repr__(self):\n",
    "        return(str(self))\n",
    "\n",
    "    def __len__(self):\n",
    "        # number of non zero terms\n",
    "        # 0 len => bool false\n",
    "        return(len(self.coe) - self.coe.count(0))\n",
    "    \n",
    "    def __contains__(self, e):\n",
    "        \"does poly contain an exponent?\"\n",
    "        if len(self.coe) < e:\n",
    "            return False\n",
    "        return self.coe[e] != 0\n",
    "\n",
    "    def __add__(self, p2):\n",
    "        # like shortlong\n",
    "        p1len = len(self.coe)\n",
    "        p2len = len(p2.coe)\n",
    "        pad = p2len - p1len\n",
    "        c1 = self.coe\n",
    "        c2 = p2.coe\n",
    "        \n",
    "        if pad < 0:\n",
    "            c1, c2 = c2, c1\n",
    "            pad = -pad\n",
    "    \n",
    "        c1 = c1[:]\n",
    "        \n",
    "        # like dotpad\n",
    "        c1.extend([0]*pad)\n",
    "    \n",
    "        # zeros on the right?\n",
    "        return(polylist([t1+t2 for t1,t2 in zip(c1,c2)]))\n",
    "    \n",
    "    def __mul__(self, p2):\n",
    "        sums = []\n",
    "        for e1,c1 in enumerate(self.coe):\n",
    "            prod = [c1 * c2 for c2 in p2.coe]\n",
    "            for rpt in range(e1):\n",
    "                prod.insert(0, 0)\n",
    "            sums.append(polylist(prod))\n",
    "        # reduce takes a func and a list\n",
    "        # it applies func to pairs until list \n",
    "        # is 'reduced' to one element\n",
    "        return(functools.reduce(polylist.__add__, sums))\n",
    "    \n",
    "    def evaluate(self, n):\n",
    "        # regular method, no corresponding operator\n",
    "        sum = 0\n",
    "        for exp,c in enumerate(self.coe):\n",
    "            sum += c*n**exp\n",
    "        return(sum)\n",
    "  "
   ]
  },
  {
   "cell_type": "code",
   "execution_count": 2,
   "metadata": {},
   "outputs": [
    {
     "data": {
      "text/plain": [
       "+ 1 + 2*X + 3*X**2"
      ]
     },
     "execution_count": 2,
     "metadata": {},
     "output_type": "execute_result"
    }
   ],
   "source": [
    "p1 = polylist([1,2,3])\n",
    "p2 = polylist([0, 10, 5])\n",
    "\n",
    "p1 "
   ]
  },
  {
   "cell_type": "code",
   "execution_count": 3,
   "metadata": {},
   "outputs": [
    {
     "data": {
      "text/plain": [
       "+ 10*X + 5*X**2"
      ]
     },
     "execution_count": 3,
     "metadata": {},
     "output_type": "execute_result"
    }
   ],
   "source": [
    "p2"
   ]
  },
  {
   "cell_type": "code",
   "execution_count": 4,
   "metadata": {},
   "outputs": [
    {
     "data": {
      "text/plain": [
       "+ 1 + 12*X + 8*X**2"
      ]
     },
     "execution_count": 4,
     "metadata": {},
     "output_type": "execute_result"
    }
   ],
   "source": [
    "p1 + p2"
   ]
  },
  {
   "cell_type": "code",
   "execution_count": 5,
   "metadata": {},
   "outputs": [
    {
     "data": {
      "text/plain": [
       "+ 10*X + 25*X**2 + 40*X**3 + 15*X**4"
      ]
     },
     "execution_count": 5,
     "metadata": {},
     "output_type": "execute_result"
    }
   ],
   "source": [
    "p1 * p2"
   ]
  },
  {
   "cell_type": "code",
   "execution_count": 6,
   "metadata": {},
   "outputs": [
    {
     "data": {
      "text/plain": [
       "6"
      ]
     },
     "execution_count": 6,
     "metadata": {},
     "output_type": "execute_result"
    }
   ],
   "source": [
    "p1.evaluate(1)"
   ]
  },
  {
   "cell_type": "code",
   "execution_count": 7,
   "metadata": {},
   "outputs": [
    {
     "data": {
      "text/plain": [
       "40"
      ]
     },
     "execution_count": 7,
     "metadata": {},
     "output_type": "execute_result"
    }
   ],
   "source": [
    "p2.evaluate(2)"
   ]
  },
  {
   "cell_type": "markdown",
   "metadata": {},
   "source": [
    "# Problems with this representation?"
   ]
  }
 ],
 "metadata": {
  "anaconda-cloud": {},
  "kernelspec": {
   "display_name": "Python 3",
   "language": "python",
   "name": "python3"
  },
  "language_info": {
   "codemirror_mode": {
    "name": "ipython",
    "version": 3
   },
   "file_extension": ".py",
   "mimetype": "text/x-python",
   "name": "python",
   "nbconvert_exporter": "python",
   "pygments_lexer": "ipython3",
   "version": "3.7.4"
  }
 },
 "nbformat": 4,
 "nbformat_minor": 1
}
