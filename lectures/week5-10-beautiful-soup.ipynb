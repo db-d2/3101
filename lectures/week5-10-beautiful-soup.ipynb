{
 "cells": [
  {
   "cell_type": "markdown",
   "metadata": {},
   "source": [
    "# BeautifulSoup\n",
    "- great 'screen scraping' package\n",
    "- tons of interesting data on webpages designed for people, not programs\n",
    "- makes it easy to extract information from complex web pages and XML documents\n",
    "- soup reads in the page of interest, then you can query it\n",
    "- often can figure out what to do by playing interactively\n",
    "- works in unicode\n",
    "- new code should use BeautifulSoup version 4\n",
    "- usually used on web pages, but can operate on any string\n",
    "- [doc](https://www.crummy.com/software/BeautifulSoup/bs4/doc/)"
   ]
  },
  {
   "cell_type": "markdown",
   "metadata": {},
   "source": [
    "# Example:\n",
    "# Want to find all the headlines on the front page of the [New York Times](http://nyt.com)\n",
    "- but - key point - i don't want to work very hard!!!\n",
    "    - look at webpage source - html structure is quite complex - not interested in understanding it\n",
    "    - would be very difficult to do using text tools we have seen so far, like string.find() and regular expressions"
   ]
  },
  {
   "cell_type": "code",
   "execution_count": 1,
   "metadata": {},
   "outputs": [],
   "source": [
    "# 'lxml' is a XML parser(parses HTML too)\n",
    "# must tell soup what unicode decoding to use\n",
    "\n",
    "import urllib.request\n",
    "import bs4\n",
    "import lxml"
   ]
  },
  {
   "cell_type": "code",
   "execution_count": 2,
   "metadata": {},
   "outputs": [
    {
     "name": "stdout",
     "output_type": "stream",
     "text": [
      "320\n"
     ]
    },
    {
     "data": {
      "text/plain": [
       "[b'<!DOCTYPE html>\\n',\n",
       " b'<html lang=\"en\" xmlns:og=\"http://opengraphprotocol.org/schema/\">\\n',\n",
       " b'  <head>\\n',\n",
       " b'    <title data-rh=\"true\">The New York Times - Breaking News, World News & Multimedia</title>\\n',\n",
       " b'    <meta data-rh=\"true\" itemprop=\"inLanguage\" content=\"en-US\"/><meta data-rh=\"true\" name=\"robots\" content=\"noarchive,noodp,noydir\"/><meta data-rh=\"true\" name=\"application-name\" content=\"The New York Times\"/><meta data-rh=\"true\" name=\"msapplication-starturl\" content=\"https://www.nytimes.com\"/><meta data-rh=\"true\" name=\"msapplication-task\" content=\"name=Search;action-uri=https://www.nytimes.com/search/?src=iepin;icon-uri=https://static01.nyt.com/images/icons/search.ico\"/><meta data-rh=\"true\" name=\"msapplication-task\" content=\"name=Most Popular;action-uri=https://www.nytimes.com/gst/mostpopular.html?src=iepin;icon-uri=https://static01.nyt.com/images/icons/mostpopular.ico\"/><meta data-rh=\"true\" name=\"msapplication-task\" content=\"name=Video;action-uri=https://video.nytimes.com/?src=iepin;icon-uri=https://static01.nyt.com/images/icons/video.ico\"/><meta data-rh=\"true\" name=\"msapplication-task\" content=\"name=Homepage;action-uri=https://www.nytimes.com?src=iepin&adxnnl=1;icon-uri=https://static01.nyt.com/images/icons/homepage.ico\"/><meta data-rh=\"true\" name=\"description\" content=\"The New York Times: Find breaking news, multimedia, reviews & opinion on Washington, business, sports, movies, travel, books, jobs, education, real estate, cars & more at nytimes.com.\"/><meta data-rh=\"true\" property=\"og:url\" content=\"https://www.nytimes.com\"/><meta data-rh=\"true\" property=\"og:type\" content=\"website\"/><meta data-rh=\"true\" property=\"og:title\" content=\"Breaking News, World News & Multimedia\"/><meta data-rh=\"true\" property=\"og:description\" content=\"The New York Times: Find breaking news, multimedia, reviews & opinion on Washington, business, sports, movies, travel, books, jobs, education, real estate, cars & more at nytimes.com.\"/><meta data-rh=\"true\" property=\"og:image\" content=\"https://static01.nyt.com/newsgraphics/images/icons/defaultPromoCrop.png\"/><meta data-rh=\"true\" name=\"CG\" content=\"Homepage\"/><meta data-rh=\"true\" name=\"SCG\" content=\"\"/><meta data-rh=\"true\" name=\"PT\" content=\"Homepage\"/><meta data-rh=\"true\" name=\"PST\" content=\"\"/><meta data-rh=\"true\" name=\"keywords\" content=\"SP 500,Banking and Finance,Coronavirus,Federal Reserve,G8;G7;G-7;Group of Seven,Stocks;Bonds,Economy,Interest rate,Recession and Depression,Europe,US Economy,Quantitative easing,Jerome H Powell,Epidemic,Medical test,Nursing home,Iran,China,Italy,Washington,US,US Politics,Labs,Donald Trump,Steven T Mnuchin,Stephen M. Hahn,Anthony S Fauci,Chad Wolf,CDC,Health and Human Services,Homeland Security,Treasury Department,Westchester,Andrew Cuomo,NYC,Bernard Sanders;Bernie Sanders,2020 Election,Primaries,Political endorsement,Democrats,Joe Biden,US states,Polls,Speeches,Campaign advertising,Elizabeth Warren,Race and Ethnicity,Hispanic Americans,El Paso shooting,Immigration,Mexican American,Discrimination,Latino Victory Fund,,Mike Bloomberg,California,Texas,Racial profiling,Search and seizure,NYPD,Weather,Tornado,Fatalities;casualties,National Weather Service,Nashville,Putnam County NY,Tennessee,Computer and Video Games,Guillermo Del Toro,Norman Reedus,Sony\"/>\\n',\n",
       " b'    <meta charset=\"utf-8\" />\\n',\n",
       " b'<meta http-equiv=\"X-UA-Compatible\" content=\"IE=edge\" />\\n',\n",
       " b'<meta name=\"viewport\" content=\"width=device-width, initial-scale=1\" />\\n',\n",
       " b'<meta property=\"fb:app_id\" content=\"9869919170\" />\\n',\n",
       " b'<meta name=\"twitter:site\" value=\"@nytimes\" />\\n']"
      ]
     },
     "execution_count": 2,
     "metadata": {},
     "output_type": "execute_result"
    }
   ],
   "source": [
    "nf2 = urllib.request.urlopen('http://nyt.com')\n",
    "lines = nf2.readlines()\n",
    "print(len(lines))\n",
    "lines[:10]"
   ]
  },
  {
   "cell_type": "code",
   "execution_count": 3,
   "metadata": {},
   "outputs": [],
   "source": [
    "nf2 = urllib.request.urlopen('http://nyt.com')\n",
    "soup = bs4.BeautifulSoup(nf2, 'lxml', from_encoding='utf-8')"
   ]
  },
  {
   "cell_type": "code",
   "execution_count": 4,
   "metadata": {},
   "outputs": [
    {
     "data": {
      "text/plain": [
       "[<h2 class=\"css-km70tz esl82me0\"> Listen to ‘The Daily’</h2>,\n",
       " <h2 class=\"css-km70tz esl82me0\">In the ‘In Her Words’ Newsletter</h2>,\n",
       " <h2 class=\"css-km70tz esl82me0\">Sign Up: ‘Coronavirus Briefing’</h2>,\n",
       " <h2 class=\"css-1qwxefa esl82me0\"><span>Stocks and Bond Yields Fall Sharply: Latest Updates</span></h2>,\n",
       " <h2 class=\"css-n2blzn esl82me0\">Global Health Crisis 1, Economic Policymakers 0</h2>,\n",
       " <h2 class=\"css-n2blzn esl82me0\">The Fed has no tools for an outbreak, but it acted anyway. Here’s why.</h2>,\n",
       " <h2 class=\"css-1qwxefa esl82me0\"><span>Coronavirus Death Toll Rises to 9 in Washington State: Updates</span></h2>,\n",
       " <h2 class=\"css-n2blzn esl82me0\">Trump Administration Sends Mixed Signals on Coronavirus Testing</h2>,\n",
       " <h2 class=\"css-n2blzn esl82me0\">A second case in New York may force a hospital to quarantine its staff.</h2>,\n",
       " <h2 class=\"css-1qwxefa esl82me0\"><span>Democrats Head to the Polls for Super Tuesday: Latest Updates</span></h2>,\n",
       " <h2 class=\"css-n2blzn esl82me0\">Sanders Campaign Was Caught Off Guard by Quick Massing of Opposition</h2>,\n",
       " <h2 class=\"css-n2blzn esl82me0\">Some of the questions surrounding Super Tuesday already seem to have answers.</h2>,\n",
       " <h2 class=\"css-1qwxefa esl82me0\"><span>Why She’s Prof. Warren From Harvard, Not Betsy From Oklahoma</span></h2>,\n",
       " <h2 class=\"css-n2blzn esl82me0\">The Latino Vote: The ‘Sleeping Giant’ Awakens</h2>,\n",
       " <h2 class=\"css-n2blzn esl82me0\">The lasting effects of Michael Bloomberg’s stop-and-frisk policy on New York City.</h2>,\n",
       " <h2 class=\"css-1qwxefa esl82me0\"><span>22 Dead After Tornadoes Lash Tennessee: Latest Updates</span></h2>,\n",
       " <h2 class=\"css-14bttnj esl82me0\"><span>Hideo Kojima’s Strange, Unforgettable Video-Game Worlds</span></h2>,\n",
       " <h2 class=\"css-o2lisy esl82me0\">How to Survive a Coronavirus Quarantine</h2>,\n",
       " <h2 class=\"css-1m5bs2v esl82me0\">Mike Bloomberg Heads South</h2>,\n",
       " <h2 class=\"css-1m5bs2v esl82me0\">Forget Super Tuesday. It’s the Day After That Matters.</h2>,\n",
       " <h2 class=\"css-1m5bs2v esl82me0\">As Trump Botches the Coronavirus Crisis, I Long for … Giuliani</h2>,\n",
       " <h2 class=\"css-1m5bs2v esl82me0\">Can the Fed Save the Economy From the Coronavirus?</h2>,\n",
       " <h2 class=\"css-1m5bs2v esl82me0\">Will the Supreme Court Protect Agencies From Trump’s Reach?</h2>,\n",
       " <h2 class=\"css-1m5bs2v esl82me0\">Bernie Sanders Can’t Count on New Voters</h2>,\n",
       " <h2 class=\"css-1m5bs2v esl82me0\">Paranoid Politics Goes Viral</h2>,\n",
       " <h2 class=\"css-1m5bs2v esl82me0\">It’s Not All Just About Biden and Sanders in California on Super Tuesday</h2>,\n",
       " <h2 class=\"css-1m5bs2v esl82me0\">Bernie and Joe’s Excellent Adventure</h2>,\n",
       " <h2 class=\"css-1m5bs2v esl82me0\">The Indefatigable, Unbeatable Benjamin Netanyahu</h2>,\n",
       " <h2 class=\"css-14bttnj esl82me0\"><span>Matthew Broderick and Sarah Jessica Parker Spend the Night Together</span></h2>,\n",
       " <h2 class=\"css-n2blzn esl82me0\">Le Crocodile Shows How a New York Brasserie Should Look and Taste</h2>,\n",
       " <h2 class=\"css-n2blzn esl82me0\">Frida Kahlo in ‘Gringolandia’</h2>,\n",
       " <h2 class=\"css-vz7hjd\" id=\"site-index-label\">Site Index</h2>,\n",
       " <h2 class=\"css-vz7hjd\">Site Information Navigation</h2>]"
      ]
     },
     "execution_count": 4,
     "metadata": {},
     "output_type": "execute_result"
    }
   ],
   "source": [
    "# headlines seem to be contained in 'h2' elements\n",
    "\n",
    "h2s = soup.findAll('h2')\n",
    "h2s\n",
    "      "
   ]
  },
  {
   "cell_type": "code",
   "execution_count": 5,
   "metadata": {},
   "outputs": [
    {
     "data": {
      "text/plain": [
       "[[' Listen to ‘The Daily’'],\n",
       " ['In the ‘In Her Words’ Newsletter'],\n",
       " ['Sign Up: ‘Coronavirus Briefing’'],\n",
       " [<span>Stocks and Bond Yields Fall Sharply: Latest Updates</span>],\n",
       " ['Global Health Crisis 1, Economic Policymakers 0'],\n",
       " ['The Fed has no tools for an outbreak, but it acted anyway. Here’s why.'],\n",
       " [<span>Coronavirus Death Toll Rises to 9 in Washington State: Updates</span>],\n",
       " ['Trump Administration Sends Mixed Signals on Coronavirus Testing'],\n",
       " ['A second case in New York may force a hospital to quarantine its staff.'],\n",
       " [<span>Democrats Head to the Polls for Super Tuesday: Latest Updates</span>],\n",
       " ['Sanders Campaign Was Caught Off Guard by Quick Massing of Opposition'],\n",
       " ['Some of the questions surrounding Super Tuesday already seem to have answers.'],\n",
       " [<span>Why She’s Prof. Warren From Harvard, Not Betsy From Oklahoma</span>],\n",
       " ['The Latino Vote: The ‘Sleeping Giant’ Awakens'],\n",
       " ['The lasting effects of Michael Bloomberg’s stop-and-frisk policy on New York City.'],\n",
       " [<span>22 Dead After Tornadoes Lash Tennessee: Latest Updates</span>],\n",
       " [<span>Hideo Kojima’s Strange, Unforgettable Video-Game Worlds</span>],\n",
       " ['How to Survive a Coronavirus Quarantine'],\n",
       " ['Mike Bloomberg Heads South'],\n",
       " ['Forget Super Tuesday. It’s the Day After That Matters.'],\n",
       " ['As Trump Botches the Coronavirus Crisis, I Long for … Giuliani'],\n",
       " ['Can the Fed Save the Economy From the Coronavirus?'],\n",
       " ['Will the Supreme Court Protect Agencies From Trump’s Reach?'],\n",
       " ['Bernie Sanders Can’t Count on New Voters'],\n",
       " ['Paranoid Politics Goes Viral'],\n",
       " ['It’s Not All Just About Biden and Sanders in California on Super Tuesday'],\n",
       " ['Bernie and Joe’s Excellent Adventure'],\n",
       " ['The Indefatigable, Unbeatable Benjamin Netanyahu'],\n",
       " [<span>Matthew Broderick and Sarah Jessica Parker Spend the Night Together</span>],\n",
       " ['Le Crocodile Shows How a New York Brasserie Should Look and Taste'],\n",
       " ['Frida Kahlo in ‘Gringolandia’'],\n",
       " ['Site Index'],\n",
       " ['Site Information Navigation']]"
      ]
     },
     "execution_count": 5,
     "metadata": {},
     "output_type": "execute_result"
    }
   ],
   "source": [
    "# pull out the contents of the h2 elements\n",
    "\n",
    "contents = [h2.contents for h2 in h2s]\n",
    "contents"
   ]
  },
  {
   "cell_type": "code",
   "execution_count": 6,
   "metadata": {},
   "outputs": [
    {
     "data": {
      "text/plain": [
       "[' Listen to ‘The Daily’',\n",
       " 'In the ‘In Her Words’ Newsletter',\n",
       " 'Sign Up: ‘Coronavirus Briefing’',\n",
       " 'Stocks and Bond Yields Fall Sharply: Latest Updates',\n",
       " 'Global Health Crisis 1, Economic Policymakers 0',\n",
       " 'The Fed has no tools for an outbreak, but it acted anyway. Here’s why.',\n",
       " 'Coronavirus Death Toll Rises to 9 in Washington State: Updates',\n",
       " 'Trump Administration Sends Mixed Signals on Coronavirus Testing',\n",
       " 'A second case in New York may force a hospital to quarantine its staff.',\n",
       " 'Democrats Head to the Polls for Super Tuesday: Latest Updates',\n",
       " 'Sanders Campaign Was Caught Off Guard by Quick Massing of Opposition',\n",
       " 'Some of the questions surrounding Super Tuesday already seem to have answers.',\n",
       " 'Why She’s Prof. Warren From Harvard, Not Betsy From Oklahoma',\n",
       " 'The Latino Vote: The ‘Sleeping Giant’ Awakens',\n",
       " 'The lasting effects of Michael Bloomberg’s stop-and-frisk policy on New York City.',\n",
       " '22 Dead After Tornadoes Lash Tennessee: Latest Updates',\n",
       " 'Hideo Kojima’s Strange, Unforgettable Video-Game Worlds',\n",
       " 'How to Survive a Coronavirus Quarantine',\n",
       " 'Mike Bloomberg Heads South',\n",
       " 'Forget Super Tuesday. It’s the Day After That Matters.',\n",
       " 'As Trump Botches the Coronavirus Crisis, I Long for … Giuliani',\n",
       " 'Can the Fed Save the Economy From the Coronavirus?',\n",
       " 'Will the Supreme Court Protect Agencies From Trump’s Reach?',\n",
       " 'Bernie Sanders Can’t Count on New Voters',\n",
       " 'Paranoid Politics Goes Viral',\n",
       " 'It’s Not All Just About Biden and Sanders in California on Super Tuesday',\n",
       " 'Bernie and Joe’s Excellent Adventure',\n",
       " 'The Indefatigable, Unbeatable Benjamin Netanyahu',\n",
       " 'Matthew Broderick and Sarah Jessica Parker Spend the Night Together',\n",
       " 'Le Crocodile Shows How a New York Brasserie Should Look and Taste',\n",
       " 'Frida Kahlo in ‘Gringolandia’',\n",
       " 'Site Index',\n",
       " 'Site Information Navigation']"
      ]
     },
     "execution_count": 6,
     "metadata": {},
     "output_type": "execute_result"
    }
   ],
   "source": [
    "# pull out the strings from lists and the <span> tag\n",
    "# note use of 'ternary if'\n",
    "\n",
    "[ content[0] if isinstance(content[0], str) else content[0].contents[0] \\\n",
    " for content in contents]"
   ]
  },
  {
   "cell_type": "markdown",
   "metadata": {},
   "source": [
    "# Example: [Citizen Kane page at Rotten Tomatoes](https://www.rottentomatoes.com/m/citizen_kane)\n"
   ]
  },
  {
   "cell_type": "code",
   "execution_count": 7,
   "metadata": {},
   "outputs": [],
   "source": [
    "nf2 = urllib.request.urlopen('https://www.rottentomatoes.com/m/citizen_kane')\n",
    "soup = bs4.BeautifulSoup(nf2, 'lxml', from_encoding='utf-8')"
   ]
  },
  {
   "cell_type": "code",
   "execution_count": 8,
   "metadata": {},
   "outputs": [
    {
     "name": "stdout",
     "output_type": "stream",
     "text": [
      "This is the labyrinthine study of the life of a newspaper tycoon.\n"
     ]
    }
   ],
   "source": [
    "# synopsis\n",
    "\n",
    "div = soup.find('div', id=\"movieSynopsis\")\n",
    "print(div.get_text().strip())"
   ]
  },
  {
   "cell_type": "code",
   "execution_count": 9,
   "metadata": {},
   "outputs": [
    {
     "name": "stdout",
     "output_type": "stream",
     "text": [
      "Rating - PG\n",
      "Genre - Classics Drama Mystery & Suspense \n",
      "Directed By - Orson Welles \n",
      "Written By - Herman J. Mankiewicz Orson Welles \n",
      "In Theaters - May 1, 1941 \n",
      "On Disc/Streaming - Sep 25, 2001 \n",
      "Runtime - 119 minutes \n",
      "Studio - \n",
      "                        RKO Radio Pictures\n",
      "                    \n"
     ]
    }
   ],
   "source": [
    "# movie info \n",
    "\n",
    "for li in div.parent.find_all('li'):\n",
    "    key, val=li.find_all('div')\n",
    "\n",
    "    # get rid of trailing ': '\n",
    "    print(key.get_text()[:-2], end=' - ')\n",
    "    \n",
    "    childs = val.contents\n",
    "    if len(childs) == 1:\n",
    "        print(childs[0])\n",
    "    else:\n",
    "        for child in val.children:\n",
    "            if child.name in ['a', 'time']:\n",
    "                print(child.get_text().strip(), end = ' ')\n",
    "        print()"
   ]
  },
  {
   "cell_type": "code",
   "execution_count": 10,
   "metadata": {},
   "outputs": [
    {
     "data": {
      "text/plain": [
       "[['Orson Welles', 'Charles Foster Kane'],\n",
       " ['Dorothy Comingore', 'Susan Alexander'],\n",
       " ['Joseph Cotten', 'Jedediah Leland'],\n",
       " ['Everett Sloane', 'Bernstein'],\n",
       " ['George Coulouris', 'Walter Parks Thatcher'],\n",
       " ['Agnes Moorehead', 'Mrs. Mary Kane'],\n",
       " ['Ruth Warrick', 'Emily Norton Kane'],\n",
       " ['Harry Shannon', 'Kane Sr.'],\n",
       " ['Ray Collins', 'Boss James W. Gettys'],\n",
       " ['Sonny Bupp', 'Kane III'],\n",
       " ['Erskine Sanford', 'Herbert Carter'],\n",
       " ['William Alland', 'Jerry Thompson'],\n",
       " ['Fortunio Bonanova', 'Matisti'],\n",
       " ['Paul Stewart', 'Raymond'],\n",
       " ['Gus Schilling', 'Head Waiter'],\n",
       " ['Buddy Swan', 'Young Charles Foster Kane'],\n",
       " ['Philip Van Zandt', 'Mr. Rawlston'],\n",
       " ['Georgia Backus', 'Miss Anderson'],\n",
       " ['Alan Ladd', 'Reporter'],\n",
       " ['Pedro de Cordoba', 'Kane senior'],\n",
       " ['Charles Bennett', 'Entertainer'],\n",
       " [\"Arthur O'Connell\", 'Reporter'],\n",
       " ['Joan Blair', 'Georgia'],\n",
       " ['Edmund Cobb', 'Enquirer Reporter'],\n",
       " ['Eddie Coke', 'Reporter'],\n",
       " ['Gino Corrado', 'Gino'],\n",
       " ['Herbert Corthell', 'City Editor'],\n",
       " ['Louise Currie', 'Reporter'],\n",
       " ['Robert Dudley', 'Photographer'],\n",
       " ['Al Eben', 'Mike'],\n",
       " ['Edith Evanson', 'Nurse'],\n",
       " ['Arthur Kay', 'Orchestra Leader'],\n",
       " ['Ellen Lowe', 'Miss Townsend'],\n",
       " ['Milton Kibbee', 'Reporter'],\n",
       " ['Irving Mitchell', 'Dr. Corey'],\n",
       " ['Benny Rubin', 'Smather'],\n",
       " ['Walter Sande', 'Reporter'],\n",
       " ['Tudor Williams', 'Chorus Master'],\n",
       " ['Agnes Morehead', 'Mary Kane'],\n",
       " ['Herbert Carter', 'Mr. Bernstein']]"
      ]
     },
     "execution_count": 10,
     "metadata": {},
     "output_type": "execute_result"
    }
   ],
   "source": [
    "# actors\n",
    "\n",
    "cast = soup.find('div', class_ = 'castSection')\n",
    "\n",
    "fields=[s['title'] for s in cast.findAll('span', title=True)]\n",
    "actor_role = [ [fields[j], fields[j+1]] \n",
    "              for j in range(0,len(fields),2)]\n",
    "\n",
    "actor_role"
   ]
  },
  {
   "cell_type": "code",
   "execution_count": null,
   "metadata": {},
   "outputs": [],
   "source": []
  }
 ],
 "metadata": {
  "anaconda-cloud": {},
  "kernelspec": {
   "display_name": "Python 3",
   "language": "python",
   "name": "python3"
  },
  "language_info": {
   "codemirror_mode": {
    "name": "ipython",
    "version": 3
   },
   "file_extension": ".py",
   "mimetype": "text/x-python",
   "name": "python",
   "nbconvert_exporter": "python",
   "pygments_lexer": "ipython3",
   "version": "3.7.4"
  }
 },
 "nbformat": 4,
 "nbformat_minor": 1
}
