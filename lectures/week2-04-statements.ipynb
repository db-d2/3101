{
 "cells": [
  {
   "cell_type": "markdown",
   "metadata": {},
   "source": [
    "# Python Statements\n",
    "   - a statement is a \"template\". variables, expressions, and other statements are plugged into it\n",
    "   - each statement has rules for syntax and evaluation\n",
    "   - evaluating a statement has a 'side effect'. it does NOT return a value.\n",
    "   - thus a statement can not be a function arg or assigned to a variable\n",
    "   "
   ]
  },
  {
   "cell_type": "markdown",
   "metadata": {},
   "source": [
    "# Assignment\n",
    "- template syntax is \n",
    "    - variable = expression\n",
    "+ variables hold arbitrary object references\n",
    "+ objects have a type, variables do not\n",
    "- in languages like Java/C++, variables are 'created' by declaring them\n",
    "- in Python, variables are created by assignment\n",
    "- value of the right side expression is not printed by the read-eval-print loop"
   ]
  },
  {
   "cell_type": "code",
   "execution_count": null,
   "metadata": {},
   "outputs": [],
   "source": [
    "# x gets a reference to the object generated \n",
    "# by the expression on the right hand side\n",
    "\n",
    "x = list(range(5))"
   ]
  },
  {
   "cell_type": "markdown",
   "metadata": {},
   "source": [
    "# Python keywords"
   ]
  },
  {
   "cell_type": "code",
   "execution_count": null,
   "metadata": {},
   "outputs": [],
   "source": [
    "# here's a list of all the language keywords.\n",
    "\n",
    "import keyword\n",
    "\n",
    "keyword.kwlist\n"
   ]
  },
  {
   "cell_type": "code",
   "execution_count": null,
   "metadata": {},
   "outputs": [],
   "source": [
    "# keywords can not be used as variables\n",
    "\n",
    "raise = 4"
   ]
  },
  {
   "cell_type": "code",
   "execution_count": null,
   "metadata": {},
   "outputs": [],
   "source": [
    "# have to 'eval' x by itself to see what object x refers to\n",
    "# 'x' is an expression, so the read-eval-print loop prints\n",
    "# the result of the evaluation\n",
    "\n",
    "x"
   ]
  },
  {
   "cell_type": "markdown",
   "metadata": {},
   "source": [
    "# Incrementing\n",
    "- unlike most languages, Python does not have unit increment and decrement operators\n",
    "    - var++, ++var, var--, --var\n",
    "- does have \"augmented\" operators\n",
    "    - += -= *=, etc"
   ]
  },
  {
   "cell_type": "code",
   "execution_count": null,
   "metadata": {},
   "outputs": [],
   "source": [
    "# nope \n",
    "\n",
    "x = 3\n",
    "x++"
   ]
  },
  {
   "cell_type": "code",
   "execution_count": null,
   "metadata": {},
   "outputs": [],
   "source": [
    "# ok\n",
    "\n",
    "x = 3\n",
    "x += 1\n",
    "x"
   ]
  },
  {
   "cell_type": "markdown",
   "metadata": {},
   "source": [
    "# right hand side separated by commas is an abbreivation for a tuple"
   ]
  },
  {
   "cell_type": "code",
   "execution_count": null,
   "metadata": {},
   "outputs": [],
   "source": [
    "(1,2,3)"
   ]
  },
  {
   "cell_type": "code",
   "execution_count": null,
   "metadata": {},
   "outputs": [],
   "source": [
    "1,2,3"
   ]
  },
  {
   "cell_type": "markdown",
   "metadata": {},
   "source": [
    "# Packing/Unpacking(or Structuring/Destructuring) Assignments\n",
    "- very consise"
   ]
  },
  {
   "cell_type": "code",
   "execution_count": null,
   "metadata": {},
   "outputs": [],
   "source": [
    "x = 1\n",
    "y = 2\n",
    "z = 3\n",
    "\n",
    "x,y,z"
   ]
  },
  {
   "cell_type": "code",
   "execution_count": null,
   "metadata": {},
   "outputs": [],
   "source": [
    "# can do several assignments in one statement\n",
    "# also known as \"destructuring\" or \"unpacking\"\n",
    "\n",
    "x, y, z = 4, 5, 6\n",
    "x, y, z"
   ]
  },
  {
   "cell_type": "code",
   "execution_count": null,
   "metadata": {},
   "outputs": [],
   "source": [
    "# above is shorthand for this\n",
    "\n",
    "(x,y,z) = (1,2,3)\n",
    "(x,y,z)"
   ]
  },
  {
   "cell_type": "code",
   "execution_count": null,
   "metadata": {},
   "outputs": [],
   "source": [
    "# works with lists as well\n",
    "\n",
    "[x, [y, z]] = [7, [8,9]]\n",
    "\n",
    "[x, y, z]"
   ]
  },
  {
   "cell_type": "code",
   "execution_count": null,
   "metadata": {},
   "outputs": [],
   "source": [
    "(a, (b,c)) = [7, [8,9]]\n",
    "\n",
    "(a, b, c)"
   ]
  },
  {
   "cell_type": "code",
   "execution_count": null,
   "metadata": {},
   "outputs": [],
   "source": [
    "# structure form on each side has to match\n",
    "\n",
    "(a, (b,c)) = [7, 8,9]\n"
   ]
  },
  {
   "cell_type": "code",
   "execution_count": null,
   "metadata": {},
   "outputs": [],
   "source": [
    "# unpacking happens 'in parallel' \n",
    "# don't need tmps to do a swap\n",
    "# below is like doing\n",
    "# tmp1, tmp2, tmp3 = x, y, z\n",
    "# z, y, z = tmp1, tmp2, tmp3\n",
    "\n",
    "z, y, x = x, y, z\n",
    "x, y, z"
   ]
  },
  {
   "cell_type": "code",
   "execution_count": null,
   "metadata": {},
   "outputs": [],
   "source": [
    "# works with iteration variable assignments\n",
    "\n",
    "for x,y in [[3,4],(5,6)]:\n",
    "    print(x,y)"
   ]
  },
  {
   "cell_type": "markdown",
   "metadata": {},
   "source": [
    "# simple pattern matching\n",
    "- *var will match an arbitrary number of objects, including zero"
   ]
  },
  {
   "cell_type": "code",
   "execution_count": null,
   "metadata": {},
   "outputs": [],
   "source": [
    "head, *tail = [1,2,3,4]\n",
    "head, tail"
   ]
  },
  {
   "cell_type": "code",
   "execution_count": null,
   "metadata": {},
   "outputs": [],
   "source": [
    "head, *tail = [1]\n",
    "head, tail"
   ]
  },
  {
   "cell_type": "code",
   "execution_count": null,
   "metadata": {},
   "outputs": [],
   "source": [
    "w, x, *y, z = [1,2,3,4,5]\n",
    "w,x,y,z"
   ]
  },
  {
   "cell_type": "markdown",
   "metadata": {},
   "source": [
    "# Statement Blocks\n",
    "+ some statements, like 'if', 'for', 'while', 'def', 'class', and 'try' end with a ':' to mark a new block\n",
    "+ subsequent statements in the block must be indented\n",
    "+ the block ends when the indenting reverts to the previous level\n",
    "- in other words, python demarcates \"statement blocks\" by indentation. Java/C++ uses '{' '}'\n",
    "- indentation must be correct, or program will either be incorrect, or not run at all"
   ]
  },
  {
   "cell_type": "markdown",
   "metadata": {},
   "source": [
    "# if (statement)\n",
    "- unlike C++/Java, Python doesn't require '()' around the predicate\n",
    "- elif, else claues are optional\n",
    "- elif is used to \"chain\" if's\n",
    "- else clause is executed if all previous predicates fail\n",
    "- Python doesn't have a 'switch' statement - simulate with if, like example below\n",
    "- there is also 'ternary if', which is an expression"
   ]
  },
  {
   "cell_type": "code",
   "execution_count": null,
   "metadata": {},
   "outputs": [],
   "source": [
    "# note \":\" at end of if, elif, else\n",
    "# note identing of print statements\n",
    "\n",
    "def foo(flag):\n",
    "    if flag == 1:\n",
    "        # this clause will be executed\n",
    "        print('flag == 1')\n",
    "    elif flag == 2:\n",
    "        print('flag == 2')\n",
    "    elif flag == 3:\n",
    "        print('flag == 3')\n",
    "    else:\n",
    "        print(\"flag didn't == 1 or 2 or 3\")\n",
    "    print('end of indent ends if statement')"
   ]
  },
  {
   "cell_type": "code",
   "execution_count": null,
   "metadata": {},
   "outputs": [],
   "source": [
    "foo(1)"
   ]
  },
  {
   "cell_type": "code",
   "execution_count": null,
   "metadata": {},
   "outputs": [],
   "source": [
    "foo(2)"
   ]
  },
  {
   "cell_type": "code",
   "execution_count": null,
   "metadata": {},
   "outputs": [],
   "source": [
    "foo(343)"
   ]
  },
  {
   "cell_type": "markdown",
   "metadata": {},
   "source": [
    "# del\n",
    "- used to 'delete' various things"
   ]
  },
  {
   "cell_type": "code",
   "execution_count": null,
   "metadata": {},
   "outputs": [],
   "source": [
    "# will remove a variable binding...\n",
    "\n",
    "x = 'foo'\n",
    "y = x\n",
    "x"
   ]
  },
  {
   "cell_type": "code",
   "execution_count": null,
   "metadata": {},
   "outputs": [],
   "source": [
    "del x\n",
    "\n",
    "x"
   ]
  },
  {
   "cell_type": "code",
   "execution_count": null,
   "metadata": {},
   "outputs": [],
   "source": [
    "# but 'del' does NOT remove the 'foo' string object\n",
    "# objects ONLY disappear when there are NO references\n",
    "# to them left\n",
    "\n",
    "y"
   ]
  },
  {
   "cell_type": "code",
   "execution_count": null,
   "metadata": {},
   "outputs": [],
   "source": [
    "x = list(range(20))"
   ]
  },
  {
   "cell_type": "code",
   "execution_count": null,
   "metadata": {},
   "outputs": [],
   "source": [
    "# delete a slice from a list\n",
    "\n",
    "del x[3:7]\n",
    "x"
   ]
  },
  {
   "cell_type": "code",
   "execution_count": null,
   "metadata": {},
   "outputs": [],
   "source": [
    "# delete key/value pair from dictionary\n",
    "\n",
    "d = {4:10, 6:13, 8:22}\n",
    "d"
   ]
  },
  {
   "cell_type": "code",
   "execution_count": null,
   "metadata": {},
   "outputs": [],
   "source": [
    "del d[6]\n",
    "d"
   ]
  },
  {
   "cell_type": "markdown",
   "metadata": {},
   "source": [
    "# return\n",
    "- exit a function immediately \n",
    "- if return val not supplied, returns None"
   ]
  },
  {
   "cell_type": "code",
   "execution_count": 1,
   "metadata": {},
   "outputs": [],
   "source": [
    "def foo(n):\n",
    "    if n:\n",
    "        if n:\n",
    "            return\n",
    "    print('never gets here')"
   ]
  },
  {
   "cell_type": "code",
   "execution_count": 2,
   "metadata": {},
   "outputs": [],
   "source": [
    "foo(5)"
   ]
  },
  {
   "cell_type": "code",
   "execution_count": 5,
   "metadata": {},
   "outputs": [],
   "source": [
    "def bar(n):\n",
    "    if n:\n",
    "        if n:\n",
    "            return 435\n",
    "    print('never gets here here')\n",
    "    return 123"
   ]
  },
  {
   "cell_type": "code",
   "execution_count": 6,
   "metadata": {},
   "outputs": [
    {
     "data": {
      "text/plain": [
       "435"
      ]
     },
     "execution_count": 6,
     "metadata": {},
     "output_type": "execute_result"
    }
   ],
   "source": [
    "bar(45)"
   ]
  },
  {
   "cell_type": "markdown",
   "metadata": {},
   "source": [
    "# pass\n",
    "- a statement with no inputs that does absolutely nothing"
   ]
  },
  {
   "cell_type": "code",
   "execution_count": null,
   "metadata": {},
   "outputs": [],
   "source": [
    "if True:\n",
    "    pass\n",
    "\n",
    "print('got here')"
   ]
  }
 ],
 "metadata": {
  "anaconda-cloud": {},
  "kernelspec": {
   "display_name": "Python 3",
   "language": "python",
   "name": "python3"
  },
  "language_info": {
   "codemirror_mode": {
    "name": "ipython",
    "version": 3
   },
   "file_extension": ".py",
   "mimetype": "text/x-python",
   "name": "python",
   "nbconvert_exporter": "python",
   "pygments_lexer": "ipython3",
   "version": "3.7.4"
  }
 },
 "nbformat": 4,
 "nbformat_minor": 1
}
