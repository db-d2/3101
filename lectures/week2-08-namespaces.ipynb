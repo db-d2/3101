{
 "cells": [
  {
   "cell_type": "markdown",
   "metadata": {},
   "source": [
    "# namespaces\n",
    "   - a namespace is a dictionary that holds name(string)  -> object bindings\n",
    "   - several namespaces are used simultaneously by python"
   ]
  },
  {
   "cell_type": "markdown",
   "metadata": {},
   "source": [
    "# Importing a module creates a namespace for the module"
   ]
  },
  {
   "cell_type": "code",
   "execution_count": null,
   "metadata": {},
   "outputs": [],
   "source": [
    "import math\n",
    "\n",
    "math.__dict__"
   ]
  },
  {
   "cell_type": "markdown",
   "metadata": {},
   "source": [
    "# global namespace\n",
    "- holds top level bindings\n",
    "- bindings created by assignment at top level\n",
    "- bindings from other modules\n",
    "- 'globals' function returns the dictionary"
   ]
  },
  {
   "cell_type": "markdown",
   "metadata": {},
   "source": [
    "# Restart Kernel Here\n",
    "- clean out global namespace\n",
    "- on menubar, Kernel/Restart"
   ]
  },
  {
   "cell_type": "code",
   "execution_count": null,
   "metadata": {},
   "outputs": [],
   "source": [
    "globals()"
   ]
  },
  {
   "cell_type": "markdown",
   "metadata": {},
   "source": [
    "# now we can see what 'from' does\n",
    "   - inserts bindings from math into global namespace"
   ]
  },
  {
   "cell_type": "code",
   "execution_count": null,
   "metadata": {},
   "outputs": [],
   "source": [
    "from math import *\n",
    "\n",
    "globals()"
   ]
  },
  {
   "cell_type": "markdown",
   "metadata": {},
   "source": [
    "# Restart Kernel Here\n",
    "- clean out global namespace\n",
    "- on menubar, Kernel/Restart"
   ]
  },
  {
   "cell_type": "markdown",
   "metadata": {},
   "source": [
    "# globals namespace holds top level bindings"
   ]
  },
  {
   "cell_type": "code",
   "execution_count": null,
   "metadata": {},
   "outputs": [],
   "source": [
    "xx = 555\n",
    "yy = [1,2]\n",
    "def foo():\n",
    "    return 4\n",
    "\n",
    "globals()"
   ]
  },
  {
   "cell_type": "markdown",
   "metadata": {},
   "source": [
    "# builtins namespace\n",
    "- functionality builtin to python\n",
    "- holds bindings for 'system' functions "
   ]
  },
  {
   "cell_type": "code",
   "execution_count": null,
   "metadata": {},
   "outputs": [],
   "source": [
    "bd = __builtins__.__dict__\n",
    "# lot of stuff\n",
    "print(len(bd))\n",
    "# just look at a few\n",
    "for k in list(bd.keys())[20:45]:\n",
    "    print(k, bd[k] )"
   ]
  },
  {
   "cell_type": "markdown",
   "metadata": {},
   "source": [
    "# Top level variable scope rule\n",
    "- when in the top level(not inside a function) use this search order:\n",
    "    - global\n",
    "    - builtins"
   ]
  },
  {
   "cell_type": "markdown",
   "metadata": {},
   "source": [
    "# When a function is entered, a new 'local' namespace is created to hold bindings created in function body\n",
    "- local bindings are created by:\n",
    "    - arguments\n",
    "    - assignment in the function body\n",
    "- 'locals' function returns function namespace\n",
    "- when the function exits, the local namespace is discarded   "
   ]
  },
  {
   "cell_type": "code",
   "execution_count": null,
   "metadata": {},
   "outputs": [],
   "source": [
    "def bar(z):\n",
    "    x = 5\n",
    "    y = 8\n",
    "    print(x, y, z)\n",
    "    print(locals())\n",
    "    \n",
    "bar(1234)\n",
    "\n",
    "# x not defined at top level\n",
    "x"
   ]
  },
  {
   "cell_type": "code",
   "execution_count": null,
   "metadata": {},
   "outputs": [],
   "source": [
    "# for loop\n",
    "# index is still defined after loop exit\n",
    "\n",
    "def foo():\n",
    "    sum = 0\n",
    "    x = 5\n",
    "    print('before loop', locals())\n",
    "    for j in range(4):\n",
    "        sum = x + j\n",
    "        print('during loop', locals())\n",
    "        if j == 3:\n",
    "            break\n",
    "    print('after loop', locals())\n",
    "    \n",
    "foo()\n",
    "    "
   ]
  },
  {
   "cell_type": "markdown",
   "metadata": {},
   "source": [
    "# global statement\n",
    "- lets functions set global variables\n",
    "- usually a very bad idea, but can be\n",
    "very convenient for interactive work\n"
   ]
  },
  {
   "cell_type": "code",
   "execution_count": null,
   "metadata": {},
   "outputs": [],
   "source": [
    "# to change the global scope var, must\n",
    "# use the 'global' statement\n",
    "\n",
    "scope = 4\n",
    "\n",
    "def foo():\n",
    "    global scope\n",
    "    scope = [44]\n",
    "\n",
    "print(scope)\n",
    "foo()\n",
    "print(scope)"
   ]
  },
  {
   "cell_type": "markdown",
   "metadata": {},
   "source": [
    "# Rest of file is somewhat advanced\n",
    "- ok to ignore"
   ]
  },
  {
   "cell_type": "markdown",
   "metadata": {},
   "source": [
    "# Function Variable Scope\n",
    "- LEGB rule\n",
    "   - when inside a function, search namespaces in this order:\n",
    "       - Local\n",
    "       - Enclosing(will see this below)\n",
    "       - Global\n",
    "       - Builtins"
   ]
  },
  {
   "cell_type": "code",
   "execution_count": null,
   "metadata": {},
   "outputs": [],
   "source": [
    "# no scope var defined anywhere\n",
    "\n",
    "def foo():\n",
    "    print(scope)\n",
    "    \n",
    "foo()"
   ]
  },
  {
   "cell_type": "code",
   "execution_count": null,
   "metadata": {},
   "outputs": [],
   "source": [
    "def foo():\n",
    "    scope = [3]\n",
    "    print(scope)\n",
    "\n",
    "foo()"
   ]
  },
  {
   "cell_type": "code",
   "execution_count": null,
   "metadata": {},
   "outputs": [],
   "source": [
    "# assignment creates variables, \n",
    "# but no assignment to scope,\n",
    "# so foo looks for global var scope\n",
    "\n",
    "scope = [15]\n",
    "\n",
    "def foo():\n",
    "    print(scope)\n",
    "         \n",
    "foo()"
   ]
  },
  {
   "cell_type": "code",
   "execution_count": null,
   "metadata": {},
   "outputs": [],
   "source": [
    "# the scope = 22 statement creates a \n",
    "# local scope var in foo\n",
    "# the global scope var is NOT changed \n",
    "\n",
    "def foo():\n",
    "    scope = [22]\n",
    "    print(scope)\n",
    "\n",
    "foo()\n",
    "scope"
   ]
  },
  {
   "cell_type": "code",
   "execution_count": null,
   "metadata": {},
   "outputs": [],
   "source": [
    "# what is going on here???\n",
    "# i just said you have to use 'global' statement\n",
    "# to change global vars\n",
    "\n",
    "def foo():\n",
    "    scope[0] = 4545\n",
    "\n",
    "print(scope)\n",
    "foo()\n",
    "print(scope)"
   ]
  },
  {
   "cell_type": "code",
   "execution_count": null,
   "metadata": {},
   "outputs": [],
   "source": [
    "# huh???\n",
    "\n",
    "def foo():\n",
    "    print(scope)\n",
    "    scope = 1\n",
    "    \n",
    "scope = 111\n",
    "foo()"
   ]
  },
  {
   "cell_type": "markdown",
   "metadata": {},
   "source": [
    "# Python uses Lexical/Enclosed Scoping\n",
    "- inner functions(functions defined inside functions) pick up bindings from enclosed/outer functions"
   ]
  },
  {
   "cell_type": "code",
   "execution_count": null,
   "metadata": {},
   "outputs": [],
   "source": [
    "\n",
    "def A():\n",
    "    a = 56 \n",
    "    print('A', locals())\n",
    "    def B():\n",
    "        b = 14\n",
    "        print('B', locals())\n",
    "        def C():\n",
    "            c = 77\n",
    "            print('C', locals())\n",
    "            print(a)\n",
    "            print(b)\n",
    "            print(c)\n",
    "            \n",
    "        C()\n",
    "    B()\n",
    "    \n",
    "A()\n",
    "    "
   ]
  },
  {
   "cell_type": "markdown",
   "metadata": {},
   "source": [
    "# Python does not support Dynamic Scoping\n",
    "- Python does NOT search the call stack for namespace bindings\n",
    "- some languages will"
   ]
  },
  {
   "cell_type": "code",
   "execution_count": null,
   "metadata": {},
   "outputs": [],
   "source": [
    "# scope is not 'dynamic'\n",
    "\n",
    "def A():\n",
    "    a = 56\n",
    "    print('A', locals())\n",
    "    B()\n",
    "        \n",
    "def B():\n",
    "    b = 14\n",
    "    print('B', locals())\n",
    "    C()\n",
    "        \n",
    "def C():\n",
    "    c = 77\n",
    "    # a and b not defined in C\n",
    "    print('C', locals())\n",
    "    print(a)\n",
    "    print(b)\n",
    "    print(c)\n",
    "    \n",
    "A()\n",
    "    "
   ]
  }
 ],
 "metadata": {
  "kernelspec": {
   "display_name": "Python 3",
   "language": "python",
   "name": "python3"
  },
  "language_info": {
   "codemirror_mode": {
    "name": "ipython",
    "version": 3
   },
   "file_extension": ".py",
   "mimetype": "text/x-python",
   "name": "python",
   "nbconvert_exporter": "python",
   "pygments_lexer": "ipython3",
   "version": "3.7.4"
  }
 },
 "nbformat": 4,
 "nbformat_minor": 2
}
