{
 "cells": [
  {
   "cell_type": "markdown",
   "metadata": {},
   "source": [
    "# Simple string search and modify\n",
    "- methods on string class\n",
    "- useful but limited functionality"
   ]
  },
  {
   "cell_type": "code",
   "execution_count": 10,
   "metadata": {},
   "outputs": [
    {
     "data": {
      "text/plain": [
       "3"
      ]
     },
     "execution_count": 10,
     "metadata": {},
     "output_type": "execute_result"
    }
   ],
   "source": [
    "# find substring\n",
    "\n",
    "s = \"foozapbar\"\n",
    "s.index('zap')"
   ]
  },
  {
   "cell_type": "code",
   "execution_count": 11,
   "metadata": {},
   "outputs": [
    {
     "data": {
      "text/plain": [
       "True"
      ]
     },
     "execution_count": 11,
     "metadata": {},
     "output_type": "execute_result"
    }
   ],
   "source": [
    "# substring present\n",
    "\n",
    "'zap' in s"
   ]
  },
  {
   "cell_type": "code",
   "execution_count": 12,
   "metadata": {},
   "outputs": [
    {
     "data": {
      "text/plain": [
       "True"
      ]
     },
     "execution_count": 12,
     "metadata": {},
     "output_type": "execute_result"
    }
   ],
   "source": [
    "s.startswith('foo')"
   ]
  },
  {
   "cell_type": "code",
   "execution_count": 13,
   "metadata": {},
   "outputs": [
    {
     "data": {
      "text/plain": [
       "True"
      ]
     },
     "execution_count": 13,
     "metadata": {},
     "output_type": "execute_result"
    }
   ],
   "source": [
    "# handy for checking file name types\n",
    "\n",
    "s.endswith('bar')"
   ]
  },
  {
   "cell_type": "code",
   "execution_count": 14,
   "metadata": {},
   "outputs": [
    {
     "data": {
      "text/plain": [
       "'fooMAPbar'"
      ]
     },
     "execution_count": 14,
     "metadata": {},
     "output_type": "execute_result"
    }
   ],
   "source": [
    "s.replace('zap', 'MAP')"
   ]
  },
  {
   "cell_type": "code",
   "execution_count": 15,
   "metadata": {},
   "outputs": [
    {
     "data": {
      "text/plain": [
       "['fooz', 'pb', 'r']"
      ]
     },
     "execution_count": 15,
     "metadata": {},
     "output_type": "execute_result"
    }
   ],
   "source": [
    "s.split('a')"
   ]
  },
  {
   "cell_type": "code",
   "execution_count": 16,
   "metadata": {},
   "outputs": [
    {
     "data": {
      "text/plain": [
       "['fooz', 'pb', 'r']"
      ]
     },
     "execution_count": 16,
     "metadata": {},
     "output_type": "execute_result"
    }
   ],
   "source": [
    "s.split('a')"
   ]
  },
  {
   "cell_type": "code",
   "execution_count": 17,
   "metadata": {},
   "outputs": [
    {
     "name": "stdout",
     "output_type": "stream",
     "text": [
      "a True False True True False\n",
      "A True False True False True\n",
      "3 False True True False False\n",
      "  False False False False False\n"
     ]
    }
   ],
   "source": [
    "# handy predicates\n",
    "\n",
    "x = 'aA3 '\n",
    "\n",
    "for c in x:\n",
    "    print(c, c.isalpha(), c.isdigit(), \n",
    "          c.isalnum(), c.islower(), c.isupper())"
   ]
  },
  {
   "cell_type": "code",
   "execution_count": 18,
   "metadata": {},
   "outputs": [
    {
     "data": {
      "text/plain": [
       "['__add__',\n",
       " '__class__',\n",
       " '__contains__',\n",
       " '__delattr__',\n",
       " '__dir__',\n",
       " '__doc__',\n",
       " '__eq__',\n",
       " '__format__',\n",
       " '__ge__',\n",
       " '__getattribute__',\n",
       " '__getitem__',\n",
       " '__getnewargs__',\n",
       " '__gt__',\n",
       " '__hash__',\n",
       " '__init__',\n",
       " '__init_subclass__',\n",
       " '__iter__',\n",
       " '__le__',\n",
       " '__len__',\n",
       " '__lt__',\n",
       " '__mod__',\n",
       " '__mul__',\n",
       " '__ne__',\n",
       " '__new__',\n",
       " '__reduce__',\n",
       " '__reduce_ex__',\n",
       " '__repr__',\n",
       " '__rmod__',\n",
       " '__rmul__',\n",
       " '__setattr__',\n",
       " '__sizeof__',\n",
       " '__str__',\n",
       " '__subclasshook__',\n",
       " 'capitalize',\n",
       " 'casefold',\n",
       " 'center',\n",
       " 'count',\n",
       " 'encode',\n",
       " 'endswith',\n",
       " 'expandtabs',\n",
       " 'find',\n",
       " 'format',\n",
       " 'format_map',\n",
       " 'index',\n",
       " 'isalnum',\n",
       " 'isalpha',\n",
       " 'isascii',\n",
       " 'isdecimal',\n",
       " 'isdigit',\n",
       " 'isidentifier',\n",
       " 'islower',\n",
       " 'isnumeric',\n",
       " 'isprintable',\n",
       " 'isspace',\n",
       " 'istitle',\n",
       " 'isupper',\n",
       " 'join',\n",
       " 'ljust',\n",
       " 'lower',\n",
       " 'lstrip',\n",
       " 'maketrans',\n",
       " 'partition',\n",
       " 'replace',\n",
       " 'rfind',\n",
       " 'rindex',\n",
       " 'rjust',\n",
       " 'rpartition',\n",
       " 'rsplit',\n",
       " 'rstrip',\n",
       " 'split',\n",
       " 'splitlines',\n",
       " 'startswith',\n",
       " 'strip',\n",
       " 'swapcase',\n",
       " 'title',\n",
       " 'translate',\n",
       " 'upper',\n",
       " 'zfill']"
      ]
     },
     "execution_count": 18,
     "metadata": {},
     "output_type": "execute_result"
    }
   ],
   "source": [
    "dir(s)"
   ]
  },
  {
   "cell_type": "markdown",
   "metadata": {},
   "source": [
    "# Regular Expressions\n",
    "- very powerful, widely used\n",
    "- syntax a tad cryptic at first glance\n",
    "- Python has a fairly standard implementation, similar to what other languages provide\n",
    "- module is 're'\n",
    "- [standard doc](https://docs.python.org/3.5/library/re.html)\n",
    "- [more readable doc](https://docs.python.org/3.5/howto/regex.html#regex-howto)\n",
    "- [online development](https://regex101.com)"
   ]
  },
  {
   "cell_type": "code",
   "execution_count": 19,
   "metadata": {},
   "outputs": [],
   "source": [
    "import re\n",
    "\n",
    "s = 'zxcvx97848438455ysdfx234yzX333Ycv555234'"
   ]
  },
  {
   "cell_type": "code",
   "execution_count": 20,
   "metadata": {},
   "outputs": [
    {
     "data": {
      "text/plain": [
       "'55'"
      ]
     },
     "execution_count": 20,
     "metadata": {},
     "output_type": "execute_result"
    }
   ],
   "source": [
    "match = re.search(\"5+\", s)\n",
    "match.group()"
   ]
  },
  {
   "cell_type": "code",
   "execution_count": 21,
   "metadata": {},
   "outputs": [
    {
     "data": {
      "text/plain": [
       "['55', '555']"
      ]
     },
     "execution_count": 21,
     "metadata": {},
     "output_type": "execute_result"
    }
   ],
   "source": [
    "re.findall('5+', s)"
   ]
  },
  {
   "cell_type": "markdown",
   "metadata": {},
   "source": [
    "# simple patterns\n",
    "- '.' matches any char except newline\n",
    "- '*' matches zero or more of the preceeding pattern\n",
    "- '+' matches one or more of the preceeding pattern\n",
    "- [...] define a character set\n",
    "    - [abz] - match 'a', 'b', or 'z'\n",
    "    - [a-m] - matches first half of lower case letters\n",
    "    - [0-9] or \\d - matches digits\n",
    "    - \\s - matches whitespace char\n",
    "    - leading '^' inverts the character set\n",
    "        - [^0-9] - matches any char except digits"
   ]
  },
  {
   "cell_type": "code",
   "execution_count": 22,
   "metadata": {},
   "outputs": [],
   "source": [
    "# this pattern will find substrings that\n",
    "# have any number of digits between 'x' and 'y'\n",
    "\n",
    "# or 'x[0-9]+y'\n",
    "\n",
    "pat = 'x\\d+y'"
   ]
  },
  {
   "cell_type": "code",
   "execution_count": 23,
   "metadata": {},
   "outputs": [
    {
     "data": {
      "text/plain": [
       "'zxcvx97848438455ysdfx234yzX333Ycv555234'"
      ]
     },
     "execution_count": 23,
     "metadata": {},
     "output_type": "execute_result"
    }
   ],
   "source": [
    "s"
   ]
  },
  {
   "cell_type": "code",
   "execution_count": 24,
   "metadata": {},
   "outputs": [
    {
     "data": {
      "text/plain": [
       "['x97848438455y', 'x234y']"
      ]
     },
     "execution_count": 24,
     "metadata": {},
     "output_type": "execute_result"
    }
   ],
   "source": [
    "# find all substrings that match the pattern\n",
    "# note match is case sensistive\n",
    "\n",
    "re.findall(pat, s)"
   ]
  },
  {
   "cell_type": "code",
   "execution_count": 25,
   "metadata": {},
   "outputs": [
    {
     "data": {
      "text/plain": [
       "['x97848438455y', 'x234y', 'X333Y']"
      ]
     },
     "execution_count": 25,
     "metadata": {},
     "output_type": "execute_result"
    }
   ],
   "source": [
    "# case insensitive search\n",
    "\n",
    "re.findall(pat, s, re.IGNORECASE)"
   ]
  },
  {
   "cell_type": "code",
   "execution_count": 26,
   "metadata": {},
   "outputs": [
    {
     "data": {
      "text/plain": [
       "'zxcvx97848438455ysdfx234yzX333Ycv555234'"
      ]
     },
     "execution_count": 26,
     "metadata": {},
     "output_type": "execute_result"
    }
   ],
   "source": [
    "s"
   ]
  },
  {
   "cell_type": "code",
   "execution_count": 27,
   "metadata": {},
   "outputs": [
    {
     "data": {
      "text/plain": [
       "['8484384', '34', '333', '34']"
      ]
     },
     "execution_count": 27,
     "metadata": {},
     "output_type": "execute_result"
    }
   ],
   "source": [
    "# find substrings built out of the chars 3,4,8\n",
    "\n",
    "re.findall('[348]+',s)"
   ]
  },
  {
   "cell_type": "code",
   "execution_count": 28,
   "metadata": {},
   "outputs": [
    {
     "data": {
      "text/plain": [
       "('zxcvx97848438455ysdfx234yzX333Ycv555234', 'x\\\\d+y')"
      ]
     },
     "execution_count": 28,
     "metadata": {},
     "output_type": "execute_result"
    }
   ],
   "source": [
    "s, pat"
   ]
  },
  {
   "cell_type": "code",
   "execution_count": 29,
   "metadata": {},
   "outputs": [
    {
     "data": {
      "text/plain": [
       "['zxcv', 'sdf', 'zX333Ycv555234']"
      ]
     },
     "execution_count": 29,
     "metadata": {},
     "output_type": "execute_result"
    }
   ],
   "source": [
    "# split on the regular pattern\n",
    "\n",
    "re.split(pat, s)"
   ]
  },
  {
   "cell_type": "code",
   "execution_count": 30,
   "metadata": {},
   "outputs": [
    {
     "data": {
      "text/plain": [
       "'zxcvx97848438455ysdfx234yzX333Ycv555234'"
      ]
     },
     "execution_count": 30,
     "metadata": {},
     "output_type": "execute_result"
    }
   ],
   "source": [
    "s"
   ]
  },
  {
   "cell_type": "code",
   "execution_count": 31,
   "metadata": {},
   "outputs": [
    {
     "data": {
      "text/plain": [
       "(None, <re.Match object; span=(33, 36), match='555'>)"
      ]
     },
     "execution_count": 31,
     "metadata": {},
     "output_type": "execute_result"
    }
   ],
   "source": [
    "# some re operations return a 'match object'\n",
    "# if the match succeeds \n",
    "# if there is no match, None is returned...\n",
    "\n",
    "re.search('aaaaa', s), re.search('555', s)"
   ]
  },
  {
   "cell_type": "code",
   "execution_count": 32,
   "metadata": {},
   "outputs": [
    {
     "data": {
      "text/plain": [
       "(-1, 3)"
      ]
     },
     "execution_count": 32,
     "metadata": {},
     "output_type": "execute_result"
    }
   ],
   "source": [
    "# ... easy to test with 'if' (either type)\n",
    "\n",
    "5 if re.search('aaaaa', s) else -1, 3 if re.search('555', s) else -1"
   ]
  },
  {
   "cell_type": "markdown",
   "metadata": {},
   "source": [
    "# substring replacement\n",
    "- makes an otherwise difficult task easy"
   ]
  },
  {
   "cell_type": "code",
   "execution_count": 33,
   "metadata": {},
   "outputs": [
    {
     "data": {
      "text/plain": [
       "'zxcvFOOBARsdfFOOBARzX333Ycv555234'"
      ]
     },
     "execution_count": 33,
     "metadata": {},
     "output_type": "execute_result"
    }
   ],
   "source": [
    "# replace the pattern with a string\n",
    "\n",
    "re.sub(pat, 'FOOBAR', s)"
   ]
  },
  {
   "cell_type": "code",
   "execution_count": 34,
   "metadata": {},
   "outputs": [
    {
     "data": {
      "text/plain": [
       "'zxcvFOOBARsdfx234yzX333Ycv555234'"
      ]
     },
     "execution_count": 34,
     "metadata": {},
     "output_type": "execute_result"
    }
   ],
   "source": [
    "# only replace the first occurance of the pattern\n",
    "\n",
    "re.sub(pat, 'FOOBAR', s, count=1)"
   ]
  },
  {
   "cell_type": "code",
   "execution_count": 35,
   "metadata": {},
   "outputs": [
    {
     "data": {
      "text/plain": [
       "('reverse a drow, any drow', 'reverse a word, any word')"
      ]
     },
     "execution_count": 35,
     "metadata": {},
     "output_type": "execute_result"
    }
   ],
   "source": [
    "# reverse a word in a string\n",
    "\n",
    "def revw(s, w):\n",
    "    rw = w[::-1]\n",
    "    return re.sub(w, rw, s)\n",
    "    \n",
    "revw('reverse a word, any word', 'word'),revw('reverse a word, any word', 'people')"
   ]
  },
  {
   "cell_type": "markdown",
   "metadata": {},
   "source": [
    "# re groups\n",
    "- can group patterns with '()'\n",
    "- can fish out what each group matched\n",
    "- try [online](https://regex101.com)"
   ]
  },
  {
   "cell_type": "code",
   "execution_count": 36,
   "metadata": {},
   "outputs": [
    {
     "data": {
      "text/plain": [
       "'zxcvx97848438455ysdfx234yzX333Ycv555234'"
      ]
     },
     "execution_count": 36,
     "metadata": {},
     "output_type": "execute_result"
    }
   ],
   "source": [
    "s"
   ]
  },
  {
   "cell_type": "code",
   "execution_count": 37,
   "metadata": {},
   "outputs": [
    {
     "data": {
      "text/plain": [
       "<re.Match object; span=(16, 26), match='ysdfx234yz'>"
      ]
     },
     "execution_count": 37,
     "metadata": {},
     "output_type": "execute_result"
    }
   ],
   "source": [
    "#  define two groups\n",
    "pat = '(y[sz]).*(y[sz])'\n",
    "m = re.search(pat, s)\n",
    "m"
   ]
  },
  {
   "cell_type": "code",
   "execution_count": 38,
   "metadata": {},
   "outputs": [
    {
     "data": {
      "text/plain": [
       "('ysdfx234yz', 'ys', 'yz')"
      ]
     },
     "execution_count": 38,
     "metadata": {},
     "output_type": "execute_result"
    }
   ],
   "source": [
    "# group 0 shows everything that matched\n",
    "# the other groups show what matched inside '()'\n",
    "\n",
    "m.group(0), m.group(1), m.group(2)"
   ]
  },
  {
   "cell_type": "code",
   "execution_count": 39,
   "metadata": {},
   "outputs": [
    {
     "data": {
      "text/plain": [
       "('ysdfx234yz', 'ys', 'dfx234', 'yz')"
      ]
     },
     "execution_count": 39,
     "metadata": {},
     "output_type": "execute_result"
    }
   ],
   "source": [
    "# could put the middle part of the match in a group as well\n",
    "\n",
    "m = re.search('(y[sz])(.*)(y[sz])', s)\n",
    "m.group(0), m.group(1), m.group(2), m.group(3)"
   ]
  },
  {
   "cell_type": "markdown",
   "metadata": {},
   "source": [
    "# Example - decrypt"
   ]
  },
  {
   "cell_type": "code",
   "execution_count": 40,
   "metadata": {},
   "outputs": [],
   "source": [
    "e = '{SVIu6Python-)dKct@\\\\JK)2is:y:=;;~6reallyMZ-&Bk`*6great!NB!|Krj##'"
   ]
  },
  {
   "cell_type": "code",
   "execution_count": 41,
   "metadata": {},
   "outputs": [
    {
     "data": {
      "text/plain": [
       "['6Python-)dKct@\\\\JK)', '2is:y:=;;~', '6reallyMZ-&Bk`*', '6great!NB!|Krj##']"
      ]
     },
     "execution_count": 41,
     "metadata": {},
     "output_type": "execute_result"
    }
   ],
   "source": [
    "words = re.findall('[0-9][^0-9]+', e)\n",
    "words"
   ]
  },
  {
   "cell_type": "code",
   "execution_count": 42,
   "metadata": {},
   "outputs": [
    {
     "name": "stdout",
     "output_type": "stream",
     "text": [
      "Python\n",
      "is\n",
      "really\n",
      "great!\n"
     ]
    }
   ],
   "source": [
    "for word in words:\n",
    "    ln = int(word[0])\n",
    "    decode = word[1:ln+1]\n",
    "    print(decode)"
   ]
  },
  {
   "cell_type": "markdown",
   "metadata": {},
   "source": [
    "# Example - pull out properties\n",
    "- complex pattern\n",
    "- '\\d' matches a digit\n",
    "- '\\d{4}' matches 4 digits"
   ]
  },
  {
   "cell_type": "code",
   "execution_count": 43,
   "metadata": {},
   "outputs": [
    {
     "data": {
      "text/plain": [
       "['<img src=\"/icons/unknown.gif\" alt=\"[   ]\"> <a href=\"Problems_chap2.nb\">Problems_chap2.nb</a>       2009-04-22 15:16  171B  ',\n",
       " '<img src=\"/icons/layout.gif\" alt=\"[   ]\"> <a href=\"Problems_chap2.pdf\">Problems_chap2.pdf</a>      2009-10-12 13:15  252K  ',\n",
       " '<img src=\"/icons/unknown.gif\" alt=\"[   ]\"> <a href=\"Style07.nb\">Style07.nb</a>              2009-04-22 15:16   12M']"
      ]
     },
     "execution_count": 43,
     "metadata": {},
     "output_type": "execute_result"
    }
   ],
   "source": [
    "s='''\n",
    "<img src=\"/icons/unknown.gif\" alt=\"[   ]\"> <a href=\"Problems_chap2.nb\">Problems_chap2.nb</a>       2009-04-22 15:16  171B  \n",
    "<img src=\"/icons/layout.gif\" alt=\"[   ]\"> <a href=\"Problems_chap2.pdf\">Problems_chap2.pdf</a>      2009-10-12 13:15  252K  \n",
    "<img src=\"/icons/unknown.gif\" alt=\"[   ]\"> <a href=\"Style07.nb\">Style07.nb</a>              2009-04-22 15:16   12M\n",
    "'''\n",
    "urls = re.split('\\\\n', s)[1:-1]\n",
    "urls"
   ]
  },
  {
   "cell_type": "code",
   "execution_count": 44,
   "metadata": {},
   "outputs": [
    {
     "name": "stdout",
     "output_type": "stream",
     "text": [
      "('/icons/unknown.gif', 'Problems_chap2.nb', '2009', '04', '22', '15', '16', '171', 'B')\n",
      "('/icons/layout.gif', 'Problems_chap2.pdf', '2009', '10', '12', '13', '15', '252', 'K')\n",
      "('/icons/unknown.gif', 'Style07.nb', '2009', '04', '22', '15', '16', '12', 'M')\n"
     ]
    }
   ],
   "source": [
    "# [BKMG] - file length will have a bytes/kilo/mega/giga suffix\n",
    "pat = '.+src=\"(.+)\" .+href=\"(.+)\".+(\\d{4})-(\\d{2,2})-(\\d{2,2}).+(\\d{2}):(\\d{2})\\s+(\\d+)([BKMG])'\n",
    "\n",
    "for u in urls:\n",
    "    m = re.match(pat, u)\n",
    "    print(m.groups())"
   ]
  },
  {
   "cell_type": "code",
   "execution_count": null,
   "metadata": {},
   "outputs": [],
   "source": []
  }
 ],
 "metadata": {
  "anaconda-cloud": {},
  "kernelspec": {
   "display_name": "Python 3",
   "language": "python",
   "name": "python3"
  },
  "language_info": {
   "codemirror_mode": {
    "name": "ipython",
    "version": 3
   },
   "file_extension": ".py",
   "mimetype": "text/x-python",
   "name": "python",
   "nbconvert_exporter": "python",
   "pygments_lexer": "ipython3",
   "version": "3.7.4"
  }
 },
 "nbformat": 4,
 "nbformat_minor": 1
}
