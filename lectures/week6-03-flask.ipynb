{
 "cells": [
  {
   "cell_type": "markdown",
   "metadata": {},
   "source": [
    "# [Flask](http://flask.pocoo.org) Web Server\n",
    "- small and simple toolkit for building servers\n",
    "- doesn't force any particular style\n",
    "- uses decorators to map urls to functions\n",
    "- suport for [sqlite3](https://flask.palletsprojects.com/en/1.1.x/patterns/sqlite3/)\n",
    "- support for [sqlalchemy](https://flask-sqlalchemy.palletsprojects.com/en/2.x/)\n",
    "- [jinja template engine](https://jinja.palletsprojects.com/en/2.11.x/api/#basics)(sort of a super re.sub())"
   ]
  },
  {
   "cell_type": "markdown",
   "metadata": {},
   "source": [
    "# Flask server example(run flask-example in a terminal)\n",
    "\n",
    "```\n",
    "from flask import Flask, Response, request\n",
    "\n",
    "app = Flask('Flask')\n",
    "\n",
    "@app.route('/')\n",
    "def hello():\n",
    "    return 'Hi There!'\n",
    "\n",
    "@app.route('/foo')\n",
    "def h1():\n",
    "    return 'foo handler'\n",
    "\n",
    "@app.route('/sub5/<int:num>/')\n",
    "def getnum(num):\n",
    "    # content type defaults to HTML\n",
    "    return '<h1>{}-5 is <i>{}</i> '.format(num, num-5)\n",
    "\n",
    "@app.route('/headers')\n",
    "def headers():\n",
    "    # headers to send back\n",
    "    # have to set content type to text/plain, otherwise\n",
    "    # browser will default to html and ignore new lines\n",
    "    headers = {'larry' : 'stead',\n",
    "               'teach' : 'python',\n",
    "               'Content-Type' : 'text/plain; charset=utf-8'}\n",
    "    return ('Headers sent by client:\\n\\n' + str(request.headers) ,200, headers)\n",
    "\n",
    "app.run(port=7777)\n",
    "```"
   ]
  },
  {
   "cell_type": "markdown",
   "metadata": {},
   "source": [
    "# above defines handlers for these urls\n",
    "\n",
    "[/](http://127.0.0.1:7777)\n",
    "\n",
    "[/foo](http://localhost:7777/foo)\n",
    "\n",
    "[/headers](http://localhost:7777/headers)\n",
    "\n",
    "[/sub5/9/](http://localhost:7777/sub5/9/)"
   ]
  },
  {
   "cell_type": "markdown",
   "metadata": {},
   "source": [
    "# use curl to see all headers\n",
    "- '!' at the begining of a line executes rest of line as shell command"
   ]
  },
  {
   "cell_type": "code",
   "execution_count": 2,
   "metadata": {},
   "outputs": [
    {
     "name": "stdout",
     "output_type": "stream",
     "text": [
      "HTTP/1.0 200 OK\r",
      "\r\n",
      "larry: stead\r",
      "\r\n",
      "teach: python\r",
      "\r\n",
      "Content-Type: text/plain; charset=utf-8\r",
      "\r\n",
      "Content-Length: 110\r",
      "\r\n",
      "Server: Werkzeug/1.0.0 Python/3.7.4\r",
      "\r\n",
      "Date: Tue, 03 Mar 2020 22:41:24 GMT\r",
      "\r\n",
      "\r",
      "\r\n",
      "Headers sent by client:\r\n",
      "\r\n",
      "Host: localhost:7777\r",
      "\r\n",
      "User-Agent: curl/7.68.0\r",
      "\r\n",
      "Accept: */*\r",
      "\r\n",
      "Foo: bar\r",
      "\r\n",
      "Curl: flask\r",
      "\r\n",
      "\r",
      "\r\n"
     ]
    }
   ],
   "source": [
    "! curl -H \"foo:bar\" -H \"curl:flask\" -D - http://localhost:7777/headers"
   ]
  },
  {
   "cell_type": "code",
   "execution_count": null,
   "metadata": {},
   "outputs": [],
   "source": []
  }
 ],
 "metadata": {
  "kernelspec": {
   "display_name": "Python 3",
   "language": "python",
   "name": "python3"
  },
  "language_info": {
   "codemirror_mode": {
    "name": "ipython",
    "version": 3
   },
   "file_extension": ".py",
   "mimetype": "text/x-python",
   "name": "python",
   "nbconvert_exporter": "python",
   "pygments_lexer": "ipython3",
   "version": "3.7.4"
  }
 },
 "nbformat": 4,
 "nbformat_minor": 2
}
