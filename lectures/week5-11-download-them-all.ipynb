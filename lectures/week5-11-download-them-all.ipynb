{
 "cells": [
  {
   "cell_type": "markdown",
   "metadata": {},
   "source": [
    "# download-them-all\n",
    "- used to be a browser plugin, but it broke, so i wrote a python version\n",
    "- copy into a directory all the urls that match a pattern\n",
    "\n",
    "# new tools used\n",
    "- [urllib.parse](https://docs.python.org/3/library/urllib.parse.html)\n",
    "- [named tuples](https://docs.python.org/3/glossary.html#term-named-tuple)\n",
    "- functions [any and all](https://docs.python.org/3/library/functions.html#all)"
   ]
  },
  {
   "cell_type": "code",
   "execution_count": 6,
   "metadata": {},
   "outputs": [],
   "source": [
    "import bs4\n",
    "import lxml\n",
    "import urllib.request\n",
    "import urllib.parse\n",
    "import os\n",
    "import time\n",
    "import re\n",
    "from contextlib import contextmanager\n"
   ]
  },
  {
   "cell_type": "code",
   "execution_count": 7,
   "metadata": {},
   "outputs": [
    {
     "name": "stdout",
     "output_type": "stream",
     "text": [
      "/Users/dbenson30/Desktop/python/lectures\n",
      "/\n",
      "/Users/dbenson30/Desktop/python/lectures\n"
     ]
    }
   ],
   "source": [
    "@contextmanager\n",
    "def withChdir(newdir):\n",
    "    savedir = os.getcwd()\n",
    "    os.chdir(newdir)\n",
    "    try:\n",
    "        yield\n",
    "    finally:\n",
    "        os.chdir(savedir)\n",
    "\n",
    "print(os.getcwd())\n",
    "\n",
    "with withChdir('/'):\n",
    "    print( os.getcwd())\n",
    "        \n",
    "print(os.getcwd()) \n",
    "    "
   ]
  },
  {
   "cell_type": "code",
   "execution_count": 8,
   "metadata": {},
   "outputs": [],
   "source": [
    "def dta(url, types=['pdf']):\n",
    "    \"return list of urls to fetch\"\n",
    "    # guarantee 'net' will be closed\n",
    "    with urllib.request.urlopen(url) as net:\n",
    "        soup = bs4.BeautifulSoup(net, 'lxml', from_encoding='utf-8')\n",
    "    res = []\n",
    "    alist = soup.findAll('a')\n",
    "    for a in alist:\n",
    "        href = a.get('href')\n",
    "        # only take urls of right type\n",
    "        # any is True if any element of the iterable is True\n",
    "        if any([href.endswith(type) for type in types]):\n",
    "            href = urllib.parse.urljoin(url, href)\n",
    "            res.append(href)\n",
    "    return res"
   ]
  },
  {
   "cell_type": "markdown",
   "metadata": {},
   "source": [
    "# example page with with many downloads \n",
    "- [black holes](http://www.eftaylor.com/exploringblackholes/)"
   ]
  },
  {
   "cell_type": "code",
   "execution_count": 9,
   "metadata": {},
   "outputs": [
    {
     "data": {
      "text/plain": [
       "['http://www.eftaylor.com/exploringblackholes/?path=&download=AAAAREADME180423v1.pdf',\n",
       " 'http://www.eftaylor.com/exploringblackholes/AAAAREADME180423v1.pdf',\n",
       " 'http://www.eftaylor.com/exploringblackholes/AAAAREADME180423v1.pdf',\n",
       " 'http://www.eftaylor.com/exploringblackholes/?path=&download=AAAFrontCover171026.pdf',\n",
       " 'http://www.eftaylor.com/exploringblackholes/AAAFrontCover171026.pdf',\n",
       " 'http://www.eftaylor.com/exploringblackholes/AAAFrontCover171026.pdf',\n",
       " 'http://www.eftaylor.com/exploringblackholes/?path=&download=AAFrontMatter170421v6.pdf',\n",
       " 'http://www.eftaylor.com/exploringblackholes/AAFrontMatter170421v6.pdf',\n",
       " 'http://www.eftaylor.com/exploringblackholes/AAFrontMatter170421v6.pdf',\n",
       " 'http://www.eftaylor.com/exploringblackholes/?path=&download=AContents170511v1.pdf',\n",
       " 'http://www.eftaylor.com/exploringblackholes/AContents170511v1.pdf',\n",
       " 'http://www.eftaylor.com/exploringblackholes/AContents170511v1.pdf',\n",
       " 'http://www.eftaylor.com/exploringblackholes/?path=&download=Ch01Speeding171229v1.pdf',\n",
       " 'http://www.eftaylor.com/exploringblackholes/Ch01Speeding171229v1.pdf',\n",
       " 'http://www.eftaylor.com/exploringblackholes/Ch01Speeding171229v1.pdf',\n",
       " 'http://www.eftaylor.com/exploringblackholes/?path=&download=Ch02BridgeSRtoGR170511v1.pdf',\n",
       " 'http://www.eftaylor.com/exploringblackholes/Ch02BridgeSRtoGR170511v1.pdf',\n",
       " 'http://www.eftaylor.com/exploringblackholes/Ch02BridgeSRtoGR170511v1.pdf',\n",
       " 'http://www.eftaylor.com/exploringblackholes/?path=&download=Ch03Curving170511v1.pdf',\n",
       " 'http://www.eftaylor.com/exploringblackholes/Ch03Curving170511v1.pdf',\n",
       " 'http://www.eftaylor.com/exploringblackholes/Ch03Curving170511v1.pdf',\n",
       " 'http://www.eftaylor.com/exploringblackholes/?path=&download=Ch04GlobalPositioningSystem160401v1.pdf',\n",
       " 'http://www.eftaylor.com/exploringblackholes/Ch04GlobalPositioningSystem160401v1.pdf',\n",
       " 'http://www.eftaylor.com/exploringblackholes/Ch04GlobalPositioningSystem160401v1.pdf',\n",
       " 'http://www.eftaylor.com/exploringblackholes/?path=&download=Ch05GlobalLocalMetrics170328v2.pdf',\n",
       " 'http://www.eftaylor.com/exploringblackholes/Ch05GlobalLocalMetrics170328v2.pdf',\n",
       " 'http://www.eftaylor.com/exploringblackholes/Ch05GlobalLocalMetrics170328v2.pdf',\n",
       " 'http://www.eftaylor.com/exploringblackholes/?path=&download=Ch06Diving170329v1.pdf',\n",
       " 'http://www.eftaylor.com/exploringblackholes/Ch06Diving170329v1.pdf',\n",
       " 'http://www.eftaylor.com/exploringblackholes/Ch06Diving170329v1.pdf',\n",
       " 'http://www.eftaylor.com/exploringblackholes/?path=&download=Ch07InsideTheBlackHole170511v1.pdf',\n",
       " 'http://www.eftaylor.com/exploringblackholes/Ch07InsideTheBlackHole170511v1.pdf',\n",
       " 'http://www.eftaylor.com/exploringblackholes/Ch07InsideTheBlackHole170511v1.pdf',\n",
       " 'http://www.eftaylor.com/exploringblackholes/?path=&download=Ch08CircularOrbits170511v1.pdf',\n",
       " 'http://www.eftaylor.com/exploringblackholes/Ch08CircularOrbits170511v1.pdf',\n",
       " 'http://www.eftaylor.com/exploringblackholes/Ch08CircularOrbits170511v1.pdf',\n",
       " 'http://www.eftaylor.com/exploringblackholes/?path=&download=Ch09Orbiting160404v1.pdf',\n",
       " 'http://www.eftaylor.com/exploringblackholes/Ch09Orbiting160404v1.pdf',\n",
       " 'http://www.eftaylor.com/exploringblackholes/Ch09Orbiting160404v1.pdf',\n",
       " 'http://www.eftaylor.com/exploringblackholes/?path=&download=Ch10AdvanceOfMercurysPerihelion160401v1.pdf',\n",
       " 'http://www.eftaylor.com/exploringblackholes/Ch10AdvanceOfMercurysPerihelion160401v1.pdf',\n",
       " 'http://www.eftaylor.com/exploringblackholes/Ch10AdvanceOfMercurysPerihelion160401v1.pdf',\n",
       " 'http://www.eftaylor.com/exploringblackholes/?path=&download=Ch11OrbitsOfLight160511v1.pdf',\n",
       " 'http://www.eftaylor.com/exploringblackholes/Ch11OrbitsOfLight160511v1.pdf',\n",
       " 'http://www.eftaylor.com/exploringblackholes/Ch11OrbitsOfLight160511v1.pdf',\n",
       " 'http://www.eftaylor.com/exploringblackholes/?path=&download=Ch12DivingPanoramas190403v1.pdf',\n",
       " 'http://www.eftaylor.com/exploringblackholes/Ch12DivingPanoramas190403v1.pdf',\n",
       " 'http://www.eftaylor.com/exploringblackholes/Ch12DivingPanoramas190403v1.pdf',\n",
       " 'http://www.eftaylor.com/exploringblackholes/?path=&download=Ch13GravitationalMirages160510v1.pdf',\n",
       " 'http://www.eftaylor.com/exploringblackholes/Ch13GravitationalMirages160510v1.pdf',\n",
       " 'http://www.eftaylor.com/exploringblackholes/Ch13GravitationalMirages160510v1.pdf',\n",
       " 'http://www.eftaylor.com/exploringblackholes/?path=&download=Ch14ExpandUniverse170331v1.pdf',\n",
       " 'http://www.eftaylor.com/exploringblackholes/Ch14ExpandUniverse170331v1.pdf',\n",
       " 'http://www.eftaylor.com/exploringblackholes/Ch14ExpandUniverse170331v1.pdf',\n",
       " 'http://www.eftaylor.com/exploringblackholes/?path=&download=Ch15Cosmology170510v1.pdf',\n",
       " 'http://www.eftaylor.com/exploringblackholes/Ch15Cosmology170510v1.pdf',\n",
       " 'http://www.eftaylor.com/exploringblackholes/Ch15Cosmology170510v1.pdf',\n",
       " 'http://www.eftaylor.com/exploringblackholes/?path=&download=Ch16GravWaves171018v1.pdf',\n",
       " 'http://www.eftaylor.com/exploringblackholes/Ch16GravWaves171018v1.pdf',\n",
       " 'http://www.eftaylor.com/exploringblackholes/Ch16GravWaves171018v1.pdf',\n",
       " 'http://www.eftaylor.com/exploringblackholes/?path=&download=Ch17SpinBH200224v1.pdf',\n",
       " 'http://www.eftaylor.com/exploringblackholes/Ch17SpinBH200224v1.pdf',\n",
       " 'http://www.eftaylor.com/exploringblackholes/Ch17SpinBH200224v1.pdf',\n",
       " 'http://www.eftaylor.com/exploringblackholes/?path=&download=Ch18CircleOrbitsSpin170905v3.pdf',\n",
       " 'http://www.eftaylor.com/exploringblackholes/Ch18CircleOrbitsSpin170905v3.pdf',\n",
       " 'http://www.eftaylor.com/exploringblackholes/Ch18CircleOrbitsSpin170905v3.pdf',\n",
       " 'http://www.eftaylor.com/exploringblackholes/?path=&download=Ch19OrbitingSpin180113v1.pdf',\n",
       " 'http://www.eftaylor.com/exploringblackholes/Ch19OrbitingSpin180113v1.pdf',\n",
       " 'http://www.eftaylor.com/exploringblackholes/Ch19OrbitingSpin180113v1.pdf',\n",
       " 'http://www.eftaylor.com/exploringblackholes/?path=&download=Ch20OrbitsOfLightAroundSpinningBH170906v1.pdf',\n",
       " 'http://www.eftaylor.com/exploringblackholes/Ch20OrbitsOfLightAroundSpinningBH170906v1.pdf',\n",
       " 'http://www.eftaylor.com/exploringblackholes/Ch20OrbitsOfLightAroundSpinningBH170906v1.pdf',\n",
       " 'http://www.eftaylor.com/exploringblackholes/?path=&download=Ch21TravelThroughTheSpinningBH170831v1.pdf',\n",
       " 'http://www.eftaylor.com/exploringblackholes/Ch21TravelThroughTheSpinningBH170831v1.pdf',\n",
       " 'http://www.eftaylor.com/exploringblackholes/Ch21TravelThroughTheSpinningBH170831v1.pdf',\n",
       " 'http://www.eftaylor.com/exploringblackholes/?path=&download=VAppendixAWheelersRules170511v1.pdf',\n",
       " 'http://www.eftaylor.com/exploringblackholes/VAppendixAWheelersRules170511v1.pdf',\n",
       " 'http://www.eftaylor.com/exploringblackholes/VAppendixAWheelersRules170511v1.pdf',\n",
       " 'http://www.eftaylor.com/exploringblackholes/?path=&download=WAppendGlossaryF171006v3.pdf',\n",
       " 'http://www.eftaylor.com/exploringblackholes/WAppendGlossaryF171006v3.pdf',\n",
       " 'http://www.eftaylor.com/exploringblackholes/WAppendGlossaryF171006v3.pdf',\n",
       " 'http://www.eftaylor.com/exploringblackholes/?path=&download=XAppendixCAcknowledge180303v1.pdf',\n",
       " 'http://www.eftaylor.com/exploringblackholes/XAppendixCAcknowledge180303v1.pdf',\n",
       " 'http://www.eftaylor.com/exploringblackholes/XAppendixCAcknowledge180303v1.pdf',\n",
       " 'http://www.eftaylor.com/exploringblackholes/?path=&download=YInsideBackCover170421v4.pdf',\n",
       " 'http://www.eftaylor.com/exploringblackholes/YInsideBackCover170421v4.pdf',\n",
       " 'http://www.eftaylor.com/exploringblackholes/YInsideBackCover170421v4.pdf',\n",
       " 'http://www.eftaylor.com/exploringblackholes/?path=&download=ZBackCoverEBH2e170517v1.pdf',\n",
       " 'http://www.eftaylor.com/exploringblackholes/ZBackCoverEBH2e170517v1.pdf',\n",
       " 'http://www.eftaylor.com/exploringblackholes/ZBackCoverEBH2e170517v1.pdf']"
      ]
     },
     "execution_count": 9,
     "metadata": {},
     "output_type": "execute_result"
    }
   ],
   "source": [
    "dta('http://www.eftaylor.com/exploringblackholes/')"
   ]
  },
  {
   "cell_type": "markdown",
   "metadata": {},
   "source": [
    "# hit [page](http://localhost:9999) from local flask server\n"
   ]
  },
  {
   "cell_type": "code",
   "execution_count": 10,
   "metadata": {},
   "outputs": [
    {
     "ename": "URLError",
     "evalue": "<urlopen error [Errno 61] Connection refused>",
     "output_type": "error",
     "traceback": [
      "\u001b[0;31m---------------------------------------------------------------------------\u001b[0m",
      "\u001b[0;31mConnectionRefusedError\u001b[0m                    Traceback (most recent call last)",
      "\u001b[0;32m~/opt/anaconda3/lib/python3.7/urllib/request.py\u001b[0m in \u001b[0;36mdo_open\u001b[0;34m(self, http_class, req, **http_conn_args)\u001b[0m\n\u001b[1;32m   1316\u001b[0m                 h.request(req.get_method(), req.selector, req.data, headers,\n\u001b[0;32m-> 1317\u001b[0;31m                           encode_chunked=req.has_header('Transfer-encoding'))\n\u001b[0m\u001b[1;32m   1318\u001b[0m             \u001b[0;32mexcept\u001b[0m \u001b[0mOSError\u001b[0m \u001b[0;32mas\u001b[0m \u001b[0merr\u001b[0m\u001b[0;34m:\u001b[0m \u001b[0;31m# timeout error\u001b[0m\u001b[0;34m\u001b[0m\u001b[0;34m\u001b[0m\u001b[0m\n",
      "\u001b[0;32m~/opt/anaconda3/lib/python3.7/http/client.py\u001b[0m in \u001b[0;36mrequest\u001b[0;34m(self, method, url, body, headers, encode_chunked)\u001b[0m\n\u001b[1;32m   1243\u001b[0m         \u001b[0;34m\"\"\"Send a complete request to the server.\"\"\"\u001b[0m\u001b[0;34m\u001b[0m\u001b[0;34m\u001b[0m\u001b[0m\n\u001b[0;32m-> 1244\u001b[0;31m         \u001b[0mself\u001b[0m\u001b[0;34m.\u001b[0m\u001b[0m_send_request\u001b[0m\u001b[0;34m(\u001b[0m\u001b[0mmethod\u001b[0m\u001b[0;34m,\u001b[0m \u001b[0murl\u001b[0m\u001b[0;34m,\u001b[0m \u001b[0mbody\u001b[0m\u001b[0;34m,\u001b[0m \u001b[0mheaders\u001b[0m\u001b[0;34m,\u001b[0m \u001b[0mencode_chunked\u001b[0m\u001b[0;34m)\u001b[0m\u001b[0;34m\u001b[0m\u001b[0;34m\u001b[0m\u001b[0m\n\u001b[0m\u001b[1;32m   1245\u001b[0m \u001b[0;34m\u001b[0m\u001b[0m\n",
      "\u001b[0;32m~/opt/anaconda3/lib/python3.7/http/client.py\u001b[0m in \u001b[0;36m_send_request\u001b[0;34m(self, method, url, body, headers, encode_chunked)\u001b[0m\n\u001b[1;32m   1289\u001b[0m             \u001b[0mbody\u001b[0m \u001b[0;34m=\u001b[0m \u001b[0m_encode\u001b[0m\u001b[0;34m(\u001b[0m\u001b[0mbody\u001b[0m\u001b[0;34m,\u001b[0m \u001b[0;34m'body'\u001b[0m\u001b[0;34m)\u001b[0m\u001b[0;34m\u001b[0m\u001b[0;34m\u001b[0m\u001b[0m\n\u001b[0;32m-> 1290\u001b[0;31m         \u001b[0mself\u001b[0m\u001b[0;34m.\u001b[0m\u001b[0mendheaders\u001b[0m\u001b[0;34m(\u001b[0m\u001b[0mbody\u001b[0m\u001b[0;34m,\u001b[0m \u001b[0mencode_chunked\u001b[0m\u001b[0;34m=\u001b[0m\u001b[0mencode_chunked\u001b[0m\u001b[0;34m)\u001b[0m\u001b[0;34m\u001b[0m\u001b[0;34m\u001b[0m\u001b[0m\n\u001b[0m\u001b[1;32m   1291\u001b[0m \u001b[0;34m\u001b[0m\u001b[0m\n",
      "\u001b[0;32m~/opt/anaconda3/lib/python3.7/http/client.py\u001b[0m in \u001b[0;36mendheaders\u001b[0;34m(self, message_body, encode_chunked)\u001b[0m\n\u001b[1;32m   1238\u001b[0m             \u001b[0;32mraise\u001b[0m \u001b[0mCannotSendHeader\u001b[0m\u001b[0;34m(\u001b[0m\u001b[0;34m)\u001b[0m\u001b[0;34m\u001b[0m\u001b[0;34m\u001b[0m\u001b[0m\n\u001b[0;32m-> 1239\u001b[0;31m         \u001b[0mself\u001b[0m\u001b[0;34m.\u001b[0m\u001b[0m_send_output\u001b[0m\u001b[0;34m(\u001b[0m\u001b[0mmessage_body\u001b[0m\u001b[0;34m,\u001b[0m \u001b[0mencode_chunked\u001b[0m\u001b[0;34m=\u001b[0m\u001b[0mencode_chunked\u001b[0m\u001b[0;34m)\u001b[0m\u001b[0;34m\u001b[0m\u001b[0;34m\u001b[0m\u001b[0m\n\u001b[0m\u001b[1;32m   1240\u001b[0m \u001b[0;34m\u001b[0m\u001b[0m\n",
      "\u001b[0;32m~/opt/anaconda3/lib/python3.7/http/client.py\u001b[0m in \u001b[0;36m_send_output\u001b[0;34m(self, message_body, encode_chunked)\u001b[0m\n\u001b[1;32m   1025\u001b[0m         \u001b[0;32mdel\u001b[0m \u001b[0mself\u001b[0m\u001b[0;34m.\u001b[0m\u001b[0m_buffer\u001b[0m\u001b[0;34m[\u001b[0m\u001b[0;34m:\u001b[0m\u001b[0;34m]\u001b[0m\u001b[0;34m\u001b[0m\u001b[0;34m\u001b[0m\u001b[0m\n\u001b[0;32m-> 1026\u001b[0;31m         \u001b[0mself\u001b[0m\u001b[0;34m.\u001b[0m\u001b[0msend\u001b[0m\u001b[0;34m(\u001b[0m\u001b[0mmsg\u001b[0m\u001b[0;34m)\u001b[0m\u001b[0;34m\u001b[0m\u001b[0;34m\u001b[0m\u001b[0m\n\u001b[0m\u001b[1;32m   1027\u001b[0m \u001b[0;34m\u001b[0m\u001b[0m\n",
      "\u001b[0;32m~/opt/anaconda3/lib/python3.7/http/client.py\u001b[0m in \u001b[0;36msend\u001b[0;34m(self, data)\u001b[0m\n\u001b[1;32m    965\u001b[0m             \u001b[0;32mif\u001b[0m \u001b[0mself\u001b[0m\u001b[0;34m.\u001b[0m\u001b[0mauto_open\u001b[0m\u001b[0;34m:\u001b[0m\u001b[0;34m\u001b[0m\u001b[0;34m\u001b[0m\u001b[0m\n\u001b[0;32m--> 966\u001b[0;31m                 \u001b[0mself\u001b[0m\u001b[0;34m.\u001b[0m\u001b[0mconnect\u001b[0m\u001b[0;34m(\u001b[0m\u001b[0;34m)\u001b[0m\u001b[0;34m\u001b[0m\u001b[0;34m\u001b[0m\u001b[0m\n\u001b[0m\u001b[1;32m    967\u001b[0m             \u001b[0;32melse\u001b[0m\u001b[0;34m:\u001b[0m\u001b[0;34m\u001b[0m\u001b[0;34m\u001b[0m\u001b[0m\n",
      "\u001b[0;32m~/opt/anaconda3/lib/python3.7/http/client.py\u001b[0m in \u001b[0;36mconnect\u001b[0;34m(self)\u001b[0m\n\u001b[1;32m    937\u001b[0m         self.sock = self._create_connection(\n\u001b[0;32m--> 938\u001b[0;31m             (self.host,self.port), self.timeout, self.source_address)\n\u001b[0m\u001b[1;32m    939\u001b[0m         \u001b[0mself\u001b[0m\u001b[0;34m.\u001b[0m\u001b[0msock\u001b[0m\u001b[0;34m.\u001b[0m\u001b[0msetsockopt\u001b[0m\u001b[0;34m(\u001b[0m\u001b[0msocket\u001b[0m\u001b[0;34m.\u001b[0m\u001b[0mIPPROTO_TCP\u001b[0m\u001b[0;34m,\u001b[0m \u001b[0msocket\u001b[0m\u001b[0;34m.\u001b[0m\u001b[0mTCP_NODELAY\u001b[0m\u001b[0;34m,\u001b[0m \u001b[0;36m1\u001b[0m\u001b[0;34m)\u001b[0m\u001b[0;34m\u001b[0m\u001b[0;34m\u001b[0m\u001b[0m\n",
      "\u001b[0;32m~/opt/anaconda3/lib/python3.7/socket.py\u001b[0m in \u001b[0;36mcreate_connection\u001b[0;34m(address, timeout, source_address)\u001b[0m\n\u001b[1;32m    726\u001b[0m     \u001b[0;32mif\u001b[0m \u001b[0merr\u001b[0m \u001b[0;32mis\u001b[0m \u001b[0;32mnot\u001b[0m \u001b[0;32mNone\u001b[0m\u001b[0;34m:\u001b[0m\u001b[0;34m\u001b[0m\u001b[0;34m\u001b[0m\u001b[0m\n\u001b[0;32m--> 727\u001b[0;31m         \u001b[0;32mraise\u001b[0m \u001b[0merr\u001b[0m\u001b[0;34m\u001b[0m\u001b[0;34m\u001b[0m\u001b[0m\n\u001b[0m\u001b[1;32m    728\u001b[0m     \u001b[0;32melse\u001b[0m\u001b[0;34m:\u001b[0m\u001b[0;34m\u001b[0m\u001b[0;34m\u001b[0m\u001b[0m\n",
      "\u001b[0;32m~/opt/anaconda3/lib/python3.7/socket.py\u001b[0m in \u001b[0;36mcreate_connection\u001b[0;34m(address, timeout, source_address)\u001b[0m\n\u001b[1;32m    715\u001b[0m                 \u001b[0msock\u001b[0m\u001b[0;34m.\u001b[0m\u001b[0mbind\u001b[0m\u001b[0;34m(\u001b[0m\u001b[0msource_address\u001b[0m\u001b[0;34m)\u001b[0m\u001b[0;34m\u001b[0m\u001b[0;34m\u001b[0m\u001b[0m\n\u001b[0;32m--> 716\u001b[0;31m             \u001b[0msock\u001b[0m\u001b[0;34m.\u001b[0m\u001b[0mconnect\u001b[0m\u001b[0;34m(\u001b[0m\u001b[0msa\u001b[0m\u001b[0;34m)\u001b[0m\u001b[0;34m\u001b[0m\u001b[0;34m\u001b[0m\u001b[0m\n\u001b[0m\u001b[1;32m    717\u001b[0m             \u001b[0;31m# Break explicitly a reference cycle\u001b[0m\u001b[0;34m\u001b[0m\u001b[0;34m\u001b[0m\u001b[0;34m\u001b[0m\u001b[0m\n",
      "\u001b[0;31mConnectionRefusedError\u001b[0m: [Errno 61] Connection refused",
      "\nDuring handling of the above exception, another exception occurred:\n",
      "\u001b[0;31mURLError\u001b[0m                                  Traceback (most recent call last)",
      "\u001b[0;32m<ipython-input-10-ec0e82dc9b15>\u001b[0m in \u001b[0;36m<module>\u001b[0;34m\u001b[0m\n\u001b[0;32m----> 1\u001b[0;31m \u001b[0mdta\u001b[0m\u001b[0;34m(\u001b[0m\u001b[0;34m'http://localhost:9999'\u001b[0m\u001b[0;34m,\u001b[0m \u001b[0;34m[\u001b[0m\u001b[0;34m'mp3'\u001b[0m\u001b[0;34m,\u001b[0m \u001b[0;34m'pdf'\u001b[0m\u001b[0;34m]\u001b[0m\u001b[0;34m)\u001b[0m\u001b[0;34m\u001b[0m\u001b[0;34m\u001b[0m\u001b[0m\n\u001b[0m",
      "\u001b[0;32m<ipython-input-8-2f222139ee24>\u001b[0m in \u001b[0;36mdta\u001b[0;34m(url, types)\u001b[0m\n\u001b[1;32m      2\u001b[0m     \u001b[0;34m\"return list of urls to fetch\"\u001b[0m\u001b[0;34m\u001b[0m\u001b[0;34m\u001b[0m\u001b[0m\n\u001b[1;32m      3\u001b[0m     \u001b[0;31m# guarantee 'net' will be closed\u001b[0m\u001b[0;34m\u001b[0m\u001b[0;34m\u001b[0m\u001b[0;34m\u001b[0m\u001b[0m\n\u001b[0;32m----> 4\u001b[0;31m     \u001b[0;32mwith\u001b[0m \u001b[0murllib\u001b[0m\u001b[0;34m.\u001b[0m\u001b[0mrequest\u001b[0m\u001b[0;34m.\u001b[0m\u001b[0murlopen\u001b[0m\u001b[0;34m(\u001b[0m\u001b[0murl\u001b[0m\u001b[0;34m)\u001b[0m \u001b[0;32mas\u001b[0m \u001b[0mnet\u001b[0m\u001b[0;34m:\u001b[0m\u001b[0;34m\u001b[0m\u001b[0;34m\u001b[0m\u001b[0m\n\u001b[0m\u001b[1;32m      5\u001b[0m         \u001b[0msoup\u001b[0m \u001b[0;34m=\u001b[0m \u001b[0mbs4\u001b[0m\u001b[0;34m.\u001b[0m\u001b[0mBeautifulSoup\u001b[0m\u001b[0;34m(\u001b[0m\u001b[0mnet\u001b[0m\u001b[0;34m,\u001b[0m \u001b[0;34m'lxml'\u001b[0m\u001b[0;34m,\u001b[0m \u001b[0mfrom_encoding\u001b[0m\u001b[0;34m=\u001b[0m\u001b[0;34m'utf-8'\u001b[0m\u001b[0;34m)\u001b[0m\u001b[0;34m\u001b[0m\u001b[0;34m\u001b[0m\u001b[0m\n\u001b[1;32m      6\u001b[0m     \u001b[0mres\u001b[0m \u001b[0;34m=\u001b[0m \u001b[0;34m[\u001b[0m\u001b[0;34m]\u001b[0m\u001b[0;34m\u001b[0m\u001b[0;34m\u001b[0m\u001b[0m\n",
      "\u001b[0;32m~/opt/anaconda3/lib/python3.7/urllib/request.py\u001b[0m in \u001b[0;36murlopen\u001b[0;34m(url, data, timeout, cafile, capath, cadefault, context)\u001b[0m\n\u001b[1;32m    220\u001b[0m     \u001b[0;32melse\u001b[0m\u001b[0;34m:\u001b[0m\u001b[0;34m\u001b[0m\u001b[0;34m\u001b[0m\u001b[0m\n\u001b[1;32m    221\u001b[0m         \u001b[0mopener\u001b[0m \u001b[0;34m=\u001b[0m \u001b[0m_opener\u001b[0m\u001b[0;34m\u001b[0m\u001b[0;34m\u001b[0m\u001b[0m\n\u001b[0;32m--> 222\u001b[0;31m     \u001b[0;32mreturn\u001b[0m \u001b[0mopener\u001b[0m\u001b[0;34m.\u001b[0m\u001b[0mopen\u001b[0m\u001b[0;34m(\u001b[0m\u001b[0murl\u001b[0m\u001b[0;34m,\u001b[0m \u001b[0mdata\u001b[0m\u001b[0;34m,\u001b[0m \u001b[0mtimeout\u001b[0m\u001b[0;34m)\u001b[0m\u001b[0;34m\u001b[0m\u001b[0;34m\u001b[0m\u001b[0m\n\u001b[0m\u001b[1;32m    223\u001b[0m \u001b[0;34m\u001b[0m\u001b[0m\n\u001b[1;32m    224\u001b[0m \u001b[0;32mdef\u001b[0m \u001b[0minstall_opener\u001b[0m\u001b[0;34m(\u001b[0m\u001b[0mopener\u001b[0m\u001b[0;34m)\u001b[0m\u001b[0;34m:\u001b[0m\u001b[0;34m\u001b[0m\u001b[0;34m\u001b[0m\u001b[0m\n",
      "\u001b[0;32m~/opt/anaconda3/lib/python3.7/urllib/request.py\u001b[0m in \u001b[0;36mopen\u001b[0;34m(self, fullurl, data, timeout)\u001b[0m\n\u001b[1;32m    523\u001b[0m             \u001b[0mreq\u001b[0m \u001b[0;34m=\u001b[0m \u001b[0mmeth\u001b[0m\u001b[0;34m(\u001b[0m\u001b[0mreq\u001b[0m\u001b[0;34m)\u001b[0m\u001b[0;34m\u001b[0m\u001b[0;34m\u001b[0m\u001b[0m\n\u001b[1;32m    524\u001b[0m \u001b[0;34m\u001b[0m\u001b[0m\n\u001b[0;32m--> 525\u001b[0;31m         \u001b[0mresponse\u001b[0m \u001b[0;34m=\u001b[0m \u001b[0mself\u001b[0m\u001b[0;34m.\u001b[0m\u001b[0m_open\u001b[0m\u001b[0;34m(\u001b[0m\u001b[0mreq\u001b[0m\u001b[0;34m,\u001b[0m \u001b[0mdata\u001b[0m\u001b[0;34m)\u001b[0m\u001b[0;34m\u001b[0m\u001b[0;34m\u001b[0m\u001b[0m\n\u001b[0m\u001b[1;32m    526\u001b[0m \u001b[0;34m\u001b[0m\u001b[0m\n\u001b[1;32m    527\u001b[0m         \u001b[0;31m# post-process response\u001b[0m\u001b[0;34m\u001b[0m\u001b[0;34m\u001b[0m\u001b[0;34m\u001b[0m\u001b[0m\n",
      "\u001b[0;32m~/opt/anaconda3/lib/python3.7/urllib/request.py\u001b[0m in \u001b[0;36m_open\u001b[0;34m(self, req, data)\u001b[0m\n\u001b[1;32m    541\u001b[0m         \u001b[0mprotocol\u001b[0m \u001b[0;34m=\u001b[0m \u001b[0mreq\u001b[0m\u001b[0;34m.\u001b[0m\u001b[0mtype\u001b[0m\u001b[0;34m\u001b[0m\u001b[0;34m\u001b[0m\u001b[0m\n\u001b[1;32m    542\u001b[0m         result = self._call_chain(self.handle_open, protocol, protocol +\n\u001b[0;32m--> 543\u001b[0;31m                                   '_open', req)\n\u001b[0m\u001b[1;32m    544\u001b[0m         \u001b[0;32mif\u001b[0m \u001b[0mresult\u001b[0m\u001b[0;34m:\u001b[0m\u001b[0;34m\u001b[0m\u001b[0;34m\u001b[0m\u001b[0m\n\u001b[1;32m    545\u001b[0m             \u001b[0;32mreturn\u001b[0m \u001b[0mresult\u001b[0m\u001b[0;34m\u001b[0m\u001b[0;34m\u001b[0m\u001b[0m\n",
      "\u001b[0;32m~/opt/anaconda3/lib/python3.7/urllib/request.py\u001b[0m in \u001b[0;36m_call_chain\u001b[0;34m(self, chain, kind, meth_name, *args)\u001b[0m\n\u001b[1;32m    501\u001b[0m         \u001b[0;32mfor\u001b[0m \u001b[0mhandler\u001b[0m \u001b[0;32min\u001b[0m \u001b[0mhandlers\u001b[0m\u001b[0;34m:\u001b[0m\u001b[0;34m\u001b[0m\u001b[0;34m\u001b[0m\u001b[0m\n\u001b[1;32m    502\u001b[0m             \u001b[0mfunc\u001b[0m \u001b[0;34m=\u001b[0m \u001b[0mgetattr\u001b[0m\u001b[0;34m(\u001b[0m\u001b[0mhandler\u001b[0m\u001b[0;34m,\u001b[0m \u001b[0mmeth_name\u001b[0m\u001b[0;34m)\u001b[0m\u001b[0;34m\u001b[0m\u001b[0;34m\u001b[0m\u001b[0m\n\u001b[0;32m--> 503\u001b[0;31m             \u001b[0mresult\u001b[0m \u001b[0;34m=\u001b[0m \u001b[0mfunc\u001b[0m\u001b[0;34m(\u001b[0m\u001b[0;34m*\u001b[0m\u001b[0margs\u001b[0m\u001b[0;34m)\u001b[0m\u001b[0;34m\u001b[0m\u001b[0;34m\u001b[0m\u001b[0m\n\u001b[0m\u001b[1;32m    504\u001b[0m             \u001b[0;32mif\u001b[0m \u001b[0mresult\u001b[0m \u001b[0;32mis\u001b[0m \u001b[0;32mnot\u001b[0m \u001b[0;32mNone\u001b[0m\u001b[0;34m:\u001b[0m\u001b[0;34m\u001b[0m\u001b[0;34m\u001b[0m\u001b[0m\n\u001b[1;32m    505\u001b[0m                 \u001b[0;32mreturn\u001b[0m \u001b[0mresult\u001b[0m\u001b[0;34m\u001b[0m\u001b[0;34m\u001b[0m\u001b[0m\n",
      "\u001b[0;32m~/opt/anaconda3/lib/python3.7/urllib/request.py\u001b[0m in \u001b[0;36mhttp_open\u001b[0;34m(self, req)\u001b[0m\n\u001b[1;32m   1343\u001b[0m \u001b[0;34m\u001b[0m\u001b[0m\n\u001b[1;32m   1344\u001b[0m     \u001b[0;32mdef\u001b[0m \u001b[0mhttp_open\u001b[0m\u001b[0;34m(\u001b[0m\u001b[0mself\u001b[0m\u001b[0;34m,\u001b[0m \u001b[0mreq\u001b[0m\u001b[0;34m)\u001b[0m\u001b[0;34m:\u001b[0m\u001b[0;34m\u001b[0m\u001b[0;34m\u001b[0m\u001b[0m\n\u001b[0;32m-> 1345\u001b[0;31m         \u001b[0;32mreturn\u001b[0m \u001b[0mself\u001b[0m\u001b[0;34m.\u001b[0m\u001b[0mdo_open\u001b[0m\u001b[0;34m(\u001b[0m\u001b[0mhttp\u001b[0m\u001b[0;34m.\u001b[0m\u001b[0mclient\u001b[0m\u001b[0;34m.\u001b[0m\u001b[0mHTTPConnection\u001b[0m\u001b[0;34m,\u001b[0m \u001b[0mreq\u001b[0m\u001b[0;34m)\u001b[0m\u001b[0;34m\u001b[0m\u001b[0;34m\u001b[0m\u001b[0m\n\u001b[0m\u001b[1;32m   1346\u001b[0m \u001b[0;34m\u001b[0m\u001b[0m\n\u001b[1;32m   1347\u001b[0m     \u001b[0mhttp_request\u001b[0m \u001b[0;34m=\u001b[0m \u001b[0mAbstractHTTPHandler\u001b[0m\u001b[0;34m.\u001b[0m\u001b[0mdo_request_\u001b[0m\u001b[0;34m\u001b[0m\u001b[0;34m\u001b[0m\u001b[0m\n",
      "\u001b[0;32m~/opt/anaconda3/lib/python3.7/urllib/request.py\u001b[0m in \u001b[0;36mdo_open\u001b[0;34m(self, http_class, req, **http_conn_args)\u001b[0m\n\u001b[1;32m   1317\u001b[0m                           encode_chunked=req.has_header('Transfer-encoding'))\n\u001b[1;32m   1318\u001b[0m             \u001b[0;32mexcept\u001b[0m \u001b[0mOSError\u001b[0m \u001b[0;32mas\u001b[0m \u001b[0merr\u001b[0m\u001b[0;34m:\u001b[0m \u001b[0;31m# timeout error\u001b[0m\u001b[0;34m\u001b[0m\u001b[0;34m\u001b[0m\u001b[0m\n\u001b[0;32m-> 1319\u001b[0;31m                 \u001b[0;32mraise\u001b[0m \u001b[0mURLError\u001b[0m\u001b[0;34m(\u001b[0m\u001b[0merr\u001b[0m\u001b[0;34m)\u001b[0m\u001b[0;34m\u001b[0m\u001b[0;34m\u001b[0m\u001b[0m\n\u001b[0m\u001b[1;32m   1320\u001b[0m             \u001b[0mr\u001b[0m \u001b[0;34m=\u001b[0m \u001b[0mh\u001b[0m\u001b[0;34m.\u001b[0m\u001b[0mgetresponse\u001b[0m\u001b[0;34m(\u001b[0m\u001b[0;34m)\u001b[0m\u001b[0;34m\u001b[0m\u001b[0;34m\u001b[0m\u001b[0m\n\u001b[1;32m   1321\u001b[0m         \u001b[0;32mexcept\u001b[0m\u001b[0;34m:\u001b[0m\u001b[0;34m\u001b[0m\u001b[0;34m\u001b[0m\u001b[0m\n",
      "\u001b[0;31mURLError\u001b[0m: <urlopen error [Errno 61] Connection refused>"
     ]
    }
   ],
   "source": [
    "dta('http://localhost:9999', ['mp3', 'pdf'])"
   ]
  },
  {
   "cell_type": "markdown",
   "metadata": {},
   "source": [
    "# Fetch links from flask, and save in local filesystem"
   ]
  },
  {
   "cell_type": "code",
   "execution_count": 11,
   "metadata": {},
   "outputs": [],
   "source": [
    "def dtaFetch(dir, url, types=['pdf']):\n",
    "    \"copy dta urls into dir\"\n",
    "    with withChdir(dir):\n",
    "        # relative paths are easier\n",
    "        # save the top level url \n",
    "        with open('base-url.txt', \"w\") as fd:\n",
    "            fd.write(url + '\\n')\n",
    "        urls = dta(url, types)\n",
    "\n",
    "        for url in urls:\n",
    "            # make a file name from the url\n",
    "            tup = urllib.parse.urlparse(url)\n",
    "            path = tup.path\n",
    "            name = os.path.split(path)[1]\n",
    "            url = urllib.parse.quote(url, safe='/:')\n",
    "\n",
    "            print('save', url, name)\n",
    "            try:                \n",
    "                with urllib.request.urlopen(url) as net:\n",
    "                    # grab it in one chunk\n",
    "                    s = net.read()\n",
    "                with open(name, 'bw') as fd:\n",
    "                    # binary write to file system\n",
    "                    fd.write(s)\n",
    "            except Exception as e:\n",
    "                print('missing url: ', url, e)"
   ]
  },
  {
   "cell_type": "code",
   "execution_count": 12,
   "metadata": {},
   "outputs": [
    {
     "ename": "FileNotFoundError",
     "evalue": "[Errno 2] No such file or directory: 'dta-download'",
     "output_type": "error",
     "traceback": [
      "\u001b[0;31m---------------------------------------------------------------------------\u001b[0m",
      "\u001b[0;31mFileNotFoundError\u001b[0m                         Traceback (most recent call last)",
      "\u001b[0;32m<ipython-input-12-4fd55ecc5955>\u001b[0m in \u001b[0;36m<module>\u001b[0;34m\u001b[0m\n\u001b[0;32m----> 1\u001b[0;31m \u001b[0mdtaFetch\u001b[0m\u001b[0;34m(\u001b[0m\u001b[0;34m'dta-download'\u001b[0m\u001b[0;34m,\u001b[0m \u001b[0;34m'http://localhost:9999'\u001b[0m\u001b[0;34m,\u001b[0m \u001b[0;34m[\u001b[0m\u001b[0;34m'mp3'\u001b[0m\u001b[0;34m,\u001b[0m \u001b[0;34m'pdf'\u001b[0m\u001b[0;34m]\u001b[0m\u001b[0;34m)\u001b[0m\u001b[0;34m\u001b[0m\u001b[0;34m\u001b[0m\u001b[0m\n\u001b[0m",
      "\u001b[0;32m<ipython-input-11-43188c088e8f>\u001b[0m in \u001b[0;36mdtaFetch\u001b[0;34m(dir, url, types)\u001b[0m\n\u001b[1;32m      1\u001b[0m \u001b[0;32mdef\u001b[0m \u001b[0mdtaFetch\u001b[0m\u001b[0;34m(\u001b[0m\u001b[0mdir\u001b[0m\u001b[0;34m,\u001b[0m \u001b[0murl\u001b[0m\u001b[0;34m,\u001b[0m \u001b[0mtypes\u001b[0m\u001b[0;34m=\u001b[0m\u001b[0;34m[\u001b[0m\u001b[0;34m'pdf'\u001b[0m\u001b[0;34m]\u001b[0m\u001b[0;34m)\u001b[0m\u001b[0;34m:\u001b[0m\u001b[0;34m\u001b[0m\u001b[0;34m\u001b[0m\u001b[0m\n\u001b[1;32m      2\u001b[0m     \u001b[0;34m\"copy dta urls into dir\"\u001b[0m\u001b[0;34m\u001b[0m\u001b[0;34m\u001b[0m\u001b[0m\n\u001b[0;32m----> 3\u001b[0;31m     \u001b[0;32mwith\u001b[0m \u001b[0mwithChdir\u001b[0m\u001b[0;34m(\u001b[0m\u001b[0mdir\u001b[0m\u001b[0;34m)\u001b[0m\u001b[0;34m:\u001b[0m\u001b[0;34m\u001b[0m\u001b[0;34m\u001b[0m\u001b[0m\n\u001b[0m\u001b[1;32m      4\u001b[0m         \u001b[0;31m# relative paths are easier\u001b[0m\u001b[0;34m\u001b[0m\u001b[0;34m\u001b[0m\u001b[0;34m\u001b[0m\u001b[0m\n\u001b[1;32m      5\u001b[0m         \u001b[0;31m# save the top level url\u001b[0m\u001b[0;34m\u001b[0m\u001b[0;34m\u001b[0m\u001b[0;34m\u001b[0m\u001b[0m\n",
      "\u001b[0;32m~/opt/anaconda3/lib/python3.7/contextlib.py\u001b[0m in \u001b[0;36m__enter__\u001b[0;34m(self)\u001b[0m\n\u001b[1;32m    110\u001b[0m         \u001b[0;32mdel\u001b[0m \u001b[0mself\u001b[0m\u001b[0;34m.\u001b[0m\u001b[0margs\u001b[0m\u001b[0;34m,\u001b[0m \u001b[0mself\u001b[0m\u001b[0;34m.\u001b[0m\u001b[0mkwds\u001b[0m\u001b[0;34m,\u001b[0m \u001b[0mself\u001b[0m\u001b[0;34m.\u001b[0m\u001b[0mfunc\u001b[0m\u001b[0;34m\u001b[0m\u001b[0;34m\u001b[0m\u001b[0m\n\u001b[1;32m    111\u001b[0m         \u001b[0;32mtry\u001b[0m\u001b[0;34m:\u001b[0m\u001b[0;34m\u001b[0m\u001b[0;34m\u001b[0m\u001b[0m\n\u001b[0;32m--> 112\u001b[0;31m             \u001b[0;32mreturn\u001b[0m \u001b[0mnext\u001b[0m\u001b[0;34m(\u001b[0m\u001b[0mself\u001b[0m\u001b[0;34m.\u001b[0m\u001b[0mgen\u001b[0m\u001b[0;34m)\u001b[0m\u001b[0;34m\u001b[0m\u001b[0;34m\u001b[0m\u001b[0m\n\u001b[0m\u001b[1;32m    113\u001b[0m         \u001b[0;32mexcept\u001b[0m \u001b[0mStopIteration\u001b[0m\u001b[0;34m:\u001b[0m\u001b[0;34m\u001b[0m\u001b[0;34m\u001b[0m\u001b[0m\n\u001b[1;32m    114\u001b[0m             \u001b[0;32mraise\u001b[0m \u001b[0mRuntimeError\u001b[0m\u001b[0;34m(\u001b[0m\u001b[0;34m\"generator didn't yield\"\u001b[0m\u001b[0;34m)\u001b[0m \u001b[0;32mfrom\u001b[0m \u001b[0;32mNone\u001b[0m\u001b[0;34m\u001b[0m\u001b[0;34m\u001b[0m\u001b[0m\n",
      "\u001b[0;32m<ipython-input-7-ce76994b6010>\u001b[0m in \u001b[0;36mwithChdir\u001b[0;34m(newdir)\u001b[0m\n\u001b[1;32m      2\u001b[0m \u001b[0;32mdef\u001b[0m \u001b[0mwithChdir\u001b[0m\u001b[0;34m(\u001b[0m\u001b[0mnewdir\u001b[0m\u001b[0;34m)\u001b[0m\u001b[0;34m:\u001b[0m\u001b[0;34m\u001b[0m\u001b[0;34m\u001b[0m\u001b[0m\n\u001b[1;32m      3\u001b[0m     \u001b[0msavedir\u001b[0m \u001b[0;34m=\u001b[0m \u001b[0mos\u001b[0m\u001b[0;34m.\u001b[0m\u001b[0mgetcwd\u001b[0m\u001b[0;34m(\u001b[0m\u001b[0;34m)\u001b[0m\u001b[0;34m\u001b[0m\u001b[0;34m\u001b[0m\u001b[0m\n\u001b[0;32m----> 4\u001b[0;31m     \u001b[0mos\u001b[0m\u001b[0;34m.\u001b[0m\u001b[0mchdir\u001b[0m\u001b[0;34m(\u001b[0m\u001b[0mnewdir\u001b[0m\u001b[0;34m)\u001b[0m\u001b[0;34m\u001b[0m\u001b[0;34m\u001b[0m\u001b[0m\n\u001b[0m\u001b[1;32m      5\u001b[0m     \u001b[0;32mtry\u001b[0m\u001b[0;34m:\u001b[0m\u001b[0;34m\u001b[0m\u001b[0;34m\u001b[0m\u001b[0m\n\u001b[1;32m      6\u001b[0m         \u001b[0;32myield\u001b[0m\u001b[0;34m\u001b[0m\u001b[0;34m\u001b[0m\u001b[0m\n",
      "\u001b[0;31mFileNotFoundError\u001b[0m: [Errno 2] No such file or directory: 'dta-download'"
     ]
    }
   ],
   "source": [
    "dtaFetch('dta-download', 'http://localhost:9999', ['mp3', 'pdf'])"
   ]
  },
  {
   "cell_type": "code",
   "execution_count": 13,
   "metadata": {},
   "outputs": [
    {
     "ename": "SyntaxError",
     "evalue": "EOL while scanning string literal (<ipython-input-13-7ade57c20a18>, line 1)",
     "output_type": "error",
     "traceback": [
      "\u001b[0;36m  File \u001b[0;32m\"<ipython-input-13-7ade57c20a18>\"\u001b[0;36m, line \u001b[0;32m1\u001b[0m\n\u001b[0;31m    'http://www.eftaylor.com/exploringblackholes/\u001b[0m\n\u001b[0m                                                 ^\u001b[0m\n\u001b[0;31mSyntaxError\u001b[0m\u001b[0;31m:\u001b[0m EOL while scanning string literal\n"
     ]
    }
   ],
   "source": [
    "'http://www.eftaylor.com/exploringblackholes/"
   ]
  },
  {
   "cell_type": "code",
   "execution_count": null,
   "metadata": {},
   "outputs": [],
   "source": []
  }
 ],
 "metadata": {
  "kernelspec": {
   "display_name": "Python 3",
   "language": "python",
   "name": "python3"
  },
  "language_info": {
   "codemirror_mode": {
    "name": "ipython",
    "version": 3
   },
   "file_extension": ".py",
   "mimetype": "text/x-python",
   "name": "python",
   "nbconvert_exporter": "python",
   "pygments_lexer": "ipython3",
   "version": "3.7.4"
  }
 },
 "nbformat": 4,
 "nbformat_minor": 2
}
