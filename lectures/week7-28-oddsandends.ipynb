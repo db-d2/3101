{
 "cells": [
  {
   "cell_type": "markdown",
   "metadata": {},
   "source": [
    "# Rubik's Cube\n",
    "- [module](https://pypi.org/project/kociemba/) \n",
    "- [robot](https://www.youtube.com/watch?list=PLGXEJ4Ye1qCOIk6PdUMxePiYP6Y34hOux&time_continue=2&v=5YNxKrUrdDo&feature=emb_logo)"
   ]
  },
  {
   "cell_type": "markdown",
   "metadata": {},
   "source": [
    "# [kaggle](https://www.kaggle.com)\n",
    "- website with many interesting datasets that let you play with graphics, statistics, and machine learning\n",
    "- lots of sample Python code, using techniques we have looked at, often formatted in Jupyter notebooks"
   ]
  },
  {
   "cell_type": "markdown",
   "metadata": {},
   "source": [
    "# Trashing Anaconda\n",
    "- if you want to uninstall it, just delete the 'anaconda' directory in your home directory, which should look like one of:\n",
    "    - opt/anaconda3 \n",
    "    - anaconda3 \n",
    "    - anaconda"
   ]
  },
  {
   "cell_type": "markdown",
   "metadata": {},
   "source": [
    "# The Zen of Python!!\n",
    "- some people take this super seriously - your call..."
   ]
  },
  {
   "cell_type": "code",
   "execution_count": null,
   "metadata": {},
   "outputs": [],
   "source": [
    "import this"
   ]
  },
  {
   "cell_type": "markdown",
   "metadata": {},
   "source": [
    "# \"Python\" does NOT refer to a snake!!\n",
    "- [MPFC](https://en.wikipedia.org/wiki/Monty_Python%27s_Flying_Circus)"
   ]
  }
 ],
 "metadata": {
  "anaconda-cloud": {},
  "kernelspec": {
   "display_name": "Python 3",
   "language": "python",
   "name": "python3"
  },
  "language_info": {
   "codemirror_mode": {
    "name": "ipython",
    "version": 3
   },
   "file_extension": ".py",
   "mimetype": "text/x-python",
   "name": "python",
   "nbconvert_exporter": "python",
   "pygments_lexer": "ipython3",
   "version": "3.7.4"
  }
 },
 "nbformat": 4,
 "nbformat_minor": 2
}
