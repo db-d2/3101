{
 "cells": [
  {
   "cell_type": "markdown",
   "metadata": {},
   "source": [
    "# BioPython\n",
    "- huge module for bioinformatics\n",
    "- must be installed\n",
    "    - conda install biopython\n",
    "    - conda install reportlab\n",
    "- [doc](http://biopython.org/DIST/docs/tutorial/Tutorial.html)"
   ]
  },
  {
   "cell_type": "code",
   "execution_count": 4,
   "metadata": {},
   "outputs": [
    {
     "data": {
      "text/plain": [
       "Seq('AGTACACTGGT')"
      ]
     },
     "execution_count": 4,
     "metadata": {},
     "output_type": "execute_result"
    }
   ],
   "source": [
    "from Bio.Seq import *\n",
    "s = Seq(\"AGTACACTGGT\")\n",
    "s"
   ]
  },
  {
   "cell_type": "code",
   "execution_count": 5,
   "metadata": {},
   "outputs": [
    {
     "data": {
      "text/plain": [
       "[Seq('TCATGTGACCA'), Seq('ACCAGTGTACT')]"
      ]
     },
     "execution_count": 5,
     "metadata": {},
     "output_type": "execute_result"
    }
   ],
   "source": [
    "[s.complement(), s.reverse_complement()]"
   ]
  },
  {
   "cell_type": "markdown",
   "metadata": {},
   "source": [
    "# Read Fasta format\n",
    "- [lady slipper orchid pics](https://www.flickr.com/search/?q=lady+slipper+orchid&s=int&z=t)"
   ]
  },
  {
   "cell_type": "code",
   "execution_count": 6,
   "metadata": {},
   "outputs": [],
   "source": [
    "# need data in files\n",
    "\n",
    "import urllib.request\n",
    "\n",
    "def copyToFile(path, url):\n",
    "    with urllib.request.urlopen(url) as nt:\n",
    "        lines = nt.readlines()\n",
    "        with open(path, \"bw\") as f:\n",
    "            for line in lines:\n",
    "                f.write(line)"
   ]
  },
  {
   "cell_type": "code",
   "execution_count": 7,
   "metadata": {},
   "outputs": [],
   "source": [
    "# places\n",
    "\n",
    "import os\n",
    "\n",
    "url = 'https://raw.githubusercontent.com/biopython/biopython/master/Doc/examples/ls_orchid.fasta'\n",
    "url2 = 'https://raw.githubusercontent.com/biopython/biopython/master/Doc/examples/ls_orchid.gbk'\n",
    "\n",
    "path = '/tmp/orch.fasta'\n",
    "path2 = '/tmp/orch.gbk'\n",
    "\n",
    "me = '/Users/lstead/me/courses/columbia/python/2017fall/notebooks/week7/'\n",
    "me = '/Users/lstead/'\n",
    "bioin = me + 'bioin/'\n",
    "bioout = me + 'bioout/'\n"
   ]
  },
  {
   "cell_type": "code",
   "execution_count": 8,
   "metadata": {},
   "outputs": [
    {
     "name": "stdout",
     "output_type": "stream",
     "text": [
      "gi|2765658|emb|Z78533.1|CIZ78533\n",
      "Seq('CGTAACAAGGTTTCCGTAGGTGAACCTGCGGAAGGATCATTGATGAGACCGTGG...CGC', SingleLetterAlphabet())\n",
      "740\n",
      "gi|2765657|emb|Z78532.1|CCZ78532\n",
      "Seq('CGTAACAAGGTTTCCGTAGGTGAACCTGCGGAAGGATCATTGTTGAGACAACAG...GGC', SingleLetterAlphabet())\n",
      "753\n",
      "gi|2765656|emb|Z78531.1|CFZ78531\n",
      "Seq('CGTAACAAGGTTTCCGTAGGTGAACCTGCGGAAGGATCATTGTTGAGACAGCAG...TAA', SingleLetterAlphabet())\n",
      "748\n",
      "gi|2765655|emb|Z78530.1|CMZ78530\n",
      "Seq('CGTAACAAGGTTTCCGTAGGTGAACCTGCGGAAGGATCATTGTTGAAACAACAT...CAT', SingleLetterAlphabet())\n",
      "744\n",
      "gi|2765654|emb|Z78529.1|CLZ78529\n",
      "Seq('ACGGCGAGCTGCCGAAGGACATTGTTGAGACAGCAGAATATACGATTGAGTGAA...AAA', SingleLetterAlphabet())\n",
      "733\n",
      "gi|2765652|emb|Z78527.1|CYZ78527\n",
      "Seq('CGTAACAAGGTTTCCGTAGGTGAACCTGCGGAAGGATCATTGTTGAGACAGTAG...CCC', SingleLetterAlphabet())\n",
      "718\n",
      "gi|2765651|emb|Z78526.1|CGZ78526\n",
      "Seq('CGTAACAAGGTTTCCGTAGGTGAACCTGCGGAAGGATCATTGTTGAGACAGTAG...TGT', SingleLetterAlphabet())\n",
      "730\n",
      "gi|2765650|emb|Z78525.1|CAZ78525\n",
      "Seq('TGTTGAGATAGCAGAATATACATCGAGTGAATCCGGAGGACCTGTGGTTATTCG...GCA', SingleLetterAlphabet())\n",
      "704\n",
      "gi|2765649|emb|Z78524.1|CFZ78524\n",
      "Seq('CGTAACAAGGTTTCCGTAGGTGAACCTGCGGAAGGATCATTGTTGAGATAGTAG...AGC', SingleLetterAlphabet())\n",
      "740\n",
      "gi|2765648|emb|Z78523.1|CHZ78523\n",
      "Seq('CGTAACCAGGTTTCCGTAGGTGAACCTGCGGCAGGATCATTGTTGAGACAGCAG...AAG', SingleLetterAlphabet())\n",
      "709\n"
     ]
    }
   ],
   "source": [
    "from Bio import SeqIO\n",
    "\n",
    "copyToFile(path, url)\n",
    "\n",
    "l = list(SeqIO.parse(path, 'fasta'))\n",
    "for seq_record in l[:10]:\n",
    "    print(seq_record.id)\n",
    "    print(repr(seq_record.seq))\n",
    "    print(len(seq_record))\n"
   ]
  },
  {
   "cell_type": "code",
   "execution_count": 9,
   "metadata": {},
   "outputs": [
    {
     "name": "stdout",
     "output_type": "stream",
     "text": [
      "Z78533.1\n",
      "Seq('CGTAACAAGGTTTCCGTAGGTGAACCTGCGGAAGGATCATTGATGAGACCGTGG...CGC', IUPACAmbiguousDNA())\n",
      "740\n",
      "Z78532.1\n",
      "Seq('CGTAACAAGGTTTCCGTAGGTGAACCTGCGGAAGGATCATTGTTGAGACAACAG...GGC', IUPACAmbiguousDNA())\n",
      "753\n",
      "Z78531.1\n",
      "Seq('CGTAACAAGGTTTCCGTAGGTGAACCTGCGGAAGGATCATTGTTGAGACAGCAG...TAA', IUPACAmbiguousDNA())\n",
      "748\n",
      "Z78530.1\n",
      "Seq('CGTAACAAGGTTTCCGTAGGTGAACCTGCGGAAGGATCATTGTTGAAACAACAT...CAT', IUPACAmbiguousDNA())\n",
      "744\n",
      "Z78529.1\n",
      "Seq('ACGGCGAGCTGCCGAAGGACATTGTTGAGACAGCAGAATATACGATTGAGTGAA...AAA', IUPACAmbiguousDNA())\n",
      "733\n",
      "Z78527.1\n",
      "Seq('CGTAACAAGGTTTCCGTAGGTGAACCTGCGGAAGGATCATTGTTGAGACAGTAG...CCC', IUPACAmbiguousDNA())\n",
      "718\n",
      "Z78526.1\n",
      "Seq('CGTAACAAGGTTTCCGTAGGTGAACCTGCGGAAGGATCATTGTTGAGACAGTAG...TGT', IUPACAmbiguousDNA())\n",
      "730\n",
      "Z78525.1\n",
      "Seq('TGTTGAGATAGCAGAATATACATCGAGTGAATCCGGAGGACCTGTGGTTATTCG...GCA', IUPACAmbiguousDNA())\n",
      "704\n",
      "Z78524.1\n",
      "Seq('CGTAACAAGGTTTCCGTAGGTGAACCTGCGGAAGGATCATTGTTGAGATAGTAG...AGC', IUPACAmbiguousDNA())\n",
      "740\n",
      "Z78523.1\n",
      "Seq('CGTAACCAGGTTTCCGTAGGTGAACCTGCGGCAGGATCATTGTTGAGACAGCAG...AAG', IUPACAmbiguousDNA())\n",
      "709\n"
     ]
    }
   ],
   "source": [
    "copyToFile(path2, url2)\n",
    "\n",
    "for seq_record in list(SeqIO.parse(path2, 'genbank'))[:10]:\n",
    "    print(seq_record.id)\n",
    "    print(repr(seq_record.seq))\n",
    "    print(len(seq_record))"
   ]
  },
  {
   "cell_type": "code",
   "execution_count": 10,
   "metadata": {},
   "outputs": [
    {
     "name": "stdout",
     "output_type": "stream",
     "text": [
      "AGTACACTGGT IUPACUnambiguousDNA()\n",
      "AGTACACTGGT IUPACProtein()\n"
     ]
    }
   ],
   "source": [
    "# different alphabets for different purposes\n",
    "# DNA sequence\n",
    "\n",
    "s2 = Seq(\"AGTACACTGGT\", IUPAC.unambiguous_dna)\n",
    "print(s2, s2.alphabet)\n",
    "\n",
    "# amino acids\n",
    "s3 = Seq('AGTACACTGGT', IUPAC.protein)\n",
    "print(s3, s3.alphabet)"
   ]
  },
  {
   "cell_type": "code",
   "execution_count": 11,
   "metadata": {},
   "outputs": [
    {
     "data": {
      "text/plain": [
       "[Seq('AGTACACTGGT'), 'G', 11, 3, Seq('ACACT')]"
      ]
     },
     "execution_count": 11,
     "metadata": {},
     "output_type": "execute_result"
    }
   ],
   "source": [
    "# Seq is not a string, but has string like features\n",
    "\n",
    "[s, s[1], len(s), s.count('A'), s[3:8]]"
   ]
  },
  {
   "cell_type": "code",
   "execution_count": 12,
   "metadata": {},
   "outputs": [
    {
     "data": {
      "text/plain": [
       "45.45454545454545"
      ]
     },
     "execution_count": 12,
     "metadata": {},
     "output_type": "execute_result"
    }
   ],
   "source": [
    "# compute % of G and C\n",
    "\n",
    "100 * float(s.count(\"G\") + s.count(\"C\")) / len(s)"
   ]
  },
  {
   "cell_type": "code",
   "execution_count": 13,
   "metadata": {},
   "outputs": [
    {
     "data": {
      "text/plain": [
       "45.45454545454545"
      ]
     },
     "execution_count": 13,
     "metadata": {},
     "output_type": "execute_result"
    }
   ],
   "source": [
    "# builtin function\n",
    "\n",
    "from Bio.SeqUtils import GC\n",
    "GC(s)"
   ]
  },
  {
   "cell_type": "code",
   "execution_count": 14,
   "metadata": {},
   "outputs": [],
   "source": [
    "from reportlab.lib import colors\n",
    "from reportlab.lib.units import cm\n",
    "from Bio.Graphics import GenomeDiagram\n",
    "from Bio import SeqIO\n",
    "\n",
    "url='https://raw.githubusercontent.com/biopython/biopython/dbb0de6337d5604ea5a5b2276dfb0ae0d2ddd1dc/Tests/GenBank/NC_005816.gb'\n",
    "path = '/Users/lstead/bioin/NC_005816.gb'\n",
    "\n",
    "copyToFile(path, url)\n",
    "\n",
    "record = SeqIO.read(path, \"genbank\")\n",
    "\n",
    "gd_diagram = GenomeDiagram.Diagram(\"Yersinia pestis biovar Microtus plasmid pPCP1\")\n",
    "gd_track_for_features = gd_diagram.new_track(1, name=\"Annotated Features\")\n",
    "gd_feature_set = gd_track_for_features.new_set()\n"
   ]
  },
  {
   "cell_type": "code",
   "execution_count": 15,
   "metadata": {},
   "outputs": [],
   "source": [
    "for feature in record.features:\n",
    "    if feature.type != \"gene\":\n",
    "        #Exclude this feature\n",
    "        continue\n",
    "    if len(gd_feature_set) % 2 == 0:\n",
    "        color = colors.blue\n",
    "    else:\n",
    "        color = colors.lightblue\n",
    "    gd_feature_set.add_feature(feature, color=color, label=True)\n",
    "    \n",
    "gd_diagram.draw(format=\"linear\", orientation=\"landscape\", pagesize='A4',\n",
    "                fragments=4, start=0, end=len(record))\n",
    "gd_diagram.write(bioout+\"plasmid_linear.pdf\", \"PDF\")\n",
    "gd_diagram.write(bioout+\"plasmid_linear.eps\", \"EPS\")\n",
    "gd_diagram.write(bioout+\"plasmid_linear.svg\", \"SVG\")\n",
    "gd_diagram.draw(format=\"circular\", circular=True, pagesize=(20*cm,20*cm),\n",
    "                start=0, end=len(record), circle_core=0.7)\n",
    "gd_diagram.write(bioout+\"plasmid_circular.pdf\", \"PDF\")"
   ]
  },
  {
   "cell_type": "code",
   "execution_count": 16,
   "metadata": {},
   "outputs": [],
   "source": [
    "from reportlab.lib import colors\n",
    "from reportlab.lib.units import cm\n",
    "from Bio.Graphics import GenomeDiagram\n",
    "from Bio import SeqIO\n",
    "from Bio.SeqFeature import SeqFeature, FeatureLocation\n",
    "\n",
    "record = SeqIO.read(path, \"genbank\")\n",
    "\n",
    "gd_diagram = GenomeDiagram.Diagram(record.id)\n",
    "gd_track_for_features = gd_diagram.new_track(1, name=\"Annotated Features\")\n",
    "gd_feature_set = gd_track_for_features.new_set()\n",
    "\n",
    "for feature in record.features:\n",
    "    if feature.type != \"gene\":\n",
    "        #Exclude this feature\n",
    "        continue\n",
    "    if len(gd_feature_set) % 2 == 0:\n",
    "        color = colors.blue\n",
    "    else:\n",
    "        color = colors.lightblue\n",
    "    gd_feature_set.add_feature(feature, sigil=\"ARROW\",\n",
    "                               color=color, label=True,\n",
    "                               label_size = 14, label_angle=0)\n",
    "\n",
    "#I want to include some strandless features, so for an example\n",
    "#will use EcoRI recognition sites etc.\n",
    "for site, name, color in [(\"GAATTC\",\"EcoRI\",colors.green),\n",
    "                          (\"CCCGGG\",\"SmaI\",colors.orange),\n",
    "                          (\"AAGCTT\",\"HindIII\",colors.red),\n",
    "                          (\"GGATCC\",\"BamHI\",colors.purple)]:\n",
    "    index = 0\n",
    "    while True:\n",
    "        index  = record.seq.find(site, start=index)\n",
    "        if index == -1 : break\n",
    "        feature = SeqFeature(FeatureLocation(index, index+len(site)))\n",
    "        gd_feature_set.add_feature(feature, color=color, name=name,\n",
    "                                   label=True, label_size = 10,\n",
    "                                   label_color=color)\n",
    "        index += len(site)\n",
    "\n",
    "gd_diagram.draw(format=\"linear\", pagesize='A4', fragments=4,\n",
    "                start=0, end=len(record))\n",
    "gd_diagram.write(bioout+\"plasmid_linear_nice.pdf\", \"PDF\")\n",
    "gd_diagram.write(bioout+\"plasmid_linear_nice.eps\", \"EPS\")\n",
    "gd_diagram.write(bioout+\"plasmid_linear_nice.svg\", \"SVG\")\n",
    "\n",
    "gd_diagram.draw(format=\"circular\", circular=True, pagesize=(20*cm,20*cm),\n",
    "                start=0, end=len(record), circle_core = 0.5)\n",
    "gd_diagram.write(bioout+\"plasmid_circular_nice.pdf\", \"PDF\")\n",
    "gd_diagram.write(bioout+\"plasmid_circular_nice.eps\", \"EPS\")\n",
    "gd_diagram.write(bioout+\"plasmid_circular_nice.svg\", \"SVG\")\n"
   ]
  },
  {
   "cell_type": "code",
   "execution_count": 17,
   "metadata": {},
   "outputs": [
    {
     "ename": "FileNotFoundError",
     "evalue": "[Errno 2] No such file or directory: '/Users/lstead/bioin/NC_003070.fna'",
     "output_type": "error",
     "traceback": [
      "\u001b[0;31m---------------------------------------------------------------------------\u001b[0m",
      "\u001b[0;31mFileNotFoundError\u001b[0m                         Traceback (most recent call last)",
      "\u001b[0;32m<ipython-input-17-9f13e782eab0>\u001b[0m in \u001b[0;36m<module>\u001b[0;34m\u001b[0m\n\u001b[1;32m      6\u001b[0m            (\"Chr V\", \"NC_003076.fna\")]\n\u001b[1;32m      7\u001b[0m \u001b[0;32mfor\u001b[0m \u001b[0;34m(\u001b[0m\u001b[0mname\u001b[0m\u001b[0;34m,\u001b[0m \u001b[0mfilename\u001b[0m\u001b[0;34m)\u001b[0m \u001b[0;32min\u001b[0m \u001b[0mentries\u001b[0m\u001b[0;34m:\u001b[0m\u001b[0;34m\u001b[0m\u001b[0;34m\u001b[0m\u001b[0m\n\u001b[0;32m----> 8\u001b[0;31m    \u001b[0mrecord\u001b[0m \u001b[0;34m=\u001b[0m \u001b[0mSeqIO\u001b[0m\u001b[0;34m.\u001b[0m\u001b[0mread\u001b[0m\u001b[0;34m(\u001b[0m\u001b[0mbioin\u001b[0m\u001b[0;34m+\u001b[0m\u001b[0mfilename\u001b[0m\u001b[0;34m,\u001b[0m\u001b[0;34m\"fasta\"\u001b[0m\u001b[0;34m)\u001b[0m\u001b[0;34m\u001b[0m\u001b[0;34m\u001b[0m\u001b[0m\n\u001b[0m\u001b[1;32m      9\u001b[0m    \u001b[0mprint\u001b[0m\u001b[0;34m(\u001b[0m\u001b[0mname\u001b[0m\u001b[0;34m,\u001b[0m \u001b[0mlen\u001b[0m\u001b[0;34m(\u001b[0m\u001b[0mrecord\u001b[0m\u001b[0;34m)\u001b[0m\u001b[0;34m)\u001b[0m\u001b[0;34m\u001b[0m\u001b[0;34m\u001b[0m\u001b[0m\n",
      "\u001b[0;32m~/opt/anaconda3/lib/python3.7/site-packages/Bio/SeqIO/__init__.py\u001b[0m in \u001b[0;36mread\u001b[0;34m(handle, format, alphabet)\u001b[0m\n\u001b[1;32m    742\u001b[0m     \u001b[0miterator\u001b[0m \u001b[0;34m=\u001b[0m \u001b[0mparse\u001b[0m\u001b[0;34m(\u001b[0m\u001b[0mhandle\u001b[0m\u001b[0;34m,\u001b[0m \u001b[0mformat\u001b[0m\u001b[0;34m,\u001b[0m \u001b[0malphabet\u001b[0m\u001b[0;34m)\u001b[0m\u001b[0;34m\u001b[0m\u001b[0;34m\u001b[0m\u001b[0m\n\u001b[1;32m    743\u001b[0m     \u001b[0;32mtry\u001b[0m\u001b[0;34m:\u001b[0m\u001b[0;34m\u001b[0m\u001b[0;34m\u001b[0m\u001b[0m\n\u001b[0;32m--> 744\u001b[0;31m         \u001b[0mfirst\u001b[0m \u001b[0;34m=\u001b[0m \u001b[0mnext\u001b[0m\u001b[0;34m(\u001b[0m\u001b[0miterator\u001b[0m\u001b[0;34m)\u001b[0m\u001b[0;34m\u001b[0m\u001b[0;34m\u001b[0m\u001b[0m\n\u001b[0m\u001b[1;32m    745\u001b[0m     \u001b[0;32mexcept\u001b[0m \u001b[0mStopIteration\u001b[0m\u001b[0;34m:\u001b[0m\u001b[0;34m\u001b[0m\u001b[0;34m\u001b[0m\u001b[0m\n\u001b[1;32m    746\u001b[0m         \u001b[0mfirst\u001b[0m \u001b[0;34m=\u001b[0m \u001b[0;32mNone\u001b[0m\u001b[0;34m\u001b[0m\u001b[0;34m\u001b[0m\u001b[0m\n",
      "\u001b[0;32m~/opt/anaconda3/lib/python3.7/site-packages/Bio/SeqIO/FastaIO.py\u001b[0m in \u001b[0;36mFastaIterator\u001b[0;34m(handle, alphabet, title2ids)\u001b[0m\n\u001b[1;32m    176\u001b[0m \u001b[0;34m\u001b[0m\u001b[0m\n\u001b[1;32m    177\u001b[0m     \"\"\"\n\u001b[0;32m--> 178\u001b[0;31m     \u001b[0;32mwith\u001b[0m \u001b[0mas_handle\u001b[0m\u001b[0;34m(\u001b[0m\u001b[0mhandle\u001b[0m\u001b[0;34m,\u001b[0m \u001b[0;34m\"rU\"\u001b[0m\u001b[0;34m)\u001b[0m \u001b[0;32mas\u001b[0m \u001b[0mhandle\u001b[0m\u001b[0;34m:\u001b[0m\u001b[0;34m\u001b[0m\u001b[0;34m\u001b[0m\u001b[0m\n\u001b[0m\u001b[1;32m    179\u001b[0m         \u001b[0;32mif\u001b[0m \u001b[0mtitle2ids\u001b[0m\u001b[0;34m:\u001b[0m\u001b[0;34m\u001b[0m\u001b[0;34m\u001b[0m\u001b[0m\n\u001b[1;32m    180\u001b[0m             \u001b[0;32mfor\u001b[0m \u001b[0mtitle\u001b[0m\u001b[0;34m,\u001b[0m \u001b[0msequence\u001b[0m \u001b[0;32min\u001b[0m \u001b[0mSimpleFastaParser\u001b[0m\u001b[0;34m(\u001b[0m\u001b[0mhandle\u001b[0m\u001b[0;34m)\u001b[0m\u001b[0;34m:\u001b[0m\u001b[0;34m\u001b[0m\u001b[0;34m\u001b[0m\u001b[0m\n",
      "\u001b[0;32m~/opt/anaconda3/lib/python3.7/contextlib.py\u001b[0m in \u001b[0;36m__enter__\u001b[0;34m(self)\u001b[0m\n\u001b[1;32m    110\u001b[0m         \u001b[0;32mdel\u001b[0m \u001b[0mself\u001b[0m\u001b[0;34m.\u001b[0m\u001b[0margs\u001b[0m\u001b[0;34m,\u001b[0m \u001b[0mself\u001b[0m\u001b[0;34m.\u001b[0m\u001b[0mkwds\u001b[0m\u001b[0;34m,\u001b[0m \u001b[0mself\u001b[0m\u001b[0;34m.\u001b[0m\u001b[0mfunc\u001b[0m\u001b[0;34m\u001b[0m\u001b[0;34m\u001b[0m\u001b[0m\n\u001b[1;32m    111\u001b[0m         \u001b[0;32mtry\u001b[0m\u001b[0;34m:\u001b[0m\u001b[0;34m\u001b[0m\u001b[0;34m\u001b[0m\u001b[0m\n\u001b[0;32m--> 112\u001b[0;31m             \u001b[0;32mreturn\u001b[0m \u001b[0mnext\u001b[0m\u001b[0;34m(\u001b[0m\u001b[0mself\u001b[0m\u001b[0;34m.\u001b[0m\u001b[0mgen\u001b[0m\u001b[0;34m)\u001b[0m\u001b[0;34m\u001b[0m\u001b[0;34m\u001b[0m\u001b[0m\n\u001b[0m\u001b[1;32m    113\u001b[0m         \u001b[0;32mexcept\u001b[0m \u001b[0mStopIteration\u001b[0m\u001b[0;34m:\u001b[0m\u001b[0;34m\u001b[0m\u001b[0;34m\u001b[0m\u001b[0m\n\u001b[1;32m    114\u001b[0m             \u001b[0;32mraise\u001b[0m \u001b[0mRuntimeError\u001b[0m\u001b[0;34m(\u001b[0m\u001b[0;34m\"generator didn't yield\"\u001b[0m\u001b[0;34m)\u001b[0m \u001b[0;32mfrom\u001b[0m \u001b[0;32mNone\u001b[0m\u001b[0;34m\u001b[0m\u001b[0;34m\u001b[0m\u001b[0m\n",
      "\u001b[0;32m~/opt/anaconda3/lib/python3.7/site-packages/Bio/File.py\u001b[0m in \u001b[0;36mas_handle\u001b[0;34m(handleish, mode, **kwargs)\u001b[0m\n\u001b[1;32m    118\u001b[0m                 \u001b[0;32myield\u001b[0m \u001b[0mfp\u001b[0m\u001b[0;34m\u001b[0m\u001b[0;34m\u001b[0m\u001b[0m\n\u001b[1;32m    119\u001b[0m         \u001b[0;32melse\u001b[0m\u001b[0;34m:\u001b[0m\u001b[0;34m\u001b[0m\u001b[0;34m\u001b[0m\u001b[0m\n\u001b[0;32m--> 120\u001b[0;31m             \u001b[0;32mwith\u001b[0m \u001b[0mopen\u001b[0m\u001b[0;34m(\u001b[0m\u001b[0mhandleish\u001b[0m\u001b[0;34m,\u001b[0m \u001b[0mmode\u001b[0m\u001b[0;34m,\u001b[0m \u001b[0;34m**\u001b[0m\u001b[0mkwargs\u001b[0m\u001b[0;34m)\u001b[0m \u001b[0;32mas\u001b[0m \u001b[0mfp\u001b[0m\u001b[0;34m:\u001b[0m\u001b[0;34m\u001b[0m\u001b[0;34m\u001b[0m\u001b[0m\n\u001b[0m\u001b[1;32m    121\u001b[0m                 \u001b[0;32myield\u001b[0m \u001b[0mfp\u001b[0m\u001b[0;34m\u001b[0m\u001b[0;34m\u001b[0m\u001b[0m\n\u001b[1;32m    122\u001b[0m     \u001b[0;32melse\u001b[0m\u001b[0;34m:\u001b[0m\u001b[0;34m\u001b[0m\u001b[0;34m\u001b[0m\u001b[0m\n",
      "\u001b[0;31mFileNotFoundError\u001b[0m: [Errno 2] No such file or directory: '/Users/lstead/bioin/NC_003070.fna'"
     ]
    }
   ],
   "source": [
    "from Bio import SeqIO\n",
    "entries = [(\"Chr I\", \"NC_003070.fna\"),\n",
    "           (\"Chr II\", \"NC_003071.fna\"),\n",
    "           (\"Chr III\", \"NC_003074.fna\"),\n",
    "           (\"Chr IV\", \"NC_003075.fna\"),\n",
    "           (\"Chr V\", \"NC_003076.fna\")]\n",
    "for (name, filename) in entries:\n",
    "   record = SeqIO.read(bioin+filename,\"fasta\")\n",
    "   print(name, len(record))"
   ]
  },
  {
   "cell_type": "code",
   "execution_count": 18,
   "metadata": {},
   "outputs": [],
   "source": [
    "from reportlab.lib.units import cm\n",
    "from Bio.Graphics import BasicChromosome\n",
    "\n",
    "entries = [(\"Chr I\", 30432563),\n",
    "           (\"Chr II\", 19705359),\n",
    "           (\"Chr III\", 23470805),\n",
    "           (\"Chr IV\", 18585042),\n",
    "           (\"Chr V\", 26992728)]\n",
    "\n",
    "max_len = 30432563 #Could compute this\n",
    "telomere_length = 1000000 #For illustration\n",
    "\n",
    "chr_diagram = BasicChromosome.Organism()\n",
    "chr_diagram.page_size = (29.7*cm, 21*cm) #A4 landscape\n",
    "\n",
    "for name, length in entries:\n",
    "    cur_chromosome = BasicChromosome.Chromosome(name)\n",
    "    #Set the scale to the MAXIMUM length plus the two telomeres in bp,\n",
    "    #want the same scale used on all five chromosomes so they can be\n",
    "    #compared to each other\n",
    "    cur_chromosome.scale_num = max_len + 2 * telomere_length\n",
    "\n",
    "    #Add an opening telomere\n",
    "    start = BasicChromosome.TelomereSegment()\n",
    "    start.scale = telomere_length\n",
    "    cur_chromosome.add(start)\n",
    "\n",
    "    #Add a body - using bp as the scale length here.\n",
    "    body = BasicChromosome.ChromosomeSegment()\n",
    "    body.scale = length\n",
    "    cur_chromosome.add(body)\n",
    "\n",
    "    #Add a closing telomere\n",
    "    end = BasicChromosome.TelomereSegment(inverted=True)\n",
    "    end.scale = telomere_length\n",
    "    cur_chromosome.add(end)\n",
    "\n",
    "    #This chromosome is done\n",
    "    chr_diagram.add(cur_chromosome)\n",
    "\n",
    "chr_diagram.draw(bioout+\"simple_chrom.pdf\", \"Arabidopsis thaliana\")"
   ]
  },
  {
   "cell_type": "code",
   "execution_count": null,
   "metadata": {},
   "outputs": [],
   "source": [
    "from reportlab.lib.units import cm\n",
    "from Bio import SeqIO\n",
    "from Bio.Graphics import BasicChromosome\n",
    "\n",
    "entries = [(\"Chr I\", \"NC_003070.gbk\"),\n",
    "           #(\"Chr II\", \"NC_003071.gbk\"),\n",
    "           (\"Chr III\", \"NC_003074.gbk\"),\n",
    "           (\"Chr IV\", \"NC_003075.gbk\"),\n",
    "           (\"Chr V\", \"NC_003076.gbk\")]\n",
    "\n",
    "max_len = 30432563 #Could compute this\n",
    "telomere_length = 1000000 #For illustration\n",
    "\n",
    "chr_diagram = BasicChromosome.Organism()\n",
    "chr_diagram.page_size = (29.7*cm, 21*cm) #A4 landscape\n",
    "\n",
    "for index, (name, filename) in enumerate(entries):\n",
    "    print(bioin+filename)\n",
    "    record = SeqIO.read(bioin+filename,\"genbank\")\n",
    "    length = len(record)\n",
    "    print(length)\n",
    "    features = [f for f in record.features if f.type==\"tRNA\"]\n",
    "    #Record an Artemis style integer color in the feature's qualifiers,\n",
    "    #1 = Black, 2 = Red, 3 = Green, 4 = blue, 5 =cyan, 6 = purple\n",
    "    for f in features: f.qualifiers[\"color\"] = [index+2]\n",
    "\n",
    "    cur_chromosome = BasicChromosome.Chromosome(name)\n",
    "    #Set the scale to the MAXIMUM length plus the two telomeres in bp,\n",
    "    #want the same scale used on all five chromosomes so they can be\n",
    "    #compared to each other\n",
    "    cur_chromosome.scale_num = max_len + 2 * telomere_length\n",
    "\n",
    "    #Add an opening telomere\n",
    "    start = BasicChromosome.TelomereSegment()\n",
    "    start.scale = telomere_length\n",
    "    cur_chromosome.add(start)\n",
    "\n",
    "    #Add a body - again using bp as the scale length here.\n",
    "    body = BasicChromosome.AnnotatedChromosomeSegment(length, features)\n",
    "    body.scale = length\n",
    "    cur_chromosome.add(body)\n",
    "\n",
    "    #Add a closing telomere\n",
    "    end = BasicChromosome.TelomereSegment(inverted=True)\n",
    "    end.scale = telomere_length\n",
    "    cur_chromosome.add(end)\n",
    "\n",
    "    #This chromosome is done\n",
    "    chr_diagram.add(cur_chromosome)\n",
    "\n",
    "chr_diagram.draw(bioout+\"tRNA_chrom.pdf\", \"Arabidopsis thaliana\")\n"
   ]
  }
 ],
 "metadata": {
  "anaconda-cloud": {},
  "kernelspec": {
   "display_name": "Python 3",
   "language": "python",
   "name": "python3"
  },
  "language_info": {
   "codemirror_mode": {
    "name": "ipython",
    "version": 3
   },
   "file_extension": ".py",
   "mimetype": "text/x-python",
   "name": "python",
   "nbconvert_exporter": "python",
   "pygments_lexer": "ipython3",
   "version": "3.7.4"
  }
 },
 "nbformat": 4,
 "nbformat_minor": 1
}
