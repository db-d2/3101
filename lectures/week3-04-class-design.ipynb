{
 "cells": [
  {
   "cell_type": "code",
   "execution_count": null,
   "metadata": {},
   "outputs": [],
   "source": [
    "str(sum)"
   ]
  },
  {
   "cell_type": "markdown",
   "metadata": {},
   "source": [
    "# Two ways to make new classes from existing ones\n",
    "- inheritance\n",
    "    - make new class definitions based on existing class \n",
    "    - promotes code reuse\n",
    "    - classes inherit from class 'object' by default\n",
    "- composition\n",
    "    - put objects inside other objects\n",
    "    \n",
    "# Example - car classes\n"
   ]
  },
  {
   "cell_type": "code",
   "execution_count": null,
   "metadata": {},
   "outputs": [],
   "source": [
    "# inheritance\n",
    "\n",
    "class Car\n",
    "    pass\n",
    "    \n",
    "class ElectricCar(Car):\n",
    "    pass\n",
    "\n",
    "class GasCar(Car):\n",
    "    pass\n",
    "\n",
    "class DieselCar(Car):\n",
    "    pass"
   ]
  },
  {
   "cell_type": "code",
   "execution_count": null,
   "metadata": {},
   "outputs": [],
   "source": [
    "# composition\n",
    "\n",
    "class ElectricEngine:\n",
    "    pass\n",
    "\n",
    "class GasEngine:\n",
    "    pass\n",
    "\n",
    "class DieselEngine:\n",
    "    pass\n",
    "\n",
    "class ElectricCar:\n",
    "    def __init__(self):\n",
    "        self.engine = ElectricEngine()\n",
    "\n",
    "class GasCar:\n",
    "    def __init__(self):\n",
    "        self.engine = GasEngine()\n",
    "\n",
    "class DieselCar:\n",
    "    def __init__(self):\n",
    "        self.engine = DieselEngine()"
   ]
  },
  {
   "cell_type": "code",
   "execution_count": null,
   "metadata": {},
   "outputs": [],
   "source": [
    "# these statements define the same class\n",
    "# just defines a type\n",
    "# main use for 'pass'\n",
    "\n",
    "class foo:\n",
    "    pass\n",
    "\n",
    "class foo(object):\n",
    "    pass"
   ]
  },
  {
   "cell_type": "code",
   "execution_count": null,
   "metadata": {},
   "outputs": [],
   "source": [
    "# can instantiate object, occasionally useful\n",
    "\n",
    "object()"
   ]
  },
  {
   "cell_type": "code",
   "execution_count": null,
   "metadata": {},
   "outputs": [],
   "source": [
    "dir(object())"
   ]
  },
  {
   "cell_type": "markdown",
   "metadata": {},
   "source": [
    "# Example - FlipDict\n",
    "- get all the functionality of 'dict', plus\n",
    "one extra method\n",
    "- courtesy of Daniel Bauer"
   ]
  },
  {
   "cell_type": "code",
   "execution_count": null,
   "metadata": {},
   "outputs": [],
   "source": [
    "# FlipDict inherits from dict, \n",
    "# plus has the additional 'flip' method\n",
    "\n",
    "class FlipDict(dict):\n",
    "    def flip(self):\n",
    "        res = {}\n",
    "        for k in self:\n",
    "            v = self[k]\n",
    "            if not v in res:\n",
    "                res[v] = set()\n",
    "            res[v].add(k)\n",
    "        return(res)\n"
   ]
  },
  {
   "cell_type": "code",
   "execution_count": null,
   "metadata": {},
   "outputs": [],
   "source": [
    "# dict constructor can take a list or tuple\n",
    "\n",
    "dt = [[1,'a'], [2, 'b'], [3, 'a']]\n",
    "\n",
    "dict(dt)\n"
   ]
  },
  {
   "cell_type": "code",
   "execution_count": null,
   "metadata": {},
   "outputs": [],
   "source": [
    "# FlipDict looks just like a dict...\n",
    "\n",
    "fd = FlipDict(dt)\n",
    "print(fd)\n",
    "print(fd[1])\n",
    "print(list(fd.keys()))"
   ]
  },
  {
   "cell_type": "code",
   "execution_count": null,
   "metadata": {},
   "outputs": [],
   "source": [
    "# ...but also has this extra method, which\n",
    "# reverses the keys and values\n",
    "\n",
    "fd.flip()"
   ]
  },
  {
   "cell_type": "markdown",
   "metadata": {},
   "source": [
    "# Point class"
   ]
  },
  {
   "cell_type": "code",
   "execution_count": null,
   "metadata": {},
   "outputs": [],
   "source": [
    "import math\n",
    "\n",
    "class Point:\n",
    "    def __init__(self, x=0, y=0):\n",
    "        # x,y - object attributes \n",
    "        # created by assignment\n",
    "        self.x = x\n",
    "        self.y = y\n",
    "        \n",
    "    def __repr__(self):\n",
    "        # control how object prints\n",
    "        return 'Point({}, {})'.format(self.x, self.y)\n",
    "\n",
    "    def copy(self):\n",
    "        '''copy this point'''\n",
    "        return Point(self.x, self.y)\n",
    "    \n",
    "    def add(self, p):\n",
    "        '''add self and arg, returning a new Point\n",
    "        (self is NOT modified)'''\n",
    "        return Point(self.x + p.x, \n",
    "                     self.y + p.y)\n",
    "    \n",
    "    def addTo(self, p):\n",
    "        '''add arg to self(self is modified)\n",
    "        return None, like list.sort'''\n",
    "        self.x += p.x\n",
    "        self.y += p.y\n",
    "    \n",
    "    def distanceFrom(self, p):\n",
    "        '''distance between self and arg\n",
    "        (self is not modified)'''\n",
    "        return math.sqrt( (self.x - p.x)**2 + \n",
    "                         (self.y - p.y)**2)"
   ]
  },
  {
   "cell_type": "code",
   "execution_count": null,
   "metadata": {},
   "outputs": [],
   "source": [
    "origin = Point(0,0)\n",
    "p34 = Point(3,4)\n",
    "p1010 = Point(10,10)\n",
    "\n",
    "p34, origin.distanceFrom(p34)"
   ]
  },
  {
   "cell_type": "code",
   "execution_count": null,
   "metadata": {},
   "outputs": [],
   "source": [
    "# a is a new Point\n",
    "# p1010 is unchanged\n",
    "\n",
    "a = p1010.add(p34)\n",
    "\n",
    "a, p1010, a is p1010, a is p34"
   ]
  },
  {
   "cell_type": "code",
   "execution_count": null,
   "metadata": {},
   "outputs": [],
   "source": [
    "a, p34"
   ]
  },
  {
   "cell_type": "code",
   "execution_count": null,
   "metadata": {},
   "outputs": [],
   "source": [
    "# a is modified\n",
    "# method returns none\n",
    "\n",
    "a.addTo(p34)\n",
    "a"
   ]
  },
  {
   "cell_type": "code",
   "execution_count": null,
   "metadata": {},
   "outputs": [],
   "source": [
    "# no '__str__' method defined on Point, so '__repr__' is used\n",
    "\n",
    "eval(str(p1010))"
   ]
  },
  {
   "cell_type": "markdown",
   "metadata": {},
   "source": [
    "# Polygon class\n",
    "- implicitly inherits from 'object'\n",
    "- Polygon is 'composed' of Point objects"
   ]
  },
  {
   "cell_type": "code",
   "execution_count": null,
   "metadata": {},
   "outputs": [],
   "source": [
    "class Polygon:\n",
    "    def __init__(self, pts):\n",
    "        # represent vertexes of polygon\n",
    "        # why all the copying?\n",
    "        self.pts = [pt.copy() for pt in pts]\n",
    "    \n",
    "    def __repr__(self):\n",
    "        # __str__ method will default to this - why?\n",
    "        return f'{ self.printname() } < {len(self.pts)} points>'\n",
    "    \n",
    "    def __len__(self):\n",
    "        # more syntactic sugar: len(obj) <=> obj.__len__()\n",
    "        return len(self.pts)\n",
    "\n",
    "    def printname(self):\n",
    "        return 'Polygon'\n",
    "                                      \n",
    "    def addTo(self, a):\n",
    "        for p in self.pts:\n",
    "            p.addTo(a)\n",
    "    \n",
    "    def printVerts(self):\n",
    "        for j, p in enumerate(self.pts):\n",
    "            print(j, p)\n"
   ]
  },
  {
   "cell_type": "code",
   "execution_count": null,
   "metadata": {},
   "outputs": [],
   "source": [
    "origin = Point(0,0)\n",
    "p1010 = Point(10, 10)\n",
    "p34 = Point(3,4)\n",
    "p78 = Point(7,8)\n",
    "\n",
    "pg = Polygon([origin, p1010, p34, p78])\n",
    "pg, len(pg), pg.__len__()"
   ]
  },
  {
   "cell_type": "code",
   "execution_count": null,
   "metadata": {},
   "outputs": [],
   "source": [
    "pg.printVerts()"
   ]
  },
  {
   "cell_type": "code",
   "execution_count": null,
   "metadata": {},
   "outputs": [],
   "source": [
    "# Modify the polygon, method returns None\n",
    "# p.addTo(at) => addTo(p, at)\n",
    "\n",
    "at = Point(10, 20)\n",
    "pg.addTo(at)"
   ]
  },
  {
   "cell_type": "code",
   "execution_count": null,
   "metadata": {},
   "outputs": [],
   "source": [
    "pg.printVerts()"
   ]
  },
  {
   "cell_type": "markdown",
   "metadata": {},
   "source": [
    "# class Triangle \n",
    "- inherits from Polygon"
   ]
  },
  {
   "cell_type": "code",
   "execution_count": null,
   "metadata": {},
   "outputs": [],
   "source": [
    "class Triangle(Polygon):\n",
    "    def __init__(self, p1, p2, p3):\n",
    "        # different init args\n",
    "        self.pts = [p1, p2, p3]\n",
    "\n",
    "    # overrides method on Polygon\n",
    "    def printname(self):\n",
    "        return 'Triangle'\n",
    "    \n",
    "    # overrides method on Polygon\n",
    "    # Polygon.__len__() method in this case would be fine, \n",
    "    # but suppose that was an expensive method \n",
    "    def __len__(self):\n",
    "        return 3\n",
    "\n",
    "t = Triangle(origin, p1010, p34)\n",
    "t"
   ]
  },
  {
   "cell_type": "code",
   "execution_count": null,
   "metadata": {},
   "outputs": [],
   "source": [
    "# runs the printname method on Triangle\n",
    "# 'overrides' the method on Polygon\n",
    "\n",
    "t.printname()"
   ]
  },
  {
   "cell_type": "code",
   "execution_count": null,
   "metadata": {},
   "outputs": [],
   "source": [
    "# inherits the printVerts method on Polygon\n",
    "# and runs that\n",
    "\n",
    "t.printVerts()"
   ]
  },
  {
   "cell_type": "code",
   "execution_count": null,
   "metadata": {},
   "outputs": [],
   "source": [
    "# also inherits addTo method from Polygon\n",
    "\n",
    "t.addTo(Point(100,200))\n",
    "t.printVerts()"
   ]
  },
  {
   "cell_type": "markdown",
   "metadata": {},
   "source": [
    "# Class Inheritance and Types\n",
    "\n",
    "- when a class inherits from a another class, it is making a more specialized version of the class it is inheriting from, so it is also the type of the types it inherits from\n"
   ]
  },
  {
   "cell_type": "code",
   "execution_count": null,
   "metadata": {},
   "outputs": [],
   "source": [
    "class Student:\n",
    "    pass\n",
    "\n",
    "class Undergraduate(Student):\n",
    "    pass\n",
    "\n",
    "class InternationalUndergraduate(Undergraduate):\n",
    "    pass\n",
    "\n",
    "s = Student()\n",
    "s2 = Student()\n",
    "u = Undergraduate()\n",
    "\n",
    "i = InternationalUndergraduate()\n",
    "\n",
    "[isinstance(i, InternationalUndergraduate),\n",
    "isinstance(i, Undergraduate),\n",
    "isinstance(i, Student),\n",
    "u == i,\n",
    " s == s2]\n"
   ]
  },
  {
   "cell_type": "markdown",
   "metadata": {},
   "source": [
    "# can follow inheritance chain via ```__bases__``` method"
   ]
  },
  {
   "cell_type": "code",
   "execution_count": null,
   "metadata": {},
   "outputs": [],
   "source": [
    "for c in [Student, Undergraduate, InternationalUndergraduate, object]:\n",
    "    print(c, c.__bases__)"
   ]
  },
  {
   "cell_type": "markdown",
   "metadata": {},
   "source": [
    "# Inheritance Schemes\n",
    "- previous examples used \"single inheritance\" - each class can only inherit from one class(single parent)\n",
    "- Python also supports \"multiple inheritance\", as does C++\n",
    "- Java has \"single inheritance\", plus interfaces\n",
    "- strongly recommend only using single inheritance\n",
    "    - multiple inheritance is often quite difficult to design correctly\n",
    "    - difficult to read multiple inheritance code\n",
    "- error system is an excellent example of single inheritance"
   ]
  }
 ],
 "metadata": {
  "anaconda-cloud": {},
  "kernelspec": {
   "display_name": "Python 3",
   "language": "python",
   "name": "python3"
  },
  "language_info": {
   "codemirror_mode": {
    "name": "ipython",
    "version": 3
   },
   "file_extension": ".py",
   "mimetype": "text/x-python",
   "name": "python",
   "nbconvert_exporter": "python",
   "pygments_lexer": "ipython3",
   "version": "3.7.4"
  }
 },
 "nbformat": 4,
 "nbformat_minor": 1
}
