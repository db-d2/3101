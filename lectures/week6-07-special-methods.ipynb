{
 "cells": [
  {
   "cell_type": "markdown",
   "metadata": {},
   "source": [
    "# Special Methods on 'Object'\n",
    "- methods of the form ```__...__```(dunder - double underscore) play special roles in implementing classes\n",
    "- the first argument of almost all dunder methods is 'self'\n",
    "- the class author defines these methods, but they are not normally called directly\n",
    "    - some of the methods are invoked by operators\n",
    "        - you can define what '+', '*', etc, means for an object you define\n",
    "        - C++ allows this, Java doesn't\n",
    "    - other methods are invoked by well known 'syntactic sugar' functions like 'len' and 'next'"
   ]
  },
  {
   "cell_type": "markdown",
   "metadata": {},
   "source": [
    "# Basic\n",
    "- ```__init__```  - called at object creation time. used to initialize object state\n",
    "- ```__len__```  - 'len' function will call this method\n",
    "- ```__bool__```  - 'bool' function will call this method\n",
    "- ```__str__, __repr__``` - controls how object prints\n",
    "- ```__contains__``` - used by 'in' operator\n",
    "- ```__call__``` - call an object like a function call"
   ]
  },
  {
   "cell_type": "code",
   "execution_count": 1,
   "metadata": {},
   "outputs": [],
   "source": [
    "class C:\n",
    "    def __init__(self, name):\n",
    "        self.name = name\n",
    "        \n",
    "    def __str__(self):\n",
    "        # 'friendly' string representation of object\n",
    "        return('str method: ' + self.name)\n",
    "    \n",
    "    def __repr__(self):\n",
    "        # 'detailed' string representation of object\n",
    "        return('repr method: ' + self.name)\n",
    "    \n",
    "    def __len__(self):\n",
    "        return len(self.name)\n",
    "    \n",
    "    def __bool__(self):\n",
    "        # long name => true\n",
    "        # short name => false\n",
    "        # odd predicate\n",
    "        return len(self.name) > 5\n",
    "    \n",
    "    def __call__(self, arg):\n",
    "        # call an object like a function\n",
    "        return arg + 10\n",
    "    \n",
    "    def __contains__(self, arg):\n",
    "        # 'in' operator\n",
    "        return arg in self.name"
   ]
  },
  {
   "cell_type": "code",
   "execution_count": 2,
   "metadata": {},
   "outputs": [
    {
     "data": {
      "text/plain": [
       "repr method: jack"
      ]
     },
     "execution_count": 2,
     "metadata": {},
     "output_type": "execute_result"
    }
   ],
   "source": [
    "c = C('jack')\n",
    "\n",
    "# top level uses __repr__\n",
    "c"
   ]
  },
  {
   "cell_type": "code",
   "execution_count": 3,
   "metadata": {},
   "outputs": [
    {
     "name": "stdout",
     "output_type": "stream",
     "text": [
      "str method: jack\n"
     ]
    }
   ],
   "source": [
    "# print uses __str__\n",
    "\n",
    "print(c)"
   ]
  },
  {
   "cell_type": "code",
   "execution_count": 4,
   "metadata": {},
   "outputs": [
    {
     "data": {
      "text/plain": [
       "True"
      ]
     },
     "execution_count": 4,
     "metadata": {},
     "output_type": "execute_result"
    }
   ],
   "source": [
    "# note - 'in' operator will \n",
    "# search for substrings\n",
    "\n",
    "'foo' in 'bazfoobar'"
   ]
  },
  {
   "cell_type": "code",
   "execution_count": 5,
   "metadata": {},
   "outputs": [
    {
     "data": {
      "text/plain": [
       "(True, False, True, False)"
      ]
     },
     "execution_count": 5,
     "metadata": {},
     "output_type": "execute_result"
    }
   ],
   "source": [
    "# calling __contains__\n",
    "\n",
    "'ack' in c, 'jill' in c, c.__contains__('ack'), c.__contains__('jill')"
   ]
  },
  {
   "cell_type": "code",
   "execution_count": 6,
   "metadata": {},
   "outputs": [
    {
     "data": {
      "text/plain": [
       "[False, True]"
      ]
     },
     "execution_count": 6,
     "metadata": {},
     "output_type": "execute_result"
    }
   ],
   "source": [
    "# calling __bool__\n",
    "\n",
    "[bool(C('jack')), bool(C('jackson'))]"
   ]
  },
  {
   "cell_type": "code",
   "execution_count": 7,
   "metadata": {},
   "outputs": [
    {
     "data": {
      "text/plain": [
       "7"
      ]
     },
     "execution_count": 7,
     "metadata": {},
     "output_type": "execute_result"
    }
   ],
   "source": [
    "# calling __len__\n",
    "\n",
    "len(C('jackson'))"
   ]
  },
  {
   "cell_type": "code",
   "execution_count": 8,
   "metadata": {},
   "outputs": [
    {
     "data": {
      "text/plain": [
       "44"
      ]
     },
     "execution_count": 8,
     "metadata": {},
     "output_type": "execute_result"
    }
   ],
   "source": [
    "# call an object like a function - used by decorators\n",
    "# calling __call__\n",
    "\n",
    "c = C('afd')\n",
    "c(34)"
   ]
  },
  {
   "cell_type": "code",
   "execution_count": 9,
   "metadata": {},
   "outputs": [
    {
     "name": "stdout",
     "output_type": "stream",
     "text": [
      "waiting\n",
      "running\n",
      "ready\n",
      "running\n",
      "running\n",
      "ready\n",
      "ready\n",
      "finished\n",
      "waiting\n",
      "waiting\n"
     ]
    }
   ],
   "source": [
    "# 'repr' and 'str' are just methods, so an object can print \n",
    "# differently at any time, depending on whatever\n",
    "# very common to display some kind of status summary for the object\n",
    "\n",
    "import random\n",
    "\n",
    "class C2:\n",
    "    def __repr__(self):\n",
    "        return(random.choice(['ready', 'waiting', 'running', 'finished']))\n",
    "c2 = C2()\n",
    "for j in range(10):\n",
    "    print(c2)"
   ]
  },
  {
   "cell_type": "markdown",
   "metadata": {},
   "source": [
    "# Iteration\n",
    "- ```__iter__``` - return an 'iterable' for this object\n",
    "    - 'iter' function calls this method\n",
    "- ```__next__``` - call on an iterable to get the next element in the sequence. raises 'StopIteration' error when sequence is exhausted\n",
    "    - 'next' function calls this method"
   ]
  },
  {
   "cell_type": "code",
   "execution_count": 10,
   "metadata": {},
   "outputs": [
    {
     "name": "stdout",
     "output_type": "stream",
     "text": [
      "<list_iterator object at 0x10f6fe910>\n",
      "32\n",
      "4\n"
     ]
    },
    {
     "ename": "StopIteration",
     "evalue": "",
     "output_type": "error",
     "traceback": [
      "\u001b[0;31m---------------------------------------------------------------------------\u001b[0m",
      "\u001b[0;31mStopIteration\u001b[0m                             Traceback (most recent call last)",
      "\u001b[0;32m<ipython-input-10-60a3c1c254b7>\u001b[0m in \u001b[0;36m<module>\u001b[0;34m\u001b[0m\n\u001b[1;32m      6\u001b[0m \u001b[0mprint\u001b[0m\u001b[0;34m(\u001b[0m\u001b[0mit\u001b[0m\u001b[0;34m.\u001b[0m\u001b[0m__next__\u001b[0m\u001b[0;34m(\u001b[0m\u001b[0;34m)\u001b[0m\u001b[0;34m)\u001b[0m\u001b[0;34m\u001b[0m\u001b[0;34m\u001b[0m\u001b[0m\n\u001b[1;32m      7\u001b[0m \u001b[0mprint\u001b[0m\u001b[0;34m(\u001b[0m\u001b[0mit\u001b[0m\u001b[0;34m.\u001b[0m\u001b[0m__next__\u001b[0m\u001b[0;34m(\u001b[0m\u001b[0;34m)\u001b[0m\u001b[0;34m)\u001b[0m\u001b[0;34m\u001b[0m\u001b[0;34m\u001b[0m\u001b[0m\n\u001b[0;32m----> 8\u001b[0;31m \u001b[0mit\u001b[0m\u001b[0;34m.\u001b[0m\u001b[0m__next__\u001b[0m\u001b[0;34m(\u001b[0m\u001b[0;34m)\u001b[0m\u001b[0;34m\u001b[0m\u001b[0;34m\u001b[0m\u001b[0m\n\u001b[0m",
      "\u001b[0;31mStopIteration\u001b[0m: "
     ]
    }
   ],
   "source": [
    "# using the actual methods...\n",
    "\n",
    "x = [32,4]\n",
    "it = x.__iter__()\n",
    "print(it)\n",
    "print(it.__next__())\n",
    "print(it.__next__())\n",
    "it.__next__()\n"
   ]
  },
  {
   "cell_type": "code",
   "execution_count": 11,
   "metadata": {},
   "outputs": [
    {
     "name": "stdout",
     "output_type": "stream",
     "text": [
      "<list_iterator object at 0x110806b10>\n",
      "32\n",
      "4\n"
     ]
    },
    {
     "ename": "StopIteration",
     "evalue": "",
     "output_type": "error",
     "traceback": [
      "\u001b[0;31m---------------------------------------------------------------------------\u001b[0m",
      "\u001b[0;31mStopIteration\u001b[0m                             Traceback (most recent call last)",
      "\u001b[0;32m<ipython-input-11-66876b84177a>\u001b[0m in \u001b[0;36m<module>\u001b[0;34m\u001b[0m\n\u001b[1;32m      8\u001b[0m \u001b[0mprint\u001b[0m\u001b[0;34m(\u001b[0m\u001b[0mnext\u001b[0m\u001b[0;34m(\u001b[0m\u001b[0mit\u001b[0m\u001b[0;34m)\u001b[0m\u001b[0;34m)\u001b[0m\u001b[0;34m\u001b[0m\u001b[0;34m\u001b[0m\u001b[0m\n\u001b[1;32m      9\u001b[0m \u001b[0mprint\u001b[0m\u001b[0;34m(\u001b[0m\u001b[0mnext\u001b[0m\u001b[0;34m(\u001b[0m\u001b[0mit\u001b[0m\u001b[0;34m)\u001b[0m\u001b[0;34m)\u001b[0m\u001b[0;34m\u001b[0m\u001b[0;34m\u001b[0m\u001b[0m\n\u001b[0;32m---> 10\u001b[0;31m \u001b[0mnext\u001b[0m\u001b[0;34m(\u001b[0m\u001b[0mit\u001b[0m\u001b[0;34m)\u001b[0m\u001b[0;34m\u001b[0m\u001b[0;34m\u001b[0m\u001b[0m\n\u001b[0m",
      "\u001b[0;31mStopIteration\u001b[0m: "
     ]
    }
   ],
   "source": [
    "# using the top level functions - \n",
    "# exact same thing, but nicer looking\n",
    "# \"syntactic sugar\"\n",
    "\n",
    "x = [32,4]\n",
    "it = iter(x)\n",
    "print(it)\n",
    "print(next(it))\n",
    "print(next(it))\n",
    "next(it)\n"
   ]
  },
  {
   "cell_type": "markdown",
   "metadata": {},
   "source": [
    "# Comparision\n",
    "- ```__lt__, __gt__, __le__, __ge__, __eq__, __ne__``` \n",
    "- tedious - many methods to define\n",
    "- easier way is to use functools.total_ordering - only need to define two\n",
    "- called by operators like '==' and '<'"
   ]
  },
  {
   "cell_type": "code",
   "execution_count": 12,
   "metadata": {},
   "outputs": [],
   "source": [
    "from functools import total_ordering\n",
    "\n",
    "# total_ordering is a 'decorator'\n",
    "# it will 'write' the other four \n",
    "# predicates 'by magic'\n",
    "\n",
    "@total_ordering\n",
    "class Student:\n",
    "    def __init__(self, first, last):\n",
    "        # don't let case confuse sort\n",
    "        self.firstname = first.lower()\n",
    "        self.lastname = last.lower()\n",
    "        \n",
    "    def __eq__(self, other):\n",
    "        return ((self.lastname, self.firstname) ==\n",
    "                (other.lastname, other.firstname))\n",
    "    \n",
    "    def __lt__(self, other):\n",
    "        return ((self.lastname, self.firstname) <\n",
    "                (other.lastname, other.firstname))\n",
    "\n",
    "s1 = Student('joe', 'college')\n",
    "s2 = Student('jack', 'junior')"
   ]
  },
  {
   "cell_type": "code",
   "execution_count": 13,
   "metadata": {},
   "outputs": [
    {
     "data": {
      "text/plain": [
       "False"
      ]
     },
     "execution_count": 13,
     "metadata": {},
     "output_type": "execute_result"
    }
   ],
   "source": [
    "s1 is s2"
   ]
  },
  {
   "cell_type": "code",
   "execution_count": 14,
   "metadata": {},
   "outputs": [
    {
     "data": {
      "text/plain": [
       "True"
      ]
     },
     "execution_count": 14,
     "metadata": {},
     "output_type": "execute_result"
    }
   ],
   "source": [
    "s1 == s1"
   ]
  },
  {
   "cell_type": "code",
   "execution_count": 15,
   "metadata": {},
   "outputs": [
    {
     "data": {
      "text/plain": [
       "False"
      ]
     },
     "execution_count": 15,
     "metadata": {},
     "output_type": "execute_result"
    }
   ],
   "source": [
    "s1 == s2"
   ]
  },
  {
   "cell_type": "code",
   "execution_count": 16,
   "metadata": {},
   "outputs": [
    {
     "data": {
      "text/plain": [
       "True"
      ]
     },
     "execution_count": 16,
     "metadata": {},
     "output_type": "execute_result"
    }
   ],
   "source": [
    "s1 < s2"
   ]
  },
  {
   "cell_type": "code",
   "execution_count": 17,
   "metadata": {},
   "outputs": [
    {
     "data": {
      "text/plain": [
       "False"
      ]
     },
     "execution_count": 17,
     "metadata": {},
     "output_type": "execute_result"
    }
   ],
   "source": [
    "s1 > s2"
   ]
  },
  {
   "cell_type": "markdown",
   "metadata": {},
   "source": [
    "# Hashing\n",
    "- ```__hash__``` - should only be defined for immutable objects. the hash of a mutable object could change, making it a bogus key\n",
    "- can turn it off this way\n",
    "\n",
    "```\n",
    "class foo:\n",
    "    __hash__ = None\n",
    "...\n",
    "```"
   ]
  },
  {
   "cell_type": "code",
   "execution_count": 18,
   "metadata": {},
   "outputs": [
    {
     "data": {
      "text/plain": [
       "6286453890542210990"
      ]
     },
     "execution_count": 18,
     "metadata": {},
     "output_type": "execute_result"
    }
   ],
   "source": [
    "# calls __hash__\n",
    "\n",
    "s = 'asdfadsfdsf'\n",
    "hash(s)"
   ]
  },
  {
   "cell_type": "code",
   "execution_count": 19,
   "metadata": {},
   "outputs": [
    {
     "name": "stdout",
     "output_type": "stream",
     "text": [
      "None\n",
      "None\n"
     ]
    },
    {
     "data": {
      "text/plain": [
       "(None, None)"
      ]
     },
     "execution_count": 19,
     "metadata": {},
     "output_type": "execute_result"
    }
   ],
   "source": [
    "# __hash__ method for list and dict is None, so they can'be dick keys\n",
    "\n",
    "print({}.__hash__), print([].__hash__)"
   ]
  },
  {
   "cell_type": "markdown",
   "metadata": {},
   "source": [
    "# collection element access and slices \n",
    "- ```__getitem__``` - get element or slice\n",
    "- ```__setitem__``` - set element or slice"
   ]
  },
  {
   "cell_type": "code",
   "execution_count": 20,
   "metadata": {},
   "outputs": [],
   "source": [
    "    def __getitem__(self, index):\n",
    "        # do different things depending on type of 'index'\n",
    "        if isinstance(index, int):\n",
    "            # if asked for a single term, p[n], index will\n",
    "            # be an int\n",
    "            pass\n",
    "        if isinstance(index, slice):\n",
    "            # if asked for a slice, p[n:m], index will be\n",
    "            # a 'slice' object\n",
    "            pass\n",
    "        pass"
   ]
  },
  {
   "cell_type": "markdown",
   "metadata": {
    "collapsed": true
   },
   "source": [
    "# Managed attributes\n",
    "- sometimes you want to run code when a object attribute is accessed or set\n",
    "- one way to do this is with decorators\n",
    "- advanced technique"
   ]
  },
  {
   "cell_type": "code",
   "execution_count": 21,
   "metadata": {},
   "outputs": [],
   "source": [
    "import random\n",
    "\n",
    "# inherit from object\n",
    "class RandomService:\n",
    "    def __init__(self):\n",
    "        self.counter = 0 \n",
    "        \n",
    "    @property\n",
    "    #  this runs on a \"get\"\n",
    "    # inc counter, rtn random\n",
    "    def ran(self):\n",
    "        self.counter += 1\n",
    "        return(random.random())\n",
    "    \n",
    "    @ran.setter\n",
    "    # this runs on a \"set\"\n",
    "    # set seed, reset counter\n",
    "    def ran(self, val):\n",
    "        self.counter = 0\n",
    "        if not isinstance(val, float):\n",
    "            raise TypeError('Expected a float')\n",
    "        random.seed(val)\n",
    "    \n",
    "rs = RandomService()"
   ]
  },
  {
   "cell_type": "code",
   "execution_count": 22,
   "metadata": {},
   "outputs": [
    {
     "data": {
      "text/plain": [
       "[0.020673168648453366,\n",
       " 0.23989751101707146,\n",
       " 0.1739770930976693,\n",
       " 0.41226341281046286,\n",
       " 0.915222333700243]"
      ]
     },
     "execution_count": 22,
     "metadata": {},
     "output_type": "execute_result"
    }
   ],
   "source": [
    "[rs.ran for j in range(5)]"
   ]
  },
  {
   "cell_type": "code",
   "execution_count": 23,
   "metadata": {},
   "outputs": [
    {
     "data": {
      "text/plain": [
       "5"
      ]
     },
     "execution_count": 23,
     "metadata": {},
     "output_type": "execute_result"
    }
   ],
   "source": [
    "# counter recorded 5 invocations\n",
    "\n",
    "rs.counter"
   ]
  },
  {
   "cell_type": "code",
   "execution_count": 24,
   "metadata": {},
   "outputs": [
    {
     "ename": "TypeError",
     "evalue": "Expected a float",
     "output_type": "error",
     "traceback": [
      "\u001b[0;31m---------------------------------------------------------------------------\u001b[0m",
      "\u001b[0;31mTypeError\u001b[0m                                 Traceback (most recent call last)",
      "\u001b[0;32m<ipython-input-24-1e7a991329d2>\u001b[0m in \u001b[0;36m<module>\u001b[0;34m\u001b[0m\n\u001b[1;32m      1\u001b[0m \u001b[0;31m# wants a float\u001b[0m\u001b[0;34m\u001b[0m\u001b[0;34m\u001b[0m\u001b[0;34m\u001b[0m\u001b[0m\n\u001b[0;32m----> 2\u001b[0;31m \u001b[0mrs\u001b[0m\u001b[0;34m.\u001b[0m\u001b[0mran\u001b[0m \u001b[0;34m=\u001b[0m \u001b[0;34m'asfd'\u001b[0m\u001b[0;34m\u001b[0m\u001b[0;34m\u001b[0m\u001b[0m\n\u001b[0m",
      "\u001b[0;32m<ipython-input-21-fa82363afa5b>\u001b[0m in \u001b[0;36mran\u001b[0;34m(self, val)\u001b[0m\n\u001b[1;32m     19\u001b[0m         \u001b[0mself\u001b[0m\u001b[0;34m.\u001b[0m\u001b[0mcounter\u001b[0m \u001b[0;34m=\u001b[0m \u001b[0;36m0\u001b[0m\u001b[0;34m\u001b[0m\u001b[0;34m\u001b[0m\u001b[0m\n\u001b[1;32m     20\u001b[0m         \u001b[0;32mif\u001b[0m \u001b[0;32mnot\u001b[0m \u001b[0misinstance\u001b[0m\u001b[0;34m(\u001b[0m\u001b[0mval\u001b[0m\u001b[0;34m,\u001b[0m \u001b[0mfloat\u001b[0m\u001b[0;34m)\u001b[0m\u001b[0;34m:\u001b[0m\u001b[0;34m\u001b[0m\u001b[0;34m\u001b[0m\u001b[0m\n\u001b[0;32m---> 21\u001b[0;31m             \u001b[0;32mraise\u001b[0m \u001b[0mTypeError\u001b[0m\u001b[0;34m(\u001b[0m\u001b[0;34m'Expected a float'\u001b[0m\u001b[0;34m)\u001b[0m\u001b[0;34m\u001b[0m\u001b[0;34m\u001b[0m\u001b[0m\n\u001b[0m\u001b[1;32m     22\u001b[0m         \u001b[0mrandom\u001b[0m\u001b[0;34m.\u001b[0m\u001b[0mseed\u001b[0m\u001b[0;34m(\u001b[0m\u001b[0mval\u001b[0m\u001b[0;34m)\u001b[0m\u001b[0;34m\u001b[0m\u001b[0;34m\u001b[0m\u001b[0m\n\u001b[1;32m     23\u001b[0m \u001b[0;34m\u001b[0m\u001b[0m\n",
      "\u001b[0;31mTypeError\u001b[0m: Expected a float"
     ]
    }
   ],
   "source": [
    "# wants a float\n",
    "rs.ran = 'asfd'"
   ]
  },
  {
   "cell_type": "code",
   "execution_count": 25,
   "metadata": {},
   "outputs": [
    {
     "data": {
      "text/plain": [
       "0"
      ]
     },
     "execution_count": 25,
     "metadata": {},
     "output_type": "execute_result"
    }
   ],
   "source": [
    "# set seed, reset counter\n",
    "\n",
    "rs.ran = 1.0\n",
    "rs.counter"
   ]
  },
  {
   "cell_type": "code",
   "execution_count": 26,
   "metadata": {},
   "outputs": [
    {
     "data": {
      "text/plain": [
       "[0.13436424411240122,\n",
       " 0.8474337369372327,\n",
       " 0.763774618976614,\n",
       " 0.2550690257394217,\n",
       " 0.49543508709194095]"
      ]
     },
     "execution_count": 26,
     "metadata": {},
     "output_type": "execute_result"
    }
   ],
   "source": [
    "[rs.ran for j in range(5)]"
   ]
  },
  {
   "cell_type": "code",
   "execution_count": 27,
   "metadata": {},
   "outputs": [
    {
     "data": {
      "text/plain": [
       "[0.13436424411240122,\n",
       " 0.8474337369372327,\n",
       " 0.763774618976614,\n",
       " 0.2550690257394217,\n",
       " 0.49543508709194095]"
      ]
     },
     "execution_count": 27,
     "metadata": {},
     "output_type": "execute_result"
    }
   ],
   "source": [
    "# reset seed, same random numbers\n",
    "\n",
    "rs.ran = 1.0\n",
    "[rs.ran for j in range(5)]"
   ]
  },
  {
   "cell_type": "code",
   "execution_count": null,
   "metadata": {},
   "outputs": [],
   "source": []
  }
 ],
 "metadata": {
  "anaconda-cloud": {},
  "kernelspec": {
   "display_name": "Python 3",
   "language": "python",
   "name": "python3"
  },
  "language_info": {
   "codemirror_mode": {
    "name": "ipython",
    "version": 3
   },
   "file_extension": ".py",
   "mimetype": "text/x-python",
   "name": "python",
   "nbconvert_exporter": "python",
   "pygments_lexer": "ipython3",
   "version": "3.7.4"
  }
 },
 "nbformat": 4,
 "nbformat_minor": 1
}
