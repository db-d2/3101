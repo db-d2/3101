{
 "cells": [
  {
   "cell_type": "markdown",
   "metadata": {},
   "source": [
    "# Example - given the vertex positions compute the area of a triangle"
   ]
  },
  {
   "cell_type": "markdown",
   "metadata": {},
   "source": [
    "# first method \n",
    "- one variable per number"
   ]
  },
  {
   "cell_type": "code",
   "execution_count": null,
   "metadata": {},
   "outputs": [],
   "source": [
    "import math\n",
    "\n",
    "def euclid(x1, y1, x2, y2):\n",
    "    return math.sqrt( (x1-x2)**2 + (y1-y2)**2 )"
   ]
  },
  {
   "cell_type": "code",
   "execution_count": null,
   "metadata": {},
   "outputs": [],
   "source": [
    "euclid(0, 0, 3, 4)"
   ]
  },
  {
   "cell_type": "code",
   "execution_count": null,
   "metadata": {},
   "outputs": [],
   "source": [
    "def area(x1, y1, x2, y2, x3, y3):\n",
    "    a = euclid(x1, y1, x2, y2)\n",
    "    b = euclid(x1, y1, x3, y3)\n",
    "    c = euclid(x2, y2, x3, y3)\n",
    "    s = (a+b+c)/2\n",
    "    return math.sqrt(s*(s-a)*(s-b)*(s-c))\n",
    "\n",
    "area(0, 0, 3, 0, 3, 4)"
   ]
  },
  {
   "cell_type": "markdown",
   "metadata": {},
   "source": [
    "# 2nd method \n",
    "- use a two element list to represent a point\n",
    "    - [x,y]"
   ]
  },
  {
   "cell_type": "code",
   "execution_count": null,
   "metadata": {},
   "outputs": [],
   "source": [
    "def euclid2(pt1, pt2):\n",
    "        # must unpack\n",
    "        p1x, p1y = pt1\n",
    "        p2x, p2y = pt2\n",
    "        return math.sqrt( (p1x - p2x )**2 + (p2y-p1y)**2 )\n",
    "    \n",
    "p1 = [0,0]\n",
    "p2 = [3,4]\n",
    "euclid2(p1,p2)"
   ]
  },
  {
   "cell_type": "code",
   "execution_count": null,
   "metadata": {},
   "outputs": [],
   "source": [
    "def area(pts):\n",
    "    pt1,pt2,pt3 = pts\n",
    "    a = euclid2(pt1, pt2)\n",
    "    b = euclid2(pt1, pt3)\n",
    "    c = euclid2(pt2, pt3)\n",
    "    s = (a+b+c)/2\n",
    "    return math.sqrt(s*(s-a)*(s-b)*(s-c))\n",
    "\n",
    "tri = [[0,0], [3,0], [3,4]]\n",
    "\n",
    "area(tri)"
   ]
  },
  {
   "cell_type": "markdown",
   "metadata": {},
   "source": [
    "# 3rd method \n",
    "- use numpy"
   ]
  },
  {
   "cell_type": "code",
   "execution_count": null,
   "metadata": {},
   "outputs": [],
   "source": [
    "import numpy as np\n",
    "\n",
    "pt1, pt2, pt3, pt4  = [np.array(p) for p in \n",
    "                       [[0,0], [3,0], [3,4], [2,3]]]\n",
    "\n",
    "pt3,pt4"
   ]
  },
  {
   "cell_type": "markdown",
   "metadata": {},
   "source": [
    "[np.power](https://docs.scipy.org/doc/numpy-1.15.1/reference/generated/numpy.power.html)"
   ]
  },
  {
   "cell_type": "code",
   "execution_count": null,
   "metadata": {},
   "outputs": [],
   "source": [
    "np.power(pt3, pt4)"
   ]
  },
  {
   "cell_type": "code",
   "execution_count": null,
   "metadata": {},
   "outputs": [],
   "source": [
    "# np.power with exponent broadcasting\n",
    "\n",
    "np.power(pt3, 2)"
   ]
  },
  {
   "cell_type": "code",
   "execution_count": null,
   "metadata": {},
   "outputs": [],
   "source": [
    "def euclid3(pt1, pt2):\n",
    "    # no unpacking!\n",
    "    return np.sqrt(np.power(pt2 - pt1, 2).sum())\n",
    "    \n",
    "euclid3(pt1, pt3)"
   ]
  },
  {
   "cell_type": "code",
   "execution_count": null,
   "metadata": {},
   "outputs": [],
   "source": [
    "def area3(pt1, pt2, pt3):\n",
    "    a = euclid3(pt1, pt2)\n",
    "    b = euclid3(pt1, pt3)\n",
    "    c = euclid3(pt2, pt3)\n",
    "    s = (a+b+c)/2\n",
    "    return np.sqrt(s*(s-a)*(s-b)*(s-c))\n",
    "\n",
    "area3(pt1, pt2, pt3)"
   ]
  }
 ],
 "metadata": {
  "kernelspec": {
   "display_name": "Python 3",
   "language": "python",
   "name": "python3"
  },
  "language_info": {
   "codemirror_mode": {
    "name": "ipython",
    "version": 3
   },
   "file_extension": ".py",
   "mimetype": "text/x-python",
   "name": "python",
   "nbconvert_exporter": "python",
   "pygments_lexer": "ipython3",
   "version": "3.7.4"
  }
 },
 "nbformat": 4,
 "nbformat_minor": 2
}
