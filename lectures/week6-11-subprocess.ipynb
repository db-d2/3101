{
 "cells": [
  {
   "cell_type": "markdown",
   "metadata": {},
   "source": [
    "# subprocess module\n",
    "- 'run' method executes external programm\n",
    "- also known as an 'exec'\n",
    "- often very useful\n",
    "- [doc](https://docs.python.org/3.5/library/subprocess.html)"
   ]
  },
  {
   "cell_type": "code",
   "execution_count": 1,
   "metadata": {},
   "outputs": [
    {
     "data": {
      "text/plain": [
       "CompletedProcess(args=['say', \"\\nmost people don't know macs have \\na text to speech system built in. Did you?\"], returncode=0)"
      ]
     },
     "execution_count": 1,
     "metadata": {},
     "output_type": "execute_result"
    }
   ],
   "source": [
    "# run() will hang until subprocess finishes\n",
    "# returns a 'CompletedProcess' object, \n",
    "# which has info about the subprocess execution,\n",
    "# including the exit code(which we set in scripts with sys.exit())\n",
    "\n",
    "# 'say' works on a mac\n",
    "\n",
    "import subprocess\n",
    "\n",
    "speech = '''\n",
    "most people don't know macs have \n",
    "a text to speech system built in. Did you?'''\n",
    "\n",
    "subprocess.run(['say', speech])\n"
   ]
  },
  {
   "cell_type": "code",
   "execution_count": 2,
   "metadata": {},
   "outputs": [
    {
     "data": {
      "text/plain": [
       "(PosixPath('/var/folders/2z/vj69b89s1xxfb51stm_z4fnr0000gr/T/tmpw9wd1qkk'),\n",
       " False)"
      ]
     },
     "execution_count": 2,
     "metadata": {},
     "output_type": "execute_result"
    }
   ],
   "source": [
    "# simplest form - just run a command\n",
    "# touch will create an empty file if none exits,\n",
    "# or change the last access date of an existing file\n",
    "# exit code (0 is happy) is returned\n",
    "\n",
    "from pathlib import Path\n",
    "import tempfile\n",
    "\n",
    "path = Path(tempfile.NamedTemporaryFile().name)\n",
    "\n",
    "path, path.exists()"
   ]
  },
  {
   "cell_type": "code",
   "execution_count": 3,
   "metadata": {},
   "outputs": [
    {
     "data": {
      "text/plain": [
       "CompletedProcess(args=['touch', PosixPath('/var/folders/2z/vj69b89s1xxfb51stm_z4fnr0000gr/T/tmpw9wd1qkk')], returncode=0)"
      ]
     },
     "execution_count": 3,
     "metadata": {},
     "output_type": "execute_result"
    }
   ],
   "source": [
    "subprocess.run(['touch', path])"
   ]
  },
  {
   "cell_type": "code",
   "execution_count": 4,
   "metadata": {},
   "outputs": [
    {
     "data": {
      "text/plain": [
       "True"
      ]
     },
     "execution_count": 4,
     "metadata": {},
     "output_type": "execute_result"
    }
   ],
   "source": [
    "# check for file\n",
    "\n",
    "path.exists()"
   ]
  },
  {
   "cell_type": "code",
   "execution_count": 5,
   "metadata": {},
   "outputs": [
    {
     "data": {
      "text/plain": [
       "[b'Applications',\n",
       " b'Library',\n",
       " b'Network',\n",
       " b'Quarantine',\n",
       " b'System',\n",
       " b'Users',\n",
       " b'Volumes',\n",
       " b'bin',\n",
       " b'cores',\n",
       " b'dev',\n",
       " b'etc',\n",
       " b'home',\n",
       " b'installer.failurerequests',\n",
       " b'net',\n",
       " b'opt',\n",
       " b'private',\n",
       " b'sbin',\n",
       " b'tmp',\n",
       " b'usr',\n",
       " b'var',\n",
       " b'']"
      ]
     },
     "execution_count": 5,
     "metadata": {},
     "output_type": "execute_result"
    }
   ],
   "source": [
    "# can grab the standard output from the command\n",
    "# can pick up stderr as well\n",
    "# note - stdout/stderr output is a 'bytes' array\n",
    "\n",
    "cp=subprocess.run(['/bin/ls', '/'], \n",
    "                  stdout=subprocess.PIPE)\n",
    "cp.stdout.split(b'\\n')"
   ]
  },
  {
   "cell_type": "code",
   "execution_count": 6,
   "metadata": {},
   "outputs": [
    {
     "data": {
      "text/plain": [
       "'Applications\\nLibrary\\nNetwork\\nQuarantine\\nSystem\\nUsers\\nVolumes\\nbin\\ncores\\ndev\\netc\\nhome\\ninstaller.failurerequests\\nnet\\nopt\\nprivate\\nsbin\\ntmp\\nusr\\nvar\\n'"
      ]
     },
     "execution_count": 6,
     "metadata": {},
     "output_type": "execute_result"
    }
   ],
   "source": [
    "# with universal_newlines=True,\n",
    "# this call returns a string\n",
    "\n",
    "cp=subprocess.run(['/bin/ls', '/'], \n",
    "                  stdout=subprocess.PIPE, \n",
    "                  universal_newlines=True)\n",
    "cp.stdout"
   ]
  },
  {
   "cell_type": "code",
   "execution_count": 7,
   "metadata": {},
   "outputs": [
    {
     "data": {
      "text/plain": [
       "['Applications',\n",
       " 'Library',\n",
       " 'Network',\n",
       " 'Quarantine',\n",
       " 'System',\n",
       " 'Users',\n",
       " 'Volumes',\n",
       " 'bin',\n",
       " 'cores',\n",
       " 'dev',\n",
       " 'etc',\n",
       " 'home',\n",
       " 'installer.failurerequests',\n",
       " 'net',\n",
       " 'opt',\n",
       " 'private',\n",
       " 'sbin',\n",
       " 'tmp',\n",
       " 'usr',\n",
       " 'var',\n",
       " '']"
      ]
     },
     "execution_count": 7,
     "metadata": {},
     "output_type": "execute_result"
    }
   ],
   "source": [
    "cp.stdout.split('\\n')"
   ]
  },
  {
   "cell_type": "code",
   "execution_count": 8,
   "metadata": {},
   "outputs": [
    {
     "data": {
      "text/plain": [
       "b'when in the course of animal events\\n'"
      ]
     },
     "execution_count": 8,
     "metadata": {},
     "output_type": "execute_result"
    }
   ],
   "source": [
    "# with universal_newlines false, input/output is binary\n",
    "# note input is a byte array\n",
    "\n",
    "cp=subprocess.run([\"sed\", \"-e\", \"s/human/animal/\"],\n",
    "                         stdout=subprocess.PIPE, \\\n",
    "    input=b\"when in the course of human events\\n\")\n",
    "\n",
    "cp.stdout\n"
   ]
  },
  {
   "cell_type": "code",
   "execution_count": null,
   "metadata": {},
   "outputs": [],
   "source": [
    "# run under a shell - can do pipes, redirects\n",
    "\n",
    "cp=subprocess.run(['echo one two three|wc'],  \n",
    "                        stdout=subprocess.PIPE,\n",
    "                        shell=True, \n",
    "                  universal_newlines=True)\n",
    "cp.stdout"
   ]
  },
  {
   "cell_type": "markdown",
   "metadata": {},
   "source": [
    "- linux/mac has a command line [topological sort](http://en.wikipedia.org/wiki/Tsort)\n",
    "- reads constraints from standard input\n",
    "- writes solution to standard output"
   ]
  },
  {
   "cell_type": "code",
   "execution_count": null,
   "metadata": {},
   "outputs": [],
   "source": [
    "# supply stdin, and read stdout\n",
    "# 3 comes before 8, 3 before 10, ...\n",
    "\n",
    "pairs = [[3, 8], [3, 10], [5, 11], [7, 8], \\\n",
    "         [7, 11], [8, 9], [11, 2], [11, 9], [11, 10]]\n",
    "input = ''.join( [ f'{l} {r} ' for l, r in pairs ])\n",
    "\n",
    "input"
   ]
  },
  {
   "cell_type": "code",
   "execution_count": null,
   "metadata": {},
   "outputs": [],
   "source": [
    "cp=subprocess.run(['tsort'], input=input, \n",
    "                            stdout=subprocess.PIPE,\n",
    "                            universal_newlines=True)\n",
    "cp.stdout.split(), cp.returncode"
   ]
  },
  {
   "cell_type": "code",
   "execution_count": null,
   "metadata": {},
   "outputs": [],
   "source": [
    "# bad call to tsort - get a nonzero return call\n",
    "\n",
    "cp=subprocess.run(['tsort'], input='bad', \n",
    "                            stdout=subprocess.PIPE,\n",
    "                            universal_newlines=True)\n",
    "cp.returncode"
   ]
  }
 ],
 "metadata": {
  "anaconda-cloud": {},
  "kernelspec": {
   "display_name": "Python 3",
   "language": "python",
   "name": "python3"
  },
  "language_info": {
   "codemirror_mode": {
    "name": "ipython",
    "version": 3
   },
   "file_extension": ".py",
   "mimetype": "text/x-python",
   "name": "python",
   "nbconvert_exporter": "python",
   "pygments_lexer": "ipython3",
   "version": "3.7.4"
  }
 },
 "nbformat": 4,
 "nbformat_minor": 1
}
