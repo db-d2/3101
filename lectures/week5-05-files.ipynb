{
 "cells": [
  {
   "cell_type": "markdown",
   "metadata": {},
   "source": [
    "# Files"
   ]
  },
  {
   "cell_type": "markdown",
   "metadata": {},
   "source": [
    "# os module\n",
    "- many low level operating system operations, including file status and manipulation\n",
    "- [doc](https://docs.python.org/3/library/os.html#module-os)"
   ]
  },
  {
   "cell_type": "markdown",
   "metadata": {},
   "source": [
    "# tempfile module\n",
    "- will create a valid unique temporary pathname on any OS\n",
    "- [doc](https://docs.python.org/3/library/tempfile.html)\n",
    "- does NOT create a file"
   ]
  },
  {
   "cell_type": "code",
   "execution_count": 1,
   "metadata": {},
   "outputs": [
    {
     "data": {
      "text/plain": [
       "(PosixPath('/var/folders/2z/vj69b89s1xxfb51stm_z4fnr0000gr/T/tmpv3_2gr5b'),\n",
       " PosixPath('/var/folders/2z/vj69b89s1xxfb51stm_z4fnr0000gr/T/tmp60sualdu'),\n",
       " False,\n",
       " False,\n",
       " PosixPath('/Users/dbenson30/opt/anaconda3'))"
      ]
     },
     "execution_count": 1,
     "metadata": {},
     "output_type": "execute_result"
    }
   ],
   "source": [
    "import sys\n",
    "import os\n",
    "import tempfile\n",
    "from pathlib import Path\n",
    "\n",
    "anaconda = Path('~/opt/anaconda3') if sys.platform == 'darwin' else Path('~/anaconda3')\n",
    "anaconda = anaconda.expanduser()\n",
    "\n",
    "tp = Path(tempfile.NamedTemporaryFile().name)\n",
    "tp2 = Path(tempfile.NamedTemporaryFile().name)\n",
    "\n",
    "# os.path.exists(path) - True if file path exists\n",
    "\n",
    "tp, tp2, tp.exists(), tp.exists(), anaconda"
   ]
  },
  {
   "cell_type": "markdown",
   "metadata": {},
   "source": [
    "# Getting file status"
   ]
  },
  {
   "cell_type": "code",
   "execution_count": 2,
   "metadata": {},
   "outputs": [
    {
     "data": {
      "text/plain": [
       "[True, True, True, False]"
      ]
     },
     "execution_count": 2,
     "metadata": {},
     "output_type": "execute_result"
    }
   ],
   "source": [
    "# os.path.exists and os.access reports \n",
    "# file status without throwning errors\n",
    "# os.stat throws an error if the path doesn't exist. \n",
    "\n",
    "# this is similar to linux 'touch' command - \n",
    "# make an empty file\n",
    "\n",
    "tp.touch()\n",
    "\n",
    "# get info about file\n",
    "\n",
    "def ac(p):\n",
    "    # can check exists, readable, writeable, executable\n",
    "    return([ os.access(p, m) \\\n",
    "    for m in [os.F_OK, os.R_OK, os.W_OK, os.X_OK] ])\n",
    "\n",
    "ac(tp)\n"
   ]
  },
  {
   "cell_type": "code",
   "execution_count": 3,
   "metadata": {},
   "outputs": [
    {
     "data": {
      "text/plain": [
       "os.stat_result(st_mode=33188, st_ino=9365791, st_dev=16777220, st_nlink=1, st_uid=504, st_gid=20, st_size=0, st_atime=1583266699, st_mtime=1583266699, st_ctime=1583266699)"
      ]
     },
     "execution_count": 3,
     "metadata": {},
     "output_type": "execute_result"
    }
   ],
   "source": [
    "# gets several pieces of info in one call\n",
    "# returns a named tuple\n",
    "\n",
    "sr = os.stat(tp)\n",
    "sr"
   ]
  },
  {
   "cell_type": "code",
   "execution_count": 4,
   "metadata": {},
   "outputs": [
    {
     "data": {
      "text/plain": [
       "(33188, 1583266699.7943497)"
      ]
     },
     "execution_count": 4,
     "metadata": {},
     "output_type": "execute_result"
    }
   ],
   "source": [
    "# get attributes\n",
    "\n",
    "sr.st_mode, sr.st_atime"
   ]
  },
  {
   "cell_type": "code",
   "execution_count": 5,
   "metadata": {},
   "outputs": [
    {
     "data": {
      "text/plain": [
       "(True, False)"
      ]
     },
     "execution_count": 5,
     "metadata": {},
     "output_type": "execute_result"
    }
   ],
   "source": [
    "# does a path refer to a file or a directory?\n",
    "\n",
    "tp.is_file(), tp.is_dir()"
   ]
  },
  {
   "cell_type": "code",
   "execution_count": 6,
   "metadata": {},
   "outputs": [
    {
     "data": {
      "text/plain": [
       "[False, False, False, False]"
      ]
     },
     "execution_count": 6,
     "metadata": {},
     "output_type": "execute_result"
    }
   ],
   "source": [
    "# removes a file, but raises error if it doesn't exist\n",
    "\n",
    "tp.unlink()\n",
    "ac(tp)"
   ]
  },
  {
   "cell_type": "code",
   "execution_count": 7,
   "metadata": {},
   "outputs": [
    {
     "data": {
      "text/plain": [
       "False"
      ]
     },
     "execution_count": 7,
     "metadata": {},
     "output_type": "execute_result"
    }
   ],
   "source": [
    "# file is gone\n",
    "\n",
    "tp.exists()"
   ]
  },
  {
   "cell_type": "code",
   "execution_count": 8,
   "metadata": {},
   "outputs": [
    {
     "ename": "FileNotFoundError",
     "evalue": "[Errno 2] No such file or directory: '/var/folders/2z/vj69b89s1xxfb51stm_z4fnr0000gr/T/tmpv3_2gr5b'",
     "output_type": "error",
     "traceback": [
      "\u001b[0;31m---------------------------------------------------------------------------\u001b[0m",
      "\u001b[0;31mFileNotFoundError\u001b[0m                         Traceback (most recent call last)",
      "\u001b[0;32m<ipython-input-8-cd3c8ea847cc>\u001b[0m in \u001b[0;36m<module>\u001b[0;34m\u001b[0m\n\u001b[1;32m      1\u001b[0m \u001b[0;31m# stat raises an error if the file doesn't exist\u001b[0m\u001b[0;34m\u001b[0m\u001b[0;34m\u001b[0m\u001b[0;34m\u001b[0m\u001b[0m\n\u001b[1;32m      2\u001b[0m \u001b[0;34m\u001b[0m\u001b[0m\n\u001b[0;32m----> 3\u001b[0;31m \u001b[0mtp\u001b[0m\u001b[0;34m.\u001b[0m\u001b[0mstat\u001b[0m\u001b[0;34m(\u001b[0m\u001b[0;34m)\u001b[0m\u001b[0;34m\u001b[0m\u001b[0;34m\u001b[0m\u001b[0m\n\u001b[0m",
      "\u001b[0;32m~/opt/anaconda3/lib/python3.7/pathlib.py\u001b[0m in \u001b[0;36mstat\u001b[0;34m(self)\u001b[0m\n\u001b[1;32m   1166\u001b[0m         \u001b[0mos\u001b[0m\u001b[0;34m.\u001b[0m\u001b[0mstat\u001b[0m\u001b[0;34m(\u001b[0m\u001b[0;34m)\u001b[0m \u001b[0mdoes\u001b[0m\u001b[0;34m.\u001b[0m\u001b[0;34m\u001b[0m\u001b[0;34m\u001b[0m\u001b[0m\n\u001b[1;32m   1167\u001b[0m         \"\"\"\n\u001b[0;32m-> 1168\u001b[0;31m         \u001b[0;32mreturn\u001b[0m \u001b[0mself\u001b[0m\u001b[0;34m.\u001b[0m\u001b[0m_accessor\u001b[0m\u001b[0;34m.\u001b[0m\u001b[0mstat\u001b[0m\u001b[0;34m(\u001b[0m\u001b[0mself\u001b[0m\u001b[0;34m)\u001b[0m\u001b[0;34m\u001b[0m\u001b[0;34m\u001b[0m\u001b[0m\n\u001b[0m\u001b[1;32m   1169\u001b[0m \u001b[0;34m\u001b[0m\u001b[0m\n\u001b[1;32m   1170\u001b[0m     \u001b[0;32mdef\u001b[0m \u001b[0mowner\u001b[0m\u001b[0;34m(\u001b[0m\u001b[0mself\u001b[0m\u001b[0;34m)\u001b[0m\u001b[0;34m:\u001b[0m\u001b[0;34m\u001b[0m\u001b[0;34m\u001b[0m\u001b[0m\n",
      "\u001b[0;31mFileNotFoundError\u001b[0m: [Errno 2] No such file or directory: '/var/folders/2z/vj69b89s1xxfb51stm_z4fnr0000gr/T/tmpv3_2gr5b'"
     ]
    }
   ],
   "source": [
    "# stat raises an error if the file doesn't exist\n",
    "\n",
    "tp.stat()"
   ]
  },
  {
   "cell_type": "code",
   "execution_count": 9,
   "metadata": {},
   "outputs": [
    {
     "data": {
      "text/plain": [
       "[(False, True, PosixPath('/Users/dbenson30/opt/anaconda3/man')),\n",
       " (False, True, PosixPath('/Users/dbenson30/opt/anaconda3/conda-meta')),\n",
       " (False, True, PosixPath('/Users/dbenson30/opt/anaconda3/condabin')),\n",
       " (False, True, PosixPath('/Users/dbenson30/opt/anaconda3/ssl')),\n",
       " (True, False, PosixPath('/Users/dbenson30/opt/anaconda3/.DS_Store')),\n",
       " (False, True, PosixPath('/Users/dbenson30/opt/anaconda3/qml')),\n",
       " (False, True, PosixPath('/Users/dbenson30/opt/anaconda3/bin')),\n",
       " (False, True, PosixPath('/Users/dbenson30/opt/anaconda3/plugins')),\n",
       " (False, True, PosixPath('/Users/dbenson30/opt/anaconda3/shell')),\n",
       " (False, True, PosixPath('/Users/dbenson30/opt/anaconda3/libexec')),\n",
       " (False, True, PosixPath('/Users/dbenson30/opt/anaconda3/include')),\n",
       " (False, True, PosixPath('/Users/dbenson30/opt/anaconda3/resources')),\n",
       " (False, True, PosixPath('/Users/dbenson30/opt/anaconda3/sbin')),\n",
       " (False, True, PosixPath('/Users/dbenson30/opt/anaconda3/etc')),\n",
       " (False, True, PosixPath('/Users/dbenson30/opt/anaconda3/python.app')),\n",
       " (True,\n",
       "  False,\n",
       "  PosixPath('/Users/dbenson30/opt/anaconda3/org.freedesktop.dbus-session.plist')),\n",
       " (False, True, PosixPath('/Users/dbenson30/opt/anaconda3/pkgs')),\n",
       " (False, True, PosixPath('/Users/dbenson30/opt/anaconda3/lib')),\n",
       " (False, True, PosixPath('/Users/dbenson30/opt/anaconda3/doc')),\n",
       " (False, True, PosixPath('/Users/dbenson30/opt/anaconda3/mkspecs')),\n",
       " (False, True, PosixPath('/Users/dbenson30/opt/anaconda3/phrasebooks')),\n",
       " (False, True, PosixPath('/Users/dbenson30/opt/anaconda3/translations')),\n",
       " (False,\n",
       "  True,\n",
       "  PosixPath('/Users/dbenson30/opt/anaconda3/Anaconda-Navigator.app')),\n",
       " (False, True, PosixPath('/Users/dbenson30/opt/anaconda3/share'))]"
      ]
     },
     "execution_count": 9,
     "metadata": {},
     "output_type": "execute_result"
    }
   ],
   "source": [
    "# Returns list of files and dirs in a directory\n",
    "# can use isfile and isdir to figure out \n",
    "# which is which\n",
    "\n",
    "[(t.is_file(), t.is_dir(), t) for t in anaconda.iterdir() ]"
   ]
  },
  {
   "cell_type": "code",
   "execution_count": 10,
   "metadata": {},
   "outputs": [
    {
     "data": {
      "text/plain": [
       "['man',\n",
       " 'conda-meta',\n",
       " 'condabin',\n",
       " 'ssl',\n",
       " '.DS_Store',\n",
       " 'qml',\n",
       " 'bin',\n",
       " 'plugins',\n",
       " 'shell',\n",
       " 'libexec',\n",
       " 'include',\n",
       " 'resources',\n",
       " 'sbin',\n",
       " 'etc',\n",
       " 'python.app',\n",
       " 'org.freedesktop.dbus-session.plist',\n",
       " 'pkgs',\n",
       " 'lib',\n",
       " 'doc',\n",
       " 'mkspecs',\n",
       " 'phrasebooks',\n",
       " 'translations',\n",
       " 'Anaconda-Navigator.app',\n",
       " 'share']"
      ]
     },
     "execution_count": 10,
     "metadata": {},
     "output_type": "execute_result"
    }
   ],
   "source": [
    "# string version\n",
    "\n",
    "fds = os.listdir(anaconda)\n",
    "fds"
   ]
  },
  {
   "cell_type": "markdown",
   "metadata": {},
   "source": [
    "# 'walk' - gets all the files and dirs under a start dir\n",
    "- is a generator\n",
    "- very easy to use\n",
    "- each 'next' call yields a directory, and all the files and directories inside it"
   ]
  },
  {
   "cell_type": "code",
   "execution_count": 11,
   "metadata": {},
   "outputs": [
    {
     "name": "stdout",
     "output_type": "stream",
     "text": [
      "/Users/dbenson30/opt/anaconda3/bin\n",
      "[('/Users/dbenson30/opt/anaconda3/bin', [...], [...]),\n",
      " ('/Users/dbenson30/opt/anaconda3/bin/Assistant.app', [...], []),\n",
      " ('/Users/dbenson30/opt/anaconda3/bin/Assistant.app/Contents', [...], [...]),\n",
      " ('/Users/dbenson30/opt/anaconda3/bin/Assistant.app/Contents/MacOS', [], [...]),\n",
      " ('/Users/dbenson30/opt/anaconda3/bin/Assistant.app/Contents/Resources',\n",
      "  [],\n",
      "  [...]),\n",
      " ('/Users/dbenson30/opt/anaconda3/bin/Designer.app', [...], []),\n",
      " ('/Users/dbenson30/opt/anaconda3/bin/Designer.app/Contents', [...], [...]),\n",
      " ('/Users/dbenson30/opt/anaconda3/bin/Designer.app/Contents/MacOS', [], [...]),\n",
      " ('/Users/dbenson30/opt/anaconda3/bin/Designer.app/Contents/Resources',\n",
      "  [],\n",
      "  [...]),\n",
      " ('/Users/dbenson30/opt/anaconda3/bin/__pycache__', [], [...]),\n",
      " ('/Users/dbenson30/opt/anaconda3/bin/pixeltool.app', [...], []),\n",
      " ('/Users/dbenson30/opt/anaconda3/bin/pixeltool.app/Contents', [...], [...]),\n",
      " ('/Users/dbenson30/opt/anaconda3/bin/pixeltool.app/Contents/MacOS', [], [...]),\n",
      " ('/Users/dbenson30/opt/anaconda3/bin/pixeltool.app/Contents/Resources',\n",
      "  [],\n",
      "  [...]),\n",
      " ('/Users/dbenson30/opt/anaconda3/bin/qdbusviewer.app', [...], []),\n",
      " ('/Users/dbenson30/opt/anaconda3/bin/qdbusviewer.app/Contents', [...], [...]),\n",
      " ('/Users/dbenson30/opt/anaconda3/bin/qdbusviewer.app/Contents/MacOS',\n",
      "  [],\n",
      "  [...]),\n",
      " ('/Users/dbenson30/opt/anaconda3/bin/qdbusviewer.app/Contents/Resources',\n",
      "  [],\n",
      "  [...]),\n",
      " ('/Users/dbenson30/opt/anaconda3/bin/qml.app', [...], []),\n",
      " ('/Users/dbenson30/opt/anaconda3/bin/qml.app/Contents', [...], [...]),\n",
      " ('/Users/dbenson30/opt/anaconda3/bin/qml.app/Contents/MacOS', [], [...]),\n",
      " ('/Users/dbenson30/opt/anaconda3/bin/qml.app/Contents/Resources', [], [...]),\n",
      " ('/Users/dbenson30/opt/anaconda3/bin/xc-avoidance', [], [...]),\n",
      " ('/Users/dbenson30/opt/anaconda3/bin/Linguist.app', [...], []),\n",
      " ('/Users/dbenson30/opt/anaconda3/bin/Linguist.app/Contents', [...], [...]),\n",
      " ('/Users/dbenson30/opt/anaconda3/bin/Linguist.app/Contents/MacOS', [], [...]),\n",
      " ('/Users/dbenson30/opt/anaconda3/bin/Linguist.app/Contents/Resources',\n",
      "  [],\n",
      "  [...])]\n"
     ]
    }
   ],
   "source": [
    "# deeply nested list - use pretty printer\n",
    "\n",
    "import pprint\n",
    "\n",
    "e = anaconda / 'bin'\n",
    "print(e)\n",
    "g = os.walk(e)\n",
    "ld = list(g)\n",
    "\n",
    "pprint.pprint(ld, depth=2)"
   ]
  },
  {
   "cell_type": "markdown",
   "metadata": {},
   "source": [
    "# open function\n",
    "- used to open files for reading and writing\n",
    "- returns a file descriptor that should be closed when IO is complete\n",
    "- in the builtin namespace"
   ]
  },
  {
   "cell_type": "markdown",
   "metadata": {},
   "source": [
    "# Writing files \n",
    "- no automatic newlines - you must write them out explicitly if you want them"
   ]
  },
  {
   "cell_type": "code",
   "execution_count": 12,
   "metadata": {},
   "outputs": [],
   "source": [
    "# open file, write to file descriptor, close file descriptor\n",
    "# can be error prone - easy to forget to close. also, if there\n",
    "# is an error, the close call could be skipped\n",
    "# not closing file descriptors can cause a server to crash\n",
    "# 'w' is the 'open mode' - tells 'open' to \n",
    "# open the file for writing\n",
    "\n",
    "fd = open(tp, 'w')\n",
    "for e in ['one', 'two', 'three', 'four']:\n",
    "    fd.write(e + '\\n')\n",
    "fd.close()"
   ]
  },
  {
   "cell_type": "markdown",
   "metadata": {},
   "source": [
    "# with \n",
    "- 'with' is a 'context manager'\n",
    "- binds return value from open to 'fd'\n",
    "- ':' and indenting defines a statement block over which 'fd' will be bound\n",
    "- 'with' will automatically close the file descriptor when the 'with' block is exited, even if by error"
   ]
  },
  {
   "cell_type": "code",
   "execution_count": 13,
   "metadata": {},
   "outputs": [],
   "source": [
    "with open(tp, 'w') as fd:\n",
    "    for e in ['one', 'two', 'three', 'four']:\n",
    "        fd.write(e + '\\n')"
   ]
  },
  {
   "cell_type": "code",
   "execution_count": 14,
   "metadata": {},
   "outputs": [],
   "source": [
    "# could do one write with join\n",
    "# why the '' ? \n",
    "\n",
    "with open(tp, 'w') as fd:\n",
    "    fd.write('\\n'.join(['one', 'two', \\\n",
    "                        'three', 'four','']))"
   ]
  },
  {
   "cell_type": "code",
   "execution_count": 15,
   "metadata": {},
   "outputs": [],
   "source": [
    "# or write out the string with explicit newlines\n",
    "\n",
    "with open(tp, 'w') as fd:\n",
    "    fd.write(\"one\\ntwo\\nthree\\nfour\\n\")"
   ]
  },
  {
   "cell_type": "code",
   "execution_count": 16,
   "metadata": {},
   "outputs": [
    {
     "data": {
      "text/plain": [
       "os.stat_result(st_mode=33188, st_ino=9367097, st_dev=16777220, st_nlink=1, st_uid=504, st_gid=20, st_size=19, st_atime=1583270034, st_mtime=1583270033, st_ctime=1583270033)"
      ]
     },
     "execution_count": 16,
     "metadata": {},
     "output_type": "execute_result"
    }
   ],
   "source": [
    "# before append\n",
    "\n",
    "os.stat(tp)"
   ]
  },
  {
   "cell_type": "code",
   "execution_count": 17,
   "metadata": {},
   "outputs": [],
   "source": [
    "# can append(open mode 'a') to an existing file\n",
    "\n",
    "with open(tp, 'a') as f:\n",
    "    for l in ['five', 'six']:\n",
    "        f.write(l + '\\n')"
   ]
  },
  {
   "cell_type": "code",
   "execution_count": 18,
   "metadata": {},
   "outputs": [
    {
     "data": {
      "text/plain": [
       "os.stat_result(st_mode=33188, st_ino=9367097, st_dev=16777220, st_nlink=1, st_uid=504, st_gid=20, st_size=28, st_atime=1583270065, st_mtime=1583270064, st_ctime=1583270064)"
      ]
     },
     "execution_count": 18,
     "metadata": {},
     "output_type": "execute_result"
    }
   ],
   "source": [
    "# file is longer now\n",
    "\n",
    "os.stat(tp)"
   ]
  },
  {
   "cell_type": "markdown",
   "metadata": {},
   "source": [
    "# special behavior on windows\n"
   ]
  },
  {
   "cell_type": "code",
   "execution_count": 19,
   "metadata": {},
   "outputs": [],
   "source": [
    "with open(tp, 'w') as fd:\n",
    "    for e in ['one', 'two', 'three', 'four']:\n",
    "        fd.write(e + '\\n')"
   ]
  },
  {
   "cell_type": "code",
   "execution_count": 20,
   "metadata": {},
   "outputs": [
    {
     "data": {
      "text/plain": [
       "b'one\\ntwo\\nthree\\nfour\\n'"
      ]
     },
     "execution_count": 20,
     "metadata": {},
     "output_type": "execute_result"
    }
   ],
   "source": [
    "# on windows, a \\r will be inserted before each \\n,\n",
    "# because 'newline' in windows is '\\r\\n', two chars.\n",
    "# so the windows file may be longer than you might except\n",
    "\n",
    "# reading in binary shows what is actually in the file\n",
    "# on mac/linux there is no \\r\n",
    "\n",
    "with open(tp, 'rb') as fd:\n",
    "    d = fd.read()\n",
    "    \n",
    "d"
   ]
  },
  {
   "cell_type": "code",
   "execution_count": 21,
   "metadata": {},
   "outputs": [
    {
     "data": {
      "text/plain": [
       "'one\\ntwo\\nthree\\nfour\\n'"
      ]
     },
     "execution_count": 21,
     "metadata": {},
     "output_type": "execute_result"
    }
   ],
   "source": [
    "# when reading on windows, the \\r chars are deleted\n",
    "\n",
    "with open(tp, 'r') as fd:\n",
    "    d = fd.read()\n",
    "    \n",
    "d"
   ]
  },
  {
   "cell_type": "markdown",
   "metadata": {},
   "source": [
    "# print function output can goto a file"
   ]
  },
  {
   "cell_type": "code",
   "execution_count": 22,
   "metadata": {},
   "outputs": [
    {
     "name": "stdout",
     "output_type": "stream",
     "text": [
      "1\n",
      "2\n",
      "3\n",
      "4\n",
      "\n"
     ]
    }
   ],
   "source": [
    "\n",
    "with open(tp2, \"w\") as f:\n",
    "    print(1,2,3,4, sep='\\n', file=f)\n",
    "\n",
    "# 'r' means open file for reading\n",
    "\n",
    "with open(tp2, 'r') as f:\n",
    "    print(f.read())"
   ]
  },
  {
   "cell_type": "markdown",
   "metadata": {},
   "source": [
    "# Reading files - eager\n",
    "- read the entire file immediately"
   ]
  },
  {
   "cell_type": "code",
   "execution_count": 23,
   "metadata": {},
   "outputs": [
    {
     "name": "stdout",
     "output_type": "stream",
     "text": [
      "one\n",
      "two\n",
      "three\n",
      "four\n",
      "\n"
     ]
    }
   ],
   "source": [
    "# eager read - read the entire file into one string\n",
    "\n",
    "with open(tp, 'r') as fd:    \n",
    "    print(fd.read())"
   ]
  },
  {
   "cell_type": "code",
   "execution_count": 24,
   "metadata": {},
   "outputs": [
    {
     "name": "stdout",
     "output_type": "stream",
     "text": [
      "['one\\n', 'two\\n', 'three\\n', 'four\\n']\n"
     ]
    }
   ],
   "source": [
    "# eager read - get a list of all the lines \n",
    "\n",
    "with open(tp,'r') as fd:\n",
    "    print(fd.readlines())"
   ]
  },
  {
   "cell_type": "markdown",
   "metadata": {},
   "source": [
    "# Reading files - lazy\n",
    "- suppose you are looking for a substring in a huge unsorted file of text lines\n",
    "    - lazy read probably wins\n",
    "    - don't have to read in entire file before you can start searching\n",
    "    - don't have to allocate memory to hold the whole file\n",
    "    - once you find the substring, you don't have to read the rest of the file"
   ]
  },
  {
   "cell_type": "code",
   "execution_count": 25,
   "metadata": {},
   "outputs": [
    {
     "name": "stdout",
     "output_type": "stream",
     "text": [
      "one\n",
      "\n",
      "two\n",
      "\n",
      "three\n",
      "\n",
      "four\n",
      "\n"
     ]
    }
   ],
   "source": [
    "# read one line at a time \n",
    "\n",
    "with open(tp, 'r') as fd:\n",
    "    while True:\n",
    "        x = fd.readline()\n",
    "        # returns empty string when finished\n",
    "        if x == '':\n",
    "            break;\n",
    "        print(x)"
   ]
  },
  {
   "cell_type": "code",
   "execution_count": 26,
   "metadata": {},
   "outputs": [
    {
     "name": "stdout",
     "output_type": "stream",
     "text": [
      "one\n",
      "two\n",
      "three\n",
      "four\n"
     ]
    }
   ],
   "source": [
    "# note double spacing\n",
    "# each line in the file has a newline,  \n",
    "# plus print is adding one\n",
    "# can turn off the print newline \n",
    "# with keyword arg 'end'\n",
    "\n",
    "with open(tp, 'r') as fd:\n",
    "    while True:\n",
    "        x = fd.readline()\n",
    "        # returns empty string when finished\n",
    "        if x == '':\n",
    "            break;\n",
    "        print(x, end='')"
   ]
  },
  {
   "cell_type": "code",
   "execution_count": 27,
   "metadata": {},
   "outputs": [
    {
     "data": {
      "text/plain": [
       "<_io.TextIOWrapper name='/var/folders/2z/vj69b89s1xxfb51stm_z4fnr0000gr/T/tmpv3_2gr5b' mode='r' encoding='UTF-8'>"
      ]
     },
     "execution_count": 27,
     "metadata": {},
     "output_type": "execute_result"
    }
   ],
   "source": [
    "fd = open(tp, 'r')\n",
    "fd"
   ]
  },
  {
   "cell_type": "code",
   "execution_count": 28,
   "metadata": {},
   "outputs": [
    {
     "data": {
      "text/plain": [
       "[<_io.TextIOWrapper name='/var/folders/2z/vj69b89s1xxfb51stm_z4fnr0000gr/T/tmpv3_2gr5b' mode='r' encoding='UTF-8'>,\n",
       " <_io.TextIOWrapper name='/var/folders/2z/vj69b89s1xxfb51stm_z4fnr0000gr/T/tmpv3_2gr5b' mode='r' encoding='UTF-8'>,\n",
       " True]"
      ]
     },
     "execution_count": 28,
     "metadata": {},
     "output_type": "execute_result"
    }
   ],
   "source": [
    "# a file descriptor is an iterator \n",
    "# over the file lines\n",
    "\n",
    "[fd, iter(fd), fd is iter(fd)]"
   ]
  },
  {
   "cell_type": "code",
   "execution_count": 29,
   "metadata": {},
   "outputs": [
    {
     "data": {
      "text/plain": [
       "'one\\n'"
      ]
     },
     "execution_count": 29,
     "metadata": {},
     "output_type": "execute_result"
    }
   ],
   "source": [
    "next(fd)"
   ]
  },
  {
   "cell_type": "code",
   "execution_count": 30,
   "metadata": {},
   "outputs": [
    {
     "data": {
      "text/plain": [
       "'two\\n'"
      ]
     },
     "execution_count": 30,
     "metadata": {},
     "output_type": "execute_result"
    }
   ],
   "source": [
    "# don't have to finish iterator...\n",
    "\n",
    "next(fd)"
   ]
  },
  {
   "cell_type": "code",
   "execution_count": 31,
   "metadata": {},
   "outputs": [
    {
     "data": {
      "text/plain": [
       "'one'"
      ]
     },
     "execution_count": 31,
     "metadata": {},
     "output_type": "execute_result"
    }
   ],
   "source": [
    "# note with readline and readlines \n",
    "# each line has a trailing '\\n', \n",
    "# which you usually don't want\n",
    "# use strip() to remove\n",
    "# can this cause a problem?\n",
    "\n",
    "'one\\n'.strip()"
   ]
  },
  {
   "cell_type": "code",
   "execution_count": 32,
   "metadata": {},
   "outputs": [],
   "source": [
    "# read N chars at a time\n",
    "# final read might be shorter\n",
    "\n",
    "def readn(n):\n",
    "    with open(tp, 'r')  as f:\n",
    "        res = []\n",
    "        while True:\n",
    "            s = f.read(n)\n",
    "            res.append(s)\n",
    "            if s == '':\n",
    "                # file is exhausted\n",
    "                break;\n",
    "    return res"
   ]
  },
  {
   "cell_type": "code",
   "execution_count": 33,
   "metadata": {},
   "outputs": [
    {
     "data": {
      "text/plain": [
       "['one\\n', 'two\\n', 'thre', 'e\\nfo', 'ur\\n', '']"
      ]
     },
     "execution_count": 33,
     "metadata": {},
     "output_type": "execute_result"
    }
   ],
   "source": [
    "readn(4)"
   ]
  },
  {
   "cell_type": "code",
   "execution_count": 34,
   "metadata": {},
   "outputs": [
    {
     "data": {
      "text/plain": [
       "['on', 'e\\n', 'tw', 'o\\n', 'th', 're', 'e\\n', 'fo', 'ur', '\\n', '']"
      ]
     },
     "execution_count": 34,
     "metadata": {},
     "output_type": "execute_result"
    }
   ],
   "source": [
    "readn(2)"
   ]
  },
  {
   "cell_type": "code",
   "execution_count": 35,
   "metadata": {},
   "outputs": [
    {
     "data": {
      "text/plain": [
       "['o',\n",
       " 'n',\n",
       " 'e',\n",
       " '\\n',\n",
       " 't',\n",
       " 'w',\n",
       " 'o',\n",
       " '\\n',\n",
       " 't',\n",
       " 'h',\n",
       " 'r',\n",
       " 'e',\n",
       " 'e',\n",
       " '\\n',\n",
       " 'f',\n",
       " 'o',\n",
       " 'u',\n",
       " 'r',\n",
       " '\\n',\n",
       " '']"
      ]
     },
     "execution_count": 35,
     "metadata": {},
     "output_type": "execute_result"
    }
   ],
   "source": [
    "readn(1)"
   ]
  },
  {
   "cell_type": "code",
   "execution_count": 36,
   "metadata": {},
   "outputs": [
    {
     "ename": "StopIteration",
     "evalue": "",
     "output_type": "error",
     "traceback": [
      "\u001b[0;31m---------------------------------------------------------------------------\u001b[0m",
      "\u001b[0;31mStopIteration\u001b[0m                             Traceback (most recent call last)",
      "\u001b[0;32m<ipython-input-36-80d5cf7ac270>\u001b[0m in \u001b[0;36m<module>\u001b[0;34m\u001b[0m\n\u001b[1;32m      1\u001b[0m \u001b[0;31m# ... or can finish iterator later on\u001b[0m\u001b[0;34m\u001b[0m\u001b[0;34m\u001b[0m\u001b[0;34m\u001b[0m\u001b[0m\n\u001b[1;32m      2\u001b[0m \u001b[0;34m\u001b[0m\u001b[0m\n\u001b[0;32m----> 3\u001b[0;31m \u001b[0mnext\u001b[0m\u001b[0;34m(\u001b[0m\u001b[0mfd\u001b[0m\u001b[0;34m)\u001b[0m\u001b[0;34m,\u001b[0m \u001b[0mnext\u001b[0m\u001b[0;34m(\u001b[0m\u001b[0mfd\u001b[0m\u001b[0;34m)\u001b[0m\u001b[0;34m,\u001b[0m \u001b[0mnext\u001b[0m\u001b[0;34m(\u001b[0m\u001b[0mfd\u001b[0m\u001b[0;34m)\u001b[0m\u001b[0;34m,\u001b[0m \u001b[0mnext\u001b[0m\u001b[0;34m(\u001b[0m\u001b[0mfd\u001b[0m\u001b[0;34m)\u001b[0m\u001b[0;34m\u001b[0m\u001b[0;34m\u001b[0m\u001b[0m\n\u001b[0m",
      "\u001b[0;31mStopIteration\u001b[0m: "
     ]
    }
   ],
   "source": [
    "# ... or can finish iterator later on\n",
    "\n",
    "next(fd), next(fd), next(fd), next(fd)"
   ]
  },
  {
   "cell_type": "markdown",
   "metadata": {},
   "source": [
    "# Can do I/O in unicode or binary\n",
    "- 'open' defaults to 'str' (unicode)\n",
    "- pass 'b' flag to 'open' for 'bytes'(binary)\n"
   ]
  },
  {
   "cell_type": "code",
   "execution_count": 37,
   "metadata": {},
   "outputs": [
    {
     "data": {
      "text/plain": [
       "('ℙƴ☂ℌøἤ',\n",
       " b'\\xe2\\x84\\x99\\xc6\\xb4\\xe2\\x98\\x82\\xe2\\x84\\x8c\\xc3\\xb8\\xe1\\xbc\\xa4',\n",
       " b'\\xff\\xfe\\x19!\\xb4\\x01\\x02&\\x0c!\\xf8\\x00$\\x1f',\n",
       " b'\\xff\\xfe\\x00\\x00\\x19!\\x00\\x00\\xb4\\x01\\x00\\x00\\x02&\\x00\\x00\\x0c!\\x00\\x00\\xf8\\x00\\x00\\x00$\\x1f\\x00\\x00')"
      ]
     },
     "execution_count": 37,
     "metadata": {},
     "output_type": "execute_result"
    }
   ],
   "source": [
    "uni = '\\U00002119\\u01b4\\u2602\\u210c\\xf8\\u1f24'\n",
    "\n",
    "utf8, utf16, utf32 = [uni.encode(et) \\\n",
    "                      for et in \\\n",
    "                      ['utf-8', 'utf-16', 'utf-32']]\n",
    "\n",
    "uni, utf8, utf16, utf32"
   ]
  },
  {
   "cell_type": "code",
   "execution_count": 38,
   "metadata": {},
   "outputs": [
    {
     "ename": "TypeError",
     "evalue": "write() argument must be str, not bytes",
     "output_type": "error",
     "traceback": [
      "\u001b[0;31m---------------------------------------------------------------------------\u001b[0m",
      "\u001b[0;31mTypeError\u001b[0m                                 Traceback (most recent call last)",
      "\u001b[0;32m<ipython-input-38-e2ab80913b61>\u001b[0m in \u001b[0;36m<module>\u001b[0;34m\u001b[0m\n\u001b[1;32m      7\u001b[0m \u001b[0;34m\u001b[0m\u001b[0m\n\u001b[1;32m      8\u001b[0m \u001b[0;32mwith\u001b[0m \u001b[0mopen\u001b[0m\u001b[0;34m(\u001b[0m\u001b[0mpath\u001b[0m\u001b[0;34m,\u001b[0m \u001b[0;34m\"w\"\u001b[0m\u001b[0;34m)\u001b[0m \u001b[0;32mas\u001b[0m \u001b[0mf\u001b[0m\u001b[0;34m:\u001b[0m\u001b[0;34m\u001b[0m\u001b[0;34m\u001b[0m\u001b[0m\n\u001b[0;32m----> 9\u001b[0;31m     \u001b[0mf\u001b[0m\u001b[0;34m.\u001b[0m\u001b[0mwrite\u001b[0m\u001b[0;34m(\u001b[0m\u001b[0mutf32\u001b[0m\u001b[0;34m)\u001b[0m\u001b[0;34m\u001b[0m\u001b[0;34m\u001b[0m\u001b[0m\n\u001b[0m",
      "\u001b[0;31mTypeError\u001b[0m: write() argument must be str, not bytes"
     ]
    }
   ],
   "source": [
    "# won't work - file stream expects a\n",
    "# 'str' by default, but utf32 is type 'bytes'\n",
    "\n",
    "import tempfile\n",
    "\n",
    "path = tempfile.NamedTemporaryFile().name\n",
    "\n",
    "with open(path, \"w\") as f:\n",
    "    f.write(utf32)"
   ]
  },
  {
   "cell_type": "code",
   "execution_count": 39,
   "metadata": {},
   "outputs": [],
   "source": [
    "# make a binary stream by adding 'b' flag to 'open'\n",
    "\n",
    "with open(path, 'bw') as f:\n",
    "    f.write(utf32)"
   ]
  },
  {
   "cell_type": "code",
   "execution_count": 40,
   "metadata": {},
   "outputs": [
    {
     "ename": "UnicodeDecodeError",
     "evalue": "'utf-8' codec can't decode byte 0xff in position 0: invalid start byte",
     "output_type": "error",
     "traceback": [
      "\u001b[0;31m---------------------------------------------------------------------------\u001b[0m",
      "\u001b[0;31mUnicodeDecodeError\u001b[0m                        Traceback (most recent call last)",
      "\u001b[0;32m<ipython-input-40-4b8c09e9a61f>\u001b[0m in \u001b[0;36m<module>\u001b[0;34m\u001b[0m\n\u001b[1;32m      8\u001b[0m \u001b[0;34m\u001b[0m\u001b[0m\n\u001b[1;32m      9\u001b[0m \u001b[0;32mwith\u001b[0m \u001b[0mopen\u001b[0m\u001b[0;34m(\u001b[0m\u001b[0mpath\u001b[0m\u001b[0;34m,\u001b[0m \u001b[0;34m\"r\"\u001b[0m\u001b[0;34m)\u001b[0m \u001b[0;32mas\u001b[0m \u001b[0mf\u001b[0m\u001b[0;34m:\u001b[0m\u001b[0;34m\u001b[0m\u001b[0;34m\u001b[0m\u001b[0m\n\u001b[0;32m---> 10\u001b[0;31m     \u001b[0mprint\u001b[0m\u001b[0;34m(\u001b[0m\u001b[0mf\u001b[0m\u001b[0;34m.\u001b[0m\u001b[0mread\u001b[0m\u001b[0;34m(\u001b[0m\u001b[0;34m)\u001b[0m\u001b[0;34m)\u001b[0m\u001b[0;34m\u001b[0m\u001b[0;34m\u001b[0m\u001b[0m\n\u001b[0m",
      "\u001b[0;32m~/opt/anaconda3/lib/python3.7/codecs.py\u001b[0m in \u001b[0;36mdecode\u001b[0;34m(self, input, final)\u001b[0m\n\u001b[1;32m    320\u001b[0m         \u001b[0;31m# decode input (taking the buffer into account)\u001b[0m\u001b[0;34m\u001b[0m\u001b[0;34m\u001b[0m\u001b[0;34m\u001b[0m\u001b[0m\n\u001b[1;32m    321\u001b[0m         \u001b[0mdata\u001b[0m \u001b[0;34m=\u001b[0m \u001b[0mself\u001b[0m\u001b[0;34m.\u001b[0m\u001b[0mbuffer\u001b[0m \u001b[0;34m+\u001b[0m \u001b[0minput\u001b[0m\u001b[0;34m\u001b[0m\u001b[0;34m\u001b[0m\u001b[0m\n\u001b[0;32m--> 322\u001b[0;31m         \u001b[0;34m(\u001b[0m\u001b[0mresult\u001b[0m\u001b[0;34m,\u001b[0m \u001b[0mconsumed\u001b[0m\u001b[0;34m)\u001b[0m \u001b[0;34m=\u001b[0m \u001b[0mself\u001b[0m\u001b[0;34m.\u001b[0m\u001b[0m_buffer_decode\u001b[0m\u001b[0;34m(\u001b[0m\u001b[0mdata\u001b[0m\u001b[0;34m,\u001b[0m \u001b[0mself\u001b[0m\u001b[0;34m.\u001b[0m\u001b[0merrors\u001b[0m\u001b[0;34m,\u001b[0m \u001b[0mfinal\u001b[0m\u001b[0;34m)\u001b[0m\u001b[0;34m\u001b[0m\u001b[0;34m\u001b[0m\u001b[0m\n\u001b[0m\u001b[1;32m    323\u001b[0m         \u001b[0;31m# keep undecoded input until the next call\u001b[0m\u001b[0;34m\u001b[0m\u001b[0;34m\u001b[0m\u001b[0;34m\u001b[0m\u001b[0m\n\u001b[1;32m    324\u001b[0m         \u001b[0mself\u001b[0m\u001b[0;34m.\u001b[0m\u001b[0mbuffer\u001b[0m \u001b[0;34m=\u001b[0m \u001b[0mdata\u001b[0m\u001b[0;34m[\u001b[0m\u001b[0mconsumed\u001b[0m\u001b[0;34m:\u001b[0m\u001b[0;34m]\u001b[0m\u001b[0;34m\u001b[0m\u001b[0;34m\u001b[0m\u001b[0m\n",
      "\u001b[0;31mUnicodeDecodeError\u001b[0m: 'utf-8' codec can't decode byte 0xff in position 0: invalid start byte"
     ]
    }
   ],
   "source": [
    "# reading in 'str' mode defaults to utf-8, \n",
    "# but the file we wrote is utf-32\n",
    "# so, this read fails\n",
    "\n",
    "# but, somethimes if you give open the \n",
    "# wrong encoding, it will read\n",
    "# w/o error and give you garbage!\n",
    "\n",
    "with open(path, \"r\") as f:\n",
    "    print(f.read())"
   ]
  },
  {
   "cell_type": "code",
   "execution_count": 41,
   "metadata": {},
   "outputs": [
    {
     "name": "stdout",
     "output_type": "stream",
     "text": [
      "ℙƴ☂ℌøἤ\n"
     ]
    }
   ],
   "source": [
    "# tell 'open' the right unicode encoding\n",
    "\n",
    "with open(path, \"r\" , encoding='utf-32') as f:\n",
    "    print(f.read())"
   ]
  },
  {
   "cell_type": "code",
   "execution_count": 42,
   "metadata": {},
   "outputs": [
    {
     "data": {
      "text/plain": [
       "b'\\xff\\xfe\\x00\\x00\\x19!\\x00\\x00\\xb4\\x01\\x00\\x00\\x02&\\x00\\x00\\x0c!\\x00\\x00\\xf8\\x00\\x00\\x00$\\x1f\\x00\\x00'"
      ]
     },
     "execution_count": 42,
     "metadata": {},
     "output_type": "execute_result"
    }
   ],
   "source": [
    "# can read file bytes\n",
    "\n",
    "with open(path, \"rb\") as f:\n",
    "    b = f.read()\n",
    "b"
   ]
  },
  {
   "cell_type": "code",
   "execution_count": 43,
   "metadata": {},
   "outputs": [
    {
     "data": {
      "text/plain": [
       "b'\\xff\\xfe\\x00\\x00\\x19!\\x00\\x00\\xb4\\x01\\x00\\x00\\x02&\\x00\\x00\\x0c!\\x00\\x00\\xf8\\x00\\x00\\x00$\\x1f\\x00\\x00'"
      ]
     },
     "execution_count": 43,
     "metadata": {},
     "output_type": "execute_result"
    }
   ],
   "source": [
    "utf32"
   ]
  },
  {
   "cell_type": "markdown",
   "metadata": {},
   "source": [
    "# Memory mapping\n",
    "- advanced technique, but easy to use\n",
    "- more efficient way to deal with large files\n",
    "- avoids copying and system call overhead\n",
    "- uses the virtual memory system\n",
    "    - HIGHLY optimized with hardware support\n",
    "- [doc](https://docs.python.org/3.0/library/mmap.html)"
   ]
  },
  {
   "cell_type": "code",
   "execution_count": 44,
   "metadata": {},
   "outputs": [],
   "source": [
    "# write out some stuff \n",
    "\n",
    "tp = tempfile.NamedTemporaryFile().name\n",
    "with open(tp, 'w') as fd:\n",
    "    for e in ['one', 'two', 'three', 'four']:\n",
    "        fd.write(e + '\\n')"
   ]
  },
  {
   "cell_type": "code",
   "execution_count": 45,
   "metadata": {},
   "outputs": [],
   "source": [
    "# read it with mmap\n",
    "\n",
    "import mmap\n",
    "\n",
    "fp = open(tp, \"r+\")\n",
    "fn = fp.fileno()\n",
    "map = mmap.mmap(fn, 0)"
   ]
  },
  {
   "cell_type": "code",
   "execution_count": 46,
   "metadata": {},
   "outputs": [
    {
     "data": {
      "text/plain": [
       "b'one\\ntwo\\nthree\\nfour\\n'"
      ]
     },
     "execution_count": 46,
     "metadata": {},
     "output_type": "execute_result"
    }
   ],
   "source": [
    "map[:]"
   ]
  },
  {
   "cell_type": "code",
   "execution_count": 47,
   "metadata": {},
   "outputs": [
    {
     "data": {
      "text/plain": [
       "4"
      ]
     },
     "execution_count": 47,
     "metadata": {},
     "output_type": "execute_result"
    }
   ],
   "source": [
    "map.seek(0)\n",
    "map.find(b'two')\n"
   ]
  },
  {
   "cell_type": "markdown",
   "metadata": {},
   "source": [
    "# In memory \"files\"\n",
    "- occasionally very useful \n",
    "- [doc](https://docs.python.org/3.7/library/io.html#io.StringIO)"
   ]
  },
  {
   "cell_type": "code",
   "execution_count": 48,
   "metadata": {},
   "outputs": [
    {
     "data": {
      "text/plain": [
       "'one\\ntwo'"
      ]
     },
     "execution_count": 48,
     "metadata": {},
     "output_type": "execute_result"
    }
   ],
   "source": [
    "import io\n",
    "\n",
    "ios = io.StringIO()\n",
    "\n",
    "print('one', file=ios)\n",
    "ios.write('two')\n",
    "\n",
    "ios.getvalue()"
   ]
  },
  {
   "cell_type": "code",
   "execution_count": 49,
   "metadata": {},
   "outputs": [
    {
     "data": {
      "text/plain": [
       "['one\\n', 'two\\n', 'three\\n']"
      ]
     },
     "execution_count": 49,
     "metadata": {},
     "output_type": "execute_result"
    }
   ],
   "source": [
    "ios = io.StringIO('one\\ntwo\\nthree\\n')\n",
    "\n",
    "ios.readlines()"
   ]
  },
  {
   "cell_type": "markdown",
   "metadata": {},
   "source": [
    "\n",
    "# shutil module \n",
    "- move, copy, delete file trees\n",
    "- [doc](https://docs.python.org/3.7/library/shutil.html)\n",
    "\n",
    "# glob - linux style filename matching\n",
    "- [doc](https://docs.python.org/3.7/library/glob.html)\n",
    "\n",
    "# modules that read/write archive formats, like zip and tar\n",
    "- [doc](https://docs.python.org/3.7/library/archiving.html)\n"
   ]
  }
 ],
 "metadata": {
  "anaconda-cloud": {},
  "kernelspec": {
   "display_name": "Python 3",
   "language": "python",
   "name": "python3"
  },
  "language_info": {
   "codemirror_mode": {
    "name": "ipython",
    "version": 3
   },
   "file_extension": ".py",
   "mimetype": "text/x-python",
   "name": "python",
   "nbconvert_exporter": "python",
   "pygments_lexer": "ipython3",
   "version": "3.7.4"
  }
 },
 "nbformat": 4,
 "nbformat_minor": 1
}
