{
 "cells": [
  {
   "cell_type": "markdown",
   "metadata": {},
   "source": [
    "# There are only two things you can enter in Python:\n",
    "    - statements\n",
    "    - expressions"
   ]
  },
  {
   "cell_type": "markdown",
   "metadata": {},
   "source": [
    "# Statements\n",
    "- each statement defines a special syntax or template\n",
    "- statements may include expressions\n",
    "- statements do NOT return a value\n",
    "- evaluating a statement produces 'side effects'\n",
    "- there are 10+ types of statement, like 'if', 'for', 'while', 'def'..."
   ]
  },
  {
   "cell_type": "markdown",
   "metadata": {},
   "source": [
    "# Expressions\n",
    "- single object is an expression\n",
    "- multiple objects can be combined with operators\n",
    "- objects enter an expression from:\n",
    "    - literals \n",
    "    - variable values\n",
    "    - values returned by function calls\n",
    "- arguments to a function are expressions\n",
    "- evaluating an expression produces a value"
   ]
  },
  {
   "cell_type": "code",
   "execution_count": 19,
   "metadata": {},
   "outputs": [],
   "source": [
    "def foo(a, b):\n",
    "    return 2 * a + b + 3\n",
    "\n",
    "bar = 1"
   ]
  },
  {
   "cell_type": "code",
   "execution_count": 20,
   "metadata": {},
   "outputs": [
    {
     "data": {
      "text/plain": [
       "8"
      ]
     },
     "execution_count": 20,
     "metadata": {},
     "output_type": "execute_result"
    }
   ],
   "source": [
    "4 + foo(3 , bar - foo(4,2)) + bar + [3,6][1]"
   ]
  },
  {
   "cell_type": "code",
   "execution_count": 21,
   "metadata": {},
   "outputs": [
    {
     "data": {
      "text/plain": [
       "True"
      ]
     },
     "execution_count": 21,
     "metadata": {},
     "output_type": "execute_result"
    }
   ],
   "source": [
    "'foobar' == 'foo' + 'bar'"
   ]
  },
  {
   "cell_type": "markdown",
   "metadata": {},
   "source": [
    "# Ternary if\n",
    "- normal if is a statement, but ternary if is an expression, so it returns a value\n",
    "- like 'pred ? TrueVal : FalseVal' in Java/C++\n",
    "- peculiar syntax in python"
   ]
  },
  {
   "cell_type": "code",
   "execution_count": null,
   "metadata": {},
   "outputs": [],
   "source": [
    "predicate = True\n",
    "\n",
    "ans = 'true val' if predicate else 'false val'\n",
    "ans"
   ]
  },
  {
   "cell_type": "code",
   "execution_count": null,
   "metadata": {},
   "outputs": [],
   "source": [
    "predicate = False\n",
    "\n",
    "ans = 'true val' if predicate  else 'false val'\n",
    "ans"
   ]
  },
  {
   "cell_type": "code",
   "execution_count": null,
   "metadata": {},
   "outputs": [],
   "source": [
    "# without ternary if, would have do something more clunky...\n",
    "\n",
    "if predicate:\n",
    "    ans = 'true val'\n",
    "else:\n",
    "    ans = 'false val'"
   ]
  },
  {
   "cell_type": "code",
   "execution_count": null,
   "metadata": {},
   "outputs": [],
   "source": [
    "def foo(e):\n",
    "    return len(e)"
   ]
  },
  {
   "cell_type": "code",
   "execution_count": null,
   "metadata": {},
   "outputs": [],
   "source": [
    "# ternary if is an expression, \n",
    "# so can be used as function arg\n",
    "\n",
    "foo('true val' if predicate  else 'false val')"
   ]
  },
  {
   "cell_type": "markdown",
   "metadata": {},
   "source": [
    "# Generalized booleans\n",
    "- it is convenient to generalize what is considered to be True and False\n",
    "- None, 0, and empty collections(strings, lists, tuples, dictionaries, sets), are equivalent to False\n",
    "- Any other object is equivalent to True"
   ]
  },
  {
   "cell_type": "code",
   "execution_count": null,
   "metadata": {},
   "outputs": [],
   "source": [
    "# list of things to try \n",
    "\n",
    "x = [0, 1, \"\", \"stuff\", {}, {3:5}, {3,5}, (), (1,2), None]\n",
    "\n",
    "for e in x:\n",
    "    # ternary if is an expression, \n",
    "    # so can be an arg to print\n",
    "    print(e, True if e else False)"
   ]
  },
  {
   "cell_type": "markdown",
   "metadata": {},
   "source": [
    "# short circuit evaluation of booleans\n",
    "- 'and' and 'or' do 'short circuit' evaluation\n",
    "- evaluation stops as soon as True/False value is known\n",
    "- note result is NOT always True or False - it is the value of the last term considered"
   ]
  },
  {
   "cell_type": "code",
   "execution_count": null,
   "metadata": {},
   "outputs": [],
   "source": [
    "# 'or' eval stops at first True value and returns it\n",
    "\n",
    "False or 0 or [] or 6 or 7"
   ]
  },
  {
   "cell_type": "code",
   "execution_count": null,
   "metadata": {},
   "outputs": [],
   "source": [
    "False or 0 or [] or () or ['dsf']"
   ]
  },
  {
   "cell_type": "code",
   "execution_count": null,
   "metadata": {},
   "outputs": [],
   "source": [
    "# 'and' eval stops at first False value and returns it\n",
    "\n",
    "True and 5 and [3,4] and {} and 34 and 200"
   ]
  }
 ],
 "metadata": {
  "kernelspec": {
   "display_name": "Python 3",
   "language": "python",
   "name": "python3"
  },
  "language_info": {
   "codemirror_mode": {
    "name": "ipython",
    "version": 3
   },
   "file_extension": ".py",
   "mimetype": "text/x-python",
   "name": "python",
   "nbconvert_exporter": "python",
   "pygments_lexer": "ipython3",
   "version": "3.7.4"
  }
 },
 "nbformat": 4,
 "nbformat_minor": 2
}
