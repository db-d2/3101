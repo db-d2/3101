{
 "cells": [
  {
   "cell_type": "markdown",
   "metadata": {},
   "source": [
    "# source documentation\n",
    "- place a string in the first line of your function or class definition\n",
    "- various tools will use this"
   ]
  },
  {
   "cell_type": "code",
   "execution_count": 1,
   "metadata": {
    "collapsed": true
   },
   "outputs": [],
   "source": [
    "# docstring\n",
    "\n",
    "def foo():\n",
    "    \"here's some helpful doc\"\n",
    "    pass"
   ]
  },
  {
   "cell_type": "code",
   "execution_count": 2,
   "metadata": {
    "collapsed": true
   },
   "outputs": [],
   "source": [
    "# argument documentation\n",
    "\n",
    "def zip(x: 'first arg', y: 'second arg'):\n",
    "    pass"
   ]
  },
  {
   "cell_type": "code",
   "execution_count": 2,
   "metadata": {
    "collapsed": true
   },
   "outputs": [],
   "source": [
    "# works for classes and methods as well\n",
    "\n",
    "class foo:\n",
    "    'Really great class!'\n",
    "    def wow():\n",
    "        'Really great method'\n",
    "        pass"
   ]
  },
  {
   "cell_type": "markdown",
   "metadata": {},
   "source": [
    "# tools that generate HTML documentation from your source code\n",
    "- extract info from source files and turns it into a nice set of HTML pages\n",
    "- similar to Java's Javadoc"
   ]
  },
  {
   "cell_type": "markdown",
   "metadata": {},
   "source": [
    "# pdoc\n",
    "- easy to use \n",
    "- [doc](https://github.com/mitmproxy/pdoc)\n",
    "- command line\n",
    "    -  pdoc --all-submodules  --overwrite  --html organize.py"
   ]
  },
  {
   "cell_type": "markdown",
   "metadata": {},
   "source": [
    "# sphinx\n",
    "- takes some effort to set up\n",
    "- [examples](http://www.sphinx-doc.org/en/master/examples.html)\n",
    "- [doc](http://www.sphinx-doc.org/en/stable/)"
   ]
  },
  {
   "cell_type": "markdown",
   "metadata": {},
   "source": [
    "# mkdocs\n",
    "- interactively builds html documentation from markup\n",
    "- very easy to use\n",
    "- to run:\n",
    "    - unzip mkdocs-example\n",
    "    - cd mkdocs-example\n",
    "    - mkdocs server\n",
    "    - [look at this page](http://127.0.0.1:8000)\n",
    "    \n",
    "- [doc](https://www.mkdocs.org)"
   ]
  },
  {
   "cell_type": "code",
   "execution_count": null,
   "metadata": {},
   "outputs": [],
   "source": []
  }
 ],
 "metadata": {
  "anaconda-cloud": {},
  "kernelspec": {
   "display_name": "Python 3",
   "language": "python",
   "name": "python3"
  },
  "language_info": {
   "codemirror_mode": {
    "name": "ipython",
    "version": 3
   },
   "file_extension": ".py",
   "mimetype": "text/x-python",
   "name": "python",
   "nbconvert_exporter": "python",
   "pygments_lexer": "ipython3",
   "version": "3.7.4"
  }
 },
 "nbformat": 4,
 "nbformat_minor": 1
}
