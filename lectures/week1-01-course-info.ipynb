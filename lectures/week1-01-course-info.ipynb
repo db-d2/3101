{
 "cells": [
  {
   "cell_type": "markdown",
   "metadata": {},
   "source": [
    "# Programming Langages: Python\n",
    "- Larry Stead, Instructor\n",
    "    - email: lss2168@columbia.edu\n",
    "- Nina Tanega, TA\n",
    "    - email: nat2142@columbia.edu\n",
    "    \n",
    "# Course Objectives\n",
    "* Develop fluency in the Python Language\n",
    "    - pretty much the entire language  will be covered, except for some obscure advanced topics\n",
    "    - get you more or less as good at Python as you are in the language you already know\n",
    "- Learn about common tasks and issues\n",
    "* Understand some of the Python \"pros and cons\"\n",
    "* Sample the huge space of Python libraries\n",
    "* Do a project in Python - something of interest to you"
   ]
  },
  {
   "cell_type": "markdown",
   "metadata": {},
   "source": [
    "# Prerequisites \n",
    "- Course directory: \"Intended only for those who are already fluent in at least one programming language.\"\n",
    "- Ideally:\n",
    "    - you've written at least some small programs\n",
    "    - have a basic understanding of concepts like:\n",
    "      - functions and argument passing\n",
    "      - call stacks\n",
    "      - iteration\n",
    "      - recursion\n",
    "      - basic data structures like:\n",
    "          - lists\n",
    "          - strings \n",
    "          - hash/map/dictionary tables\n",
    "      - pointers/references\n",
    "\n",
    "- You do not have to be a Computer Science major, or a programming wizard\n",
    "- You do not need prior experience in Object Oriented Programing \n",
    "- I will make some comparisons with Java/C++, but OK if you don't know those languages\n",
    "- I will \"pop the hood\" a few times to look at Python implementation and performance issues.\n",
    "    - This is optional material and I don't spend much time on it. \n",
    "    - If too technical for you, don't worry about it."
   ]
  },
  {
   "cell_type": "markdown",
   "metadata": {},
   "source": [
    "# Topics\n",
    "- Python Language\n",
    "    - Syntax\n",
    "    - Basic built in object types and data structures\n",
    "        - Numbers\n",
    "        - Strings\n",
    "        - Lists\n",
    "        - Tuples\n",
    "        - Dictionaries\n",
    "        - Sets\n",
    "    - Control Structures\n",
    "        - if\n",
    "        - for\n",
    "        - when\n",
    "        - comprehensions\n",
    "        - raise\n",
    "        - try\n",
    "        - except\n",
    "        - return\n",
    "        - generators\n",
    "        - yield\n",
    "    - Lazy evaluation\n",
    "    - Function definition\n",
    "        - def\n",
    "        - lambda\n",
    "    - Object Oriented Python\n",
    "        - Defining classes\n",
    "        - Special methods\n",
    "        - Inheritance\n",
    "        - Error system\n",
    "    - Modules\n",
    "    - Decorators\n",
    "    - Performance\n",
    "- Python Libraries\n",
    "    - Standard Libraries\n",
    "    - File IO\n",
    "    - Pickling\n",
    "    - Networking\n",
    "    - Web clients and servers\n",
    "    - Numpy\n",
    "    - Scipy\n",
    "        - nltk\n",
    "        - pandas\n",
    "        - graphics\n",
    "            - matplotlib\n",
    "            - seaborn\n",
    "            - bokeh\n",
    "    - Machine Learning\n",
    "- Jupyter notebooks\n",
    "    - almost all our work will be done in notebooks\n",
    "- Themes\n",
    "    - \"Pythonic\"\n",
    "    - performance\n",
    "- Other topics as time permits"
   ]
  },
  {
   "cell_type": "markdown",
   "metadata": {},
   "source": [
    "# Workload\n",
    "- seven lectures\n",
    "- four homeworks\n",
    "- final project\n",
    "- Student surveys say the course is about average in difficultly/workload for a Computer Science class"
   ]
  }
 ],
 "metadata": {
  "anaconda-cloud": {},
  "kernelspec": {
   "display_name": "Python 3",
   "language": "python",
   "name": "python3"
  },
  "language_info": {
   "codemirror_mode": {
    "name": "ipython",
    "version": 3
   },
   "file_extension": ".py",
   "mimetype": "text/x-python",
   "name": "python",
   "nbconvert_exporter": "python",
   "pygments_lexer": "ipython3",
   "version": "3.7.4"
  }
 },
 "nbformat": 4,
 "nbformat_minor": 1
}
