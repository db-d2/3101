{
 "cells": [
  {
   "cell_type": "markdown",
   "metadata": {},
   "source": [
    "# 3rd party modules\n",
    "- Python is famous for the quality, quantity, and breadth\n",
    "of its 3rd party modules\n",
    "- can be difficult to know which package to use\n",
    "    - for example, over 30 visualization packages"
   ]
  },
  {
   "cell_type": "markdown",
   "metadata": {},
   "source": [
    "# [scientific libraries](https://stxnext.com/blog/2017/04/12/most-popular-python-scientific-libraries/?utm_campaign=klau&utm_medium=Social&utm_source=Quora)\n",
    "   - 30+ modules\n",
    "   - we will look at ~6 of these"
   ]
  },
  {
   "cell_type": "markdown",
   "metadata": {},
   "source": [
    "# [modules included with anaconda](https://docs.anaconda.com/anaconda/packages/py3.7_osx-64)\n",
    "- 600+ modules selected by anaconda"
   ]
  },
  {
   "cell_type": "markdown",
   "metadata": {},
   "source": [
    "# [awesome python site](https://github.com/vinta/awesome-python)\n",
    "- listing of popular, well known modules\n",
    "- don't have to limit yourself to their suggestions, but good place to start a search"
   ]
  },
  {
   "cell_type": "markdown",
   "metadata": {},
   "source": [
    "# Installing Python modules\n",
    "- first try doing an import in python - anaconda may already have it\n",
    "- next try the 'pip' command\n",
    "    - execute pip as yourself, NOT as root\n",
    "    - in a shell/terminal window, NOT in python, do:\n",
    "    - pip install package-name\n",
    "    - example:\n",
    "        - pip install opencv-python\n",
    "        - then in python do:\n",
    "        - import cv2\n",
    "- most packages are trivial to install, but some packages may define more complex installation procedures"
   ]
  }
 ],
 "metadata": {
  "kernelspec": {
   "display_name": "Python 3",
   "language": "python",
   "name": "python3"
  },
  "language_info": {
   "codemirror_mode": {
    "name": "ipython",
    "version": 3
   },
   "file_extension": ".py",
   "mimetype": "text/x-python",
   "name": "python",
   "nbconvert_exporter": "python",
   "pygments_lexer": "ipython3",
   "version": "3.7.4"
  }
 },
 "nbformat": 4,
 "nbformat_minor": 2
}
