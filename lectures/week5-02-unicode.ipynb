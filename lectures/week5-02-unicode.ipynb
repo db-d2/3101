{
 "cells": [
  {
   "cell_type": "markdown",
   "metadata": {},
   "source": [
    "# Character encoding schemes\n",
    "- an encoding is a mapping between integers and character"
   ]
  },
  {
   "cell_type": "markdown",
   "metadata": {},
   "source": [
    "### Limitations of Ascii\n",
    "- 1 bit was not used, leaving some room for extensions, but one byte is not enough to represent all the characters in the world\n",
    "\n",
    "\n",
    "\n",
    "# Unicode\n",
    "- \"universal character set\"\n",
    "- represents over a million different characters\n",
    "- every language on earth\n",
    "- each character represented by a unique integer\n",
    "- [code charts](http://www.unicode.org/charts/)\n",
    "\n",
    "# Python 'str' type \n",
    "- stores Unicode characters, not ASCII\n",
    "\n",
    "# encoding and decoding unicode\n",
    "- 'encoding' is converting a unicode string into a byte sequence or stream (in some encoding)\n",
    "- 'decoding' is converting a byte stream(in some encoding) into a unicode string\n",
    "- there are several different encoding/decoding schemes\n",
    "- java uses UTF-16\n",
    "- W3C recommends web pages use UTF-8\n",
    "    - [doc](https://www.w3.org/International/questions/qa-html-encoding-declarations)\n",
    "- the UTF-8 encoding has the special property that if the unicode string is just ascii characters, the UTF-8 encoding\n",
    "is the same as the ascii encoding\n",
    "- when you WRITE a unicode string from  python(saving a file, writing to the network), you must ENCODE it into a sequence of bytes\n",
    "- when you read a unicode string INTO of python, you must DECODE it from a sequence of bytes\n"
   ]
  },
  {
   "cell_type": "code",
   "execution_count": 1,
   "metadata": {},
   "outputs": [
    {
     "data": {
      "text/plain": [
       "(str, 'ℙƴ☂ℌøἤ', 6)"
      ]
     },
     "execution_count": 1,
     "metadata": {},
     "output_type": "execute_result"
    }
   ],
   "source": [
    "# 'Python' spelled in characters from different \n",
    "# unicode character sets. len is 6, \n",
    "# which is the numbers of characters, \n",
    "# not the number bytes it takes to represent them\n",
    "# \\uabcd is 32 bits written in hex\n",
    "# \\Uabcdefgh is 64 bits written in hex\n",
    "\n",
    "uni = '\\U00002119\\u01b4\\u2602\\u210c\\xf8\\u1f24'\n",
    "type(uni), uni, len(uni)"
   ]
  },
  {
   "cell_type": "code",
   "execution_count": 2,
   "metadata": {},
   "outputs": [
    {
     "data": {
      "text/plain": [
       "'䋌䋍䋎䋏䋐䋑䋒䋓䋔䋕䋖䋗䋘䋙䋚䋛䋜䋝䋞䋟䋠䋡䋢䋣䋤䋥䋦䋧䋨䋩䋪䋫䋬䋭䋮䋯䋰䋱䋲䋳䋴䋵䋶䋷䋸䋹䋺䋻䋼䋽䋾䋿䌀䌁䌂䌃䌄䌅䌆䌇䌈䌉䌊䌋䌌䌍䌎䌏䌐䌑䌒䌓䌔䌕䌖䌗䌘䌙䌚䌛䌜䌝䌞䌟䌠䌡䌢䌣䌤䌥䌦䌧䌨䌩䌪䌫䌬䌭䌮䌯䌰䌱䌲䌳䌴䌵䌶䌷䌸䌹䌺䌻䌼䌽䌾䌿䍀䍁䍂䍃䍄䍅䍆䍇䍈䍉䍊䍋䍌䍍䍎䍏䍐䍑䍒䍓䍔䍕䍖䍗䍘䍙䍚䍛䍜䍝䍞䍟䍠䍡䍢䍣䍤䍥䍦䍧䍨䍩䍪䍫䍬䍭䍮䍯䍰䍱䍲䍳䍴䍵䍶䍷䍸䍹䍺䍻䍼䍽䍾䍿䎀䎁䎂䎃䎄䎅䎆䎇䎈䎉䎊䎋䎌䎍䎎䎏䎐䎑䎒䎓䎔䎕䎖䎗䎘䎙䎚䎛䎜䎝䎞䎟䎠䎡䎢䎣䎤䎥䎦䎧䎨䎩䎪䎫䎬䎭䎮䎯䎰䎱䎲䎳䎴䎵䎶䎷䎸䎹䎺䎻䎼䎽䎾䎿䏀䏁䏂䏃䏄䏅䏆䏇䏈䏉䏊䏋䏌䏍䏎䏏䏐䏑䏒䏓䏔䏕䏖䏗䏘䏙䏚䏛䏜䏝䏞䏟䏠䏡䏢䏣䏤䏥䏦䏧䏨䏩䏪䏫䏬䏭䏮䏯䏰䏱䏲䏳䏴䏵䏶䏷䏸䏹䏺䏻䏼䏽䏾䏿䐀䐁䐂䐃䐄䐅䐆䐇䐈䐉䐊䐋䐌䐍䐎䐏䐐䐑䐒䐓䐔䐕䐖䐗䐘䐙䐚䐛䐜䐝䐞䐟䐠䐡䐢䐣䐤䐥䐦䐧䐨䐩䐪䐫䐬䐭䐮䐯䐰䐱䐲䐳䐴䐵䐶䐷䐸䐹䐺䐻䐼䐽䐾䐿䑀䑁䑂䑃䑄䑅䑆䑇䑈䑉䑊䑋䑌䑍䑎䑏䑐䑑䑒䑓䑔䑕䑖䑗䑘䑙䑚䑛䑜䑝䑞䑟䑠䑡䑢䑣䑤䑥䑦䑧䑨䑩䑪䑫䑬䑭䑮䑯䑰䑱䑲䑳䑴䑵䑶䑷䑸䑹䑺䑻䑼䑽䑾䑿䒀䒁䒂䒃䒄䒅䒆䒇䒈䒉䒊䒋䒌䒍䒎䒏䒐䒑䒒䒓䒔䒕䒖䒗䒘䒙䒚䒛䒜䒝䒞䒟䒠䒡䒢䒣䒤䒥䒦䒧䒨䒩䒪䒫䒬䒭䒮䒯䒰䒱䒲䒳䒴䒵䒶䒷䒸䒹䒺䒻䒼䒽䒾䒿䓀䓁䓂䓃䓄䓅䓆䓇䓈䓉䓊䓋䓌䓍䓎䓏䓐䓑䓒䓓䓔䓕䓖䓗䓘䓙䓚䓛䓜䓝䓞䓟䓠䓡䓢䓣䓤䓥䓦䓧䓨䓩䓪䓫䓬䓭䓮䓯䓰䓱䓲䓳䓴䓵䓶䓷䓸䓹䓺䓻䓼䓽䓾䓿䔀䔁䔂䔃䔄䔅䔆䔇䔈䔉䔊䔋䔌䔍䔎䔏䔐䔑䔒䔓䔔䔕䔖䔗䔘䔙䔚䔛䔜䔝䔞䔟䔠䔡䔢䔣䔤䔥䔦䔧䔨䔩䔪䔫䔬䔭䔮䔯䔰䔱䔲䔳䔴䔵䔶䔷䔸䔹䔺䔻䔼䔽䔾䔿䕀䕁䕂䕃䕄䕅䕆䕇䕈䕉䕊䕋䕌䕍䕎䕏䕐䕑䕒䕓䕔䕕䕖䕗䕘䕙䕚䕛䕜䕝䕞䕟䕠䕡䕢䕣䕤䕥䕦䕧䕨䕩䕪䕫䕬䕭䕮䕯䕰䕱䕲䕳䕴䕵䕶䕷䕸䕹䕺䕻䕼䕽䕾䕿䖀䖁䖂䖃䖄䖅䖆䖇䖈䖉䖊䖋䖌䖍䖎䖏䖐䖑䖒䖓䖔䖕䖖䖗䖘䖙䖚䖛䖜䖝䖞䖟䖠䖡䖢䖣䖤䖥䖦䖧䖨䖩䖪䖫䖬䖭䖮䖯䖰䖱䖲䖳䖴䖵䖶䖷䖸䖹䖺䖻䖼䖽䖾䖿䗀䗁䗂䗃䗄䗅䗆䗇䗈䗉䗊䗋䗌䗍䗎䗏䗐䗑䗒䗓䗔䗕䗖䗗䗘䗙䗚䗛䗜䗝䗞䗟䗠䗡䗢䗣䗤䗥䗦䗧䗨䗩䗪䗫䗬䗭䗮䗯䗰䗱䗲䗳䗴䗵䗶䗷䗸䗹䗺䗻䗼䗽䗾䗿䘀䘁䘂䘃䘄䘅䘆䘇䘈䘉䘊䘋䘌䘍䘎䘏䘐䘑䘒䘓䘔䘕䘖䘗䘘䘙䘚䘛䘜䘝䘞䘟䘠䘡䘢䘣䘤䘥䘦䘧䘨䘩䘪䘫䘬䘭䘮䘯䘰䘱䘲䘳䘴䘵䘶䘷䘸䘹䘺䘻䘼䘽䘾䘿䙀䙁䙂䙃䙄䙅䙆䙇䙈䙉䙊䙋䙌䙍䙎䙏䙐䙑䙒䙓䙔䙕䙖䙗䙘䙙䙚䙛䙜䙝䙞䙟䙠䙡䙢䙣䙤䙥䙦䙧䙨䙩䙪䙫䙬䙭䙮䙯䙰䙱䙲䙳䙴䙵䙶䙷䙸䙹䙺䙻䙼䙽䙾䙿䚀䚁䚂䚃䚄䚅䚆䚇䚈䚉䚊䚋䚌䚍䚎䚏䚐䚑䚒䚓䚔䚕䚖䚗䚘䚙䚚䚛䚜䚝䚞䚟䚠䚡䚢䚣䚤䚥䚦䚧䚨䚩䚪䚫䚬䚭䚮䚯䚰䚱䚲䚳䚴䚵䚶䚷䚸䚹䚺䚻䚼䚽䚾䚿䛀䛁䛂䛃䛄䛅䛆䛇䛈䛉䛊䛋䛌䛍䛎䛏䛐䛑䛒䛓䛔䛕䛖䛗䛘䛙䛚䛛䛜䛝䛞䛟䛠䛡䛢䛣䛤䛥䛦䛧䛨䛩䛪䛫䛬䛭䛮䛯䛰䛱䛲䛳䛴䛵䛶䛷䛸䛹䛺䛻䛼䛽䛾䛿䜀䜁䜂䜃䜄䜅䜆䜇䜈䜉䜊䜋䜌䜍䜎䜏䜐䜑䜒䜓䜔䜕䜖䜗䜘䜙䜚䜛䜜䜝䜞䜟䜠䜡䜢䜣䜤䜥䜦䜧䜨䜩䜪䜫䜬䜭䜮䜯䜰䜱䜲䜳䜴䜵䜶䜷䜸䜹䜺䜻䜼䜽䜾䜿䝀䝁䝂䝃䝄䝅䝆䝇䝈䝉䝊䝋䝌䝍䝎䝏䝐䝑䝒䝓䝔䝕䝖䝗䝘䝙䝚䝛䝜䝝䝞䝟䝠䝡䝢䝣䝤䝥䝦䝧䝨䝩䝪䝫䝬䝭䝮䝯䝰䝱䝲䝳䝴䝵䝶䝷䝸䝹䝺䝻䝼䝽䝾䝿䞀䞁䞂䞃䞄䞅䞆䞇䞈䞉䞊䞋䞌䞍䞎䞏䞐䞑䞒䞓䞔䞕䞖䞗䞘䞙䞚䞛䞜䞝䞞䞟䞠䞡䞢䞣䞤䞥䞦䞧䞨䞩䞪䞫䞬䞭䞮䞯䞰䞱䞲䞳䞴䞵䞶䞷䞸䞹䞺䞻䞼䞽䞾䞿䟀䟁䟂䟃䟄䟅䟆䟇䟈䟉䟊䟋䟌䟍䟎䟏䟐䟑䟒䟓䟔䟕䟖䟗䟘䟙䟚䟛䟜䟝䟞䟟䟠䟡䟢䟣䟤䟥䟦䟧䟨䟩䟪䟫䟬䟭䟮䟯䟰䟱䟲䟳䟴䟵䟶䟷䟸䟹䟺䟻䟼䟽䟾䟿䠀䠁䠂䠃䠄䠅䠆䠇䠈䠉䠊䠋䠌䠍䠎䠏䠐䠑䠒䠓䠔䠕䠖䠗䠘䠙䠚䠛䠜䠝䠞䠟䠠䠡䠢䠣䠤䠥䠦䠧䠨䠩䠪䠫䠬䠭䠮䠯䠰䠱䠲䠳䠴䠵䠶䠷䠸䠹䠺䠻䠼䠽䠾䠿䡀䡁䡂䡃䡄䡅䡆䡇䡈䡉䡊䡋䡌䡍䡎䡏䡐䡑䡒䡓䡔䡕䡖䡗䡘䡙䡚䡛䡜䡝䡞䡟䡠䡡䡢䡣䡤䡥䡦䡧䡨䡩䡪䡫䡬䡭䡮䡯䡰䡱䡲䡳䡴䡵䡶䡷䡸䡹䡺䡻䡼䡽䡾䡿䢀䢁䢂䢃䢄䢅䢆䢇䢈䢉䢊䢋䢌䢍䢎䢏䢐䢑䢒䢓䢔䢕䢖䢗䢘䢙䢚䢛䢜䢝䢞䢟䢠䢡䢢䢣䢤䢥䢦䢧䢨䢩䢪䢫䢬䢭䢮䢯䢰䢱䢲䢳䢴䢵䢶䢷䢸䢹䢺䢻䢼䢽䢾䢿䣀䣁䣂䣃䣄䣅䣆䣇䣈䣉䣊䣋䣌䣍䣎䣏䣐䣑䣒䣓䣔䣕䣖䣗䣘䣙䣚䣛䣜䣝䣞䣟䣠䣡䣢䣣䣤䣥䣦䣧䣨䣩䣪䣫䣬䣭䣮䣯䣰䣱䣲䣳䣴䣵䣶䣷䣸䣹䣺䣻䣼䣽䣾䣿䤀䤁䤂䤃䤄䤅䤆䤇䤈䤉䤊䤋䤌䤍䤎䤏䤐䤑䤒䤓䤔䤕䤖䤗䤘䤙䤚䤛䤜䤝䤞䤟䤠䤡䤢䤣䤤䤥䤦䤧䤨䤩䤪䤫䤬䤭䤮䤯䤰䤱䤲䤳䤴䤵䤶䤷䤸䤹䤺䤻䤼䤽䤾䤿䥀䥁䥂䥃䥄䥅䥆䥇䥈䥉䥊䥋䥌䥍䥎䥏䥐䥑䥒䥓䥔䥕䥖䥗䥘䥙䥚䥛䥜䥝䥞䥟䥠䥡䥢䥣䥤䥥䥦䥧䥨䥩䥪䥫䥬䥭䥮䥯䥰䥱䥲䥳䥴䥵䥶䥷䥸䥹䥺䥻䥼䥽䥾䥿䦀䦁䦂䦃䦄䦅䦆䦇䦈䦉䦊䦋䦌䦍䦎䦏䦐䦑䦒䦓䦔䦕䦖䦗䦘䦙䦚䦛䦜䦝䦞䦟䦠䦡䦢䦣䦤䦥䦦䦧䦨䦩䦪䦫䦬䦭䦮䦯䦰䦱䦲䦳䦴䦵䦶䦷䦸䦹䦺䦻䦼䦽䦾䦿䧀䧁䧂䧃䧄䧅䧆䧇䧈䧉䧊䧋䧌䧍䧎䧏䧐䧑䧒䧓䧔䧕䧖䧗䧘䧙䧚䧛䧜䧝䧞䧟䧠䧡䧢䧣䧤䧥䧦䧧䧨䧩䧪䧫䧬䧭䧮䧯䧰䧱䧲䧳䧴䧵䧶䧷䧸䧹䧺䧻䧼䧽䧾䧿䨀䨁䨂䨃䨄䨅䨆䨇䨈䨉䨊䨋䨌䨍䨎䨏䨐䨑䨒䨓䨔䨕䨖䨗䨘䨙䨚䨛䨜䨝䨞䨟䨠䨡䨢䨣䨤䨥䨦䨧䨨䨩䨪䨫䨬䨭䨮䨯䨰䨱䨲䨳䨴䨵䨶'"
      ]
     },
     "execution_count": 2,
     "metadata": {},
     "output_type": "execute_result"
    }
   ],
   "source": [
    "# python knows how to render lots of characters!\n",
    "\n",
    "c1 = ''.join([chr(j) for j in range(17100, 18999)])\n",
    "c1"
   ]
  },
  {
   "cell_type": "code",
   "execution_count": 3,
   "metadata": {
    "scrolled": false
   },
   "outputs": [
    {
     "data": {
      "text/plain": [
       "'𓇑𓆝𓆘𓉨𓅢𓃧𓏀𓋾𓏐𓇠𓍷𓎁𓇭𓈑𓀹𓌡𓅪𓋔𓇁𓎙𓉾𓌶𓈡𓃐𓂟𓂏𓄆𓊣𓁊𓍬𓄋𓊗𓌉𓁡𓉦𓌯𓃄𓍸𓎰𓏷𓂬𓍠𓋻𓇾𓉸𓋄𓂊𓉭𓏉𓈝𓎩𓅓𓂕𓋉𓊀𓋗𓏆𓈘𓈌𓁍𓉐𓂡𓇜𓉻𓍙𓇉𓎂𓐐𓎱𓂞𓊄𓂚𓉰𓆜𓌊𓄖𓄯𓉥𓂿𓂺𓊜𓊁𓆏𓋼𓅁𓐇𓆛𓃇𓍿𓂇𓃯𓅂𓈣𓊰𓊢𓃽𓃚𓉩𓀔𓂻𓂁𓊮𓆾𓋘𓇤𓂯𓏂𓌈𓍈𓃙𓅞𓐔𓎖𓆭𓄐𓆖𓉄𓆋𓍓𓃰𓊷𓏰𓏵𓇔𓀓𓂼𓉑𓁨𓆵𓉋𓇆𓎷𓄳𓁕𓍄𓃷𓀨𓍜𓃿𓈸𓊖𓃞𓍹𓃫𓍱𓊞𓄗𓁝𓂶𓆤𓁱𓏹𓊍𓆌𓎑𓉧𓉀𓐙𓋫𓊨𓅦𓋱𓁾𓄩𓈬𓎪𓍐𓃍𓋪𓇱𓋏𓎆𓁳𓃉𓉊𓈯𓅱𓊥𓂦𓁤𓏤𓐏𓂾𓄣𓉵𓋤𓀱𓌏𓈥𓃖𓏛𓄽𓄠𓀼𓍗𓍾𓌧𓃑𓈩𓄰𓄭𓅗𓊪𓄲𓉞𓃟𓊉𓋖𓀚𓈇𓋟𓄇𓋠𓁥𓊧𓅿𓂽𓍫𓇌𓄃𓎻𓌠𓉪𓉠𓄬𓎇𓉁𓅡𓎒𓀄𓊼𓎌𓌟𓀎𓁉𓐁𓃡𓉕𓋦𓅔𓈏𓊈𓋳𓇶𓁈𓋅𓇇𓎝𓈎𓀖𓅤𓌻𓈽𓊡𓌱𓎺𓍟𓁣𓋚𓀊𓄛𓅆𓀂𓉙𓍕𓄑𓁇𓏮𓈔𓐣𓋁𓈾𓁓𓊫𓂔𓀦𓊿𓎏𓉅𓊓𓁯𓆺𓌵𓅌𓆥𓋵𓃨𓋷𓆂𓁪𓊯𓍃𓅅𓎊𓁞𓍪𓄹𓐜𓊻𓎽𓃋𓅚𓄀𓃣𓉗𓇥𓇐𓇽𓀶𓏏𓁐𓌼𓉹𓍇𓉷𓌫𓀧𓎳𓎣𓋍𓁦𓋇𓈱𓀰𓎄𓆦𓀡𓌷𓃊𓊃𓅍𓉚𓄁𓈊𓅽𓀫𓃆𓌋𓀷𓁁𓍋𓆈𓐡𓏴𓅼𓂐𓍦𓎋𓀁𓉼𓎃𓀭𓌚𓌅𓄪𓁼𓈹𓋆𓍳𓍮𓅛𓏶𓂪𓀒𓌿𓋝𓋊𓐄𓋬𓆐𓎭𓂒𓐚𓅊𓎓𓁸𓆓𓌸𓐛𓅝𓊘𓐝𓊶𓂤𓇨𓋋𓃓𓌲𓉇𓊙𓏅𓎀𓏘𓌨𓍛𓈻𓄕𓀆𓋐𓈚𓆶𓆲𓀑𓐒𓂀𓄏𓎮𓀳𓏢𓁀𓈢𓃛𓏋𓎐𓁎𓋕𓅏𓆴𓍯𓉛𓇞𓄎𓁅𓏫𓍩𓆇𓃕𓐥𓈭𓐀𓐮𓐘𓄂𓍽𓈃𓁏𓉿𓉶𓇣𓅫𓋮𓃵𓎞𓆱𓂄𓆩𓉣𓇻𓄘𓍆𓃔𓄊𓅋𓀝𓎛𓍏𓄻𓍶𓌦𓋽𓈈𓎾𓁃𓎉𓈁𓂆𓈛𓇂𓌇𓌁𓇄𓈞𓎚𓈲𓆉𓀪𓁔𓇼𓏇𓌺𓋢𓂑𓀗𓊚𓇙𓐗𓁷𓈪𓋃𓏩𓃘𓃶𓄱𓆯𓀀𓀟𓌮𓀃𓆹𓌗𓊋𓍢𓁫𓉜𓃠𓂹𓅙𓐉𓐤𓄶𓄈𓁻𓍍𓂉𓂎𓏺𓂈𓁑𓅵𓄟𓅺𓄵𓄴𓀺𓏝𓉟𓂵𓇬𓍝𓋣𓍼𓈀𓃳𓅘𓋡𓂙𓏯𓐨𓊺𓂴𓇚𓇀𓂰𓄚𓂓𓁘𓋴𓌭𓊔𓃪𓉢𓈮𓈟𓍰𓏄𓏍𓊹𓅇𓈉𓆪𓌒𓈒𓀉𓁛𓊸𓀛𓇮𓈂𓀜𓋹𓊎𓀍𓏓𓏎𓅴𓏙𓃺𓆒𓉍𓋙𓏚𓉳𓍞𓊑𓎵𓀇𓅈𓏳𓃥𓍂𓉘𓉡𓁺𓐞𓎔𓈺𓀴𓉆𓅲𓀾𓋂𓈅𓈳𓈕𓁩𓇍𓉔𓇹𓍉𓀢𓌖𓊒𓌓𓇕𓅉𓏼𓊦𓈷𓅸𓋿𓇘𓌬𓆫𓉎𓌌𓇝𓊝𓍑𓉱𓏃𓁙𓁬𓆚𓅯𓎸𓌣𓎅𓎶𓅬𓉉𓆸𓍘𓎎𓏿𓊏𓈵𓈄𓂨𓇰𓋭𓄄𓅷𓂘𓐑𓈼𓎜𓎍𓌞𓁰𓀈𓈤𓄤𓍴𓉒𓉃𓁧𓀙𓍚𓆕𓃃𓏑𓄼𓀐𓃎𓅐𓊅𓇫𓁗𓀯𓃏𓎴𓐪𓇏𓎥𓂭𓉝𓉖𓃜𓍭𓅑𓍀𓇟𓃅𓊛𓏻𓍤𓄿𓅠𓈠𓅮𓌹𓈧𓏧𓏲𓉽𓁌𓋎𓆙𓆆𓅻𓁜𓀮𓄧𓀬𓅭𓄡𓆷𓀠𓃹𓆳𓆟𓇡𓋒𓐟𓂂𓋜𓅥𓂅𓏕𓊽𓈓𓎟𓏜𓄮𓅕𓌳𓍣𓍧𓁭𓂧𓌛𓅀𓎿𓍲𓆻𓀋𓄸𓀸𓂣𓋥𓏞𓁢𓆠𓌥𓀤𓅟𓐎𓇲𓐫𓐓𓋧𓁶𓅧𓌙𓇳𓆰𓄌𓃗𓇴𓁄𓏗𓌎𓊾𓈦𓍖𓇒𓁮𓐅𓎦𓐩𓉓𓇋𓁵𓐬𓌪𓌀𓌄𓄾𓃦𓀵𓏒𓈍𓁟𓌤𓍁𓍌𓃲𓃢𓌍𓄞𓌢𓎯𓊐𓉴𓋩𓄙𓌜𓐢𓋸𓐊𓐠𓆔𓎠𓎹𓎲𓇦𓃴𓅶𓂳𓃼𓇺𓇢𓍎𓍊𓃭𓇛𓍅𓅾𓀞𓈰𓌰𓏬𓃩𓂌𓀩𓉈𓋞𓃬𓋀𓐍𓂝𓀽𓆢𓏦𓈙𓃮𓊤𓏠𓎨𓏨𓂷𓅜𓇓𓆅𓋲𓋌𓇃𓃌𓂥𓌑𓋑𓈋𓊊𓐭𓉫𓅄𓂱𓎘𓂩𓈜𓃀𓄓𓆼𓅩𓍨𓄉𓏁𓏔𓏥𓊬𓎼𓅹𓁂𓂜𓂛𓎡𓅨𓋛𓍻𓃻𓄥𓍒𓃸𓆧𓊠𓏖𓆨𓅎𓆑𓆊𓐧𓎢𓊱𓋓𓃁𓆃𓇎𓀻𓅰𓐌𓆞𓏈𓊩𓄔𓁋𓎤𓋨𓀲𓊟𓊵𓏊𓁚𓊴𓄝𓏾𓇧𓈿𓂢𓎗𓆗𓄷𓊂𓏽𓀣𓐆𓌽𓆡𓋶𓁽𓅳𓌔𓁲𓃈𓈐𓂗𓏟𓃾𓂸𓊕𓂃𓌂𓈆𓆍𓂍𓌕𓄺𓆀𓊲𓐖𓀅𓏡𓌾𓊇𓀏𓂲𓉮𓌘𓏪𓀕𓅖𓊭𓆿𓏸𓍺𓆽𓀌𓐕𓎈𓁹𓌩𓏌𓍡𓎧𓂫𓊳𓈴𓆮𓐦𓍥𓄨𓁖𓌃𓉯𓄦𓀘𓉺𓂖𓈗𓃂𓆄𓅒𓁆𓋯𓂋𓀿𓊆𓁴𓄜𓌐𓐈𓇅𓎫𓍵𓃱𓐋𓋺𓇷𓇖𓄢𓃤𓆣𓆬𓇗𓇵𓐃𓇪𓆎𓆁𓁠𓄅𓉬𓃒𓏭𓉏𓐂𓁒𓃝𓋈𓈨𓍔𓂠𓇿𓈖𓎬𓏣𓄍𓈫𓅣𓌆𓉌𓇊𓁿𓄒𓇯𓉤𓎕𓇸𓄫𓇩𓊌𓏱𓉂𓅃𓌴𓇈𓂮𓌝𓀥𓋰𓈶𓉲'"
      ]
     },
     "execution_count": 3,
     "metadata": {},
     "output_type": "execute_result"
    }
   ],
   "source": [
    "eg=''.join([chr(j) for j in range(int('13000', 16), int('1342F',16))])\n",
    "import random\n",
    "eg=list(eg)\n",
    "random.shuffle(eg)\n",
    "eg=''.join(eg)\n",
    "eg"
   ]
  },
  {
   "cell_type": "code",
   "execution_count": 4,
   "metadata": {},
   "outputs": [
    {
     "data": {
      "text/plain": [
       "'𒀀𒀁𒀂𒀃𒀄𒀅𒀆𒀇𒀈𒀉𒀊𒀋𒀌𒀍𒀎𒀏𒀐𒀑𒀒𒀓𒀔𒀕𒀖𒀗𒀘𒀙𒀚𒀛𒀜𒀝𒀞𒀟𒀠𒀡𒀢𒀣𒀤𒀥𒀦𒀧𒀨𒀩𒀪𒀫𒀬𒀭𒀮𒀯𒀰𒀱𒀲𒀳𒀴𒀵𒀶𒀷𒀸𒀹𒀺𒀻𒀼𒀽𒀾𒀿𒁀𒁁𒁂𒁃𒁄𒁅𒁆𒁇𒁈𒁉𒁊𒁋𒁌𒁍𒁎𒁏𒁐𒁑𒁒𒁓𒁔𒁕𒁖𒁗𒁘𒁙𒁚𒁛𒁜𒁝𒁞𒁟𒁠𒁡𒁢𒁣𒁤𒁥𒁦𒁧𒁨𒁩𒁪𒁫𒁬𒁭𒁮𒁯𒁰𒁱𒁲𒁳𒁴𒁵𒁶𒁷𒁸𒁹𒁺𒁻𒁼𒁽𒁾𒁿𒂀𒂁𒂂𒂃𒂄𒂅𒂆𒂇𒂈𒂉𒂊𒂋𒂌𒂍𒂎𒂏𒂐𒂑𒂒𒂓𒂔𒂕𒂖𒂗𒂘𒂙𒂚𒂛𒂜𒂝𒂞𒂟𒂠𒂡𒂢𒂣𒂤𒂥𒂦𒂧𒂨𒂩𒂪𒂫𒂬𒂭𒂮𒂯𒂰𒂱𒂲𒂳𒂴𒂵𒂶𒂷𒂸𒂹𒂺𒂻𒂼𒂽𒂾𒂿𒃀𒃁𒃂𒃃𒃄𒃅𒃆𒃇𒃈𒃉𒃊𒃋𒃌𒃍𒃎𒃏𒃐𒃑𒃒𒃓𒃔𒃕𒃖𒃗𒃘𒃙𒃚𒃛𒃜𒃝𒃞𒃟𒃠𒃡𒃢𒃣𒃤𒃥𒃦𒃧𒃨𒃩𒃪𒃫𒃬𒃭𒃮𒃯𒃰𒃱𒃲𒃳𒃴𒃵𒃶𒃷𒃸𒃹𒃺𒃻𒃼𒃽𒃾𒃿𒄀𒄁𒄂𒄃𒄄𒄅𒄆𒄇𒄈𒄉𒄊𒄋𒄌𒄍𒄎𒄏𒄐𒄑𒄒𒄓𒄔𒄕𒄖𒄗𒄘𒄙𒄚𒄛𒄜𒄝𒄞𒄟𒄠𒄡𒄢𒄣𒄤𒄥𒄦𒄧𒄨𒄩𒄪𒄫𒄬𒄭𒄮𒄯𒄰𒄱𒄲𒄳𒄴𒄵𒄶𒄷𒄸𒄹𒄺𒄻𒄼𒄽𒄾𒄿𒅀𒅁𒅂𒅃𒅄𒅅𒅆𒅇𒅈𒅉𒅊𒅋𒅌𒅍𒅎𒅏𒅐𒅑𒅒𒅓𒅔𒅕𒅖𒅗𒅘𒅙𒅚𒅛𒅜𒅝𒅞𒅟𒅠𒅡𒅢𒅣𒅤𒅥𒅦𒅧𒅨𒅩𒅪𒅫𒅬𒅭𒅮𒅯𒅰𒅱𒅲𒅳𒅴𒅵𒅶𒅷𒅸𒅹𒅺𒅻𒅼𒅽𒅾𒅿𒆀𒆁𒆂𒆃𒆄𒆅𒆆𒆇𒆈𒆉𒆊𒆋𒆌𒆍𒆎𒆏𒆐𒆑𒆒𒆓𒆔𒆕𒆖𒆗𒆘𒆙𒆚𒆛𒆜𒆝𒆞𒆟𒆠𒆡𒆢𒆣𒆤𒆥𒆦𒆧𒆨𒆩𒆪𒆫𒆬𒆭𒆮𒆯𒆰𒆱𒆲𒆳𒆴𒆵𒆶𒆷𒆸𒆹𒆺𒆻𒆼𒆽𒆾𒆿𒇀𒇁𒇂𒇃𒇄𒇅𒇆𒇇𒇈𒇉𒇊𒇋𒇌𒇍𒇎𒇏𒇐𒇑𒇒𒇓𒇔𒇕𒇖𒇗𒇘𒇙𒇚𒇛𒇜𒇝𒇞𒇟𒇠𒇡𒇢𒇣𒇤𒇥𒇦𒇧𒇨𒇩𒇪𒇫𒇬𒇭𒇮𒇯𒇰𒇱𒇲𒇳𒇴𒇵𒇶𒇷𒇸𒇹𒇺𒇻𒇼𒇽𒇾𒇿𒈀𒈁𒈂𒈃𒈄𒈅𒈆𒈇𒈈𒈉𒈊𒈋𒈌𒈍𒈎𒈏𒈐𒈑𒈒𒈓𒈔𒈕𒈖𒈗𒈘𒈙𒈚𒈛𒈜𒈝𒈞𒈟𒈠𒈡𒈢𒈣𒈤𒈥𒈦𒈧𒈨𒈩𒈪𒈫𒈬𒈭𒈮𒈯𒈰𒈱𒈲𒈳𒈴𒈵𒈶𒈷𒈸𒈹𒈺𒈻𒈼𒈽𒈾𒈿𒉀𒉁𒉂𒉃𒉄𒉅𒉆𒉇𒉈𒉉𒉊𒉋𒉌𒉍𒉎𒉏𒉐𒉑𒉒𒉓𒉔𒉕𒉖𒉗𒉘𒉙𒉚𒉛𒉜𒉝𒉞𒉟𒉠𒉡𒉢𒉣𒉤𒉥𒉦𒉧𒉨𒉩𒉪𒉫𒉬𒉭𒉮𒉯𒉰𒉱𒉲𒉳𒉴𒉵𒉶𒉷𒉸𒉹𒉺𒉻𒉼𒉽𒉾𒉿𒊀𒊁𒊂𒊃𒊄𒊅𒊆𒊇𒊈𒊉𒊊𒊋𒊌𒊍𒊎𒊏𒊐𒊑𒊒𒊓𒊔𒊕𒊖𒊗𒊘𒊙𒊚𒊛𒊜𒊝𒊞𒊟𒊠𒊡𒊢𒊣𒊤𒊥𒊦𒊧𒊨𒊩𒊪𒊫𒊬𒊭𒊮𒊯𒊰𒊱𒊲𒊳𒊴𒊵𒊶𒊷𒊸𒊹𒊺𒊻𒊼𒊽𒊾𒊿𒋀𒋁𒋂𒋃𒋄𒋅𒋆𒋇𒋈𒋉𒋊𒋋𒋌𒋍𒋎𒋏𒋐𒋑𒋒𒋓𒋔𒋕𒋖𒋗𒋘𒋙𒋚𒋛𒋜𒋝𒋞𒋟𒋠𒋡𒋢𒋣𒋤𒋥𒋦𒋧𒋨𒋩𒋪𒋫𒋬𒋭𒋮𒋯𒋰𒋱𒋲𒋳𒋴𒋵𒋶𒋷𒋸𒋹𒋺𒋻𒋼𒋽𒋾𒋿𒌀𒌁𒌂𒌃𒌄𒌅𒌆𒌇𒌈𒌉𒌊𒌋𒌌𒌍𒌎𒌏𒌐𒌑𒌒𒌓𒌔𒌕𒌖𒌗𒌘𒌙𒌚𒌛𒌜𒌝𒌞𒌟𒌠𒌡𒌢𒌣𒌤𒌥𒌦𒌧𒌨𒌩𒌪𒌫𒌬𒌭𒌮𒌯𒌰𒌱𒌲𒌳𒌴𒌵𒌶𒌷𒌸𒌹𒌺𒌻𒌼𒌽𒌾𒌿𒍀𒍁𒍂𒍃𒍄𒍅𒍆𒍇𒍈𒍉𒍊𒍋𒍌𒍍𒍎𒍏𒍐𒍑𒍒𒍓𒍔𒍕𒍖𒍗𒍘𒍙𒍚𒍛𒍜𒍝𒍞𒍟𒍠𒍡𒍢𒍣𒍤𒍥𒍦𒍧𒍨𒍩𒍪𒍫𒍬𒍭𒍮'"
      ]
     },
     "execution_count": 4,
     "metadata": {},
     "output_type": "execute_result"
    }
   ],
   "source": [
    "# python knows how to render lots of characters!\n",
    "\n",
    "cf = ''.join([chr(j) for j in range(0x12000, 0x1239a -43)])\n",
    "cf"
   ]
  },
  {
   "cell_type": "markdown",
   "metadata": {},
   "source": [
    "# 'ord' maps a char into its unicode integer\n",
    "# 'chr' maps a unicode integer into a char"
   ]
  },
  {
   "cell_type": "code",
   "execution_count": 5,
   "metadata": {},
   "outputs": [
    {
     "data": {
      "text/plain": [
       "(65, 'A', '✂')"
      ]
     },
     "execution_count": 5,
     "metadata": {},
     "output_type": "execute_result"
    }
   ],
   "source": [
    "# 3rd char is from 'dingbats'\n",
    "\n",
    "ord('A'), chr(65), chr(0x2702)"
   ]
  },
  {
   "cell_type": "code",
   "execution_count": 6,
   "metadata": {},
   "outputs": [
    {
     "data": {
      "text/plain": [
       "'ℙƴ☂ℌøἤ'"
      ]
     },
     "execution_count": 6,
     "metadata": {},
     "output_type": "execute_result"
    }
   ],
   "source": [
    "uni"
   ]
  },
  {
   "cell_type": "code",
   "execution_count": 7,
   "metadata": {},
   "outputs": [],
   "source": [
    "# three different encodings of unicode \n",
    "\n",
    "utf8, utf16, utf32 = [uni.encode(et) \\\n",
    "                      for et in \\\n",
    "                      ['utf-8', 'utf-16', 'utf-32']]"
   ]
  },
  {
   "cell_type": "code",
   "execution_count": 8,
   "metadata": {
    "scrolled": true
   },
   "outputs": [
    {
     "data": {
      "text/plain": [
       "[[16, bytes], [14, bytes], [28, bytes]]"
      ]
     },
     "execution_count": 8,
     "metadata": {},
     "output_type": "execute_result"
    }
   ],
   "source": [
    "# length of unicode encoding varies \n",
    "# with different encodings\n",
    "\n",
    "[[len(u), type(u)] for u in [utf8, utf16, utf32]]"
   ]
  },
  {
   "cell_type": "code",
   "execution_count": 9,
   "metadata": {},
   "outputs": [
    {
     "data": {
      "text/plain": [
       "(str,\n",
       " bytes,\n",
       " b'\\xe2\\x84\\x99\\xc6\\xb4\\xe2\\x98\\x82\\xe2\\x84\\x8c\\xc3\\xb8\\xe1\\xbc\\xa4',\n",
       " b'\\xff\\xfe\\x19!\\xb4\\x01\\x02&\\x0c!\\xf8\\x00$\\x1f',\n",
       " b'\\xff\\xfe\\x00\\x00\\x19!\\x00\\x00\\xb4\\x01\\x00\\x00\\x02&\\x00\\x00\\x0c!\\x00\\x00\\xf8\\x00\\x00\\x00$\\x1f\\x00\\x00')"
      ]
     },
     "execution_count": 9,
     "metadata": {},
     "output_type": "execute_result"
    }
   ],
   "source": [
    "# utf8, utf16, utf32 are type 'bytes', not str. \n",
    "# just an array of 8 bit ints\n",
    "# note b' prefix\n",
    "\n",
    "type(uni), type(utf8), utf8, utf16, utf32"
   ]
  },
  {
   "cell_type": "code",
   "execution_count": 10,
   "metadata": {},
   "outputs": [
    {
     "data": {
      "text/plain": [
       "'ℙƴ☂ℌøἤ'"
      ]
     },
     "execution_count": 10,
     "metadata": {},
     "output_type": "execute_result"
    }
   ],
   "source": [
    "# decode converts bytes into unicode string\n",
    "\n",
    "utf32.decode('utf-32')"
   ]
  },
  {
   "cell_type": "code",
   "execution_count": 11,
   "metadata": {},
   "outputs": [
    {
     "data": {
      "text/plain": [
       "'ℙƴ☂ℌøἤ'"
      ]
     },
     "execution_count": 11,
     "metadata": {},
     "output_type": "execute_result"
    }
   ],
   "source": [
    "utf8.decode('utf-8')"
   ]
  },
  {
   "cell_type": "code",
   "execution_count": 12,
   "metadata": {},
   "outputs": [
    {
     "ename": "UnicodeDecodeError",
     "evalue": "'utf-8' codec can't decode byte 0xff in position 0: invalid start byte",
     "output_type": "error",
     "traceback": [
      "\u001b[0;31m---------------------------------------------------------------------------\u001b[0m",
      "\u001b[0;31mUnicodeDecodeError\u001b[0m                        Traceback (most recent call last)",
      "\u001b[0;32m<ipython-input-12-8a0e18047ea5>\u001b[0m in \u001b[0;36m<module>\u001b[0;34m\u001b[0m\n\u001b[1;32m      4\u001b[0m \u001b[0;31m# sometimes you will just get a bogus string\u001b[0m\u001b[0;34m\u001b[0m\u001b[0;34m\u001b[0m\u001b[0;34m\u001b[0m\u001b[0m\n\u001b[1;32m      5\u001b[0m \u001b[0;34m\u001b[0m\u001b[0m\n\u001b[0;32m----> 6\u001b[0;31m \u001b[0mutf32\u001b[0m\u001b[0;34m.\u001b[0m\u001b[0mdecode\u001b[0m\u001b[0;34m(\u001b[0m\u001b[0;34m'utf-8'\u001b[0m\u001b[0;34m)\u001b[0m\u001b[0;34m\u001b[0m\u001b[0;34m\u001b[0m\u001b[0m\n\u001b[0m",
      "\u001b[0;31mUnicodeDecodeError\u001b[0m: 'utf-8' codec can't decode byte 0xff in position 0: invalid start byte"
     ]
    }
   ],
   "source": [
    "# to decode, must know the encoding type(key)\n",
    "# selecting the wrong decoder doesn't \n",
    "# always generate an error\n",
    "# sometimes you will just get a bogus string\n",
    "\n",
    "utf32.decode('utf-8')"
   ]
  },
  {
   "cell_type": "markdown",
   "metadata": {},
   "source": [
    "# ascii vs unicode\n",
    "- ascii is easy, because storage media and networks handle bytes, and ascii is just bytes\n",
    "- no byte order issues(big/little endian)\n",
    "- unicode is harder, because\n",
    "    - writing to the network or storage from Python, the unicode string must be ENCODED into a byte stream, in some format like utf-8, utf-16, etc\n",
    "    - reading from the network or storage into Python, the byte stream must be DECODED into a unicode stream. somehow the encoding used must be provided\n",
    "- When using normal 'str' strings, \n",
    "    - must encode as strings leave Python\n",
    "    - must decode as strings enter Python\n",
    "- if all you are using are ascii characters, then everything just works, without any special effort"
   ]
  }
 ],
 "metadata": {
  "anaconda-cloud": {},
  "kernelspec": {
   "display_name": "Python 3",
   "language": "python",
   "name": "python3"
  },
  "language_info": {
   "codemirror_mode": {
    "name": "ipython",
    "version": 3
   },
   "file_extension": ".py",
   "mimetype": "text/x-python",
   "name": "python",
   "nbconvert_exporter": "python",
   "pygments_lexer": "ipython3",
   "version": "3.7.4"
  }
 },
 "nbformat": 4,
 "nbformat_minor": 1
}
