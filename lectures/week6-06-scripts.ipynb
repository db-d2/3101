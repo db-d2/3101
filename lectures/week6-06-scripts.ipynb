{
 "cells": [
  {
   "cell_type": "markdown",
   "metadata": {},
   "source": [
    "# writing 'command line' Python scripts\n",
    "- scripts can query a user, but they usually run in 'batch' mode with no interaction\n",
    "- very important Python skill, fortunately pretty easy\n",
    "- python is much nicer than 'bash'\n",
    "- great for automating repetitive tasks\n",
    "- if writing a complex script, often easier to write the bulk of the code as functions,\n",
    "which can be tested in an IDE, or a notebook. then just call the functions based on the command kube args to the script\n",
    "- on command line can do'python script.py'\n",
    "- on mac/linux can make script itself directly executable\n",
    "    - put magic line:\n",
    "    - ```#!/usr/bin/env python``` \n",
    "    - at top of file to invoke python\n",
    "    - must give file 'execute' permission\n"
   ]
  },
  {
   "cell_type": "markdown",
   "metadata": {},
   "source": [
    "# sys module\n",
    "- basic interface for command line programs"
   ]
  },
  {
   "cell_type": "markdown",
   "metadata": {},
   "source": [
    "# sys.argv \n",
    "- variable set to command line arguments, like 'main' in C and Java\n",
    "- no argc variable - just do len(sys.argv)"
   ]
  },
  {
   "cell_type": "markdown",
   "metadata": {},
   "source": [
    "# sys.exit(status) \n",
    "- exit python and return status\n",
    "- status is a BYTE, 0-255 only\n",
    "- in scripts, main method for signalling script success or failure\n",
    "- return of 0 means things went ok, other values indicate error\n",
    "- in mac/linux, can see exit code by doing\n",
    "    - echo $?"
   ]
  },
  {
   "cell_type": "markdown",
   "metadata": {},
   "source": [
    "# 'input' function\n",
    "- most scripts run in a 'batch mode' w/o interaction\n",
    "- scripts usually controlled by 'command line args'\n",
    "- but, sometimes a script may want to query the user\n",
    "    - 'input()' will read a line of text from keyboard\n",
    "    - 'input('prompt') will first print 'prompt' string, then wait for input\n",
    "    - works in scripts and notebooks"
   ]
  },
  {
   "cell_type": "code",
   "execution_count": 1,
   "metadata": {},
   "outputs": [
    {
     "name": "stdout",
     "output_type": "stream",
     "text": [
      "Type a line: bob\n"
     ]
    },
    {
     "data": {
      "text/plain": [
       "'bob'"
      ]
     },
     "execution_count": 1,
     "metadata": {},
     "output_type": "execute_result"
    }
   ],
   "source": [
    "input(\"Type a line: \")"
   ]
  },
  {
   "cell_type": "markdown",
   "metadata": {},
   "source": [
    "# tqdm\n",
    "- nice progress bar\n",
    "- works in notebooks and scripts"
   ]
  },
  {
   "cell_type": "code",
   "execution_count": 2,
   "metadata": {},
   "outputs": [
    {
     "name": "stderr",
     "output_type": "stream",
     "text": [
      "100%|██████████| 20/20 [00:20<00:00,  1.00s/it]\n"
     ]
    }
   ],
   "source": [
    "from tqdm import tqdm\n",
    "import time\n",
    "\n",
    "for j in tqdm(range(20)):\n",
    "        time.sleep(1)"
   ]
  },
  {
   "cell_type": "markdown",
   "metadata": {},
   "source": [
    "# argparse module\n",
    "- elaborate command line args parser\n",
    "- [argparse reference](https://docs.python.org/3.5/library/argparse.html)\n",
    "- [argparse tutorial](https://docs.python.org/3.5/howto/argparse.html) - easier to read\n",
    "- takes a little effort to set it up, but provides alot of functionality. handles many error conditions automatically\n",
    "- will do sys.exit(1) on invalid args\n",
    "- like 'getopt' in C\n"
   ]
  },
  {
   "cell_type": "code",
   "execution_count": null,
   "metadata": {},
   "outputs": [],
   "source": [
    "# needs to run from cmd line\n",
    "# contents of argparse-example\n",
    "\n",
    "'''\n",
    "#!/usr/bin/env python\n",
    "\n",
    "# run as python script\n",
    "\n",
    "import sys\n",
    "import argparse\n",
    "\n",
    "parser = argparse.ArgumentParser()\n",
    "\n",
    "# required positional arg\n",
    "parser.add_argument(\"arg1\", type=int,\n",
    "                    help=\"an int\")\n",
    "\n",
    "# 2nd required positional arg\n",
    "parser.add_argument(\"arg2\", type=str,\n",
    "                    help=\"a pathname\")\n",
    "\n",
    "# optional '-' flag with no arg\n",
    "parser.add_argument(\"-v\", \"--verbose\", help=\"increase output verbosity\",\n",
    "                    action=\"store_true\")\n",
    "\n",
    "# optional '-' flag no arg\n",
    "parser.add_argument(\"-q\", \"--query\", help=\"query for exit value\",\n",
    "\t\t\t action='store_true')\n",
    "\n",
    "# optional '-' flag with required arg\n",
    "parser.add_argument(\"-e\", \"--exit\", help=\"specify exit value as arg\",\n",
    "\t\t\t type=int)\n",
    "\n",
    "\n",
    "# parsed args - will automatically print errors and abort on bad args\n",
    "args = parser.parse_args()\n",
    "\n",
    "# if we got here, the parse was happy\n",
    "print('arg1=', args.arg1)\n",
    "print('arg2=', args.arg2)\n",
    "\n",
    "# args.verbose will = None if no arg\n",
    "if args.verbose:\n",
    "    print(\"verbosity turned on\")\n",
    "\n",
    "\n",
    "# note exit val is one byte, 0-255\n",
    "# could check and complain if given\n",
    "# bogus value\n",
    "\n",
    "if args.exit:\n",
    "   print(\"exit with:\", args.exit)\n",
    "   # in bash, print with:  echo $?\n",
    "   sys.exit(args.exit)\n",
    "   print(\"won't get here\")\n",
    "\n",
    "if args.query:\n",
    "   # demand input from the user\n",
    "   es = input('specify exit value: ')\n",
    "   e = int(es)\n",
    "   sys.exit(e)\n",
    "\n",
    "\n",
    "'''\n",
    "None"
   ]
  },
  {
   "cell_type": "code",
   "execution_count": null,
   "metadata": {},
   "outputs": [],
   "source": [
    "# sample calls\n",
    "\n",
    "'''\n",
    "# use python to invoke script\n",
    "# bad args, doesn't work\n",
    "\n",
    "python cmdline.py \n",
    "usage: cmdline.py [-h] [-v] [-e EXIT] intarg1 arg2\n",
    "cmdline.py: error: the following arguments are required: intarg1, arg2\n",
    "\n",
    "\n",
    "# invoke script directly. ask for help with '-h'\n",
    "\n",
    "notebooks@larrys-MBP$ cmdline.py -h\n",
    "usage: cmdline.py [-h] [-v] [-q] [-e EXIT] arg1 arg2\n",
    "\n",
    "positional arguments:\n",
    "  arg1                  an int\n",
    "  arg2                  a pathanme\n",
    "\n",
    "optional arguments:\n",
    "  -h, --help            show this help message and exit\n",
    "  -v, --verbose         increase output verbosity\n",
    "  -q, --query           query for exit value\n",
    "  -e EXIT, --exit EXIT  specify exit value as arg\n",
    "\n",
    "\n",
    "# fails, no args\n",
    "\n",
    "notebooks@larrys-MBP$ cmdline.py\n",
    "usage: cmdline.py [-h] [-v] [-e EXIT] intarg1 arg2\n",
    "cmdline.py: error: the following arguments are required: intarg1, arg2\n",
    "\n",
    "\n",
    "# doesn't work, first arg must be an int\n",
    "\n",
    "\n",
    "notebooks@larrys-MBP$ cmdline.py foo\n",
    "usage: cmdline.py [-h] [-v] [-e EXIT] intarg1 arg2\n",
    "cmdline.py: error: argument intarg1: invalid int value: 'foo'\n",
    "\n",
    "\n",
    "# doesn't work, missing 2nd arg\n",
    "\n",
    "\n",
    "notebooks@larrys-MBP$ cmdline.py 1234\n",
    "usage: cmdline.py [-h] [-v] [-e EXIT] intarg1 arg2\n",
    "cmdline.py: error: the following arguments are required: arg2\n",
    "\n",
    "\n",
    "# finally got it right!\n",
    "\n",
    "notebooks@larrys-MBP$ cmdline.py 1234 bar\n",
    "Namespace(arg2='bar', exit=None, intarg1=1234, verbose=False)\n",
    "intarg1= 1234\n",
    "arg2= bar\n",
    "\n",
    "\n",
    "# added optional '-v' verbose flag\n",
    "\n",
    "notebooks@larrys-MBP$ cmdline.py 1234 bar -v\n",
    "Namespace(arg2='bar', exit=None, intarg1=1234, verbose=True)\n",
    "intarg1= 1234\n",
    "arg2= bar\n",
    "verbosity turned on\n",
    "\n",
    "# added optional '--exit' flag, which takes an arg\n",
    "\n",
    "notebooks@larrys-MBP$ cmdline.py 1234 bar --exit 29\n",
    "Namespace(arg2='bar', exit=29, intarg1=1234, verbose=False)\n",
    "intarg1= 1234\n",
    "arg2= bar\n",
    "exit with: 29\n",
    "notebooks@larrys-MBP$ echo $?\n",
    "29\n",
    "\n",
    "\n",
    "\n",
    "'''"
   ]
  },
  {
   "cell_type": "markdown",
   "metadata": {},
   "source": [
    "# alternative module - use 'click'\n",
    "- arg parsing specified with decorators\n",
    "- @click.argument - like python positional args\n",
    "- @click.option - like python optional keyword args\n",
    "    - options normally take an args, like '--exit'\n",
    "    - is_flag = True - optional does not take an arg\n",
    "- tends to be simpler than argparse"
   ]
  },
  {
   "cell_type": "code",
   "execution_count": null,
   "metadata": {},
   "outputs": [],
   "source": [
    "import time\n",
    "import click\n",
    "import sys\n",
    "from tqdm import tqdm\n",
    "\n",
    "@click.command()\n",
    "@click.argument('arg1')\n",
    "@click.argument('arg2')\n",
    "@click.option('--loops', default=0, help='Loop with progress bar')\n",
    "@click.option('--exit', default=0, help='Specifiy exit code')\n",
    "@click.option('--verbose', is_flag=True, help='Print sys info')\n",
    "@click.option('--query', is_flag=True, help='Prompt for exit code')\n",
    "\n",
    "\n",
    "def hello(arg1, arg2, exit=0, query=False, verbose=False, loops = 0):\n",
    "    \"\"\"Simple script that plays with click.\"\"\"\n",
    "    if verbose:\n",
    "        print(f'sys.version={sys.version}')\n",
    "        print(f'arg1={arg1}, arg2={arg2}')\n",
    "    if loops:\n",
    "        for j in tqdm(range(loops)):\n",
    "            time.sleep(1)\n",
    "    if exit:\n",
    "        sys.exit(exit)\n",
    "\n",
    "    if query:\n",
    "        # demand input from the user\n",
    "        es = input('specify exit value: ')\n",
    "        e = int(es)\n",
    "        sys.exit(e)\n",
    "        \n",
    "\n",
    "hello()\n"
   ]
  },
  {
   "cell_type": "markdown",
   "metadata": {},
   "source": [
    "```\n",
    "week6$ click-example --help\n",
    "Usage: click-example [OPTIONS] ARG1 ARG2\n",
    "\n",
    "  Simple script that plays with click.\n",
    "\n",
    "Options:\n",
    "  --loops INTEGER  Loop with progress bar\n",
    "  --exit INTEGER   Specifiy exit code\n",
    "  --verbose        Print sys info\n",
    "  --query          Prompt for exit code\n",
    "  --help           Show this message and exit.\n",
    "week6$ click-example first 2\n",
    "week6$ click-example --verbose first 2\n",
    "3.7.3 (default, Mar 27 2019, 16:54:48) \n",
    "[Clang 4.0.1 (tags/RELEASE_401/final)]\n",
    "arg1=first, arg2=2\n",
    "week6$ click-example --loops 4 1 2\n",
    "100%|█████████████████████████████████████████████| 4/4 [00:04<00:00,  1.00s/it]\n",
    "week6$ click-example --exit 35 1 2\n",
    "week6$ echo $?\n",
    "35\n",
    "week6$ click-example --query 1 2\n",
    "specify exit value: 11\n",
    "week6$ echo $?\n",
    "11\n",
    "\n",
    "\n",
    "```"
   ]
  },
  {
   "cell_type": "code",
   "execution_count": null,
   "metadata": {},
   "outputs": [],
   "source": []
  }
 ],
 "metadata": {
  "anaconda-cloud": {},
  "kernelspec": {
   "display_name": "Python 3",
   "language": "python",
   "name": "python3"
  },
  "language_info": {
   "codemirror_mode": {
    "name": "ipython",
    "version": 3
   },
   "file_extension": ".py",
   "mimetype": "text/x-python",
   "name": "python",
   "nbconvert_exporter": "python",
   "pygments_lexer": "ipython3",
   "version": "3.7.4"
  }
 },
 "nbformat": 4,
 "nbformat_minor": 1
}
