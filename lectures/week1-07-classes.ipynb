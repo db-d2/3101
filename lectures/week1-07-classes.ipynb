{
 "cells": [
  {
   "cell_type": "markdown",
   "metadata": {},
   "source": [
    "# Basic Python classes"
   ]
  },
  {
   "cell_type": "markdown",
   "metadata": {},
   "source": [
    "# memory diagrams\n",
    "- the code in the next cell draws memory diagrams\n",
    "- don't try to understand the code\n",
    "\n",
    "if you're not interested in the memory diagrams, ignore\n",
    "the rest of this cell and the next one. do not try\n",
    "to evaluate the next cell, it will bomb\n",
    "\n",
    "if you do want the memory diagrams, then in a shell, do:\n",
    "\n",
    "pip install svgwrite\n",
    "\n",
    "then evaluate the next cell. "
   ]
  },
  {
   "cell_type": "code",
   "execution_count": 23,
   "metadata": {},
   "outputs": [
    {
     "ename": "ModuleNotFoundError",
     "evalue": "No module named 'svgwrite'",
     "output_type": "error",
     "traceback": [
      "\u001b[0;31m---------------------------------------------------------------------------\u001b[0m",
      "\u001b[0;31mModuleNotFoundError\u001b[0m                       Traceback (most recent call last)",
      "\u001b[0;32m<ipython-input-23-9ad713d522f2>\u001b[0m in \u001b[0;36m<module>\u001b[0;34m\u001b[0m\n\u001b[0;32m----> 1\u001b[0;31m \u001b[0;32mimport\u001b[0m \u001b[0msvgwrite\u001b[0m\u001b[0;34m\u001b[0m\u001b[0;34m\u001b[0m\u001b[0m\n\u001b[0m\u001b[1;32m      2\u001b[0m \u001b[0;32mimport\u001b[0m \u001b[0mcollections\u001b[0m\u001b[0;34m\u001b[0m\u001b[0;34m\u001b[0m\u001b[0m\n\u001b[1;32m      3\u001b[0m \u001b[0;34m\u001b[0m\u001b[0m\n\u001b[1;32m      4\u001b[0m \u001b[0mnobinding\u001b[0m \u001b[0;34m=\u001b[0m \u001b[0;34m\"nobinding\"\u001b[0m\u001b[0;34m\u001b[0m\u001b[0;34m\u001b[0m\u001b[0m\n\u001b[1;32m      5\u001b[0m \u001b[0;34m\u001b[0m\u001b[0m\n",
      "\u001b[0;31mModuleNotFoundError\u001b[0m: No module named 'svgwrite'"
     ]
    }
   ],
   "source": [
    "import svgwrite\n",
    "import collections\n",
    "\n",
    "nobinding = \"nobinding\"\n",
    "\n",
    "def binding(var):\n",
    "    try:\n",
    "        return eval(var)\n",
    "    except NameError:\n",
    "        return nobinding\n",
    "    \n",
    "class listis:\n",
    "    def __init__(self):\n",
    "        self.lis = []\n",
    "    def get(self, key):\n",
    "        for k,v in self.lis:\n",
    "            if key is k:\n",
    "                return v\n",
    "    def put(self, key, val):\n",
    "        new = True\n",
    "        for pair in self.lis:\n",
    "            if pair[0] is key:\n",
    "                pair[1].append(val)\n",
    "                new = False\n",
    "        if new:\n",
    "            self.lis.append([key, [val]])\n",
    "    def keys(self):\n",
    "        return [k for k,v in self.lis]\n",
    "\n",
    "class memgraph:\n",
    "    def __init__(self, vars):\n",
    "        self.vars = sorted(vars)\n",
    "        \n",
    "    def _repr_svg_(self):\n",
    "        d = svgwrite.Drawing(size=(800,200))\n",
    "\n",
    "        left = 100\n",
    "        right = 260\n",
    "        dy = 30\n",
    "        vv = listis()\n",
    "        ais = listis()\n",
    "        \n",
    "        for var in self.vars:\n",
    "            val = binding(var)\n",
    "            if val != nobinding:\n",
    "                vv.put(val,var)\n",
    "                ais.put(val, val)\n",
    "\n",
    "        vals = ais.keys()\n",
    "        vary = dict()\n",
    "        \n",
    "        y = dy\n",
    "        d.add(d.text(\"Variables\", insert=(left, y), text_anchor=\"end\", fill='blue'))\n",
    "        y += dy\n",
    "        \n",
    "        for var in self.vars:\n",
    "            d.add(d.text(var, insert=(left, y), text_anchor=\"end\", fill='black'))\n",
    "            vary[var] = y\n",
    "            y += dy\n",
    "\n",
    "        y = dy\n",
    "        d.add(d.text(\"Objects(in the Heap)\", insert=(right, y), fill='blue'))\n",
    "        y += dy\n",
    "        \n",
    "        for val in vals:\n",
    "            d.add(d.text(str(val), insert=(right, y), fill='black'))\n",
    "\n",
    "            for var in vv.get(val):\n",
    "                ly = vary[var]\n",
    "                d.add(d.line((left, ly ), (right, y),  stroke=svgwrite.rgb(90, 10, 16, '%')))\n",
    "            y += dy\n",
    "            \n",
    "        return d.tostring()\n",
    "\n",
    "    def svg(self):\n",
    "        return self._repr_svg_()\n",
    "\n"
   ]
  },
  {
   "cell_type": "markdown",
   "metadata": {},
   "source": [
    "# Python Comments\n",
    "- anything on a line after a '#\" is a comment and ignored by Python,\n",
    "unless the '#' is inside a string constant"
   ]
  },
  {
   "cell_type": "markdown",
   "metadata": {},
   "source": [
    "# Classes\n",
    "- classes define \"templates or blueprints\" for building objects\n",
    "- once a class is defined, any number of objects can be \"constructed\", or \"instantiated\"\n",
    "- EVERYTHING in Python is an 'object'\n",
    "    - not true in Java/C++\n",
    "- all Python objects are stored in the 'heap'\n",
    "- each object has a fixed 'type', which can be accessed via the 'type' function\n",
    "- objects have attributes, which are \"named slots for objects\"\n",
    "- a 'method' is an attribute holding a function object, which can access and modify the object attributes\n",
    "- class methods are invoked by functions, operators, and the \".\" syntax. "
   ]
  },
  {
   "cell_type": "markdown",
   "metadata": {},
   "source": [
    "# Number Types\n",
    "- int - arbitrary precision\n",
    "- float - 64 bits\n",
    "- complex\n",
    "- numbers evaluate to themselves"
   ]
  },
  {
   "cell_type": "code",
   "execution_count": 24,
   "metadata": {},
   "outputs": [
    {
     "data": {
      "text/plain": [
       "1234"
      ]
     },
     "execution_count": 24,
     "metadata": {},
     "output_type": "execute_result"
    }
   ],
   "source": [
    "# number with no decimal point is an integer\n",
    "\n",
    "1234 "
   ]
  },
  {
   "cell_type": "code",
   "execution_count": 25,
   "metadata": {},
   "outputs": [
    {
     "data": {
      "text/plain": [
       "2.3"
      ]
     },
     "execution_count": 25,
     "metadata": {},
     "output_type": "execute_result"
    }
   ],
   "source": [
    "# number with decimal point is a float\n",
    "\n",
    "2.3"
   ]
  },
  {
   "cell_type": "code",
   "execution_count": 26,
   "metadata": {},
   "outputs": [
    {
     "data": {
      "text/plain": [
       "2000.0"
      ]
     },
     "execution_count": 26,
     "metadata": {},
     "output_type": "execute_result"
    }
   ],
   "source": [
    "# exponetial notation is a float, even\n",
    "# w/o decimal\n",
    "# XeY is X*10^Y\n",
    "\n",
    "2e3"
   ]
  },
  {
   "cell_type": "code",
   "execution_count": 27,
   "metadata": {},
   "outputs": [
    {
     "data": {
      "text/plain": [
       "4"
      ]
     },
     "execution_count": 27,
     "metadata": {},
     "output_type": "execute_result"
    }
   ],
   "source": [
    "# Python has the usual arithmetic operators\n",
    "\n",
    "3*4 - 2**3"
   ]
  },
  {
   "cell_type": "code",
   "execution_count": 28,
   "metadata": {},
   "outputs": [
    {
     "data": {
      "text/plain": [
       "2.810413160023719"
      ]
     },
     "execution_count": 28,
     "metadata": {},
     "output_type": "execute_result"
    }
   ],
   "source": [
    "# a float \"contaminates\" an arithmetic expression and \n",
    "# makes it type float\n",
    "\n",
    "3*4 - 2**3.2"
   ]
  },
  {
   "cell_type": "code",
   "execution_count": 29,
   "metadata": {},
   "outputs": [
    {
     "data": {
      "text/plain": [
       "2037035976334486086268445688409378161051468393665936250636140449354381299763336706183397376"
      ]
     },
     "execution_count": 29,
     "metadata": {},
     "output_type": "execute_result"
    }
   ],
   "source": [
    "# arbitrary precision integers\n",
    "# integer size limited only by available memory\n",
    "\n",
    "2**300"
   ]
  },
  {
   "cell_type": "code",
   "execution_count": 30,
   "metadata": {},
   "outputs": [
    {
     "data": {
      "text/plain": [
       "int"
      ]
     },
     "execution_count": 30,
     "metadata": {},
     "output_type": "execute_result"
    }
   ],
   "source": [
    "# 'type' returns the type or class name of an object\n",
    "\n",
    "type(2**100)"
   ]
  },
  {
   "cell_type": "markdown",
   "metadata": {},
   "source": [
    "### Integer division operators \n",
    "\n",
    "\n"
   ]
  },
  {
   "cell_type": "code",
   "execution_count": 31,
   "metadata": {},
   "outputs": [
    {
     "data": {
      "text/plain": [
       "3.5"
      ]
     },
     "execution_count": 31,
     "metadata": {},
     "output_type": "execute_result"
    }
   ],
   "source": [
    "# in most languages this would be an int,\n",
    "# but in Python, it is a float\n",
    "\n",
    "7/2"
   ]
  },
  {
   "cell_type": "code",
   "execution_count": 32,
   "metadata": {},
   "outputs": [
    {
     "data": {
      "text/plain": [
       "3"
      ]
     },
     "execution_count": 32,
     "metadata": {},
     "output_type": "execute_result"
    }
   ],
   "source": [
    "# // is integer divide\n",
    "\n",
    "7//2\n"
   ]
  },
  {
   "cell_type": "code",
   "execution_count": 33,
   "metadata": {},
   "outputs": [
    {
     "data": {
      "text/plain": [
       "1"
      ]
     },
     "execution_count": 33,
     "metadata": {},
     "output_type": "execute_result"
    }
   ],
   "source": [
    "# mod or remainder\n",
    "\n",
    "7%2"
   ]
  },
  {
   "cell_type": "markdown",
   "metadata": {},
   "source": [
    "### Float division operators "
   ]
  },
  {
   "cell_type": "code",
   "execution_count": 34,
   "metadata": {},
   "outputs": [
    {
     "data": {
      "text/plain": [
       "3.5"
      ]
     },
     "execution_count": 34,
     "metadata": {},
     "output_type": "execute_result"
    }
   ],
   "source": [
    "7.0 / 2.0"
   ]
  },
  {
   "cell_type": "code",
   "execution_count": 35,
   "metadata": {},
   "outputs": [
    {
     "data": {
      "text/plain": [
       "3.0"
      ]
     },
     "execution_count": 35,
     "metadata": {},
     "output_type": "execute_result"
    }
   ],
   "source": [
    "7.0 // 2.0"
   ]
  },
  {
   "cell_type": "code",
   "execution_count": 36,
   "metadata": {},
   "outputs": [
    {
     "data": {
      "text/plain": [
       "1.0"
      ]
     },
     "execution_count": 36,
     "metadata": {},
     "output_type": "execute_result"
    }
   ],
   "source": [
    "7.0 % 2.0"
   ]
  },
  {
   "cell_type": "markdown",
   "metadata": {},
   "source": [
    "### Complex numbers "
   ]
  },
  {
   "cell_type": "code",
   "execution_count": 37,
   "metadata": {},
   "outputs": [
    {
     "data": {
      "text/plain": [
       "[(25+0j), complex]"
      ]
     },
     "execution_count": 37,
     "metadata": {},
     "output_type": "execute_result"
    }
   ],
   "source": [
    "# a complex number times its conjagate is real \n",
    "# j is the square root of -1\n",
    "# type name is 'complex'\n",
    "\n",
    "[(3+4j)*(3-4j), type(3+4j)]"
   ]
  },
  {
   "cell_type": "markdown",
   "metadata": {},
   "source": [
    "# Constructors\n",
    "- usually the type name is a function that constructs an object of that type"
   ]
  },
  {
   "cell_type": "code",
   "execution_count": 38,
   "metadata": {},
   "outputs": [
    {
     "data": {
      "text/plain": [
       "2345"
      ]
     },
     "execution_count": 38,
     "metadata": {},
     "output_type": "execute_result"
    }
   ],
   "source": [
    "# int constructor function tries to convert arg to an int\n",
    "\n",
    "int('2345')"
   ]
  },
  {
   "cell_type": "code",
   "execution_count": 39,
   "metadata": {},
   "outputs": [
    {
     "data": {
      "text/plain": [
       "3"
      ]
     },
     "execution_count": 39,
     "metadata": {},
     "output_type": "execute_result"
    }
   ],
   "source": [
    "int(3.45)"
   ]
  },
  {
   "cell_type": "code",
   "execution_count": 40,
   "metadata": {},
   "outputs": [
    {
     "data": {
      "text/plain": [
       "343"
      ]
     },
     "execution_count": 40,
     "metadata": {},
     "output_type": "execute_result"
    }
   ],
   "source": [
    "int(343)"
   ]
  },
  {
   "cell_type": "code",
   "execution_count": 41,
   "metadata": {},
   "outputs": [
    {
     "data": {
      "text/plain": [
       "3.45"
      ]
     },
     "execution_count": 41,
     "metadata": {},
     "output_type": "execute_result"
    }
   ],
   "source": [
    "# likewise for float\n",
    "\n",
    "float('3.45')"
   ]
  },
  {
   "cell_type": "code",
   "execution_count": 42,
   "metadata": {},
   "outputs": [
    {
     "data": {
      "text/plain": [
       "3.0"
      ]
     },
     "execution_count": 42,
     "metadata": {},
     "output_type": "execute_result"
    }
   ],
   "source": [
    "float(3)"
   ]
  },
  {
   "cell_type": "code",
   "execution_count": 43,
   "metadata": {},
   "outputs": [
    {
     "data": {
      "text/plain": [
       "3.0"
      ]
     },
     "execution_count": 43,
     "metadata": {},
     "output_type": "execute_result"
    }
   ],
   "source": [
    "float(3)"
   ]
  },
  {
   "cell_type": "markdown",
   "metadata": {},
   "source": [
    "# Object references and variables\n",
    "- all objects live in the \"heap\"\n",
    "- variables hold 'references' to objects. \n",
    "- variables do not have or enforce any notion of type\n",
    "- a given object can have any number of references to it\n",
    "    - analogy: Say your dorm room is John Jay 604\n",
    "        - clubs, friends, magazines, banks, vendors, Columbia have a \"reference\" to your room\n",
    "- there are TWO notions of equality in Python\n",
    "    - the 'is' operator is true if \n",
    "        - the two references are to the same object\n",
    "    - the '==' operator is true if\n",
    "        - the two references are to the same object, or to two different objects that \"print the same way\"(vague!! we will refine later)"
   ]
  },
  {
   "cell_type": "code",
   "execution_count": 44,
   "metadata": {},
   "outputs": [
    {
     "ename": "NameError",
     "evalue": "name 'memgraph' is not defined",
     "output_type": "error",
     "traceback": [
      "\u001b[0;31m---------------------------------------------------------------------------\u001b[0m",
      "\u001b[0;31mNameError\u001b[0m                                 Traceback (most recent call last)",
      "\u001b[0;32m<ipython-input-44-f3acfff315d3>\u001b[0m in \u001b[0;36m<module>\u001b[0;34m\u001b[0m\n\u001b[1;32m      5\u001b[0m \u001b[0;31m# graph memory\u001b[0m\u001b[0;34m\u001b[0m\u001b[0;34m\u001b[0m\u001b[0;34m\u001b[0m\u001b[0m\n\u001b[1;32m      6\u001b[0m \u001b[0;34m\u001b[0m\u001b[0m\n\u001b[0;32m----> 7\u001b[0;31m \u001b[0mmemgraph\u001b[0m\u001b[0;34m(\u001b[0m\u001b[0;34m[\u001b[0m\u001b[0;34m'x'\u001b[0m\u001b[0;34m,\u001b[0m \u001b[0;34m'y'\u001b[0m\u001b[0;34m,\u001b[0m\u001b[0;34m'z'\u001b[0m\u001b[0;34m]\u001b[0m\u001b[0;34m)\u001b[0m\u001b[0;34m\u001b[0m\u001b[0;34m\u001b[0m\u001b[0m\n\u001b[0m",
      "\u001b[0;31mNameError\u001b[0m: name 'memgraph' is not defined"
     ]
    }
   ],
   "source": [
    "x = 123456\n",
    "y = 123456\n",
    "z = y\n",
    "\n",
    "# graph memory\n",
    "\n",
    "memgraph(['x', 'y','z'])\n"
   ]
  },
  {
   "cell_type": "code",
   "execution_count": null,
   "metadata": {},
   "outputs": [],
   "source": [
    "# are x & y references to the same object?\n",
    "\n",
    "x is y"
   ]
  },
  {
   "cell_type": "code",
   "execution_count": null,
   "metadata": {},
   "outputs": [],
   "source": [
    "# are y & z references to the same object?\n",
    "\n",
    "y is z"
   ]
  },
  {
   "cell_type": "code",
   "execution_count": null,
   "metadata": {},
   "outputs": [],
   "source": [
    "# y is z => y == z\n",
    "\n",
    "y == z"
   ]
  },
  {
   "cell_type": "code",
   "execution_count": null,
   "metadata": {},
   "outputs": [],
   "source": [
    "# are x & y 'equivalent' in some sense?\n",
    "# yes - x & y are different objects, \n",
    "# but they 'represent' the same integer\n",
    "# they look the same when they print\n",
    "\n",
    "x == y"
   ]
  },
  {
   "cell_type": "markdown",
   "metadata": {},
   "source": [
    "# Singletons\n",
    "- a singleton is a type of object that has at most \n",
    "ONE (single) instantiation\n"
   ]
  },
  {
   "cell_type": "code",
   "execution_count": 7,
   "metadata": {},
   "outputs": [
    {
     "data": {
      "image/svg+xml": [
       "<svg baseProfile=\"full\" height=\"200\" version=\"1.1\" width=\"800\" xmlns=\"http://www.w3.org/2000/svg\" xmlns:ev=\"http://www.w3.org/2001/xml-events\" xmlns:xlink=\"http://www.w3.org/1999/xlink\"><defs /><text fill=\"blue\" text-anchor=\"end\" x=\"100\" y=\"30\">Variables</text><text fill=\"black\" text-anchor=\"end\" x=\"100\" y=\"60\">a</text><text fill=\"black\" text-anchor=\"end\" x=\"100\" y=\"90\">b</text><text fill=\"black\" text-anchor=\"end\" x=\"100\" y=\"120\">c</text><text fill=\"black\" text-anchor=\"end\" x=\"100\" y=\"150\">d</text><text fill=\"black\" text-anchor=\"end\" x=\"100\" y=\"180\">e</text><text fill=\"blue\" x=\"260\" y=\"30\">Objects(in the Heap)</text><text fill=\"black\" x=\"260\" y=\"60\">0</text><line stroke=\"rgb(90%,10%,16%)\" x1=\"100\" x2=\"260\" y1=\"60\" y2=\"60\" /><line stroke=\"rgb(90%,10%,16%)\" x1=\"100\" x2=\"260\" y1=\"90\" y2=\"60\" /><line stroke=\"rgb(90%,10%,16%)\" x1=\"100\" x2=\"260\" y1=\"120\" y2=\"60\" /><line stroke=\"rgb(90%,10%,16%)\" x1=\"100\" x2=\"260\" y1=\"150\" y2=\"60\" /><line stroke=\"rgb(90%,10%,16%)\" x1=\"100\" x2=\"260\" y1=\"180\" y2=\"60\" /></svg>"
      ],
      "text/plain": [
       "<__main__.memgraph at 0x10b09ca50>"
      ]
     },
     "execution_count": 7,
     "metadata": {},
     "output_type": "execute_result"
    }
   ],
   "source": [
    "# if we try a small int, like 4, instead of 123456, \n",
    "# we get a different result!\n",
    "\n",
    "# small ints are singletons for efficiency reasons.\n",
    "# so, no matter how you compute a '0', \n",
    "# you'll get the same '0' object\n",
    "\n",
    "a = 0\n",
    "b = 0\n",
    "c = 6 - 2*3\n",
    "d = 2*0\n",
    "e = 2**2 - 4\n",
    "memgraph(['a','b','c','d','e'])"
   ]
  },
  {
   "cell_type": "code",
   "execution_count": 8,
   "metadata": {},
   "outputs": [
    {
     "data": {
      "text/plain": [
       "4598"
      ]
     },
     "execution_count": 8,
     "metadata": {},
     "output_type": "execute_result"
    }
   ],
   "source": [
    "# over 4,000 references to the '0' object!\n",
    "import sys\n",
    "\n",
    "sys.getrefcount(0)"
   ]
  },
  {
   "cell_type": "code",
   "execution_count": 9,
   "metadata": {},
   "outputs": [
    {
     "data": {
      "image/svg+xml": [
       "<svg baseProfile=\"full\" height=\"200\" version=\"1.1\" width=\"800\" xmlns=\"http://www.w3.org/2000/svg\" xmlns:ev=\"http://www.w3.org/2001/xml-events\" xmlns:xlink=\"http://www.w3.org/1999/xlink\"><defs /><text fill=\"blue\" text-anchor=\"end\" x=\"100\" y=\"30\">Variables</text><text fill=\"black\" text-anchor=\"end\" x=\"100\" y=\"60\">a</text><text fill=\"black\" text-anchor=\"end\" x=\"100\" y=\"90\">b</text><text fill=\"black\" text-anchor=\"end\" x=\"100\" y=\"120\">c</text><text fill=\"black\" text-anchor=\"end\" x=\"100\" y=\"150\">d</text><text fill=\"black\" text-anchor=\"end\" x=\"100\" y=\"180\">e</text><text fill=\"blue\" x=\"260\" y=\"30\">Objects(in the Heap)</text><text fill=\"black\" x=\"260\" y=\"60\">1.0</text><line stroke=\"rgb(90%,10%,16%)\" x1=\"100\" x2=\"260\" y1=\"60\" y2=\"60\" /><text fill=\"black\" x=\"260\" y=\"90\">1.0</text><line stroke=\"rgb(90%,10%,16%)\" x1=\"100\" x2=\"260\" y1=\"90\" y2=\"90\" /><text fill=\"black\" x=\"260\" y=\"120\">4.0</text><line stroke=\"rgb(90%,10%,16%)\" x1=\"100\" x2=\"260\" y1=\"120\" y2=\"120\" /><text fill=\"black\" x=\"260\" y=\"150\">4.0</text><line stroke=\"rgb(90%,10%,16%)\" x1=\"100\" x2=\"260\" y1=\"150\" y2=\"150\" /><text fill=\"black\" x=\"260\" y=\"180\">1.0</text><line stroke=\"rgb(90%,10%,16%)\" x1=\"100\" x2=\"260\" y1=\"180\" y2=\"180\" /></svg>"
      ],
      "text/plain": [
       "<__main__.memgraph at 0x10b0a4e10>"
      ]
     },
     "execution_count": 9,
     "metadata": {},
     "output_type": "execute_result"
    }
   ],
   "source": [
    "# small floats are not singletons\n",
    "\n",
    "a = 1.0\n",
    "b = 1.0\n",
    "c = 2.0 * 2.0\n",
    "d = 4.0\n",
    "e = 2.0/2.0\n",
    "memgraph(['a','b','c','d','e'])"
   ]
  },
  {
   "cell_type": "markdown",
   "metadata": {},
   "source": [
    "# None\n",
    "- Like 'null' in other languages\n",
    "- Means failure or absence of a value\n",
    "- is a singleton(there is only one object of class None)\n",
    "- does not print at top level, can be very confusing"
   ]
  },
  {
   "cell_type": "code",
   "execution_count": 10,
   "metadata": {},
   "outputs": [],
   "source": [
    "# no output!\n",
    "\n",
    "None"
   ]
  },
  {
   "cell_type": "code",
   "execution_count": 13,
   "metadata": {},
   "outputs": [
    {
     "name": "stdout",
     "output_type": "stream",
     "text": [
      "1 2 string None\n"
     ]
    }
   ],
   "source": [
    "# print function prints each arg\n",
    "# explicit print will show it\n",
    "\n",
    "print(1,2,\"string\" , None)"
   ]
  },
  {
   "cell_type": "code",
   "execution_count": 14,
   "metadata": {},
   "outputs": [
    {
     "data": {
      "image/svg+xml": [
       "<svg baseProfile=\"full\" height=\"200\" version=\"1.1\" width=\"800\" xmlns=\"http://www.w3.org/2000/svg\" xmlns:ev=\"http://www.w3.org/2001/xml-events\" xmlns:xlink=\"http://www.w3.org/1999/xlink\"><defs /><text fill=\"blue\" text-anchor=\"end\" x=\"100\" y=\"30\">Variables</text><text fill=\"black\" text-anchor=\"end\" x=\"100\" y=\"60\">x</text><text fill=\"black\" text-anchor=\"end\" x=\"100\" y=\"90\">y</text><text fill=\"blue\" x=\"260\" y=\"30\">Objects(in the Heap)</text><text fill=\"black\" x=\"260\" y=\"60\">None</text><line stroke=\"rgb(90%,10%,16%)\" x1=\"100\" x2=\"260\" y1=\"60\" y2=\"60\" /><line stroke=\"rgb(90%,10%,16%)\" x1=\"100\" x2=\"260\" y1=\"90\" y2=\"60\" /></svg>"
      ],
      "text/plain": [
       "<__main__.memgraph at 0x10ad74e10>"
      ]
     },
     "execution_count": 14,
     "metadata": {},
     "output_type": "execute_result"
    }
   ],
   "source": [
    "x = None\n",
    "y = None\n",
    "\n",
    "memgraph(['x', 'y'])"
   ]
  },
  {
   "cell_type": "markdown",
   "metadata": {},
   "source": [
    "# Booleans\n",
    "+ Objects: False, True(both singletons)\n",
    "+ Operators on Booleans: 'not', 'and', 'or'\n",
    "- Comparisons that yield Booleans:\n",
    "    - <\n",
    "    - <\n",
    "    - <=\n",
    "    - =>\n",
    "- unlike many languages, &, &&, |, ||, ~, are not boolean operators"
   ]
  },
  {
   "cell_type": "code",
   "execution_count": 15,
   "metadata": {},
   "outputs": [
    {
     "data": {
      "text/plain": [
       "False"
      ]
     },
     "execution_count": 15,
     "metadata": {},
     "output_type": "execute_result"
    }
   ],
   "source": [
    "not(True and (True or False))"
   ]
  },
  {
   "cell_type": "code",
   "execution_count": 16,
   "metadata": {},
   "outputs": [
    {
     "data": {
      "text/plain": [
       "True"
      ]
     },
     "execution_count": 16,
     "metadata": {},
     "output_type": "execute_result"
    }
   ],
   "source": [
    "1234<=1234"
   ]
  },
  {
   "cell_type": "code",
   "execution_count": 17,
   "metadata": {},
   "outputs": [
    {
     "data": {
      "text/plain": [
       "True"
      ]
     },
     "execution_count": 17,
     "metadata": {},
     "output_type": "execute_result"
    }
   ],
   "source": [
    "123<345"
   ]
  },
  {
   "cell_type": "code",
   "execution_count": 18,
   "metadata": {},
   "outputs": [
    {
     "data": {
      "image/svg+xml": [
       "<svg baseProfile=\"full\" height=\"200\" version=\"1.1\" width=\"800\" xmlns=\"http://www.w3.org/2000/svg\" xmlns:ev=\"http://www.w3.org/2001/xml-events\" xmlns:xlink=\"http://www.w3.org/1999/xlink\"><defs /><text fill=\"blue\" text-anchor=\"end\" x=\"100\" y=\"30\">Variables</text><text fill=\"black\" text-anchor=\"end\" x=\"100\" y=\"60\">a</text><text fill=\"black\" text-anchor=\"end\" x=\"100\" y=\"90\">b</text><text fill=\"black\" text-anchor=\"end\" x=\"100\" y=\"120\">c</text><text fill=\"black\" text-anchor=\"end\" x=\"100\" y=\"150\">d</text><text fill=\"blue\" x=\"260\" y=\"30\">Objects(in the Heap)</text><text fill=\"black\" x=\"260\" y=\"60\">True</text><line stroke=\"rgb(90%,10%,16%)\" x1=\"100\" x2=\"260\" y1=\"60\" y2=\"60\" /><line stroke=\"rgb(90%,10%,16%)\" x1=\"100\" x2=\"260\" y1=\"90\" y2=\"60\" /><text fill=\"black\" x=\"260\" y=\"90\">False</text><line stroke=\"rgb(90%,10%,16%)\" x1=\"100\" x2=\"260\" y1=\"120\" y2=\"90\" /><line stroke=\"rgb(90%,10%,16%)\" x1=\"100\" x2=\"260\" y1=\"150\" y2=\"90\" /></svg>"
      ],
      "text/plain": [
       "<__main__.memgraph at 0x10b09ca90>"
      ]
     },
     "execution_count": 18,
     "metadata": {},
     "output_type": "execute_result"
    }
   ],
   "source": [
    "a = 3<56\n",
    "b = 343<5656\n",
    "c = 234 == 2343\n",
    "d = 1234 == 123\n",
    "\n",
    "memgraph(['a','b','c','d'])"
   ]
  },
  {
   "cell_type": "markdown",
   "metadata": {},
   "source": [
    "# Functions\n",
    "- the 'def' statement defines a function object\n",
    "- functions are \"first class\" objects in Python - they can be assigned to variables, passed as args, and returned from functions\n",
    "- by default, functions return 'None' - you must use the 'return' statement to return a value\n",
    "- note the ':' at the end of the first line, and the indenting of the function body. this is how you define a 'statement block' in Python. (C++ and Java use '{}' to define blocks)\n",
    "- usually indent by using tab key\n",
    "- we will learn much more about functions later"
   ]
  },
  {
   "cell_type": "code",
   "execution_count": 21,
   "metadata": {},
   "outputs": [],
   "source": [
    "# returns 'None', so no output shown,\n",
    "# seems like nothing happened\n",
    "\n",
    "def add2(x):\n",
    "    x + 2\n",
    "\n",
    "add2(3)"
   ]
  },
  {
   "cell_type": "code",
   "execution_count": 22,
   "metadata": {},
   "outputs": [
    {
     "data": {
      "text/plain": [
       "5"
      ]
     },
     "execution_count": 22,
     "metadata": {},
     "output_type": "execute_result"
    }
   ],
   "source": [
    "# must use return\n",
    "\n",
    "def add2(x):\n",
    "    return x + 2\n",
    "\n",
    "add2(3)"
   ]
  },
  {
   "cell_type": "markdown",
   "metadata": {},
   "source": [
    "# Atomic Object Types\n",
    "- types we have seen so far are 'atomic' - they can not\n",
    "be broken up into subparts"
   ]
  },
  {
   "cell_type": "markdown",
   "metadata": {},
   "source": [
    "# Collection Types \n",
    "+ hold multiple objects in various configurations\n",
    "+ several kinds are built into the language\n",
    "+ can write \"collection literals\"\n",
    "- very easy to use\n",
    "- some are mutable\n",
    "    - can be modified at any time\n",
    "- some immutable\n",
    "    - can't ever be modified"
   ]
  },
  {
   "cell_type": "markdown",
   "metadata": {},
   "source": [
    "# Sequence Data Types\n",
    "- a sequence data type is an ordered set of objects drawn from \n",
    "some domain, with duplicates allowed\n",
    "- we will see three sequence types:\n",
    "    - list\n",
    "        - domain is any Python object\n",
    "        - mutable\n",
    "    - tuple\n",
    "        - domain is any Python object\n",
    "        - immutable\n",
    "    - str\n",
    "        - domain is characters\n",
    "        - immutable\n",
    "- they have many capabilities in common"
   ]
  },
  {
   "cell_type": "markdown",
   "metadata": {},
   "source": [
    "# list\n",
    "- the heart of Python\n",
    "- some of the \"art of Python\" involves getting good at manipulating lists\n",
    "- a list holds a ordered sequence of objects\n",
    "- duplicates are allowed\n",
    "- lists grow and shrink automatically as elements are added and deleted\n",
    "- list objects do not have to be the same type\n",
    "- lists are zero origin - index of first element is 0\n",
    "- lists are mutable\n",
    "- some methods, like 'index' and 'count', have no 'side effects' - they don't modify the list\n",
    "- others, like reverse, modify the list\n",
    "- methods that modify the list typically return 'None'\n",
    "- type name is 'list'\n",
    "- [doc](https://docs.python.org/3/tutorial/datastructures.html)"
   ]
  },
  {
   "cell_type": "code",
   "execution_count": 24,
   "metadata": {},
   "outputs": [
    {
     "data": {
      "text/plain": [
       "['foo', 'bar']"
      ]
     },
     "execution_count": 24,
     "metadata": {},
     "output_type": "execute_result"
    }
   ],
   "source": [
    "# can make a list by just typing it in\n",
    "# don't need to use an API\n",
    "\n",
    "['foo', 'bar']"
   ]
  },
  {
   "cell_type": "raw",
   "metadata": {},
   "source": [
    "// java version of above might look like:\n",
    "\n",
    "ArrayList<String> list = new ArrayList<String>();\n",
    "\n",
    "list.add(\"foo\");\n",
    "\n",
    "list.add(\"bar\");\n",
    "\n",
    "// java code is quite a bit more complex and verbose"
   ]
  },
  {
   "cell_type": "code",
   "execution_count": 25,
   "metadata": {},
   "outputs": [
    {
     "data": {
      "text/plain": [
       "list"
      ]
     },
     "execution_count": 25,
     "metadata": {},
     "output_type": "execute_result"
    }
   ],
   "source": [
    "type([2,3,4])"
   ]
  },
  {
   "cell_type": "code",
   "execution_count": 26,
   "metadata": {},
   "outputs": [
    {
     "data": {
      "text/plain": [
       "False"
      ]
     },
     "execution_count": 26,
     "metadata": {},
     "output_type": "execute_result"
    }
   ],
   "source": [
    "# order matters for lists\n",
    "# same elements, but different order\n",
    "\n",
    "[1,2,3] == [2,1,3]"
   ]
  },
  {
   "cell_type": "code",
   "execution_count": 27,
   "metadata": {},
   "outputs": [
    {
     "data": {
      "text/plain": [
       "True"
      ]
     },
     "execution_count": 27,
     "metadata": {},
     "output_type": "execute_result"
    }
   ],
   "source": [
    "# same elements, same order\n",
    "\n",
    "[2,1,3] == [2,1,3]"
   ]
  },
  {
   "cell_type": "code",
   "execution_count": 28,
   "metadata": {},
   "outputs": [
    {
     "data": {
      "text/plain": [
       "False"
      ]
     },
     "execution_count": 28,
     "metadata": {},
     "output_type": "execute_result"
    }
   ],
   "source": [
    "# but not the same list\n",
    "\n",
    "[2,1,3] is [2,1,3]"
   ]
  },
  {
   "cell_type": "code",
   "execution_count": 29,
   "metadata": {},
   "outputs": [
    {
     "data": {
      "text/plain": [
       "[1, 1, 2, 3]"
      ]
     },
     "execution_count": 29,
     "metadata": {},
     "output_type": "execute_result"
    }
   ],
   "source": [
    "# duplicates are ok in a list\n",
    "\n",
    "[1,1,2,3]"
   ]
  },
  {
   "cell_type": "code",
   "execution_count": 30,
   "metadata": {},
   "outputs": [
    {
     "data": {
      "text/plain": [
       "23423"
      ]
     },
     "execution_count": 30,
     "metadata": {},
     "output_type": "execute_result"
    }
   ],
   "source": [
    "# the assigment statement does not print the \n",
    "# right hand side value. you have to evaluate\n",
    "# the variable by itself to see the value.\n",
    "\n",
    "x = 23423\n",
    "x"
   ]
  },
  {
   "cell_type": "code",
   "execution_count": 31,
   "metadata": {},
   "outputs": [],
   "source": [
    "# a list can hold different types - any Python object\n",
    "\n",
    "x = [100, 111.111, None, \"zap\", True, None, 300]\n",
    "y = x"
   ]
  },
  {
   "cell_type": "code",
   "execution_count": null,
   "metadata": {},
   "outputs": [],
   "source": [
    "# len returns the length of a list\n",
    "\n",
    "len(x)"
   ]
  },
  {
   "cell_type": "code",
   "execution_count": 34,
   "metadata": {},
   "outputs": [
    {
     "data": {
      "text/plain": [
       "2"
      ]
     },
     "execution_count": 34,
     "metadata": {},
     "output_type": "execute_result"
    }
   ],
   "source": [
    "# 'count' method returns a value, \n",
    "# does not modify the list\n",
    "# count the number of None's\n",
    "# here the 'dot syntax' is used to \n",
    "# invoke the list 'count method' \n",
    "\n",
    "x.count(None)"
   ]
  },
  {
   "cell_type": "code",
   "execution_count": 35,
   "metadata": {},
   "outputs": [
    {
     "data": {
      "text/plain": [
       "0"
      ]
     },
     "execution_count": 35,
     "metadata": {},
     "output_type": "execute_result"
    }
   ],
   "source": [
    "x.count(324)"
   ]
  },
  {
   "cell_type": "code",
   "execution_count": 36,
   "metadata": {},
   "outputs": [
    {
     "data": {
      "text/plain": [
       "[100, 111.111, None, 'zap', True, None, 300]"
      ]
     },
     "execution_count": 36,
     "metadata": {},
     "output_type": "execute_result"
    }
   ],
   "source": [
    "x"
   ]
  },
  {
   "cell_type": "code",
   "execution_count": 37,
   "metadata": {},
   "outputs": [
    {
     "data": {
      "text/plain": [
       "[100, 111.111, None, 'zap', True, None, 300]"
      ]
     },
     "execution_count": 37,
     "metadata": {},
     "output_type": "execute_result"
    }
   ],
   "source": [
    "y"
   ]
  },
  {
   "cell_type": "code",
   "execution_count": 38,
   "metadata": {},
   "outputs": [
    {
     "data": {
      "text/plain": [
       "True"
      ]
     },
     "execution_count": 38,
     "metadata": {},
     "output_type": "execute_result"
    }
   ],
   "source": [
    "# x and y reference the same object\n",
    "\n",
    "x is y"
   ]
  },
  {
   "cell_type": "code",
   "execution_count": 39,
   "metadata": {},
   "outputs": [],
   "source": [
    "# reverse returns None - a hint that it modifies the list\n",
    "# the 'reverse method' on the list class is invoked\n",
    "\n",
    "x.reverse()"
   ]
  },
  {
   "cell_type": "code",
   "execution_count": 40,
   "metadata": {},
   "outputs": [
    {
     "data": {
      "text/plain": [
       "[300, None, True, 'zap', None, 111.111, 100]"
      ]
     },
     "execution_count": 40,
     "metadata": {},
     "output_type": "execute_result"
    }
   ],
   "source": [
    "x"
   ]
  },
  {
   "cell_type": "code",
   "execution_count": 41,
   "metadata": {},
   "outputs": [
    {
     "data": {
      "text/plain": [
       "[300, None, True, 'zap', None, 111.111, 100]"
      ]
     },
     "execution_count": 41,
     "metadata": {},
     "output_type": "execute_result"
    }
   ],
   "source": [
    "# what happened to y?\n",
    "# we didn't explicitly do anything to y, but\n",
    "# since y references the same object as x,\n",
    "# it 'sees' the reverse that x.reverse() did\n",
    "\n",
    "y"
   ]
  },
  {
   "cell_type": "code",
   "execution_count": 42,
   "metadata": {},
   "outputs": [
    {
     "name": "stdout",
     "output_type": "stream",
     "text": [
      "None\n"
     ]
    }
   ],
   "source": [
    "# very common mistake \n",
    "# reverse does NOT return the reversed list - \n",
    "# it just returns None!\n",
    "# so if you do this, you just lost your list!\n",
    "\n",
    "z = [1,2,3,4,5,6]\n",
    "z = z.reverse()\n",
    "print(z)"
   ]
  },
  {
   "cell_type": "code",
   "execution_count": 43,
   "metadata": {},
   "outputs": [
    {
     "data": {
      "text/plain": [
       "<function list.reverse()>"
      ]
     },
     "execution_count": 43,
     "metadata": {},
     "output_type": "execute_result"
    }
   ],
   "source": [
    "# Another common mistake \n",
    "# leaving off the '()' just \n",
    "# returns the function object\n",
    "# and the reverse function does NOT run\n",
    "\n",
    "z = [1,2,3,4,5,6]\n",
    "z.reverse"
   ]
  },
  {
   "cell_type": "code",
   "execution_count": 44,
   "metadata": {},
   "outputs": [
    {
     "data": {
      "text/plain": [
       "[1, 2, 3, 4, 5, 6]"
      ]
     },
     "execution_count": 44,
     "metadata": {},
     "output_type": "execute_result"
    }
   ],
   "source": [
    "# so no change to z\n",
    "\n",
    "z"
   ]
  },
  {
   "cell_type": "markdown",
   "metadata": {},
   "source": [
    "# List Indexing\n",
    "- access and set one element in list"
   ]
  },
  {
   "cell_type": "code",
   "execution_count": 45,
   "metadata": {},
   "outputs": [
    {
     "data": {
      "text/plain": [
       "[300, None, True, 'zap', None, 111.111, 100]"
      ]
     },
     "execution_count": 45,
     "metadata": {},
     "output_type": "execute_result"
    }
   ],
   "source": [
    "x"
   ]
  },
  {
   "cell_type": "code",
   "execution_count": 46,
   "metadata": {},
   "outputs": [
    {
     "data": {
      "text/plain": [
       "True"
      ]
     },
     "execution_count": 46,
     "metadata": {},
     "output_type": "execute_result"
    }
   ],
   "source": [
    "# Python has very convenient techniques \n",
    "# for accessing and modifying list elements \n",
    "# can index into the list like an array, \n",
    "# and retrieve one element\n",
    "# arrays are \"zero origin\" - first index is 0\n",
    "\n",
    "x[2]"
   ]
  },
  {
   "cell_type": "code",
   "execution_count": 47,
   "metadata": {},
   "outputs": [
    {
     "data": {
      "text/plain": [
       "111.111"
      ]
     },
     "execution_count": 47,
     "metadata": {},
     "output_type": "execute_result"
    }
   ],
   "source": [
    "# negative index starts from the last list element\n",
    "\n",
    "x[-2]"
   ]
  },
  {
   "cell_type": "code",
   "execution_count": 48,
   "metadata": {},
   "outputs": [
    {
     "data": {
      "text/plain": [
       "[300, None, True, 'zap', None, 111.111, 100]"
      ]
     },
     "execution_count": 48,
     "metadata": {},
     "output_type": "execute_result"
    }
   ],
   "source": [
    "x"
   ]
  },
  {
   "cell_type": "code",
   "execution_count": 49,
   "metadata": {},
   "outputs": [
    {
     "data": {
      "text/plain": [
       "[-1, None, True, 'zap', None, 111.111, 100]"
      ]
     },
     "execution_count": 49,
     "metadata": {},
     "output_type": "execute_result"
    }
   ],
   "source": [
    "# can set list elements\n",
    "\n",
    "x[0] = -1\n",
    "x"
   ]
  },
  {
   "cell_type": "code",
   "execution_count": 50,
   "metadata": {},
   "outputs": [
    {
     "ename": "IndexError",
     "evalue": "list index out of range",
     "output_type": "error",
     "traceback": [
      "\u001b[0;31m---------------------------------------------------------------------------\u001b[0m",
      "\u001b[0;31mIndexError\u001b[0m                                Traceback (most recent call last)",
      "\u001b[0;32m<ipython-input-50-246ed1a0526c>\u001b[0m in \u001b[0;36m<module>\u001b[0;34m\u001b[0m\n\u001b[1;32m      2\u001b[0m \u001b[0;31m# Python will throw an error on bad index\u001b[0m\u001b[0;34m\u001b[0m\u001b[0;34m\u001b[0m\u001b[0;34m\u001b[0m\u001b[0m\n\u001b[1;32m      3\u001b[0m \u001b[0;34m\u001b[0m\u001b[0m\n\u001b[0;32m----> 4\u001b[0;31m \u001b[0mx\u001b[0m\u001b[0;34m[\u001b[0m\u001b[0;36m32404\u001b[0m\u001b[0;34m]\u001b[0m\u001b[0;34m\u001b[0m\u001b[0;34m\u001b[0m\u001b[0m\n\u001b[0m",
      "\u001b[0;31mIndexError\u001b[0m: list index out of range"
     ]
    }
   ],
   "source": [
    "# indexes are always bounds checked\n",
    "# Python will throw an error on bad index\n",
    "\n",
    "x[32404]"
   ]
  },
  {
   "cell_type": "markdown",
   "metadata": {},
   "source": [
    "# List Slicing\n",
    "- access/modify multiple list elements"
   ]
  },
  {
   "cell_type": "code",
   "execution_count": 51,
   "metadata": {},
   "outputs": [
    {
     "data": {
      "text/plain": [
       "[-1, None, True, 'zap', None, 111.111, 100]"
      ]
     },
     "execution_count": 51,
     "metadata": {},
     "output_type": "execute_result"
    }
   ],
   "source": [
    "x"
   ]
  },
  {
   "cell_type": "code",
   "execution_count": 52,
   "metadata": {},
   "outputs": [
    {
     "data": {
      "text/plain": [
       "[-1, None]"
      ]
     },
     "execution_count": 52,
     "metadata": {},
     "output_type": "execute_result"
    }
   ],
   "source": [
    "# can take a subsequences (slice) of the list\n",
    "# like range, inclusive/exclusive indexes\n",
    "# slices always COPY the original list\n",
    "\n",
    "x[0:2]"
   ]
  },
  {
   "cell_type": "code",
   "execution_count": 53,
   "metadata": {},
   "outputs": [
    {
     "data": {
      "text/plain": [
       "['zap', None, 111.111, 100]"
      ]
     },
     "execution_count": 53,
     "metadata": {},
     "output_type": "execute_result"
    }
   ],
   "source": [
    "# missing second index means continue slice \n",
    "# to the end of the list\n",
    "\n",
    "x[3:]"
   ]
  },
  {
   "cell_type": "code",
   "execution_count": 55,
   "metadata": {},
   "outputs": [
    {
     "data": {
      "text/plain": [
       "[-1, None, True]"
      ]
     },
     "execution_count": 55,
     "metadata": {},
     "output_type": "execute_result"
    }
   ],
   "source": [
    "# missing first index means start slice \n",
    "# at begining  of the list\n",
    "\n",
    "x[:3]"
   ]
  },
  {
   "cell_type": "code",
   "execution_count": 56,
   "metadata": {},
   "outputs": [
    {
     "data": {
      "text/plain": [
       "[-1, None, True, 'zap', None, 111.111, 100]"
      ]
     },
     "execution_count": 56,
     "metadata": {},
     "output_type": "execute_result"
    }
   ],
   "source": [
    "x"
   ]
  },
  {
   "cell_type": "code",
   "execution_count": 57,
   "metadata": {},
   "outputs": [
    {
     "data": {
      "text/plain": [
       "[-1, True, None, 100]"
      ]
     },
     "execution_count": 57,
     "metadata": {},
     "output_type": "execute_result"
    }
   ],
   "source": [
    "# can add a index increment to a slice\n",
    "\n",
    "x[0:8:2]"
   ]
  },
  {
   "cell_type": "code",
   "execution_count": 58,
   "metadata": {},
   "outputs": [
    {
     "data": {
      "text/plain": [
       "[100, None, True]"
      ]
     },
     "execution_count": 58,
     "metadata": {},
     "output_type": "execute_result"
    }
   ],
   "source": [
    "# can go backwards\n",
    "\n",
    "x[7:0:-2]"
   ]
  },
  {
   "cell_type": "code",
   "execution_count": 59,
   "metadata": {},
   "outputs": [
    {
     "data": {
      "text/plain": [
       "[-1, True, None, 100]"
      ]
     },
     "execution_count": 59,
     "metadata": {},
     "output_type": "execute_result"
    }
   ],
   "source": [
    "# slices can be named for readability\n",
    "\n",
    "triple = slice(0,8,2)\n",
    "x[triple]"
   ]
  },
  {
   "cell_type": "code",
   "execution_count": 60,
   "metadata": {},
   "outputs": [
    {
     "name": "stdout",
     "output_type": "stream",
     "text": [
      "[-1, None, True, 'zap', None, 111.111, 100]\n",
      "[-1, None, True, 'zap', None, 111.111, 100]\n",
      "None\n",
      "[-1, None, True, 'zap', None, 111.111, 100]\n",
      "[100, 111.111, None, 'zap', True, None, -1]\n"
     ]
    }
   ],
   "source": [
    "# index missing on both sides of \":\"\n",
    "# the slice is the whole list\n",
    "# this is common, if not obvious,\n",
    "# Python shorthand for copying\n",
    "# an entire list\n",
    "\n",
    "x2 = x[:]\n",
    "\n",
    "# reverse modifies x2, but x will not be changed, because\n",
    "# x and x2 are referencing different objects\n",
    "# note reverse() returns 'None'\n",
    "\n",
    "print(x)\n",
    "print(x2)\n",
    "\n",
    "print(x2.reverse())\n",
    "\n",
    "print(x)\n",
    "print(x2)"
   ]
  },
  {
   "cell_type": "markdown",
   "metadata": {},
   "source": [
    "- try using the [Python Tutor](http://pythontutor.com/visualize.html#mode=edit)\n",
    "\n",
    "```\n",
    "x=[300, None, True, 'zap', None, 111.111, 100]\n",
    "xsame = x\n",
    "xcopy = x[:]\n",
    "xcopy.reverse()\n",
    "y = x[1:5]\n",
    "u = x[3:]\n",
    "v = x[:2]\n",
    "w = x[7:0:-2]\n",
    "```"
   ]
  },
  {
   "cell_type": "code",
   "execution_count": 61,
   "metadata": {},
   "outputs": [
    {
     "data": {
      "text/plain": [
       "[-1, None, True, 'zap', None, 111.111, 100]"
      ]
     },
     "execution_count": 61,
     "metadata": {},
     "output_type": "execute_result"
    }
   ],
   "source": [
    "x"
   ]
  },
  {
   "cell_type": "code",
   "execution_count": 63,
   "metadata": {},
   "outputs": [
    {
     "data": {
      "text/plain": [
       "[-1, 256, 3.14, 'zap', None, 111.111, 100]"
      ]
     },
     "execution_count": 63,
     "metadata": {},
     "output_type": "execute_result"
    }
   ],
   "source": [
    "# can set slices\n",
    "\n",
    "x[1:3] = [2**8, 3.14]\n",
    "x"
   ]
  },
  {
   "cell_type": "markdown",
   "metadata": {},
   "source": [
    "# Common List Operations"
   ]
  },
  {
   "cell_type": "code",
   "execution_count": 64,
   "metadata": {},
   "outputs": [
    {
     "data": {
      "text/plain": [
       "[[-1, 256, 3.14, 'zap', None, 111.111, 100], True, False]"
      ]
     },
     "execution_count": 64,
     "metadata": {},
     "output_type": "execute_result"
    }
   ],
   "source": [
    "#  'in' operator - is an element in the list somewhere?\n",
    "# uses == to test\n",
    "\n",
    "[x, 'zap' in x, 55 in x]"
   ]
  },
  {
   "cell_type": "code",
   "execution_count": 65,
   "metadata": {},
   "outputs": [
    {
     "data": {
      "text/plain": [
       "3"
      ]
     },
     "execution_count": 65,
     "metadata": {},
     "output_type": "execute_result"
    }
   ],
   "source": [
    "# where is the element?\n",
    "# 'index' is a 'method' on the list class\n",
    "\n",
    "x.index('zap')"
   ]
  },
  {
   "cell_type": "code",
   "execution_count": 66,
   "metadata": {},
   "outputs": [
    {
     "ename": "ValueError",
     "evalue": "'not in x' is not in list",
     "output_type": "error",
     "traceback": [
      "\u001b[0;31m---------------------------------------------------------------------------\u001b[0m",
      "\u001b[0;31mValueError\u001b[0m                                Traceback (most recent call last)",
      "\u001b[0;32m<ipython-input-66-e5425d4e57a4>\u001b[0m in \u001b[0;36m<module>\u001b[0;34m\u001b[0m\n\u001b[1;32m      1\u001b[0m \u001b[0;31m# index throws an error if it doesn't find anything\u001b[0m\u001b[0;34m\u001b[0m\u001b[0;34m\u001b[0m\u001b[0;34m\u001b[0m\u001b[0m\n\u001b[1;32m      2\u001b[0m \u001b[0;34m\u001b[0m\u001b[0m\n\u001b[0;32m----> 3\u001b[0;31m \u001b[0mx\u001b[0m\u001b[0;34m.\u001b[0m\u001b[0mindex\u001b[0m\u001b[0;34m(\u001b[0m\u001b[0;34m\"not in x\"\u001b[0m\u001b[0;34m)\u001b[0m\u001b[0;34m\u001b[0m\u001b[0;34m\u001b[0m\u001b[0m\n\u001b[0m",
      "\u001b[0;31mValueError\u001b[0m: 'not in x' is not in list"
     ]
    }
   ],
   "source": [
    "# index throws an error if it doesn't find anything\n",
    "\n",
    "x.index(\"not in x\")"
   ]
  },
  {
   "cell_type": "code",
   "execution_count": 67,
   "metadata": {},
   "outputs": [
    {
     "data": {
      "text/plain": [
       "[0, 1, 2, 3, 4, 0, 1, 2, 3, 4]"
      ]
     },
     "execution_count": 67,
     "metadata": {},
     "output_type": "execute_result"
    }
   ],
   "source": [
    "# + concatenates lists\n",
    "# note: what '+' actually does depends on the type of its arguments\n",
    "\n",
    "x = list(range(5))\n",
    "x + x"
   ]
  },
  {
   "cell_type": "code",
   "execution_count": 68,
   "metadata": {},
   "outputs": [
    {
     "data": {
      "text/plain": [
       "[0, 1, 2, 3, 4]"
      ]
     },
     "execution_count": 68,
     "metadata": {},
     "output_type": "execute_result"
    }
   ],
   "source": [
    "x"
   ]
  },
  {
   "cell_type": "code",
   "execution_count": 69,
   "metadata": {},
   "outputs": [
    {
     "data": {
      "text/plain": [
       "[0, 1, 2, 3, 4, [22, 33]]"
      ]
     },
     "execution_count": 69,
     "metadata": {},
     "output_type": "execute_result"
    }
   ],
   "source": [
    "# add one element at the end\n",
    "\n",
    "x.append([22,33])\n",
    "x"
   ]
  },
  {
   "cell_type": "code",
   "execution_count": 70,
   "metadata": {},
   "outputs": [
    {
     "data": {
      "text/plain": [
       "[0, 1, 2, 3, 4, [22, 33], 22, 33]"
      ]
     },
     "execution_count": 70,
     "metadata": {},
     "output_type": "execute_result"
    }
   ],
   "source": [
    "# add N elements at the end\n",
    "\n",
    "x.extend([22,33])\n",
    "x"
   ]
  },
  {
   "cell_type": "code",
   "execution_count": 71,
   "metadata": {},
   "outputs": [
    {
     "data": {
      "text/plain": [
       "[0, 1, 5, 2, 3, 4, [22, 33], 22, 33]"
      ]
     },
     "execution_count": 71,
     "metadata": {},
     "output_type": "execute_result"
    }
   ],
   "source": [
    "# add one element anywhere\n",
    "\n",
    "x.insert(2, 5)\n",
    "x"
   ]
  },
  {
   "cell_type": "code",
   "execution_count": 72,
   "metadata": {},
   "outputs": [
    {
     "name": "stdout",
     "output_type": "stream",
     "text": [
      "33\n",
      "[0, 1, 5, 2, 3, 4, [22, 33], 22]\n"
     ]
    }
   ],
   "source": [
    "# pop method removes and returns a \n",
    "# list element, by default the last element\n",
    "\n",
    "print(x.pop())\n",
    "print(x)"
   ]
  },
  {
   "cell_type": "code",
   "execution_count": 73,
   "metadata": {},
   "outputs": [
    {
     "name": "stdout",
     "output_type": "stream",
     "text": [
      "5\n",
      "[0, 1, 2, 3, 4, [22, 33], 22]\n"
     ]
    }
   ],
   "source": [
    "# but can specify which element to pop\n",
    "\n",
    "print(x.pop(2))\n",
    "print(x)"
   ]
  },
  {
   "cell_type": "code",
   "execution_count": 74,
   "metadata": {},
   "outputs": [
    {
     "name": "stdout",
     "output_type": "stream",
     "text": [
      "[0, 1, 2, 3, [22, 33], 22]\n"
     ]
    }
   ],
   "source": [
    "# remove first 4 found\n",
    "\n",
    "x.remove(4)\n",
    "print(x)"
   ]
  },
  {
   "cell_type": "code",
   "execution_count": 75,
   "metadata": {},
   "outputs": [],
   "source": [
    "# sort modifies the list\n",
    "# and returns None\n",
    "\n",
    "x = [34,3,5,22]\n",
    "x.sort()\n"
   ]
  },
  {
   "cell_type": "code",
   "execution_count": 76,
   "metadata": {},
   "outputs": [
    {
     "data": {
      "text/plain": [
       "[3, 5, 22, 34]"
      ]
     },
     "execution_count": 76,
     "metadata": {},
     "output_type": "execute_result"
    }
   ],
   "source": [
    "x"
   ]
  },
  {
   "cell_type": "code",
   "execution_count": 77,
   "metadata": {},
   "outputs": [
    {
     "data": {
      "text/plain": [
       "[[34, 3, 5, 22], [3, 5, 22, 34]]"
      ]
     },
     "execution_count": 77,
     "metadata": {},
     "output_type": "execute_result"
    }
   ],
   "source": [
    "# can preserve original list by using 'sorted'\n",
    "# sorted makes a copy of the input list\n",
    "\n",
    "x = [34,3,5,22]\n",
    "y = sorted(x)\n",
    "[x, y]"
   ]
  },
  {
   "cell_type": "markdown",
   "metadata": {},
   "source": [
    "# Example"
   ]
  },
  {
   "cell_type": "code",
   "execution_count": 78,
   "metadata": {},
   "outputs": [],
   "source": [
    "a = [1,[[2,3],4]]\n",
    "b = a[1]\n",
    "c = b[0]\n",
    "b = b[1]\n",
    "d = a[0]\n",
    "c[1] = b"
   ]
  },
  {
   "cell_type": "markdown",
   "metadata": {},
   "source": [
    "- what values for a,b,c,d will the print statements show?"
   ]
  },
  {
   "cell_type": "code",
   "execution_count": 79,
   "metadata": {},
   "outputs": [
    {
     "name": "stdout",
     "output_type": "stream",
     "text": [
      "[1, [[2, 4], 4]]\n",
      "4\n",
      "[2, 4]\n",
      "1\n"
     ]
    }
   ],
   "source": [
    "print(a)\n",
    "print(b)\n",
    "print(c)\n",
    "print(d)"
   ]
  },
  {
   "cell_type": "markdown",
   "metadata": {},
   "source": [
    "- try using the [Python Tutor](http://pythontutor.com/visualize.html#mode=edit)"
   ]
  },
  {
   "cell_type": "code",
   "execution_count": null,
   "metadata": {},
   "outputs": [],
   "source": [
    "# dir function shows the methods defined on a class\n",
    "# __XYZ__ are \"special\" methods - ignore them for now\n",
    "\n",
    "dir(list)"
   ]
  },
  {
   "cell_type": "markdown",
   "metadata": {},
   "source": [
    "# Iterable Objects\n",
    "- iterable objects can produce their constituent elements, one at a time\n",
    "- an iterable implements an iteration protocol(more about this later)\n",
    "- the 'len' function computes how many elements an iterable has\n",
    "- a list is an iterable"
   ]
  },
  {
   "cell_type": "code",
   "execution_count": 80,
   "metadata": {},
   "outputs": [
    {
     "data": {
      "text/plain": [
       "3"
      ]
     },
     "execution_count": 80,
     "metadata": {},
     "output_type": "execute_result"
    }
   ],
   "source": [
    "len([3,54,6])"
   ]
  },
  {
   "cell_type": "markdown",
   "metadata": {},
   "source": [
    "# for loop\n",
    "- will pull elements out of an iterable\n",
    "```\n",
    "for element in iterable:\n",
    "    element is bound to the elements return by the iterable\n",
    "    loop body is \n",
    "    indented\n",
    "end of indentation is end of loop\n",
    "```\n",
    "\n",
    "\n",
    "- note trailing ':', and indented statements - defines a 'statement block'\n"
   ]
  },
  {
   "cell_type": "code",
   "execution_count": 81,
   "metadata": {},
   "outputs": [
    {
     "name": "stdout",
     "output_type": "stream",
     "text": [
      "5\n",
      "15\n",
      "2\n",
      "12\n",
      "7\n",
      "17\n",
      "9\n",
      "19\n",
      "loop finished\n"
     ]
    }
   ],
   "source": [
    "for j in [5,2,7,9]:\n",
    "    print(j)\n",
    "    print(j+10)\n",
    "print('loop finished')"
   ]
  },
  {
   "cell_type": "markdown",
   "metadata": {},
   "source": [
    "# range \n",
    "- range' is an iterable \n",
    "- specifies a sequence of integers with slice like limits\n",
    "- often used to control loop iteration\n",
    "- full form is range(start, end, increment)\n",
    "    - range(start,end) is the same as range(start,end,1)\n",
    "    - range(end) is the same as range(0, end, 1)\n",
    "- range start/end arguments are inclusive/exclusive"
   ]
  },
  {
   "cell_type": "code",
   "execution_count": 82,
   "metadata": {},
   "outputs": [
    {
     "data": {
      "text/plain": [
       "6"
      ]
     },
     "execution_count": 82,
     "metadata": {},
     "output_type": "execute_result"
    }
   ],
   "source": [
    "# len works\n",
    "\n",
    "len(range(6))"
   ]
  },
  {
   "cell_type": "code",
   "execution_count": 83,
   "metadata": {},
   "outputs": [
    {
     "data": {
      "text/plain": [
       "[2, 4, 6, 8]"
      ]
     },
     "execution_count": 83,
     "metadata": {},
     "output_type": "execute_result"
    }
   ],
   "source": [
    "# the list constructor expects an iterable, \n",
    "# and makes a list out of the iterator elements\n",
    "# note: end limit is exclusive, so 10 is not in the list\n",
    "\n",
    "list(range(2, 10, 2))"
   ]
  },
  {
   "cell_type": "code",
   "execution_count": 84,
   "metadata": {},
   "outputs": [
    {
     "name": "stdout",
     "output_type": "stream",
     "text": [
      "0\n",
      "1\n",
      "2\n",
      "3\n",
      "4\n"
     ]
    },
    {
     "data": {
      "text/plain": [
       "10"
      ]
     },
     "execution_count": 84,
     "metadata": {},
     "output_type": "execute_result"
    }
   ],
   "source": [
    "# to sum up a list of numbers\n",
    "# use an 'accumulation variable'\n",
    "\n",
    "total = 0\n",
    "\n",
    "for j in range(5):\n",
    "    print(j)\n",
    "    total += j\n",
    "\n",
    "total"
   ]
  },
  {
   "cell_type": "code",
   "execution_count": 86,
   "metadata": {},
   "outputs": [
    {
     "name": "stdout",
     "output_type": "stream",
     "text": [
      "0 10\n",
      "0 11\n",
      "0 12\n",
      "1 10\n",
      "1 11\n",
      "1 12\n",
      "2 10\n",
      "2 11\n",
      "2 12\n"
     ]
    }
   ],
   "source": [
    "# loops can be nested\n",
    "# left/top most loop changes the slowest\n",
    "# right/bottom most loop changes the fastes\n",
    "\n",
    "for x in range(3):\n",
    "    for y in range(10,13):\n",
    "        print(x,y)"
   ]
  },
  {
   "cell_type": "markdown",
   "metadata": {},
   "source": [
    "# two methods for summing ints up to a million\n",
    "- both get the same answer\n",
    "- is either method superior?"
   ]
  },
  {
   "cell_type": "code",
   "execution_count": 87,
   "metadata": {},
   "outputs": [
    {
     "data": {
      "text/plain": [
       "499999500000"
      ]
     },
     "execution_count": 87,
     "metadata": {},
     "output_type": "execute_result"
    }
   ],
   "source": [
    "# method A\n",
    "\n",
    "r = range(1000*1000)\n",
    "\n",
    "total = 0\n",
    "\n",
    "for n in r:\n",
    "    total += n\n",
    "    \n",
    "total"
   ]
  },
  {
   "cell_type": "code",
   "execution_count": 88,
   "metadata": {},
   "outputs": [
    {
     "data": {
      "text/plain": [
       "499999500000"
      ]
     },
     "execution_count": 88,
     "metadata": {},
     "output_type": "execute_result"
    }
   ],
   "source": [
    "# method B\n",
    "\n",
    "l = list(range(1000*1000))\n",
    "\n",
    "total = 0\n",
    "\n",
    "for n in l:\n",
    "    total += n\n",
    "\n",
    "total\n"
   ]
  },
  {
   "cell_type": "markdown",
   "metadata": {},
   "source": [
    "# Not Pythonic!"
   ]
  },
  {
   "cell_type": "code",
   "execution_count": 89,
   "metadata": {},
   "outputs": [
    {
     "data": {
      "text/plain": [
       "[14, 87, 15, 32]"
      ]
     },
     "execution_count": 89,
     "metadata": {},
     "output_type": "execute_result"
    }
   ],
   "source": [
    "# add 10 to each element of a list, and\n",
    "# make a new list\n",
    "\n",
    "input = [4,77,5,22]\n",
    "\n",
    "ans = []\n",
    "\n",
    "for j in input:\n",
    "    ans.append(j+10)\n",
    "\n",
    "ans"
   ]
  },
  {
   "cell_type": "markdown",
   "metadata": {},
   "source": [
    "# list comprehension\n",
    "- list comprehension syntax is a little odd at first glance, but definitely more elegant for this task\n",
    "- gets rid of accumulation variable\n",
    "- easy filtering\n",
    "- has three parts, from left to right\n",
    "    - expression to accumulate\n",
    "    - iteration driver\n",
    "    - filter boolean expression (optional)"
   ]
  },
  {
   "cell_type": "code",
   "execution_count": 90,
   "metadata": {},
   "outputs": [
    {
     "data": {
      "text/plain": [
       "[14, 87, 15, 32]"
      ]
     },
     "execution_count": 90,
     "metadata": {},
     "output_type": "execute_result"
    }
   ],
   "source": [
    "# add 10 again\n",
    "\n",
    "input = [4,77,5,22]\n",
    "\n",
    "[j+10 for j in input]"
   ]
  },
  {
   "cell_type": "code",
   "execution_count": 91,
   "metadata": {},
   "outputs": [
    {
     "data": {
      "text/plain": [
       "[14, 32]"
      ]
     },
     "execution_count": 91,
     "metadata": {},
     "output_type": "execute_result"
    }
   ],
   "source": [
    "# filter - add 10 only to even ints\n",
    "# '%' is mod operator\n",
    "# list comprehension with a filter\n",
    "\n",
    "[j+10 for j in input if j % 2 == 0]"
   ]
  },
  {
   "cell_type": "code",
   "execution_count": 92,
   "metadata": {},
   "outputs": [
    {
     "data": {
      "text/plain": [
       "[[0, 10],\n",
       " [0, 11],\n",
       " [0, 12],\n",
       " [1, 10],\n",
       " [1, 11],\n",
       " [1, 12],\n",
       " [2, 10],\n",
       " [2, 11],\n",
       " [2, 12]]"
      ]
     },
     "execution_count": 92,
     "metadata": {},
     "output_type": "execute_result"
    }
   ],
   "source": [
    "# drivers can be nested\n",
    "\n",
    "[[x,y] for x in range(3) for y in range(10,13)]"
   ]
  },
  {
   "cell_type": "code",
   "execution_count": 93,
   "metadata": {},
   "outputs": [
    {
     "data": {
      "text/plain": [
       "[0, 1, 2, 3]"
      ]
     },
     "execution_count": 93,
     "metadata": {},
     "output_type": "execute_result"
    }
   ],
   "source": [
    "# not a nested loop\n",
    "\n",
    "[x for x in [y for y in range(4)]]"
   ]
  },
  {
   "cell_type": "code",
   "execution_count": 94,
   "metadata": {},
   "outputs": [
    {
     "name": "stdout",
     "output_type": "stream",
     "text": [
      "4\n",
      "77\n",
      "5\n",
      "22\n"
     ]
    },
    {
     "data": {
      "text/plain": [
       "[None, None, None, None]"
      ]
     },
     "execution_count": 94,
     "metadata": {},
     "output_type": "execute_result"
    }
   ],
   "source": [
    "# sort of bogus - collecting None\n",
    "\n",
    "[print(j) for j in input]"
   ]
  },
  {
   "cell_type": "markdown",
   "metadata": {},
   "source": [
    "# Tuples\n",
    "- like a list\n",
    "- key difference is tuples are immutable - can't be modified after creation\n",
    "    - however, note that objects the tuple refers to can still be modified\n",
    "- use '()' instead of '[]'\n",
    "- 'tuple' is the type name"
   ]
  },
  {
   "cell_type": "code",
   "execution_count": 95,
   "metadata": {},
   "outputs": [
    {
     "data": {
      "text/plain": [
       "(0, 1, 2, 3, 4)"
      ]
     },
     "execution_count": 95,
     "metadata": {},
     "output_type": "execute_result"
    }
   ],
   "source": [
    "# constructor takes an iterable, like list\n",
    "\n",
    "tuple(range(5))"
   ]
  },
  {
   "cell_type": "code",
   "execution_count": 96,
   "metadata": {},
   "outputs": [
    {
     "data": {
      "text/plain": [
       "[(1, [5, 6], 4), 3, tuple]"
      ]
     },
     "execution_count": 96,
     "metadata": {},
     "output_type": "execute_result"
    }
   ],
   "source": [
    "# len returns length of top level elements\n",
    "\n",
    "t = (1,[5,6],4)\n",
    "[t , len(t), type(t)]"
   ]
  },
  {
   "cell_type": "code",
   "execution_count": 97,
   "metadata": {},
   "outputs": [
    {
     "data": {
      "text/plain": [
       "3"
      ]
     },
     "execution_count": 97,
     "metadata": {},
     "output_type": "execute_result"
    }
   ],
   "source": [
    "len(t)"
   ]
  },
  {
   "cell_type": "code",
   "execution_count": 98,
   "metadata": {},
   "outputs": [
    {
     "data": {
      "text/plain": [
       "1"
      ]
     },
     "execution_count": 98,
     "metadata": {},
     "output_type": "execute_result"
    }
   ],
   "source": [
    "# can retrieve\n",
    "\n",
    "t[0]"
   ]
  },
  {
   "cell_type": "code",
   "execution_count": 99,
   "metadata": {},
   "outputs": [
    {
     "ename": "TypeError",
     "evalue": "'tuple' object does not support item assignment",
     "output_type": "error",
     "traceback": [
      "\u001b[0;31m---------------------------------------------------------------------------\u001b[0m",
      "\u001b[0;31mTypeError\u001b[0m                                 Traceback (most recent call last)",
      "\u001b[0;32m<ipython-input-99-f2921f061990>\u001b[0m in \u001b[0;36m<module>\u001b[0;34m\u001b[0m\n\u001b[1;32m      1\u001b[0m \u001b[0;31m# but can't modify\u001b[0m\u001b[0;34m\u001b[0m\u001b[0;34m\u001b[0m\u001b[0;34m\u001b[0m\u001b[0m\n\u001b[1;32m      2\u001b[0m \u001b[0;34m\u001b[0m\u001b[0m\n\u001b[0;32m----> 3\u001b[0;31m \u001b[0mt\u001b[0m\u001b[0;34m[\u001b[0m\u001b[0;36m0\u001b[0m\u001b[0;34m]\u001b[0m \u001b[0;34m=\u001b[0m \u001b[0;36m3\u001b[0m\u001b[0;34m\u001b[0m\u001b[0;34m\u001b[0m\u001b[0m\n\u001b[0m",
      "\u001b[0;31mTypeError\u001b[0m: 'tuple' object does not support item assignment"
     ]
    }
   ],
   "source": [
    "# but can't modify\n",
    "\n",
    "t[0] = 3"
   ]
  },
  {
   "cell_type": "code",
   "execution_count": 100,
   "metadata": {},
   "outputs": [
    {
     "data": {
      "text/plain": [
       "(1, [5, 6], 4)"
      ]
     },
     "execution_count": 100,
     "metadata": {},
     "output_type": "execute_result"
    }
   ],
   "source": [
    "t"
   ]
  },
  {
   "cell_type": "code",
   "execution_count": 101,
   "metadata": {},
   "outputs": [
    {
     "data": {
      "text/plain": [
       "(1, [45, 6], 4)"
      ]
     },
     "execution_count": 101,
     "metadata": {},
     "output_type": "execute_result"
    }
   ],
   "source": [
    "# but - objects the tuple refers to are NOT made immutable\n",
    "# 2nd element of tuple is a mutable list\n",
    "\n",
    "t[1][0] = 45\n",
    "t"
   ]
  },
  {
   "cell_type": "code",
   "execution_count": 102,
   "metadata": {},
   "outputs": [
    {
     "name": "stdout",
     "output_type": "stream",
     "text": [
      "1\n",
      "2\n",
      "3\n"
     ]
    }
   ],
   "source": [
    "# tuples loop like lists\n",
    "\n",
    "for x in (1,2,3):\n",
    "    print(x)"
   ]
  },
  {
   "cell_type": "code",
   "execution_count": 103,
   "metadata": {},
   "outputs": [
    {
     "data": {
      "text/plain": [
       "()"
      ]
     },
     "execution_count": 103,
     "metadata": {},
     "output_type": "execute_result"
    }
   ],
   "source": [
    "# zero length tuple\n",
    "\n",
    "()"
   ]
  },
  {
   "cell_type": "code",
   "execution_count": 104,
   "metadata": {},
   "outputs": [
    {
     "data": {
      "text/plain": [
       "0"
      ]
     },
     "execution_count": 104,
     "metadata": {},
     "output_type": "execute_result"
    }
   ],
   "source": [
    "len( () )"
   ]
  },
  {
   "cell_type": "code",
   "execution_count": 105,
   "metadata": {},
   "outputs": [
    {
     "data": {
      "text/plain": [
       "(1,)"
      ]
     },
     "execution_count": 105,
     "metadata": {},
     "output_type": "execute_result"
    }
   ],
   "source": [
    "# length one element tuple has odd syntax\n",
    "# to distingish from...\n",
    "\n",
    "t =(1,)\n",
    "t"
   ]
  },
  {
   "cell_type": "code",
   "execution_count": 106,
   "metadata": {},
   "outputs": [
    {
     "data": {
      "text/plain": [
       "1"
      ]
     },
     "execution_count": 106,
     "metadata": {},
     "output_type": "execute_result"
    }
   ],
   "source": [
    "len(t)"
   ]
  },
  {
   "cell_type": "code",
   "execution_count": 107,
   "metadata": {},
   "outputs": [
    {
     "data": {
      "text/plain": [
       "1"
      ]
     },
     "execution_count": 107,
     "metadata": {},
     "output_type": "execute_result"
    }
   ],
   "source": [
    "# ...grouping parens (1)\n",
    "\n",
    "(1)"
   ]
  },
  {
   "cell_type": "code",
   "execution_count": 108,
   "metadata": {},
   "outputs": [
    {
     "data": {
      "text/plain": [
       "[((), tuple), (1, int), (1, int), ((1,), tuple), ((1, 2, 3), tuple)]"
      ]
     },
     "execution_count": 108,
     "metadata": {},
     "output_type": "execute_result"
    }
   ],
   "source": [
    "def pt(t):\n",
    "    return(t, type(t))\n",
    "\n",
    "[pt( () ), pt(1), pt((1)), pt((1,)), pt((1,2,3))]"
   ]
  },
  {
   "cell_type": "markdown",
   "metadata": {},
   "source": [
    "# a,b,c is an abbreviation for (a,b,c)\n",
    "- convenient at top level"
   ]
  },
  {
   "cell_type": "code",
   "execution_count": 109,
   "metadata": {},
   "outputs": [
    {
     "data": {
      "text/plain": [
       "(3, 4, 5)"
      ]
     },
     "execution_count": 109,
     "metadata": {},
     "output_type": "execute_result"
    }
   ],
   "source": [
    "3,4,5"
   ]
  },
  {
   "cell_type": "code",
   "execution_count": 110,
   "metadata": {},
   "outputs": [
    {
     "data": {
      "text/plain": [
       "(3, 4, 5)"
      ]
     },
     "execution_count": 110,
     "metadata": {},
     "output_type": "execute_result"
    }
   ],
   "source": [
    "(3,4,5)"
   ]
  },
  {
   "cell_type": "markdown",
   "metadata": {},
   "source": [
    "# String\n",
    "- is an iterator over the characters in the string\n",
    "- immutable - once created, cannot be modified\n",
    "- in Python version 3.X, strings are unicode\n",
    "- many useful methods\n",
    "- the 're' module provides regular expression pattern matching\n",
    "- three types of string literals 'foo', \"foo\", and '''foo'''\n",
    "- triple quotes can include multiple lines\n",
    "- unlike other languages, there is no 'character' type\n",
    "    - a Python 'character' is just a length 1 string\n",
    "- Python is very popular in 'digital humanities', and \n",
    "other fields involving natural language processing, in part because strings are so easy to use\n",
    "- 'str' is the type name\n",
    "- [doc](https://docs.python.org/3/library/stdtypes.html#text-sequence-type-str)\n"
   ]
  },
  {
   "cell_type": "code",
   "execution_count": 111,
   "metadata": {},
   "outputs": [
    {
     "data": {
      "text/plain": [
       "('foobar', 'foo\"bar', str, 6)"
      ]
     },
     "execution_count": 111,
     "metadata": {},
     "output_type": "execute_result"
    }
   ],
   "source": [
    "# len returns number of characters\n",
    "# returning a tuple\n",
    "\n",
    "'foobar', 'foo\"bar', type('foobar'), len('foobar')"
   ]
  },
  {
   "cell_type": "code",
   "execution_count": 112,
   "metadata": {},
   "outputs": [
    {
     "data": {
      "text/plain": [
       "('foo\"bar', \"foo'bar\", \"foo'bar\")"
      ]
     },
     "execution_count": 112,
     "metadata": {},
     "output_type": "execute_result"
    }
   ],
   "source": [
    "# various ways to embed quotes\n",
    "\n",
    "'foo\"bar', \"foo'bar\", 'foo\\'bar'"
   ]
  },
  {
   "cell_type": "code",
   "execution_count": 113,
   "metadata": {},
   "outputs": [
    {
     "data": {
      "text/plain": [
       "'\\nfoo\\'\\nbar\"\\n'"
      ]
     },
     "execution_count": 113,
     "metadata": {},
     "output_type": "execute_result"
    }
   ],
   "source": [
    "# use triple quotes to define multi-line strings\n",
    "# lots of escapes in output...\n",
    "\n",
    "s = '''\n",
    "foo'\n",
    "bar\"\n",
    "'''\n",
    "s"
   ]
  },
  {
   "cell_type": "code",
   "execution_count": 114,
   "metadata": {},
   "outputs": [
    {
     "name": "stdout",
     "output_type": "stream",
     "text": [
      "\n",
      "foo'\n",
      "bar\"\n",
      "\n"
     ]
    }
   ],
   "source": [
    "# ...but print looks nice\n",
    "\n",
    "print(s)"
   ]
  },
  {
   "cell_type": "code",
   "execution_count": 115,
   "metadata": {},
   "outputs": [
    {
     "data": {
      "text/plain": [
       "'foobar'"
      ]
     },
     "execution_count": 115,
     "metadata": {},
     "output_type": "execute_result"
    }
   ],
   "source": [
    "# note - if the string is the last thing in the cell,\n",
    "# it will by printed by the notebook in quotes:\n",
    "\n",
    "'foobar'"
   ]
  },
  {
   "cell_type": "code",
   "execution_count": 116,
   "metadata": {},
   "outputs": [
    {
     "name": "stdout",
     "output_type": "stream",
     "text": [
      "foobar\n"
     ]
    }
   ],
   "source": [
    "# but, 'printed' strings are printed w/o quotes\n",
    "\n",
    "print('foobar')"
   ]
  },
  {
   "cell_type": "code",
   "execution_count": 117,
   "metadata": {},
   "outputs": [
    {
     "name": "stdout",
     "output_type": "stream",
     "text": [
      "F\n",
      "o\n",
      "o\n",
      "B\n",
      "a\n",
      "r\n"
     ]
    }
   ],
   "source": [
    "# Strings are iterables\n",
    "\n",
    "for s in 'FooBar':\n",
    "    print(s)"
   ]
  },
  {
   "cell_type": "code",
   "execution_count": 118,
   "metadata": {},
   "outputs": [],
   "source": [
    "# string methods that return a string \n",
    "# always return a NEW string. \n",
    "# the original string is NEVER modified, \n",
    "# as it is immutable\n",
    "\n",
    "s = 'FooBar'\n",
    "ls = s.lower(), s.upper(), s.replace('o','X'), s.swapcase(), s\n"
   ]
  },
  {
   "cell_type": "code",
   "execution_count": 119,
   "metadata": {},
   "outputs": [
    {
     "data": {
      "text/plain": [
       "('foobar', 'FOOBAR', 'FXXBar', 'fOObAR', 'FooBar')"
      ]
     },
     "execution_count": 119,
     "metadata": {},
     "output_type": "execute_result"
    }
   ],
   "source": [
    "# last element of tupe is the original 'FooBar', which \n",
    "# has not been modified by any of the \n",
    "# methods run above\n",
    "\n",
    "# rest of list contains 4 NEW string objects, derived from the\n",
    "# original 'FooBar'\n",
    "\n",
    "ls"
   ]
  },
  {
   "cell_type": "code",
   "execution_count": 120,
   "metadata": {},
   "outputs": [
    {
     "data": {
      "text/plain": [
       "('foobarFOOBARFXXBarfOObARFooBar',\n",
       " 'foobar,FOOBAR,FXXBar,fOObAR,FooBar',\n",
       " 'foobar|FOOBAR|FXXBar|fOObAR|FooBar',\n",
       " 'foobar---FOOBAR---FXXBar---fOObAR---FooBar')"
      ]
     },
     "execution_count": 120,
     "metadata": {},
     "output_type": "execute_result"
    }
   ],
   "source": [
    "# join is a very handy method on str objects\n",
    "# it concatenates a list of strings into one string\n",
    "# the string on the left is used to\n",
    "# separate the joined strings\n",
    "\n",
    "''.join(ls),','.join(ls), '|'.join(ls), '---'.join(ls)"
   ]
  },
  {
   "cell_type": "code",
   "execution_count": 121,
   "metadata": {},
   "outputs": [
    {
     "data": {
      "text/plain": [
       "['foobarFOOBARFXXBarfOObARFooBar',\n",
       " 'foobar,FOOBAR,FXXBar,fOObAR,FooBar',\n",
       " 'foobar|FOOBAR|FXXBar|fOObAR|FooBar',\n",
       " 'foobar---FOOBAR---FXXBar---fOObAR---FooBar']"
      ]
     },
     "execution_count": 121,
     "metadata": {},
     "output_type": "execute_result"
    }
   ],
   "source": [
    "# use list comprehension - nicer way to write above\n",
    "\n",
    "[sep.join(ls) for sep in ['', ',', '|', '---']]"
   ]
  },
  {
   "cell_type": "code",
   "execution_count": 122,
   "metadata": {},
   "outputs": [
    {
     "data": {
      "text/plain": [
       "[['foo', 'bar', '34', 'zap'], ['foo,bar,', ',zap']]"
      ]
     },
     "execution_count": 122,
     "metadata": {},
     "output_type": "execute_result"
    }
   ],
   "source": [
    "# the inverse to join, 'split', splits a string \n",
    "# into a list of strings\n",
    "# based on a 'separator' string\n",
    "\n",
    "s = \"foo,bar,34,zap\"\n",
    "[s.split(sep) for sep in [',', '34']]"
   ]
  },
  {
   "cell_type": "code",
   "execution_count": 123,
   "metadata": {},
   "outputs": [
    {
     "data": {
      "image/svg+xml": [
       "<svg baseProfile=\"full\" height=\"200\" version=\"1.1\" width=\"800\" xmlns=\"http://www.w3.org/2000/svg\" xmlns:ev=\"http://www.w3.org/2001/xml-events\" xmlns:xlink=\"http://www.w3.org/1999/xlink\"><defs /><text fill=\"blue\" text-anchor=\"end\" x=\"100\" y=\"30\">Variables</text><text fill=\"black\" text-anchor=\"end\" x=\"100\" y=\"60\">a</text><text fill=\"black\" text-anchor=\"end\" x=\"100\" y=\"90\">b</text><text fill=\"black\" text-anchor=\"end\" x=\"100\" y=\"120\">c</text><text fill=\"black\" text-anchor=\"end\" x=\"100\" y=\"150\">s</text><text fill=\"blue\" x=\"260\" y=\"30\">Objects(in the Heap)</text><text fill=\"black\" x=\"260\" y=\"60\">fooXbar</text><line stroke=\"rgb(90%,10%,16%)\" x1=\"100\" x2=\"260\" y1=\"60\" y2=\"60\" /><text fill=\"black\" x=\"260\" y=\"90\">fooXbarXXX</text><line stroke=\"rgb(90%,10%,16%)\" x1=\"100\" x2=\"260\" y1=\"90\" y2=\"90\" /><text fill=\"black\" x=\"260\" y=\"120\">XXfooXbar</text><line stroke=\"rgb(90%,10%,16%)\" x1=\"100\" x2=\"260\" y1=\"120\" y2=\"120\" /><text fill=\"black\" x=\"260\" y=\"150\">XXfooXbarXXX</text><line stroke=\"rgb(90%,10%,16%)\" x1=\"100\" x2=\"260\" y1=\"150\" y2=\"150\" /></svg>"
      ],
      "text/plain": [
       "<__main__.memgraph at 0x10b0c2dd0>"
      ]
     },
     "execution_count": 123,
     "metadata": {},
     "output_type": "execute_result"
    }
   ],
   "source": [
    "# strip can remove chars at the begining(left) \n",
    "# and/or end(right) of a string\n",
    "# Note middle 'X' is not removed\n",
    "# Most commonly used to remove new lines from a string\n",
    "# again, the original 's' string is NEVER modified\n",
    "\n",
    "s = 'XXfooXbarXXX'\n",
    "a = s.strip('X')\n",
    "b = s.lstrip('X') \n",
    "c = s.rstrip('X')\n",
    "memgraph(['s','a','b','c'])"
   ]
  },
  {
   "cell_type": "code",
   "execution_count": 124,
   "metadata": {},
   "outputs": [
    {
     "data": {
      "text/plain": [
       "'XXfooXbarXXXXXfooXbarXXX'"
      ]
     },
     "execution_count": 124,
     "metadata": {},
     "output_type": "execute_result"
    }
   ],
   "source": [
    "# '+' concatenates strings as well as lists\n",
    "# the operation '+' performs depends on \n",
    "# the type of the arguments\n",
    "\n",
    "s + s"
   ]
  },
  {
   "cell_type": "code",
   "execution_count": 125,
   "metadata": {},
   "outputs": [
    {
     "data": {
      "text/plain": [
       "('abcabc', 'xyzxyzxyzxyz')"
      ]
     },
     "execution_count": 125,
     "metadata": {},
     "output_type": "execute_result"
    }
   ],
   "source": [
    "# sort of weird - multiplication repeats strings\n",
    "\n",
    "2*\"abc\", \"xyz\"*4"
   ]
  },
  {
   "cell_type": "code",
   "execution_count": 126,
   "metadata": {},
   "outputs": [
    {
     "data": {
      "text/plain": [
       "(True, False, 2, 1)"
      ]
     },
     "execution_count": 126,
     "metadata": {},
     "output_type": "execute_result"
    }
   ],
   "source": [
    "# 'in' looks for substrings\n",
    "# case sensitive compares\n",
    "\n",
    "s = 'zappa'\n",
    "'pa' in s, 'Za' in s, s.count('p'), s.count('ap')"
   ]
  },
  {
   "cell_type": "code",
   "execution_count": 127,
   "metadata": {},
   "outputs": [
    {
     "data": {
      "text/plain": [
       "(3, 3)"
      ]
     },
     "execution_count": 127,
     "metadata": {},
     "output_type": "execute_result"
    }
   ],
   "source": [
    "# search for a substring with 'find' or 'index'\n",
    "\n",
    "s.find('pa'), s.index('pa')"
   ]
  },
  {
   "cell_type": "code",
   "execution_count": 128,
   "metadata": {},
   "outputs": [
    {
     "ename": "ValueError",
     "evalue": "substring not found",
     "output_type": "error",
     "traceback": [
      "\u001b[0;31m---------------------------------------------------------------------------\u001b[0m",
      "\u001b[0;31mValueError\u001b[0m                                Traceback (most recent call last)",
      "\u001b[0;32m<ipython-input-128-bb7b22e05854>\u001b[0m in \u001b[0;36m<module>\u001b[0;34m\u001b[0m\n\u001b[1;32m      1\u001b[0m \u001b[0;31m# if index can't find anything, it throws an error!\u001b[0m\u001b[0;34m\u001b[0m\u001b[0;34m\u001b[0m\u001b[0;34m\u001b[0m\u001b[0m\n\u001b[1;32m      2\u001b[0m \u001b[0;34m\u001b[0m\u001b[0m\n\u001b[0;32m----> 3\u001b[0;31m \u001b[0ms\u001b[0m\u001b[0;34m.\u001b[0m\u001b[0mindex\u001b[0m\u001b[0;34m(\u001b[0m\u001b[0;34m'32'\u001b[0m\u001b[0;34m)\u001b[0m\u001b[0;34m\u001b[0m\u001b[0;34m\u001b[0m\u001b[0m\n\u001b[0m",
      "\u001b[0;31mValueError\u001b[0m: substring not found"
     ]
    }
   ],
   "source": [
    "# if index can't find anything, it throws an error!\n",
    "\n",
    "s.index('32')"
   ]
  },
  {
   "cell_type": "code",
   "execution_count": 129,
   "metadata": {},
   "outputs": [
    {
     "data": {
      "text/plain": [
       "-1"
      ]
     },
     "execution_count": 129,
     "metadata": {},
     "output_type": "execute_result"
    }
   ],
   "source": [
    "# 'find' is not such a hothead, it just returns -1\n",
    "# on a miss, which is often more convenient\n",
    "\n",
    "s.find('32')"
   ]
  },
  {
   "cell_type": "code",
   "execution_count": 130,
   "metadata": {},
   "outputs": [
    {
     "data": {
      "text/plain": [
       "(65, 'A')"
      ]
     },
     "execution_count": 130,
     "metadata": {},
     "output_type": "execute_result"
    }
   ],
   "source": [
    "# 'ord' and 'chr' do character-int conversions\n",
    "\n",
    "ord('A'), chr(65)"
   ]
  },
  {
   "cell_type": "code",
   "execution_count": 133,
   "metadata": {},
   "outputs": [
    {
     "data": {
      "text/plain": [
       "'bdfhjlnprtvxz'"
      ]
     },
     "execution_count": 133,
     "metadata": {},
     "output_type": "execute_result"
    }
   ],
   "source": [
    "# make string of even lower case chars in a-z\n",
    "# somewhat terse one liner - \n",
    "# in Python you can do alot with a little code, \n",
    "# but can be hard to read\n",
    "# '\\' continues a line\n",
    "\n",
    "\n",
    "''.join([chr(c) for c in range(ord('a'), ord('z')+1) if c % 2 == 0])\n"
   ]
  },
  {
   "cell_type": "code",
   "execution_count": 134,
   "metadata": {
    "scrolled": true
   },
   "outputs": [
    {
     "data": {
      "text/plain": [
       "(97, 122)"
      ]
     },
     "execution_count": 134,
     "metadata": {},
     "output_type": "execute_result"
    }
   ],
   "source": [
    "# let's break it into separate steps:\n",
    "# get the ascii codes for 'a' and 'z'\n",
    "# can see ascii codes on mac and linux with:\n",
    "# man ascii\n",
    "\n",
    "a = ord('a')\n",
    "z = ord('z')\n",
    "a,z"
   ]
  },
  {
   "cell_type": "code",
   "execution_count": 135,
   "metadata": {},
   "outputs": [
    {
     "name": "stdout",
     "output_type": "stream",
     "text": [
      "[98, 100, 102, 104, 106, 108, 110, 112, 114, 116, 118, 120, 122]\n"
     ]
    }
   ],
   "source": [
    "# now we have all the codes for 'a' to 'z'\n",
    "# note the z+1 - need the +1 to get the z code\n",
    "\n",
    "codes = [c for c in range(a,z+1) if c % 2 == 0]\n",
    "print(codes)"
   ]
  },
  {
   "cell_type": "code",
   "execution_count": 136,
   "metadata": {},
   "outputs": [
    {
     "name": "stdout",
     "output_type": "stream",
     "text": [
      "['b', 'd', 'f', 'h', 'j', 'l', 'n', 'p', 'r', 't', 'v', 'x', 'z']\n"
     ]
    }
   ],
   "source": [
    "# now we have a list of the lower case characters\n",
    "\n",
    "chars = [chr(c) for c in codes]\n",
    "print(chars)"
   ]
  },
  {
   "cell_type": "code",
   "execution_count": 137,
   "metadata": {},
   "outputs": [
    {
     "data": {
      "text/plain": [
       "'bdfhjlnprtvxz'"
      ]
     },
     "execution_count": 137,
     "metadata": {},
     "output_type": "execute_result"
    }
   ],
   "source": [
    "# last step - using the 'join' method on string, \n",
    "# merge the chars into one string\n",
    "# some people like the one-liners, others like to use several \n",
    "# steps\n",
    "\n",
    "''.join(chars)"
   ]
  },
  {
   "cell_type": "code",
   "execution_count": 138,
   "metadata": {},
   "outputs": [
    {
     "name": "stdout",
     "output_type": "stream",
     "text": [
      "abcdefghijklmnopqrstuvwxyz\n",
      "ABCDEFGHIJKLMNOPQRSTUVWXYZ\n",
      "0123456789\n",
      "!\"#$%&'()*+,-./:;<=>?@[\\]^_`{|}~\n"
     ]
    }
   ],
   "source": [
    "# the string module has useful constants:\n",
    "\n",
    "import string\n",
    "\n",
    "for s in [string.ascii_lowercase, \n",
    "          string.ascii_uppercase, \n",
    "            string.digits, \n",
    "          string.punctuation]:\n",
    "    print(s)"
   ]
  },
  {
   "cell_type": "code",
   "execution_count": 139,
   "metadata": {},
   "outputs": [
    {
     "data": {
      "text/plain": [
       "(13, 'vxz', 'vz', 'v')"
      ]
     },
     "execution_count": 139,
     "metadata": {},
     "output_type": "execute_result"
    }
   ],
   "source": [
    "# can slice strings, and access chars\n",
    "\n",
    "len(lc), lc[10:20], lc[10:20:2], lc[10]"
   ]
  },
  {
   "cell_type": "code",
   "execution_count": 140,
   "metadata": {},
   "outputs": [
    {
     "data": {
      "text/plain": [
       "('4321', [4, 3, 2, 1])"
      ]
     },
     "execution_count": 140,
     "metadata": {},
     "output_type": "execute_result"
    }
   ],
   "source": [
    "# unlike list objects, string objects don't \n",
    "# have a reverse method\n",
    "# but you can reverse with a slice\n",
    "# works with lists as well\n",
    "\n",
    "s = '1234'\n",
    "z = [1,2,3,4]\n",
    "s[::-1], z[::-1]"
   ]
  },
  {
   "cell_type": "code",
   "execution_count": 141,
   "metadata": {},
   "outputs": [
    {
     "data": {
      "text/plain": [
       "(True, True, False)"
      ]
     },
     "execution_count": 141,
     "metadata": {},
     "output_type": "execute_result"
    }
   ],
   "source": [
    "# startswith, endwith string methods are sometimes \n",
    "# convenient alternatives to more complex operations\n",
    "# like regular expressions\n",
    "\n",
    "a = \"foo.txt\"\n",
    "\n",
    "a.startswith('foo'), a.endswith('txt'), a.endswith('txt2')"
   ]
  },
  {
   "cell_type": "code",
   "execution_count": 142,
   "metadata": {},
   "outputs": [
    {
     "data": {
      "text/plain": [
       "('234', '3.34', '[1, 2, 3]')"
      ]
     },
     "execution_count": 142,
     "metadata": {},
     "output_type": "execute_result"
    }
   ],
   "source": [
    "# 'str' function converts any object \n",
    "# to a string representation\n",
    "\n",
    "str(234), str(3.34), str([1,2,3])"
   ]
  },
  {
   "cell_type": "code",
   "execution_count": 143,
   "metadata": {},
   "outputs": [
    {
     "data": {
      "text/plain": [
       "(['f', 'o', 'o', 'b', 'a', 'r'], ('f', 'o', 'o', 'b', 'a', 'r'))"
      ]
     },
     "execution_count": 143,
     "metadata": {},
     "output_type": "execute_result"
    }
   ],
   "source": [
    "# 'list' converts a string into a list of \n",
    "# characters(length one strings). \n",
    "# likewise for tuple\n",
    "\n",
    "list('foobar'), tuple('foobar')"
   ]
  },
  {
   "cell_type": "code",
   "execution_count": 144,
   "metadata": {},
   "outputs": [
    {
     "data": {
      "text/plain": [
       "(True, True)"
      ]
     },
     "execution_count": 144,
     "metadata": {},
     "output_type": "execute_result"
    }
   ],
   "source": [
    "# a given sequence of characters is a singleton\n",
    "# so str of a string just returns the arg\n",
    "\n",
    "s1 = 'foobar'\n",
    "s2 = 'foo' + 'bar'\n",
    "s1 == s2, str('foobar') is s1"
   ]
  },
  {
   "cell_type": "markdown",
   "metadata": {},
   "source": [
    "# 'printf' style string formatting - old way\n",
    "    - still works, but deprecated"
   ]
  },
  {
   "cell_type": "code",
   "execution_count": 145,
   "metadata": {},
   "outputs": [
    {
     "data": {
      "text/plain": [
       "'int 3 float 5.500000 string printf'"
      ]
     },
     "execution_count": 145,
     "metadata": {},
     "output_type": "execute_result"
    }
   ],
   "source": [
    "'int %d float %f string %s' % (3, 5.5, 'printf')"
   ]
  },
  {
   "cell_type": "markdown",
   "metadata": {},
   "source": [
    "# 'printf' style string formatting - new way\n",
    "- new, preferred method\n",
    "- looks at the type of the arg, so don't have to specify type in control string\n",
    "- a '{}' in the control string uses and formats an arg\n",
    "- [doc](https://docs.python.org/3.5/library/string.html#custom-string-formatting)"
   ]
  },
  {
   "cell_type": "code",
   "execution_count": 146,
   "metadata": {},
   "outputs": [
    {
     "data": {
      "text/plain": [
       "'int 3 float 5.5 string printf'"
      ]
     },
     "execution_count": 146,
     "metadata": {},
     "output_type": "execute_result"
    }
   ],
   "source": [
    "'int {} float {} string {}'.format(3, 5.5, 'printf')"
   ]
  },
  {
   "cell_type": "code",
   "execution_count": 155,
   "metadata": {},
   "outputs": [
    {
     "data": {
      "text/plain": [
       "'1,234,567,890 fformat=2.123457 eformat=2.123457e+00'"
      ]
     },
     "execution_count": 155,
     "metadata": {},
     "output_type": "execute_result"
    }
   ],
   "source": [
    "# control printing by adding specs inside the '{}'\n",
    "\n",
    "x = 2.123456789\n",
    "'{:,} fformat={:f} eformat={:e}'.format(1234567890, x, x)"
   ]
  },
  {
   "cell_type": "markdown",
   "metadata": {},
   "source": [
    "# 'printf' sytle string formatting - latest and greatest way!\n",
    "- use 'f-string' facility - fairly new"
   ]
  },
  {
   "cell_type": "code",
   "execution_count": 157,
   "metadata": {},
   "outputs": [
    {
     "data": {
      "text/plain": [
       "'1,234,567,890 fformat=2.123457 eformat=2.123457e+00'"
      ]
     },
     "execution_count": 157,
     "metadata": {},
     "output_type": "execute_result"
    }
   ],
   "source": [
    "f'{1234567890:,} fformat={x:f} eformat={x:e}'"
   ]
  },
  {
   "cell_type": "markdown",
   "metadata": {},
   "source": [
    "# lots of methods on strings\n"
   ]
  },
  {
   "cell_type": "code",
   "execution_count": 148,
   "metadata": {},
   "outputs": [
    {
     "data": {
      "text/plain": [
       "['__add__',\n",
       " '__class__',\n",
       " '__contains__',\n",
       " '__delattr__',\n",
       " '__dir__',\n",
       " '__doc__',\n",
       " '__eq__',\n",
       " '__format__',\n",
       " '__ge__',\n",
       " '__getattribute__',\n",
       " '__getitem__',\n",
       " '__getnewargs__',\n",
       " '__gt__',\n",
       " '__hash__',\n",
       " '__init__',\n",
       " '__init_subclass__',\n",
       " '__iter__',\n",
       " '__le__',\n",
       " '__len__',\n",
       " '__lt__',\n",
       " '__mod__',\n",
       " '__mul__',\n",
       " '__ne__',\n",
       " '__new__',\n",
       " '__reduce__',\n",
       " '__reduce_ex__',\n",
       " '__repr__',\n",
       " '__rmod__',\n",
       " '__rmul__',\n",
       " '__setattr__',\n",
       " '__sizeof__',\n",
       " '__str__',\n",
       " '__subclasshook__',\n",
       " 'capitalize',\n",
       " 'casefold',\n",
       " 'center',\n",
       " 'count',\n",
       " 'encode',\n",
       " 'endswith',\n",
       " 'expandtabs',\n",
       " 'find',\n",
       " 'format',\n",
       " 'format_map',\n",
       " 'index',\n",
       " 'isalnum',\n",
       " 'isalpha',\n",
       " 'isascii',\n",
       " 'isdecimal',\n",
       " 'isdigit',\n",
       " 'isidentifier',\n",
       " 'islower',\n",
       " 'isnumeric',\n",
       " 'isprintable',\n",
       " 'isspace',\n",
       " 'istitle',\n",
       " 'isupper',\n",
       " 'join',\n",
       " 'ljust',\n",
       " 'lower',\n",
       " 'lstrip',\n",
       " 'maketrans',\n",
       " 'partition',\n",
       " 'replace',\n",
       " 'rfind',\n",
       " 'rindex',\n",
       " 'rjust',\n",
       " 'rpartition',\n",
       " 'rsplit',\n",
       " 'rstrip',\n",
       " 'split',\n",
       " 'splitlines',\n",
       " 'startswith',\n",
       " 'strip',\n",
       " 'swapcase',\n",
       " 'title',\n",
       " 'translate',\n",
       " 'upper',\n",
       " 'zfill']"
      ]
     },
     "execution_count": 148,
     "metadata": {},
     "output_type": "execute_result"
    }
   ],
   "source": [
    "dir(str)"
   ]
  }
 ],
 "metadata": {
  "anaconda-cloud": {},
  "kernelspec": {
   "display_name": "Python 3",
   "language": "python",
   "name": "python3"
  },
  "language_info": {
   "codemirror_mode": {
    "name": "ipython",
    "version": 3
   },
   "file_extension": ".py",
   "mimetype": "text/x-python",
   "name": "python",
   "nbconvert_exporter": "python",
   "pygments_lexer": "ipython3",
   "version": "3.7.4"
  }
 },
 "nbformat": 4,
 "nbformat_minor": 1
}
