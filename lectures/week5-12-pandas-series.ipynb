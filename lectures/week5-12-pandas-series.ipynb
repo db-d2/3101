{
 "cells": [
  {
   "cell_type": "markdown",
   "metadata": {},
   "source": [
    "# Pandas(panel data)\n",
    "- Original ideas came from \"R\" statistical language\n",
    "-  now panda developers claim:\n",
    "    - more functionality than R\n",
    "    - faster algorithms than R\n",
    "- based on numpy\n",
    "- Can connect directly to databases\n",
    "- Can read/write in many file formats\n",
    "- very large package\n",
    "- the two primary classes are Series and DataFrame\n",
    "    - both support vector arithmetic and broadcasting like numpy\n",
    "- [doc](http://pandas.pydata.org)\n",
    "- [cheat sheet](https://github.com/pandas-dev/pandas/blob/master/doc/cheatsheet/Pandas_Cheat_Sheet.pdf)"
   ]
  },
  {
   "cell_type": "code",
   "execution_count": null,
   "metadata": {},
   "outputs": [],
   "source": [
    "# standard abbreviations\n",
    "\n",
    "import numpy as np\n",
    "import pandas as pd\n",
    "import datetime\n",
    "pd.__version__"
   ]
  },
  {
   "cell_type": "markdown",
   "metadata": {},
   "source": [
    "# Series is like a numpy 1D array with an index attached\n",
    "- the index defaults to typical slot addressing, 0 to N-1\n",
    "- something like a dictionary, where the key elements are the index,\n",
    "and key values are the array itself\n",
    "- there are a number of techniques and tricks for indexing pandas - we will only use two:\n",
    "    - iloc - int index\n",
    "    - loc - object index"
   ]
  },
  {
   "cell_type": "code",
   "execution_count": null,
   "metadata": {},
   "outputs": [],
   "source": [
    "# got an automatic index(on the left)\n",
    "\n",
    "ser = pd.Series(range(10,15))\n",
    "\n",
    "ser"
   ]
  },
  {
   "cell_type": "code",
   "execution_count": null,
   "metadata": {},
   "outputs": [],
   "source": [
    "ser.values, ser.index"
   ]
  },
  {
   "cell_type": "code",
   "execution_count": null,
   "metadata": {},
   "outputs": [],
   "source": [
    "# use 'iloc' for int indexes\n",
    "\n",
    "ser.iloc[3]"
   ]
  },
  {
   "cell_type": "code",
   "execution_count": null,
   "metadata": {},
   "outputs": [],
   "source": [
    "# a slice keeps the index\n",
    "\n",
    "ser.iloc[2:5]"
   ]
  },
  {
   "cell_type": "code",
   "execution_count": null,
   "metadata": {},
   "outputs": [],
   "source": [
    "# index can be specified explicity, and does not need to be numeric\n",
    "\n",
    "ser2 = pd.Series(range(10,15), \\\n",
    "    index=['butler', 'math', \\\n",
    "           'science', 'avery', 'business'])\n",
    "ser2"
   ]
  },
  {
   "cell_type": "code",
   "execution_count": null,
   "metadata": {},
   "outputs": [],
   "source": [
    "# different type of index\n",
    "\n",
    "ser2.values, ser2.index"
   ]
  },
  {
   "cell_type": "code",
   "execution_count": null,
   "metadata": {},
   "outputs": [],
   "source": [
    "# can retrieve element via index \n",
    "# 'loc' means do key index lookup\n",
    "\n",
    "ser2.iloc[3], ser2.loc['avery']"
   ]
  },
  {
   "cell_type": "code",
   "execution_count": null,
   "metadata": {},
   "outputs": [],
   "source": [
    "# slice keeps index\n",
    "\n",
    "ser2.iloc[1:3]"
   ]
  },
  {
   "cell_type": "code",
   "execution_count": null,
   "metadata": {},
   "outputs": [],
   "source": [
    "# slice by keys  \n",
    "# note - end is inclusive, unlike list/iloc slice\n",
    "\n",
    "ser2.loc['butler':'science']"
   ]
  },
  {
   "cell_type": "code",
   "execution_count": null,
   "metadata": {},
   "outputs": [],
   "source": [
    "# like a dict...\n",
    "\n",
    "'math' in ser2, 'foo' in ser2, ser2.keys(),ser2.values"
   ]
  },
  {
   "cell_type": "code",
   "execution_count": null,
   "metadata": {},
   "outputs": [],
   "source": [
    "ser2.items(), list( ser2.items())"
   ]
  },
  {
   "cell_type": "code",
   "execution_count": null,
   "metadata": {},
   "outputs": [],
   "source": [
    "ser3 = pd.Series(range(20,25), \\\n",
    "    index=['butler', 'science','math', \\\n",
    "            'avery', 'business'])\n",
    "ser3"
   ]
  },
  {
   "cell_type": "code",
   "execution_count": null,
   "metadata": {},
   "outputs": [],
   "source": [
    "ser2"
   ]
  },
  {
   "cell_type": "code",
   "execution_count": null,
   "metadata": {},
   "outputs": [],
   "source": [
    "# can add series\n",
    "# science and math in different places\n",
    "# indexes are aligned, even though index positions are different\n",
    "# sort of like a database join\n",
    "# vector arithmetic\n",
    "\n",
    "ser2 + ser3"
   ]
  },
  {
   "cell_type": "code",
   "execution_count": null,
   "metadata": {},
   "outputs": [],
   "source": [
    "# broadcasting\n",
    "\n",
    "2 * ser2 + 3 * ser3 + 5"
   ]
  },
  {
   "cell_type": "code",
   "execution_count": null,
   "metadata": {},
   "outputs": [],
   "source": [
    "# create from a dict\n",
    "# has some different indexes \n",
    "\n",
    "d = {'math':10, 'science':10, 'law':13, 'avery':12}\n",
    "ser4 = pd.Series(d)\n",
    "ser4"
   ]
  },
  {
   "cell_type": "code",
   "execution_count": null,
   "metadata": {},
   "outputs": [],
   "source": [
    "ser3"
   ]
  },
  {
   "cell_type": "code",
   "execution_count": null,
   "metadata": {},
   "outputs": [],
   "source": [
    "# business, butler, law indexes are only \n",
    "# defined in one of the summands, \n",
    "# so can't compute their sums\n",
    "\n",
    "# hey, where did the floating point come from??\n",
    "# what's a NaN??\n",
    "\n",
    "ssum=ser3+ser4\n",
    "ssum"
   ]
  },
  {
   "cell_type": "markdown",
   "metadata": {},
   "source": [
    "# addition of Series\n",
    "- same index values are added together, even though indexes are in different order\n",
    "- the sum index is the union of the indexes in both Series. \n",
    "- if there is not a value in both Series for an index, the value is the special IEEE floating point value NaN(Not a Number), which normally represents invalid floating point operations\n",
    "- NaNs lets pandas represent missing values efficiently\n",
    "- note that in order to use NaNs, the original \n",
    "integer values were converted to floats!\n",
    "\n",
    "# real world data almost always has missing values \n",
    "- need to deal with it somehow\n"
   ]
  },
  {
   "cell_type": "code",
   "execution_count": null,
   "metadata": {},
   "outputs": [],
   "source": [
    "# functions like mean are smart about NaN's\n",
    "# they just skip NaN's, instead of raising errors\n",
    "\n",
    "ssum "
   ]
  },
  {
   "cell_type": "code",
   "execution_count": null,
   "metadata": {},
   "outputs": [],
   "source": [
    "ssum.mean(), (35+32+31)/3."
   ]
  },
  {
   "cell_type": "code",
   "execution_count": null,
   "metadata": {},
   "outputs": [],
   "source": [
    "# call sin on each element\n",
    "# don't raise an error on the NaN's\n",
    "# sin(NaN) = NaN\n",
    "\n",
    "np.sin(ssum)"
   ]
  },
  {
   "cell_type": "code",
   "execution_count": null,
   "metadata": {},
   "outputs": [],
   "source": [
    "# drop any row with a NaN\n",
    "\n",
    "ssum.dropna()"
   ]
  },
  {
   "cell_type": "code",
   "execution_count": null,
   "metadata": {},
   "outputs": [],
   "source": [
    "ssum"
   ]
  },
  {
   "cell_type": "code",
   "execution_count": null,
   "metadata": {},
   "outputs": [],
   "source": [
    "# can fill in missing vals\n",
    "\n",
    "ssum.fillna(0)"
   ]
  },
  {
   "cell_type": "code",
   "execution_count": null,
   "metadata": {},
   "outputs": [],
   "source": [
    "ser3"
   ]
  },
  {
   "cell_type": "code",
   "execution_count": null,
   "metadata": {},
   "outputs": [],
   "source": [
    "ser4"
   ]
  },
  {
   "cell_type": "code",
   "execution_count": null,
   "metadata": {},
   "outputs": [],
   "source": [
    "# another fix\n",
    "\n",
    "ser3.add(ser4, fill_value=10)"
   ]
  },
  {
   "cell_type": "code",
   "execution_count": null,
   "metadata": {},
   "outputs": [],
   "source": [
    "ssum"
   ]
  },
  {
   "cell_type": "code",
   "execution_count": null,
   "metadata": {},
   "outputs": [],
   "source": [
    "# can be nicer to interpolate missing values\n",
    "\n",
    "ssum.interpolate()"
   ]
  },
  {
   "cell_type": "markdown",
   "metadata": {},
   "source": [
    "# Example - find prime numbers\n",
    "- define findPrimes\n",
    "- return a list of primes upto a given limit\n",
    "- use [sieve of eratosthenes]\n",
    "(https://en.wikipedia.org/wiki/Sieve_of_Eratosthenes#example) algorithm\n",
    "    - no divide or mod\n",
    "- use a Series with numpy booleans\n",
    "- slices with increments can do most of the work\n",
    "\n",
    "\n"
   ]
  },
  {
   "cell_type": "code",
   "execution_count": null,
   "metadata": {},
   "outputs": [],
   "source": [
    "# find primes upto 30 \n",
    "# if a bool is True, that number is prime\n",
    "\n",
    "ser = pd.Series(np.ones(30, dtype=np.bool))\n",
    "ser"
   ]
  },
  {
   "cell_type": "code",
   "execution_count": null,
   "metadata": {},
   "outputs": [],
   "source": [
    "# 0, 1 are not prime\n",
    "\n",
    "ser[:2] = False\n",
    "ser"
   ]
  },
  {
   "cell_type": "code",
   "execution_count": null,
   "metadata": {},
   "outputs": [],
   "source": [
    "# trash evens\n",
    "\n",
    "ser[4::2] = False\n",
    "ser"
   ]
  },
  {
   "cell_type": "code",
   "execution_count": null,
   "metadata": {},
   "outputs": [],
   "source": [
    "# trash multiples\n",
    "\n",
    "for j in range(3, 30, 2):\n",
    "    ser[2*j::j] = False\n",
    "ser"
   ]
  },
  {
   "cell_type": "code",
   "execution_count": null,
   "metadata": {},
   "outputs": [],
   "source": [
    "# but how do we get a list of the primes?\n",
    "\n",
    "\n",
    "\n",
    "\n",
    "\n",
    "\n",
    "\n",
    "\n",
    "\n",
    "\n",
    "\n",
    "\n",
    "\n",
    "\n",
    "\n",
    "\n",
    "\n",
    "\n",
    "\n",
    "# boolean index myself!!\n",
    "\n",
    "ser[ser]"
   ]
  },
  {
   "cell_type": "code",
   "execution_count": null,
   "metadata": {},
   "outputs": [],
   "source": [
    "ssi = ser[ser].index\n",
    "ssi"
   ]
  },
  {
   "cell_type": "code",
   "execution_count": null,
   "metadata": {},
   "outputs": [],
   "source": [
    "# not a list, but pretty close\n",
    "\n",
    "ssi[4], len(ssi), [p for p in ssi]"
   ]
  },
  {
   "cell_type": "code",
   "execution_count": null,
   "metadata": {},
   "outputs": [],
   "source": [
    "# can make a list\n",
    "\n",
    "list(ssi)"
   ]
  }
 ],
 "metadata": {
  "anaconda-cloud": {},
  "kernelspec": {
   "display_name": "Python 3",
   "language": "python",
   "name": "python3"
  },
  "language_info": {
   "codemirror_mode": {
    "name": "ipython",
    "version": 3
   },
   "file_extension": ".py",
   "mimetype": "text/x-python",
   "name": "python",
   "nbconvert_exporter": "python",
   "pygments_lexer": "ipython3",
   "version": "3.7.4"
  }
 },
 "nbformat": 4,
 "nbformat_minor": 1
}
