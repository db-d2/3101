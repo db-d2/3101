{
 "cells": [
  {
   "cell_type": "markdown",
   "metadata": {},
   "source": [
    "# [PEP 8](https://www.python.org/dev/peps/pep-0008/)\n",
    "- \"PEP\" - Python Enhancement Proposal\n",
    "    - like RFPs for the internet\n",
    "- PEP 8 is the standard style guide for Python code\n",
    "- very detailed\n",
    "- worth looking at\n",
    "- important if you want to write \"professional looking\" code\n"
   ]
  },
  {
   "cell_type": "markdown",
   "metadata": {},
   "source": [
    "# Programs that check your source code style\n",
    "- try them with style-test.py"
   ]
  },
  {
   "cell_type": "markdown",
   "metadata": {},
   "source": [
    "# pycodestyle\n",
    "    - run it on a source file, and it will complain about PEP 8 style violations\n",
    "    "
   ]
  },
  {
   "cell_type": "markdown",
   "metadata": {},
   "source": [
    "# pylint\n",
    "- checks your source VERY carefully, more so than 'pycodestyle'\n",
    "- [tutorial](https://docs.pylint.org/en/1.6.0/tutorial.html)\n",
    "- [doc](https://www.pylint.org/)"
   ]
  },
  {
   "cell_type": "markdown",
   "metadata": {},
   "source": [
    "# autopep8\n",
    "- does lots of fixes, including fixing tabs\n",
    "- with -i arg, updates file in place\n"
   ]
  },
  {
   "cell_type": "code",
   "execution_count": null,
   "metadata": {},
   "outputs": [],
   "source": [
    "usage: autopep8 [-h] [--version] [-v] [-d] [-i] [--global-config filename]\n",
    "                [--ignore-local-config] [-r] [-j n] [-p n] [-a]\n",
    "                [--experimental] [--exclude globs] [--list-fixes]\n",
    "                [--ignore errors] [--select errors] [--max-line-length n]\n",
    "                [--line-range line line] [--hang-closing] [--exit-code]\n",
    "                [files [files ...]]\n",
    "\n",
    "Automatically formats Python code to conform to the PEP 8 style guide.\n",
    "\n",
    "positional arguments:\n",
    "  files                 files to format or '-' for standard in\n",
    "\n",
    "optional arguments:\n",
    "  -h, --help            show this help message and exit\n",
    "  --version             show program's version number and exit\n",
    "  -v, --verbose         print verbose messages; multiple -v result in more\n",
    "                        verbose messages\n",
    "  -d, --diff            print the diff for the fixed source\n",
    "  -i, --in-place        make changes to files in place\n",
    "  --global-config filename\n",
    "                        path to a global pep8 config file; if this file does\n",
    "                        not exist then this is ignored (default:\n",
    "                        /Users/lstead/.config/pep8)\n",
    "  --ignore-local-config\n",
    "                        don't look for and apply local config files; if not\n",
    "                        passed, defaults are updated with any config files in\n",
    "                        the project's root directory\n",
    "  -r, --recursive       run recursively over directories; must be used with\n",
    "                        --in-place or --diff\n",
    "  -j n, --jobs n        number of parallel jobs; match CPU count if value is\n",
    "                        less than 1\n",
    "  -p n, --pep8-passes n\n",
    "                        maximum number of additional pep8 passes (default:\n",
    "                        infinite)\n",
    "  -a, --aggressive      enable non-whitespace changes; multiple -a result in\n",
    "                        more aggressive changes\n",
    "  --experimental        enable experimental fixes\n",
    "  --exclude globs       exclude file/directory names that match these comma-\n",
    "                        separated globs\n",
    "  --list-fixes          list codes for fixes; used by --ignore and --select\n",
    "  --ignore errors       do not fix these errors/warnings (default:\n",
    "                        E226,E24,W50,W690)\n",
    "  --select errors       fix only these errors/warnings (e.g. E4,W)\n",
    "  --max-line-length n   set maximum allowed line length (default: 79)\n",
    "  --line-range line line, --range line line\n",
    "                        only fix errors found within this inclusive range of\n",
    "                        line numbers (e.g. 1 99); line numbers are indexed at\n",
    "                        1\n",
    "  --hang-closing        hang-closing option passed to pycodestyle\n",
    "  --exit-code           change to behavior of exit code. default behavior of\n",
    "                        return value, 0 is no differences, 1 is error exit.\n",
    "                        return 2 when add this option. 2 is exists\n",
    "                        differences.\n"
   ]
  },
  {
   "cell_type": "markdown",
   "metadata": {},
   "source": [
    "# spyder has 'static code analysis'\n",
    "- On Menubar\n",
    "    - Source/static code analysis tool\n",
    "- runs pylint, lets you easily edit the problems"
   ]
  }
 ],
 "metadata": {
  "anaconda-cloud": {},
  "kernelspec": {
   "display_name": "Python 3",
   "language": "python",
   "name": "python3"
  },
  "language_info": {
   "codemirror_mode": {
    "name": "ipython",
    "version": 3
   },
   "file_extension": ".py",
   "mimetype": "text/x-python",
   "name": "python",
   "nbconvert_exporter": "python",
   "pygments_lexer": "ipython3",
   "version": "3.7.4"
  }
 },
 "nbformat": 4,
 "nbformat_minor": 2
}
