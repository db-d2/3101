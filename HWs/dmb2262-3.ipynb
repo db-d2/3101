{
 "cells": [
  {
   "cell_type": "markdown",
   "metadata": {},
   "source": [
    "# Introduction to Python \n",
    "# Homework #6\n",
    "- This homework will be graded\n",
    "- You MUST submit on CourseWorks2 before it closes\n",
    "    - Verify your submission succeeded\n",
    "    - Email submissions are not accepted \n",
    "    "
   ]
  },
  {
   "cell_type": "markdown",
   "metadata": {},
   "source": [
    "# Academic Honesty\n",
    "* The computer science department has strict polices. Check\n",
    "the department [web page](http://www.cs.columbia.edu/education/honesty) for details. \n",
    "- Do not look at anybody else's source code. Do not show anybody\n",
    "your source, or leave your source where somebody could see it.\n",
    "You MUST write your own code.\n",
    "- For this class, feel free to discuss issues with other people, but suggest waiting an hour or two after a discussion, before writing your code.\n",
    "-  Cases of non original source will be refered to the Judical Committee.\n",
    "\n"
   ]
  },
  {
   "cell_type": "markdown",
   "metadata": {},
   "source": [
    "# Problem 1&2 - Python Help from a zipfile\n",
    "- Extract data directly from a zipfile without unziping it\n",
    "- download file 'python-3.7.2-docs-text.zip' from Courseworks, and place it in the same directory as this notebook\n",
    "    - do NOT unzip the zip file.\n",
    "- use [ZipFile module](https://docs.python.org/3.7/library/zipfile.html) to access the zip file. \n",
    "    \n",
    "only need to use these methods\n",
    "    - ZipFile(path)\n",
    "        - 'open' the zip file and read from it\n",
    "        - like file 'open', should use 'with' to manage it\n",
    "    - infolist()\n",
    "        - returns list of the ZipInfo objects in zip archive\n",
    "    - is_dir() \n",
    "        - does the ZipInfo represent a directory?\n",
    "    - open()\n",
    "        - opens a file in the zip for reading\n",
    "        - use 'with'\n",
    "- example below shows everything you need to know about ZipFile\n"
   ]
  },
  {
   "cell_type": "code",
   "execution_count": 3,
   "metadata": {},
   "outputs": [
    {
     "name": "stdout",
     "output_type": "stream",
     "text": [
      "skip dir : python-3.7.2-docs-text/\n",
      "file name: python-3.7.2-docs-text/contents.txt file line count: 8205\n",
      "skip dir : python-3.7.2-docs-text/howto/\n",
      "file name: python-3.7.2-docs-text/howto/cporting.txt file line count: 382\n",
      "file name: python-3.7.2-docs-text/howto/unicode.txt file line count: 751\n",
      "file name: python-3.7.2-docs-text/howto/index.txt file line count: 42\n",
      "file name: python-3.7.2-docs-text/howto/argparse.txt file line count: 727\n",
      "file name: python-3.7.2-docs-text/howto/instrumentation.txt file line count: 404\n",
      "file name: python-3.7.2-docs-text/howto/urllib2.txt file line count: 609\n",
      "file name: python-3.7.2-docs-text/howto/sorting.txt file line count: 301\n"
     ]
    }
   ],
   "source": [
    "import zipfile\n",
    "\n",
    "# zip file should be in the same directory as this notebook\n",
    "zippath = 'python-3.7.2-docs-text.zip'\n",
    "\n",
    "# check first 10 entries in zip\n",
    "# note nested 'with' - very nice\n",
    "with zipfile.ZipFile(zippath) as zf:\n",
    "    for j, info in zip(range(10), zf.infolist()):\n",
    "        if info.is_dir():\n",
    "            # ignore directories\n",
    "            print('skip dir :', info.filename)\n",
    "            continue\n",
    "        with zf.open(info) as fd:\n",
    "            lines = fd.readlines()\n",
    "        print('file name:', info.filename, 'file line count:', len(lines))"
   ]
  },
  {
   "cell_type": "markdown",
   "metadata": {},
   "source": [
    "# define Help class\n",
    "- write class that extracts info from the python help files, packaged in a zip file\n",
    "- ```__init__(self, zippath)``` method should read in the contents of the zip file located at zippath, and save the data in the help object\n",
    "    - convert input to unicode\n",
    "    - strip off the 'python-3.7.2-docs-text/' at the begining of the file name\n",
    "- three user methods - they all should 'print' their results, and return 'None'. this will make it easy to use them in a script later\n",
    "- if a file line contains the substring arg one or more times, that is a 'hit'\n",
    "    - counts(self, substring) method - checks all lines of all files for hits. print the total number of hits\n",
    "    - files(self, substring) method - for each file with hits, print file name and # of hits\n",
    "    - grep(self, substring) method - for each line with a hit, print file name, line number, and line\n",
    "\n",
    "- note that like the linux 'grep' command, multiple appearances of the search string in a single line is scored as ONE hit - we are counting the lines that have a hit(s). \n",
    "    - if line = 'dog cat dog' , and the search string is 'dog', that is ONE hit\n"
   ]
  },
  {
   "cell_type": "code",
   "execution_count": 132,
   "metadata": {},
   "outputs": [],
   "source": [
    "class Help:\n",
    "    def __init__(self, zippath):\n",
    "        self.path = zippath[:]\n",
    "        self.data = {}\n",
    "        \n",
    "        # store list of files found in the stream - store in unicode not binary\n",
    "        # strip out the root dir - also don't save dirs\n",
    "        with zipfile.ZipFile(self.path) as zstream:\n",
    "            for file in zstream.infolist():\n",
    "                if file.is_dir(): continue\n",
    "                \n",
    "                # not a dir so now append to self.data but strip ziproot\n",
    "                fname = file.filename.split('/')\n",
    "                fname = '/'.join(fname[1:])\n",
    "                \n",
    "                self.data[fname] = []\n",
    "                \n",
    "                with zstream.open(file) as fdata:\n",
    "                    for line in fdata.readlines():\n",
    "                        self.data[fname].append(line.decode('utf-8'))\n",
    "    \n",
    "    def counts(self, substring):\n",
    "        count = 0\n",
    "        for fname, data in self.data.items():\n",
    "            for line in data:\n",
    "                if substring in line:\n",
    "                    count += 1\n",
    "        print(count)\n",
    "        return None\n",
    "    \n",
    "    def files(self, substring):\n",
    "        fnames = {}\n",
    "        \n",
    "        for fname, data in self.data.items():\n",
    "            count = 0\n",
    "            for line in data:\n",
    "                if substring in line:\n",
    "                    count += 1\n",
    "                    fnames.update({fname: count})\n",
    "        \n",
    "        for fname, count in fnames.items():\n",
    "            print(f'{fname} : {count}')\n",
    "        return None\n",
    "    \n",
    "    def grep(self, substring):\n",
    "        for fname, data in self.data.items():\n",
    "            linenum = -1\n",
    "            for line in data:\n",
    "                linenum += 1\n",
    "                if substring in line:\n",
    "                    print(f'{fname}({linenum}): {line.strip()}')\n",
    "        return None\n",
    "                    \n",
    "        "
   ]
  },
  {
   "cell_type": "code",
   "execution_count": 137,
   "metadata": {},
   "outputs": [],
   "source": [
    "h = Help(zippath)"
   ]
  },
  {
   "cell_type": "code",
   "execution_count": 138,
   "metadata": {},
   "outputs": [
    {
     "name": "stdout",
     "output_type": "stream",
     "text": [
      "13\n"
     ]
    }
   ],
   "source": [
    "h.counts('rpartition')"
   ]
  },
  {
   "cell_type": "code",
   "execution_count": 139,
   "metadata": {},
   "outputs": [
    {
     "name": "stdout",
     "output_type": "stream",
     "text": [
      "whatsnew/2.7.txt : 1\n",
      "whatsnew/changelog.txt : 2\n",
      "whatsnew/2.5.txt : 4\n",
      "whatsnew/3.2.txt : 2\n",
      "library/importlib.txt : 1\n",
      "library/stdtypes.txt : 3\n"
     ]
    }
   ],
   "source": [
    "h.files('rpartition')"
   ]
  },
  {
   "cell_type": "code",
   "execution_count": 140,
   "metadata": {},
   "outputs": [
    {
     "name": "stdout",
     "output_type": "stream",
     "text": [
      "whatsnew/2.7.txt(916): * The \"split()\", \"replace()\", \"rindex()\", \"rpartition()\", and\n",
      "whatsnew/changelog.txt(3334): * bpo-20047: Bytearray methods partition() and rpartition() now\n",
      "whatsnew/changelog.txt(7251): * bpo-20047: Bytearray methods partition() and rpartition() now\n",
      "whatsnew/2.5.txt(975): \"rpartition(sep)\" methods that simplify a common use case.\n",
      "whatsnew/2.5.txt(984): \"rpartition(sep)\" also returns a 3-tuple but starts searching from\n",
      "whatsnew/2.5.txt(995): >>> 'www.python.org'.rpartition('.')\n",
      "whatsnew/2.5.txt(997): >>> 'www.python.org'.rpartition(':')\n",
      "whatsnew/3.2.txt(2379): extension = name.rpartition('.')[2]\n",
      "whatsnew/3.2.txt(2419): also used by \"rfind()\", \"rindex()\", \"rsplit()\" and \"rpartition()\".\n",
      "library/importlib.txt(1673): parent_name, _, child_name = absolute_name.rpartition('.')\n",
      "library/stdtypes.txt(1549): str.rpartition(sep)\n",
      "library/stdtypes.txt(2319): bytes.rpartition(sep)\n",
      "library/stdtypes.txt(2320): bytearray.rpartition(sep)\n"
     ]
    }
   ],
   "source": [
    "h.grep('rpartition')"
   ]
  },
  {
   "cell_type": "code",
   "execution_count": 141,
   "metadata": {},
   "outputs": [
    {
     "name": "stdout",
     "output_type": "stream",
     "text": [
      "44\n"
     ]
    }
   ],
   "source": [
    "h.counts('linux')"
   ]
  },
  {
   "cell_type": "code",
   "execution_count": 142,
   "metadata": {},
   "outputs": [
    {
     "name": "stdout",
     "output_type": "stream",
     "text": [
      "install/index.txt : 3\n",
      "whatsnew/changelog.txt : 4\n",
      "whatsnew/3.5.txt : 4\n",
      "whatsnew/2.0.txt : 3\n",
      "whatsnew/3.3.txt : 5\n",
      "whatsnew/2.6.txt : 1\n",
      "whatsnew/2.3.txt : 2\n",
      "whatsnew/2.5.txt : 1\n",
      "whatsnew/3.2.txt : 1\n",
      "library/ssl.txt : 1\n",
      "library/sysconfig.txt : 2\n",
      "library/test.txt : 1\n",
      "library/select.txt : 1\n",
      "library/errno.txt : 1\n",
      "library/sys.txt : 5\n",
      "library/platform.txt : 2\n",
      "library/ossaudiodev.txt : 1\n",
      "library/socket.txt : 1\n",
      "tutorial/interpreter.txt : 1\n",
      "distutils/apiref.txt : 2\n",
      "extending/building.txt : 2\n"
     ]
    }
   ],
   "source": [
    "h.files('linux')"
   ]
  },
  {
   "cell_type": "code",
   "execution_count": 143,
   "metadata": {},
   "outputs": [
    {
     "name": "stdout",
     "output_type": "stream",
     "text": [
      "install/index.txt(673): [GCC 2.96 20000731 (Red Hat Linux 7.3 2.96-112)] on linux2\n",
      "install/index.txt(677): ['', '/usr/local/lib/python2.3', '/usr/local/lib/python2.3/plat-linux2',\n",
      "install/index.txt(725): '/www/python/lib/pythonX.Y/plat-linux2', ...]\".\n",
      "whatsnew/changelog.txt(1812): * bpo-28167: The function \"platform.linux_distribution\" and\n",
      "whatsnew/changelog.txt(11467): messages of platform.dist() and platform.linux_distribution(). Patch\n",
      "whatsnew/changelog.txt(14035): messages of platform.dist() and platform.linux_distribution(). Patch\n",
      "whatsnew/changelog.txt(15739): * bpo-1322: platform.dist() and platform.linux_distribution()\n",
      "whatsnew/3.5.txt(2049): * \"<os>\" is always \"linux-gnu\", except for extensions built to\n",
      "whatsnew/3.5.txt(2051): \"linux- gnu32\" (and \"<architecture>\" will be \"x86_64\").\n",
      "whatsnew/3.5.txt(2129): The \"platform.dist()\" and \"platform.linux_distribution()\" functions\n",
      "whatsnew/3.5.txt(2294): on linux 3.6 and greater.\n",
      "whatsnew/2.0.txt(412): >>> 'hostname'.replace('os', 'linux')\n",
      "whatsnew/2.0.txt(413): 'hlinuxtname'\n",
      "whatsnew/2.0.txt(1123): * \"linuxaudiodev\": Support for the \"/dev/audio\" device on Linux, a\n",
      "whatsnew/3.3.txt(2392): version anymore. It is now always 'linux', instead of 'linux2' or\n",
      "whatsnew/3.3.txt(2393): 'linux3' depending on the Linux version used to build Python.\n",
      "whatsnew/3.3.txt(2394): Replace sys.platform == 'linux2' with\n",
      "whatsnew/3.3.txt(2395): sys.platform.startswith('linux'), or directly sys.platform ==\n",
      "whatsnew/3.3.txt(2396): 'linux' if you don't need to support older Python versions.\n",
      "whatsnew/2.6.txt(2713): \"linuxaudiodev\", \"mhlib\", \"mimetools\", \"multifile\", \"new\", \"pure\",\n",
      "whatsnew/2.3.txt(1291): https://xlinux.nist.gov/dads//HTML/priorityque.html for more\n",
      "whatsnew/2.3.txt(1380): * The old and never-documented \"linuxaudiodev\" module has been\n",
      "whatsnew/2.5.txt(1508): https://www.linuxjournal.com/article/7356. In Python code, netlink\n",
      "whatsnew/3.2.txt(2061): * \"get_platform()\" returning values like *linux-i586* or\n",
      "library/ssl.txt(2228): >>> conn.sendall(b\"HEAD / HTTP/1.0\\r\\nHost: linuxfr.org\\r\\n\\r\\n\")\n",
      "library/sysconfig.txt(185): * linux-i586\n",
      "library/sysconfig.txt(187): * linux-alpha (?)\n",
      "library/test.txt(745): @test.support.requires_linux_version(*min_version)\n",
      "library/select.txt(248): https://linux.die.net/man/4/epoll\n",
      "library/errno.txt(7): descriptions are borrowed from \"linux/include/errno.h\", which should\n",
      "library/sys.txt(939): elif sys.platform.startswith('linux'):\n",
      "library/sys.txt(947): | Linux            | \"'linux'\"                   |\n",
      "library/sys.txt(957): the major version anymore. It is always \"'linux'\", instead of\n",
      "library/sys.txt(958): \"'linux2'\" or \"'linux3'\".  Since older Python versions include the\n",
      "library/sys.txt(1424): [GCC 4.4.3] on linux2\n",
      "library/platform.txt(223): This is another name for \"linux_distribution()\".\n",
      "library/platform.txt(228): platform.linux_distribution(distname='', version='', id='', supported_dists=('SuSE', 'debian', 'redhat', 'mandrake', ...), full_distribution_name=1)\n",
      "library/ossaudiodev.txt(60): compatibility with the older \"linuxaudiodev\" module which\n",
      "library/socket.txt(1731): # CAN frame packing/unpacking (see 'struct can_frame' in <linux/can.h>)\n",
      "tutorial/interpreter.txt(95): [GCC 4.8.2] on linux\n",
      "distutils/apiref.txt(994): * \"linux-i586\"\n",
      "distutils/apiref.txt(996): * \"linux-alpha\"\n",
      "extending/building.txt(121): gcc -DNDEBUG -g -O3 -Wall -Wstrict-prototypes -fPIC -DMAJOR_VERSION=1 -DMINOR_VERSION=0 -I/usr/local/include -I/usr/local/include/python2.2 -c demo.c -o build/temp.linux-i686-2.2/demo.o\n",
      "extending/building.txt(123): gcc -shared build/temp.linux-i686-2.2/demo.o -L/usr/local/lib -ltcl83 -o build/lib.linux-i686-2.2/demo.so\n"
     ]
    }
   ],
   "source": [
    "h.grep('linux')"
   ]
  },
  {
   "cell_type": "code",
   "execution_count": 144,
   "metadata": {},
   "outputs": [
    {
     "name": "stdout",
     "output_type": "stream",
     "text": [
      "13\n",
      "44\n",
      "67\n",
      "1307\n",
      "128\n",
      "9\n"
     ]
    }
   ],
   "source": [
    "for w in ['rpartition', 'linux','universal', \n",
    "          'mode', 'zipfile', 'zipfiles']:\n",
    "    h.counts(w)"
   ]
  },
  {
   "cell_type": "markdown",
   "metadata": {
    "collapsed": true
   },
   "source": [
    "# define python script 'click-zip' based on Help class\n",
    "- use your Help class from above verbatim\n",
    "    - build the zippath into the script\n",
    "- use click to parse command line args, and call the appropriate method\n",
    "    - '-c' should run counts method\n",
    "    - '-h' shows help\n",
    "    - '-g' should run grep method\n",
    "    - '-f' should run file method\n",
    "- sample useage below"
   ]
  },
  {
   "cell_type": "markdown",
   "metadata": {},
   "source": [
    "# click-example script"
   ]
  },
  {
   "cell_type": "code",
   "execution_count": null,
   "metadata": {},
   "outputs": [],
   "source": [
    "#!/usr/bin/env python\n",
    "\n",
    "import time\n",
    "import click\n",
    "import sys\n",
    "from tqdm import tqdm\n",
    "\n",
    "@click.command()\n",
    "@click.argument('arg1')\n",
    "@click.argument('arg2')\n",
    "@click.option('--loops', default=0, help='Loop with progress bar')\n",
    "@click.option('--exit', default=0, help='Specifiy exit code')\n",
    "@click.option('--verbose', is_flag=True, help='Print sys info')\n",
    "@click.option('--query', is_flag=True, help='Prompt for exit code')\n",
    "\n",
    "\n",
    "def hello(arg1, arg2, exit=0, query=False, verbose=False, loops = 0):\n",
    "    \"\"\"Simple script that plays with click.\"\"\"\n",
    "    if verbose:\n",
    "        print(sys.version)\n",
    "        print(arg1, arg2)\n",
    "    if loops:\n",
    "        for j in tqdm(range(loops)):\n",
    "            time.sleep(1)\n",
    "    if exit:\n",
    "        sys.exit(exit)\n",
    "\n",
    "    if query:\n",
    "        # demand input from the user\n",
    "        es = input('specify exit value: ')\n",
    "        e = int(es)\n",
    "        sys.exit(e)\n",
    "        \n",
    "\n",
    "hello()\n"
   ]
  },
  {
   "cell_type": "markdown",
   "metadata": {},
   "source": [
    "# click-zip examples"
   ]
  },
  {
   "cell_type": "code",
   "execution_count": null,
   "metadata": {},
   "outputs": [],
   "source": [
    "week6$ click-zip \n",
    "Usage: click-zip [OPTIONS] SEARCHSTRING\n",
    "Try \"click-zip --help\" for help.\n",
    "\n",
    "Error: Missing argument \"SEARCHSTRING\".\n",
    "\n",
    "week6$ click-zip --help\n",
    "Usage: click-zip [OPTIONS] SEARCHSTRING\n",
    "\n",
    "  Python help script\n",
    "\n",
    "Options:\n",
    "  -c, --counts  total number of search hits\n",
    "  -f, --files   number of hits>0 in each file\n",
    "  -g, --grep    print lines with search hits\n",
    "  --help        Show this message and exit.\n",
    "    \n",
    "week6$ click-zip -c rpartition\n",
    "13\n",
    "\n",
    "week6$ click-zip -f rpartition\n",
    "whatsnew/2.7.txt : 1\n",
    "whatsnew/changelog.txt : 2\n",
    "whatsnew/2.5.txt : 4\n",
    "whatsnew/3.2.txt : 2\n",
    "library/importlib.txt : 1\n",
    "library/stdtypes.txt : 3\n",
    "\n",
    "week6$ click-zip -g rpartition\n",
    "whatsnew/2.7.txt(916): * The \"split()\", \"replace()\", \"rindex()\", \"rpartition()\", and\n",
    "whatsnew/changelog.txt(3334): * bpo-20047: Bytearray methods partition() and rpartition() now\n",
    "whatsnew/changelog.txt(7251): * bpo-20047: Bytearray methods partition() and rpartition() now\n",
    "whatsnew/2.5.txt(975): \"rpartition(sep)\" methods that simplify a common use case.\n",
    "whatsnew/2.5.txt(984): \"rpartition(sep)\" also returns a 3-tuple but starts searching from\n",
    "whatsnew/2.5.txt(995): >>> 'www.python.org'.rpartition('.')\n",
    "whatsnew/2.5.txt(997): >>> 'www.python.org'.rpartition(':')\n",
    "whatsnew/3.2.txt(2379): extension = name.rpartition('.')[2]\n",
    "whatsnew/3.2.txt(2419): also used by \"rfind()\", \"rindex()\", \"rsplit()\" and \"rpartition()\".\n",
    "library/importlib.txt(1673): parent_name, _, child_name = absolute_name.rpartition('.')\n",
    "library/stdtypes.txt(1549): str.rpartition(sep)\n",
    "library/stdtypes.txt(2319): bytes.rpartition(sep)\n",
    "library/stdtypes.txt(2320): bytearray.rpartition(sep)\n",
    "\n"
   ]
  },
  {
   "cell_type": "markdown",
   "metadata": {},
   "source": [
    "# Paste your click-zip script in cell below"
   ]
  },
  {
   "cell_type": "code",
   "execution_count": null,
   "metadata": {},
   "outputs": [],
   "source": [
    "# click-zip code:\n",
    "\n",
    "#!usr/bin/env python\n",
    "\n",
    "import zipfile\n",
    "import sys\n",
    "import click\n",
    "\n",
    "# Help class for parsing zipfiles using ZipFile\n",
    "class Help:\n",
    "    def __init__(self, zippath):\n",
    "        self.path = zippath[:]\n",
    "        self.data = {}\n",
    "        \n",
    "        # store list of files found in the stream - store in unicode not binary\n",
    "        # strip out the root dir - also don't save dirs\n",
    "        with zipfile.ZipFile(self.path) as zstream:\n",
    "            for file in zstream.infolist():\n",
    "                if file.is_dir(): continue\n",
    "                \n",
    "                # not a dir so now append to self.data but strip ziproot\n",
    "                fname = file.filename.split('/')\n",
    "                fname = '/'.join(fname[1:])\n",
    "                \n",
    "                self.data[fname] = []\n",
    "                \n",
    "                with zstream.open(file) as fdata:\n",
    "                    for line in fdata.readlines():\n",
    "                        self.data[fname].append(line.decode('utf-8'))\n",
    "    \n",
    "    def counts(self, substring):\n",
    "        count = 0\n",
    "        for fname, data in self.data.items():\n",
    "            for line in data:\n",
    "                if substring in line:\n",
    "                    count += 1\n",
    "        print(count)\n",
    "        return None\n",
    "    \n",
    "    def files(self, substring):\n",
    "        fnames = {}\n",
    "        \n",
    "        for fname, data in self.data.items():\n",
    "            count = 0\n",
    "            for line in data:\n",
    "                if substring in line:\n",
    "                    count += 1\n",
    "                    fnames.update({fname: count})\n",
    "        \n",
    "        for fname, count in fnames.items():\n",
    "            print(f'{fname} : {count}')\n",
    "        return None\n",
    "    \n",
    "    def grep(self, substring):\n",
    "        for fname, data in self.data.items():\n",
    "            linenum = -1\n",
    "            for line in data:\n",
    "                linenum += 1\n",
    "                if substring in line:\n",
    "                    print(f'{fname}({linenum}): {line.strip()}')\n",
    "        return None\n",
    "\n",
    "# click-zip args\n",
    "@click.command()\n",
    "@click.argument('SEARCHSTRING')\n",
    "@click.option('-c','--counts', is_flag=True, help='total number of search hits')\n",
    "@click.option('-f','--files', is_flag=True, help='numbers of hits>0 in each file')\n",
    "@click.option('-g','--grep', is_flag=True, help='print lines with search hits')\n",
    "#@click.option('-h','--help', help='Show this message and exit')\n",
    "\n",
    "# click-zip main\n",
    "def clickZip(searchstring,counts=False,files=False,grep=False):\n",
    "    zippath = 'python-3.7.2-docs-text.zip'\n",
    "    h = Help(zippath)\n",
    "\n",
    "    if counts:\n",
    "        h.counts(searchstring)\n",
    "    if files:\n",
    "        h.files(searchstring)\n",
    "    if grep:\n",
    "        h.grep(searchstring)\n",
    "\n",
    "# run click-zip\n",
    "clickZip()\n",
    "\n"
   ]
  },
  {
   "cell_type": "markdown",
   "metadata": {},
   "source": [
    "# Problems 3 & 4 - define new methods on polylist and polydict\n",
    "- in class, we discussed two different ways to represent a polynomial\n",
    "    - polylist, a 'dense' represenation, that hold the coefficients in a list\n",
    "    - polydict, a 'sparse' representation, that holds (exponent, coefficent) pairs in a dict\n",
    "- add a method, 'topolydict()' to class 'polylist', that converts the polylist into a polydict\n",
    "- add a method, 'topolylist()' to class 'polydict', that converts the polydict into a \n",
    "polylist\n",
    "    - note that topolydict will always work, but topolylist can fail, because a polylist cannot represent negative exponents. in this case, raise a ValueError\n",
    "- add a method, ```__mul__``` to class 'polydict', which implements the '*' operator\n",
    "    - see examples below\n",
    "\n",
    "- just to tell them apart, polylist prints with a leading '+'"
   ]
  },
  {
   "cell_type": "code",
   "execution_count": 165,
   "metadata": {},
   "outputs": [],
   "source": [
    "import functools\n",
    "\n",
    "class polylist: \n",
    "    ''' \n",
    "    list poly representation\n",
    "    coe[n] is the coefficient of the X**n term\n",
    "        \n",
    "    [1,2,3] <=> + 3*X**2 + 2*X + 1\n",
    "    '''\n",
    "    def __init__(self, coe):\n",
    "        self.coe = coe\n",
    "\n",
    "    def termString(self, c , e):\n",
    "        cs = str(c)\n",
    "        if c > 0:\n",
    "            cs = '+ ' + cs\n",
    "        if (e == 0):\n",
    "            return(cs)\n",
    "        if (e == 1):\n",
    "            return('%s*X' % cs)    \n",
    "        return('%s*X**%d' % (cs,e))\n",
    "        \n",
    "    def __str__(self):\n",
    "        # print math style\n",
    "        if self.coe == []:\n",
    "            return('0')\n",
    "        terms = [self.termString(c,e) \n",
    "            for e,c in enumerate(self.coe) \n",
    "            if c != 0]\n",
    "        terms.reverse()\n",
    "        s = (' '.join(terms))\n",
    "        # get rid of leading + \n",
    "        return(s)\n",
    "        \n",
    "    def __repr__(self):\n",
    "        return(self.__str__())\n",
    "\n",
    "    def __len__(self):\n",
    "        # number of non zero terms\n",
    "        # 0 len => bool false\n",
    "        return(len(self.coe) - self.coe.count(0))\n",
    "\n",
    "    def __add__(self, p2):\n",
    "        p1len = len(self.coe)\n",
    "        p2len = len(p2.coe)\n",
    "        pad = p2len - p1len\n",
    "        c1 = self.coe\n",
    "        c2 = p2.coe\n",
    "        \n",
    "        if pad < 0:\n",
    "            c1, c2 = c2, c1\n",
    "            pad = -pad\n",
    "    \n",
    "        c1 = c1[:]\n",
    "        \n",
    "        c1.extend([0]*pad)\n",
    "    \n",
    "        return(polylist([t1+t2 for t1,t2 in zip(c1,c2)]))\n",
    "    \n",
    "    # don't allow a hash\n",
    "    __hash__ = None    \n",
    "    \n",
    "    def evaluate(self, n):\n",
    "        sum = 0\n",
    "        for e,c in enumerate(self.coe):\n",
    "            sum += c*n**e\n",
    "        return(sum)\n",
    "\n",
    "    def differentiate(self):\n",
    "        return(polylist([e*c for e,c in enumerate(self.coe)][1:]))\n",
    "    \n",
    "    def integrate(self):\n",
    "        pi = [c/(e+1.) for e,c in enumerate(self.coe)]\n",
    "        pi.insert(0,0)\n",
    "        return(polylist(pi))\n",
    "    \n",
    "    def __mul__(self, p2):\n",
    "        sums = []\n",
    "        for e1,c1 in enumerate(self.coe):\n",
    "            prod = [c1 * c2 for c2 in p2.coe]\n",
    "            for rpt in range(e1):\n",
    "                prod.insert(0, 0)\n",
    "            sums.append(polylist(prod))\n",
    "        return(functools.reduce(polylist.__add__, sums))\n",
    "    \n",
    "    def topolydict(self):\n",
    "        # copy self.coe list\n",
    "        plist = self.coe[:]\n",
    "        pdict = {}\n",
    "        \n",
    "        # now convert - go through list and add to dict\n",
    "        for i, n in enumerate(plist):\n",
    "            pdict.update({i:n})\n",
    "            \n",
    "        return polydict(pdict)\n",
    "            \n",
    "   "
   ]
  },
  {
   "cell_type": "code",
   "execution_count": 440,
   "metadata": {},
   "outputs": [],
   "source": [
    "class polydict:\n",
    "    '''sparse poly representation using a dict\n",
    "        sparse is {exponent:coefficient, ...}\n",
    "        only non-zero terms appear in the dict\n",
    "        \n",
    "        {2:3, 1:2, 0:1} <=> 3*X**2 + 2*X + 1\n",
    "    '''\n",
    "    def __init__(self, d={}):\n",
    "\n",
    "        # why the copy??\n",
    "        self.sparse = d.copy()\n",
    "\n",
    "    def printTerm(self, c ,e):\n",
    "        cs = str(c)\n",
    "        if c > 0:\n",
    "            cs = '+ ' + cs\n",
    "        if (e == 0):\n",
    "            return(cs)\n",
    "        if (e == 1):\n",
    "            return('%s*X' % cs)    \n",
    "        return('%s*X**%d' % (cs,e))   \n",
    "        \n",
    "    def __str__(self):\n",
    "        if len(self.sparse) == 0:\n",
    "            return('0')\n",
    "        terms = [self.printTerm(self.sparse[e],e) \n",
    "                for e in sorted(self.sparse.keys(), \n",
    "                                reverse=True) \n",
    "                    if self.sparse[e] != 0]\n",
    "        s = ' '.join(terms)\n",
    "        if '+ ' == s[0:2]:\n",
    "            s = s[2:]\n",
    "        return (s)\n",
    "    \n",
    "    def __repr__(self):\n",
    "        return(self.__str__())\n",
    "\n",
    "    # don't allow a hash\n",
    "    __hash__ = None  \n",
    "    \n",
    "    def __len__(self):\n",
    "        return(len(self.sparse))\n",
    "\n",
    "    # can explicity define bool\n",
    "    def __bool__(self):\n",
    "        return(False if len(self.sparse)==0 else True)\n",
    "        \n",
    "    def __iter__(self):\n",
    "        # return a generator function that will\n",
    "        # iterate thru (exp, coe) pairs\n",
    "        return( (i for i in self.sparse.items() ))\n",
    "\n",
    "    # should check types\n",
    "    def __eq__(self, other):\n",
    "        return(self.sparse == other.sparse)\n",
    "        \n",
    "    def __ne__(self, other):\n",
    "        return(self.sparse != other.sparse)\n",
    "        \n",
    "    # define comparsion to be value of poly at 1\n",
    "    def __lt__(self, other):\n",
    "        return(self.evaluate(1) < other.evaluate(1))\n",
    "        \n",
    "    def __le__(self, other):\n",
    "        return(self.evaluate(1) <= other.evaluate(1))\n",
    "        \n",
    "    # does poly 'contain' an exponent?\n",
    "    def __contains__(self, e):\n",
    "        return(e in self.sparse)\n",
    "                \n",
    "    def evaluate(self, n):\n",
    "        '''eval poly at x=n'''\n",
    "        sum = 0\n",
    "        for e in self.sparse.keys():\n",
    "            sum += self.sparse[e]*n**e\n",
    "        return(sum)\n",
    "            \n",
    "    def __add__(self, p2):\n",
    "        '''add two polys'''\n",
    "        n = self.sparse.copy()\n",
    "        for k,v in p2.sparse.items():\n",
    "            if None == n.get(k):\n",
    "                n[k] = v\n",
    "            else:\n",
    "                n[k] += v\n",
    "        return(polydict(n))\n",
    "        \n",
    "    def __getitem__(self, index):\n",
    "        '''pull out terms of the poly\n",
    "           p[2], p[2:5]\n",
    "           '''\n",
    "        keys = sorted(self.sparse.keys(), reverse=True)\n",
    "        if isinstance(index, int):\n",
    "            # if asked for a single term, p[n], index will\n",
    "            # be an int\n",
    "            inds = [index]\n",
    "        if isinstance(index, slice):\n",
    "            # if asked for a slice, p[n:m], index will be\n",
    "            # a 'slice' object\n",
    "            inds = range(*index.indices(len(keys)))\n",
    "        d = {}\n",
    "        for i in inds:\n",
    "            e = keys[i]\n",
    "            d[e] = self.sparse[e]\n",
    "        return(polydict(d))\n",
    "        \n",
    "    def differentiate(self):\n",
    "        d = {}\n",
    "        for e,c in self.sparse.items():\n",
    "            if e != 0:\n",
    "                d[e-1] = c * e\n",
    "        return(polydict(d))\n",
    "    \n",
    "    def integrate(self):\n",
    "        d = {}\n",
    "        for e,c in self.sparse.items():\n",
    "            d[e+1] = c /(e+1.)\n",
    "        return(polydict(d))\n",
    "    \n",
    "    def topolylist(self):\n",
    "        plist = []\n",
    "        \n",
    "        # 0's are not represented in the dict but I need a elem[0] so let's make one\n",
    "        if 0 not in self.sparse.keys():\n",
    "            plist.append(0)\n",
    "        # I can't count on the dict to be in order so I can append to the list\n",
    "        for k,v in sorted(self.sparse.items()):\n",
    "            plist.append(v)\n",
    "            if k < 0:\n",
    "                raise ValueError(f'Negative exponent = {k}')\n",
    "        \n",
    "        return polylist(plist)\n",
    "    \n",
    "    def __mul__(self, d):\n",
    "        outpoly = {}\n",
    "        n = self.sparse.copy()\n",
    "        \n",
    "        # sort the dicts then for each in each create new values\n",
    "        if type(d) == polydict:\n",
    "            if len(d) <= len(n):\n",
    "                for k,v in sorted(n.items()):\n",
    "                    for e,c in sorted(d.sparse.items()):\n",
    "                        newexp = k+e\n",
    "                        newcoe = v*c\n",
    "                        # check for like terms, if none update otherwise add\n",
    "                        if newexp not in outpoly.keys():\n",
    "                            outpoly.update({newexp:newcoe})\n",
    "                        else:\n",
    "                            outpoly[newexp] += newcoe\n",
    "                return polydict(outpoly)\n",
    "            # same as above but flipped for list d larger than n\n",
    "            if len(d) > len(n):\n",
    "                for k,v in sorted(d.sparse.items()):\n",
    "                    for e,c in sorted(n.items()):\n",
    "                        newexp = k+e\n",
    "                        newcoe = v*c\n",
    "                        outpoly.update({newexp:newcoe})\n",
    "                return polydict(outpoly)\n",
    "        # d is an int so just mutiply\n",
    "        elif type(d) == int:\n",
    "            for k,v in n.items():\n",
    "                n[k] *= d\n",
    "            return polydict(n)\n",
    "        else:\n",
    "            raise TypeError(f'Multiplicand not a polydict or int')"
   ]
  },
  {
   "cell_type": "code",
   "execution_count": 441,
   "metadata": {},
   "outputs": [
    {
     "data": {
      "text/plain": [
       "(+ 3*X**2 + 2*X + 1,\n",
       " + 5*X**2 + 10*X,\n",
       " 3*X**2 + 2*X + 1,\n",
       " 5*X**2 + 10*X,\n",
       " 5*X**2 + 10*X**-1)"
      ]
     },
     "execution_count": 441,
     "metadata": {},
     "output_type": "execute_result"
    }
   ],
   "source": [
    "# test polys\n",
    "\n",
    "pl1 = polylist([1, 2, 3])\n",
    "pl2 = polylist([0, 10, 5])\n",
    "pd1 = polydict({2:3, 1:2, 0:1})\n",
    "pd2 = polydict({1:10, 2:5})\n",
    "pd3 = polydict({-1:10, 2:5})\n",
    "\n",
    "pl1, pl2, pd1, pd2, pd3"
   ]
  },
  {
   "cell_type": "code",
   "execution_count": 442,
   "metadata": {},
   "outputs": [
    {
     "data": {
      "text/plain": [
       "(3*X**2 + 2*X + 1, 5*X**2 + 10*X, + 3*X**2 + 2*X + 1, + 5*X**2 + 10*X)"
      ]
     },
     "execution_count": 442,
     "metadata": {},
     "output_type": "execute_result"
    }
   ],
   "source": [
    "# conversion examples \n",
    "\n",
    "pl1.topolydict(), pl2.topolydict(), pd1.topolylist(), pd2.topolylist()"
   ]
  },
  {
   "cell_type": "code",
   "execution_count": 443,
   "metadata": {},
   "outputs": [
    {
     "data": {
      "text/plain": [
       "(3*X**2 + 2*X + 1,\n",
       " 5*X**2 + 10*X,\n",
       " 5*X**2 + 10*X**-1,\n",
       " 15*X**4 + 40*X**3 + 25*X**2 + 10*X,\n",
       " 15*X**4 + 10*X**3 + 5*X**2 + 30*X + 20 + 10*X**-1,\n",
       " 25*X**4 + 50*X**3 + 50*X + 100)"
      ]
     },
     "execution_count": 443,
     "metadata": {},
     "output_type": "execute_result"
    }
   ],
   "source": [
    "# multiply polydict by polydict examples\n",
    "\n",
    "pd1, pd2, pd3, pd1 * pd2, pd1 * pd3, pd2 * pd3"
   ]
  },
  {
   "cell_type": "code",
   "execution_count": 444,
   "metadata": {},
   "outputs": [
    {
     "data": {
      "text/plain": [
       "(12*X**2 + 8*X + 4, 15*X**2 + 30*X)"
      ]
     },
     "execution_count": 444,
     "metadata": {},
     "output_type": "execute_result"
    }
   ],
   "source": [
    "# multiply polydict by a number examples\n",
    "\n",
    "pd1 * 4, pd2 * 3"
   ]
  },
  {
   "cell_type": "code",
   "execution_count": 425,
   "metadata": {},
   "outputs": [
    {
     "name": "stdout",
     "output_type": "stream",
     "text": [
      "<class 'ValueError'> Negative exponent = -1\n"
     ]
    }
   ],
   "source": [
    "# can't convert negative exponents in a polydict to polylist\n",
    "\n",
    "try:\n",
    "    pd3.topolylist()\n",
    "except Exception as e:\n",
    "    print(type(e), e)"
   ]
  },
  {
   "cell_type": "code",
   "execution_count": 426,
   "metadata": {},
   "outputs": [
    {
     "name": "stdout",
     "output_type": "stream",
     "text": [
      "<class 'TypeError'> Multiplicand not a polydict or int\n"
     ]
    }
   ],
   "source": [
    "# can't multiply by a string \n",
    "\n",
    "try:\n",
    "    pd3 * 'asdf'\n",
    "except Exception as e:\n",
    "    print(type(e), e)"
   ]
  },
  {
   "cell_type": "markdown",
   "metadata": {},
   "source": [
    "# Problem 5\n",
    "- define a function decorator '@secure'\n",
    "- @secure adds two required arguments before any others, a 'user' and a 'password'\n",
    "- if the user is not registered, raise LoginFailed error\n",
    "- if the user is registered, but the password is wrong, raise LoginFailed\n",
    "- if user/pw ok, then call the function defined below @secure\n",
    "with its usual arguments"
   ]
  },
  {
   "cell_type": "code",
   "execution_count": 427,
   "metadata": {},
   "outputs": [],
   "source": [
    "class LoginFailure(Exception):\n",
    "    pass"
   ]
  },
  {
   "cell_type": "code",
   "execution_count": 428,
   "metadata": {},
   "outputs": [],
   "source": [
    "# the user/password 'database' that @secure will refer to\n",
    "\n",
    "up = {}\n",
    "up['jack'] = 'jackpw'\n",
    "up['jill'] = 'jillpw'"
   ]
  },
  {
   "cell_type": "code",
   "execution_count": 429,
   "metadata": {},
   "outputs": [],
   "source": [
    "class secure:\n",
    "    def __init__(self, func):\n",
    "        self.func = func\n",
    "        \n",
    "    def __call__(self, user, password, *args, **kwargs):\n",
    "        if user not in up:\n",
    "            raise LoginFailure(f'User {user} not registered')\n",
    "        elif password != up[user]:\n",
    "            raise LoginFailure(f'Bad password for {user}')\n",
    "            \n",
    "        val = self.func(*args, **kwargs)\n",
    "        return val\n",
    "        "
   ]
  },
  {
   "cell_type": "code",
   "execution_count": 430,
   "metadata": {},
   "outputs": [],
   "source": [
    "# decorate foo and bar with @secure\n",
    "\n",
    "@secure\n",
    "def foo(a,b):\n",
    "    return (a,b)\n",
    "\n",
    "@secure\n",
    "def bar(a=1, b=34):\n",
    "    return (a, b)"
   ]
  },
  {
   "cell_type": "code",
   "execution_count": 431,
   "metadata": {},
   "outputs": [
    {
     "name": "stdout",
     "output_type": "stream",
     "text": [
      "__call__() missing 2 required positional arguments: 'user' and 'password'\n"
     ]
    }
   ],
   "source": [
    "# wrong number of args\n",
    "\n",
    "\n",
    "try:\n",
    "    foo()\n",
    "except TypeError as e:\n",
    "    print(e)\n"
   ]
  },
  {
   "cell_type": "code",
   "execution_count": 432,
   "metadata": {},
   "outputs": [
    {
     "name": "stdout",
     "output_type": "stream",
     "text": [
      "User 1 not registered\n"
     ]
    }
   ],
   "source": [
    "# wrong number of args\n",
    "# user =1, pw=2\n",
    "\n",
    "try:\n",
    "    foo(1,2)\n",
    "except LoginFailure as e:\n",
    "    print(e)\n"
   ]
  },
  {
   "cell_type": "code",
   "execution_count": 433,
   "metadata": {},
   "outputs": [
    {
     "data": {
      "text/plain": [
       "(1, 2)"
      ]
     },
     "execution_count": 433,
     "metadata": {},
     "output_type": "execute_result"
    }
   ],
   "source": [
    "# good call - user/pw, then regular foo args\n",
    "\n",
    "foo('jack', 'jackpw', 1 ,2)"
   ]
  },
  {
   "cell_type": "code",
   "execution_count": 434,
   "metadata": {},
   "outputs": [
    {
     "name": "stdout",
     "output_type": "stream",
     "text": [
      "User frank not registered\n"
     ]
    }
   ],
   "source": [
    "# bad user\n",
    "\n",
    "try:\n",
    "    foo('frank', 'bad', 1 ,2)\n",
    "except LoginFailure as e:\n",
    "    print( e)\n"
   ]
  },
  {
   "cell_type": "code",
   "execution_count": 435,
   "metadata": {},
   "outputs": [
    {
     "name": "stdout",
     "output_type": "stream",
     "text": [
      "Bad password for jill\n"
     ]
    }
   ],
   "source": [
    "# good user, bad passwd\n",
    "\n",
    "try:\n",
    "    foo('jill', 'guess')\n",
    "except LoginFailure as e:\n",
    "    print(e)"
   ]
  },
  {
   "cell_type": "code",
   "execution_count": 436,
   "metadata": {},
   "outputs": [
    {
     "data": {
      "text/plain": [
       "(1, 34)"
      ]
     },
     "execution_count": 436,
     "metadata": {},
     "output_type": "execute_result"
    }
   ],
   "source": [
    "# keyword args work correctly\n",
    "\n",
    "bar('jill', 'jillpw')\n"
   ]
  },
  {
   "cell_type": "code",
   "execution_count": 437,
   "metadata": {},
   "outputs": [
    {
     "data": {
      "text/plain": [
       "(5, 4)"
      ]
     },
     "execution_count": 437,
     "metadata": {},
     "output_type": "execute_result"
    }
   ],
   "source": [
    "bar('jill', 'jillpw', 5, 4)"
   ]
  },
  {
   "cell_type": "code",
   "execution_count": 438,
   "metadata": {},
   "outputs": [
    {
     "data": {
      "text/plain": [
       "(1, 12)"
      ]
     },
     "execution_count": 438,
     "metadata": {},
     "output_type": "execute_result"
    }
   ],
   "source": [
    "bar('jill', 'jillpw', b=12)"
   ]
  },
  {
   "cell_type": "code",
   "execution_count": 439,
   "metadata": {},
   "outputs": [
    {
     "data": {
      "text/plain": [
       "(22, 12)"
      ]
     },
     "execution_count": 439,
     "metadata": {},
     "output_type": "execute_result"
    }
   ],
   "source": [
    "bar('jill', 'jillpw', b=12, a=22)"
   ]
  },
  {
   "cell_type": "markdown",
   "metadata": {},
   "source": [
    "# Just for fun...\n",
    "- look at the ```__mul__``` method on polylist(completely different from the one you have to write for polydict)\n",
    "- how does it work?\n",
    "- what does 'reduce' do?"
   ]
  },
  {
   "cell_type": "code",
   "execution_count": null,
   "metadata": {},
   "outputs": [],
   "source": [
    "    def __mul__(self, p2):\n",
    "        sums = []\n",
    "        for e1,c1 in enumerate(self.coe):\n",
    "            prod = [c1 * c2 for c2 in p2.coe]\n",
    "            for rpt in range(e1):\n",
    "                prod.insert(0, 0)\n",
    "            sums.append(polylist(prod))\n",
    "        return(functools.reduce(polylist.__add__, sums))\n",
    "   "
   ]
  }
 ],
 "metadata": {
  "anaconda-cloud": {},
  "kernelspec": {
   "display_name": "Python 3",
   "language": "python",
   "name": "python3"
  },
  "language_info": {
   "codemirror_mode": {
    "name": "ipython",
    "version": 3
   },
   "file_extension": ".py",
   "mimetype": "text/x-python",
   "name": "python",
   "nbconvert_exporter": "python",
   "pygments_lexer": "ipython3",
   "version": "3.7.6"
  },
  "name": "_merged_merged"
 },
 "nbformat": 4,
 "nbformat_minor": 1
}
