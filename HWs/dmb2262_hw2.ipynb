{
 "cells": [
  {
   "cell_type": "markdown",
   "metadata": {},
   "source": [
    "# Python Homework 2"
   ]
  },
  {
   "cell_type": "markdown",
   "metadata": {},
   "source": [
    "# Academic Honesty\n",
    "* The computer science department has strict polices. Check\n",
    "the department [web page](http://www.cs.columbia.edu/education/honesty) for details. \n",
    "- Do not look at anybody else's source code. Do not show anybody\n",
    "your source, or leave your source where somebody could see it.\n",
    "You MUST write your own code.\n",
    "- For this class, feel free to discuss issues with other people, but suggest waiting an hour or two after a discussion, before writing your code.\n",
    "-  Cases of non original source will be refered to the Judical Committee.\n"
   ]
  },
  {
   "cell_type": "markdown",
   "metadata": {},
   "source": [
    "# Notes\n",
    "- the code for each problem is fairly short, so if you are doing something complicated, think again or get some help\n",
    "- code that works is fine - you don't have to submit the most super pythonic super efficient thing"
   ]
  },
  {
   "cell_type": "markdown",
   "metadata": {},
   "source": [
    "# Problem 1a - define function dot(v1, v2)\n",
    "- computes the standard 'dot products' \n",
    "between two lists \n",
    "- example: dot([1,2,3], [4,5,6]) = $$1 * 4 + 2 * 5 + 3 * 6 = 32$$\n",
    "- if one vector is longer than the other, the extra elements are ignored"
   ]
  },
  {
   "cell_type": "code",
   "execution_count": 1,
   "metadata": {},
   "outputs": [],
   "source": [
    "def dot(v1, v2):\n",
    "    # takes in two vectors \n",
    "    # for v1[i] multiply by v2[i] then add all together\n",
    "    # could create a new vector with value of v1[i]*v2[i] then sum new vector\n",
    "    \n",
    "    ans = []\n",
    "    mySum = 0\n",
    "    for i, elem in enumerate(v1, start=0):\n",
    "        if i > len(v2)-1:\n",
    "            break\n",
    "        else:\n",
    "            ans.append(v1[i] * v2[i])\n",
    "            \n",
    "    for i in ans:\n",
    "        mySum += i\n",
    "    return mySum"
   ]
  },
  {
   "cell_type": "code",
   "execution_count": 2,
   "metadata": {},
   "outputs": [],
   "source": [
    "# test vectors for Problem 1 a,b,c,d\n",
    "\n",
    "tv0 = [1,2,3]\n",
    "tv1 = [4,5,6,7,8,9]\n",
    "\n",
    "tv2 = [1,2,3,4]\n",
    "tv3 = [5,6,7]"
   ]
  },
  {
   "cell_type": "code",
   "execution_count": 3,
   "metadata": {},
   "outputs": [
    {
     "name": "stdout",
     "output_type": "stream",
     "text": [
      "32\n",
      "38\n"
     ]
    }
   ],
   "source": [
    "# the 7,8,9 elements are ignored \n",
    "\n",
    "print(dot(tv0, tv1))\n",
    "print(dot(tv2, tv3))"
   ]
  },
  {
   "cell_type": "markdown",
   "metadata": {},
   "source": [
    "# Problem 1b - define function shortlong(v0, v1)\n",
    "- puts two vectors in a 'cannonical form' \n",
    "- returns the shorter vector, the shorter vector length, the longer vector, and the longer vector length, in a tuple"
   ]
  },
  {
   "cell_type": "code",
   "execution_count": 4,
   "metadata": {},
   "outputs": [],
   "source": [
    "def shortlong(v0, v1):\n",
    "    # I could use a dict here {small: list large: list}\n",
    "    # find short - load to dict under short key, load other to large key\n",
    "    \n",
    "    myDict = {'small': [], 'large': []}\n",
    "    \n",
    "    if len(v0) <= len(v1):\n",
    "        myDict['small'], myDict['large'] = v0, v1 # neat!\n",
    "    else:\n",
    "        myDict['small'], myDict['large'] = v1, v0\n",
    "        \n",
    "    return (myDict['small'], len(myDict['small']), myDict['large'], len(myDict['large'])) # also neat"
   ]
  },
  {
   "cell_type": "code",
   "execution_count": 5,
   "metadata": {},
   "outputs": [
    {
     "data": {
      "text/plain": [
       "([1, 2, 3], 3, [4, 5, 6, 7, 8, 9], 6)"
      ]
     },
     "execution_count": 5,
     "metadata": {},
     "output_type": "execute_result"
    }
   ],
   "source": [
    "shortlong(tv0, tv1)"
   ]
  },
  {
   "cell_type": "code",
   "execution_count": 6,
   "metadata": {},
   "outputs": [
    {
     "data": {
      "text/plain": [
       "([1, 2, 3], 3, [4, 5, 6, 7, 8, 9], 6)"
      ]
     },
     "execution_count": 6,
     "metadata": {},
     "output_type": "execute_result"
    }
   ],
   "source": [
    "shortlong(tv1, tv0)"
   ]
  },
  {
   "cell_type": "markdown",
   "metadata": {},
   "source": [
    "# Problem 1c - define function dotmv(v0, v1, offset)\n",
    "- more flexible version of 'dot'\n",
    "- 'dotmv' takes an extra 'offset' arg, which moves the shorter vector to the right\n",
    "- use 'shortlong' and 'dot'\n",
    "- don't modify the input vectors\n",
    "- dotmv(tv0, tv1, 2) = $$1 * 6 + 2 * 7 + 3 * 8$$"
   ]
  },
  {
   "cell_type": "code",
   "execution_count": 7,
   "metadata": {},
   "outputs": [],
   "source": [
    "def dotmv(v0, v1, offset):\n",
    "    # facts: shortlong is going to return a tuple with a short list, length list, long list, length list\n",
    "    # dot is going to take two lists and math them\n",
    "    # I need to copy the long list - minus the offset - to another list and pass the new list to dot\n",
    "    # likely need to add a check to see if offset > len of the long list\n",
    "    \n",
    "    myTup = shortlong(v0, v1)\n",
    "    longList = myTup[2][:] # copying list to prevent modification\n",
    "    \n",
    "    if offset > myTup[3]-1:      # offset > longest list size\n",
    "        return []\n",
    "    else:\n",
    "        return dot(myTup[0], longList[offset:])"
   ]
  },
  {
   "cell_type": "code",
   "execution_count": 8,
   "metadata": {},
   "outputs": [
    {
     "data": {
      "text/plain": [
       "[32, 38, 44]"
      ]
     },
     "execution_count": 8,
     "metadata": {},
     "output_type": "execute_result"
    }
   ],
   "source": [
    "[dotmv(tv0, tv1, j) for j in range(3)]"
   ]
  },
  {
   "cell_type": "code",
   "execution_count": 9,
   "metadata": {},
   "outputs": [
    {
     "data": {
      "text/plain": [
       "[32, 38, 44]"
      ]
     },
     "execution_count": 9,
     "metadata": {},
     "output_type": "execute_result"
    }
   ],
   "source": [
    "[dotmv(tv1, tv0, j) for j in range(3)]"
   ]
  },
  {
   "cell_type": "markdown",
   "metadata": {},
   "source": [
    "# Problem 1d - define function dotpad(v0, v1, pad)\n",
    "- another version of 'dot'\n",
    "- 'dotpad' takes a pad arg\n",
    "- if one vector is shorter, it is padded on the right with the pad value\n",
    "- use 'shortlong' and 'dot'\n",
    "- don't modify the input vectors\n",
    "- dotpad(tv0, tv1,1) = dot([1,2,3,1,1,1], [4,5,6,7,8,9])"
   ]
  },
  {
   "cell_type": "code",
   "execution_count": 10,
   "metadata": {},
   "outputs": [],
   "source": [
    "def dotpad(v0, v1, pad):\n",
    "    # so get tuple from shortlong\n",
    "    # now take smallest and create new the same size as long\n",
    "    # using pad as the filler int\n",
    "    # pass those into dot (short first)\n",
    "\n",
    "    myTup = shortlong(v0, v1)\n",
    "    shortList = myTup[0][:] # protect the initial list\n",
    "    \n",
    "    for i in range(myTup[3]-myTup[1]):\n",
    "        shortList.append(pad)\n",
    "    \n",
    "    return dot(shortList, myTup[2])"
   ]
  },
  {
   "cell_type": "code",
   "execution_count": 11,
   "metadata": {},
   "outputs": [
    {
     "data": {
      "text/plain": [
       "[32, 56, 80]"
      ]
     },
     "execution_count": 11,
     "metadata": {},
     "output_type": "execute_result"
    }
   ],
   "source": [
    "[dotpad(tv0, tv1, j) for j in [0,1,2]]"
   ]
  },
  {
   "cell_type": "code",
   "execution_count": 12,
   "metadata": {},
   "outputs": [
    {
     "data": {
      "text/plain": [
       "[32, 56, 80]"
      ]
     },
     "execution_count": 12,
     "metadata": {},
     "output_type": "execute_result"
    }
   ],
   "source": [
    "[dotpad(tv1, tv0, j) for j in [0,1,2]]"
   ]
  },
  {
   "cell_type": "markdown",
   "metadata": {},
   "source": [
    "# Problem 2 - define function partition(x, n, overlap)\n",
    "- divides a list into segments\n",
    "- x is the input list\n",
    "- n is the length of each segment. if there are not enough list elements to make a final segment of length n, they are discarded\n",
    "- overlap is how many list elements should overlap btw adjacent segments\n",
    "- might want to use 'while' instead of 'for'\n",
    "- very useful function"
   ]
  },
  {
   "cell_type": "code",
   "execution_count": 290,
   "metadata": {},
   "outputs": [],
   "source": [
    "def partition(x, n, overlap):\n",
    "    # take list and create smaller lists of size n\n",
    "    # repeating elements by overlap\n",
    "    \n",
    "    inList = x[:]           # safety copy!\n",
    "    outList = []\n",
    "    i = 0\n",
    "    \n",
    "    while i < len(inList)-1:\n",
    "        if n > len(inList[i:]):\n",
    "            i = len(inList)\n",
    "        else:\n",
    "            outList.append(inList[i:i+n])\n",
    "            i += n-overlap\n",
    "    return outList"
   ]
  },
  {
   "cell_type": "code",
   "execution_count": 291,
   "metadata": {},
   "outputs": [
    {
     "data": {
      "text/plain": [
       "[[0, 1], [2, 3], [4, 5], [6, 7], [8, 9]]"
      ]
     },
     "execution_count": 291,
     "metadata": {},
     "output_type": "execute_result"
    }
   ],
   "source": [
    "partition(list(range(10)), 2, 0)"
   ]
  },
  {
   "cell_type": "code",
   "execution_count": 276,
   "metadata": {},
   "outputs": [
    {
     "data": {
      "text/plain": [
       "[[0, 1, 2], [3, 4, 5], [6, 7, 8]]"
      ]
     },
     "execution_count": 276,
     "metadata": {},
     "output_type": "execute_result"
    }
   ],
   "source": [
    "# only want length 3 partitions, so 9 was discarded\n",
    "\n",
    "partition(list(range(10)), 3, 0)"
   ]
  },
  {
   "cell_type": "code",
   "execution_count": 277,
   "metadata": {},
   "outputs": [
    {
     "data": {
      "text/plain": [
       "[[0, 1], [1, 2], [2, 3], [3, 4], [4, 5], [5, 6], [6, 7], [7, 8], [8, 9]]"
      ]
     },
     "execution_count": 277,
     "metadata": {},
     "output_type": "execute_result"
    }
   ],
   "source": [
    "partition(list(range(10)), 2, 1)"
   ]
  },
  {
   "cell_type": "code",
   "execution_count": 278,
   "metadata": {},
   "outputs": [
    {
     "data": {
      "text/plain": [
       "[[0, 1, 2, 3], [4, 5, 6, 7]]"
      ]
     },
     "execution_count": 278,
     "metadata": {},
     "output_type": "execute_result"
    }
   ],
   "source": [
    "partition(list(range(10)), 4, 0)"
   ]
  },
  {
   "cell_type": "code",
   "execution_count": 279,
   "metadata": {},
   "outputs": [
    {
     "data": {
      "text/plain": [
       "[[0, 1, 2, 3],\n",
       " [1, 2, 3, 4],\n",
       " [2, 3, 4, 5],\n",
       " [3, 4, 5, 6],\n",
       " [4, 5, 6, 7],\n",
       " [5, 6, 7, 8],\n",
       " [6, 7, 8, 9]]"
      ]
     },
     "execution_count": 279,
     "metadata": {},
     "output_type": "execute_result"
    }
   ],
   "source": [
    "partition(list(range(10)), 4, 3)"
   ]
  },
  {
   "cell_type": "markdown",
   "metadata": {},
   "source": [
    "# Problem 3 - define functions rlencode(seq) and rldecode(seq)\n",
    "- run length encoding is a simple scheme for lossless compression\n",
    "- compress a list by making a list of ```[element, count]```\n",
    "items, so runs of repeats take less storage\n",
    "- rlencode compresses a list\n",
    "- rldecode recovers the original list"
   ]
  },
  {
   "cell_type": "code",
   "execution_count": 70,
   "metadata": {},
   "outputs": [],
   "source": [
    "def rlencode(seq):\n",
    "    # for each in list check if next matches and inc count\n",
    "    # if does not match append item to new list followed by count\n",
    "    \n",
    "    inList = seq[:]\n",
    "    outList =[]\n",
    "    count = 1\n",
    "    i = 0\n",
    "    \n",
    "    while i < len(inList):\n",
    "        if i == len(inList)-1:\n",
    "            outList.append([inList[i], count])\n",
    "        elif inList[i] == inList[i+1]:\n",
    "            count += 1\n",
    "        else:\n",
    "            outList.append([inList[i], count])\n",
    "            count = 1\n",
    "        i += 1\n",
    "    return outList"
   ]
  },
  {
   "cell_type": "code",
   "execution_count": 76,
   "metadata": {},
   "outputs": [],
   "source": [
    "def rldecode(seq):\n",
    "    # undo what i did above\n",
    "    \n",
    "    inList = seq[:]\n",
    "    outList =[]\n",
    "    \n",
    "    for item in inList:\n",
    "        n, count = item[0], item[1]\n",
    "        i = 0\n",
    "        while i < count:\n",
    "            outList.append(n)\n",
    "            i += 1\n",
    "    return outList"
   ]
  },
  {
   "cell_type": "code",
   "execution_count": 77,
   "metadata": {},
   "outputs": [
    {
     "data": {
      "text/plain": [
       "[[1, 2], [2, 1], [5, 1], [3, 4], [7, 1]]"
      ]
     },
     "execution_count": 77,
     "metadata": {},
     "output_type": "execute_result"
    }
   ],
   "source": [
    "seq = [1,1,2,5,3,3,3,3,7]\n",
    "enc=rlencode(seq)\n",
    "enc"
   ]
  },
  {
   "cell_type": "code",
   "execution_count": 80,
   "metadata": {},
   "outputs": [
    {
     "data": {
      "text/plain": [
       "[1, 1, 2, 5, 3, 3, 3, 3, 7]"
      ]
     },
     "execution_count": 80,
     "metadata": {},
     "output_type": "execute_result"
    }
   ],
   "source": [
    "rldecode(enc)"
   ]
  },
  {
   "cell_type": "code",
   "execution_count": 81,
   "metadata": {},
   "outputs": [
    {
     "data": {
      "text/plain": [
       "True"
      ]
     },
     "execution_count": 81,
     "metadata": {},
     "output_type": "execute_result"
    }
   ],
   "source": [
    "seq == rldecode(enc)"
   ]
  },
  {
   "cell_type": "markdown",
   "metadata": {},
   "source": [
    "# Problem 4 - define function cbt(x)\n",
    "- \"Collate by Type\"\n",
    "- argument: a non-nested list of objects\n",
    "- returns: \n",
    "    - a dictionary, where there is \n",
    "a key for each type found. the value of each\n",
    "key is a list of the objects of that type found.\n",
    "    - if you want to make the dictionary in a slightly more pythonic way, use [defaultdict](https://docs.python.org/3.8/library/collections.html#collections.defaultdict)\n",
    "- prints: \n",
    "  - the number of each type found\n",
    "  - the sum, if any, of the ints, and floats found\n",
    "  - the strings, if any, sorted alphabetically, and concatenated\n",
    "  togther, separated by '|'\n",
    "  - use [f strings](https://docs.python.org/3/tutorial/inputoutput.html?highlight=format%20string#tut-f-strings) for the formatted printing\n"
   ]
  },
  {
   "cell_type": "code",
   "execution_count": 260,
   "metadata": {},
   "outputs": [],
   "source": [
    "def cbt(x):\n",
    "    from collections import defaultdict\n",
    "    \n",
    "    inList = x[:]\n",
    "    myDict = defaultdict(list)\n",
    "    \n",
    "    for item in inList:\n",
    "        myDict[type(item)].append(item)\n",
    "    \n",
    "    for key, value in myDict.items():\n",
    "        print(f'found {len(value)} of {key}')\n",
    "    \n",
    "    if int in myDict:\n",
    "        print(f'sum of {int} is {sum(myDict.get(int))}')\n",
    "    if float in myDict:\n",
    "        print(f'sum of {float} is {sum(myDict.get(float))}')\n",
    "    if str in myDict:\n",
    "        print(f'alpha sorted concat of strings: {\"|\".join(sorted(myDict.get(str)))}')\n",
    "    return dict(myDict)  # returning a dict not a defaultdict"
   ]
  },
  {
   "cell_type": "code",
   "execution_count": 261,
   "metadata": {},
   "outputs": [
    {
     "name": "stdout",
     "output_type": "stream",
     "text": [
      "found 2 of <class 'type'>\n",
      "found 2 of <class 'int'>\n",
      "sum of <class 'int'> is 39\n"
     ]
    },
    {
     "data": {
      "text/plain": [
       "{type: [float, list], int: [34, 5]}"
      ]
     },
     "execution_count": 261,
     "metadata": {},
     "output_type": "execute_result"
    }
   ],
   "source": [
    "cbt([float, 34, 5, list])"
   ]
  },
  {
   "cell_type": "code",
   "execution_count": 262,
   "metadata": {},
   "outputs": [
    {
     "name": "stdout",
     "output_type": "stream",
     "text": [
      "found 4 of <class 'int'>\n",
      "found 2 of <class 'float'>\n",
      "found 4 of <class 'str'>\n",
      "found 2 of <class 'builtin_function_or_method'>\n",
      "sum of <class 'int'> is 1049673\n",
      "sum of <class 'float'> is 5.48\n",
      "alpha sorted concat of strings: butler|science|shapiro|unicode\n"
     ]
    },
    {
     "data": {
      "text/plain": [
       "{int: [23, 1048576, 1031, 43],\n",
       " float: [3.14, 2.34],\n",
       " str: ['shapiro', 'science', 'butler', 'unicode'],\n",
       " builtin_function_or_method: [<function sorted(iterable, /, *, key=None, reverse=False)>,\n",
       "  <function len(obj, /)>]}"
      ]
     },
     "execution_count": 262,
     "metadata": {},
     "output_type": "execute_result"
    }
   ],
   "source": [
    "x = [23,2**20, 3.14,'shapiro', 2**10+7, sorted,2.34, \n",
    "     'science', len, 43, 'butler', 'unicode']\n",
    "cbt(x)"
   ]
  },
  {
   "cell_type": "markdown",
   "metadata": {},
   "source": [
    "# Problem 5 - Convert DNA to Amino Acids\n",
    "- dna is a string of DNA bases 'ACGT'\n",
    "- each successive 3 bases in DNA defines an amino acid\n",
    "- convert the dna_amino string to a dict called 'aa'\n",
    "- scroll down in [this page](https://docs.python.org/3/library/stdtypes.html#text-sequence-type-str) to read the doc for str.split()\n",
    "- can use partition function from problem 2 for pythonic purposes\n"
   ]
  },
  {
   "cell_type": "code",
   "execution_count": 362,
   "metadata": {},
   "outputs": [],
   "source": [
    "dna_amino='''\n",
    "TTT F      CTT L      ATT I      GTT V\n",
    "TTC F      CTC L      ATC I      GTC V\n",
    "TTA L      CTA L      ATA I      GTA V\n",
    "TTG L      CTG L      ATG M      GTG V\n",
    "TCT S      CCT P      ACT T      GCT A\n",
    "TCC S      CCC P      ACC T      GCC A\n",
    "TCA S      CCA P      ACA T      GCA A\n",
    "TCG S      CCG P      ACG T      GCG A\n",
    "TAT Y      CAT H      AAT N      GAT D\n",
    "TAC Y      CAC H      AAC N      GAC D\n",
    "CAA Q      AAA K      GAA E\n",
    "CAG Q      AAG K      GAG E\n",
    "TGT C      CGT R      AGT S      GGT G\n",
    "TGC C      CGC R      AGC S      GGC G\n",
    "CGA R      AGA R      GGA G\n",
    "TGG W      CGG R      AGG R      GGG G\n",
    "'''\n",
    "\n",
    "aa = {}\n",
    "#temp = dna_amino.split()   # let's get rid of whitespace\n",
    "#temp = partition(temp, 2, 0) # now I have something I can make a dict from\n",
    "# can I do this in one ugly line?\n",
    "#temp = partition(dna_amino.split(), 2, 0)\n",
    "# but can I put this in the for...\n",
    "for item in partition(dna_amino.split(), 2, 0):\n",
    "    aa.update({item[0] : item[1]})\n"
   ]
  },
  {
   "cell_type": "code",
   "execution_count": 363,
   "metadata": {},
   "outputs": [
    {
     "data": {
      "text/plain": [
       "('W', 'R', 'P', 61)"
      ]
     },
     "execution_count": 363,
     "metadata": {},
     "output_type": "execute_result"
    }
   ],
   "source": [
    "aa['TGG'], aa['CGG'], aa['CCA'], len(aa)"
   ]
  },
  {
   "cell_type": "markdown",
   "metadata": {},
   "source": [
    "# define function dnaToAminoAcids(dna)\n",
    "- convert the dna to a string of amino acids\n",
    "- use aa dict"
   ]
  },
  {
   "cell_type": "code",
   "execution_count": 367,
   "metadata": {},
   "outputs": [],
   "source": [
    "def dnaToAminoAcids(dna):\n",
    "    #safety first\n",
    "    #myDna = dna[:]\n",
    "    outStr = ''      # output is a str\n",
    "    \n",
    "    # now I need to break this into keys this IS a handy function\n",
    "    #myDna = partition(myDna, 3, 0)\n",
    "    \n",
    "    # now feed the keys to the dict to get values\n",
    "    # let's eliminate some lines\n",
    "    for item in partition(dna, 3, 0):\n",
    "        if item in aa:\n",
    "            outStr = outStr + aa.get(item)\n",
    "    \n",
    "    return outStr"
   ]
  },
  {
   "cell_type": "code",
   "execution_count": 368,
   "metadata": {},
   "outputs": [
    {
     "data": {
      "text/plain": [
       "60"
      ]
     },
     "execution_count": 368,
     "metadata": {},
     "output_type": "execute_result"
    }
   ],
   "source": [
    "dna='TGCGGCCCTTACCCATATGTCTCTTACTGTCGCTTTCCGGGTGAATCCTATCCCATTCTA'\n",
    "len(dna)"
   ]
  },
  {
   "cell_type": "code",
   "execution_count": 369,
   "metadata": {},
   "outputs": [
    {
     "data": {
      "text/plain": [
       "('CGPYPYVSYCRFPGESYPIL', 20)"
      ]
     },
     "execution_count": 369,
     "metadata": {},
     "output_type": "execute_result"
    }
   ],
   "source": [
    "acids=dnaToAminoAcids(dna)\n",
    "acids, len(acids)"
   ]
  },
  {
   "cell_type": "markdown",
   "metadata": {},
   "source": [
    "# Just for fun...\n",
    "- the problem below is NOT graded\n",
    "- don't spend more than 10 minutes on it\n",
    "- interesting recursion problem...\n",
    "\n",
    "# define function change(amount, count)\n",
    "- given coins of 1,5,10,25 value, can you choose count number of coins that add up to amount?\n",
    "- duplicate coin values are allowed\n",
    "- note that when there is a solution, not all coin types are necessarily used. so, in general, you have to try 4 different ways to subdivide the problem each time..."
   ]
  },
  {
   "cell_type": "code",
   "execution_count": 12,
   "metadata": {},
   "outputs": [
    {
     "name": "stdout",
     "output_type": "stream",
     "text": [
      "0 []\n",
      "1 []\n",
      "2 []\n",
      "3 [1, 1, 1]\n",
      "4 []\n",
      "5 []\n",
      "6 []\n",
      "7 [5, 1, 1]\n",
      "8 []\n",
      "9 []\n",
      "10 []\n",
      "11 [5, 5, 1]\n",
      "12 [10, 1, 1]\n",
      "13 []\n",
      "14 []\n",
      "15 [5, 5, 5]\n",
      "16 [10, 5, 1]\n",
      "17 []\n",
      "18 []\n",
      "19 []\n"
     ]
    }
   ],
   "source": [
    "# 3 coins\n",
    "\n",
    "for j in range(20):\n",
    "    print(j, change(j, 3))\n",
    "    \n",
    "    "
   ]
  },
  {
   "cell_type": "code",
   "execution_count": 7,
   "metadata": {},
   "outputs": [
    {
     "name": "stdout",
     "output_type": "stream",
     "text": [
      "0 []\n",
      "1 []\n",
      "2 []\n",
      "3 []\n",
      "4 []\n",
      "5 [1, 1, 1, 1, 1]\n",
      "6 []\n",
      "7 []\n",
      "8 []\n",
      "9 [5, 1, 1, 1, 1]\n",
      "10 []\n",
      "11 []\n",
      "12 []\n",
      "13 [5, 5, 1, 1, 1]\n",
      "14 [10, 1, 1, 1, 1]\n",
      "15 []\n",
      "16 []\n",
      "17 [5, 5, 5, 1, 1]\n",
      "18 [10, 5, 1, 1, 1]\n",
      "19 []\n"
     ]
    }
   ],
   "source": [
    "# 5 coins\n",
    "\n",
    "for j in range(20):\n",
    "    print(j, change(j, 5))"
   ]
  }
 ],
 "metadata": {
  "kernelspec": {
   "display_name": "Python 3",
   "language": "python",
   "name": "python3"
  },
  "language_info": {
   "codemirror_mode": {
    "name": "ipython",
    "version": 3
   },
   "file_extension": ".py",
   "mimetype": "text/x-python",
   "name": "python",
   "nbconvert_exporter": "python",
   "pygments_lexer": "ipython3",
   "version": "3.7.4"
  }
 },
 "nbformat": 4,
 "nbformat_minor": 2
}
