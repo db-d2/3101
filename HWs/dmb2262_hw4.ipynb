{
 "cells": [
  {
   "cell_type": "markdown",
   "metadata": {},
   "source": [
    "# Introduction to Python \n",
    "# Homework #4\n",
    "- This homework will be graded\n",
    "- You MUST submit on CourseWorks2 before it closes\n",
    "    - Verify your submission succeeded\n",
    "    - Email submissions are not accepted \n",
    "    "
   ]
  },
  {
   "cell_type": "markdown",
   "metadata": {},
   "source": [
    "# Academic Honesty\n",
    "* The computer science department has strict polices. Check\n",
    "the department [web page](http://www.cs.columbia.edu/education/honesty) for details. \n",
    "- Do not look at anybody else's source code. Do not show anybody\n",
    "your source, or leave your source where somebody could see it.\n",
    "You MUST write your own code.\n",
    "- For this class, feel free to discuss issues with other people, but suggest waiting an hour or two after a discussion, before writing your code.\n",
    "-  Cases of non original source will be refered to the Judical Committee.\n",
    "\n"
   ]
  },
  {
   "cell_type": "markdown",
   "metadata": {},
   "source": [
    "# Problem 1,2,&3 - define printf function\n",
    "- args\n",
    "    - first positional arg is the control string\n",
    "    - rest of positional args are values to convert into strings, and insert into the control string, \n",
    "    - finally, optional keyword args\n",
    "- printf should return the converted string\n",
    "- several conversion directives:\n",
    "    - '{}' - call 'repr' function to get string for the object\n",
    "    - '{b}' - convert an int into binary\n",
    "    - '{h}' - convert an int into hex\n",
    "    - '{o}' - convert an int into octal\n",
    "- keyword args:\n",
    "    - case='lower' - lower case the computed string\n",
    "    - case='upper' - upper case the computed string\n",
    "    - reverse=True - reverse the characters in the computed string\n",
    "- raise a TypeError if the number of conversion directives in the control string doesn't match the number of supplied args\n",
    "- raise a TypeError if the arg for an integer conversion is not an 'int'\n",
    "- you cannot use str.format, or 'f strings'\n",
    "- suggest first pulling out the conversion directives (the '{}', '{h}' etc), and expanding them ('13', '0xd', etc). then you have to create the result string. two ways you might do this(examples in the hints):\n",
    "    - you can split the control string(which will drop the conversion directives), then riffle together the pieces of the control string and the expansions together\n",
    "    - use re.sub to patch in the expansions\n",
    "\n",
    "\n",
    "\n",
    "# Hints"
   ]
  },
  {
   "cell_type": "code",
   "execution_count": 1,
   "metadata": {},
   "outputs": [],
   "source": [
    "# this regular expression pattern should be very useful,\n",
    "# when used with re.split and re.findall on the \n",
    "# printf control string\n",
    "\n",
    "# '[bho]*' means zero or more instances of 'b', h' or 'o' \n",
    "# '{[bho]*}' will match '{}', '{b}', '{h}', '{o}' \n",
    "\n",
    "import re\n",
    "\n",
    "pattern = '{[bho]*}'\n",
    "\n",
    "control = 'need two values: 1={h} 2={} for this to work'"
   ]
  },
  {
   "cell_type": "code",
   "execution_count": 2,
   "metadata": {},
   "outputs": [
    {
     "data": {
      "text/plain": [
       "['{h}', '{}']"
      ]
     },
     "execution_count": 2,
     "metadata": {},
     "output_type": "execute_result"
    }
   ],
   "source": [
    "# re.findall could be useful\n",
    "\n",
    "re.findall(pattern, control)"
   ]
  },
  {
   "cell_type": "code",
   "execution_count": 2,
   "metadata": {},
   "outputs": [
    {
     "data": {
      "text/plain": [
       "'need two values: 1=replacement 2=replacement for this to work'"
      ]
     },
     "execution_count": 2,
     "metadata": {},
     "output_type": "execute_result"
    }
   ],
   "source": [
    "# re.sub could be useful\n",
    "\n",
    "re.sub(pattern, 'replacement' , control)"
   ]
  },
  {
   "cell_type": "code",
   "execution_count": 20,
   "metadata": {},
   "outputs": [
    {
     "data": {
      "text/plain": [
       "'need two values: 1=replacement 2={} for this to work'"
      ]
     },
     "execution_count": 20,
     "metadata": {},
     "output_type": "execute_result"
    }
   ],
   "source": [
    "re.sub(pattern, 'replacement' , control, count = 1)"
   ]
  },
  {
   "cell_type": "code",
   "execution_count": 4,
   "metadata": {},
   "outputs": [
    {
     "data": {
      "text/plain": [
       "['need two values: 1=', ' 2=', ' for this to work']"
      ]
     },
     "execution_count": 4,
     "metadata": {},
     "output_type": "execute_result"
    }
   ],
   "source": [
    "# re.split could be useful\n",
    "\n",
    "# this regular expression could be helpful\n",
    "\n",
    "re.split(pattern, control)"
   ]
  },
  {
   "cell_type": "code",
   "execution_count": 53,
   "metadata": {},
   "outputs": [
    {
     "data": {
      "text/plain": [
       "('ab', 'mn', 'cd', 'xy')"
      ]
     },
     "execution_count": 53,
     "metadata": {},
     "output_type": "execute_result"
    }
   ],
   "source": [
    "# this version of riffle could be useful\n",
    "\n",
    "def riffle(*things):\n",
    "    riff = ()\n",
    "    for s in zip(*things):\n",
    "        riff += s\n",
    "    return riff\n",
    "\n",
    "riffle(['ab', 'cd'], ['mn', 'xy'])\n"
   ]
  },
  {
   "cell_type": "code",
   "execution_count": 54,
   "metadata": {},
   "outputs": [
    {
     "data": {
      "text/plain": [
       "'0xd'"
      ]
     },
     "execution_count": 54,
     "metadata": {},
     "output_type": "execute_result"
    }
   ],
   "source": [
    "# returns the hexadecmial(base 16) representation of an int \n",
    "# in a string\n",
    "\n",
    "hex(13)"
   ]
  },
  {
   "cell_type": "code",
   "execution_count": 55,
   "metadata": {},
   "outputs": [
    {
     "data": {
      "text/plain": [
       "'0b1101'"
      ]
     },
     "execution_count": 55,
     "metadata": {},
     "output_type": "execute_result"
    }
   ],
   "source": [
    "# returns binary(base 2) of an int\n",
    "\n",
    "bin(13)"
   ]
  },
  {
   "cell_type": "code",
   "execution_count": 56,
   "metadata": {},
   "outputs": [
    {
     "data": {
      "text/plain": [
       "'0o15'"
      ]
     },
     "execution_count": 56,
     "metadata": {},
     "output_type": "execute_result"
    }
   ],
   "source": [
    "# returns octal(base 8) of an int\n",
    "\n",
    "oct(13)"
   ]
  },
  {
   "cell_type": "code",
   "execution_count": 100,
   "metadata": {},
   "outputs": [],
   "source": [
    "def printf(control, *args, **kwargs):\n",
    "    # soo many scope vars...\n",
    "    import re\n",
    "    \n",
    "    arg_list = []\n",
    "    pattern = '{[bho]*}'\n",
    "    args_pat = re.findall(pattern, control)\n",
    "    keywords = ['case', 'reverse']\n",
    "    ctrl_list = re.split(pattern, control)\n",
    "    rif_list = []\n",
    "    \n",
    "    # check to make sure number of args matches the request\n",
    "    if len(args) != len(args_pat):\n",
    "        raise TypeError(\"Number of conversion directives does not equal the number of args\")    \n",
    "    \n",
    "    # now let's match up keywords - raise an error here if there is a bad kwarg\n",
    "    for key, value in kwargs.items():\n",
    "        if key not in keywords:\n",
    "            raise TypeError(\"Invalid keyword argument\")\n",
    "    \n",
    "    # verify requested conversions are ints and expand out args\n",
    "    for index, val in enumerate(args_pat, 0):\n",
    "        if val != '{}':\n",
    "            # conversion requested - check if int\n",
    "            if not isinstance(args[index], int):\n",
    "                raise TypeError(\"arg for integer conversion was not an int\")\n",
    "            elif val == '{b}':\n",
    "                rif_list.append(bin(args[index]))\n",
    "            elif val == '{h}':\n",
    "                rif_list.append(hex(args[index]))\n",
    "            elif val == '{o}':\n",
    "                rif_list.append(oct(args[index]))\n",
    "        elif val == '{}':\n",
    "            rif_list.append(repr(args[index]))\n",
    "    \n",
    "    # join riffle together ctrl_list and rif_list, then join them together into merged_str\n",
    "    # not sure why riffle drops the last element of the control list\n",
    "    merged_str = \"\".join(riffle(ctrl_list, rif_list)) + ctrl_list[-1]\n",
    "    \n",
    "    # transform merged_str accoring to kwargs\n",
    "    for key, value in kwargs.items():\n",
    "        if key == 'case' and value == 'lower':\n",
    "            merged_str = merged_str.lower() \n",
    "        if key == 'case' and value == 'upper':\n",
    "            merged_str = merged_str.upper()\n",
    "        if key == 'reverse' and value == True:\n",
    "            merged_str = merged_str[::-1]\n",
    "    \n",
    "    return merged_str"
   ]
  },
  {
   "cell_type": "markdown",
   "metadata": {},
   "source": [
    "# errors \n",
    "\n",
    "- number of args and conversions don't match -\n",
    "should raise a TypeError:"
   ]
  },
  {
   "cell_type": "code",
   "execution_count": 101,
   "metadata": {},
   "outputs": [
    {
     "ename": "TypeError",
     "evalue": "Number of conversion directives does not equal the number of args",
     "output_type": "error",
     "traceback": [
      "\u001b[0;31m---------------------------------------------------------------------------\u001b[0m",
      "\u001b[0;31mTypeError\u001b[0m                                 Traceback (most recent call last)",
      "\u001b[0;32m<ipython-input-101-c5931415a8f7>\u001b[0m in \u001b[0;36m<module>\u001b[0;34m\u001b[0m\n\u001b[0;32m----> 1\u001b[0;31m \u001b[0mprintf\u001b[0m\u001b[0;34m(\u001b[0m\u001b[0;34m' {} {}'\u001b[0m\u001b[0;34m,\u001b[0m \u001b[0;36m3\u001b[0m\u001b[0;34m)\u001b[0m\u001b[0;34m\u001b[0m\u001b[0;34m\u001b[0m\u001b[0m\n\u001b[0m",
      "\u001b[0;32m<ipython-input-100-c216a2d4b12d>\u001b[0m in \u001b[0;36mprintf\u001b[0;34m(control, *args, **kwargs)\u001b[0m\n\u001b[1;32m     12\u001b[0m     \u001b[0;31m# check to make sure number of args matches the request\u001b[0m\u001b[0;34m\u001b[0m\u001b[0;34m\u001b[0m\u001b[0;34m\u001b[0m\u001b[0m\n\u001b[1;32m     13\u001b[0m     \u001b[0;32mif\u001b[0m \u001b[0mlen\u001b[0m\u001b[0;34m(\u001b[0m\u001b[0margs\u001b[0m\u001b[0;34m)\u001b[0m \u001b[0;34m!=\u001b[0m \u001b[0mlen\u001b[0m\u001b[0;34m(\u001b[0m\u001b[0margs_pat\u001b[0m\u001b[0;34m)\u001b[0m\u001b[0;34m:\u001b[0m\u001b[0;34m\u001b[0m\u001b[0;34m\u001b[0m\u001b[0m\n\u001b[0;32m---> 14\u001b[0;31m         \u001b[0;32mraise\u001b[0m \u001b[0mTypeError\u001b[0m\u001b[0;34m(\u001b[0m\u001b[0;34m\"Number of conversion directives does not equal the number of args\"\u001b[0m\u001b[0;34m)\u001b[0m\u001b[0;34m\u001b[0m\u001b[0;34m\u001b[0m\u001b[0m\n\u001b[0m\u001b[1;32m     15\u001b[0m \u001b[0;34m\u001b[0m\u001b[0m\n\u001b[1;32m     16\u001b[0m     \u001b[0;31m# now let's match up keywords - raise an error here if there is a bad kwarg\u001b[0m\u001b[0;34m\u001b[0m\u001b[0;34m\u001b[0m\u001b[0;34m\u001b[0m\u001b[0m\n",
      "\u001b[0;31mTypeError\u001b[0m: Number of conversion directives does not equal the number of args"
     ]
    }
   ],
   "source": [
    "printf(' {} {}', 3)"
   ]
  },
  {
   "cell_type": "markdown",
   "metadata": {},
   "source": [
    "- non integer supplied for integer conversion - should raise a TypeError:"
   ]
  },
  {
   "cell_type": "code",
   "execution_count": 102,
   "metadata": {},
   "outputs": [
    {
     "ename": "TypeError",
     "evalue": "arg for integer conversion was not an int",
     "output_type": "error",
     "traceback": [
      "\u001b[0;31m---------------------------------------------------------------------------\u001b[0m",
      "\u001b[0;31mTypeError\u001b[0m                                 Traceback (most recent call last)",
      "\u001b[0;32m<ipython-input-102-10186179fb4b>\u001b[0m in \u001b[0;36m<module>\u001b[0;34m\u001b[0m\n\u001b[0;32m----> 1\u001b[0;31m \u001b[0mprintf\u001b[0m\u001b[0;34m(\u001b[0m\u001b[0;34m'{b}'\u001b[0m\u001b[0;34m,\u001b[0m \u001b[0msorted\u001b[0m\u001b[0;34m)\u001b[0m\u001b[0;34m\u001b[0m\u001b[0;34m\u001b[0m\u001b[0m\n\u001b[0m",
      "\u001b[0;32m<ipython-input-100-c216a2d4b12d>\u001b[0m in \u001b[0;36mprintf\u001b[0;34m(control, *args, **kwargs)\u001b[0m\n\u001b[1;32m     24\u001b[0m             \u001b[0;31m# conversion requested - check if int\u001b[0m\u001b[0;34m\u001b[0m\u001b[0;34m\u001b[0m\u001b[0;34m\u001b[0m\u001b[0m\n\u001b[1;32m     25\u001b[0m             \u001b[0;32mif\u001b[0m \u001b[0;32mnot\u001b[0m \u001b[0misinstance\u001b[0m\u001b[0;34m(\u001b[0m\u001b[0margs\u001b[0m\u001b[0;34m[\u001b[0m\u001b[0mindex\u001b[0m\u001b[0;34m]\u001b[0m\u001b[0;34m,\u001b[0m \u001b[0mint\u001b[0m\u001b[0;34m)\u001b[0m\u001b[0;34m:\u001b[0m\u001b[0;34m\u001b[0m\u001b[0;34m\u001b[0m\u001b[0m\n\u001b[0;32m---> 26\u001b[0;31m                 \u001b[0;32mraise\u001b[0m \u001b[0mTypeError\u001b[0m\u001b[0;34m(\u001b[0m\u001b[0;34m\"arg for integer conversion was not an int\"\u001b[0m\u001b[0;34m)\u001b[0m\u001b[0;34m\u001b[0m\u001b[0;34m\u001b[0m\u001b[0m\n\u001b[0m\u001b[1;32m     27\u001b[0m             \u001b[0;32melif\u001b[0m \u001b[0mval\u001b[0m \u001b[0;34m==\u001b[0m \u001b[0;34m'{b}'\u001b[0m\u001b[0;34m:\u001b[0m\u001b[0;34m\u001b[0m\u001b[0;34m\u001b[0m\u001b[0m\n\u001b[1;32m     28\u001b[0m                 \u001b[0mrif_list\u001b[0m\u001b[0;34m.\u001b[0m\u001b[0mappend\u001b[0m\u001b[0;34m(\u001b[0m\u001b[0mbin\u001b[0m\u001b[0;34m(\u001b[0m\u001b[0margs\u001b[0m\u001b[0;34m[\u001b[0m\u001b[0mindex\u001b[0m\u001b[0;34m]\u001b[0m\u001b[0;34m)\u001b[0m\u001b[0;34m)\u001b[0m\u001b[0;34m\u001b[0m\u001b[0;34m\u001b[0m\u001b[0m\n",
      "\u001b[0;31mTypeError\u001b[0m: arg for integer conversion was not an int"
     ]
    }
   ],
   "source": [
    "printf('{b}', sorted)"
   ]
  },
  {
   "cell_type": "code",
   "execution_count": 103,
   "metadata": {},
   "outputs": [
    {
     "data": {
      "text/plain": [
       "'need two values: 1=15  2=<built-in function sorted>'"
      ]
     },
     "execution_count": 103,
     "metadata": {},
     "output_type": "execute_result"
    }
   ],
   "source": [
    "# need two args, got two\n",
    "\n",
    "printf('need two values: 1={}  2={}', 15, sorted)"
   ]
  },
  {
   "cell_type": "code",
   "execution_count": 104,
   "metadata": {},
   "outputs": [
    {
     "data": {
      "text/plain": [
       "'OCT=0O15 HI BIN=0B1101 THERE HEX=0XD  INT=13 EOF'"
      ]
     },
     "execution_count": 104,
     "metadata": {},
     "output_type": "execute_result"
    }
   ],
   "source": [
    "printf('oct={o} Hi bin={b} There hex={h}  int={} EOF', 13, 13, 13, 13, case='upper')    "
   ]
  },
  {
   "cell_type": "code",
   "execution_count": 105,
   "metadata": {},
   "outputs": [
    {
     "data": {
      "text/plain": [
       "'foe 31=tni  dx0=xeh ereht 1011b0=nib ih 51o0=tco'"
      ]
     },
     "execution_count": 105,
     "metadata": {},
     "output_type": "execute_result"
    }
   ],
   "source": [
    "printf('oct={o} Hi bin={b} There hex={h}  int={} EOF', 13, 13, 13, 13,\n",
    "       case='lower', reverse=True)"
   ]
  },
  {
   "cell_type": "markdown",
   "metadata": {},
   "source": [
    "# Problem 4 - define generator decimals()\n",
    "- define a 'decimals' generator function, that 'generates' the decimal expansion digits of 1/n, where n is an integer greater than 1\n",
    "- if the decimal expansion terminates, like 1/8 = .125, the generator should terminate. otherwise, like for 1/3=.333..., the generator should never terminate\n",
    "- use long division to compute the expansion - it is very simple"
   ]
  },
  {
   "cell_type": "markdown",
   "metadata": {},
   "source": [
    "## Tips"
   ]
  },
  {
   "cell_type": "code",
   "execution_count": 16,
   "metadata": {},
   "outputs": [],
   "source": [
    "# you can terminate a generator by using 'return',\n",
    "# or falling off the end of the generator\n",
    "\n",
    "def g1():\n",
    "    yield(1)\n",
    "    yield(2)\n",
    "    return\n",
    "    yield(3)\n",
    "\n",
    "def g2():\n",
    "    yield(4)\n",
    "    yield(5)"
   ]
  },
  {
   "cell_type": "code",
   "execution_count": 17,
   "metadata": {},
   "outputs": [
    {
     "data": {
      "text/plain": [
       "([1, 2], [4, 5])"
      ]
     },
     "execution_count": 17,
     "metadata": {},
     "output_type": "execute_result"
    }
   ],
   "source": [
    "# can get the elements from a \n",
    "# FINITE length generator with 'list'\n",
    "\n",
    "list(g1()),list(g2()) "
   ]
  },
  {
   "cell_type": "code",
   "execution_count": 18,
   "metadata": {},
   "outputs": [
    {
     "data": {
      "text/plain": [
       "(2, 3)"
      ]
     },
     "execution_count": 18,
     "metadata": {},
     "output_type": "execute_result"
    }
   ],
   "source": [
    "# divmod gives integer quotient and remainder\n",
    "\n",
    "divmod(13, 5)"
   ]
  },
  {
   "cell_type": "code",
   "execution_count": 19,
   "metadata": {},
   "outputs": [
    {
     "name": "stdout",
     "output_type": "stream",
     "text": [
      "1 2\n",
      "2 4\n",
      "5 0\n"
     ]
    }
   ],
   "source": [
    "# example: 1/8 = .125\n",
    "# the digits of the expansion are the quotients\n",
    "\n",
    "r = 10\n",
    "q,r = divmod(r,8)\n",
    "print(q,r)\n",
    "r *= 10\n",
    "q,r = divmod(r,8)\n",
    "print(q,r)\n",
    "r *= 10\n",
    "q,r = divmod(r,8)\n",
    "print(q,r)\n",
    "# r == 0, so done"
   ]
  },
  {
   "cell_type": "code",
   "execution_count": 20,
   "metadata": {},
   "outputs": [
    {
     "name": "stdout",
     "output_type": "stream",
     "text": [
      "3 1\n",
      "3 1\n"
     ]
    }
   ],
   "source": [
    "# 1/3 = .333...\n",
    "\n",
    "r = 10\n",
    "q,r = divmod(r,3)\n",
    "print(q,r)\n",
    "r *= 10\n",
    "q,r = divmod(r,3)\n",
    "print(q, r)\n",
    "\n",
    "# (q,r) pairs have repeated, will never terminate"
   ]
  },
  {
   "cell_type": "code",
   "execution_count": 1,
   "metadata": {},
   "outputs": [],
   "source": [
    "def decimals(n):\n",
    "    # basically 1/n while remainder != 0\n",
    "    # so from above example r = 10 then while r != 0 divide\n",
    "    # 10/n yield the result\n",
    "    # multiply r by 10\n",
    "    r = 10\n",
    "    while r != 0:\n",
    "        q,r = divmod(r,n)\n",
    "        yield q\n",
    "        r *= 10"
   ]
  },
  {
   "cell_type": "code",
   "execution_count": 3,
   "metadata": {},
   "outputs": [
    {
     "data": {
      "text/plain": [
       "[1, 2, 5]"
      ]
     },
     "execution_count": 3,
     "metadata": {},
     "output_type": "execute_result"
    }
   ],
   "source": [
    "# finite generator\n",
    "\n",
    "list(decimals(8))"
   ]
  },
  {
   "cell_type": "code",
   "execution_count": 4,
   "metadata": {},
   "outputs": [
    {
     "data": {
      "text/plain": [
       "[3, 3, 3, 3, 3, 3, 3, 3, 3, 3]"
      ]
     },
     "execution_count": 4,
     "metadata": {},
     "output_type": "execute_result"
    }
   ],
   "source": [
    "# infinite generator\n",
    "# can't call 'list' or 'for' on it,\n",
    "# will get an infinite loop\n",
    "\n",
    "g = decimals(3)\n",
    "[next(g) for j in range(10)]"
   ]
  },
  {
   "cell_type": "markdown",
   "metadata": {},
   "source": [
    "# function genlimit\n",
    "- to protect ourselves from infinite generators,\n",
    "we could define 'genlimit(g, limit)' which returns a generator that yields at most 'limit' number of values from a generator 'g'"
   ]
  },
  {
   "cell_type": "code",
   "execution_count": 5,
   "metadata": {},
   "outputs": [],
   "source": [
    "def genlimit(g, limit):\n",
    "    # zip will stop iteration\n",
    "    for v,r in zip(g, range(limit)):\n",
    "        yield(v)"
   ]
  },
  {
   "cell_type": "code",
   "execution_count": 6,
   "metadata": {},
   "outputs": [
    {
     "data": {
      "text/plain": [
       "[1, 2]"
      ]
     },
     "execution_count": 6,
     "metadata": {},
     "output_type": "execute_result"
    }
   ],
   "source": [
    "list(genlimit(decimals(8), 2))"
   ]
  },
  {
   "cell_type": "code",
   "execution_count": 7,
   "metadata": {},
   "outputs": [
    {
     "data": {
      "text/plain": [
       "[1, 2, 5]"
      ]
     },
     "execution_count": 7,
     "metadata": {},
     "output_type": "execute_result"
    }
   ],
   "source": [
    "list(genlimit(decimals(8), 5))"
   ]
  },
  {
   "cell_type": "code",
   "execution_count": 8,
   "metadata": {},
   "outputs": [
    {
     "data": {
      "text/plain": [
       "[3, 3, 3, 3, 3]"
      ]
     },
     "execution_count": 8,
     "metadata": {},
     "output_type": "execute_result"
    }
   ],
   "source": [
    "list(genlimit(decimals(3), 5))"
   ]
  },
  {
   "cell_type": "code",
   "execution_count": 9,
   "metadata": {},
   "outputs": [
    {
     "data": {
      "text/plain": [
       "[0, 1, 2]"
      ]
     },
     "execution_count": 9,
     "metadata": {},
     "output_type": "execute_result"
    }
   ],
   "source": [
    "# works with any interator\n",
    "\n",
    "list(genlimit(iter(range(30)), 3))"
   ]
  },
  {
   "cell_type": "code",
   "execution_count": 10,
   "metadata": {},
   "outputs": [],
   "source": [
    "d = decimals(8)"
   ]
  },
  {
   "cell_type": "code",
   "execution_count": 11,
   "metadata": {},
   "outputs": [
    {
     "name": "stdout",
     "output_type": "stream",
     "text": [
      "1\n",
      "2\n",
      "5\n"
     ]
    }
   ],
   "source": [
    "for e in d:\n",
    "    print(e)"
   ]
  },
  {
   "cell_type": "code",
   "execution_count": 12,
   "metadata": {},
   "outputs": [
    {
     "ename": "StopIteration",
     "evalue": "",
     "output_type": "error",
     "traceback": [
      "\u001b[0;31m---------------------------------------------------------------------------\u001b[0m",
      "\u001b[0;31mStopIteration\u001b[0m                             Traceback (most recent call last)",
      "\u001b[0;32m<ipython-input-12-7a304cb1ba56>\u001b[0m in \u001b[0;36m<module>\u001b[0;34m\u001b[0m\n\u001b[1;32m      1\u001b[0m \u001b[0;31m# generator is exhausted, no more digits\u001b[0m\u001b[0;34m\u001b[0m\u001b[0;34m\u001b[0m\u001b[0;34m\u001b[0m\u001b[0m\n\u001b[1;32m      2\u001b[0m \u001b[0;34m\u001b[0m\u001b[0m\n\u001b[0;32m----> 3\u001b[0;31m \u001b[0mnext\u001b[0m\u001b[0;34m(\u001b[0m\u001b[0md\u001b[0m\u001b[0;34m)\u001b[0m\u001b[0;34m\u001b[0m\u001b[0;34m\u001b[0m\u001b[0m\n\u001b[0m",
      "\u001b[0;31mStopIteration\u001b[0m: "
     ]
    }
   ],
   "source": [
    "# generator is exhausted, no more digits\n",
    "\n",
    "next(d)"
   ]
  },
  {
   "cell_type": "markdown",
   "metadata": {},
   "source": [
    "# Problem 5 - define generator decimals2\n",
    "- deal with repeated decimals\n",
    "- genlimit is useful, but never sure what we're missing with an arbitrary limit\n",
    "- since 1/n is a rational number, its decimal expansion must eventually repeat(unlike irrational numbers like Pi) \n",
    "- if the decimal expansion is finite, successive yields should return the digits in the expansion\n",
    "- if the decimal expansion repeats, then the final yield should return a tuple of two lists - a list of the digits seen prior to the start of the repeat, if any, and a list of the repeating sequence of digits\n",
    "- 1/6, 1/12, 1/14, 1/26, 1/28 have expansions with initial digits that don't repeat\n"
   ]
  },
  {
   "cell_type": "code",
   "execution_count": 15,
   "metadata": {},
   "outputs": [
    {
     "data": {
      "text/plain": [
       "[0, 3, 5, 7, 1, 4, 2, 8, 5, 7, 1, 4, 2, 8, 5, 7, 1, 4, 2, 8]"
      ]
     },
     "execution_count": 15,
     "metadata": {},
     "output_type": "execute_result"
    }
   ],
   "source": [
    "# look at expansion of 1/28\n",
    "# 5, 7, 1, 4, 2, 8 repeats\n",
    "# initial 0, 3 is NOT part of the repeating sequence\n",
    "# showing three repeats\n",
    "\n",
    "list(genlimit(decimals(28), 20))"
   ]
  },
  {
   "cell_type": "code",
   "execution_count": 221,
   "metadata": {},
   "outputs": [],
   "source": [
    "def decimals2(n):\n",
    "    # let's start out the same as decimals\n",
    "    r = 10\n",
    "    # I'll need to track q and r now\n",
    "    q_list = []\n",
    "    r_list = []\n",
    "    r_list2 = []\n",
    "    \n",
    "    while r != 0:\n",
    "        q,r = divmod(r,n)\n",
    "        yield q\n",
    "        print(q,r)\n",
    "        r_list.append(r)\n",
    "        q_list.append(q)\n",
    "        if n*r == q:\n",
    "            yield([], q)\n",
    "            r = 0\n",
    "        r *= 10\n",
    "        \n",
    "                \n",
    "            \n",
    "                    \n",
    "            \n",
    "            \n",
    "        "
   ]
  },
  {
   "cell_type": "code",
   "execution_count": 223,
   "metadata": {},
   "outputs": [
    {
     "name": "stdout",
     "output_type": "stream",
     "text": [
      "3 1\n"
     ]
    },
    {
     "data": {
      "text/plain": [
       "[3, ([], 3)]"
      ]
     },
     "execution_count": 223,
     "metadata": {},
     "output_type": "execute_result"
    }
   ],
   "source": [
    "list(decimals2(3))"
   ]
  },
  {
   "cell_type": "code",
   "execution_count": 151,
   "metadata": {},
   "outputs": [
    {
     "data": {
      "text/plain": [
       "[0, 3, 5, 7, 1, 4, 2, 8, [5, 7, 1, 4, 2, 8]]"
      ]
     },
     "execution_count": 151,
     "metadata": {},
     "output_type": "execute_result"
    }
   ],
   "source": [
    "list(decimals2(28))"
   ]
  },
  {
   "cell_type": "code",
   "execution_count": 152,
   "metadata": {},
   "outputs": [
    {
     "name": "stdout",
     "output_type": "stream",
     "text": [
      "   Expansion of 1/2:\n",
      "[5]\n",
      "   Expansion of 1/3:\n",
      "[3, [3]]\n",
      "   Expansion of 1/4:\n",
      "[2, 5]\n",
      "   Expansion of 1/5:\n",
      "[2]\n",
      "   Expansion of 1/6:\n",
      "[1, 6, [6]]\n",
      "   Expansion of 1/7:\n",
      "[1, 4, 2, 8, 5, 7, [1, 4, 2, 8, 5, 7]]\n",
      "   Expansion of 1/8:\n",
      "[1, 2, 5]\n",
      "   Expansion of 1/9:\n",
      "[1, [1]]\n",
      "   Expansion of 1/10:\n",
      "[1]\n",
      "   Expansion of 1/11:\n",
      "[0, 9, [0, 9]]\n",
      "   Expansion of 1/12:\n",
      "[0, 8, 3, [3]]\n",
      "   Expansion of 1/13:\n",
      "[0, 7, 6, 9, 2, 3, [0, 7, 6, 9, 2, 3]]\n",
      "   Expansion of 1/14:\n",
      "[0, 7, 1, 4, 2, 8, 5, [7, 1, 4, 2, 8, 5]]\n",
      "   Expansion of 1/15:\n",
      "[0, 6, [6]]\n",
      "   Expansion of 1/16:\n",
      "[0, 6, 2, 5]\n",
      "   Expansion of 1/17:\n",
      "[0, 5, 8, 8, 2, 3, 5, 2, 9, 4, 1, 1, 7, 6, 4, 7, [0, 5, 8, 8, 2, 3, 5, 2, 9, 4,\n",
      "1, 1, 7, 6, 4, 7]]\n",
      "   Expansion of 1/18:\n",
      "[0, 5, [5]]\n",
      "   Expansion of 1/19:\n",
      "[0, 5, 2, 6, 3, 1, 5, 7, 8, 9, 4, 7, 3, 6, 8, 4, 2, 1, [0, 5, 2, 6, 3, 1, 5, 7,\n",
      "8, 9, 4, 7, 3, 6, 8, 4, 2, 1]]\n",
      "   Expansion of 1/20:\n",
      "[0, 5]\n",
      "   Expansion of 1/21:\n",
      "[0, 4, 7, 6, 1, 9, [0, 4, 7, 6, 1, 9]]\n",
      "   Expansion of 1/22:\n",
      "[0, 4, 5, [4, 5]]\n",
      "   Expansion of 1/23:\n",
      "[0, 4, 3, 4, 7, 8, 2, 6, 0, 8, 6, 9, 5, 6, 5, 2, 1, 7, 3, 9, 1, 3, [0, 4, 3, 4,\n",
      "7, 8, 2, 6, 0, 8, 6, 9, 5, 6, 5, 2, 1, 7, 3, 9, 1, 3]]\n",
      "   Expansion of 1/24:\n",
      "[0, 4, 1, 6, [6]]\n",
      "   Expansion of 1/25:\n",
      "[0, 4]\n",
      "   Expansion of 1/26:\n",
      "[0, 3, 8, 4, 6, 1, 5, [3, 8, 4, 6, 1, 5]]\n",
      "   Expansion of 1/27:\n",
      "[0, 3, 7, [0, 3, 7]]\n",
      "   Expansion of 1/28:\n",
      "[0, 3, 5, 7, 1, 4, 2, 8, [5, 7, 1, 4, 2, 8]]\n",
      "   Expansion of 1/29:\n",
      "[0, 3, 4, 4, 8, 2, 7, 5, 8, 6, 2, 0, 6, 8, 9, 6, 5, 5, 1, 7, 2, 4, 1, 3, 7, 9,\n",
      "3, 1, [0, 3, 4, 4, 8, 2, 7, 5, 8, 6, 2, 0, 6, 8, 9, 6, 5, 5, 1, 7, 2, 4, 1, 3,\n",
      "7, 9, 3, 1]]\n"
     ]
    }
   ],
   "source": [
    "import textwrap\n",
    "\n",
    "for j in range(2, 30):\n",
    "    d = list(decimals2(j))\n",
    "    print('   Expansion of 1/' + str(j) + ':')\n",
    "    # textwrap hack needed because lines don't wrap in pdf version\n",
    "    print( textwrap.fill(str(d), 80))\n"
   ]
  },
  {
   "cell_type": "markdown",
   "metadata": {},
   "source": [
    "# Just For fun...\n",
    "- Computing in the Real World - [The Iowa Caucuses](https://www.nytimes.com/2020/02/09/us/politics/iowa-democratic-caucuses.html?action=click&module=Top%20Stories&pgtype=Homepage)\n"
   ]
  },
  {
   "cell_type": "markdown",
   "metadata": {},
   "source": [
    "# An Old Puzzle \n",
    "- this is NOT graded\n",
    "- don't spend more than a few minutes on it\n",
    "\n",
    "```\n",
    "   send\n",
    "   more\n",
    "+ -----\n",
    "  money\n",
    "```\n",
    "\n",
    "- each letter represents a different digit\n",
    "- m,s != 0\n",
    "- m = 1\n",
    "- using brute force, find letter-digit mapping that adds up correctly \n",
    "- hint - str.rjust may be useful\n",
    "- my version is 32 lines\n",
    "- the problem is conceptually simple, but you may find the details tricky\n"
   ]
  },
  {
   "cell_type": "code",
   "execution_count": 36,
   "metadata": {},
   "outputs": [
    {
     "data": {
      "text/plain": [
       "'0000000abc'"
      ]
     },
     "execution_count": 36,
     "metadata": {},
     "output_type": "execute_result"
    }
   ],
   "source": [
    "str.rjust('abc', 10, '0')"
   ]
  }
 ],
 "metadata": {
  "anaconda-cloud": {},
  "kernelspec": {
   "display_name": "Python 3",
   "language": "python",
   "name": "python3"
  },
  "language_info": {
   "codemirror_mode": {
    "name": "ipython",
    "version": 3
   },
   "file_extension": ".py",
   "mimetype": "text/x-python",
   "name": "python",
   "nbconvert_exporter": "python",
   "pygments_lexer": "ipython3",
   "version": "3.7.4"
  },
  "name": "_merged_merged"
 },
 "nbformat": 4,
 "nbformat_minor": 1
}
