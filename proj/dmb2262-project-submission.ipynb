{
 "cells": [
  {
   "cell_type": "markdown",
   "metadata": {},
   "source": [
    "# Project\n",
    "- Work solo or in a two or three person group\n",
    "- Topic should be something interesting and fun for you\n",
    "- Your code should be written in Python 3.7. if for some reason you think you need to use 2.7, talk to me first. at this point, if a module hasn't been converted to 3.X, it probably has been abandoned\n",
    "- Effort roughly equivalent to two homeworks\n",
    "    - perhaps 100-200 lines of code\n",
    "    - sometimes people really get into it, which is fine\n",
    "        - have seen 1,000 line programs, but this is NOT necessary\n",
    "    - do NOT use absolute paths, like '/Users/student/columbia/python/project.ipynb'. just have everything in the same directory, then 'project.ipynb' will work\n",
    "- All I'm really looking for is to see you've learned some Python and can do something with it\n",
    "- Happy to discuss your project with you if you have questions\n",
    "- Please don't do a Hangman game(seen a pile of them)\n",
    "- Some people put their projects on GitHub as a calling card\n",
    "- If you are interested in doing a game, check out [pygame](https://www.pygame.org/docs/) and/or [pyglet](http://pyglet.org). pyglet is newer\n",
    "than pygame, and seems nicer\n",
    "- Fill in this notebook and include it in the zip file you submit"
   ]
  },
  {
   "cell_type": "markdown",
   "metadata": {},
   "source": [
    "# If you did a solo project, fill in this cell\n",
    "\n",
    "```\n",
    "name: David Benson\n",
    "UNI: dmb2262\n",
    "```\n",
    "\n",
    "Submit a zip file named 'yourUNI.zip' to CW2 that includes this notebook, your source, documentation, and data files. The zip must expand into a directory named 'YourUNI', and all your files should be under the YourUNI directory.\n"
   ]
  },
  {
   "cell_type": "markdown",
   "metadata": {},
   "source": [
    "# If you did a project in a group, fill in this cell\n",
    "\n",
    "```\n",
    "name1:\n",
    "UNI1:\n",
    "\n",
    "name2:\n",
    "UNI2:\n",
    "\n",
    "name3:\n",
    "UNI3\n",
    "\n",
    "roughly, who did what:\n",
    "\n",
    "```\n",
    "\n",
    "Each of you should submit the SAME zip file named   \n",
    "'UNI1-UNI2.zip' to CW2. The zip should include this notebook, your source, documentation, and data files. The zip must expand into a directory named 'UNI1-UNI2', and all your files should be under the UNI1-UNI2 directory. three person group use \n",
    "UNI1-UNI2-UNI3\n"
   ]
  },
  {
   "cell_type": "markdown",
   "metadata": {},
   "source": [
    "# What does your project do?\n",
    "My project is a multi mode CLI script that will validate passwords to NIST standards or generate a NIST compliant password for the user. \n",
    "Check (-c --check):\n",
    "* Runs through a set of passwords from a csv file (used a dataset from datacamp - I tried a few from seclists but\n",
    "  I didn't have enough time to clean up those datasets or resolve the bugs with uncleaned datasets). The CLI will accept a path to the file, read the file into a pandas dataframe and perform a set of tests, adding new columns to the dataframe with a pass/fail scores (True/False). In the end it will output the failed passwords to a new csv in the working directory.\n",
    "\n",
    "Password check (-p -pwd):\n",
    "* Takes a password from the CLI arguments and hashes the password using SHA1. A partial hash is then presented to \n",
    "https://api.pwnedpasswords.com/range/\n",
    "* pwnedpasswords returns a response of every hash with the same prefix. The script then checks the user's hash against that list for a match. If a match is found, it's reported to the user. If no match is found, the script performs the same NIST checks as it would a csv file. It will then output the password to a csv with any and all failed checks.\n",
    "\n",
    "Generate new password (-g -gen):\n",
    "* With this option, the script ingests the top 10,000 words for the google english corpus and combines 4 random words into a single password. (https://xkcd.com/936/) providing an easy to remember, high entropy password. The easiest way to meet NIST password compliance!\n",
    "include some screen shots"
   ]
  },
  {
   "cell_type": "markdown",
   "metadata": {},
   "source": [
    "# What modules did you import, if any?\n",
    "\n",
    "import sys\n",
    "import os\n",
    "import pandas as pd\n",
    "import click\n",
    "import random\n",
    "import requests\n",
    "import hashlib\n",
    "import warnings"
   ]
  },
  {
   "cell_type": "markdown",
   "metadata": {},
   "source": [
    "# Attribution\n",
    "\n",
    "give references in this section\n",
    "* user.csv dataset taken from https://learn.datacamp.com/projects/141\n",
    "    * I completed the above linked project as well as several other data science related tutorials on the site to get a better unserstanding of pandas. Several of the tasks around dataframe manipulation were directly relevant to my project. \n",
    "* Hands-on Data Analysis with Pandas by Stefanie Molin\n",
    "    * While no code was taken from this book or the public repos, I have been reading this book for a better understanding of the subject."
   ]
  },
  {
   "cell_type": "markdown",
   "metadata": {},
   "source": [
    "# Explain how we can run your project\n",
    "* All datasets used are included in the zipfile. This is a CLI script so it will have to be run keeping the directory structure intact (for instance, there are wordlists included in the datasets folder. The script will look for a specific file like ./datasets/english_10000.txt. Otherwise, it's a standard CLI script (much like Homework 6) with a --help that explains the 3 options (-pwd, -check, -gen).\n",
    "\n",
    "\n"
   ]
  },
  {
   "cell_type": "markdown",
   "metadata": {},
   "source": [
    "# An evaluation of Python's suitability to your task\n",
    "- Were any problems encountered?\n",
    "* Knowledge around dataframe manipulation was lacking. I wanted to process large datasets but performance would have been terrible without using Pandas. Also, there's quite a bit of input validation missing. for instance, if the user enters a password to be tested that starts with ! or other linux escape char it won't work correctly. I didn't have time to fix this.\n",
    "- Was Python a good fit for your project?\n",
    "    * YES! the Pandas module was invaluable as was the requests module. Performing API queries in C++ would have been much harder than it was in Python. And while C++ may have been better optimized for performing manipulation on large arrays (the dataframes) it would have taken me much longer to write not to mention more headaches with mallocs and memory allocation.  \n",
    "        \n"
   ]
  },
  {
   "cell_type": "code",
   "execution_count": null,
   "metadata": {},
   "outputs": [],
   "source": []
  }
 ],
 "metadata": {
  "kernelspec": {
   "display_name": "Python 3",
   "language": "python",
   "name": "python3"
  },
  "language_info": {
   "codemirror_mode": {
    "name": "ipython",
    "version": 3
   },
   "file_extension": ".py",
   "mimetype": "text/x-python",
   "name": "python",
   "nbconvert_exporter": "python",
   "pygments_lexer": "ipython3",
   "version": "3.7.6"
  }
 },
 "nbformat": 4,
 "nbformat_minor": 1
}
