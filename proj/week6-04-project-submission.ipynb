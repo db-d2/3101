{
 "cells": [
  {
   "cell_type": "markdown",
   "metadata": {},
   "source": [
    "# Project\n",
    "- Work solo or in a two or three person group\n",
    "- Topic should be something interesting and fun for you\n",
    "- Your code should be written in Python 3.7. if for some reason you think you need to use 2.7, talk to me first. at this point, if a module hasn't been converted to 3.X, it probably has been abandoned\n",
    "- Effort roughly equivalent to two homeworks\n",
    "    - perhaps 100-200 lines of code\n",
    "    - sometimes people really get into it, which is fine\n",
    "        - have seen 1,000 line programs, but this is NOT necessary\n",
    "    - do NOT use absolute paths, like '/Users/student/columbia/python/project.ipynb'. just have everything in the same directory, then 'project.ipynb' will work\n",
    "- All I'm really looking for is to see you've learned some Python and can do something with it\n",
    "- Happy to discuss your project with you if you have questions\n",
    "- Please don't do a Hangman game(seen a pile of them)\n",
    "- Some people put their projects on GitHub as a calling card\n",
    "- If you are interested in doing a game, check out [pygame](https://www.pygame.org/docs/) and/or [pyglet](http://pyglet.org). pyglet is newer\n",
    "than pygame, and seems nicer\n",
    "- Fill in this notebook and include it in the zip file you submit"
   ]
  },
  {
   "cell_type": "markdown",
   "metadata": {},
   "source": [
    "# If you did a solo project, fill in this cell\n",
    "\n",
    "```\n",
    "name:\n",
    "UNI: \n",
    "```\n",
    "\n",
    "Submit a zip file named 'yourUNI.zip' to CW2 that includes this notebook, your source, documentation, and data files. The zip must expand into a directory named 'YourUNI', and all your files should be under the YourUNI directory.\n"
   ]
  },
  {
   "cell_type": "markdown",
   "metadata": {},
   "source": [
    "# If you did a project in a group, fill in this cell\n",
    "\n",
    "```\n",
    "name1:\n",
    "UNI1:\n",
    "\n",
    "name2:\n",
    "UNI2:\n",
    "\n",
    "name3:\n",
    "UNI3\n",
    "\n",
    "roughly, who did what:\n",
    "\n",
    "```\n",
    "\n",
    "Each of you should submit the SAME zip file named   \n",
    "'UNI1-UNI2.zip' to CW2. The zip should include this notebook, your source, documentation, and data files. The zip must expand into a directory named 'UNI1-UNI2', and all your files should be under the UNI1-UNI2 directory. three person group use \n",
    "UNI1-UNI2-UNI3\n"
   ]
  },
  {
   "cell_type": "markdown",
   "metadata": {},
   "source": [
    "# What does your project do?\n",
    "- please be clear\n",
    "- try to make your writeup attractive\n",
    "    - include some graphics if possible\n",
    "- If your project has a GUI, or generates graphics,\n",
    "include some screen shots"
   ]
  },
  {
   "cell_type": "markdown",
   "metadata": {},
   "source": [
    "# What modules did you import, if any?\n",
    "\n"
   ]
  },
  {
   "cell_type": "markdown",
   "metadata": {},
   "source": [
    "# Attribution\n",
    "- if you take ideas and/or code from a book or website you must\n",
    "give references in this section\n",
    "    - urls of webpages\n",
    "    - book title/author"
   ]
  },
  {
   "cell_type": "markdown",
   "metadata": {},
   "source": [
    "# Explain how we can run your project\n",
    "- Make sure you include all python and data files\n",
    "- If your project has graphics, include some snapshots\n",
    "- Any documentation should be written in a jupyter notebook\n",
    "    - do NOT submit ASCII/plain text, PDFs, Word files, Markup etc.\n",
    "- If for some reason it is not feasible for us to run your project, make an appointment with Larry to demo it\n",
    "\n",
    "\n"
   ]
  },
  {
   "cell_type": "markdown",
   "metadata": {},
   "source": [
    "# An evaluation of Python's suitability to your task\n",
    "- Were any problems encountered?\n",
    "- Was Python a good fit for your project?\n",
    "    - In retrospect, would you have preferred to use another language for your project - R, Java, Matlab, C++, etc\n",
    "    - Be honest! You don't have to praise Python. I want to hear about your actual experience. \n",
    "        \n"
   ]
  }
 ],
 "metadata": {
  "kernelspec": {
   "display_name": "Python 3",
   "language": "python",
   "name": "python3"
  },
  "language_info": {
   "codemirror_mode": {
    "name": "ipython",
    "version": 3
   },
   "file_extension": ".py",
   "mimetype": "text/x-python",
   "name": "python",
   "nbconvert_exporter": "python",
   "pygments_lexer": "ipython3",
   "version": "3.7.4"
  }
 },
 "nbformat": 4,
 "nbformat_minor": 1
}
